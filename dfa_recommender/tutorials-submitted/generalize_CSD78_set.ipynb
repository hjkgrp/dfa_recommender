{
 "cells": [
  {
   "cell_type": "code",
   "execution_count": 1,
   "metadata": {},
   "outputs": [],
   "source": [
    "import numpy as np\n",
    "import pandas as pd\n",
    "import json\n",
    "import pickle\n",
    "from sklearn.metrics import r2_score, mean_absolute_error\n",
    "from scipy.stats import pearsonr, spearmanr\n",
    "import copy"
   ]
  },
  {
   "cell_type": "markdown",
   "metadata": {},
   "source": [
    "##### load for plotting (with plotly)"
   ]
  },
  {
   "cell_type": "code",
   "execution_count": 2,
   "metadata": {},
   "outputs": [
    {
     "data": {
      "text/html": [
       "        <script type=\"text/javascript\">\n",
       "        window.PlotlyConfig = {MathJaxConfig: 'local'};\n",
       "        if (window.MathJax) {MathJax.Hub.Config({SVG: {font: \"STIX-Web\"}});}\n",
       "        if (typeof require !== 'undefined') {\n",
       "        require.undef(\"plotly\");\n",
       "        requirejs.config({\n",
       "            paths: {\n",
       "                'plotly': ['https://cdn.plot.ly/plotly-2.9.0.min']\n",
       "            }\n",
       "        });\n",
       "        require(['plotly'], function(Plotly) {\n",
       "            window._Plotly = Plotly;\n",
       "        });\n",
       "        }\n",
       "        </script>\n",
       "        "
      ]
     },
     "metadata": {},
     "output_type": "display_data"
    }
   ],
   "source": [
    "from _plotly_future_ import v4_subplots\n",
    "import plotly.graph_objs as go\n",
    "import plotly\n",
    "import plotly.express as px\n",
    "from plotly.offline import download_plotlyjs, init_notebook_mode, plot, iplot\n",
    "import plotly.figure_factory as ff\n",
    "plotly.io.orca.config.executable = '/Users/chenruduan/opt/anaconda3/envs/mols_newplotly/bin/orca'\n",
    "init_notebook_mode(connected=True)\n",
    "glob_layout = go.Layout(\n",
    "    font=dict(family='Helvetica', size=24, color='black'),\n",
    "    margin=dict(l=100, r=10, t=10, b=100),\n",
    "    xaxis=dict(showgrid=False,  zeroline=False, ticks=\"inside\", showline=True,\n",
    "               tickwidth=1.5, linewidth=1.5, ticklen=10, linecolor='black',\n",
    "               mirror=\"allticks\", color=\"black\"),\n",
    "    yaxis=dict(showgrid=False,  zeroline=False, ticks=\"inside\", showline=True,\n",
    "               tickwidth=1.5, linewidth=1.5, ticklen=10, linecolor='black',\n",
    "               mirror=\"allticks\", color=\"black\"),\n",
    "    legend_orientation=\"v\",\n",
    "    paper_bgcolor='rgba(255,255,255,100)',\n",
    "    plot_bgcolor='white',\n",
    ")\n",
    "blue = \"rgba(0, 0, 255, 1)\"\n",
    "red = \"rgba(255, 0, 0, 1)\"\n",
    "green = \"rgba(0, 196, 64, 1)\"\n",
    "gray = \"rgba(140, 140, 140, 1)\""
   ]
  },
  {
   "cell_type": "markdown",
   "metadata": {},
   "source": [
    "##### load for ML parts "
   ]
  },
  {
   "cell_type": "code",
   "execution_count": 3,
   "metadata": {},
   "outputs": [],
   "source": [
    "from dfa_recommender.net import GatedNetwork, MySoftplus, TiledMultiLayerNN, MLP, finalMLP, ElementalGate\n",
    "from dfa_recommender.dataset import SubsetDataset\n",
    "from dfa_recommender.sampler import InfiniteSampler\n",
    "from dfa_recommender.ml_utils import numpy_to_dataset\n",
    "import torch\n",
    "from torch.utils.data import DataLoader"
   ]
  },
  {
   "cell_type": "markdown",
   "metadata": {},
   "source": [
    "##### DFAs that we considered"
   ]
  },
  {
   "cell_type": "code",
   "execution_count": 4,
   "metadata": {},
   "outputs": [],
   "source": [
    "base_keys = [\"name\", \"path\", \"metal\",]\n",
    "functionals = [\n",
    "    \"bp86\", \"blyp\", \"pbe\",\n",
    "    \"tpss\", \"scan\", \"m06-l\", \"mn15-l\",\n",
    "    \"b3p86\", \"b3pw91\", \"b3lyp\",\n",
    "    \"tpssh\", \"scan0\", \"m06\", \"m06-2x\",\n",
    "    \"wb97x\", \"LRC-wPBEh\",\n",
    "    \"b2gpplyp\", \"pbe0-dh\", \"dsd-blyp-d3bj\", \"dsd-pbeb95-d3bj\", \"dsd-pbep86-d3bj\",\n",
    "]\n",
    "functionals23 = copy.deepcopy(functionals)\n",
    "functionals += [\"blyp_hfx_10\", \"blyp_hfx_20\", \"blyp_hfx_30\", \"blyp_hfx_40\", \"blyp_hfx_50\",\n",
    "                \"pbe_hfx_10\", \"pbe_hfx_20\", \"pbe_hfx_30\", \"pbe_hfx_40\", \"pbe_hfx_50\",   \n",
    "                \"scan_hfx_10\", \"scan_hfx_20\", \"scan_hfx_30\", \"scan_hfx_40\", \"scan_hfx_50\", \n",
    "                \"m06-l_hfx_10\", \"m06-l_hfx_30\", \"m06-l_hfx_40\", \"m06-l_hfx_50\", \n",
    "                \"mn15-l_hfx_10\", \"mn15-l_hfx_20\", \"mn15-l_hfx_30\", \"mn15-l_hfx_40\", \"mn15-l_hfx_50\"]\n",
    "all_functionals = copy.deepcopy(functionals)"
   ]
  },
  {
   "cell_type": "markdown",
   "metadata": {},
   "source": [
    "### Predict the veritcal spin-splitting energy on the CSD set"
   ]
  },
  {
   "cell_type": "code",
   "execution_count": 5,
   "metadata": {},
   "outputs": [],
   "source": [
    "torch.set_num_threads(4)\n",
    "torch.manual_seed(0)\n",
    "np.random.seed(0)\n",
    "device = torch.device('cpu')\n",
    "num_workers = 0"
   ]
  },
  {
   "cell_type": "markdown",
   "metadata": {},
   "source": [
    "##### set path for relavant data files: previous model directly tested on the out-of-distribution CSD complexes that have more diverse ligands and connectivities"
   ]
  },
  {
   "cell_type": "code",
   "execution_count": 6,
   "metadata": {},
   "outputs": [],
   "source": [
    "from pkg_resources import resource_filename, Requirement\n",
    "basepath = resource_filename(Requirement.parse(\"dfa_recommender\"), \"/dfa_recommender/data/\")"
   ]
  },
  {
   "cell_type": "code",
   "execution_count": 7,
   "metadata": {},
   "outputs": [
    {
     "name": "stderr",
     "output_type": "stream",
     "text": [
      "/Users/chenruduan/mambaforge/envs/mlp/lib/python3.8/site-packages/sklearn/base.py:329: UserWarning:\n",
      "\n",
      "Trying to unpickle estimator StandardScaler from version 0.24.2 when using version 1.0.2. This might lead to breaking code or invalid results. Use at your own risk. For more info please refer to:\n",
      "https://scikit-learn.org/stable/modules/model_persistence.html#security-maintainability-limitations\n",
      "\n"
     ]
    }
   ],
   "source": [
    "X_csd = pickle.load(open(basepath +  \"/X_csd.pickle\", \"rb\")) ## features \n",
    "df_csd = pd.read_csv(basepath + \"/CSD-76.csv\") ## csv file that stores the compuated vert SSE values at different methods (CSD data)\n",
    "df_org = pd.read_csv(basepath + \"/VSS-452.csv\") ## csv file that stores the compuated vert SSE values at different methods (self-assembled complexes, used in training)\n",
    "y_scalers = pickle.load(open(basepath +  \"/abs-reg-y_scalers.pkl\", \"rb\")) ## sklearn.preprocessing.StandardScaler object created on the stats of training data"
   ]
  },
  {
   "cell_type": "markdown",
   "metadata": {},
   "source": [
    "##### predict |DFA - DLPNO-CCSD(T)| vertical spin splitting"
   ]
  },
  {
   "cell_type": "code",
   "execution_count": 8,
   "metadata": {},
   "outputs": [],
   "source": [
    "import sklearn.preprocessing\n",
    "\n",
    "res_csd = {}\n",
    "mae_dict = {}\n",
    "for f in all_functionals:\n",
    "    bz = 16\n",
    "    \n",
    "    y_t = np.abs(df_csd[\"delta.%s.vertsse\"%f].values)\n",
    "    y_scaler = y_scalers[f]\n",
    "    _y = np.abs(df_org[\"delta.%s.vertsse\"%f].values).reshape(-1,1)\n",
    "    \n",
    "    # y_t = (df_csd[\"delta.%s.vertsse\"%f].values)\n",
    "    # _y = (df_org[\"delta.%s.vertsse\"%f].values).reshape(-1,1)\n",
    "    y_scaler = sklearn.preprocessing.StandardScaler()\n",
    "    y_scaler.fit(_y)\n",
    "    y_t = y_scaler.transform(y_t.reshape(-1, 1)).reshape(-1, )\n",
    "\n",
    "    data_te = numpy_to_dataset(X_csd, y_t, regression=True)\n",
    "    te_l = SubsetDataset(data_te, list(range(len(data_te))))\n",
    "\n",
    "    te_loader = DataLoader(te_l, len(te_l), num_workers=num_workers)\n",
    "    \n",
    "    best_model = pickle.load(open(basepath + \"/models-trends/mergedG10-abs-reg-%s.pkl\"%f, \"rb\"))\n",
    "    best_model.eval()\n",
    "    preds = []\n",
    "    labels = []\n",
    "    with torch.no_grad():\n",
    "        for x, y in te_loader:\n",
    "            _pred = best_model(x.to(device))\n",
    "            preds.append(_pred.cpu().numpy())\n",
    "            labels.append(y.cpu().numpy())\n",
    "    y_t = y_scaler.inverse_transform(labels[0].reshape(-1, 1)).reshape(-1, )\n",
    "    y_hat = y_scaler.inverse_transform(preds[0].reshape(-1, 1)).reshape(-1, )\n",
    "    non_nan_inds = np.where(~np.isnan(y_t))[0]\n",
    "    y_t_super = np.copy(y_t)\n",
    "    _y_t = y_t[non_nan_inds]\n",
    "    _y_hat = y_hat[non_nan_inds]\n",
    "    mae = mean_absolute_error(_y_hat, _y_t)\n",
    "    scaled_mae = mae/(np.max(_y_t) - np.min(_y_t))\n",
    "    R2 = r2_score(_y_t, _y_hat)\n",
    "    rval = pearsonr(_y_t, _y_hat)[0]\n",
    "    res_csd[f + \".y_t\"] = np.abs(y_t)\n",
    "    res_csd[f + \".y_hat\"] = np.abs(y_hat)\n",
    "    res_csd[\"name\"] = df_csd[\"name\"].values\n",
    "    res_csd[\"dlpno.vertsse\"] = df_csd[\"dlpno-CCSD_T.vertsse\"].values"
   ]
  },
  {
   "cell_type": "markdown",
   "metadata": {},
   "source": [
    "### TL model errors"
   ]
  },
  {
   "cell_type": "code",
   "execution_count": 9,
   "metadata": {},
   "outputs": [
    {
     "data": {
      "application/vnd.plotly.v1+json": {
       "config": {
        "linkText": "Export to plot.ly",
        "plotlyServerURL": "https://plot.ly",
        "showLink": false
       },
       "data": [
        {
         "box": {
          "visible": true
         },
         "fillcolor": "lightseagreen",
         "line": {
          "color": "black"
         },
         "meanline": {
          "visible": true
         },
         "opacity": 0.6,
         "pointpos": -1.5,
         "points": "all",
         "text": [
          "bp86",
          "blyp",
          "pbe",
          "tpss",
          "scan",
          "m06-l",
          "mn15-l",
          "b3p86",
          "b3pw91",
          "pbe0",
          "b3lyp",
          "tpssh",
          "scan0",
          "m06",
          "m06-2x",
          "mn15",
          "wb97x",
          "b2gpplyp",
          "pbe0-dh",
          "dsd-blyp-d3bj",
          "dsd-pbeb95-d3bj",
          "dsd-pbep86-d3bj",
          "blyp_hfx_10",
          "blyp_hfx_20",
          "blyp_hfx_30",
          "blyp_hfx_40",
          "blyp_hfx_50",
          "pbe_hfx_10",
          "pbe_hfx_20",
          "pbe_hfx_30",
          "pbe_hfx_40",
          "pbe_hfx_50",
          "scan_hfx_10",
          "scan_hfx_20",
          "scan_hfx_30",
          "scan_hfx_40",
          "scan_hfx_50",
          "m06-l_hfx_10",
          "m06-l_hfx_20",
          "m06-l_hfx_30",
          "m06-l_hfx_40",
          "m06-l_hfx_50",
          "mn15-l_hfx_10",
          "mn15-l_hfx_20",
          "mn15-l_hfx_30",
          "mn15-l_hfx_40",
          "mn15-l_hfx_50"
         ],
         "type": "violin",
         "x0": "TLM",
         "y": [
          4.386016845703125,
          4.430324077606201,
          5.015885829925537,
          4.700486660003662,
          4.826787948608398,
          4.531326770782471,
          5.5266218185424805,
          4.703979969024658,
          4.0332932472229,
          4.312952518463135,
          4.690629959106445,
          5.312873363494873,
          5.599310398101807,
          6.445436000823975,
          3.054469585418701,
          5.464979648590088,
          3.4312527179718018,
          3.9556386470794678,
          3.7728636264801025,
          4.192017078399658,
          4.16542387008667,
          4.541253566741943,
          4.648602485656738,
          4.052404880523682,
          3.3950283527374268,
          3.7072994709014893,
          4.370267868041992,
          3.674750566482544,
          4.249027729034424,
          3.8782126903533936,
          4.5023603439331055,
          3.0799567699432373,
          5.0253448486328125,
          5.365365505218506,
          6.061050891876221,
          4.6958909034729,
          4.556927680969238,
          4.254129886627197,
          3.256648302078247,
          5.734536170959473,
          4.601650238037109,
          6.102778434753418,
          5.162738800048828,
          4.452383518218994,
          5.696861267089844,
          5.015117168426514,
          6.570854663848877
         ]
        }
       ],
       "layout": {
        "boxmode": "group",
        "font": {
         "color": "black",
         "family": "Helvetica",
         "size": 24
        },
        "height": 500,
        "legend": {
         "orientation": "v"
        },
        "margin": {
         "b": 100,
         "l": 100,
         "r": 10,
         "t": 10
        },
        "paper_bgcolor": "rgba(255,255,255,100)",
        "plot_bgcolor": "white",
        "template": {
         "data": {
          "bar": [
           {
            "error_x": {
             "color": "#2a3f5f"
            },
            "error_y": {
             "color": "#2a3f5f"
            },
            "marker": {
             "line": {
              "color": "#E5ECF6",
              "width": 0.5
             },
             "pattern": {
              "fillmode": "overlay",
              "size": 10,
              "solidity": 0.2
             }
            },
            "type": "bar"
           }
          ],
          "barpolar": [
           {
            "marker": {
             "line": {
              "color": "#E5ECF6",
              "width": 0.5
             },
             "pattern": {
              "fillmode": "overlay",
              "size": 10,
              "solidity": 0.2
             }
            },
            "type": "barpolar"
           }
          ],
          "carpet": [
           {
            "aaxis": {
             "endlinecolor": "#2a3f5f",
             "gridcolor": "white",
             "linecolor": "white",
             "minorgridcolor": "white",
             "startlinecolor": "#2a3f5f"
            },
            "baxis": {
             "endlinecolor": "#2a3f5f",
             "gridcolor": "white",
             "linecolor": "white",
             "minorgridcolor": "white",
             "startlinecolor": "#2a3f5f"
            },
            "type": "carpet"
           }
          ],
          "choropleth": [
           {
            "colorbar": {
             "outlinewidth": 0,
             "ticks": ""
            },
            "type": "choropleth"
           }
          ],
          "contour": [
           {
            "colorbar": {
             "outlinewidth": 0,
             "ticks": ""
            },
            "colorscale": [
             [
              0,
              "#0d0887"
             ],
             [
              0.1111111111111111,
              "#46039f"
             ],
             [
              0.2222222222222222,
              "#7201a8"
             ],
             [
              0.3333333333333333,
              "#9c179e"
             ],
             [
              0.4444444444444444,
              "#bd3786"
             ],
             [
              0.5555555555555556,
              "#d8576b"
             ],
             [
              0.6666666666666666,
              "#ed7953"
             ],
             [
              0.7777777777777778,
              "#fb9f3a"
             ],
             [
              0.8888888888888888,
              "#fdca26"
             ],
             [
              1,
              "#f0f921"
             ]
            ],
            "type": "contour"
           }
          ],
          "contourcarpet": [
           {
            "colorbar": {
             "outlinewidth": 0,
             "ticks": ""
            },
            "type": "contourcarpet"
           }
          ],
          "heatmap": [
           {
            "colorbar": {
             "outlinewidth": 0,
             "ticks": ""
            },
            "colorscale": [
             [
              0,
              "#0d0887"
             ],
             [
              0.1111111111111111,
              "#46039f"
             ],
             [
              0.2222222222222222,
              "#7201a8"
             ],
             [
              0.3333333333333333,
              "#9c179e"
             ],
             [
              0.4444444444444444,
              "#bd3786"
             ],
             [
              0.5555555555555556,
              "#d8576b"
             ],
             [
              0.6666666666666666,
              "#ed7953"
             ],
             [
              0.7777777777777778,
              "#fb9f3a"
             ],
             [
              0.8888888888888888,
              "#fdca26"
             ],
             [
              1,
              "#f0f921"
             ]
            ],
            "type": "heatmap"
           }
          ],
          "heatmapgl": [
           {
            "colorbar": {
             "outlinewidth": 0,
             "ticks": ""
            },
            "colorscale": [
             [
              0,
              "#0d0887"
             ],
             [
              0.1111111111111111,
              "#46039f"
             ],
             [
              0.2222222222222222,
              "#7201a8"
             ],
             [
              0.3333333333333333,
              "#9c179e"
             ],
             [
              0.4444444444444444,
              "#bd3786"
             ],
             [
              0.5555555555555556,
              "#d8576b"
             ],
             [
              0.6666666666666666,
              "#ed7953"
             ],
             [
              0.7777777777777778,
              "#fb9f3a"
             ],
             [
              0.8888888888888888,
              "#fdca26"
             ],
             [
              1,
              "#f0f921"
             ]
            ],
            "type": "heatmapgl"
           }
          ],
          "histogram": [
           {
            "marker": {
             "pattern": {
              "fillmode": "overlay",
              "size": 10,
              "solidity": 0.2
             }
            },
            "type": "histogram"
           }
          ],
          "histogram2d": [
           {
            "colorbar": {
             "outlinewidth": 0,
             "ticks": ""
            },
            "colorscale": [
             [
              0,
              "#0d0887"
             ],
             [
              0.1111111111111111,
              "#46039f"
             ],
             [
              0.2222222222222222,
              "#7201a8"
             ],
             [
              0.3333333333333333,
              "#9c179e"
             ],
             [
              0.4444444444444444,
              "#bd3786"
             ],
             [
              0.5555555555555556,
              "#d8576b"
             ],
             [
              0.6666666666666666,
              "#ed7953"
             ],
             [
              0.7777777777777778,
              "#fb9f3a"
             ],
             [
              0.8888888888888888,
              "#fdca26"
             ],
             [
              1,
              "#f0f921"
             ]
            ],
            "type": "histogram2d"
           }
          ],
          "histogram2dcontour": [
           {
            "colorbar": {
             "outlinewidth": 0,
             "ticks": ""
            },
            "colorscale": [
             [
              0,
              "#0d0887"
             ],
             [
              0.1111111111111111,
              "#46039f"
             ],
             [
              0.2222222222222222,
              "#7201a8"
             ],
             [
              0.3333333333333333,
              "#9c179e"
             ],
             [
              0.4444444444444444,
              "#bd3786"
             ],
             [
              0.5555555555555556,
              "#d8576b"
             ],
             [
              0.6666666666666666,
              "#ed7953"
             ],
             [
              0.7777777777777778,
              "#fb9f3a"
             ],
             [
              0.8888888888888888,
              "#fdca26"
             ],
             [
              1,
              "#f0f921"
             ]
            ],
            "type": "histogram2dcontour"
           }
          ],
          "mesh3d": [
           {
            "colorbar": {
             "outlinewidth": 0,
             "ticks": ""
            },
            "type": "mesh3d"
           }
          ],
          "parcoords": [
           {
            "line": {
             "colorbar": {
              "outlinewidth": 0,
              "ticks": ""
             }
            },
            "type": "parcoords"
           }
          ],
          "pie": [
           {
            "automargin": true,
            "type": "pie"
           }
          ],
          "scatter": [
           {
            "marker": {
             "colorbar": {
              "outlinewidth": 0,
              "ticks": ""
             }
            },
            "type": "scatter"
           }
          ],
          "scatter3d": [
           {
            "line": {
             "colorbar": {
              "outlinewidth": 0,
              "ticks": ""
             }
            },
            "marker": {
             "colorbar": {
              "outlinewidth": 0,
              "ticks": ""
             }
            },
            "type": "scatter3d"
           }
          ],
          "scattercarpet": [
           {
            "marker": {
             "colorbar": {
              "outlinewidth": 0,
              "ticks": ""
             }
            },
            "type": "scattercarpet"
           }
          ],
          "scattergeo": [
           {
            "marker": {
             "colorbar": {
              "outlinewidth": 0,
              "ticks": ""
             }
            },
            "type": "scattergeo"
           }
          ],
          "scattergl": [
           {
            "marker": {
             "colorbar": {
              "outlinewidth": 0,
              "ticks": ""
             }
            },
            "type": "scattergl"
           }
          ],
          "scattermapbox": [
           {
            "marker": {
             "colorbar": {
              "outlinewidth": 0,
              "ticks": ""
             }
            },
            "type": "scattermapbox"
           }
          ],
          "scatterpolar": [
           {
            "marker": {
             "colorbar": {
              "outlinewidth": 0,
              "ticks": ""
             }
            },
            "type": "scatterpolar"
           }
          ],
          "scatterpolargl": [
           {
            "marker": {
             "colorbar": {
              "outlinewidth": 0,
              "ticks": ""
             }
            },
            "type": "scatterpolargl"
           }
          ],
          "scatterternary": [
           {
            "marker": {
             "colorbar": {
              "outlinewidth": 0,
              "ticks": ""
             }
            },
            "type": "scatterternary"
           }
          ],
          "surface": [
           {
            "colorbar": {
             "outlinewidth": 0,
             "ticks": ""
            },
            "colorscale": [
             [
              0,
              "#0d0887"
             ],
             [
              0.1111111111111111,
              "#46039f"
             ],
             [
              0.2222222222222222,
              "#7201a8"
             ],
             [
              0.3333333333333333,
              "#9c179e"
             ],
             [
              0.4444444444444444,
              "#bd3786"
             ],
             [
              0.5555555555555556,
              "#d8576b"
             ],
             [
              0.6666666666666666,
              "#ed7953"
             ],
             [
              0.7777777777777778,
              "#fb9f3a"
             ],
             [
              0.8888888888888888,
              "#fdca26"
             ],
             [
              1,
              "#f0f921"
             ]
            ],
            "type": "surface"
           }
          ],
          "table": [
           {
            "cells": {
             "fill": {
              "color": "#EBF0F8"
             },
             "line": {
              "color": "white"
             }
            },
            "header": {
             "fill": {
              "color": "#C8D4E3"
             },
             "line": {
              "color": "white"
             }
            },
            "type": "table"
           }
          ]
         },
         "layout": {
          "annotationdefaults": {
           "arrowcolor": "#2a3f5f",
           "arrowhead": 0,
           "arrowwidth": 1
          },
          "autotypenumbers": "strict",
          "coloraxis": {
           "colorbar": {
            "outlinewidth": 0,
            "ticks": ""
           }
          },
          "colorscale": {
           "diverging": [
            [
             0,
             "#8e0152"
            ],
            [
             0.1,
             "#c51b7d"
            ],
            [
             0.2,
             "#de77ae"
            ],
            [
             0.3,
             "#f1b6da"
            ],
            [
             0.4,
             "#fde0ef"
            ],
            [
             0.5,
             "#f7f7f7"
            ],
            [
             0.6,
             "#e6f5d0"
            ],
            [
             0.7,
             "#b8e186"
            ],
            [
             0.8,
             "#7fbc41"
            ],
            [
             0.9,
             "#4d9221"
            ],
            [
             1,
             "#276419"
            ]
           ],
           "sequential": [
            [
             0,
             "#0d0887"
            ],
            [
             0.1111111111111111,
             "#46039f"
            ],
            [
             0.2222222222222222,
             "#7201a8"
            ],
            [
             0.3333333333333333,
             "#9c179e"
            ],
            [
             0.4444444444444444,
             "#bd3786"
            ],
            [
             0.5555555555555556,
             "#d8576b"
            ],
            [
             0.6666666666666666,
             "#ed7953"
            ],
            [
             0.7777777777777778,
             "#fb9f3a"
            ],
            [
             0.8888888888888888,
             "#fdca26"
            ],
            [
             1,
             "#f0f921"
            ]
           ],
           "sequentialminus": [
            [
             0,
             "#0d0887"
            ],
            [
             0.1111111111111111,
             "#46039f"
            ],
            [
             0.2222222222222222,
             "#7201a8"
            ],
            [
             0.3333333333333333,
             "#9c179e"
            ],
            [
             0.4444444444444444,
             "#bd3786"
            ],
            [
             0.5555555555555556,
             "#d8576b"
            ],
            [
             0.6666666666666666,
             "#ed7953"
            ],
            [
             0.7777777777777778,
             "#fb9f3a"
            ],
            [
             0.8888888888888888,
             "#fdca26"
            ],
            [
             1,
             "#f0f921"
            ]
           ]
          },
          "colorway": [
           "#636efa",
           "#EF553B",
           "#00cc96",
           "#ab63fa",
           "#FFA15A",
           "#19d3f3",
           "#FF6692",
           "#B6E880",
           "#FF97FF",
           "#FECB52"
          ],
          "font": {
           "color": "#2a3f5f"
          },
          "geo": {
           "bgcolor": "white",
           "lakecolor": "white",
           "landcolor": "#E5ECF6",
           "showlakes": true,
           "showland": true,
           "subunitcolor": "white"
          },
          "hoverlabel": {
           "align": "left"
          },
          "hovermode": "closest",
          "mapbox": {
           "style": "light"
          },
          "paper_bgcolor": "white",
          "plot_bgcolor": "#E5ECF6",
          "polar": {
           "angularaxis": {
            "gridcolor": "white",
            "linecolor": "white",
            "ticks": ""
           },
           "bgcolor": "#E5ECF6",
           "radialaxis": {
            "gridcolor": "white",
            "linecolor": "white",
            "ticks": ""
           }
          },
          "scene": {
           "xaxis": {
            "backgroundcolor": "#E5ECF6",
            "gridcolor": "white",
            "gridwidth": 2,
            "linecolor": "white",
            "showbackground": true,
            "ticks": "",
            "zerolinecolor": "white"
           },
           "yaxis": {
            "backgroundcolor": "#E5ECF6",
            "gridcolor": "white",
            "gridwidth": 2,
            "linecolor": "white",
            "showbackground": true,
            "ticks": "",
            "zerolinecolor": "white"
           },
           "zaxis": {
            "backgroundcolor": "#E5ECF6",
            "gridcolor": "white",
            "gridwidth": 2,
            "linecolor": "white",
            "showbackground": true,
            "ticks": "",
            "zerolinecolor": "white"
           }
          },
          "shapedefaults": {
           "line": {
            "color": "#2a3f5f"
           }
          },
          "ternary": {
           "aaxis": {
            "gridcolor": "white",
            "linecolor": "white",
            "ticks": ""
           },
           "baxis": {
            "gridcolor": "white",
            "linecolor": "white",
            "ticks": ""
           },
           "bgcolor": "#E5ECF6",
           "caxis": {
            "gridcolor": "white",
            "linecolor": "white",
            "ticks": ""
           }
          },
          "title": {
           "x": 0.05
          },
          "xaxis": {
           "automargin": true,
           "gridcolor": "white",
           "linecolor": "white",
           "ticks": "",
           "title": {
            "standoff": 15
           },
           "zerolinecolor": "white",
           "zerolinewidth": 2
          },
          "yaxis": {
           "automargin": true,
           "gridcolor": "white",
           "linecolor": "white",
           "ticks": "",
           "title": {
            "standoff": 15
           },
           "zerolinecolor": "white",
           "zerolinewidth": 2
          }
         }
        },
        "width": 500,
        "xaxis": {
         "color": "black",
         "linecolor": "black",
         "linewidth": 1.5,
         "mirror": "allticks",
         "range": [
          -0.6,
          0.4
         ],
         "showgrid": false,
         "showline": true,
         "ticklen": 10,
         "ticks": "inside",
         "tickwidth": 1.5,
         "zeroline": false
        },
        "yaxis": {
         "color": "black",
         "linecolor": "black",
         "linewidth": 1.5,
         "mirror": "allticks",
         "range": [
          2,
          8
         ],
         "showgrid": false,
         "showline": true,
         "ticklen": 10,
         "ticks": "inside",
         "tickwidth": 1.5,
         "title": {
          "text": "MAE (kcal/mol)"
         },
         "zeroline": false
        }
       }
      },
      "text/html": [
       "<div>                            <div id=\"d3848866-be9f-4cba-8ee1-dc235bacc954\" class=\"plotly-graph-div\" style=\"height:500px; width:500px;\"></div>            <script type=\"text/javascript\">                require([\"plotly\"], function(Plotly) {                    window.PLOTLYENV=window.PLOTLYENV || {};                                    if (document.getElementById(\"d3848866-be9f-4cba-8ee1-dc235bacc954\")) {                    Plotly.newPlot(                        \"d3848866-be9f-4cba-8ee1-dc235bacc954\",                        [{\"box\":{\"visible\":true},\"fillcolor\":\"lightseagreen\",\"line\":{\"color\":\"black\"},\"meanline\":{\"visible\":true},\"opacity\":0.6,\"pointpos\":-1.5,\"points\":\"all\",\"text\":[\"bp86\",\"blyp\",\"pbe\",\"tpss\",\"scan\",\"m06-l\",\"mn15-l\",\"b3p86\",\"b3pw91\",\"pbe0\",\"b3lyp\",\"tpssh\",\"scan0\",\"m06\",\"m06-2x\",\"mn15\",\"wb97x\",\"b2gpplyp\",\"pbe0-dh\",\"dsd-blyp-d3bj\",\"dsd-pbeb95-d3bj\",\"dsd-pbep86-d3bj\",\"blyp_hfx_10\",\"blyp_hfx_20\",\"blyp_hfx_30\",\"blyp_hfx_40\",\"blyp_hfx_50\",\"pbe_hfx_10\",\"pbe_hfx_20\",\"pbe_hfx_30\",\"pbe_hfx_40\",\"pbe_hfx_50\",\"scan_hfx_10\",\"scan_hfx_20\",\"scan_hfx_30\",\"scan_hfx_40\",\"scan_hfx_50\",\"m06-l_hfx_10\",\"m06-l_hfx_20\",\"m06-l_hfx_30\",\"m06-l_hfx_40\",\"m06-l_hfx_50\",\"mn15-l_hfx_10\",\"mn15-l_hfx_20\",\"mn15-l_hfx_30\",\"mn15-l_hfx_40\",\"mn15-l_hfx_50\"],\"x0\":\"TLM\",\"y\":[4.386016845703125,4.430324077606201,5.015885829925537,4.700486660003662,4.826787948608398,4.531326770782471,5.5266218185424805,4.703979969024658,4.0332932472229,4.312952518463135,4.690629959106445,5.312873363494873,5.599310398101807,6.445436000823975,3.054469585418701,5.464979648590088,3.4312527179718018,3.9556386470794678,3.7728636264801025,4.192017078399658,4.16542387008667,4.541253566741943,4.648602485656738,4.052404880523682,3.3950283527374268,3.7072994709014893,4.370267868041992,3.674750566482544,4.249027729034424,3.8782126903533936,4.5023603439331055,3.0799567699432373,5.0253448486328125,5.365365505218506,6.061050891876221,4.6958909034729,4.556927680969238,4.254129886627197,3.256648302078247,5.734536170959473,4.601650238037109,6.102778434753418,5.162738800048828,4.452383518218994,5.696861267089844,5.015117168426514,6.570854663848877],\"type\":\"violin\"}],                        {\"boxmode\":\"group\",\"font\":{\"color\":\"black\",\"family\":\"Helvetica\",\"size\":24},\"height\":500,\"legend\":{\"orientation\":\"v\"},\"margin\":{\"b\":100,\"l\":100,\"r\":10,\"t\":10},\"paper_bgcolor\":\"rgba(255,255,255,100)\",\"plot_bgcolor\":\"white\",\"template\":{\"data\":{\"barpolar\":[{\"marker\":{\"line\":{\"color\":\"#E5ECF6\",\"width\":0.5},\"pattern\":{\"fillmode\":\"overlay\",\"size\":10,\"solidity\":0.2}},\"type\":\"barpolar\"}],\"bar\":[{\"error_x\":{\"color\":\"#2a3f5f\"},\"error_y\":{\"color\":\"#2a3f5f\"},\"marker\":{\"line\":{\"color\":\"#E5ECF6\",\"width\":0.5},\"pattern\":{\"fillmode\":\"overlay\",\"size\":10,\"solidity\":0.2}},\"type\":\"bar\"}],\"carpet\":[{\"aaxis\":{\"endlinecolor\":\"#2a3f5f\",\"gridcolor\":\"white\",\"linecolor\":\"white\",\"minorgridcolor\":\"white\",\"startlinecolor\":\"#2a3f5f\"},\"baxis\":{\"endlinecolor\":\"#2a3f5f\",\"gridcolor\":\"white\",\"linecolor\":\"white\",\"minorgridcolor\":\"white\",\"startlinecolor\":\"#2a3f5f\"},\"type\":\"carpet\"}],\"choropleth\":[{\"colorbar\":{\"outlinewidth\":0,\"ticks\":\"\"},\"type\":\"choropleth\"}],\"contourcarpet\":[{\"colorbar\":{\"outlinewidth\":0,\"ticks\":\"\"},\"type\":\"contourcarpet\"}],\"contour\":[{\"colorbar\":{\"outlinewidth\":0,\"ticks\":\"\"},\"colorscale\":[[0.0,\"#0d0887\"],[0.1111111111111111,\"#46039f\"],[0.2222222222222222,\"#7201a8\"],[0.3333333333333333,\"#9c179e\"],[0.4444444444444444,\"#bd3786\"],[0.5555555555555556,\"#d8576b\"],[0.6666666666666666,\"#ed7953\"],[0.7777777777777778,\"#fb9f3a\"],[0.8888888888888888,\"#fdca26\"],[1.0,\"#f0f921\"]],\"type\":\"contour\"}],\"heatmapgl\":[{\"colorbar\":{\"outlinewidth\":0,\"ticks\":\"\"},\"colorscale\":[[0.0,\"#0d0887\"],[0.1111111111111111,\"#46039f\"],[0.2222222222222222,\"#7201a8\"],[0.3333333333333333,\"#9c179e\"],[0.4444444444444444,\"#bd3786\"],[0.5555555555555556,\"#d8576b\"],[0.6666666666666666,\"#ed7953\"],[0.7777777777777778,\"#fb9f3a\"],[0.8888888888888888,\"#fdca26\"],[1.0,\"#f0f921\"]],\"type\":\"heatmapgl\"}],\"heatmap\":[{\"colorbar\":{\"outlinewidth\":0,\"ticks\":\"\"},\"colorscale\":[[0.0,\"#0d0887\"],[0.1111111111111111,\"#46039f\"],[0.2222222222222222,\"#7201a8\"],[0.3333333333333333,\"#9c179e\"],[0.4444444444444444,\"#bd3786\"],[0.5555555555555556,\"#d8576b\"],[0.6666666666666666,\"#ed7953\"],[0.7777777777777778,\"#fb9f3a\"],[0.8888888888888888,\"#fdca26\"],[1.0,\"#f0f921\"]],\"type\":\"heatmap\"}],\"histogram2dcontour\":[{\"colorbar\":{\"outlinewidth\":0,\"ticks\":\"\"},\"colorscale\":[[0.0,\"#0d0887\"],[0.1111111111111111,\"#46039f\"],[0.2222222222222222,\"#7201a8\"],[0.3333333333333333,\"#9c179e\"],[0.4444444444444444,\"#bd3786\"],[0.5555555555555556,\"#d8576b\"],[0.6666666666666666,\"#ed7953\"],[0.7777777777777778,\"#fb9f3a\"],[0.8888888888888888,\"#fdca26\"],[1.0,\"#f0f921\"]],\"type\":\"histogram2dcontour\"}],\"histogram2d\":[{\"colorbar\":{\"outlinewidth\":0,\"ticks\":\"\"},\"colorscale\":[[0.0,\"#0d0887\"],[0.1111111111111111,\"#46039f\"],[0.2222222222222222,\"#7201a8\"],[0.3333333333333333,\"#9c179e\"],[0.4444444444444444,\"#bd3786\"],[0.5555555555555556,\"#d8576b\"],[0.6666666666666666,\"#ed7953\"],[0.7777777777777778,\"#fb9f3a\"],[0.8888888888888888,\"#fdca26\"],[1.0,\"#f0f921\"]],\"type\":\"histogram2d\"}],\"histogram\":[{\"marker\":{\"pattern\":{\"fillmode\":\"overlay\",\"size\":10,\"solidity\":0.2}},\"type\":\"histogram\"}],\"mesh3d\":[{\"colorbar\":{\"outlinewidth\":0,\"ticks\":\"\"},\"type\":\"mesh3d\"}],\"parcoords\":[{\"line\":{\"colorbar\":{\"outlinewidth\":0,\"ticks\":\"\"}},\"type\":\"parcoords\"}],\"pie\":[{\"automargin\":true,\"type\":\"pie\"}],\"scatter3d\":[{\"line\":{\"colorbar\":{\"outlinewidth\":0,\"ticks\":\"\"}},\"marker\":{\"colorbar\":{\"outlinewidth\":0,\"ticks\":\"\"}},\"type\":\"scatter3d\"}],\"scattercarpet\":[{\"marker\":{\"colorbar\":{\"outlinewidth\":0,\"ticks\":\"\"}},\"type\":\"scattercarpet\"}],\"scattergeo\":[{\"marker\":{\"colorbar\":{\"outlinewidth\":0,\"ticks\":\"\"}},\"type\":\"scattergeo\"}],\"scattergl\":[{\"marker\":{\"colorbar\":{\"outlinewidth\":0,\"ticks\":\"\"}},\"type\":\"scattergl\"}],\"scattermapbox\":[{\"marker\":{\"colorbar\":{\"outlinewidth\":0,\"ticks\":\"\"}},\"type\":\"scattermapbox\"}],\"scatterpolargl\":[{\"marker\":{\"colorbar\":{\"outlinewidth\":0,\"ticks\":\"\"}},\"type\":\"scatterpolargl\"}],\"scatterpolar\":[{\"marker\":{\"colorbar\":{\"outlinewidth\":0,\"ticks\":\"\"}},\"type\":\"scatterpolar\"}],\"scatter\":[{\"marker\":{\"colorbar\":{\"outlinewidth\":0,\"ticks\":\"\"}},\"type\":\"scatter\"}],\"scatterternary\":[{\"marker\":{\"colorbar\":{\"outlinewidth\":0,\"ticks\":\"\"}},\"type\":\"scatterternary\"}],\"surface\":[{\"colorbar\":{\"outlinewidth\":0,\"ticks\":\"\"},\"colorscale\":[[0.0,\"#0d0887\"],[0.1111111111111111,\"#46039f\"],[0.2222222222222222,\"#7201a8\"],[0.3333333333333333,\"#9c179e\"],[0.4444444444444444,\"#bd3786\"],[0.5555555555555556,\"#d8576b\"],[0.6666666666666666,\"#ed7953\"],[0.7777777777777778,\"#fb9f3a\"],[0.8888888888888888,\"#fdca26\"],[1.0,\"#f0f921\"]],\"type\":\"surface\"}],\"table\":[{\"cells\":{\"fill\":{\"color\":\"#EBF0F8\"},\"line\":{\"color\":\"white\"}},\"header\":{\"fill\":{\"color\":\"#C8D4E3\"},\"line\":{\"color\":\"white\"}},\"type\":\"table\"}]},\"layout\":{\"annotationdefaults\":{\"arrowcolor\":\"#2a3f5f\",\"arrowhead\":0,\"arrowwidth\":1},\"autotypenumbers\":\"strict\",\"coloraxis\":{\"colorbar\":{\"outlinewidth\":0,\"ticks\":\"\"}},\"colorscale\":{\"diverging\":[[0,\"#8e0152\"],[0.1,\"#c51b7d\"],[0.2,\"#de77ae\"],[0.3,\"#f1b6da\"],[0.4,\"#fde0ef\"],[0.5,\"#f7f7f7\"],[0.6,\"#e6f5d0\"],[0.7,\"#b8e186\"],[0.8,\"#7fbc41\"],[0.9,\"#4d9221\"],[1,\"#276419\"]],\"sequential\":[[0.0,\"#0d0887\"],[0.1111111111111111,\"#46039f\"],[0.2222222222222222,\"#7201a8\"],[0.3333333333333333,\"#9c179e\"],[0.4444444444444444,\"#bd3786\"],[0.5555555555555556,\"#d8576b\"],[0.6666666666666666,\"#ed7953\"],[0.7777777777777778,\"#fb9f3a\"],[0.8888888888888888,\"#fdca26\"],[1.0,\"#f0f921\"]],\"sequentialminus\":[[0.0,\"#0d0887\"],[0.1111111111111111,\"#46039f\"],[0.2222222222222222,\"#7201a8\"],[0.3333333333333333,\"#9c179e\"],[0.4444444444444444,\"#bd3786\"],[0.5555555555555556,\"#d8576b\"],[0.6666666666666666,\"#ed7953\"],[0.7777777777777778,\"#fb9f3a\"],[0.8888888888888888,\"#fdca26\"],[1.0,\"#f0f921\"]]},\"colorway\":[\"#636efa\",\"#EF553B\",\"#00cc96\",\"#ab63fa\",\"#FFA15A\",\"#19d3f3\",\"#FF6692\",\"#B6E880\",\"#FF97FF\",\"#FECB52\"],\"font\":{\"color\":\"#2a3f5f\"},\"geo\":{\"bgcolor\":\"white\",\"lakecolor\":\"white\",\"landcolor\":\"#E5ECF6\",\"showlakes\":true,\"showland\":true,\"subunitcolor\":\"white\"},\"hoverlabel\":{\"align\":\"left\"},\"hovermode\":\"closest\",\"mapbox\":{\"style\":\"light\"},\"paper_bgcolor\":\"white\",\"plot_bgcolor\":\"#E5ECF6\",\"polar\":{\"angularaxis\":{\"gridcolor\":\"white\",\"linecolor\":\"white\",\"ticks\":\"\"},\"bgcolor\":\"#E5ECF6\",\"radialaxis\":{\"gridcolor\":\"white\",\"linecolor\":\"white\",\"ticks\":\"\"}},\"scene\":{\"xaxis\":{\"backgroundcolor\":\"#E5ECF6\",\"gridcolor\":\"white\",\"gridwidth\":2,\"linecolor\":\"white\",\"showbackground\":true,\"ticks\":\"\",\"zerolinecolor\":\"white\"},\"yaxis\":{\"backgroundcolor\":\"#E5ECF6\",\"gridcolor\":\"white\",\"gridwidth\":2,\"linecolor\":\"white\",\"showbackground\":true,\"ticks\":\"\",\"zerolinecolor\":\"white\"},\"zaxis\":{\"backgroundcolor\":\"#E5ECF6\",\"gridcolor\":\"white\",\"gridwidth\":2,\"linecolor\":\"white\",\"showbackground\":true,\"ticks\":\"\",\"zerolinecolor\":\"white\"}},\"shapedefaults\":{\"line\":{\"color\":\"#2a3f5f\"}},\"ternary\":{\"aaxis\":{\"gridcolor\":\"white\",\"linecolor\":\"white\",\"ticks\":\"\"},\"baxis\":{\"gridcolor\":\"white\",\"linecolor\":\"white\",\"ticks\":\"\"},\"bgcolor\":\"#E5ECF6\",\"caxis\":{\"gridcolor\":\"white\",\"linecolor\":\"white\",\"ticks\":\"\"}},\"title\":{\"x\":0.05},\"xaxis\":{\"automargin\":true,\"gridcolor\":\"white\",\"linecolor\":\"white\",\"ticks\":\"\",\"title\":{\"standoff\":15},\"zerolinecolor\":\"white\",\"zerolinewidth\":2},\"yaxis\":{\"automargin\":true,\"gridcolor\":\"white\",\"linecolor\":\"white\",\"ticks\":\"\",\"title\":{\"standoff\":15},\"zerolinecolor\":\"white\",\"zerolinewidth\":2}}},\"width\":500,\"xaxis\":{\"color\":\"black\",\"linecolor\":\"black\",\"linewidth\":1.5,\"mirror\":\"allticks\",\"range\":[-0.6,0.4],\"showgrid\":false,\"showline\":true,\"ticklen\":10,\"ticks\":\"inside\",\"tickwidth\":1.5,\"zeroline\":false},\"yaxis\":{\"color\":\"black\",\"linecolor\":\"black\",\"linewidth\":1.5,\"mirror\":\"allticks\",\"range\":[2,8],\"showgrid\":false,\"showline\":true,\"ticklen\":10,\"ticks\":\"inside\",\"tickwidth\":1.5,\"title\":{\"text\":\"MAE (kcal/mol)\"},\"zeroline\":false}},                        {\"responsive\": true}                    ).then(function(){\n",
       "                            \n",
       "var gd = document.getElementById('d3848866-be9f-4cba-8ee1-dc235bacc954');\n",
       "var x = new MutationObserver(function (mutations, observer) {{\n",
       "        var display = window.getComputedStyle(gd).display;\n",
       "        if (!display || display === 'none') {{\n",
       "            console.log([gd, 'removed!']);\n",
       "            Plotly.purge(gd);\n",
       "            observer.disconnect();\n",
       "        }}\n",
       "}});\n",
       "\n",
       "// Listen for the removal of the full notebook cells\n",
       "var notebookContainer = gd.closest('#notebook-container');\n",
       "if (notebookContainer) {{\n",
       "    x.observe(notebookContainer, {childList: true});\n",
       "}}\n",
       "\n",
       "// Listen for the clearing of the current output cell\n",
       "var outputEl = gd.closest('.output');\n",
       "if (outputEl) {{\n",
       "    x.observe(outputEl, {childList: true});\n",
       "}}\n",
       "\n",
       "                        })                };                });            </script>        </div>"
      ]
     },
     "metadata": {},
     "output_type": "display_data"
    }
   ],
   "source": [
    "mae_dict = json.load(open(\"./csd_mae_reg_mergedG10.json\", \"r\"))\n",
    "data=go.Violin(\n",
    "    y=list(mae_dict.values()),\n",
    "    box_visible=True,\n",
    "    line_color='black',\n",
    "    meanline_visible=True, \n",
    "    fillcolor='lightseagreen',\n",
    "    pointpos=-1.5,\n",
    "    points=\"all\",\n",
    "    opacity=0.6,\n",
    "    x0='TLM',\n",
    "    text=list(mae_dict.keys()),\n",
    "    )\n",
    "layout = go.Layout()\n",
    "layout.update(glob_layout)\n",
    "layout[\"xaxis\"].update({'range': [-0.6, 0.4]})\n",
    "layout[\"yaxis\"].update({'title': \"MAE (kcal/mol)\", \"range\": [2, 8]})\n",
    "layout.update(width=500, height=500, boxmode='group')\n",
    "fig = dict(data=data, layout=layout)\n",
    "iplot(fig)"
   ]
  },
  {
   "cell_type": "code",
   "execution_count": 10,
   "metadata": {},
   "outputs": [
    {
     "data": {
      "application/vnd.plotly.v1+json": {
       "config": {
        "linkText": "Export to plot.ly",
        "plotlyServerURL": "https://plot.ly",
        "showLink": false
       },
       "data": [
        {
         "name": "all",
         "type": "bar",
         "x": [
          "M06-2X",
          "PBE:50%",
          "M06-L:20%",
          "BLYP:30%",
          "ωB97X",
          "PBE:10%",
          "BLYP:40%",
          "PBE0-DH",
          "PBE:30%",
          "B2GPPLYP",
          "B3PW91",
          "BLYP:20%",
          "DSD-PBEB95-D3BJ",
          "DSD-BLYP-D3BJ",
          "PBE:20%",
          "M06-L:10%",
          "PBE0",
          "BLYP:50%",
          "BP86",
          "BLYP",
          "MN15-L:20%",
          "PBE:40%",
          "M06-L",
          "DSD-PBEP86-D3BJ",
          "SCAN:50%",
          "M06-L:40%",
          "BLYP:10%",
          "B3LYP",
          "SCAN:40%",
          "TPSS",
          "B3P86",
          "SCAN",
          "MN15-L:40%",
          "PBE",
          "SCAN:10%",
          "MN15-L:10%",
          "TPSSH",
          "SCAN:20%",
          "MN15",
          "MN15-L",
          "SCAN0",
          "MN15-L:30%",
          "M06-L:30%",
          "SCAN:30%",
          "M06-L:50%",
          "M06",
          "MN15-L:50%"
         ],
         "y": [
          3.054469585418701,
          3.0799567699432373,
          3.256648302078247,
          3.3950283527374268,
          3.4312527179718018,
          3.674750566482544,
          3.7072994709014893,
          3.7728636264801025,
          3.8782126903533936,
          3.9556386470794678,
          4.0332932472229,
          4.052404880523682,
          4.16542387008667,
          4.192017078399658,
          4.249027729034424,
          4.254129886627197,
          4.312952518463135,
          4.370267868041992,
          4.386016845703125,
          4.430324077606201,
          4.452383518218994,
          4.5023603439331055,
          4.531326770782471,
          4.541253566741943,
          4.556927680969238,
          4.601650238037109,
          4.648602485656738,
          4.690629959106445,
          4.6958909034729,
          4.700486660003662,
          4.703979969024658,
          4.826787948608398,
          5.015117168426514,
          5.015885829925537,
          5.0253448486328125,
          5.162738800048828,
          5.312873363494873,
          5.365365505218506,
          5.464979648590088,
          5.5266218185424805,
          5.599310398101807,
          5.696861267089844,
          5.734536170959473,
          6.061050891876221,
          6.102778434753418,
          6.445436000823975,
          6.570854663848877
         ]
        }
       ],
       "layout": {
        "boxmode": "group",
        "font": {
         "color": "black",
         "family": "Helvetica",
         "size": 24
        },
        "height": 500,
        "legend": {
         "orientation": "v"
        },
        "margin": {
         "b": 100,
         "l": 100,
         "r": 10,
         "t": 10
        },
        "paper_bgcolor": "rgba(255,255,255,100)",
        "plot_bgcolor": "white",
        "template": {
         "data": {
          "bar": [
           {
            "error_x": {
             "color": "#2a3f5f"
            },
            "error_y": {
             "color": "#2a3f5f"
            },
            "marker": {
             "line": {
              "color": "#E5ECF6",
              "width": 0.5
             },
             "pattern": {
              "fillmode": "overlay",
              "size": 10,
              "solidity": 0.2
             }
            },
            "type": "bar"
           }
          ],
          "barpolar": [
           {
            "marker": {
             "line": {
              "color": "#E5ECF6",
              "width": 0.5
             },
             "pattern": {
              "fillmode": "overlay",
              "size": 10,
              "solidity": 0.2
             }
            },
            "type": "barpolar"
           }
          ],
          "carpet": [
           {
            "aaxis": {
             "endlinecolor": "#2a3f5f",
             "gridcolor": "white",
             "linecolor": "white",
             "minorgridcolor": "white",
             "startlinecolor": "#2a3f5f"
            },
            "baxis": {
             "endlinecolor": "#2a3f5f",
             "gridcolor": "white",
             "linecolor": "white",
             "minorgridcolor": "white",
             "startlinecolor": "#2a3f5f"
            },
            "type": "carpet"
           }
          ],
          "choropleth": [
           {
            "colorbar": {
             "outlinewidth": 0,
             "ticks": ""
            },
            "type": "choropleth"
           }
          ],
          "contour": [
           {
            "colorbar": {
             "outlinewidth": 0,
             "ticks": ""
            },
            "colorscale": [
             [
              0,
              "#0d0887"
             ],
             [
              0.1111111111111111,
              "#46039f"
             ],
             [
              0.2222222222222222,
              "#7201a8"
             ],
             [
              0.3333333333333333,
              "#9c179e"
             ],
             [
              0.4444444444444444,
              "#bd3786"
             ],
             [
              0.5555555555555556,
              "#d8576b"
             ],
             [
              0.6666666666666666,
              "#ed7953"
             ],
             [
              0.7777777777777778,
              "#fb9f3a"
             ],
             [
              0.8888888888888888,
              "#fdca26"
             ],
             [
              1,
              "#f0f921"
             ]
            ],
            "type": "contour"
           }
          ],
          "contourcarpet": [
           {
            "colorbar": {
             "outlinewidth": 0,
             "ticks": ""
            },
            "type": "contourcarpet"
           }
          ],
          "heatmap": [
           {
            "colorbar": {
             "outlinewidth": 0,
             "ticks": ""
            },
            "colorscale": [
             [
              0,
              "#0d0887"
             ],
             [
              0.1111111111111111,
              "#46039f"
             ],
             [
              0.2222222222222222,
              "#7201a8"
             ],
             [
              0.3333333333333333,
              "#9c179e"
             ],
             [
              0.4444444444444444,
              "#bd3786"
             ],
             [
              0.5555555555555556,
              "#d8576b"
             ],
             [
              0.6666666666666666,
              "#ed7953"
             ],
             [
              0.7777777777777778,
              "#fb9f3a"
             ],
             [
              0.8888888888888888,
              "#fdca26"
             ],
             [
              1,
              "#f0f921"
             ]
            ],
            "type": "heatmap"
           }
          ],
          "heatmapgl": [
           {
            "colorbar": {
             "outlinewidth": 0,
             "ticks": ""
            },
            "colorscale": [
             [
              0,
              "#0d0887"
             ],
             [
              0.1111111111111111,
              "#46039f"
             ],
             [
              0.2222222222222222,
              "#7201a8"
             ],
             [
              0.3333333333333333,
              "#9c179e"
             ],
             [
              0.4444444444444444,
              "#bd3786"
             ],
             [
              0.5555555555555556,
              "#d8576b"
             ],
             [
              0.6666666666666666,
              "#ed7953"
             ],
             [
              0.7777777777777778,
              "#fb9f3a"
             ],
             [
              0.8888888888888888,
              "#fdca26"
             ],
             [
              1,
              "#f0f921"
             ]
            ],
            "type": "heatmapgl"
           }
          ],
          "histogram": [
           {
            "marker": {
             "pattern": {
              "fillmode": "overlay",
              "size": 10,
              "solidity": 0.2
             }
            },
            "type": "histogram"
           }
          ],
          "histogram2d": [
           {
            "colorbar": {
             "outlinewidth": 0,
             "ticks": ""
            },
            "colorscale": [
             [
              0,
              "#0d0887"
             ],
             [
              0.1111111111111111,
              "#46039f"
             ],
             [
              0.2222222222222222,
              "#7201a8"
             ],
             [
              0.3333333333333333,
              "#9c179e"
             ],
             [
              0.4444444444444444,
              "#bd3786"
             ],
             [
              0.5555555555555556,
              "#d8576b"
             ],
             [
              0.6666666666666666,
              "#ed7953"
             ],
             [
              0.7777777777777778,
              "#fb9f3a"
             ],
             [
              0.8888888888888888,
              "#fdca26"
             ],
             [
              1,
              "#f0f921"
             ]
            ],
            "type": "histogram2d"
           }
          ],
          "histogram2dcontour": [
           {
            "colorbar": {
             "outlinewidth": 0,
             "ticks": ""
            },
            "colorscale": [
             [
              0,
              "#0d0887"
             ],
             [
              0.1111111111111111,
              "#46039f"
             ],
             [
              0.2222222222222222,
              "#7201a8"
             ],
             [
              0.3333333333333333,
              "#9c179e"
             ],
             [
              0.4444444444444444,
              "#bd3786"
             ],
             [
              0.5555555555555556,
              "#d8576b"
             ],
             [
              0.6666666666666666,
              "#ed7953"
             ],
             [
              0.7777777777777778,
              "#fb9f3a"
             ],
             [
              0.8888888888888888,
              "#fdca26"
             ],
             [
              1,
              "#f0f921"
             ]
            ],
            "type": "histogram2dcontour"
           }
          ],
          "mesh3d": [
           {
            "colorbar": {
             "outlinewidth": 0,
             "ticks": ""
            },
            "type": "mesh3d"
           }
          ],
          "parcoords": [
           {
            "line": {
             "colorbar": {
              "outlinewidth": 0,
              "ticks": ""
             }
            },
            "type": "parcoords"
           }
          ],
          "pie": [
           {
            "automargin": true,
            "type": "pie"
           }
          ],
          "scatter": [
           {
            "marker": {
             "colorbar": {
              "outlinewidth": 0,
              "ticks": ""
             }
            },
            "type": "scatter"
           }
          ],
          "scatter3d": [
           {
            "line": {
             "colorbar": {
              "outlinewidth": 0,
              "ticks": ""
             }
            },
            "marker": {
             "colorbar": {
              "outlinewidth": 0,
              "ticks": ""
             }
            },
            "type": "scatter3d"
           }
          ],
          "scattercarpet": [
           {
            "marker": {
             "colorbar": {
              "outlinewidth": 0,
              "ticks": ""
             }
            },
            "type": "scattercarpet"
           }
          ],
          "scattergeo": [
           {
            "marker": {
             "colorbar": {
              "outlinewidth": 0,
              "ticks": ""
             }
            },
            "type": "scattergeo"
           }
          ],
          "scattergl": [
           {
            "marker": {
             "colorbar": {
              "outlinewidth": 0,
              "ticks": ""
             }
            },
            "type": "scattergl"
           }
          ],
          "scattermapbox": [
           {
            "marker": {
             "colorbar": {
              "outlinewidth": 0,
              "ticks": ""
             }
            },
            "type": "scattermapbox"
           }
          ],
          "scatterpolar": [
           {
            "marker": {
             "colorbar": {
              "outlinewidth": 0,
              "ticks": ""
             }
            },
            "type": "scatterpolar"
           }
          ],
          "scatterpolargl": [
           {
            "marker": {
             "colorbar": {
              "outlinewidth": 0,
              "ticks": ""
             }
            },
            "type": "scatterpolargl"
           }
          ],
          "scatterternary": [
           {
            "marker": {
             "colorbar": {
              "outlinewidth": 0,
              "ticks": ""
             }
            },
            "type": "scatterternary"
           }
          ],
          "surface": [
           {
            "colorbar": {
             "outlinewidth": 0,
             "ticks": ""
            },
            "colorscale": [
             [
              0,
              "#0d0887"
             ],
             [
              0.1111111111111111,
              "#46039f"
             ],
             [
              0.2222222222222222,
              "#7201a8"
             ],
             [
              0.3333333333333333,
              "#9c179e"
             ],
             [
              0.4444444444444444,
              "#bd3786"
             ],
             [
              0.5555555555555556,
              "#d8576b"
             ],
             [
              0.6666666666666666,
              "#ed7953"
             ],
             [
              0.7777777777777778,
              "#fb9f3a"
             ],
             [
              0.8888888888888888,
              "#fdca26"
             ],
             [
              1,
              "#f0f921"
             ]
            ],
            "type": "surface"
           }
          ],
          "table": [
           {
            "cells": {
             "fill": {
              "color": "#EBF0F8"
             },
             "line": {
              "color": "white"
             }
            },
            "header": {
             "fill": {
              "color": "#C8D4E3"
             },
             "line": {
              "color": "white"
             }
            },
            "type": "table"
           }
          ]
         },
         "layout": {
          "annotationdefaults": {
           "arrowcolor": "#2a3f5f",
           "arrowhead": 0,
           "arrowwidth": 1
          },
          "autotypenumbers": "strict",
          "coloraxis": {
           "colorbar": {
            "outlinewidth": 0,
            "ticks": ""
           }
          },
          "colorscale": {
           "diverging": [
            [
             0,
             "#8e0152"
            ],
            [
             0.1,
             "#c51b7d"
            ],
            [
             0.2,
             "#de77ae"
            ],
            [
             0.3,
             "#f1b6da"
            ],
            [
             0.4,
             "#fde0ef"
            ],
            [
             0.5,
             "#f7f7f7"
            ],
            [
             0.6,
             "#e6f5d0"
            ],
            [
             0.7,
             "#b8e186"
            ],
            [
             0.8,
             "#7fbc41"
            ],
            [
             0.9,
             "#4d9221"
            ],
            [
             1,
             "#276419"
            ]
           ],
           "sequential": [
            [
             0,
             "#0d0887"
            ],
            [
             0.1111111111111111,
             "#46039f"
            ],
            [
             0.2222222222222222,
             "#7201a8"
            ],
            [
             0.3333333333333333,
             "#9c179e"
            ],
            [
             0.4444444444444444,
             "#bd3786"
            ],
            [
             0.5555555555555556,
             "#d8576b"
            ],
            [
             0.6666666666666666,
             "#ed7953"
            ],
            [
             0.7777777777777778,
             "#fb9f3a"
            ],
            [
             0.8888888888888888,
             "#fdca26"
            ],
            [
             1,
             "#f0f921"
            ]
           ],
           "sequentialminus": [
            [
             0,
             "#0d0887"
            ],
            [
             0.1111111111111111,
             "#46039f"
            ],
            [
             0.2222222222222222,
             "#7201a8"
            ],
            [
             0.3333333333333333,
             "#9c179e"
            ],
            [
             0.4444444444444444,
             "#bd3786"
            ],
            [
             0.5555555555555556,
             "#d8576b"
            ],
            [
             0.6666666666666666,
             "#ed7953"
            ],
            [
             0.7777777777777778,
             "#fb9f3a"
            ],
            [
             0.8888888888888888,
             "#fdca26"
            ],
            [
             1,
             "#f0f921"
            ]
           ]
          },
          "colorway": [
           "#636efa",
           "#EF553B",
           "#00cc96",
           "#ab63fa",
           "#FFA15A",
           "#19d3f3",
           "#FF6692",
           "#B6E880",
           "#FF97FF",
           "#FECB52"
          ],
          "font": {
           "color": "#2a3f5f"
          },
          "geo": {
           "bgcolor": "white",
           "lakecolor": "white",
           "landcolor": "#E5ECF6",
           "showlakes": true,
           "showland": true,
           "subunitcolor": "white"
          },
          "hoverlabel": {
           "align": "left"
          },
          "hovermode": "closest",
          "mapbox": {
           "style": "light"
          },
          "paper_bgcolor": "white",
          "plot_bgcolor": "#E5ECF6",
          "polar": {
           "angularaxis": {
            "gridcolor": "white",
            "linecolor": "white",
            "ticks": ""
           },
           "bgcolor": "#E5ECF6",
           "radialaxis": {
            "gridcolor": "white",
            "linecolor": "white",
            "ticks": ""
           }
          },
          "scene": {
           "xaxis": {
            "backgroundcolor": "#E5ECF6",
            "gridcolor": "white",
            "gridwidth": 2,
            "linecolor": "white",
            "showbackground": true,
            "ticks": "",
            "zerolinecolor": "white"
           },
           "yaxis": {
            "backgroundcolor": "#E5ECF6",
            "gridcolor": "white",
            "gridwidth": 2,
            "linecolor": "white",
            "showbackground": true,
            "ticks": "",
            "zerolinecolor": "white"
           },
           "zaxis": {
            "backgroundcolor": "#E5ECF6",
            "gridcolor": "white",
            "gridwidth": 2,
            "linecolor": "white",
            "showbackground": true,
            "ticks": "",
            "zerolinecolor": "white"
           }
          },
          "shapedefaults": {
           "line": {
            "color": "#2a3f5f"
           }
          },
          "ternary": {
           "aaxis": {
            "gridcolor": "white",
            "linecolor": "white",
            "ticks": ""
           },
           "baxis": {
            "gridcolor": "white",
            "linecolor": "white",
            "ticks": ""
           },
           "bgcolor": "#E5ECF6",
           "caxis": {
            "gridcolor": "white",
            "linecolor": "white",
            "ticks": ""
           }
          },
          "title": {
           "x": 0.05
          },
          "xaxis": {
           "automargin": true,
           "gridcolor": "white",
           "linecolor": "white",
           "ticks": "",
           "title": {
            "standoff": 15
           },
           "zerolinecolor": "white",
           "zerolinewidth": 2
          },
          "yaxis": {
           "automargin": true,
           "gridcolor": "white",
           "linecolor": "white",
           "ticks": "",
           "title": {
            "standoff": 15
           },
           "zerolinecolor": "white",
           "zerolinewidth": 2
          }
         }
        },
        "width": 1600,
        "xaxis": {
         "color": "black",
         "linecolor": "black",
         "linewidth": 1.5,
         "mirror": "allticks",
         "showgrid": false,
         "showline": true,
         "ticklen": 10,
         "ticks": "inside",
         "tickwidth": 1.5,
         "title": {
          "text": "DFA"
         },
         "zeroline": false
        },
        "yaxis": {
         "color": "black",
         "linecolor": "black",
         "linewidth": 1.5,
         "mirror": "allticks",
         "showgrid": false,
         "showline": true,
         "ticklen": 10,
         "ticks": "inside",
         "tickwidth": 1.5,
         "title": {
          "text": "MAE (kcal/mol)"
         },
         "zeroline": false
        }
       }
      },
      "text/html": [
       "<div>                            <div id=\"9de5a086-aeb0-4131-859b-ca47b92193e4\" class=\"plotly-graph-div\" style=\"height:500px; width:1600px;\"></div>            <script type=\"text/javascript\">                require([\"plotly\"], function(Plotly) {                    window.PLOTLYENV=window.PLOTLYENV || {};                                    if (document.getElementById(\"9de5a086-aeb0-4131-859b-ca47b92193e4\")) {                    Plotly.newPlot(                        \"9de5a086-aeb0-4131-859b-ca47b92193e4\",                        [{\"name\":\"all\",\"x\":[\"M06-2X\",\"PBE:50%\",\"M06-L:20%\",\"BLYP:30%\",\"\\u03c9B97X\",\"PBE:10%\",\"BLYP:40%\",\"PBE0-DH\",\"PBE:30%\",\"B2GPPLYP\",\"B3PW91\",\"BLYP:20%\",\"DSD-PBEB95-D3BJ\",\"DSD-BLYP-D3BJ\",\"PBE:20%\",\"M06-L:10%\",\"PBE0\",\"BLYP:50%\",\"BP86\",\"BLYP\",\"MN15-L:20%\",\"PBE:40%\",\"M06-L\",\"DSD-PBEP86-D3BJ\",\"SCAN:50%\",\"M06-L:40%\",\"BLYP:10%\",\"B3LYP\",\"SCAN:40%\",\"TPSS\",\"B3P86\",\"SCAN\",\"MN15-L:40%\",\"PBE\",\"SCAN:10%\",\"MN15-L:10%\",\"TPSSH\",\"SCAN:20%\",\"MN15\",\"MN15-L\",\"SCAN0\",\"MN15-L:30%\",\"M06-L:30%\",\"SCAN:30%\",\"M06-L:50%\",\"M06\",\"MN15-L:50%\"],\"y\":[3.054469585418701,3.0799567699432373,3.256648302078247,3.3950283527374268,3.4312527179718018,3.674750566482544,3.7072994709014893,3.7728636264801025,3.8782126903533936,3.9556386470794678,4.0332932472229,4.052404880523682,4.16542387008667,4.192017078399658,4.249027729034424,4.254129886627197,4.312952518463135,4.370267868041992,4.386016845703125,4.430324077606201,4.452383518218994,4.5023603439331055,4.531326770782471,4.541253566741943,4.556927680969238,4.601650238037109,4.648602485656738,4.690629959106445,4.6958909034729,4.700486660003662,4.703979969024658,4.826787948608398,5.015117168426514,5.015885829925537,5.0253448486328125,5.162738800048828,5.312873363494873,5.365365505218506,5.464979648590088,5.5266218185424805,5.599310398101807,5.696861267089844,5.734536170959473,6.061050891876221,6.102778434753418,6.445436000823975,6.570854663848877],\"type\":\"bar\"}],                        {\"boxmode\":\"group\",\"font\":{\"color\":\"black\",\"family\":\"Helvetica\",\"size\":24},\"height\":500,\"legend\":{\"orientation\":\"v\"},\"margin\":{\"b\":100,\"l\":100,\"r\":10,\"t\":10},\"paper_bgcolor\":\"rgba(255,255,255,100)\",\"plot_bgcolor\":\"white\",\"template\":{\"data\":{\"barpolar\":[{\"marker\":{\"line\":{\"color\":\"#E5ECF6\",\"width\":0.5},\"pattern\":{\"fillmode\":\"overlay\",\"size\":10,\"solidity\":0.2}},\"type\":\"barpolar\"}],\"bar\":[{\"error_x\":{\"color\":\"#2a3f5f\"},\"error_y\":{\"color\":\"#2a3f5f\"},\"marker\":{\"line\":{\"color\":\"#E5ECF6\",\"width\":0.5},\"pattern\":{\"fillmode\":\"overlay\",\"size\":10,\"solidity\":0.2}},\"type\":\"bar\"}],\"carpet\":[{\"aaxis\":{\"endlinecolor\":\"#2a3f5f\",\"gridcolor\":\"white\",\"linecolor\":\"white\",\"minorgridcolor\":\"white\",\"startlinecolor\":\"#2a3f5f\"},\"baxis\":{\"endlinecolor\":\"#2a3f5f\",\"gridcolor\":\"white\",\"linecolor\":\"white\",\"minorgridcolor\":\"white\",\"startlinecolor\":\"#2a3f5f\"},\"type\":\"carpet\"}],\"choropleth\":[{\"colorbar\":{\"outlinewidth\":0,\"ticks\":\"\"},\"type\":\"choropleth\"}],\"contourcarpet\":[{\"colorbar\":{\"outlinewidth\":0,\"ticks\":\"\"},\"type\":\"contourcarpet\"}],\"contour\":[{\"colorbar\":{\"outlinewidth\":0,\"ticks\":\"\"},\"colorscale\":[[0.0,\"#0d0887\"],[0.1111111111111111,\"#46039f\"],[0.2222222222222222,\"#7201a8\"],[0.3333333333333333,\"#9c179e\"],[0.4444444444444444,\"#bd3786\"],[0.5555555555555556,\"#d8576b\"],[0.6666666666666666,\"#ed7953\"],[0.7777777777777778,\"#fb9f3a\"],[0.8888888888888888,\"#fdca26\"],[1.0,\"#f0f921\"]],\"type\":\"contour\"}],\"heatmapgl\":[{\"colorbar\":{\"outlinewidth\":0,\"ticks\":\"\"},\"colorscale\":[[0.0,\"#0d0887\"],[0.1111111111111111,\"#46039f\"],[0.2222222222222222,\"#7201a8\"],[0.3333333333333333,\"#9c179e\"],[0.4444444444444444,\"#bd3786\"],[0.5555555555555556,\"#d8576b\"],[0.6666666666666666,\"#ed7953\"],[0.7777777777777778,\"#fb9f3a\"],[0.8888888888888888,\"#fdca26\"],[1.0,\"#f0f921\"]],\"type\":\"heatmapgl\"}],\"heatmap\":[{\"colorbar\":{\"outlinewidth\":0,\"ticks\":\"\"},\"colorscale\":[[0.0,\"#0d0887\"],[0.1111111111111111,\"#46039f\"],[0.2222222222222222,\"#7201a8\"],[0.3333333333333333,\"#9c179e\"],[0.4444444444444444,\"#bd3786\"],[0.5555555555555556,\"#d8576b\"],[0.6666666666666666,\"#ed7953\"],[0.7777777777777778,\"#fb9f3a\"],[0.8888888888888888,\"#fdca26\"],[1.0,\"#f0f921\"]],\"type\":\"heatmap\"}],\"histogram2dcontour\":[{\"colorbar\":{\"outlinewidth\":0,\"ticks\":\"\"},\"colorscale\":[[0.0,\"#0d0887\"],[0.1111111111111111,\"#46039f\"],[0.2222222222222222,\"#7201a8\"],[0.3333333333333333,\"#9c179e\"],[0.4444444444444444,\"#bd3786\"],[0.5555555555555556,\"#d8576b\"],[0.6666666666666666,\"#ed7953\"],[0.7777777777777778,\"#fb9f3a\"],[0.8888888888888888,\"#fdca26\"],[1.0,\"#f0f921\"]],\"type\":\"histogram2dcontour\"}],\"histogram2d\":[{\"colorbar\":{\"outlinewidth\":0,\"ticks\":\"\"},\"colorscale\":[[0.0,\"#0d0887\"],[0.1111111111111111,\"#46039f\"],[0.2222222222222222,\"#7201a8\"],[0.3333333333333333,\"#9c179e\"],[0.4444444444444444,\"#bd3786\"],[0.5555555555555556,\"#d8576b\"],[0.6666666666666666,\"#ed7953\"],[0.7777777777777778,\"#fb9f3a\"],[0.8888888888888888,\"#fdca26\"],[1.0,\"#f0f921\"]],\"type\":\"histogram2d\"}],\"histogram\":[{\"marker\":{\"pattern\":{\"fillmode\":\"overlay\",\"size\":10,\"solidity\":0.2}},\"type\":\"histogram\"}],\"mesh3d\":[{\"colorbar\":{\"outlinewidth\":0,\"ticks\":\"\"},\"type\":\"mesh3d\"}],\"parcoords\":[{\"line\":{\"colorbar\":{\"outlinewidth\":0,\"ticks\":\"\"}},\"type\":\"parcoords\"}],\"pie\":[{\"automargin\":true,\"type\":\"pie\"}],\"scatter3d\":[{\"line\":{\"colorbar\":{\"outlinewidth\":0,\"ticks\":\"\"}},\"marker\":{\"colorbar\":{\"outlinewidth\":0,\"ticks\":\"\"}},\"type\":\"scatter3d\"}],\"scattercarpet\":[{\"marker\":{\"colorbar\":{\"outlinewidth\":0,\"ticks\":\"\"}},\"type\":\"scattercarpet\"}],\"scattergeo\":[{\"marker\":{\"colorbar\":{\"outlinewidth\":0,\"ticks\":\"\"}},\"type\":\"scattergeo\"}],\"scattergl\":[{\"marker\":{\"colorbar\":{\"outlinewidth\":0,\"ticks\":\"\"}},\"type\":\"scattergl\"}],\"scattermapbox\":[{\"marker\":{\"colorbar\":{\"outlinewidth\":0,\"ticks\":\"\"}},\"type\":\"scattermapbox\"}],\"scatterpolargl\":[{\"marker\":{\"colorbar\":{\"outlinewidth\":0,\"ticks\":\"\"}},\"type\":\"scatterpolargl\"}],\"scatterpolar\":[{\"marker\":{\"colorbar\":{\"outlinewidth\":0,\"ticks\":\"\"}},\"type\":\"scatterpolar\"}],\"scatter\":[{\"marker\":{\"colorbar\":{\"outlinewidth\":0,\"ticks\":\"\"}},\"type\":\"scatter\"}],\"scatterternary\":[{\"marker\":{\"colorbar\":{\"outlinewidth\":0,\"ticks\":\"\"}},\"type\":\"scatterternary\"}],\"surface\":[{\"colorbar\":{\"outlinewidth\":0,\"ticks\":\"\"},\"colorscale\":[[0.0,\"#0d0887\"],[0.1111111111111111,\"#46039f\"],[0.2222222222222222,\"#7201a8\"],[0.3333333333333333,\"#9c179e\"],[0.4444444444444444,\"#bd3786\"],[0.5555555555555556,\"#d8576b\"],[0.6666666666666666,\"#ed7953\"],[0.7777777777777778,\"#fb9f3a\"],[0.8888888888888888,\"#fdca26\"],[1.0,\"#f0f921\"]],\"type\":\"surface\"}],\"table\":[{\"cells\":{\"fill\":{\"color\":\"#EBF0F8\"},\"line\":{\"color\":\"white\"}},\"header\":{\"fill\":{\"color\":\"#C8D4E3\"},\"line\":{\"color\":\"white\"}},\"type\":\"table\"}]},\"layout\":{\"annotationdefaults\":{\"arrowcolor\":\"#2a3f5f\",\"arrowhead\":0,\"arrowwidth\":1},\"autotypenumbers\":\"strict\",\"coloraxis\":{\"colorbar\":{\"outlinewidth\":0,\"ticks\":\"\"}},\"colorscale\":{\"diverging\":[[0,\"#8e0152\"],[0.1,\"#c51b7d\"],[0.2,\"#de77ae\"],[0.3,\"#f1b6da\"],[0.4,\"#fde0ef\"],[0.5,\"#f7f7f7\"],[0.6,\"#e6f5d0\"],[0.7,\"#b8e186\"],[0.8,\"#7fbc41\"],[0.9,\"#4d9221\"],[1,\"#276419\"]],\"sequential\":[[0.0,\"#0d0887\"],[0.1111111111111111,\"#46039f\"],[0.2222222222222222,\"#7201a8\"],[0.3333333333333333,\"#9c179e\"],[0.4444444444444444,\"#bd3786\"],[0.5555555555555556,\"#d8576b\"],[0.6666666666666666,\"#ed7953\"],[0.7777777777777778,\"#fb9f3a\"],[0.8888888888888888,\"#fdca26\"],[1.0,\"#f0f921\"]],\"sequentialminus\":[[0.0,\"#0d0887\"],[0.1111111111111111,\"#46039f\"],[0.2222222222222222,\"#7201a8\"],[0.3333333333333333,\"#9c179e\"],[0.4444444444444444,\"#bd3786\"],[0.5555555555555556,\"#d8576b\"],[0.6666666666666666,\"#ed7953\"],[0.7777777777777778,\"#fb9f3a\"],[0.8888888888888888,\"#fdca26\"],[1.0,\"#f0f921\"]]},\"colorway\":[\"#636efa\",\"#EF553B\",\"#00cc96\",\"#ab63fa\",\"#FFA15A\",\"#19d3f3\",\"#FF6692\",\"#B6E880\",\"#FF97FF\",\"#FECB52\"],\"font\":{\"color\":\"#2a3f5f\"},\"geo\":{\"bgcolor\":\"white\",\"lakecolor\":\"white\",\"landcolor\":\"#E5ECF6\",\"showlakes\":true,\"showland\":true,\"subunitcolor\":\"white\"},\"hoverlabel\":{\"align\":\"left\"},\"hovermode\":\"closest\",\"mapbox\":{\"style\":\"light\"},\"paper_bgcolor\":\"white\",\"plot_bgcolor\":\"#E5ECF6\",\"polar\":{\"angularaxis\":{\"gridcolor\":\"white\",\"linecolor\":\"white\",\"ticks\":\"\"},\"bgcolor\":\"#E5ECF6\",\"radialaxis\":{\"gridcolor\":\"white\",\"linecolor\":\"white\",\"ticks\":\"\"}},\"scene\":{\"xaxis\":{\"backgroundcolor\":\"#E5ECF6\",\"gridcolor\":\"white\",\"gridwidth\":2,\"linecolor\":\"white\",\"showbackground\":true,\"ticks\":\"\",\"zerolinecolor\":\"white\"},\"yaxis\":{\"backgroundcolor\":\"#E5ECF6\",\"gridcolor\":\"white\",\"gridwidth\":2,\"linecolor\":\"white\",\"showbackground\":true,\"ticks\":\"\",\"zerolinecolor\":\"white\"},\"zaxis\":{\"backgroundcolor\":\"#E5ECF6\",\"gridcolor\":\"white\",\"gridwidth\":2,\"linecolor\":\"white\",\"showbackground\":true,\"ticks\":\"\",\"zerolinecolor\":\"white\"}},\"shapedefaults\":{\"line\":{\"color\":\"#2a3f5f\"}},\"ternary\":{\"aaxis\":{\"gridcolor\":\"white\",\"linecolor\":\"white\",\"ticks\":\"\"},\"baxis\":{\"gridcolor\":\"white\",\"linecolor\":\"white\",\"ticks\":\"\"},\"bgcolor\":\"#E5ECF6\",\"caxis\":{\"gridcolor\":\"white\",\"linecolor\":\"white\",\"ticks\":\"\"}},\"title\":{\"x\":0.05},\"xaxis\":{\"automargin\":true,\"gridcolor\":\"white\",\"linecolor\":\"white\",\"ticks\":\"\",\"title\":{\"standoff\":15},\"zerolinecolor\":\"white\",\"zerolinewidth\":2},\"yaxis\":{\"automargin\":true,\"gridcolor\":\"white\",\"linecolor\":\"white\",\"ticks\":\"\",\"title\":{\"standoff\":15},\"zerolinecolor\":\"white\",\"zerolinewidth\":2}}},\"width\":1600,\"xaxis\":{\"color\":\"black\",\"linecolor\":\"black\",\"linewidth\":1.5,\"mirror\":\"allticks\",\"showgrid\":false,\"showline\":true,\"ticklen\":10,\"ticks\":\"inside\",\"tickwidth\":1.5,\"title\":{\"text\":\"DFA\"},\"zeroline\":false},\"yaxis\":{\"color\":\"black\",\"linecolor\":\"black\",\"linewidth\":1.5,\"mirror\":\"allticks\",\"showgrid\":false,\"showline\":true,\"ticklen\":10,\"ticks\":\"inside\",\"tickwidth\":1.5,\"title\":{\"text\":\"MAE (kcal/mol)\"},\"zeroline\":false}},                        {\"responsive\": true}                    ).then(function(){\n",
       "                            \n",
       "var gd = document.getElementById('9de5a086-aeb0-4131-859b-ca47b92193e4');\n",
       "var x = new MutationObserver(function (mutations, observer) {{\n",
       "        var display = window.getComputedStyle(gd).display;\n",
       "        if (!display || display === 'none') {{\n",
       "            console.log([gd, 'removed!']);\n",
       "            Plotly.purge(gd);\n",
       "            observer.disconnect();\n",
       "        }}\n",
       "}});\n",
       "\n",
       "// Listen for the removal of the full notebook cells\n",
       "var notebookContainer = gd.closest('#notebook-container');\n",
       "if (notebookContainer) {{\n",
       "    x.observe(notebookContainer, {childList: true});\n",
       "}}\n",
       "\n",
       "// Listen for the clearing of the current output cell\n",
       "var outputEl = gd.closest('.output');\n",
       "if (outputEl) {{\n",
       "    x.observe(outputEl, {childList: true});\n",
       "}}\n",
       "\n",
       "                        })                };                });            </script>        </div>"
      ]
     },
     "metadata": {},
     "output_type": "display_data"
    }
   ],
   "source": [
    "x, y = [], []\n",
    "mae_dict = dict(sorted(mae_dict.items(), key=lambda item: item[1]))\n",
    "dfa_names = []\n",
    "for f in list(mae_dict.keys()):\n",
    "    if \"_hfx_\" in f:\n",
    "        _ff = f.split(\"_\")\n",
    "        f = _ff[0] + \":%s%s\"%(_ff[-1], \"%\")\n",
    "    if not \"91\" in f:\n",
    "        f = f.upper().replace(\"W\", \"\\u03C9\")\n",
    "    else:\n",
    "        f = f.upper()\n",
    "    dfa_names.append(f)\n",
    "data = [go.Bar(x=dfa_names,\n",
    "               y=list(mae_dict.values()), name='all'),]\n",
    "layout = go.Layout()\n",
    "layout.update(glob_layout)\n",
    "layout[\"xaxis\"].update({'title': \"DFA\"})\n",
    "layout[\"yaxis\"].update({'title': \"MAE (kcal/mol)\", })\n",
    "layout.update(width=1600, height=500, boxmode='group')\n",
    "fig = go.Figure(data=data, layout=layout)\n",
    "iplot(fig)\n",
    "# fig.write_image(\"/Users/chenruduan/Dropbox (MIT)/CD-DFARecFull/SI/SI_Figures/CSDTLMAEs/F1.pdf\")"
   ]
  },
  {
   "cell_type": "markdown",
   "metadata": {},
   "source": [
    "### Analyze"
   ]
  },
  {
   "cell_type": "markdown",
   "metadata": {},
   "source": [
    "##### sort based on ML predicted |DFA - DLPNO-CCSD(T)| vertical spin splitting to select DFAs"
   ]
  },
  {
   "cell_type": "code",
   "execution_count": 11,
   "metadata": {},
   "outputs": [],
   "source": [
    "df_res = pd.DataFrame.from_dict(res_csd)"
   ]
  },
  {
   "cell_type": "code",
   "execution_count": 12,
   "metadata": {},
   "outputs": [],
   "source": [
    "removed = []\n",
    "functionals = list(set(all_functionals).difference(set(removed)))\n",
    "\n",
    "thresh = 0.0\n",
    "errs_t, errs_hat, best_fs, lmstds, lower_bound, true_best_fs, ranks = [\n",
    "], [], [], [], [], [], []\n",
    "err = {}\n",
    "for f in functionals:\n",
    "    err[f] = []\n",
    "for _, row in df_res.iterrows():\n",
    "    res_true = [row[f + \".y_t\"]\n",
    "                if not np.isnan(row[f + \".y_t\"]) else 1000 for f in functionals]\n",
    "    fs_true = [x for _, x in sorted(zip(res_true, functionals))]\n",
    "    res_true = sorted(res_true)\n",
    "    res_hat = [row[f + \".y_hat\"]\n",
    "               if ((not np.isnan(row[f + \".y_t\"]))) else 1000 for f in functionals]\n",
    "    fs = [x for _, x in sorted(zip(res_hat, functionals))]\n",
    "    res_hat = sorted(res_hat)\n",
    "    ranks += [res_true.index(row[fs[0] + \".y_t\"])]\n",
    "\n",
    "    errs_t += [row[fs[0] + \".y_t\"]]\n",
    "    errs_hat += [row[fs[0] + \".y_hat\"]]\n",
    "    best_fs += [fs[0]]\n",
    "    lower_bound += [row[fs_true[0] + \".y_t\"]]\n",
    "    true_best_fs += [fs_true[0]]\n",
    "\n",
    "df_sel = pd.DataFrame.from_dict({\"errs_t\": errs_t, \"errs_hat\": errs_hat,\n",
    "                                 \"best_fs\": best_fs, \"lower_bound\": lower_bound, \"true_best_fs\": true_best_fs,\n",
    "                                 \"ranks\": ranks, \"name\": df_res[\"name\"].values,\n",
    "                                 \"dlpno.vertsse\": df_res[\"dlpno.vertsse\"].values\n",
    "                                 })\n",
    "df_sel = df_sel.sort_values('errs_t')\n",
    "\n",
    "\n",
    "topx = 5 + 1\n",
    "thresh = 0.0\n",
    "errs_t, errs_hat, best_fs, lmstds, lower_bound, true_best_fs, ranks = [\n",
    "], [], [], [], [], [], []\n",
    "err = {}\n",
    "for f in functionals:\n",
    "    err[f] = []\n",
    "for _, row in df_res.iterrows():\n",
    "    res_true = [row[f + \".y_t\"]\n",
    "                if not np.isnan(row[f + \".y_t\"]) else 1000 for f in functionals]\n",
    "    fs_true = [x for _, x in sorted(zip(res_true, functionals))]\n",
    "    res_true = sorted(res_true)\n",
    "    res_hat = [row[f + \".y_hat\"]\n",
    "               if ((not np.isnan(row[f + \".y_t\"]))) else 1000 for f in functionals]\n",
    "    fs = [x for _, x in sorted(zip(res_hat, functionals))]\n",
    "    res_hat = sorted(res_hat)\n",
    "    ranks += [res_true.index(row[fs[0] + \".y_t\"])]\n",
    "\n",
    "    errs_t += [[round(row[fs[ii] + \".y_t\"], 2) for ii in range(topx)]]\n",
    "    errs_hat += [[round(row[fs[ii] + \".y_hat\"], 2) for ii in range(topx)]]\n",
    "    best_fs += [[fs[ii] for ii in range(topx)]]\n",
    "    lower_bound += [[round(row[fs_true[ii] + \".y_t\"], 2)\n",
    "                     for ii in range(topx)]]\n",
    "    true_best_fs += [[fs_true[ii] for ii in range(topx)]]\n",
    "df_sel_top = pd.DataFrame.from_dict({\"errs_t\": errs_t, \"errs_hat\": errs_hat, \n",
    "                                     \"best_fs\": best_fs, \"lower_bound\": lower_bound, \"true_best_fs\": true_best_fs,\n",
    "                                     \"ranks\": ranks, \"name\": df_res[\"name\"].values,\n",
    "                                     \"dlpno.vertsse\": df_res[\"dlpno.vertsse\"].values,\n",
    "                                     })\n",
    "df_sel_top = df_sel_top.sort_values('errs_t')\n"
   ]
  },
  {
   "cell_type": "markdown",
   "metadata": {},
   "source": [
    "##### absolute error distribution"
   ]
  },
  {
   "cell_type": "code",
   "execution_count": 22,
   "metadata": {},
   "outputs": [
    {
     "data": {
      "application/vnd.plotly.v1+json": {
       "config": {
        "plotlyServerURL": "https://plot.ly"
       },
       "data": [
        {
         "autobinx": false,
         "histnorm": "probability density",
         "legendgroup": "",
         "marker": {
          "color": "gray"
         },
         "name": "",
         "opacity": 0.7,
         "type": "histogram",
         "x": [
          0.12716777622699738,
          0.1442408412694931,
          0.23550422489643097,
          0.23871852457523346,
          0.3098284602165222,
          0.35042065382003784,
          0.37518835067749023,
          0.4479137361049652,
          0.5599837303161621,
          0.5994336605072021,
          0.7115264534950256,
          0.7598552703857422,
          0.9442958831787109,
          0.9533209204673767,
          0.9589486718177795,
          1.105347752571106,
          1.160831093788147,
          1.1805130243301392,
          1.24135160446167,
          1.2617406845092773,
          1.275721549987793,
          1.3126779794692993,
          1.4050946235656738,
          1.5082813501358032,
          1.5529870986938477,
          1.588202953338623,
          1.7231899499893188,
          1.828569769859314,
          1.9477710723876953,
          1.955793857574463,
          1.9970759153366089,
          2.0368194580078125,
          2.0966906547546387,
          2.164425849914551,
          2.182741641998291,
          2.252495527267456,
          2.278435230255127,
          2.287506341934204,
          2.3299427032470703,
          2.372821807861328,
          2.5241568088531494,
          2.550199508666992,
          2.6966686248779297,
          2.9145402908325195,
          2.961029529571533,
          3.1754133701324463,
          3.2013440132141113,
          3.2732162475585938,
          3.2979092597961426,
          3.3925352096557617,
          3.5130372047424316,
          3.5342657566070557,
          3.6103079319000244,
          3.9780476093292236,
          4.023274898529053,
          4.101527214050293,
          4.251460552215576,
          4.442164421081543,
          4.5123186111450195,
          4.717530727386475,
          4.724466323852539,
          4.814153671264648,
          5.162358283996582,
          5.269881248474121,
          5.311816692352295,
          5.3646016120910645,
          5.46895170211792,
          5.6116461753845215,
          6.164071559906006,
          6.314947605133057,
          7.551337242126465,
          7.783726692199707,
          7.961616516113281,
          8.931047439575195,
          10.891047477722168,
          14.37609577178955
         ],
         "xaxis": "x",
         "xbins": {
          "end": 14.37609577178955,
          "size": 0.5,
          "start": 0.12716777622699738
         },
         "yaxis": "y"
        },
        {
         "legendgroup": "",
         "marker": {
          "color": "gray"
         },
         "mode": "lines",
         "name": "",
         "showlegend": false,
         "type": "scatter",
         "x": [
          0.12716777622699738,
          0.1556656322181225,
          0.1841634882092476,
          0.2126613442003727,
          0.2411592001914978,
          0.2696570561826229,
          0.298154912173748,
          0.3266527681648731,
          0.35515062415599824,
          0.3836484801471233,
          0.41214633613824847,
          0.44064419212937356,
          0.46914204812049864,
          0.4976399041116238,
          0.5261377601027488,
          0.5546356160938739,
          0.5831334720849991,
          0.6116313280761242,
          0.6401291840672493,
          0.6686270400583744,
          0.6971248960494996,
          0.7256227520406247,
          0.7541206080317497,
          0.7826184640228748,
          0.8111163200139999,
          0.839614176005125,
          0.8681120319962502,
          0.8966098879873753,
          0.9251077439785004,
          0.9536055999696255,
          0.9821034559607505,
          1.0106013119518757,
          1.0390991679430008,
          1.067597023934126,
          1.096094879925251,
          1.124592735916376,
          1.1530905919075012,
          1.1815884478986263,
          1.2100863038897514,
          1.2385841598808764,
          1.2670820158720018,
          1.2955798718631268,
          1.324077727854252,
          1.352575583845377,
          1.381073439836502,
          1.4095712958276272,
          1.4380691518187523,
          1.4665670078098774,
          1.4950648638010025,
          1.5235627197921275,
          1.5520605757832526,
          1.5805584317743777,
          1.609056287765503,
          1.6375541437566281,
          1.6660519997477532,
          1.6945498557388783,
          1.7230477117300034,
          1.7515455677211285,
          1.7800434237122535,
          1.8085412797033786,
          1.8370391356945037,
          1.8655369916856288,
          1.894034847676754,
          1.9225327036678792,
          1.9510305596590043,
          1.9795284156501294,
          2.0080262716412545,
          2.0365241276323793,
          2.0650219836235046,
          2.09351983961463,
          2.122017695605755,
          2.15051555159688,
          2.179013407588005,
          2.2075112635791303,
          2.236009119570255,
          2.2645069755613805,
          2.2930048315525053,
          2.3215026875436306,
          2.3500005435347555,
          2.378498399525881,
          2.406996255517006,
          2.435494111508131,
          2.4639919674992563,
          2.492489823490381,
          2.5209876794815065,
          2.5494855354726313,
          2.5779833914637567,
          2.6064812474548815,
          2.634979103446007,
          2.6634769594371317,
          2.691974815428257,
          2.7204726714193823,
          2.748970527410507,
          2.7774683834016325,
          2.8059662393927574,
          2.8344640953838827,
          2.8629619513750075,
          2.891459807366133,
          2.9199576633572577,
          2.948455519348383,
          2.976953375339508,
          3.005451231330633,
          3.033949087321758,
          3.0624469433128834,
          3.0909447993040087,
          3.1194426552951335,
          3.147940511286259,
          3.1764383672773837,
          3.204936223268509,
          3.233434079259634,
          3.261931935250759,
          3.290429791241884,
          3.3189276472330094,
          3.3474255032241342,
          3.3759233592152595,
          3.404421215206385,
          3.4329190711975097,
          3.461416927188635,
          3.48991478317976,
          3.518412639170885,
          3.54691049516201,
          3.5754083511531354,
          3.6039062071442602,
          3.6324040631353856,
          3.6609019191265104,
          3.6893997751176357,
          3.717897631108761,
          3.746395487099886,
          3.774893343091011,
          3.803391199082136,
          3.8318890550732614,
          3.8603869110643863,
          3.8888847670555116,
          3.9173826230466364,
          3.9458804790377617,
          3.9743783350288866,
          4.002876191020012,
          4.031374047011138,
          4.0598719030022625,
          4.088369758993387,
          4.116867614984512,
          4.145365470975637,
          4.173863326966763,
          4.202361182957888,
          4.230859038949013,
          4.2593568949401375,
          4.287854750931263,
          4.316352606922388,
          4.344850462913513,
          4.373348318904639,
          4.401846174895764,
          4.430344030886888,
          4.458841886878013,
          4.487339742869139,
          4.515837598860264,
          4.544335454851389,
          4.572833310842514,
          4.601331166833639,
          4.629829022824764,
          4.658326878815889,
          4.686824734807015,
          4.71532259079814,
          4.743820446789265,
          4.7723183027803895,
          4.800816158771515,
          4.82931401476264,
          4.857811870753765,
          4.88630972674489,
          4.914807582736016,
          4.9433054387271405,
          4.971803294718265,
          5.000301150709391,
          5.028799006700516,
          5.057296862691641,
          5.085794718682766,
          5.114292574673891,
          5.142790430665016,
          5.171288286656141,
          5.199786142647266,
          5.228283998638392,
          5.256781854629517,
          5.2852797106206415,
          5.313777566611767,
          5.342275422602892,
          5.370773278594017,
          5.399271134585142,
          5.427768990576268,
          5.4562668465673925,
          5.484764702558517,
          5.513262558549642,
          5.541760414540768,
          5.570258270531893,
          5.598756126523018,
          5.6272539825141425,
          5.655751838505268,
          5.684249694496393,
          5.712747550487518,
          5.741245406478644,
          5.769743262469769,
          5.7982411184608935,
          5.826738974452018,
          5.855236830443144,
          5.883734686434269,
          5.912232542425394,
          5.940730398416519,
          5.9692282544076445,
          5.997726110398769,
          6.026223966389894,
          6.05472182238102,
          6.083219678372145,
          6.11171753436327,
          6.140215390354395,
          6.16871324634552,
          6.197211102336645,
          6.22570895832777,
          6.254206814318895,
          6.282704670310021,
          6.3112025263011455,
          6.33970038229227,
          6.368198238283396,
          6.396696094274521,
          6.425193950265646,
          6.453691806256771,
          6.4821896622478965,
          6.510687518239021,
          6.539185374230146,
          6.567683230221271,
          6.596181086212397,
          6.624678942203522,
          6.653176798194647,
          6.681674654185772,
          6.710172510176897,
          6.738670366168022,
          6.767168222159147,
          6.795666078150273,
          6.8241639341413975,
          6.852661790132522,
          6.881159646123647,
          6.909657502114773,
          6.938155358105898,
          6.966653214097023,
          6.9951510700881485,
          7.023648926079273,
          7.052146782070398,
          7.080644638061523,
          7.109142494052649,
          7.137640350043774,
          7.166138206034899,
          7.1946360620260235,
          7.223133918017149,
          7.251631774008274,
          7.280129629999399,
          7.308627485990525,
          7.33712534198165,
          7.365623197972774,
          7.394121053963899,
          7.422618909955025,
          7.45111676594615,
          7.479614621937275,
          7.5081124779284,
          7.536610333919525,
          7.56510818991065,
          7.593606045901775,
          7.622103901892901,
          7.650601757884026,
          7.679099613875151,
          7.7075974698662755,
          7.736095325857401,
          7.764593181848526,
          7.793091037839651,
          7.821588893830776,
          7.850086749821902,
          7.878584605813026,
          7.907082461804151,
          7.935580317795277,
          7.964078173786402,
          7.992576029777527,
          8.02107388576865,
          8.049571741759777,
          8.078069597750902,
          8.106567453742027,
          8.135065309733152,
          8.163563165724277,
          8.192061021715402,
          8.220558877706528,
          8.249056733697653,
          8.277554589688778,
          8.306052445679903,
          8.334550301671028,
          8.363048157662153,
          8.391546013653278,
          8.420043869644404,
          8.448541725635529,
          8.477039581626654,
          8.505537437617779,
          8.534035293608904,
          8.562533149600029,
          8.591031005591153,
          8.61952886158228,
          8.648026717573405,
          8.67652457356453,
          8.705022429555655,
          8.73352028554678,
          8.762018141537904,
          8.79051599752903,
          8.819013853520154,
          8.84751170951128,
          8.876009565502406,
          8.90450742149353,
          8.933005277484655,
          8.96150313347578,
          8.990000989466905,
          9.01849884545803,
          9.046996701449157,
          9.075494557440281,
          9.103992413431406,
          9.132490269422531,
          9.160988125413656,
          9.189485981404781,
          9.217983837395906,
          9.246481693387032,
          9.274979549378157,
          9.303477405369282,
          9.331975261360407,
          9.360473117351532,
          9.388970973342657,
          9.417468829333782,
          9.445966685324906,
          9.474464541316033,
          9.502962397307158,
          9.531460253298283,
          9.559958109289408,
          9.588455965280533,
          9.616953821271657,
          9.645451677262782,
          9.673949533253909,
          9.702447389245034,
          9.730945245236159,
          9.759443101227284,
          9.787940957218408,
          9.816438813209533,
          9.844936669200658,
          9.873434525191785,
          9.90193238118291,
          9.930430237174035,
          9.95892809316516,
          9.987425949156284,
          10.015923805147409,
          10.044421661138534,
          10.072919517129659,
          10.101417373120785,
          10.12991522911191,
          10.158413085103035,
          10.18691094109416,
          10.215408797085285,
          10.24390665307641,
          10.272404509067535,
          10.300902365058661,
          10.329400221049786,
          10.357898077040911,
          10.386395933032036,
          10.41489378902316,
          10.443391645014286,
          10.47188950100541,
          10.500387356996537,
          10.528885212987662,
          10.557383068978787,
          10.585880924969912,
          10.614378780961037,
          10.642876636952161,
          10.671374492943286,
          10.699872348934411,
          10.728370204925538,
          10.756868060916663,
          10.785365916907788,
          10.813863772898912,
          10.842361628890037,
          10.870859484881162,
          10.899357340872287,
          10.927855196863414,
          10.956353052854539,
          10.984850908845663,
          11.013348764836788,
          11.041846620827913,
          11.070344476819038,
          11.098842332810163,
          11.127340188801288,
          11.155838044792414,
          11.18433590078354,
          11.212833756774664,
          11.241331612765789,
          11.269829468756914,
          11.298327324748039,
          11.326825180739164,
          11.35532303673029,
          11.383820892721415,
          11.41231874871254,
          11.440816604703665,
          11.46931446069479,
          11.497812316685915,
          11.52631017267704,
          11.554808028668166,
          11.583305884659291,
          11.611803740650416,
          11.64030159664154,
          11.668799452632665,
          11.69729730862379,
          11.725795164614915,
          11.75429302060604,
          11.782790876597167,
          11.811288732588292,
          11.839786588579416,
          11.868284444570541,
          11.896782300561666,
          11.925280156552791,
          11.953778012543916,
          11.982275868535043,
          12.010773724526167,
          12.039271580517292,
          12.067769436508417,
          12.096267292499542,
          12.124765148490667,
          12.153263004481792,
          12.181760860472918,
          12.210258716464043,
          12.238756572455168,
          12.267254428446293,
          12.295752284437418,
          12.324250140428543,
          12.352747996419668,
          12.381245852410792,
          12.409743708401919,
          12.438241564393044,
          12.466739420384169,
          12.495237276375294,
          12.523735132366419,
          12.552232988357543,
          12.580730844348668,
          12.609228700339795,
          12.63772655633092,
          12.666224412322045,
          12.69472226831317,
          12.723220124304294,
          12.75171798029542,
          12.780215836286544,
          12.80871369227767,
          12.837211548268796,
          12.86570940425992,
          12.894207260251045,
          12.92270511624217,
          12.951202972233295,
          12.97970082822442,
          13.008198684215545,
          13.036696540206671,
          13.065194396197796,
          13.093692252188921,
          13.122190108180046,
          13.150687964171171,
          13.179185820162296,
          13.20768367615342,
          13.236181532144547,
          13.264679388135672,
          13.293177244126797,
          13.321675100117922,
          13.350172956109047,
          13.378670812100172,
          13.407168668091296,
          13.435666524082423,
          13.464164380073548,
          13.492662236064673,
          13.521160092055798,
          13.549657948046923,
          13.578155804038047,
          13.606653660029172,
          13.635151516020297,
          13.663649372011424,
          13.692147228002549,
          13.720645083993674,
          13.749142939984798,
          13.777640795975923,
          13.806138651967048,
          13.834636507958173,
          13.8631343639493,
          13.891632219940425,
          13.92013007593155,
          13.948627931922674,
          13.9771257879138,
          14.005623643904924,
          14.034121499896049,
          14.062619355887175,
          14.0911172118783,
          14.119615067869425,
          14.14811292386055,
          14.176610779851675,
          14.2051086358428,
          14.233606491833925,
          14.26210434782505,
          14.290602203816176,
          14.319100059807301,
          14.347597915798426
         ],
         "xaxis": "x",
         "y": [
          0.11034219774943918,
          0.1124671340277964,
          0.11458362479295262,
          0.11669005044929967,
          0.11878479704527915,
          0.12086625897601011,
          0.12293284165185864,
          0.12498296412575773,
          0.1270150616723665,
          0.12902758831246727,
          0.1310190192763285,
          0.13298785340012234,
          0.1349326154498566,
          0.13685185836767283,
          0.13874416543577178,
          0.1406081523536421,
          0.1424424692246925,
          0.14424580244882615,
          0.14601687651792083,
          0.14775445571162055,
          0.1494573456912724,
          0.15112439499026814,
          0.15275449639947086,
          0.15434658824681263,
          0.15589965557054677,
          0.15741273118601692,
          0.15888489664617117,
          0.16031528309639867,
          0.16170307202458364,
          0.16304749590758671,
          0.16434783875564463,
          0.1656034365564315,
          0.1668136776207764,
          0.16797800283222672,
          0.1690959058028503,
          0.17016693293782403,
          0.1711906834114956,
          0.17216680905772855,
          0.1730950141774229,
          0.17397505526618015,
          0.17480674066512988,
          0.175589930137958,
          0.17632453437719317,
          0.17701051444279078,
          0.17764788113603583,
          0.1782366943117409,
          0.17877706213166383,
          0.17926914026200613,
          0.17971313101777517,
          0.18010928245671307,
          0.18045788742540472,
          0.1807592825600835,
          0.18101384724455505,
          0.18122200252756207,
          0.18138421000181437,
          0.18150097064680823,
          0.18157282363746802,
          0.18160034512055287,
          0.18158414696067854,
          0.1815248754577366,
          0.1814232100374098,
          0.18127986191642678,
          0.18109557274413385,
          0.18087111322192287,
          0.18060728170200974,
          0.18030490276702993,
          0.17996482579189813,
          0.17958792348936678,
          0.17917509044071844,
          0.17872724161302897,
          0.17824531086445902,
          0.1777302494390453,
          0.17718302445250225,
          0.17660461737056798,
          0.17599602248148113,
          0.17535824536420846,
          0.17469230135410052,
          0.17399921400769844,
          0.17328001356847186,
          0.17253573543531697,
          0.17176741863570227,
          0.17097610430539814,
          0.17016283417677935,
          0.1693286490777343,
          0.16847458744326313,
          0.16760168384188084,
          0.16671096751897949,
          0.16580346095933088,
          0.1648801784709322,
          0.16394212479241416,
          0.16299029372623589,
          0.16202566679989477,
          0.16104921195736985,
          0.1600618822829993,
          0.15906461475997705,
          0.15805832906560932,
          0.157043926405447,
          0.1560222883883469,
          0.15499427594447385,
          0.153960728288184,
          0.15292246192766368,
          0.1518802697231207,
          0.15083491999524765,
          0.14978715568558015,
          0.14873769357028901,
          0.14768722352884095,
          0.14663640786886478,
          0.1455858807084489,
          0.14453624741699428,
          0.14348808411562794,
          0.14244193723807147,
          0.1413983231527448,
          0.14035772784676295,
          0.13932060667237067,
          0.13828738415623698,
          0.1372584538719149,
          0.1362341783756502,
          0.1352148892056047,
          0.13420088694444116,
          0.13319244134509786,
          0.1321897915194629,
          0.1311931461895416,
          0.1302026840005945,
          0.12921855389560633,
          0.12824087555033345,
          0.1272697398680607,
          0.12630520953308705,
          0.12534731962184464,
          0.12439607827044516,
          0.1234514673973322,
          0.12251344347960919,
          0.12158193838149961,
          0.12065686023328372,
          0.11973809435894642,
          0.11882550425065774,
          0.11791893258809799,
          0.1170182023005277,
          0.11612311766939255,
          0.11523346546914377,
          0.11434901614384368,
          0.1134695250170214,
          0.11259473353213217,
          0.11172437052087214,
          0.11085815349649548,
          0.10999578996917951,
          0.10913697878038685,
          0.10828141145307772,
          0.10742877355453671,
          0.1065787460684904,
          0.10573100677311466,
          0.10488523162145352,
          0.10404109612070471,
          0.10319827670676744,
          0.10235645211039437,
          0.10151530471124748,
          0.10067452187612284,
          0.09983379727758639,
          0.09899283218924955,
          0.09815133675391384,
          0.09730903122082168,
          0.09646564714827895,
          0.09562092856794717,
          0.09477463310715849,
          0.0939265330656681,
          0.09307641644334093,
          0.09222408791536182,
          0.09136936975166864,
          0.09051210267743139,
          0.08965214667153977,
          0.08878938170021533,
          0.08792370838303323,
          0.08705504858882133,
          0.08618334595910275,
          0.08530856635695609,
          0.08443069823939456,
          0.08354975295159835,
          0.08266576494158356,
          0.0817787918941489,
          0.08088891478321007,
          0.07999623784190639,
          0.07910088845015267,
          0.07820301693959508,
          0.07730279631623163,
          0.07640042190125379,
          0.07549611089097148,
          0.0745901018369867,
          0.07368265404808669,
          0.07277404691562844,
          0.0718645791644884,
          0.07095456803194515,
          0.07004434837715309,
          0.06913427172414786,
          0.06822470524159618,
          0.0673160306627693,
          0.0664086431494672,
          0.06550295010386349,
          0.0645993699324633,
          0.0636983307665771,
          0.06280026914390686,
          0.061905628656014566,
          0.06101485856660271,
          0.060128412405670566,
          0.059246746544729785,
          0.058370318758355896,
          0.057499586777429154,
          0.056635006839466616,
          0.05577703224147998,
          0.05492611190079548,
          0.05408268892925902,
          0.053247199226205605,
          0.052420070095510085,
          0.05160171889194855,
          0.05079255170198976,
          0.04999296206400309,
          0.04920332973271544,
          0.04842401949257323,
          0.047655380024469146,
          0.04689774283007663,
          0.04615142121779941,
          0.04541670935409105,
          0.04469388138362788,
          0.043983190621534246,
          0.04328486882055873,
          0.042599125515787255,
          0.04192614744915463,
          0.04126609807568268,
          0.04061911715303014,
          0.03998532041559123,
          0.039364799334024744,
          0.03875762096073959,
          0.038163827861502166,
          0.03758343813297385,
          0.0370164455056279,
          0.036462819531143935,
          0.03592250585302779,
          0.03539542655886539,
          0.034881480612284924,
          0.03438054436238101,
          0.03389247212804271,
          0.03341709685433074,
          0.03295423083776611,
          0.03250366651712662,
          0.03206517732609748,
          0.03163851860389217,
          0.0312234285597477,
          0.030819629287008335,
          0.030426827822341004,
          0.030044717245478858,
          0.029672977814763697,
          0.02931127813365626,
          0.028959276343303777,
          0.02861662133619993,
          0.028282953985939496,
          0.027957908388062877,
          0.02764111310699978,
          0.027332192424160486,
          0.02703076758228284,
          0.02673645802122663,
          0.026448882600510024,
          0.026167660804007883,
          0.025892413922374943,
          0.025622766208919658,
          0.025358346004833675,
          0.025098786829878487,
          0.024843728434840805,
          0.024592817812292958,
          0.024345710162430836,
          0.024102069811009066,
          0.02386157107664934,
          0.023623899085061652,
          0.02338875052798852,
          0.023155834364956673,
          0.022924872466198593,
          0.022695600195385475,
          0.0224677669310925,
          0.02224113652619546,
          0.022015487704672387,
          0.021790614395555467,
          0.02156632600404324,
          0.021342447620042847,
          0.02111882016466163,
          0.020895300475411212,
          0.02067176133111767,
          0.02044809141775398,
          0.02022419523662015,
          0.019999992956494357,
          0.019775420211562793,
          0.019550427847107876,
          0.01932498161509159,
          0.01909906182191491,
          0.01887266293076324,
          0.018645793121063584,
          0.018418473807679338,
          0.01819073912255581,
          0.017962635361601993,
          0.017734220399652622,
          0.017505563076400367,
          0.017276742556219745,
          0.01704784766482396,
          0.016818976205703516,
          0.016590234259290577,
          0.016361735467778245,
          0.016133600308497864,
          0.015905955358721694,
          0.015678932554713802,
          0.015452668447798563,
          0.015227303460154617,
          0.01500298114297462,
          0.014779847439554997,
          0.014558049955800262,
          0.014337737240539146,
          0.014119058077959776,
          0.013902160794375566,
          0.0136871925814349,
          0.013474298837785868,
          0.01326362253110284,
          0.01305530358227497,
          0.012849478273448022,
          0.012646278681500717,
          0.012445832138426066,
          0.01224826071997528,
          0.01205368076380981,
          0.011862202418292998,
          0.011673929222940476,
          0.011488957721433922,
          0.011307377107990133,
          0.011129268907763586,
          0.010954706691848368,
          0.010783755827332361,
          0.010616473262745021,
          0.010452907349128205,
          0.010293097696849543,
          0.01013707506816712,
          0.009984861305445751,
          0.009836469294816522,
          0.009691902964964725,
          0.009551157320625054,
          0.009414218510258547,
          0.009281063927282894,
          0.009151662344126416,
          0.009025974078276478,
          0.008903951189396195,
          0.008785537706488005,
          0.008670669883991016,
          0.008559276485609203,
          0.008451279094581968,
          0.008346592449025712,
          0.00824512480089678,
          0.008146778297051502,
          0.008051449380809393,
          0.007959029212360563,
          0.007869404106298872,
          0.007782455984508142,
          0.0076980628425809185,
          0.0076160992279071015,
          0.007536436727534888,
          0.007458944463877781,
          0.007383489596320305,
          0.007309937826761091,
          0.0072381539071256365,
          0.007168002146882418,
          0.00709934691860515,
          0.0070320531596410945,
          0.006965986867970474,
          0.006901015590374875,
          0.0068370089010735555,
          0.006773838869035154,
          0.006711380512228551,
          0.006649512237140463,
          0.006588116261957996,
          0.006527079021892211,
          0.006466291555202834,
          0.006405649868574558,
          0.006345055280591205,
          0.006284414742155069,
          0.006223641132804391,
          0.006162653531991696,
          0.006101377464498809,
          0.0060397451192804735,
          0.005977695541146726,
          0.005915174794814103,
          0.005852136100976326,
          0.005788539944166344,
          0.0057243541523018925,
          0.005659553947926481,
          0.005594121971275193,
          0.005528048275410263,
          0.005461330293783477,
          0.005393972780691554,
          0.005325987725194893,
          0.005257394239170396,
          0.0051882184202635285,
          0.0051184931905942695,
          0.005048258112154512,
          0.0049775591799115825,
          0.004906448593702465,
          0.004834984510066847,
          0.004763230775223199,
          0.004691256640441095,
          0.004619136461104665,
          0.004546949380796508,
          0.004474779001758347,
          0.004402713043104661,
          0.004330842988178112,
          0.004259263722441722,
          0.004188073163301663,
          0.004117371883247507,
          0.004047262727683321,
          0.003977850428804151,
          0.003909241216847871,
          0.0038415424300231806,
          0.0037748621243804963,
          0.00370930868485489,
          0.0036449904386683827,
          0.003582015272234543,
          0.0035204902526608786,
          0.003460521254895301,
          0.0034022125955116235,
          0.0033456666740768306,
          0.0032909836229896845,
          0.0032382609666268256,
          0.0031875932905789874,
          0.0031390719217071162,
          0.003092784619695812,
          0.003048815280730636,
          0.003007243653875888,
          0.0029681450706816356,
          0.002931590188502329,
          0.0028976447479653403,
          0.002866369344985536,
          0.0028378192176822816,
          0.0028120440485176193,
          0.002789087781939211,
          0.0027689884577784965,
          0.0027517780606238305,
          0.0027374823853594916,
          0.002726120919034818,
          0.002717706739202601,
          0.002712246428842588,
          0.002709740007963866,
          0.002710180881959085,
          0.002713555806763524,
          0.0027198448708526846,
          0.0027290214940931846,
          0.002741052443442871,
          0.002755897865477086,
          0.002773511335698567,
          0.0027938399245683223,
          0.002816824280173763,
          0.0028423987274280747,
          0.0028704913836712195,
          0.002901024290517733,
          0.0029339135617695643,
          0.0029690695471834144,
          0.003006397011851284,
          0.0030457953309202287,
          0.003087158699342496,
          0.0031303763563103725,
          0.003175332823991309,
          0.003221908160138121,
          0.0032699782241066375,
          0.0033194149557689433,
          0.0033700866667650074,
          0.003421858343488559,
          0.0034745919611556832,
          0.003528146808256113,
          0.0035823798206388435,
          0.0036371459244350763,
          0.0036922983869735236,
          0.003747689174795837,
          0.0038031693178339192,
          0.0038585892787665692,
          0.003913799326530689,
          0.003968649912922424,
          0.004022992051186952,
          0.004076677695462048,
          0.004129560119911027,
          0.004181494296355021,
          0.00423233726919362,
          0.004281948526386844,
          0.0043301903652605295,
          0.0043769282518917405,
          0.004422031172831319,
          0.004465371977926894,
          0.004506827713022324,
          0.004546279941328041,
          0.004583615052282141,
          0.004618724556753408,
          0.004651505367475405,
          0.004681860063644936,
          0.004709697138668613,
          0.004734931230097746,
          0.0047574833308539795,
          0.004777280980916024,
          0.0047942584387109235,
          0.00480835683153132,
          0.004819524284382769,
          0.004827716026751737,
          0.004832894476875201,
          0.004835029303186128
         ],
         "yaxis": "y"
        },
        {
         "legendgroup": "",
         "marker": {
          "color": "gray",
          "symbol": "line-ns-open"
         },
         "mode": "markers",
         "name": "",
         "showlegend": false,
         "type": "scatter",
         "x": [
          0.12716777622699738,
          0.1442408412694931,
          0.23550422489643097,
          0.23871852457523346,
          0.3098284602165222,
          0.35042065382003784,
          0.37518835067749023,
          0.4479137361049652,
          0.5599837303161621,
          0.5994336605072021,
          0.7115264534950256,
          0.7598552703857422,
          0.9442958831787109,
          0.9533209204673767,
          0.9589486718177795,
          1.105347752571106,
          1.160831093788147,
          1.1805130243301392,
          1.24135160446167,
          1.2617406845092773,
          1.275721549987793,
          1.3126779794692993,
          1.4050946235656738,
          1.5082813501358032,
          1.5529870986938477,
          1.588202953338623,
          1.7231899499893188,
          1.828569769859314,
          1.9477710723876953,
          1.955793857574463,
          1.9970759153366089,
          2.0368194580078125,
          2.0966906547546387,
          2.164425849914551,
          2.182741641998291,
          2.252495527267456,
          2.278435230255127,
          2.287506341934204,
          2.3299427032470703,
          2.372821807861328,
          2.5241568088531494,
          2.550199508666992,
          2.6966686248779297,
          2.9145402908325195,
          2.961029529571533,
          3.1754133701324463,
          3.2013440132141113,
          3.2732162475585938,
          3.2979092597961426,
          3.3925352096557617,
          3.5130372047424316,
          3.5342657566070557,
          3.6103079319000244,
          3.9780476093292236,
          4.023274898529053,
          4.101527214050293,
          4.251460552215576,
          4.442164421081543,
          4.5123186111450195,
          4.717530727386475,
          4.724466323852539,
          4.814153671264648,
          5.162358283996582,
          5.269881248474121,
          5.311816692352295,
          5.3646016120910645,
          5.46895170211792,
          5.6116461753845215,
          6.164071559906006,
          6.314947605133057,
          7.551337242126465,
          7.783726692199707,
          7.961616516113281,
          8.931047439575195,
          10.891047477722168,
          14.37609577178955
         ],
         "xaxis": "x",
         "y": [
          "",
          "",
          "",
          "",
          "",
          "",
          "",
          "",
          "",
          "",
          "",
          "",
          "",
          "",
          "",
          "",
          "",
          "",
          "",
          "",
          "",
          "",
          "",
          "",
          "",
          "",
          "",
          "",
          "",
          "",
          "",
          "",
          "",
          "",
          "",
          "",
          "",
          "",
          "",
          "",
          "",
          "",
          "",
          "",
          "",
          "",
          "",
          "",
          "",
          "",
          "",
          "",
          "",
          "",
          "",
          "",
          "",
          "",
          "",
          "",
          "",
          "",
          "",
          "",
          "",
          "",
          "",
          "",
          "",
          "",
          "",
          "",
          "",
          "",
          "",
          ""
         ],
         "yaxis": "y2"
        }
       ],
       "layout": {
        "barmode": "overlay",
        "font": {
         "color": "black",
         "family": "Helvetica",
         "size": 24
        },
        "height": 500,
        "hovermode": "closest",
        "legend": {
         "bgcolor": "rgba(0,0,0,0)",
         "orientation": "v",
         "traceorder": "reversed",
         "x": 0.5,
         "y": 1
        },
        "margin": {
         "b": 100,
         "l": 100,
         "r": 10,
         "t": 10
        },
        "paper_bgcolor": "rgba(255,255,255,100)",
        "plot_bgcolor": "white",
        "showlegend": false,
        "template": {
         "data": {
          "bar": [
           {
            "error_x": {
             "color": "#2a3f5f"
            },
            "error_y": {
             "color": "#2a3f5f"
            },
            "marker": {
             "line": {
              "color": "#E5ECF6",
              "width": 0.5
             },
             "pattern": {
              "fillmode": "overlay",
              "size": 10,
              "solidity": 0.2
             }
            },
            "type": "bar"
           }
          ],
          "barpolar": [
           {
            "marker": {
             "line": {
              "color": "#E5ECF6",
              "width": 0.5
             },
             "pattern": {
              "fillmode": "overlay",
              "size": 10,
              "solidity": 0.2
             }
            },
            "type": "barpolar"
           }
          ],
          "carpet": [
           {
            "aaxis": {
             "endlinecolor": "#2a3f5f",
             "gridcolor": "white",
             "linecolor": "white",
             "minorgridcolor": "white",
             "startlinecolor": "#2a3f5f"
            },
            "baxis": {
             "endlinecolor": "#2a3f5f",
             "gridcolor": "white",
             "linecolor": "white",
             "minorgridcolor": "white",
             "startlinecolor": "#2a3f5f"
            },
            "type": "carpet"
           }
          ],
          "choropleth": [
           {
            "colorbar": {
             "outlinewidth": 0,
             "ticks": ""
            },
            "type": "choropleth"
           }
          ],
          "contour": [
           {
            "colorbar": {
             "outlinewidth": 0,
             "ticks": ""
            },
            "colorscale": [
             [
              0,
              "#0d0887"
             ],
             [
              0.1111111111111111,
              "#46039f"
             ],
             [
              0.2222222222222222,
              "#7201a8"
             ],
             [
              0.3333333333333333,
              "#9c179e"
             ],
             [
              0.4444444444444444,
              "#bd3786"
             ],
             [
              0.5555555555555556,
              "#d8576b"
             ],
             [
              0.6666666666666666,
              "#ed7953"
             ],
             [
              0.7777777777777778,
              "#fb9f3a"
             ],
             [
              0.8888888888888888,
              "#fdca26"
             ],
             [
              1,
              "#f0f921"
             ]
            ],
            "type": "contour"
           }
          ],
          "contourcarpet": [
           {
            "colorbar": {
             "outlinewidth": 0,
             "ticks": ""
            },
            "type": "contourcarpet"
           }
          ],
          "heatmap": [
           {
            "colorbar": {
             "outlinewidth": 0,
             "ticks": ""
            },
            "colorscale": [
             [
              0,
              "#0d0887"
             ],
             [
              0.1111111111111111,
              "#46039f"
             ],
             [
              0.2222222222222222,
              "#7201a8"
             ],
             [
              0.3333333333333333,
              "#9c179e"
             ],
             [
              0.4444444444444444,
              "#bd3786"
             ],
             [
              0.5555555555555556,
              "#d8576b"
             ],
             [
              0.6666666666666666,
              "#ed7953"
             ],
             [
              0.7777777777777778,
              "#fb9f3a"
             ],
             [
              0.8888888888888888,
              "#fdca26"
             ],
             [
              1,
              "#f0f921"
             ]
            ],
            "type": "heatmap"
           }
          ],
          "heatmapgl": [
           {
            "colorbar": {
             "outlinewidth": 0,
             "ticks": ""
            },
            "colorscale": [
             [
              0,
              "#0d0887"
             ],
             [
              0.1111111111111111,
              "#46039f"
             ],
             [
              0.2222222222222222,
              "#7201a8"
             ],
             [
              0.3333333333333333,
              "#9c179e"
             ],
             [
              0.4444444444444444,
              "#bd3786"
             ],
             [
              0.5555555555555556,
              "#d8576b"
             ],
             [
              0.6666666666666666,
              "#ed7953"
             ],
             [
              0.7777777777777778,
              "#fb9f3a"
             ],
             [
              0.8888888888888888,
              "#fdca26"
             ],
             [
              1,
              "#f0f921"
             ]
            ],
            "type": "heatmapgl"
           }
          ],
          "histogram": [
           {
            "marker": {
             "pattern": {
              "fillmode": "overlay",
              "size": 10,
              "solidity": 0.2
             }
            },
            "type": "histogram"
           }
          ],
          "histogram2d": [
           {
            "colorbar": {
             "outlinewidth": 0,
             "ticks": ""
            },
            "colorscale": [
             [
              0,
              "#0d0887"
             ],
             [
              0.1111111111111111,
              "#46039f"
             ],
             [
              0.2222222222222222,
              "#7201a8"
             ],
             [
              0.3333333333333333,
              "#9c179e"
             ],
             [
              0.4444444444444444,
              "#bd3786"
             ],
             [
              0.5555555555555556,
              "#d8576b"
             ],
             [
              0.6666666666666666,
              "#ed7953"
             ],
             [
              0.7777777777777778,
              "#fb9f3a"
             ],
             [
              0.8888888888888888,
              "#fdca26"
             ],
             [
              1,
              "#f0f921"
             ]
            ],
            "type": "histogram2d"
           }
          ],
          "histogram2dcontour": [
           {
            "colorbar": {
             "outlinewidth": 0,
             "ticks": ""
            },
            "colorscale": [
             [
              0,
              "#0d0887"
             ],
             [
              0.1111111111111111,
              "#46039f"
             ],
             [
              0.2222222222222222,
              "#7201a8"
             ],
             [
              0.3333333333333333,
              "#9c179e"
             ],
             [
              0.4444444444444444,
              "#bd3786"
             ],
             [
              0.5555555555555556,
              "#d8576b"
             ],
             [
              0.6666666666666666,
              "#ed7953"
             ],
             [
              0.7777777777777778,
              "#fb9f3a"
             ],
             [
              0.8888888888888888,
              "#fdca26"
             ],
             [
              1,
              "#f0f921"
             ]
            ],
            "type": "histogram2dcontour"
           }
          ],
          "mesh3d": [
           {
            "colorbar": {
             "outlinewidth": 0,
             "ticks": ""
            },
            "type": "mesh3d"
           }
          ],
          "parcoords": [
           {
            "line": {
             "colorbar": {
              "outlinewidth": 0,
              "ticks": ""
             }
            },
            "type": "parcoords"
           }
          ],
          "pie": [
           {
            "automargin": true,
            "type": "pie"
           }
          ],
          "scatter": [
           {
            "marker": {
             "colorbar": {
              "outlinewidth": 0,
              "ticks": ""
             }
            },
            "type": "scatter"
           }
          ],
          "scatter3d": [
           {
            "line": {
             "colorbar": {
              "outlinewidth": 0,
              "ticks": ""
             }
            },
            "marker": {
             "colorbar": {
              "outlinewidth": 0,
              "ticks": ""
             }
            },
            "type": "scatter3d"
           }
          ],
          "scattercarpet": [
           {
            "marker": {
             "colorbar": {
              "outlinewidth": 0,
              "ticks": ""
             }
            },
            "type": "scattercarpet"
           }
          ],
          "scattergeo": [
           {
            "marker": {
             "colorbar": {
              "outlinewidth": 0,
              "ticks": ""
             }
            },
            "type": "scattergeo"
           }
          ],
          "scattergl": [
           {
            "marker": {
             "colorbar": {
              "outlinewidth": 0,
              "ticks": ""
             }
            },
            "type": "scattergl"
           }
          ],
          "scattermapbox": [
           {
            "marker": {
             "colorbar": {
              "outlinewidth": 0,
              "ticks": ""
             }
            },
            "type": "scattermapbox"
           }
          ],
          "scatterpolar": [
           {
            "marker": {
             "colorbar": {
              "outlinewidth": 0,
              "ticks": ""
             }
            },
            "type": "scatterpolar"
           }
          ],
          "scatterpolargl": [
           {
            "marker": {
             "colorbar": {
              "outlinewidth": 0,
              "ticks": ""
             }
            },
            "type": "scatterpolargl"
           }
          ],
          "scatterternary": [
           {
            "marker": {
             "colorbar": {
              "outlinewidth": 0,
              "ticks": ""
             }
            },
            "type": "scatterternary"
           }
          ],
          "surface": [
           {
            "colorbar": {
             "outlinewidth": 0,
             "ticks": ""
            },
            "colorscale": [
             [
              0,
              "#0d0887"
             ],
             [
              0.1111111111111111,
              "#46039f"
             ],
             [
              0.2222222222222222,
              "#7201a8"
             ],
             [
              0.3333333333333333,
              "#9c179e"
             ],
             [
              0.4444444444444444,
              "#bd3786"
             ],
             [
              0.5555555555555556,
              "#d8576b"
             ],
             [
              0.6666666666666666,
              "#ed7953"
             ],
             [
              0.7777777777777778,
              "#fb9f3a"
             ],
             [
              0.8888888888888888,
              "#fdca26"
             ],
             [
              1,
              "#f0f921"
             ]
            ],
            "type": "surface"
           }
          ],
          "table": [
           {
            "cells": {
             "fill": {
              "color": "#EBF0F8"
             },
             "line": {
              "color": "white"
             }
            },
            "header": {
             "fill": {
              "color": "#C8D4E3"
             },
             "line": {
              "color": "white"
             }
            },
            "type": "table"
           }
          ]
         },
         "layout": {
          "annotationdefaults": {
           "arrowcolor": "#2a3f5f",
           "arrowhead": 0,
           "arrowwidth": 1
          },
          "autotypenumbers": "strict",
          "coloraxis": {
           "colorbar": {
            "outlinewidth": 0,
            "ticks": ""
           }
          },
          "colorscale": {
           "diverging": [
            [
             0,
             "#8e0152"
            ],
            [
             0.1,
             "#c51b7d"
            ],
            [
             0.2,
             "#de77ae"
            ],
            [
             0.3,
             "#f1b6da"
            ],
            [
             0.4,
             "#fde0ef"
            ],
            [
             0.5,
             "#f7f7f7"
            ],
            [
             0.6,
             "#e6f5d0"
            ],
            [
             0.7,
             "#b8e186"
            ],
            [
             0.8,
             "#7fbc41"
            ],
            [
             0.9,
             "#4d9221"
            ],
            [
             1,
             "#276419"
            ]
           ],
           "sequential": [
            [
             0,
             "#0d0887"
            ],
            [
             0.1111111111111111,
             "#46039f"
            ],
            [
             0.2222222222222222,
             "#7201a8"
            ],
            [
             0.3333333333333333,
             "#9c179e"
            ],
            [
             0.4444444444444444,
             "#bd3786"
            ],
            [
             0.5555555555555556,
             "#d8576b"
            ],
            [
             0.6666666666666666,
             "#ed7953"
            ],
            [
             0.7777777777777778,
             "#fb9f3a"
            ],
            [
             0.8888888888888888,
             "#fdca26"
            ],
            [
             1,
             "#f0f921"
            ]
           ],
           "sequentialminus": [
            [
             0,
             "#0d0887"
            ],
            [
             0.1111111111111111,
             "#46039f"
            ],
            [
             0.2222222222222222,
             "#7201a8"
            ],
            [
             0.3333333333333333,
             "#9c179e"
            ],
            [
             0.4444444444444444,
             "#bd3786"
            ],
            [
             0.5555555555555556,
             "#d8576b"
            ],
            [
             0.6666666666666666,
             "#ed7953"
            ],
            [
             0.7777777777777778,
             "#fb9f3a"
            ],
            [
             0.8888888888888888,
             "#fdca26"
            ],
            [
             1,
             "#f0f921"
            ]
           ]
          },
          "colorway": [
           "#636efa",
           "#EF553B",
           "#00cc96",
           "#ab63fa",
           "#FFA15A",
           "#19d3f3",
           "#FF6692",
           "#B6E880",
           "#FF97FF",
           "#FECB52"
          ],
          "font": {
           "color": "#2a3f5f"
          },
          "geo": {
           "bgcolor": "white",
           "lakecolor": "white",
           "landcolor": "#E5ECF6",
           "showlakes": true,
           "showland": true,
           "subunitcolor": "white"
          },
          "hoverlabel": {
           "align": "left"
          },
          "hovermode": "closest",
          "mapbox": {
           "style": "light"
          },
          "paper_bgcolor": "white",
          "plot_bgcolor": "#E5ECF6",
          "polar": {
           "angularaxis": {
            "gridcolor": "white",
            "linecolor": "white",
            "ticks": ""
           },
           "bgcolor": "#E5ECF6",
           "radialaxis": {
            "gridcolor": "white",
            "linecolor": "white",
            "ticks": ""
           }
          },
          "scene": {
           "xaxis": {
            "backgroundcolor": "#E5ECF6",
            "gridcolor": "white",
            "gridwidth": 2,
            "linecolor": "white",
            "showbackground": true,
            "ticks": "",
            "zerolinecolor": "white"
           },
           "yaxis": {
            "backgroundcolor": "#E5ECF6",
            "gridcolor": "white",
            "gridwidth": 2,
            "linecolor": "white",
            "showbackground": true,
            "ticks": "",
            "zerolinecolor": "white"
           },
           "zaxis": {
            "backgroundcolor": "#E5ECF6",
            "gridcolor": "white",
            "gridwidth": 2,
            "linecolor": "white",
            "showbackground": true,
            "ticks": "",
            "zerolinecolor": "white"
           }
          },
          "shapedefaults": {
           "line": {
            "color": "#2a3f5f"
           }
          },
          "ternary": {
           "aaxis": {
            "gridcolor": "white",
            "linecolor": "white",
            "ticks": ""
           },
           "baxis": {
            "gridcolor": "white",
            "linecolor": "white",
            "ticks": ""
           },
           "bgcolor": "#E5ECF6",
           "caxis": {
            "gridcolor": "white",
            "linecolor": "white",
            "ticks": ""
           }
          },
          "title": {
           "x": 0.05
          },
          "xaxis": {
           "automargin": true,
           "gridcolor": "white",
           "linecolor": "white",
           "ticks": "",
           "title": {
            "standoff": 15
           },
           "zerolinecolor": "white",
           "zerolinewidth": 2
          },
          "yaxis": {
           "automargin": true,
           "gridcolor": "white",
           "linecolor": "white",
           "ticks": "",
           "title": {
            "standoff": 15
           },
           "zerolinecolor": "white",
           "zerolinewidth": 2
          }
         }
        },
        "width": 550,
        "xaxis": {
         "anchor": "y2",
         "color": "black",
         "domain": [
          0,
          1
         ],
         "linecolor": "black",
         "linewidth": 1.5,
         "mirror": "allticks",
         "range": [
          0,
          15
         ],
         "showgrid": false,
         "showline": true,
         "ticklen": 10,
         "ticks": "inside",
         "tickwidth": 1.5,
         "title": {
          "text": "abs. err. (kcal/mol)"
         },
         "zeroline": false
        },
        "yaxis": {
         "anchor": "free",
         "color": "black",
         "domain": [
          0.35,
          1
         ],
         "linecolor": "black",
         "linewidth": 1.5,
         "mirror": "allticks",
         "position": 0,
         "showgrid": false,
         "showline": true,
         "ticklen": 10,
         "ticks": "inside",
         "tickwidth": 1.5,
         "title": {
          "text": "frequency"
         },
         "zeroline": false
        },
        "yaxis2": {
         "anchor": "x",
         "domain": [
          0,
          0.25
         ],
         "dtick": 1,
         "showticklabels": false
        }
       }
      },
      "text/html": [
       "<div>                            <div id=\"71221383-5f27-4750-9364-1918ff8479ab\" class=\"plotly-graph-div\" style=\"height:500px; width:550px;\"></div>            <script type=\"text/javascript\">                require([\"plotly\"], function(Plotly) {                    window.PLOTLYENV=window.PLOTLYENV || {};                                    if (document.getElementById(\"71221383-5f27-4750-9364-1918ff8479ab\")) {                    Plotly.newPlot(                        \"71221383-5f27-4750-9364-1918ff8479ab\",                        [{\"autobinx\":false,\"histnorm\":\"probability density\",\"legendgroup\":\"\",\"marker\":{\"color\":\"gray\"},\"name\":\"\",\"opacity\":0.7,\"x\":[0.12716777622699738,0.1442408412694931,0.23550422489643097,0.23871852457523346,0.3098284602165222,0.35042065382003784,0.37518835067749023,0.4479137361049652,0.5599837303161621,0.5994336605072021,0.7115264534950256,0.7598552703857422,0.9442958831787109,0.9533209204673767,0.9589486718177795,1.105347752571106,1.160831093788147,1.1805130243301392,1.24135160446167,1.2617406845092773,1.275721549987793,1.3126779794692993,1.4050946235656738,1.5082813501358032,1.5529870986938477,1.588202953338623,1.7231899499893188,1.828569769859314,1.9477710723876953,1.955793857574463,1.9970759153366089,2.0368194580078125,2.0966906547546387,2.164425849914551,2.182741641998291,2.252495527267456,2.278435230255127,2.287506341934204,2.3299427032470703,2.372821807861328,2.5241568088531494,2.550199508666992,2.6966686248779297,2.9145402908325195,2.961029529571533,3.1754133701324463,3.2013440132141113,3.2732162475585938,3.2979092597961426,3.3925352096557617,3.5130372047424316,3.5342657566070557,3.6103079319000244,3.9780476093292236,4.023274898529053,4.101527214050293,4.251460552215576,4.442164421081543,4.5123186111450195,4.717530727386475,4.724466323852539,4.814153671264648,5.162358283996582,5.269881248474121,5.311816692352295,5.3646016120910645,5.46895170211792,5.6116461753845215,6.164071559906006,6.314947605133057,7.551337242126465,7.783726692199707,7.961616516113281,8.931047439575195,10.891047477722168,14.37609577178955],\"xaxis\":\"x\",\"xbins\":{\"end\":14.37609577178955,\"size\":0.5,\"start\":0.12716777622699738},\"yaxis\":\"y\",\"type\":\"histogram\"},{\"legendgroup\":\"\",\"marker\":{\"color\":\"gray\"},\"mode\":\"lines\",\"name\":\"\",\"showlegend\":false,\"x\":[0.12716777622699738,0.1556656322181225,0.1841634882092476,0.2126613442003727,0.2411592001914978,0.2696570561826229,0.298154912173748,0.3266527681648731,0.35515062415599824,0.3836484801471233,0.41214633613824847,0.44064419212937356,0.46914204812049864,0.4976399041116238,0.5261377601027488,0.5546356160938739,0.5831334720849991,0.6116313280761242,0.6401291840672493,0.6686270400583744,0.6971248960494996,0.7256227520406247,0.7541206080317497,0.7826184640228748,0.8111163200139999,0.839614176005125,0.8681120319962502,0.8966098879873753,0.9251077439785004,0.9536055999696255,0.9821034559607505,1.0106013119518757,1.0390991679430008,1.067597023934126,1.096094879925251,1.124592735916376,1.1530905919075012,1.1815884478986263,1.2100863038897514,1.2385841598808764,1.2670820158720018,1.2955798718631268,1.324077727854252,1.352575583845377,1.381073439836502,1.4095712958276272,1.4380691518187523,1.4665670078098774,1.4950648638010025,1.5235627197921275,1.5520605757832526,1.5805584317743777,1.609056287765503,1.6375541437566281,1.6660519997477532,1.6945498557388783,1.7230477117300034,1.7515455677211285,1.7800434237122535,1.8085412797033786,1.8370391356945037,1.8655369916856288,1.894034847676754,1.9225327036678792,1.9510305596590043,1.9795284156501294,2.0080262716412545,2.0365241276323793,2.0650219836235046,2.09351983961463,2.122017695605755,2.15051555159688,2.179013407588005,2.2075112635791303,2.236009119570255,2.2645069755613805,2.2930048315525053,2.3215026875436306,2.3500005435347555,2.378498399525881,2.406996255517006,2.435494111508131,2.4639919674992563,2.492489823490381,2.5209876794815065,2.5494855354726313,2.5779833914637567,2.6064812474548815,2.634979103446007,2.6634769594371317,2.691974815428257,2.7204726714193823,2.748970527410507,2.7774683834016325,2.8059662393927574,2.8344640953838827,2.8629619513750075,2.891459807366133,2.9199576633572577,2.948455519348383,2.976953375339508,3.005451231330633,3.033949087321758,3.0624469433128834,3.0909447993040087,3.1194426552951335,3.147940511286259,3.1764383672773837,3.204936223268509,3.233434079259634,3.261931935250759,3.290429791241884,3.3189276472330094,3.3474255032241342,3.3759233592152595,3.404421215206385,3.4329190711975097,3.461416927188635,3.48991478317976,3.518412639170885,3.54691049516201,3.5754083511531354,3.6039062071442602,3.6324040631353856,3.6609019191265104,3.6893997751176357,3.717897631108761,3.746395487099886,3.774893343091011,3.803391199082136,3.8318890550732614,3.8603869110643863,3.8888847670555116,3.9173826230466364,3.9458804790377617,3.9743783350288866,4.002876191020012,4.031374047011138,4.0598719030022625,4.088369758993387,4.116867614984512,4.145365470975637,4.173863326966763,4.202361182957888,4.230859038949013,4.2593568949401375,4.287854750931263,4.316352606922388,4.344850462913513,4.373348318904639,4.401846174895764,4.430344030886888,4.458841886878013,4.487339742869139,4.515837598860264,4.544335454851389,4.572833310842514,4.601331166833639,4.629829022824764,4.658326878815889,4.686824734807015,4.71532259079814,4.743820446789265,4.7723183027803895,4.800816158771515,4.82931401476264,4.857811870753765,4.88630972674489,4.914807582736016,4.9433054387271405,4.971803294718265,5.000301150709391,5.028799006700516,5.057296862691641,5.085794718682766,5.114292574673891,5.142790430665016,5.171288286656141,5.199786142647266,5.228283998638392,5.256781854629517,5.2852797106206415,5.313777566611767,5.342275422602892,5.370773278594017,5.399271134585142,5.427768990576268,5.4562668465673925,5.484764702558517,5.513262558549642,5.541760414540768,5.570258270531893,5.598756126523018,5.6272539825141425,5.655751838505268,5.684249694496393,5.712747550487518,5.741245406478644,5.769743262469769,5.7982411184608935,5.826738974452018,5.855236830443144,5.883734686434269,5.912232542425394,5.940730398416519,5.9692282544076445,5.997726110398769,6.026223966389894,6.05472182238102,6.083219678372145,6.11171753436327,6.140215390354395,6.16871324634552,6.197211102336645,6.22570895832777,6.254206814318895,6.282704670310021,6.3112025263011455,6.33970038229227,6.368198238283396,6.396696094274521,6.425193950265646,6.453691806256771,6.4821896622478965,6.510687518239021,6.539185374230146,6.567683230221271,6.596181086212397,6.624678942203522,6.653176798194647,6.681674654185772,6.710172510176897,6.738670366168022,6.767168222159147,6.795666078150273,6.8241639341413975,6.852661790132522,6.881159646123647,6.909657502114773,6.938155358105898,6.966653214097023,6.9951510700881485,7.023648926079273,7.052146782070398,7.080644638061523,7.109142494052649,7.137640350043774,7.166138206034899,7.1946360620260235,7.223133918017149,7.251631774008274,7.280129629999399,7.308627485990525,7.33712534198165,7.365623197972774,7.394121053963899,7.422618909955025,7.45111676594615,7.479614621937275,7.5081124779284,7.536610333919525,7.56510818991065,7.593606045901775,7.622103901892901,7.650601757884026,7.679099613875151,7.7075974698662755,7.736095325857401,7.764593181848526,7.793091037839651,7.821588893830776,7.850086749821902,7.878584605813026,7.907082461804151,7.935580317795277,7.964078173786402,7.992576029777527,8.02107388576865,8.049571741759777,8.078069597750902,8.106567453742027,8.135065309733152,8.163563165724277,8.192061021715402,8.220558877706528,8.249056733697653,8.277554589688778,8.306052445679903,8.334550301671028,8.363048157662153,8.391546013653278,8.420043869644404,8.448541725635529,8.477039581626654,8.505537437617779,8.534035293608904,8.562533149600029,8.591031005591153,8.61952886158228,8.648026717573405,8.67652457356453,8.705022429555655,8.73352028554678,8.762018141537904,8.79051599752903,8.819013853520154,8.84751170951128,8.876009565502406,8.90450742149353,8.933005277484655,8.96150313347578,8.990000989466905,9.01849884545803,9.046996701449157,9.075494557440281,9.103992413431406,9.132490269422531,9.160988125413656,9.189485981404781,9.217983837395906,9.246481693387032,9.274979549378157,9.303477405369282,9.331975261360407,9.360473117351532,9.388970973342657,9.417468829333782,9.445966685324906,9.474464541316033,9.502962397307158,9.531460253298283,9.559958109289408,9.588455965280533,9.616953821271657,9.645451677262782,9.673949533253909,9.702447389245034,9.730945245236159,9.759443101227284,9.787940957218408,9.816438813209533,9.844936669200658,9.873434525191785,9.90193238118291,9.930430237174035,9.95892809316516,9.987425949156284,10.015923805147409,10.044421661138534,10.072919517129659,10.101417373120785,10.12991522911191,10.158413085103035,10.18691094109416,10.215408797085285,10.24390665307641,10.272404509067535,10.300902365058661,10.329400221049786,10.357898077040911,10.386395933032036,10.41489378902316,10.443391645014286,10.47188950100541,10.500387356996537,10.528885212987662,10.557383068978787,10.585880924969912,10.614378780961037,10.642876636952161,10.671374492943286,10.699872348934411,10.728370204925538,10.756868060916663,10.785365916907788,10.813863772898912,10.842361628890037,10.870859484881162,10.899357340872287,10.927855196863414,10.956353052854539,10.984850908845663,11.013348764836788,11.041846620827913,11.070344476819038,11.098842332810163,11.127340188801288,11.155838044792414,11.18433590078354,11.212833756774664,11.241331612765789,11.269829468756914,11.298327324748039,11.326825180739164,11.35532303673029,11.383820892721415,11.41231874871254,11.440816604703665,11.46931446069479,11.497812316685915,11.52631017267704,11.554808028668166,11.583305884659291,11.611803740650416,11.64030159664154,11.668799452632665,11.69729730862379,11.725795164614915,11.75429302060604,11.782790876597167,11.811288732588292,11.839786588579416,11.868284444570541,11.896782300561666,11.925280156552791,11.953778012543916,11.982275868535043,12.010773724526167,12.039271580517292,12.067769436508417,12.096267292499542,12.124765148490667,12.153263004481792,12.181760860472918,12.210258716464043,12.238756572455168,12.267254428446293,12.295752284437418,12.324250140428543,12.352747996419668,12.381245852410792,12.409743708401919,12.438241564393044,12.466739420384169,12.495237276375294,12.523735132366419,12.552232988357543,12.580730844348668,12.609228700339795,12.63772655633092,12.666224412322045,12.69472226831317,12.723220124304294,12.75171798029542,12.780215836286544,12.80871369227767,12.837211548268796,12.86570940425992,12.894207260251045,12.92270511624217,12.951202972233295,12.97970082822442,13.008198684215545,13.036696540206671,13.065194396197796,13.093692252188921,13.122190108180046,13.150687964171171,13.179185820162296,13.20768367615342,13.236181532144547,13.264679388135672,13.293177244126797,13.321675100117922,13.350172956109047,13.378670812100172,13.407168668091296,13.435666524082423,13.464164380073548,13.492662236064673,13.521160092055798,13.549657948046923,13.578155804038047,13.606653660029172,13.635151516020297,13.663649372011424,13.692147228002549,13.720645083993674,13.749142939984798,13.777640795975923,13.806138651967048,13.834636507958173,13.8631343639493,13.891632219940425,13.92013007593155,13.948627931922674,13.9771257879138,14.005623643904924,14.034121499896049,14.062619355887175,14.0911172118783,14.119615067869425,14.14811292386055,14.176610779851675,14.2051086358428,14.233606491833925,14.26210434782505,14.290602203816176,14.319100059807301,14.347597915798426],\"xaxis\":\"x\",\"y\":[0.11034219774943918,0.1124671340277964,0.11458362479295262,0.11669005044929967,0.11878479704527915,0.12086625897601011,0.12293284165185864,0.12498296412575773,0.1270150616723665,0.12902758831246727,0.1310190192763285,0.13298785340012234,0.1349326154498566,0.13685185836767283,0.13874416543577178,0.1406081523536421,0.1424424692246925,0.14424580244882615,0.14601687651792083,0.14775445571162055,0.1494573456912724,0.15112439499026814,0.15275449639947086,0.15434658824681263,0.15589965557054677,0.15741273118601692,0.15888489664617117,0.16031528309639867,0.16170307202458364,0.16304749590758671,0.16434783875564463,0.1656034365564315,0.1668136776207764,0.16797800283222672,0.1690959058028503,0.17016693293782403,0.1711906834114956,0.17216680905772855,0.1730950141774229,0.17397505526618015,0.17480674066512988,0.175589930137958,0.17632453437719317,0.17701051444279078,0.17764788113603583,0.1782366943117409,0.17877706213166383,0.17926914026200613,0.17971313101777517,0.18010928245671307,0.18045788742540472,0.1807592825600835,0.18101384724455505,0.18122200252756207,0.18138421000181437,0.18150097064680823,0.18157282363746802,0.18160034512055287,0.18158414696067854,0.1815248754577366,0.1814232100374098,0.18127986191642678,0.18109557274413385,0.18087111322192287,0.18060728170200974,0.18030490276702993,0.17996482579189813,0.17958792348936678,0.17917509044071844,0.17872724161302897,0.17824531086445902,0.1777302494390453,0.17718302445250225,0.17660461737056798,0.17599602248148113,0.17535824536420846,0.17469230135410052,0.17399921400769844,0.17328001356847186,0.17253573543531697,0.17176741863570227,0.17097610430539814,0.17016283417677935,0.1693286490777343,0.16847458744326313,0.16760168384188084,0.16671096751897949,0.16580346095933088,0.1648801784709322,0.16394212479241416,0.16299029372623589,0.16202566679989477,0.16104921195736985,0.1600618822829993,0.15906461475997705,0.15805832906560932,0.157043926405447,0.1560222883883469,0.15499427594447385,0.153960728288184,0.15292246192766368,0.1518802697231207,0.15083491999524765,0.14978715568558015,0.14873769357028901,0.14768722352884095,0.14663640786886478,0.1455858807084489,0.14453624741699428,0.14348808411562794,0.14244193723807147,0.1413983231527448,0.14035772784676295,0.13932060667237067,0.13828738415623698,0.1372584538719149,0.1362341783756502,0.1352148892056047,0.13420088694444116,0.13319244134509786,0.1321897915194629,0.1311931461895416,0.1302026840005945,0.12921855389560633,0.12824087555033345,0.1272697398680607,0.12630520953308705,0.12534731962184464,0.12439607827044516,0.1234514673973322,0.12251344347960919,0.12158193838149961,0.12065686023328372,0.11973809435894642,0.11882550425065774,0.11791893258809799,0.1170182023005277,0.11612311766939255,0.11523346546914377,0.11434901614384368,0.1134695250170214,0.11259473353213217,0.11172437052087214,0.11085815349649548,0.10999578996917951,0.10913697878038685,0.10828141145307772,0.10742877355453671,0.1065787460684904,0.10573100677311466,0.10488523162145352,0.10404109612070471,0.10319827670676744,0.10235645211039437,0.10151530471124748,0.10067452187612284,0.09983379727758639,0.09899283218924955,0.09815133675391384,0.09730903122082168,0.09646564714827895,0.09562092856794717,0.09477463310715849,0.0939265330656681,0.09307641644334093,0.09222408791536182,0.09136936975166864,0.09051210267743139,0.08965214667153977,0.08878938170021533,0.08792370838303323,0.08705504858882133,0.08618334595910275,0.08530856635695609,0.08443069823939456,0.08354975295159835,0.08266576494158356,0.0817787918941489,0.08088891478321007,0.07999623784190639,0.07910088845015267,0.07820301693959508,0.07730279631623163,0.07640042190125379,0.07549611089097148,0.0745901018369867,0.07368265404808669,0.07277404691562844,0.0718645791644884,0.07095456803194515,0.07004434837715309,0.06913427172414786,0.06822470524159618,0.0673160306627693,0.0664086431494672,0.06550295010386349,0.0645993699324633,0.0636983307665771,0.06280026914390686,0.061905628656014566,0.06101485856660271,0.060128412405670566,0.059246746544729785,0.058370318758355896,0.057499586777429154,0.056635006839466616,0.05577703224147998,0.05492611190079548,0.05408268892925902,0.053247199226205605,0.052420070095510085,0.05160171889194855,0.05079255170198976,0.04999296206400309,0.04920332973271544,0.04842401949257323,0.047655380024469146,0.04689774283007663,0.04615142121779941,0.04541670935409105,0.04469388138362788,0.043983190621534246,0.04328486882055873,0.042599125515787255,0.04192614744915463,0.04126609807568268,0.04061911715303014,0.03998532041559123,0.039364799334024744,0.03875762096073959,0.038163827861502166,0.03758343813297385,0.0370164455056279,0.036462819531143935,0.03592250585302779,0.03539542655886539,0.034881480612284924,0.03438054436238101,0.03389247212804271,0.03341709685433074,0.03295423083776611,0.03250366651712662,0.03206517732609748,0.03163851860389217,0.0312234285597477,0.030819629287008335,0.030426827822341004,0.030044717245478858,0.029672977814763697,0.02931127813365626,0.028959276343303777,0.02861662133619993,0.028282953985939496,0.027957908388062877,0.02764111310699978,0.027332192424160486,0.02703076758228284,0.02673645802122663,0.026448882600510024,0.026167660804007883,0.025892413922374943,0.025622766208919658,0.025358346004833675,0.025098786829878487,0.024843728434840805,0.024592817812292958,0.024345710162430836,0.024102069811009066,0.02386157107664934,0.023623899085061652,0.02338875052798852,0.023155834364956673,0.022924872466198593,0.022695600195385475,0.0224677669310925,0.02224113652619546,0.022015487704672387,0.021790614395555467,0.02156632600404324,0.021342447620042847,0.02111882016466163,0.020895300475411212,0.02067176133111767,0.02044809141775398,0.02022419523662015,0.019999992956494357,0.019775420211562793,0.019550427847107876,0.01932498161509159,0.01909906182191491,0.01887266293076324,0.018645793121063584,0.018418473807679338,0.01819073912255581,0.017962635361601993,0.017734220399652622,0.017505563076400367,0.017276742556219745,0.01704784766482396,0.016818976205703516,0.016590234259290577,0.016361735467778245,0.016133600308497864,0.015905955358721694,0.015678932554713802,0.015452668447798563,0.015227303460154617,0.01500298114297462,0.014779847439554997,0.014558049955800262,0.014337737240539146,0.014119058077959776,0.013902160794375566,0.0136871925814349,0.013474298837785868,0.01326362253110284,0.01305530358227497,0.012849478273448022,0.012646278681500717,0.012445832138426066,0.01224826071997528,0.01205368076380981,0.011862202418292998,0.011673929222940476,0.011488957721433922,0.011307377107990133,0.011129268907763586,0.010954706691848368,0.010783755827332361,0.010616473262745021,0.010452907349128205,0.010293097696849543,0.01013707506816712,0.009984861305445751,0.009836469294816522,0.009691902964964725,0.009551157320625054,0.009414218510258547,0.009281063927282894,0.009151662344126416,0.009025974078276478,0.008903951189396195,0.008785537706488005,0.008670669883991016,0.008559276485609203,0.008451279094581968,0.008346592449025712,0.00824512480089678,0.008146778297051502,0.008051449380809393,0.007959029212360563,0.007869404106298872,0.007782455984508142,0.0076980628425809185,0.0076160992279071015,0.007536436727534888,0.007458944463877781,0.007383489596320305,0.007309937826761091,0.0072381539071256365,0.007168002146882418,0.00709934691860515,0.0070320531596410945,0.006965986867970474,0.006901015590374875,0.0068370089010735555,0.006773838869035154,0.006711380512228551,0.006649512237140463,0.006588116261957996,0.006527079021892211,0.006466291555202834,0.006405649868574558,0.006345055280591205,0.006284414742155069,0.006223641132804391,0.006162653531991696,0.006101377464498809,0.0060397451192804735,0.005977695541146726,0.005915174794814103,0.005852136100976326,0.005788539944166344,0.0057243541523018925,0.005659553947926481,0.005594121971275193,0.005528048275410263,0.005461330293783477,0.005393972780691554,0.005325987725194893,0.005257394239170396,0.0051882184202635285,0.0051184931905942695,0.005048258112154512,0.0049775591799115825,0.004906448593702465,0.004834984510066847,0.004763230775223199,0.004691256640441095,0.004619136461104665,0.004546949380796508,0.004474779001758347,0.004402713043104661,0.004330842988178112,0.004259263722441722,0.004188073163301663,0.004117371883247507,0.004047262727683321,0.003977850428804151,0.003909241216847871,0.0038415424300231806,0.0037748621243804963,0.00370930868485489,0.0036449904386683827,0.003582015272234543,0.0035204902526608786,0.003460521254895301,0.0034022125955116235,0.0033456666740768306,0.0032909836229896845,0.0032382609666268256,0.0031875932905789874,0.0031390719217071162,0.003092784619695812,0.003048815280730636,0.003007243653875888,0.0029681450706816356,0.002931590188502329,0.0028976447479653403,0.002866369344985536,0.0028378192176822816,0.0028120440485176193,0.002789087781939211,0.0027689884577784965,0.0027517780606238305,0.0027374823853594916,0.002726120919034818,0.002717706739202601,0.002712246428842588,0.002709740007963866,0.002710180881959085,0.002713555806763524,0.0027198448708526846,0.0027290214940931846,0.002741052443442871,0.002755897865477086,0.002773511335698567,0.0027938399245683223,0.002816824280173763,0.0028423987274280747,0.0028704913836712195,0.002901024290517733,0.0029339135617695643,0.0029690695471834144,0.003006397011851284,0.0030457953309202287,0.003087158699342496,0.0031303763563103725,0.003175332823991309,0.003221908160138121,0.0032699782241066375,0.0033194149557689433,0.0033700866667650074,0.003421858343488559,0.0034745919611556832,0.003528146808256113,0.0035823798206388435,0.0036371459244350763,0.0036922983869735236,0.003747689174795837,0.0038031693178339192,0.0038585892787665692,0.003913799326530689,0.003968649912922424,0.004022992051186952,0.004076677695462048,0.004129560119911027,0.004181494296355021,0.00423233726919362,0.004281948526386844,0.0043301903652605295,0.0043769282518917405,0.004422031172831319,0.004465371977926894,0.004506827713022324,0.004546279941328041,0.004583615052282141,0.004618724556753408,0.004651505367475405,0.004681860063644936,0.004709697138668613,0.004734931230097746,0.0047574833308539795,0.004777280980916024,0.0047942584387109235,0.00480835683153132,0.004819524284382769,0.004827716026751737,0.004832894476875201,0.004835029303186128],\"yaxis\":\"y\",\"type\":\"scatter\"},{\"legendgroup\":\"\",\"marker\":{\"color\":\"gray\",\"symbol\":\"line-ns-open\"},\"mode\":\"markers\",\"name\":\"\",\"showlegend\":false,\"x\":[0.12716777622699738,0.1442408412694931,0.23550422489643097,0.23871852457523346,0.3098284602165222,0.35042065382003784,0.37518835067749023,0.4479137361049652,0.5599837303161621,0.5994336605072021,0.7115264534950256,0.7598552703857422,0.9442958831787109,0.9533209204673767,0.9589486718177795,1.105347752571106,1.160831093788147,1.1805130243301392,1.24135160446167,1.2617406845092773,1.275721549987793,1.3126779794692993,1.4050946235656738,1.5082813501358032,1.5529870986938477,1.588202953338623,1.7231899499893188,1.828569769859314,1.9477710723876953,1.955793857574463,1.9970759153366089,2.0368194580078125,2.0966906547546387,2.164425849914551,2.182741641998291,2.252495527267456,2.278435230255127,2.287506341934204,2.3299427032470703,2.372821807861328,2.5241568088531494,2.550199508666992,2.6966686248779297,2.9145402908325195,2.961029529571533,3.1754133701324463,3.2013440132141113,3.2732162475585938,3.2979092597961426,3.3925352096557617,3.5130372047424316,3.5342657566070557,3.6103079319000244,3.9780476093292236,4.023274898529053,4.101527214050293,4.251460552215576,4.442164421081543,4.5123186111450195,4.717530727386475,4.724466323852539,4.814153671264648,5.162358283996582,5.269881248474121,5.311816692352295,5.3646016120910645,5.46895170211792,5.6116461753845215,6.164071559906006,6.314947605133057,7.551337242126465,7.783726692199707,7.961616516113281,8.931047439575195,10.891047477722168,14.37609577178955],\"xaxis\":\"x\",\"y\":[\"\",\"\",\"\",\"\",\"\",\"\",\"\",\"\",\"\",\"\",\"\",\"\",\"\",\"\",\"\",\"\",\"\",\"\",\"\",\"\",\"\",\"\",\"\",\"\",\"\",\"\",\"\",\"\",\"\",\"\",\"\",\"\",\"\",\"\",\"\",\"\",\"\",\"\",\"\",\"\",\"\",\"\",\"\",\"\",\"\",\"\",\"\",\"\",\"\",\"\",\"\",\"\",\"\",\"\",\"\",\"\",\"\",\"\",\"\",\"\",\"\",\"\",\"\",\"\",\"\",\"\",\"\",\"\",\"\",\"\",\"\",\"\",\"\",\"\",\"\",\"\"],\"yaxis\":\"y2\",\"type\":\"scatter\"}],                        {\"barmode\":\"overlay\",\"hovermode\":\"closest\",\"legend\":{\"traceorder\":\"reversed\",\"x\":0.5,\"y\":1,\"bgcolor\":\"rgba(0,0,0,0)\",\"orientation\":\"v\"},\"xaxis\":{\"anchor\":\"y2\",\"domain\":[0.0,1.0],\"zeroline\":false,\"title\":{\"text\":\"abs. err. (kcal/mol)\"},\"color\":\"black\",\"linecolor\":\"black\",\"linewidth\":1.5,\"mirror\":\"allticks\",\"showgrid\":false,\"showline\":true,\"ticklen\":10,\"ticks\":\"inside\",\"tickwidth\":1.5,\"range\":[0,15]},\"yaxis\":{\"anchor\":\"free\",\"domain\":[0.35,1],\"position\":0.0,\"title\":{\"text\":\"frequency\"},\"color\":\"black\",\"linecolor\":\"black\",\"linewidth\":1.5,\"mirror\":\"allticks\",\"showgrid\":false,\"showline\":true,\"ticklen\":10,\"ticks\":\"inside\",\"tickwidth\":1.5,\"zeroline\":false},\"yaxis2\":{\"anchor\":\"x\",\"domain\":[0,0.25],\"dtick\":1,\"showticklabels\":false},\"template\":{\"data\":{\"bar\":[{\"error_x\":{\"color\":\"#2a3f5f\"},\"error_y\":{\"color\":\"#2a3f5f\"},\"marker\":{\"line\":{\"color\":\"#E5ECF6\",\"width\":0.5},\"pattern\":{\"fillmode\":\"overlay\",\"size\":10,\"solidity\":0.2}},\"type\":\"bar\"}],\"barpolar\":[{\"marker\":{\"line\":{\"color\":\"#E5ECF6\",\"width\":0.5},\"pattern\":{\"fillmode\":\"overlay\",\"size\":10,\"solidity\":0.2}},\"type\":\"barpolar\"}],\"carpet\":[{\"aaxis\":{\"endlinecolor\":\"#2a3f5f\",\"gridcolor\":\"white\",\"linecolor\":\"white\",\"minorgridcolor\":\"white\",\"startlinecolor\":\"#2a3f5f\"},\"baxis\":{\"endlinecolor\":\"#2a3f5f\",\"gridcolor\":\"white\",\"linecolor\":\"white\",\"minorgridcolor\":\"white\",\"startlinecolor\":\"#2a3f5f\"},\"type\":\"carpet\"}],\"choropleth\":[{\"colorbar\":{\"outlinewidth\":0,\"ticks\":\"\"},\"type\":\"choropleth\"}],\"contour\":[{\"colorbar\":{\"outlinewidth\":0,\"ticks\":\"\"},\"colorscale\":[[0.0,\"#0d0887\"],[0.1111111111111111,\"#46039f\"],[0.2222222222222222,\"#7201a8\"],[0.3333333333333333,\"#9c179e\"],[0.4444444444444444,\"#bd3786\"],[0.5555555555555556,\"#d8576b\"],[0.6666666666666666,\"#ed7953\"],[0.7777777777777778,\"#fb9f3a\"],[0.8888888888888888,\"#fdca26\"],[1.0,\"#f0f921\"]],\"type\":\"contour\"}],\"contourcarpet\":[{\"colorbar\":{\"outlinewidth\":0,\"ticks\":\"\"},\"type\":\"contourcarpet\"}],\"heatmap\":[{\"colorbar\":{\"outlinewidth\":0,\"ticks\":\"\"},\"colorscale\":[[0.0,\"#0d0887\"],[0.1111111111111111,\"#46039f\"],[0.2222222222222222,\"#7201a8\"],[0.3333333333333333,\"#9c179e\"],[0.4444444444444444,\"#bd3786\"],[0.5555555555555556,\"#d8576b\"],[0.6666666666666666,\"#ed7953\"],[0.7777777777777778,\"#fb9f3a\"],[0.8888888888888888,\"#fdca26\"],[1.0,\"#f0f921\"]],\"type\":\"heatmap\"}],\"heatmapgl\":[{\"colorbar\":{\"outlinewidth\":0,\"ticks\":\"\"},\"colorscale\":[[0.0,\"#0d0887\"],[0.1111111111111111,\"#46039f\"],[0.2222222222222222,\"#7201a8\"],[0.3333333333333333,\"#9c179e\"],[0.4444444444444444,\"#bd3786\"],[0.5555555555555556,\"#d8576b\"],[0.6666666666666666,\"#ed7953\"],[0.7777777777777778,\"#fb9f3a\"],[0.8888888888888888,\"#fdca26\"],[1.0,\"#f0f921\"]],\"type\":\"heatmapgl\"}],\"histogram\":[{\"marker\":{\"pattern\":{\"fillmode\":\"overlay\",\"size\":10,\"solidity\":0.2}},\"type\":\"histogram\"}],\"histogram2d\":[{\"colorbar\":{\"outlinewidth\":0,\"ticks\":\"\"},\"colorscale\":[[0.0,\"#0d0887\"],[0.1111111111111111,\"#46039f\"],[0.2222222222222222,\"#7201a8\"],[0.3333333333333333,\"#9c179e\"],[0.4444444444444444,\"#bd3786\"],[0.5555555555555556,\"#d8576b\"],[0.6666666666666666,\"#ed7953\"],[0.7777777777777778,\"#fb9f3a\"],[0.8888888888888888,\"#fdca26\"],[1.0,\"#f0f921\"]],\"type\":\"histogram2d\"}],\"histogram2dcontour\":[{\"colorbar\":{\"outlinewidth\":0,\"ticks\":\"\"},\"colorscale\":[[0.0,\"#0d0887\"],[0.1111111111111111,\"#46039f\"],[0.2222222222222222,\"#7201a8\"],[0.3333333333333333,\"#9c179e\"],[0.4444444444444444,\"#bd3786\"],[0.5555555555555556,\"#d8576b\"],[0.6666666666666666,\"#ed7953\"],[0.7777777777777778,\"#fb9f3a\"],[0.8888888888888888,\"#fdca26\"],[1.0,\"#f0f921\"]],\"type\":\"histogram2dcontour\"}],\"mesh3d\":[{\"colorbar\":{\"outlinewidth\":0,\"ticks\":\"\"},\"type\":\"mesh3d\"}],\"parcoords\":[{\"line\":{\"colorbar\":{\"outlinewidth\":0,\"ticks\":\"\"}},\"type\":\"parcoords\"}],\"pie\":[{\"automargin\":true,\"type\":\"pie\"}],\"scatter\":[{\"marker\":{\"colorbar\":{\"outlinewidth\":0,\"ticks\":\"\"}},\"type\":\"scatter\"}],\"scatter3d\":[{\"line\":{\"colorbar\":{\"outlinewidth\":0,\"ticks\":\"\"}},\"marker\":{\"colorbar\":{\"outlinewidth\":0,\"ticks\":\"\"}},\"type\":\"scatter3d\"}],\"scattercarpet\":[{\"marker\":{\"colorbar\":{\"outlinewidth\":0,\"ticks\":\"\"}},\"type\":\"scattercarpet\"}],\"scattergeo\":[{\"marker\":{\"colorbar\":{\"outlinewidth\":0,\"ticks\":\"\"}},\"type\":\"scattergeo\"}],\"scattergl\":[{\"marker\":{\"colorbar\":{\"outlinewidth\":0,\"ticks\":\"\"}},\"type\":\"scattergl\"}],\"scattermapbox\":[{\"marker\":{\"colorbar\":{\"outlinewidth\":0,\"ticks\":\"\"}},\"type\":\"scattermapbox\"}],\"scatterpolar\":[{\"marker\":{\"colorbar\":{\"outlinewidth\":0,\"ticks\":\"\"}},\"type\":\"scatterpolar\"}],\"scatterpolargl\":[{\"marker\":{\"colorbar\":{\"outlinewidth\":0,\"ticks\":\"\"}},\"type\":\"scatterpolargl\"}],\"scatterternary\":[{\"marker\":{\"colorbar\":{\"outlinewidth\":0,\"ticks\":\"\"}},\"type\":\"scatterternary\"}],\"surface\":[{\"colorbar\":{\"outlinewidth\":0,\"ticks\":\"\"},\"colorscale\":[[0.0,\"#0d0887\"],[0.1111111111111111,\"#46039f\"],[0.2222222222222222,\"#7201a8\"],[0.3333333333333333,\"#9c179e\"],[0.4444444444444444,\"#bd3786\"],[0.5555555555555556,\"#d8576b\"],[0.6666666666666666,\"#ed7953\"],[0.7777777777777778,\"#fb9f3a\"],[0.8888888888888888,\"#fdca26\"],[1.0,\"#f0f921\"]],\"type\":\"surface\"}],\"table\":[{\"cells\":{\"fill\":{\"color\":\"#EBF0F8\"},\"line\":{\"color\":\"white\"}},\"header\":{\"fill\":{\"color\":\"#C8D4E3\"},\"line\":{\"color\":\"white\"}},\"type\":\"table\"}]},\"layout\":{\"annotationdefaults\":{\"arrowcolor\":\"#2a3f5f\",\"arrowhead\":0,\"arrowwidth\":1},\"autotypenumbers\":\"strict\",\"coloraxis\":{\"colorbar\":{\"outlinewidth\":0,\"ticks\":\"\"}},\"colorscale\":{\"diverging\":[[0,\"#8e0152\"],[0.1,\"#c51b7d\"],[0.2,\"#de77ae\"],[0.3,\"#f1b6da\"],[0.4,\"#fde0ef\"],[0.5,\"#f7f7f7\"],[0.6,\"#e6f5d0\"],[0.7,\"#b8e186\"],[0.8,\"#7fbc41\"],[0.9,\"#4d9221\"],[1,\"#276419\"]],\"sequential\":[[0.0,\"#0d0887\"],[0.1111111111111111,\"#46039f\"],[0.2222222222222222,\"#7201a8\"],[0.3333333333333333,\"#9c179e\"],[0.4444444444444444,\"#bd3786\"],[0.5555555555555556,\"#d8576b\"],[0.6666666666666666,\"#ed7953\"],[0.7777777777777778,\"#fb9f3a\"],[0.8888888888888888,\"#fdca26\"],[1.0,\"#f0f921\"]],\"sequentialminus\":[[0.0,\"#0d0887\"],[0.1111111111111111,\"#46039f\"],[0.2222222222222222,\"#7201a8\"],[0.3333333333333333,\"#9c179e\"],[0.4444444444444444,\"#bd3786\"],[0.5555555555555556,\"#d8576b\"],[0.6666666666666666,\"#ed7953\"],[0.7777777777777778,\"#fb9f3a\"],[0.8888888888888888,\"#fdca26\"],[1.0,\"#f0f921\"]]},\"colorway\":[\"#636efa\",\"#EF553B\",\"#00cc96\",\"#ab63fa\",\"#FFA15A\",\"#19d3f3\",\"#FF6692\",\"#B6E880\",\"#FF97FF\",\"#FECB52\"],\"font\":{\"color\":\"#2a3f5f\"},\"geo\":{\"bgcolor\":\"white\",\"lakecolor\":\"white\",\"landcolor\":\"#E5ECF6\",\"showlakes\":true,\"showland\":true,\"subunitcolor\":\"white\"},\"hoverlabel\":{\"align\":\"left\"},\"hovermode\":\"closest\",\"mapbox\":{\"style\":\"light\"},\"paper_bgcolor\":\"white\",\"plot_bgcolor\":\"#E5ECF6\",\"polar\":{\"angularaxis\":{\"gridcolor\":\"white\",\"linecolor\":\"white\",\"ticks\":\"\"},\"bgcolor\":\"#E5ECF6\",\"radialaxis\":{\"gridcolor\":\"white\",\"linecolor\":\"white\",\"ticks\":\"\"}},\"scene\":{\"xaxis\":{\"backgroundcolor\":\"#E5ECF6\",\"gridcolor\":\"white\",\"gridwidth\":2,\"linecolor\":\"white\",\"showbackground\":true,\"ticks\":\"\",\"zerolinecolor\":\"white\"},\"yaxis\":{\"backgroundcolor\":\"#E5ECF6\",\"gridcolor\":\"white\",\"gridwidth\":2,\"linecolor\":\"white\",\"showbackground\":true,\"ticks\":\"\",\"zerolinecolor\":\"white\"},\"zaxis\":{\"backgroundcolor\":\"#E5ECF6\",\"gridcolor\":\"white\",\"gridwidth\":2,\"linecolor\":\"white\",\"showbackground\":true,\"ticks\":\"\",\"zerolinecolor\":\"white\"}},\"shapedefaults\":{\"line\":{\"color\":\"#2a3f5f\"}},\"ternary\":{\"aaxis\":{\"gridcolor\":\"white\",\"linecolor\":\"white\",\"ticks\":\"\"},\"baxis\":{\"gridcolor\":\"white\",\"linecolor\":\"white\",\"ticks\":\"\"},\"bgcolor\":\"#E5ECF6\",\"caxis\":{\"gridcolor\":\"white\",\"linecolor\":\"white\",\"ticks\":\"\"}},\"title\":{\"x\":0.05},\"xaxis\":{\"automargin\":true,\"gridcolor\":\"white\",\"linecolor\":\"white\",\"ticks\":\"\",\"title\":{\"standoff\":15},\"zerolinecolor\":\"white\",\"zerolinewidth\":2},\"yaxis\":{\"automargin\":true,\"gridcolor\":\"white\",\"linecolor\":\"white\",\"ticks\":\"\",\"title\":{\"standoff\":15},\"zerolinecolor\":\"white\",\"zerolinewidth\":2}}},\"font\":{\"color\":\"black\",\"family\":\"Helvetica\",\"size\":24},\"margin\":{\"b\":100,\"l\":100,\"r\":10,\"t\":10},\"showlegend\":false,\"width\":550,\"height\":500,\"paper_bgcolor\":\"rgba(255,255,255,100)\",\"plot_bgcolor\":\"white\"},                        {\"responsive\": true}                    ).then(function(){\n",
       "                            \n",
       "var gd = document.getElementById('71221383-5f27-4750-9364-1918ff8479ab');\n",
       "var x = new MutationObserver(function (mutations, observer) {{\n",
       "        var display = window.getComputedStyle(gd).display;\n",
       "        if (!display || display === 'none') {{\n",
       "            console.log([gd, 'removed!']);\n",
       "            Plotly.purge(gd);\n",
       "            observer.disconnect();\n",
       "        }}\n",
       "}});\n",
       "\n",
       "// Listen for the removal of the full notebook cells\n",
       "var notebookContainer = gd.closest('#notebook-container');\n",
       "if (notebookContainer) {{\n",
       "    x.observe(notebookContainer, {childList: true});\n",
       "}}\n",
       "\n",
       "// Listen for the clearing of the current output cell\n",
       "var outputEl = gd.closest('.output');\n",
       "if (outputEl) {{\n",
       "    x.observe(outputEl, {childList: true});\n",
       "}}\n",
       "\n",
       "                        })                };                });            </script>        </div>"
      ]
     },
     "metadata": {},
     "output_type": "display_data"
    },
    {
     "data": {
      "text/plain": [
       "3.0807380323347293"
      ]
     },
     "execution_count": 22,
     "metadata": {},
     "output_type": "execute_result"
    }
   ],
   "source": [
    "hist_data = [df_sel['errs_t'].values]\n",
    "group_labels = [\"\"]\n",
    "colors = ['gray', blue, green, red]\n",
    "fig = ff.create_distplot(hist_data, group_labels, show_hist=True, colors=colors, bin_size=0.5)\n",
    "layout = go.Layout()\n",
    "layout.legend.update(x=.5, y=1, bgcolor=\"rgba(0,0,0,0)\")\n",
    "layout.update(showlegend=False)\n",
    "layout.update(width=550, height=500)\n",
    "layout.update(glob_layout)\n",
    "layout[\"xaxis\"].update({'title': \"abs. err. (kcal/mol)\", \"range\": [0, 15]})\n",
    "layout[\"yaxis\"].update({'title': \"frequency\"})\n",
    "fig.layout.update(layout)\n",
    "fig.show()\n",
    "\n",
    "np.mean(df_sel['errs_t'])"
   ]
  },
  {
   "cell_type": "code",
   "execution_count": 14,
   "metadata": {},
   "outputs": [
    {
     "data": {
      "text/plain": [
       "2.5807336045946134"
      ]
     },
     "execution_count": 14,
     "metadata": {},
     "output_type": "execute_result"
    }
   ],
   "source": [
    "np.std(df_sel['errs_t'].values)"
   ]
  },
  {
   "cell_type": "code",
   "execution_count": 15,
   "metadata": {},
   "outputs": [
    {
     "data": {
      "application/vnd.plotly.v1+json": {
       "config": {
        "linkText": "Export to plot.ly",
        "plotlyServerURL": "https://plot.ly",
        "showLink": false
       },
       "data": [
        {
         "marker": {
          "color": "rgba(0, 0, 0, 0.5)"
         },
         "name": "all",
         "showlegend": false,
         "type": "bar",
         "x": [
          0,
          0.5,
          1,
          1.5,
          2,
          2.5,
          3,
          3.5,
          4,
          4.5,
          5,
          5.5,
          6,
          6.5,
          7,
          7.5,
          8,
          8.5,
          9,
          9.5,
          10
         ],
         "y": [
          10.526315789473685,
          9.210526315789474,
          10.526315789473685,
          10.526315789473685,
          11.842105263157896,
          6.578947368421052,
          6.578947368421052,
          5.2631578947368425,
          5.2631578947368425,
          5.2631578947368425,
          6.578947368421052,
          1.3157894736842106,
          2.6315789473684212,
          0,
          0,
          3.9473684210526314,
          0,
          1.3157894736842106,
          0,
          0,
          2.6315789473684212
         ]
        },
        {
         "line": {
          "color": "blue",
          "dash": "solid",
          "width": 2
         },
         "mode": "lines",
         "showlegend": false,
         "type": "scatter",
         "x": [
          0,
          0
         ],
         "y": [
          0,
          10.526315789473685
         ],
         "yaxis": "y2"
        },
        {
         "line": {
          "color": "blue",
          "dash": "solid",
          "width": 2
         },
         "mode": "lines",
         "showlegend": false,
         "type": "scatter",
         "x": [
          0,
          0.5
         ],
         "y": [
          10.526315789473685,
          10.526315789473685
         ],
         "yaxis": "y2"
        },
        {
         "line": {
          "color": "blue",
          "dash": "solid",
          "width": 2
         },
         "mode": "lines",
         "showlegend": false,
         "type": "scatter",
         "x": [
          0.5,
          0.5
         ],
         "y": [
          10.526315789473685,
          19.736842105263158
         ],
         "yaxis": "y2"
        },
        {
         "line": {
          "color": "blue",
          "dash": "solid",
          "width": 2
         },
         "mode": "lines",
         "showlegend": false,
         "type": "scatter",
         "x": [
          0.5,
          1
         ],
         "y": [
          19.736842105263158,
          19.736842105263158
         ],
         "yaxis": "y2"
        },
        {
         "line": {
          "color": "blue",
          "dash": "solid",
          "width": 2
         },
         "mode": "lines",
         "showlegend": false,
         "type": "scatter",
         "x": [
          1,
          1
         ],
         "y": [
          19.736842105263158,
          30.263157894736842
         ],
         "yaxis": "y2"
        },
        {
         "line": {
          "color": "blue",
          "dash": "solid",
          "width": 2
         },
         "mode": "lines",
         "showlegend": false,
         "type": "scatter",
         "x": [
          1,
          1.5
         ],
         "y": [
          30.263157894736842,
          30.263157894736842
         ],
         "yaxis": "y2"
        },
        {
         "line": {
          "color": "blue",
          "dash": "solid",
          "width": 2
         },
         "mode": "lines",
         "showlegend": false,
         "type": "scatter",
         "x": [
          1.5,
          1.5
         ],
         "y": [
          30.263157894736842,
          40.78947368421053
         ],
         "yaxis": "y2"
        },
        {
         "line": {
          "color": "blue",
          "dash": "solid",
          "width": 2
         },
         "mode": "lines",
         "showlegend": false,
         "type": "scatter",
         "x": [
          1.5,
          2
         ],
         "y": [
          40.78947368421053,
          40.78947368421053
         ],
         "yaxis": "y2"
        },
        {
         "line": {
          "color": "blue",
          "dash": "solid",
          "width": 2
         },
         "mode": "lines",
         "showlegend": false,
         "type": "scatter",
         "x": [
          2,
          2
         ],
         "y": [
          40.78947368421053,
          52.631578947368425
         ],
         "yaxis": "y2"
        },
        {
         "line": {
          "color": "blue",
          "dash": "solid",
          "width": 2
         },
         "mode": "lines",
         "showlegend": false,
         "type": "scatter",
         "x": [
          2,
          2.5
         ],
         "y": [
          52.631578947368425,
          52.631578947368425
         ],
         "yaxis": "y2"
        },
        {
         "line": {
          "color": "blue",
          "dash": "solid",
          "width": 2
         },
         "mode": "lines",
         "showlegend": false,
         "type": "scatter",
         "x": [
          2.5,
          2.5
         ],
         "y": [
          52.631578947368425,
          59.21052631578949
         ],
         "yaxis": "y2"
        },
        {
         "line": {
          "color": "blue",
          "dash": "solid",
          "width": 2
         },
         "mode": "lines",
         "showlegend": false,
         "type": "scatter",
         "x": [
          2.5,
          3
         ],
         "y": [
          59.21052631578949,
          59.21052631578949
         ],
         "yaxis": "y2"
        },
        {
         "line": {
          "color": "blue",
          "dash": "solid",
          "width": 2
         },
         "mode": "lines",
         "showlegend": false,
         "type": "scatter",
         "x": [
          3,
          3
         ],
         "y": [
          59.21052631578949,
          65.78947368421053
         ],
         "yaxis": "y2"
        },
        {
         "line": {
          "color": "blue",
          "dash": "solid",
          "width": 2
         },
         "mode": "lines",
         "showlegend": false,
         "type": "scatter",
         "x": [
          3,
          3.5
         ],
         "y": [
          65.78947368421053,
          65.78947368421053
         ],
         "yaxis": "y2"
        },
        {
         "line": {
          "color": "blue",
          "dash": "solid",
          "width": 2
         },
         "mode": "lines",
         "showlegend": false,
         "type": "scatter",
         "x": [
          3.5,
          3.5
         ],
         "y": [
          65.78947368421053,
          71.05263157894737
         ],
         "yaxis": "y2"
        },
        {
         "line": {
          "color": "blue",
          "dash": "solid",
          "width": 2
         },
         "mode": "lines",
         "showlegend": false,
         "type": "scatter",
         "x": [
          3.5,
          4
         ],
         "y": [
          71.05263157894737,
          71.05263157894737
         ],
         "yaxis": "y2"
        },
        {
         "line": {
          "color": "blue",
          "dash": "solid",
          "width": 2
         },
         "mode": "lines",
         "showlegend": false,
         "type": "scatter",
         "x": [
          4,
          4
         ],
         "y": [
          71.05263157894737,
          76.31578947368422
         ],
         "yaxis": "y2"
        },
        {
         "line": {
          "color": "blue",
          "dash": "solid",
          "width": 2
         },
         "mode": "lines",
         "showlegend": false,
         "type": "scatter",
         "x": [
          4,
          4.5
         ],
         "y": [
          76.31578947368422,
          76.31578947368422
         ],
         "yaxis": "y2"
        },
        {
         "line": {
          "color": "blue",
          "dash": "solid",
          "width": 2
         },
         "mode": "lines",
         "showlegend": false,
         "type": "scatter",
         "x": [
          4.5,
          4.5
         ],
         "y": [
          76.31578947368422,
          81.57894736842107
         ],
         "yaxis": "y2"
        },
        {
         "line": {
          "color": "blue",
          "dash": "solid",
          "width": 2
         },
         "mode": "lines",
         "showlegend": false,
         "type": "scatter",
         "x": [
          4.5,
          5
         ],
         "y": [
          81.57894736842107,
          81.57894736842107
         ],
         "yaxis": "y2"
        },
        {
         "line": {
          "color": "blue",
          "dash": "solid",
          "width": 2
         },
         "mode": "lines",
         "showlegend": false,
         "type": "scatter",
         "x": [
          5,
          5
         ],
         "y": [
          81.57894736842107,
          88.15789473684212
         ],
         "yaxis": "y2"
        },
        {
         "line": {
          "color": "blue",
          "dash": "solid",
          "width": 2
         },
         "mode": "lines",
         "showlegend": false,
         "type": "scatter",
         "x": [
          5,
          5.5
         ],
         "y": [
          88.15789473684212,
          88.15789473684212
         ],
         "yaxis": "y2"
        },
        {
         "line": {
          "color": "blue",
          "dash": "solid",
          "width": 2
         },
         "mode": "lines",
         "showlegend": false,
         "type": "scatter",
         "x": [
          5.5,
          5.5
         ],
         "y": [
          88.15789473684212,
          89.47368421052633
         ],
         "yaxis": "y2"
        },
        {
         "line": {
          "color": "blue",
          "dash": "solid",
          "width": 2
         },
         "mode": "lines",
         "showlegend": false,
         "type": "scatter",
         "x": [
          5.5,
          6
         ],
         "y": [
          89.47368421052633,
          89.47368421052633
         ],
         "yaxis": "y2"
        },
        {
         "line": {
          "color": "blue",
          "dash": "solid",
          "width": 2
         },
         "mode": "lines",
         "showlegend": false,
         "type": "scatter",
         "x": [
          6,
          6
         ],
         "y": [
          89.47368421052633,
          92.10526315789475
         ],
         "yaxis": "y2"
        },
        {
         "line": {
          "color": "blue",
          "dash": "solid",
          "width": 2
         },
         "mode": "lines",
         "showlegend": false,
         "type": "scatter",
         "x": [
          6,
          6.5
         ],
         "y": [
          92.10526315789475,
          92.10526315789475
         ],
         "yaxis": "y2"
        },
        {
         "line": {
          "color": "blue",
          "dash": "solid",
          "width": 2
         },
         "mode": "lines",
         "showlegend": false,
         "type": "scatter",
         "x": [
          6.5,
          6.5
         ],
         "y": [
          92.10526315789475,
          92.10526315789475
         ],
         "yaxis": "y2"
        },
        {
         "line": {
          "color": "blue",
          "dash": "solid",
          "width": 2
         },
         "mode": "lines",
         "showlegend": false,
         "type": "scatter",
         "x": [
          6.5,
          7
         ],
         "y": [
          92.10526315789475,
          92.10526315789475
         ],
         "yaxis": "y2"
        },
        {
         "line": {
          "color": "blue",
          "dash": "solid",
          "width": 2
         },
         "mode": "lines",
         "showlegend": false,
         "type": "scatter",
         "x": [
          7,
          7
         ],
         "y": [
          92.10526315789475,
          92.10526315789475
         ],
         "yaxis": "y2"
        },
        {
         "line": {
          "color": "blue",
          "dash": "solid",
          "width": 2
         },
         "mode": "lines",
         "showlegend": false,
         "type": "scatter",
         "x": [
          7,
          7.5
         ],
         "y": [
          92.10526315789475,
          92.10526315789475
         ],
         "yaxis": "y2"
        },
        {
         "line": {
          "color": "blue",
          "dash": "solid",
          "width": 2
         },
         "mode": "lines",
         "showlegend": false,
         "type": "scatter",
         "x": [
          7.5,
          7.5
         ],
         "y": [
          92.10526315789475,
          96.05263157894737
         ],
         "yaxis": "y2"
        },
        {
         "line": {
          "color": "blue",
          "dash": "solid",
          "width": 2
         },
         "mode": "lines",
         "showlegend": false,
         "type": "scatter",
         "x": [
          7.5,
          8
         ],
         "y": [
          96.05263157894737,
          96.05263157894737
         ],
         "yaxis": "y2"
        },
        {
         "line": {
          "color": "blue",
          "dash": "solid",
          "width": 2
         },
         "mode": "lines",
         "showlegend": false,
         "type": "scatter",
         "x": [
          8,
          8
         ],
         "y": [
          96.05263157894737,
          96.05263157894737
         ],
         "yaxis": "y2"
        },
        {
         "line": {
          "color": "blue",
          "dash": "solid",
          "width": 2
         },
         "mode": "lines",
         "showlegend": false,
         "type": "scatter",
         "x": [
          8,
          8.5
         ],
         "y": [
          96.05263157894737,
          96.05263157894737
         ],
         "yaxis": "y2"
        },
        {
         "line": {
          "color": "blue",
          "dash": "solid",
          "width": 2
         },
         "mode": "lines",
         "showlegend": false,
         "type": "scatter",
         "x": [
          8.5,
          8.5
         ],
         "y": [
          96.05263157894737,
          97.36842105263159
         ],
         "yaxis": "y2"
        },
        {
         "line": {
          "color": "blue",
          "dash": "solid",
          "width": 2
         },
         "mode": "lines",
         "showlegend": false,
         "type": "scatter",
         "x": [
          8.5,
          9
         ],
         "y": [
          97.36842105263159,
          97.36842105263159
         ],
         "yaxis": "y2"
        },
        {
         "line": {
          "color": "blue",
          "dash": "solid",
          "width": 2
         },
         "mode": "lines",
         "showlegend": false,
         "type": "scatter",
         "x": [
          9,
          9
         ],
         "y": [
          97.36842105263159,
          97.36842105263159
         ],
         "yaxis": "y2"
        },
        {
         "line": {
          "color": "blue",
          "dash": "solid",
          "width": 2
         },
         "mode": "lines",
         "showlegend": false,
         "type": "scatter",
         "x": [
          9,
          9.5
         ],
         "y": [
          97.36842105263159,
          97.36842105263159
         ],
         "yaxis": "y2"
        },
        {
         "line": {
          "color": "blue",
          "dash": "solid",
          "width": 2
         },
         "mode": "lines",
         "showlegend": false,
         "type": "scatter",
         "x": [
          9.5,
          9.5
         ],
         "y": [
          97.36842105263159,
          97.36842105263159
         ],
         "yaxis": "y2"
        },
        {
         "line": {
          "color": "blue",
          "dash": "solid",
          "width": 2
         },
         "mode": "lines",
         "showlegend": false,
         "type": "scatter",
         "x": [
          9.5,
          10
         ],
         "y": [
          97.36842105263159,
          97.36842105263159
         ],
         "yaxis": "y2"
        }
       ],
       "layout": {
        "boxmode": "group",
        "font": {
         "color": "black",
         "family": "Helvetica",
         "size": 24
        },
        "height": 500,
        "legend": {
         "bgcolor": "rgba(0,0,0,0)",
         "orientation": "v",
         "x": 1,
         "y": 1
        },
        "margin": {
         "b": 100,
         "l": 100,
         "r": 10,
         "t": 10
        },
        "paper_bgcolor": "rgba(255,255,255,100)",
        "plot_bgcolor": "white",
        "template": {
         "data": {
          "bar": [
           {
            "error_x": {
             "color": "#2a3f5f"
            },
            "error_y": {
             "color": "#2a3f5f"
            },
            "marker": {
             "line": {
              "color": "#E5ECF6",
              "width": 0.5
             },
             "pattern": {
              "fillmode": "overlay",
              "size": 10,
              "solidity": 0.2
             }
            },
            "type": "bar"
           }
          ],
          "barpolar": [
           {
            "marker": {
             "line": {
              "color": "#E5ECF6",
              "width": 0.5
             },
             "pattern": {
              "fillmode": "overlay",
              "size": 10,
              "solidity": 0.2
             }
            },
            "type": "barpolar"
           }
          ],
          "carpet": [
           {
            "aaxis": {
             "endlinecolor": "#2a3f5f",
             "gridcolor": "white",
             "linecolor": "white",
             "minorgridcolor": "white",
             "startlinecolor": "#2a3f5f"
            },
            "baxis": {
             "endlinecolor": "#2a3f5f",
             "gridcolor": "white",
             "linecolor": "white",
             "minorgridcolor": "white",
             "startlinecolor": "#2a3f5f"
            },
            "type": "carpet"
           }
          ],
          "choropleth": [
           {
            "colorbar": {
             "outlinewidth": 0,
             "ticks": ""
            },
            "type": "choropleth"
           }
          ],
          "contour": [
           {
            "colorbar": {
             "outlinewidth": 0,
             "ticks": ""
            },
            "colorscale": [
             [
              0,
              "#0d0887"
             ],
             [
              0.1111111111111111,
              "#46039f"
             ],
             [
              0.2222222222222222,
              "#7201a8"
             ],
             [
              0.3333333333333333,
              "#9c179e"
             ],
             [
              0.4444444444444444,
              "#bd3786"
             ],
             [
              0.5555555555555556,
              "#d8576b"
             ],
             [
              0.6666666666666666,
              "#ed7953"
             ],
             [
              0.7777777777777778,
              "#fb9f3a"
             ],
             [
              0.8888888888888888,
              "#fdca26"
             ],
             [
              1,
              "#f0f921"
             ]
            ],
            "type": "contour"
           }
          ],
          "contourcarpet": [
           {
            "colorbar": {
             "outlinewidth": 0,
             "ticks": ""
            },
            "type": "contourcarpet"
           }
          ],
          "heatmap": [
           {
            "colorbar": {
             "outlinewidth": 0,
             "ticks": ""
            },
            "colorscale": [
             [
              0,
              "#0d0887"
             ],
             [
              0.1111111111111111,
              "#46039f"
             ],
             [
              0.2222222222222222,
              "#7201a8"
             ],
             [
              0.3333333333333333,
              "#9c179e"
             ],
             [
              0.4444444444444444,
              "#bd3786"
             ],
             [
              0.5555555555555556,
              "#d8576b"
             ],
             [
              0.6666666666666666,
              "#ed7953"
             ],
             [
              0.7777777777777778,
              "#fb9f3a"
             ],
             [
              0.8888888888888888,
              "#fdca26"
             ],
             [
              1,
              "#f0f921"
             ]
            ],
            "type": "heatmap"
           }
          ],
          "heatmapgl": [
           {
            "colorbar": {
             "outlinewidth": 0,
             "ticks": ""
            },
            "colorscale": [
             [
              0,
              "#0d0887"
             ],
             [
              0.1111111111111111,
              "#46039f"
             ],
             [
              0.2222222222222222,
              "#7201a8"
             ],
             [
              0.3333333333333333,
              "#9c179e"
             ],
             [
              0.4444444444444444,
              "#bd3786"
             ],
             [
              0.5555555555555556,
              "#d8576b"
             ],
             [
              0.6666666666666666,
              "#ed7953"
             ],
             [
              0.7777777777777778,
              "#fb9f3a"
             ],
             [
              0.8888888888888888,
              "#fdca26"
             ],
             [
              1,
              "#f0f921"
             ]
            ],
            "type": "heatmapgl"
           }
          ],
          "histogram": [
           {
            "marker": {
             "pattern": {
              "fillmode": "overlay",
              "size": 10,
              "solidity": 0.2
             }
            },
            "type": "histogram"
           }
          ],
          "histogram2d": [
           {
            "colorbar": {
             "outlinewidth": 0,
             "ticks": ""
            },
            "colorscale": [
             [
              0,
              "#0d0887"
             ],
             [
              0.1111111111111111,
              "#46039f"
             ],
             [
              0.2222222222222222,
              "#7201a8"
             ],
             [
              0.3333333333333333,
              "#9c179e"
             ],
             [
              0.4444444444444444,
              "#bd3786"
             ],
             [
              0.5555555555555556,
              "#d8576b"
             ],
             [
              0.6666666666666666,
              "#ed7953"
             ],
             [
              0.7777777777777778,
              "#fb9f3a"
             ],
             [
              0.8888888888888888,
              "#fdca26"
             ],
             [
              1,
              "#f0f921"
             ]
            ],
            "type": "histogram2d"
           }
          ],
          "histogram2dcontour": [
           {
            "colorbar": {
             "outlinewidth": 0,
             "ticks": ""
            },
            "colorscale": [
             [
              0,
              "#0d0887"
             ],
             [
              0.1111111111111111,
              "#46039f"
             ],
             [
              0.2222222222222222,
              "#7201a8"
             ],
             [
              0.3333333333333333,
              "#9c179e"
             ],
             [
              0.4444444444444444,
              "#bd3786"
             ],
             [
              0.5555555555555556,
              "#d8576b"
             ],
             [
              0.6666666666666666,
              "#ed7953"
             ],
             [
              0.7777777777777778,
              "#fb9f3a"
             ],
             [
              0.8888888888888888,
              "#fdca26"
             ],
             [
              1,
              "#f0f921"
             ]
            ],
            "type": "histogram2dcontour"
           }
          ],
          "mesh3d": [
           {
            "colorbar": {
             "outlinewidth": 0,
             "ticks": ""
            },
            "type": "mesh3d"
           }
          ],
          "parcoords": [
           {
            "line": {
             "colorbar": {
              "outlinewidth": 0,
              "ticks": ""
             }
            },
            "type": "parcoords"
           }
          ],
          "pie": [
           {
            "automargin": true,
            "type": "pie"
           }
          ],
          "scatter": [
           {
            "marker": {
             "colorbar": {
              "outlinewidth": 0,
              "ticks": ""
             }
            },
            "type": "scatter"
           }
          ],
          "scatter3d": [
           {
            "line": {
             "colorbar": {
              "outlinewidth": 0,
              "ticks": ""
             }
            },
            "marker": {
             "colorbar": {
              "outlinewidth": 0,
              "ticks": ""
             }
            },
            "type": "scatter3d"
           }
          ],
          "scattercarpet": [
           {
            "marker": {
             "colorbar": {
              "outlinewidth": 0,
              "ticks": ""
             }
            },
            "type": "scattercarpet"
           }
          ],
          "scattergeo": [
           {
            "marker": {
             "colorbar": {
              "outlinewidth": 0,
              "ticks": ""
             }
            },
            "type": "scattergeo"
           }
          ],
          "scattergl": [
           {
            "marker": {
             "colorbar": {
              "outlinewidth": 0,
              "ticks": ""
             }
            },
            "type": "scattergl"
           }
          ],
          "scattermapbox": [
           {
            "marker": {
             "colorbar": {
              "outlinewidth": 0,
              "ticks": ""
             }
            },
            "type": "scattermapbox"
           }
          ],
          "scatterpolar": [
           {
            "marker": {
             "colorbar": {
              "outlinewidth": 0,
              "ticks": ""
             }
            },
            "type": "scatterpolar"
           }
          ],
          "scatterpolargl": [
           {
            "marker": {
             "colorbar": {
              "outlinewidth": 0,
              "ticks": ""
             }
            },
            "type": "scatterpolargl"
           }
          ],
          "scatterternary": [
           {
            "marker": {
             "colorbar": {
              "outlinewidth": 0,
              "ticks": ""
             }
            },
            "type": "scatterternary"
           }
          ],
          "surface": [
           {
            "colorbar": {
             "outlinewidth": 0,
             "ticks": ""
            },
            "colorscale": [
             [
              0,
              "#0d0887"
             ],
             [
              0.1111111111111111,
              "#46039f"
             ],
             [
              0.2222222222222222,
              "#7201a8"
             ],
             [
              0.3333333333333333,
              "#9c179e"
             ],
             [
              0.4444444444444444,
              "#bd3786"
             ],
             [
              0.5555555555555556,
              "#d8576b"
             ],
             [
              0.6666666666666666,
              "#ed7953"
             ],
             [
              0.7777777777777778,
              "#fb9f3a"
             ],
             [
              0.8888888888888888,
              "#fdca26"
             ],
             [
              1,
              "#f0f921"
             ]
            ],
            "type": "surface"
           }
          ],
          "table": [
           {
            "cells": {
             "fill": {
              "color": "#EBF0F8"
             },
             "line": {
              "color": "white"
             }
            },
            "header": {
             "fill": {
              "color": "#C8D4E3"
             },
             "line": {
              "color": "white"
             }
            },
            "type": "table"
           }
          ]
         },
         "layout": {
          "annotationdefaults": {
           "arrowcolor": "#2a3f5f",
           "arrowhead": 0,
           "arrowwidth": 1
          },
          "autotypenumbers": "strict",
          "coloraxis": {
           "colorbar": {
            "outlinewidth": 0,
            "ticks": ""
           }
          },
          "colorscale": {
           "diverging": [
            [
             0,
             "#8e0152"
            ],
            [
             0.1,
             "#c51b7d"
            ],
            [
             0.2,
             "#de77ae"
            ],
            [
             0.3,
             "#f1b6da"
            ],
            [
             0.4,
             "#fde0ef"
            ],
            [
             0.5,
             "#f7f7f7"
            ],
            [
             0.6,
             "#e6f5d0"
            ],
            [
             0.7,
             "#b8e186"
            ],
            [
             0.8,
             "#7fbc41"
            ],
            [
             0.9,
             "#4d9221"
            ],
            [
             1,
             "#276419"
            ]
           ],
           "sequential": [
            [
             0,
             "#0d0887"
            ],
            [
             0.1111111111111111,
             "#46039f"
            ],
            [
             0.2222222222222222,
             "#7201a8"
            ],
            [
             0.3333333333333333,
             "#9c179e"
            ],
            [
             0.4444444444444444,
             "#bd3786"
            ],
            [
             0.5555555555555556,
             "#d8576b"
            ],
            [
             0.6666666666666666,
             "#ed7953"
            ],
            [
             0.7777777777777778,
             "#fb9f3a"
            ],
            [
             0.8888888888888888,
             "#fdca26"
            ],
            [
             1,
             "#f0f921"
            ]
           ],
           "sequentialminus": [
            [
             0,
             "#0d0887"
            ],
            [
             0.1111111111111111,
             "#46039f"
            ],
            [
             0.2222222222222222,
             "#7201a8"
            ],
            [
             0.3333333333333333,
             "#9c179e"
            ],
            [
             0.4444444444444444,
             "#bd3786"
            ],
            [
             0.5555555555555556,
             "#d8576b"
            ],
            [
             0.6666666666666666,
             "#ed7953"
            ],
            [
             0.7777777777777778,
             "#fb9f3a"
            ],
            [
             0.8888888888888888,
             "#fdca26"
            ],
            [
             1,
             "#f0f921"
            ]
           ]
          },
          "colorway": [
           "#636efa",
           "#EF553B",
           "#00cc96",
           "#ab63fa",
           "#FFA15A",
           "#19d3f3",
           "#FF6692",
           "#B6E880",
           "#FF97FF",
           "#FECB52"
          ],
          "font": {
           "color": "#2a3f5f"
          },
          "geo": {
           "bgcolor": "white",
           "lakecolor": "white",
           "landcolor": "#E5ECF6",
           "showlakes": true,
           "showland": true,
           "subunitcolor": "white"
          },
          "hoverlabel": {
           "align": "left"
          },
          "hovermode": "closest",
          "mapbox": {
           "style": "light"
          },
          "paper_bgcolor": "white",
          "plot_bgcolor": "#E5ECF6",
          "polar": {
           "angularaxis": {
            "gridcolor": "white",
            "linecolor": "white",
            "ticks": ""
           },
           "bgcolor": "#E5ECF6",
           "radialaxis": {
            "gridcolor": "white",
            "linecolor": "white",
            "ticks": ""
           }
          },
          "scene": {
           "xaxis": {
            "backgroundcolor": "#E5ECF6",
            "gridcolor": "white",
            "gridwidth": 2,
            "linecolor": "white",
            "showbackground": true,
            "ticks": "",
            "zerolinecolor": "white"
           },
           "yaxis": {
            "backgroundcolor": "#E5ECF6",
            "gridcolor": "white",
            "gridwidth": 2,
            "linecolor": "white",
            "showbackground": true,
            "ticks": "",
            "zerolinecolor": "white"
           },
           "zaxis": {
            "backgroundcolor": "#E5ECF6",
            "gridcolor": "white",
            "gridwidth": 2,
            "linecolor": "white",
            "showbackground": true,
            "ticks": "",
            "zerolinecolor": "white"
           }
          },
          "shapedefaults": {
           "line": {
            "color": "#2a3f5f"
           }
          },
          "ternary": {
           "aaxis": {
            "gridcolor": "white",
            "linecolor": "white",
            "ticks": ""
           },
           "baxis": {
            "gridcolor": "white",
            "linecolor": "white",
            "ticks": ""
           },
           "bgcolor": "#E5ECF6",
           "caxis": {
            "gridcolor": "white",
            "linecolor": "white",
            "ticks": ""
           }
          },
          "title": {
           "x": 0.05
          },
          "xaxis": {
           "automargin": true,
           "gridcolor": "white",
           "linecolor": "white",
           "ticks": "",
           "title": {
            "standoff": 15
           },
           "zerolinecolor": "white",
           "zerolinewidth": 2
          },
          "yaxis": {
           "automargin": true,
           "gridcolor": "white",
           "linecolor": "white",
           "ticks": "",
           "title": {
            "standoff": 15
           },
           "zerolinecolor": "white",
           "zerolinewidth": 2
          }
         }
        },
        "width": 600,
        "xaxis": {
         "color": "black",
         "linecolor": "black",
         "linewidth": 1.5,
         "mirror": "allticks",
         "showgrid": false,
         "showline": true,
         "ticklen": 10,
         "ticks": "inside",
         "tickwidth": 1.5,
         "title": {
          "text": "recommender error (kcal/mol)"
         },
         "zeroline": false
        },
        "yaxis": {
         "color": "black",
         "linecolor": "black",
         "linewidth": 1.5,
         "mirror": false,
         "showgrid": false,
         "showline": true,
         "ticklen": 10,
         "ticks": "inside",
         "tickwidth": 1.5,
         "title": {
          "text": "percentage"
         },
         "zeroline": false
        },
        "yaxis2": {
         "anchor": "free",
         "linewidth": 3,
         "overlaying": "y",
         "position": 1,
         "range": [
          0,
          100
         ],
         "showgrid": true,
         "showline": true,
         "side": "right",
         "tickfont": {
          "color": "black"
         },
         "ticklen": 10,
         "ticks": "inside",
         "tickwidth": 3,
         "title": {
          "font": {
           "color": "black"
          },
          "text": "cumulative percentage"
         },
         "zeroline": true
        }
       }
      },
      "text/html": [
       "<div>                            <div id=\"3cb3592f-4f1a-4d76-8341-9f0b620e6932\" class=\"plotly-graph-div\" style=\"height:500px; width:600px;\"></div>            <script type=\"text/javascript\">                require([\"plotly\"], function(Plotly) {                    window.PLOTLYENV=window.PLOTLYENV || {};                                    if (document.getElementById(\"3cb3592f-4f1a-4d76-8341-9f0b620e6932\")) {                    Plotly.newPlot(                        \"3cb3592f-4f1a-4d76-8341-9f0b620e6932\",                        [{\"marker\":{\"color\":\"rgba(0, 0, 0, 0.5)\"},\"name\":\"all\",\"showlegend\":false,\"x\":[0.0,0.5,1.0,1.5,2.0,2.5,3.0,3.5,4.0,4.5,5.0,5.5,6.0,6.5,7.0,7.5,8.0,8.5,9.0,9.5,10.0],\"y\":[10.526315789473685,9.210526315789474,10.526315789473685,10.526315789473685,11.842105263157896,6.578947368421052,6.578947368421052,5.2631578947368425,5.2631578947368425,5.2631578947368425,6.578947368421052,1.3157894736842106,2.6315789473684212,0.0,0.0,3.9473684210526314,0.0,1.3157894736842106,0.0,0.0,2.6315789473684212],\"type\":\"bar\"},{\"line\":{\"color\":\"blue\",\"dash\":\"solid\",\"width\":2},\"mode\":\"lines\",\"showlegend\":false,\"x\":[0.0,0.0],\"y\":[0.0,10.526315789473685],\"yaxis\":\"y2\",\"type\":\"scatter\"},{\"line\":{\"color\":\"blue\",\"dash\":\"solid\",\"width\":2},\"mode\":\"lines\",\"showlegend\":false,\"x\":[0.0,0.5],\"y\":[10.526315789473685,10.526315789473685],\"yaxis\":\"y2\",\"type\":\"scatter\"},{\"line\":{\"color\":\"blue\",\"dash\":\"solid\",\"width\":2},\"mode\":\"lines\",\"showlegend\":false,\"x\":[0.5,0.5],\"y\":[10.526315789473685,19.736842105263158],\"yaxis\":\"y2\",\"type\":\"scatter\"},{\"line\":{\"color\":\"blue\",\"dash\":\"solid\",\"width\":2},\"mode\":\"lines\",\"showlegend\":false,\"x\":[0.5,1.0],\"y\":[19.736842105263158,19.736842105263158],\"yaxis\":\"y2\",\"type\":\"scatter\"},{\"line\":{\"color\":\"blue\",\"dash\":\"solid\",\"width\":2},\"mode\":\"lines\",\"showlegend\":false,\"x\":[1.0,1.0],\"y\":[19.736842105263158,30.263157894736842],\"yaxis\":\"y2\",\"type\":\"scatter\"},{\"line\":{\"color\":\"blue\",\"dash\":\"solid\",\"width\":2},\"mode\":\"lines\",\"showlegend\":false,\"x\":[1.0,1.5],\"y\":[30.263157894736842,30.263157894736842],\"yaxis\":\"y2\",\"type\":\"scatter\"},{\"line\":{\"color\":\"blue\",\"dash\":\"solid\",\"width\":2},\"mode\":\"lines\",\"showlegend\":false,\"x\":[1.5,1.5],\"y\":[30.263157894736842,40.78947368421053],\"yaxis\":\"y2\",\"type\":\"scatter\"},{\"line\":{\"color\":\"blue\",\"dash\":\"solid\",\"width\":2},\"mode\":\"lines\",\"showlegend\":false,\"x\":[1.5,2.0],\"y\":[40.78947368421053,40.78947368421053],\"yaxis\":\"y2\",\"type\":\"scatter\"},{\"line\":{\"color\":\"blue\",\"dash\":\"solid\",\"width\":2},\"mode\":\"lines\",\"showlegend\":false,\"x\":[2.0,2.0],\"y\":[40.78947368421053,52.631578947368425],\"yaxis\":\"y2\",\"type\":\"scatter\"},{\"line\":{\"color\":\"blue\",\"dash\":\"solid\",\"width\":2},\"mode\":\"lines\",\"showlegend\":false,\"x\":[2.0,2.5],\"y\":[52.631578947368425,52.631578947368425],\"yaxis\":\"y2\",\"type\":\"scatter\"},{\"line\":{\"color\":\"blue\",\"dash\":\"solid\",\"width\":2},\"mode\":\"lines\",\"showlegend\":false,\"x\":[2.5,2.5],\"y\":[52.631578947368425,59.21052631578949],\"yaxis\":\"y2\",\"type\":\"scatter\"},{\"line\":{\"color\":\"blue\",\"dash\":\"solid\",\"width\":2},\"mode\":\"lines\",\"showlegend\":false,\"x\":[2.5,3.0],\"y\":[59.21052631578949,59.21052631578949],\"yaxis\":\"y2\",\"type\":\"scatter\"},{\"line\":{\"color\":\"blue\",\"dash\":\"solid\",\"width\":2},\"mode\":\"lines\",\"showlegend\":false,\"x\":[3.0,3.0],\"y\":[59.21052631578949,65.78947368421053],\"yaxis\":\"y2\",\"type\":\"scatter\"},{\"line\":{\"color\":\"blue\",\"dash\":\"solid\",\"width\":2},\"mode\":\"lines\",\"showlegend\":false,\"x\":[3.0,3.5],\"y\":[65.78947368421053,65.78947368421053],\"yaxis\":\"y2\",\"type\":\"scatter\"},{\"line\":{\"color\":\"blue\",\"dash\":\"solid\",\"width\":2},\"mode\":\"lines\",\"showlegend\":false,\"x\":[3.5,3.5],\"y\":[65.78947368421053,71.05263157894737],\"yaxis\":\"y2\",\"type\":\"scatter\"},{\"line\":{\"color\":\"blue\",\"dash\":\"solid\",\"width\":2},\"mode\":\"lines\",\"showlegend\":false,\"x\":[3.5,4.0],\"y\":[71.05263157894737,71.05263157894737],\"yaxis\":\"y2\",\"type\":\"scatter\"},{\"line\":{\"color\":\"blue\",\"dash\":\"solid\",\"width\":2},\"mode\":\"lines\",\"showlegend\":false,\"x\":[4.0,4.0],\"y\":[71.05263157894737,76.31578947368422],\"yaxis\":\"y2\",\"type\":\"scatter\"},{\"line\":{\"color\":\"blue\",\"dash\":\"solid\",\"width\":2},\"mode\":\"lines\",\"showlegend\":false,\"x\":[4.0,4.5],\"y\":[76.31578947368422,76.31578947368422],\"yaxis\":\"y2\",\"type\":\"scatter\"},{\"line\":{\"color\":\"blue\",\"dash\":\"solid\",\"width\":2},\"mode\":\"lines\",\"showlegend\":false,\"x\":[4.5,4.5],\"y\":[76.31578947368422,81.57894736842107],\"yaxis\":\"y2\",\"type\":\"scatter\"},{\"line\":{\"color\":\"blue\",\"dash\":\"solid\",\"width\":2},\"mode\":\"lines\",\"showlegend\":false,\"x\":[4.5,5.0],\"y\":[81.57894736842107,81.57894736842107],\"yaxis\":\"y2\",\"type\":\"scatter\"},{\"line\":{\"color\":\"blue\",\"dash\":\"solid\",\"width\":2},\"mode\":\"lines\",\"showlegend\":false,\"x\":[5.0,5.0],\"y\":[81.57894736842107,88.15789473684212],\"yaxis\":\"y2\",\"type\":\"scatter\"},{\"line\":{\"color\":\"blue\",\"dash\":\"solid\",\"width\":2},\"mode\":\"lines\",\"showlegend\":false,\"x\":[5.0,5.5],\"y\":[88.15789473684212,88.15789473684212],\"yaxis\":\"y2\",\"type\":\"scatter\"},{\"line\":{\"color\":\"blue\",\"dash\":\"solid\",\"width\":2},\"mode\":\"lines\",\"showlegend\":false,\"x\":[5.5,5.5],\"y\":[88.15789473684212,89.47368421052633],\"yaxis\":\"y2\",\"type\":\"scatter\"},{\"line\":{\"color\":\"blue\",\"dash\":\"solid\",\"width\":2},\"mode\":\"lines\",\"showlegend\":false,\"x\":[5.5,6.0],\"y\":[89.47368421052633,89.47368421052633],\"yaxis\":\"y2\",\"type\":\"scatter\"},{\"line\":{\"color\":\"blue\",\"dash\":\"solid\",\"width\":2},\"mode\":\"lines\",\"showlegend\":false,\"x\":[6.0,6.0],\"y\":[89.47368421052633,92.10526315789475],\"yaxis\":\"y2\",\"type\":\"scatter\"},{\"line\":{\"color\":\"blue\",\"dash\":\"solid\",\"width\":2},\"mode\":\"lines\",\"showlegend\":false,\"x\":[6.0,6.5],\"y\":[92.10526315789475,92.10526315789475],\"yaxis\":\"y2\",\"type\":\"scatter\"},{\"line\":{\"color\":\"blue\",\"dash\":\"solid\",\"width\":2},\"mode\":\"lines\",\"showlegend\":false,\"x\":[6.5,6.5],\"y\":[92.10526315789475,92.10526315789475],\"yaxis\":\"y2\",\"type\":\"scatter\"},{\"line\":{\"color\":\"blue\",\"dash\":\"solid\",\"width\":2},\"mode\":\"lines\",\"showlegend\":false,\"x\":[6.5,7.0],\"y\":[92.10526315789475,92.10526315789475],\"yaxis\":\"y2\",\"type\":\"scatter\"},{\"line\":{\"color\":\"blue\",\"dash\":\"solid\",\"width\":2},\"mode\":\"lines\",\"showlegend\":false,\"x\":[7.0,7.0],\"y\":[92.10526315789475,92.10526315789475],\"yaxis\":\"y2\",\"type\":\"scatter\"},{\"line\":{\"color\":\"blue\",\"dash\":\"solid\",\"width\":2},\"mode\":\"lines\",\"showlegend\":false,\"x\":[7.0,7.5],\"y\":[92.10526315789475,92.10526315789475],\"yaxis\":\"y2\",\"type\":\"scatter\"},{\"line\":{\"color\":\"blue\",\"dash\":\"solid\",\"width\":2},\"mode\":\"lines\",\"showlegend\":false,\"x\":[7.5,7.5],\"y\":[92.10526315789475,96.05263157894737],\"yaxis\":\"y2\",\"type\":\"scatter\"},{\"line\":{\"color\":\"blue\",\"dash\":\"solid\",\"width\":2},\"mode\":\"lines\",\"showlegend\":false,\"x\":[7.5,8.0],\"y\":[96.05263157894737,96.05263157894737],\"yaxis\":\"y2\",\"type\":\"scatter\"},{\"line\":{\"color\":\"blue\",\"dash\":\"solid\",\"width\":2},\"mode\":\"lines\",\"showlegend\":false,\"x\":[8.0,8.0],\"y\":[96.05263157894737,96.05263157894737],\"yaxis\":\"y2\",\"type\":\"scatter\"},{\"line\":{\"color\":\"blue\",\"dash\":\"solid\",\"width\":2},\"mode\":\"lines\",\"showlegend\":false,\"x\":[8.0,8.5],\"y\":[96.05263157894737,96.05263157894737],\"yaxis\":\"y2\",\"type\":\"scatter\"},{\"line\":{\"color\":\"blue\",\"dash\":\"solid\",\"width\":2},\"mode\":\"lines\",\"showlegend\":false,\"x\":[8.5,8.5],\"y\":[96.05263157894737,97.36842105263159],\"yaxis\":\"y2\",\"type\":\"scatter\"},{\"line\":{\"color\":\"blue\",\"dash\":\"solid\",\"width\":2},\"mode\":\"lines\",\"showlegend\":false,\"x\":[8.5,9.0],\"y\":[97.36842105263159,97.36842105263159],\"yaxis\":\"y2\",\"type\":\"scatter\"},{\"line\":{\"color\":\"blue\",\"dash\":\"solid\",\"width\":2},\"mode\":\"lines\",\"showlegend\":false,\"x\":[9.0,9.0],\"y\":[97.36842105263159,97.36842105263159],\"yaxis\":\"y2\",\"type\":\"scatter\"},{\"line\":{\"color\":\"blue\",\"dash\":\"solid\",\"width\":2},\"mode\":\"lines\",\"showlegend\":false,\"x\":[9.0,9.5],\"y\":[97.36842105263159,97.36842105263159],\"yaxis\":\"y2\",\"type\":\"scatter\"},{\"line\":{\"color\":\"blue\",\"dash\":\"solid\",\"width\":2},\"mode\":\"lines\",\"showlegend\":false,\"x\":[9.5,9.5],\"y\":[97.36842105263159,97.36842105263159],\"yaxis\":\"y2\",\"type\":\"scatter\"},{\"line\":{\"color\":\"blue\",\"dash\":\"solid\",\"width\":2},\"mode\":\"lines\",\"showlegend\":false,\"x\":[9.5,10.0],\"y\":[97.36842105263159,97.36842105263159],\"yaxis\":\"y2\",\"type\":\"scatter\"}],                        {\"boxmode\":\"group\",\"font\":{\"color\":\"black\",\"family\":\"Helvetica\",\"size\":24},\"height\":500,\"legend\":{\"bgcolor\":\"rgba(0,0,0,0)\",\"orientation\":\"v\",\"x\":1,\"y\":1},\"margin\":{\"b\":100,\"l\":100,\"r\":10,\"t\":10},\"paper_bgcolor\":\"rgba(255,255,255,100)\",\"plot_bgcolor\":\"white\",\"template\":{\"data\":{\"barpolar\":[{\"marker\":{\"line\":{\"color\":\"#E5ECF6\",\"width\":0.5},\"pattern\":{\"fillmode\":\"overlay\",\"size\":10,\"solidity\":0.2}},\"type\":\"barpolar\"}],\"bar\":[{\"error_x\":{\"color\":\"#2a3f5f\"},\"error_y\":{\"color\":\"#2a3f5f\"},\"marker\":{\"line\":{\"color\":\"#E5ECF6\",\"width\":0.5},\"pattern\":{\"fillmode\":\"overlay\",\"size\":10,\"solidity\":0.2}},\"type\":\"bar\"}],\"carpet\":[{\"aaxis\":{\"endlinecolor\":\"#2a3f5f\",\"gridcolor\":\"white\",\"linecolor\":\"white\",\"minorgridcolor\":\"white\",\"startlinecolor\":\"#2a3f5f\"},\"baxis\":{\"endlinecolor\":\"#2a3f5f\",\"gridcolor\":\"white\",\"linecolor\":\"white\",\"minorgridcolor\":\"white\",\"startlinecolor\":\"#2a3f5f\"},\"type\":\"carpet\"}],\"choropleth\":[{\"colorbar\":{\"outlinewidth\":0,\"ticks\":\"\"},\"type\":\"choropleth\"}],\"contourcarpet\":[{\"colorbar\":{\"outlinewidth\":0,\"ticks\":\"\"},\"type\":\"contourcarpet\"}],\"contour\":[{\"colorbar\":{\"outlinewidth\":0,\"ticks\":\"\"},\"colorscale\":[[0.0,\"#0d0887\"],[0.1111111111111111,\"#46039f\"],[0.2222222222222222,\"#7201a8\"],[0.3333333333333333,\"#9c179e\"],[0.4444444444444444,\"#bd3786\"],[0.5555555555555556,\"#d8576b\"],[0.6666666666666666,\"#ed7953\"],[0.7777777777777778,\"#fb9f3a\"],[0.8888888888888888,\"#fdca26\"],[1.0,\"#f0f921\"]],\"type\":\"contour\"}],\"heatmapgl\":[{\"colorbar\":{\"outlinewidth\":0,\"ticks\":\"\"},\"colorscale\":[[0.0,\"#0d0887\"],[0.1111111111111111,\"#46039f\"],[0.2222222222222222,\"#7201a8\"],[0.3333333333333333,\"#9c179e\"],[0.4444444444444444,\"#bd3786\"],[0.5555555555555556,\"#d8576b\"],[0.6666666666666666,\"#ed7953\"],[0.7777777777777778,\"#fb9f3a\"],[0.8888888888888888,\"#fdca26\"],[1.0,\"#f0f921\"]],\"type\":\"heatmapgl\"}],\"heatmap\":[{\"colorbar\":{\"outlinewidth\":0,\"ticks\":\"\"},\"colorscale\":[[0.0,\"#0d0887\"],[0.1111111111111111,\"#46039f\"],[0.2222222222222222,\"#7201a8\"],[0.3333333333333333,\"#9c179e\"],[0.4444444444444444,\"#bd3786\"],[0.5555555555555556,\"#d8576b\"],[0.6666666666666666,\"#ed7953\"],[0.7777777777777778,\"#fb9f3a\"],[0.8888888888888888,\"#fdca26\"],[1.0,\"#f0f921\"]],\"type\":\"heatmap\"}],\"histogram2dcontour\":[{\"colorbar\":{\"outlinewidth\":0,\"ticks\":\"\"},\"colorscale\":[[0.0,\"#0d0887\"],[0.1111111111111111,\"#46039f\"],[0.2222222222222222,\"#7201a8\"],[0.3333333333333333,\"#9c179e\"],[0.4444444444444444,\"#bd3786\"],[0.5555555555555556,\"#d8576b\"],[0.6666666666666666,\"#ed7953\"],[0.7777777777777778,\"#fb9f3a\"],[0.8888888888888888,\"#fdca26\"],[1.0,\"#f0f921\"]],\"type\":\"histogram2dcontour\"}],\"histogram2d\":[{\"colorbar\":{\"outlinewidth\":0,\"ticks\":\"\"},\"colorscale\":[[0.0,\"#0d0887\"],[0.1111111111111111,\"#46039f\"],[0.2222222222222222,\"#7201a8\"],[0.3333333333333333,\"#9c179e\"],[0.4444444444444444,\"#bd3786\"],[0.5555555555555556,\"#d8576b\"],[0.6666666666666666,\"#ed7953\"],[0.7777777777777778,\"#fb9f3a\"],[0.8888888888888888,\"#fdca26\"],[1.0,\"#f0f921\"]],\"type\":\"histogram2d\"}],\"histogram\":[{\"marker\":{\"pattern\":{\"fillmode\":\"overlay\",\"size\":10,\"solidity\":0.2}},\"type\":\"histogram\"}],\"mesh3d\":[{\"colorbar\":{\"outlinewidth\":0,\"ticks\":\"\"},\"type\":\"mesh3d\"}],\"parcoords\":[{\"line\":{\"colorbar\":{\"outlinewidth\":0,\"ticks\":\"\"}},\"type\":\"parcoords\"}],\"pie\":[{\"automargin\":true,\"type\":\"pie\"}],\"scatter3d\":[{\"line\":{\"colorbar\":{\"outlinewidth\":0,\"ticks\":\"\"}},\"marker\":{\"colorbar\":{\"outlinewidth\":0,\"ticks\":\"\"}},\"type\":\"scatter3d\"}],\"scattercarpet\":[{\"marker\":{\"colorbar\":{\"outlinewidth\":0,\"ticks\":\"\"}},\"type\":\"scattercarpet\"}],\"scattergeo\":[{\"marker\":{\"colorbar\":{\"outlinewidth\":0,\"ticks\":\"\"}},\"type\":\"scattergeo\"}],\"scattergl\":[{\"marker\":{\"colorbar\":{\"outlinewidth\":0,\"ticks\":\"\"}},\"type\":\"scattergl\"}],\"scattermapbox\":[{\"marker\":{\"colorbar\":{\"outlinewidth\":0,\"ticks\":\"\"}},\"type\":\"scattermapbox\"}],\"scatterpolargl\":[{\"marker\":{\"colorbar\":{\"outlinewidth\":0,\"ticks\":\"\"}},\"type\":\"scatterpolargl\"}],\"scatterpolar\":[{\"marker\":{\"colorbar\":{\"outlinewidth\":0,\"ticks\":\"\"}},\"type\":\"scatterpolar\"}],\"scatter\":[{\"marker\":{\"colorbar\":{\"outlinewidth\":0,\"ticks\":\"\"}},\"type\":\"scatter\"}],\"scatterternary\":[{\"marker\":{\"colorbar\":{\"outlinewidth\":0,\"ticks\":\"\"}},\"type\":\"scatterternary\"}],\"surface\":[{\"colorbar\":{\"outlinewidth\":0,\"ticks\":\"\"},\"colorscale\":[[0.0,\"#0d0887\"],[0.1111111111111111,\"#46039f\"],[0.2222222222222222,\"#7201a8\"],[0.3333333333333333,\"#9c179e\"],[0.4444444444444444,\"#bd3786\"],[0.5555555555555556,\"#d8576b\"],[0.6666666666666666,\"#ed7953\"],[0.7777777777777778,\"#fb9f3a\"],[0.8888888888888888,\"#fdca26\"],[1.0,\"#f0f921\"]],\"type\":\"surface\"}],\"table\":[{\"cells\":{\"fill\":{\"color\":\"#EBF0F8\"},\"line\":{\"color\":\"white\"}},\"header\":{\"fill\":{\"color\":\"#C8D4E3\"},\"line\":{\"color\":\"white\"}},\"type\":\"table\"}]},\"layout\":{\"annotationdefaults\":{\"arrowcolor\":\"#2a3f5f\",\"arrowhead\":0,\"arrowwidth\":1},\"autotypenumbers\":\"strict\",\"coloraxis\":{\"colorbar\":{\"outlinewidth\":0,\"ticks\":\"\"}},\"colorscale\":{\"diverging\":[[0,\"#8e0152\"],[0.1,\"#c51b7d\"],[0.2,\"#de77ae\"],[0.3,\"#f1b6da\"],[0.4,\"#fde0ef\"],[0.5,\"#f7f7f7\"],[0.6,\"#e6f5d0\"],[0.7,\"#b8e186\"],[0.8,\"#7fbc41\"],[0.9,\"#4d9221\"],[1,\"#276419\"]],\"sequential\":[[0.0,\"#0d0887\"],[0.1111111111111111,\"#46039f\"],[0.2222222222222222,\"#7201a8\"],[0.3333333333333333,\"#9c179e\"],[0.4444444444444444,\"#bd3786\"],[0.5555555555555556,\"#d8576b\"],[0.6666666666666666,\"#ed7953\"],[0.7777777777777778,\"#fb9f3a\"],[0.8888888888888888,\"#fdca26\"],[1.0,\"#f0f921\"]],\"sequentialminus\":[[0.0,\"#0d0887\"],[0.1111111111111111,\"#46039f\"],[0.2222222222222222,\"#7201a8\"],[0.3333333333333333,\"#9c179e\"],[0.4444444444444444,\"#bd3786\"],[0.5555555555555556,\"#d8576b\"],[0.6666666666666666,\"#ed7953\"],[0.7777777777777778,\"#fb9f3a\"],[0.8888888888888888,\"#fdca26\"],[1.0,\"#f0f921\"]]},\"colorway\":[\"#636efa\",\"#EF553B\",\"#00cc96\",\"#ab63fa\",\"#FFA15A\",\"#19d3f3\",\"#FF6692\",\"#B6E880\",\"#FF97FF\",\"#FECB52\"],\"font\":{\"color\":\"#2a3f5f\"},\"geo\":{\"bgcolor\":\"white\",\"lakecolor\":\"white\",\"landcolor\":\"#E5ECF6\",\"showlakes\":true,\"showland\":true,\"subunitcolor\":\"white\"},\"hoverlabel\":{\"align\":\"left\"},\"hovermode\":\"closest\",\"mapbox\":{\"style\":\"light\"},\"paper_bgcolor\":\"white\",\"plot_bgcolor\":\"#E5ECF6\",\"polar\":{\"angularaxis\":{\"gridcolor\":\"white\",\"linecolor\":\"white\",\"ticks\":\"\"},\"bgcolor\":\"#E5ECF6\",\"radialaxis\":{\"gridcolor\":\"white\",\"linecolor\":\"white\",\"ticks\":\"\"}},\"scene\":{\"xaxis\":{\"backgroundcolor\":\"#E5ECF6\",\"gridcolor\":\"white\",\"gridwidth\":2,\"linecolor\":\"white\",\"showbackground\":true,\"ticks\":\"\",\"zerolinecolor\":\"white\"},\"yaxis\":{\"backgroundcolor\":\"#E5ECF6\",\"gridcolor\":\"white\",\"gridwidth\":2,\"linecolor\":\"white\",\"showbackground\":true,\"ticks\":\"\",\"zerolinecolor\":\"white\"},\"zaxis\":{\"backgroundcolor\":\"#E5ECF6\",\"gridcolor\":\"white\",\"gridwidth\":2,\"linecolor\":\"white\",\"showbackground\":true,\"ticks\":\"\",\"zerolinecolor\":\"white\"}},\"shapedefaults\":{\"line\":{\"color\":\"#2a3f5f\"}},\"ternary\":{\"aaxis\":{\"gridcolor\":\"white\",\"linecolor\":\"white\",\"ticks\":\"\"},\"baxis\":{\"gridcolor\":\"white\",\"linecolor\":\"white\",\"ticks\":\"\"},\"bgcolor\":\"#E5ECF6\",\"caxis\":{\"gridcolor\":\"white\",\"linecolor\":\"white\",\"ticks\":\"\"}},\"title\":{\"x\":0.05},\"xaxis\":{\"automargin\":true,\"gridcolor\":\"white\",\"linecolor\":\"white\",\"ticks\":\"\",\"title\":{\"standoff\":15},\"zerolinecolor\":\"white\",\"zerolinewidth\":2},\"yaxis\":{\"automargin\":true,\"gridcolor\":\"white\",\"linecolor\":\"white\",\"ticks\":\"\",\"title\":{\"standoff\":15},\"zerolinecolor\":\"white\",\"zerolinewidth\":2}}},\"width\":600,\"xaxis\":{\"color\":\"black\",\"linecolor\":\"black\",\"linewidth\":1.5,\"mirror\":\"allticks\",\"showgrid\":false,\"showline\":true,\"ticklen\":10,\"ticks\":\"inside\",\"tickwidth\":1.5,\"title\":{\"text\":\"recommender error (kcal/mol)\"},\"zeroline\":false},\"yaxis\":{\"color\":\"black\",\"linecolor\":\"black\",\"linewidth\":1.5,\"mirror\":false,\"showgrid\":false,\"showline\":true,\"ticklen\":10,\"ticks\":\"inside\",\"tickwidth\":1.5,\"title\":{\"text\":\"percentage\"},\"zeroline\":false},\"yaxis2\":{\"anchor\":\"free\",\"linewidth\":3,\"overlaying\":\"y\",\"position\":1,\"range\":[0,100],\"showgrid\":true,\"showline\":true,\"side\":\"right\",\"tickfont\":{\"color\":\"black\"},\"ticklen\":10,\"ticks\":\"inside\",\"tickwidth\":3,\"title\":{\"font\":{\"color\":\"black\"},\"text\":\"cumulative percentage\"},\"zeroline\":true}},                        {\"responsive\": true}                    ).then(function(){\n",
       "                            \n",
       "var gd = document.getElementById('3cb3592f-4f1a-4d76-8341-9f0b620e6932');\n",
       "var x = new MutationObserver(function (mutations, observer) {{\n",
       "        var display = window.getComputedStyle(gd).display;\n",
       "        if (!display || display === 'none') {{\n",
       "            console.log([gd, 'removed!']);\n",
       "            Plotly.purge(gd);\n",
       "            observer.disconnect();\n",
       "        }}\n",
       "}});\n",
       "\n",
       "// Listen for the removal of the full notebook cells\n",
       "var notebookContainer = gd.closest('#notebook-container');\n",
       "if (notebookContainer) {{\n",
       "    x.observe(notebookContainer, {childList: true});\n",
       "}}\n",
       "\n",
       "// Listen for the clearing of the current output cell\n",
       "var outputEl = gd.closest('.output');\n",
       "if (outputEl) {{\n",
       "    x.observe(outputEl, {childList: true});\n",
       "}}\n",
       "\n",
       "                        })                };                });            </script>        </div>"
      ]
     },
     "metadata": {},
     "output_type": "display_data"
    }
   ],
   "source": [
    "err_ranges = np.linspace(0, 10, 21)\n",
    "y = []\n",
    "for ii, err in enumerate(err_ranges[:-1]):\n",
    "    y += [len(df_sel[(df_sel[\"errs_t\"] >= err) & (df_sel[\"errs_t\"] < err_ranges[ii+1])])*100./len(df_sel)]\n",
    "y += [len(df_sel[(df_sel[\"errs_t\"] >= err_ranges[-1])])*100./len(df_sel)]\n",
    "data = [go.Bar(x=err_ranges,\n",
    "               y=y, name='all', marker_color='rgba(0, 0, 0, 0.5)', showlegend=False),]\n",
    "xs=err_ranges\n",
    "ys=[np.sum(y[:ii])*100./np.sum(y) for ii, _ in enumerate(xs)]\n",
    "for ii in range(xs.shape[0]-1):\n",
    "    data += [go.Scatter(x=[xs[ii], xs[ii]], y=[ys[ii], ys[ii+1]], mode='lines', yaxis=\"y2\", line=dict(color='blue', width=2, dash='solid'), showlegend=False)]\n",
    "    data += [go.Scatter(x=[xs[ii], xs[ii+1]], y=[ys[ii+1], ys[ii+1]], mode='lines', yaxis=\"y2\", line=dict(color='blue', width=2, dash='solid'), showlegend=False)]\n",
    "layout = go.Layout()\n",
    "layout.update(glob_layout)\n",
    "layout.legend.update(x=1, y=1, bgcolor=\"rgba(0,0,0,0)\")\n",
    "layout[\"xaxis\"].update({'title': \"recommender error (kcal/mol)\"})\n",
    "layout[\"yaxis\"].update({'title': \"percentage\", \"mirror\": False})\n",
    "layout.update({\"yaxis2\": dict(\n",
    "    title=\"cumulative percentage\",\n",
    "    titlefont=dict(color=\"black\"),\n",
    "    tickfont=dict(color=\"black\"),\n",
    "    anchor=\"free\",\n",
    "    overlaying=\"y\",\n",
    "    side=\"right\",\n",
    "    position=1,\n",
    "    range=[0, 100],\n",
    "    showgrid=True,  \n",
    "    zeroline=True, \n",
    "    ticks=\"inside\", \n",
    "    showline=True,\n",
    "    tickwidth=3, \n",
    "    linewidth=3, \n",
    "    ticklen=10,\n",
    "#     mirror=True,\n",
    ")},)\n",
    "layout.update(width=600, height=500, boxmode='group')\n",
    "fig = go.Figure(data=data, layout=layout)\n",
    "iplot(fig)\n",
    "# fig.write_image(\"/Users/chenruduan/Dropbox (MIT)/CD-DFARecFull/Figures/F2/ErrBar.pdf\")"
   ]
  },
  {
   "cell_type": "code",
   "execution_count": 16,
   "metadata": {},
   "outputs": [],
   "source": [
    "errors = [\"< 1\", \"< 3\", \"< 5\", \"< 10\"]\n",
    "p_vss = [34.9, 77.0, 88.8, 100]\n",
    "p_csd = [19.7, 59.2, 81.6, 97.4]"
   ]
  },
  {
   "cell_type": "code",
   "execution_count": 17,
   "metadata": {},
   "outputs": [
    {
     "data": {
      "application/vnd.plotly.v1+json": {
       "config": {
        "linkText": "Export to plot.ly",
        "plotlyServerURL": "https://plot.ly",
        "showLink": false
       },
       "data": [
        {
         "marker": {
          "color": "rgba(0, 0, 0, 0.5)"
         },
         "name": "all",
         "showlegend": false,
         "type": "bar",
         "x": [
          "< 1",
          "< 3",
          "< 5",
          "< 10"
         ],
         "y": [
          19.7,
          59.2,
          81.6,
          97.4
         ]
        },
        {
         "line": {
          "dash": "dash"
         },
         "marker": {
          "color": "rgba(255, 0, 0, 0.5)",
          "size": 12
         },
         "mode": "lines+markers",
         "type": "scatter",
         "x": [
          "< 1",
          "< 3",
          "< 5",
          "< 10"
         ],
         "y": [
          34.9,
          77,
          88.8,
          100
         ]
        }
       ],
       "layout": {
        "boxmode": "group",
        "font": {
         "color": "black",
         "family": "Helvetica",
         "size": 24
        },
        "height": 500,
        "legend": {
         "bgcolor": "rgba(0,0,0,0)",
         "orientation": "v",
         "x": 1,
         "y": 1
        },
        "margin": {
         "b": 100,
         "l": 100,
         "r": 10,
         "t": 10
        },
        "paper_bgcolor": "rgba(255,255,255,100)",
        "plot_bgcolor": "white",
        "showlegend": false,
        "template": {
         "data": {
          "bar": [
           {
            "error_x": {
             "color": "#2a3f5f"
            },
            "error_y": {
             "color": "#2a3f5f"
            },
            "marker": {
             "line": {
              "color": "#E5ECF6",
              "width": 0.5
             },
             "pattern": {
              "fillmode": "overlay",
              "size": 10,
              "solidity": 0.2
             }
            },
            "type": "bar"
           }
          ],
          "barpolar": [
           {
            "marker": {
             "line": {
              "color": "#E5ECF6",
              "width": 0.5
             },
             "pattern": {
              "fillmode": "overlay",
              "size": 10,
              "solidity": 0.2
             }
            },
            "type": "barpolar"
           }
          ],
          "carpet": [
           {
            "aaxis": {
             "endlinecolor": "#2a3f5f",
             "gridcolor": "white",
             "linecolor": "white",
             "minorgridcolor": "white",
             "startlinecolor": "#2a3f5f"
            },
            "baxis": {
             "endlinecolor": "#2a3f5f",
             "gridcolor": "white",
             "linecolor": "white",
             "minorgridcolor": "white",
             "startlinecolor": "#2a3f5f"
            },
            "type": "carpet"
           }
          ],
          "choropleth": [
           {
            "colorbar": {
             "outlinewidth": 0,
             "ticks": ""
            },
            "type": "choropleth"
           }
          ],
          "contour": [
           {
            "colorbar": {
             "outlinewidth": 0,
             "ticks": ""
            },
            "colorscale": [
             [
              0,
              "#0d0887"
             ],
             [
              0.1111111111111111,
              "#46039f"
             ],
             [
              0.2222222222222222,
              "#7201a8"
             ],
             [
              0.3333333333333333,
              "#9c179e"
             ],
             [
              0.4444444444444444,
              "#bd3786"
             ],
             [
              0.5555555555555556,
              "#d8576b"
             ],
             [
              0.6666666666666666,
              "#ed7953"
             ],
             [
              0.7777777777777778,
              "#fb9f3a"
             ],
             [
              0.8888888888888888,
              "#fdca26"
             ],
             [
              1,
              "#f0f921"
             ]
            ],
            "type": "contour"
           }
          ],
          "contourcarpet": [
           {
            "colorbar": {
             "outlinewidth": 0,
             "ticks": ""
            },
            "type": "contourcarpet"
           }
          ],
          "heatmap": [
           {
            "colorbar": {
             "outlinewidth": 0,
             "ticks": ""
            },
            "colorscale": [
             [
              0,
              "#0d0887"
             ],
             [
              0.1111111111111111,
              "#46039f"
             ],
             [
              0.2222222222222222,
              "#7201a8"
             ],
             [
              0.3333333333333333,
              "#9c179e"
             ],
             [
              0.4444444444444444,
              "#bd3786"
             ],
             [
              0.5555555555555556,
              "#d8576b"
             ],
             [
              0.6666666666666666,
              "#ed7953"
             ],
             [
              0.7777777777777778,
              "#fb9f3a"
             ],
             [
              0.8888888888888888,
              "#fdca26"
             ],
             [
              1,
              "#f0f921"
             ]
            ],
            "type": "heatmap"
           }
          ],
          "heatmapgl": [
           {
            "colorbar": {
             "outlinewidth": 0,
             "ticks": ""
            },
            "colorscale": [
             [
              0,
              "#0d0887"
             ],
             [
              0.1111111111111111,
              "#46039f"
             ],
             [
              0.2222222222222222,
              "#7201a8"
             ],
             [
              0.3333333333333333,
              "#9c179e"
             ],
             [
              0.4444444444444444,
              "#bd3786"
             ],
             [
              0.5555555555555556,
              "#d8576b"
             ],
             [
              0.6666666666666666,
              "#ed7953"
             ],
             [
              0.7777777777777778,
              "#fb9f3a"
             ],
             [
              0.8888888888888888,
              "#fdca26"
             ],
             [
              1,
              "#f0f921"
             ]
            ],
            "type": "heatmapgl"
           }
          ],
          "histogram": [
           {
            "marker": {
             "pattern": {
              "fillmode": "overlay",
              "size": 10,
              "solidity": 0.2
             }
            },
            "type": "histogram"
           }
          ],
          "histogram2d": [
           {
            "colorbar": {
             "outlinewidth": 0,
             "ticks": ""
            },
            "colorscale": [
             [
              0,
              "#0d0887"
             ],
             [
              0.1111111111111111,
              "#46039f"
             ],
             [
              0.2222222222222222,
              "#7201a8"
             ],
             [
              0.3333333333333333,
              "#9c179e"
             ],
             [
              0.4444444444444444,
              "#bd3786"
             ],
             [
              0.5555555555555556,
              "#d8576b"
             ],
             [
              0.6666666666666666,
              "#ed7953"
             ],
             [
              0.7777777777777778,
              "#fb9f3a"
             ],
             [
              0.8888888888888888,
              "#fdca26"
             ],
             [
              1,
              "#f0f921"
             ]
            ],
            "type": "histogram2d"
           }
          ],
          "histogram2dcontour": [
           {
            "colorbar": {
             "outlinewidth": 0,
             "ticks": ""
            },
            "colorscale": [
             [
              0,
              "#0d0887"
             ],
             [
              0.1111111111111111,
              "#46039f"
             ],
             [
              0.2222222222222222,
              "#7201a8"
             ],
             [
              0.3333333333333333,
              "#9c179e"
             ],
             [
              0.4444444444444444,
              "#bd3786"
             ],
             [
              0.5555555555555556,
              "#d8576b"
             ],
             [
              0.6666666666666666,
              "#ed7953"
             ],
             [
              0.7777777777777778,
              "#fb9f3a"
             ],
             [
              0.8888888888888888,
              "#fdca26"
             ],
             [
              1,
              "#f0f921"
             ]
            ],
            "type": "histogram2dcontour"
           }
          ],
          "mesh3d": [
           {
            "colorbar": {
             "outlinewidth": 0,
             "ticks": ""
            },
            "type": "mesh3d"
           }
          ],
          "parcoords": [
           {
            "line": {
             "colorbar": {
              "outlinewidth": 0,
              "ticks": ""
             }
            },
            "type": "parcoords"
           }
          ],
          "pie": [
           {
            "automargin": true,
            "type": "pie"
           }
          ],
          "scatter": [
           {
            "marker": {
             "colorbar": {
              "outlinewidth": 0,
              "ticks": ""
             }
            },
            "type": "scatter"
           }
          ],
          "scatter3d": [
           {
            "line": {
             "colorbar": {
              "outlinewidth": 0,
              "ticks": ""
             }
            },
            "marker": {
             "colorbar": {
              "outlinewidth": 0,
              "ticks": ""
             }
            },
            "type": "scatter3d"
           }
          ],
          "scattercarpet": [
           {
            "marker": {
             "colorbar": {
              "outlinewidth": 0,
              "ticks": ""
             }
            },
            "type": "scattercarpet"
           }
          ],
          "scattergeo": [
           {
            "marker": {
             "colorbar": {
              "outlinewidth": 0,
              "ticks": ""
             }
            },
            "type": "scattergeo"
           }
          ],
          "scattergl": [
           {
            "marker": {
             "colorbar": {
              "outlinewidth": 0,
              "ticks": ""
             }
            },
            "type": "scattergl"
           }
          ],
          "scattermapbox": [
           {
            "marker": {
             "colorbar": {
              "outlinewidth": 0,
              "ticks": ""
             }
            },
            "type": "scattermapbox"
           }
          ],
          "scatterpolar": [
           {
            "marker": {
             "colorbar": {
              "outlinewidth": 0,
              "ticks": ""
             }
            },
            "type": "scatterpolar"
           }
          ],
          "scatterpolargl": [
           {
            "marker": {
             "colorbar": {
              "outlinewidth": 0,
              "ticks": ""
             }
            },
            "type": "scatterpolargl"
           }
          ],
          "scatterternary": [
           {
            "marker": {
             "colorbar": {
              "outlinewidth": 0,
              "ticks": ""
             }
            },
            "type": "scatterternary"
           }
          ],
          "surface": [
           {
            "colorbar": {
             "outlinewidth": 0,
             "ticks": ""
            },
            "colorscale": [
             [
              0,
              "#0d0887"
             ],
             [
              0.1111111111111111,
              "#46039f"
             ],
             [
              0.2222222222222222,
              "#7201a8"
             ],
             [
              0.3333333333333333,
              "#9c179e"
             ],
             [
              0.4444444444444444,
              "#bd3786"
             ],
             [
              0.5555555555555556,
              "#d8576b"
             ],
             [
              0.6666666666666666,
              "#ed7953"
             ],
             [
              0.7777777777777778,
              "#fb9f3a"
             ],
             [
              0.8888888888888888,
              "#fdca26"
             ],
             [
              1,
              "#f0f921"
             ]
            ],
            "type": "surface"
           }
          ],
          "table": [
           {
            "cells": {
             "fill": {
              "color": "#EBF0F8"
             },
             "line": {
              "color": "white"
             }
            },
            "header": {
             "fill": {
              "color": "#C8D4E3"
             },
             "line": {
              "color": "white"
             }
            },
            "type": "table"
           }
          ]
         },
         "layout": {
          "annotationdefaults": {
           "arrowcolor": "#2a3f5f",
           "arrowhead": 0,
           "arrowwidth": 1
          },
          "autotypenumbers": "strict",
          "coloraxis": {
           "colorbar": {
            "outlinewidth": 0,
            "ticks": ""
           }
          },
          "colorscale": {
           "diverging": [
            [
             0,
             "#8e0152"
            ],
            [
             0.1,
             "#c51b7d"
            ],
            [
             0.2,
             "#de77ae"
            ],
            [
             0.3,
             "#f1b6da"
            ],
            [
             0.4,
             "#fde0ef"
            ],
            [
             0.5,
             "#f7f7f7"
            ],
            [
             0.6,
             "#e6f5d0"
            ],
            [
             0.7,
             "#b8e186"
            ],
            [
             0.8,
             "#7fbc41"
            ],
            [
             0.9,
             "#4d9221"
            ],
            [
             1,
             "#276419"
            ]
           ],
           "sequential": [
            [
             0,
             "#0d0887"
            ],
            [
             0.1111111111111111,
             "#46039f"
            ],
            [
             0.2222222222222222,
             "#7201a8"
            ],
            [
             0.3333333333333333,
             "#9c179e"
            ],
            [
             0.4444444444444444,
             "#bd3786"
            ],
            [
             0.5555555555555556,
             "#d8576b"
            ],
            [
             0.6666666666666666,
             "#ed7953"
            ],
            [
             0.7777777777777778,
             "#fb9f3a"
            ],
            [
             0.8888888888888888,
             "#fdca26"
            ],
            [
             1,
             "#f0f921"
            ]
           ],
           "sequentialminus": [
            [
             0,
             "#0d0887"
            ],
            [
             0.1111111111111111,
             "#46039f"
            ],
            [
             0.2222222222222222,
             "#7201a8"
            ],
            [
             0.3333333333333333,
             "#9c179e"
            ],
            [
             0.4444444444444444,
             "#bd3786"
            ],
            [
             0.5555555555555556,
             "#d8576b"
            ],
            [
             0.6666666666666666,
             "#ed7953"
            ],
            [
             0.7777777777777778,
             "#fb9f3a"
            ],
            [
             0.8888888888888888,
             "#fdca26"
            ],
            [
             1,
             "#f0f921"
            ]
           ]
          },
          "colorway": [
           "#636efa",
           "#EF553B",
           "#00cc96",
           "#ab63fa",
           "#FFA15A",
           "#19d3f3",
           "#FF6692",
           "#B6E880",
           "#FF97FF",
           "#FECB52"
          ],
          "font": {
           "color": "#2a3f5f"
          },
          "geo": {
           "bgcolor": "white",
           "lakecolor": "white",
           "landcolor": "#E5ECF6",
           "showlakes": true,
           "showland": true,
           "subunitcolor": "white"
          },
          "hoverlabel": {
           "align": "left"
          },
          "hovermode": "closest",
          "mapbox": {
           "style": "light"
          },
          "paper_bgcolor": "white",
          "plot_bgcolor": "#E5ECF6",
          "polar": {
           "angularaxis": {
            "gridcolor": "white",
            "linecolor": "white",
            "ticks": ""
           },
           "bgcolor": "#E5ECF6",
           "radialaxis": {
            "gridcolor": "white",
            "linecolor": "white",
            "ticks": ""
           }
          },
          "scene": {
           "xaxis": {
            "backgroundcolor": "#E5ECF6",
            "gridcolor": "white",
            "gridwidth": 2,
            "linecolor": "white",
            "showbackground": true,
            "ticks": "",
            "zerolinecolor": "white"
           },
           "yaxis": {
            "backgroundcolor": "#E5ECF6",
            "gridcolor": "white",
            "gridwidth": 2,
            "linecolor": "white",
            "showbackground": true,
            "ticks": "",
            "zerolinecolor": "white"
           },
           "zaxis": {
            "backgroundcolor": "#E5ECF6",
            "gridcolor": "white",
            "gridwidth": 2,
            "linecolor": "white",
            "showbackground": true,
            "ticks": "",
            "zerolinecolor": "white"
           }
          },
          "shapedefaults": {
           "line": {
            "color": "#2a3f5f"
           }
          },
          "ternary": {
           "aaxis": {
            "gridcolor": "white",
            "linecolor": "white",
            "ticks": ""
           },
           "baxis": {
            "gridcolor": "white",
            "linecolor": "white",
            "ticks": ""
           },
           "bgcolor": "#E5ECF6",
           "caxis": {
            "gridcolor": "white",
            "linecolor": "white",
            "ticks": ""
           }
          },
          "title": {
           "x": 0.05
          },
          "xaxis": {
           "automargin": true,
           "gridcolor": "white",
           "linecolor": "white",
           "ticks": "",
           "title": {
            "standoff": 15
           },
           "zerolinecolor": "white",
           "zerolinewidth": 2
          },
          "yaxis": {
           "automargin": true,
           "gridcolor": "white",
           "linecolor": "white",
           "ticks": "",
           "title": {
            "standoff": 15
           },
           "zerolinecolor": "white",
           "zerolinewidth": 2
          }
         }
        },
        "width": 650,
        "xaxis": {
         "color": "black",
         "linecolor": "black",
         "linewidth": 1.5,
         "mirror": "allticks",
         "showgrid": false,
         "showline": true,
         "ticklen": 10,
         "ticks": "inside",
         "tickwidth": 1.5,
         "title": {
          "text": "recommender error (kcal/mol)"
         },
         "zeroline": false
        },
        "yaxis": {
         "color": "black",
         "linecolor": "black",
         "linewidth": 1.5,
         "mirror": "allticks",
         "range": [
          0,
          100
         ],
         "showgrid": false,
         "showline": true,
         "ticklen": 10,
         "ticks": "inside",
         "tickwidth": 1.5,
         "title": {
          "text": "percentage"
         },
         "zeroline": false
        }
       }
      },
      "text/html": [
       "<div>                            <div id=\"3d9ed3cc-5ac3-4b58-a4b3-b34ca2c66aec\" class=\"plotly-graph-div\" style=\"height:500px; width:650px;\"></div>            <script type=\"text/javascript\">                require([\"plotly\"], function(Plotly) {                    window.PLOTLYENV=window.PLOTLYENV || {};                                    if (document.getElementById(\"3d9ed3cc-5ac3-4b58-a4b3-b34ca2c66aec\")) {                    Plotly.newPlot(                        \"3d9ed3cc-5ac3-4b58-a4b3-b34ca2c66aec\",                        [{\"marker\":{\"color\":\"rgba(0, 0, 0, 0.5)\"},\"name\":\"all\",\"showlegend\":false,\"x\":[\"< 1\",\"< 3\",\"< 5\",\"< 10\"],\"y\":[19.7,59.2,81.6,97.4],\"type\":\"bar\"},{\"line\":{\"dash\":\"dash\"},\"marker\":{\"color\":\"rgba(255, 0, 0, 0.5)\",\"size\":12},\"mode\":\"lines+markers\",\"x\":[\"< 1\",\"< 3\",\"< 5\",\"< 10\"],\"y\":[34.9,77.0,88.8,100],\"type\":\"scatter\"}],                        {\"boxmode\":\"group\",\"font\":{\"color\":\"black\",\"family\":\"Helvetica\",\"size\":24},\"height\":500,\"legend\":{\"bgcolor\":\"rgba(0,0,0,0)\",\"orientation\":\"v\",\"x\":1,\"y\":1},\"margin\":{\"b\":100,\"l\":100,\"r\":10,\"t\":10},\"paper_bgcolor\":\"rgba(255,255,255,100)\",\"plot_bgcolor\":\"white\",\"showlegend\":false,\"template\":{\"data\":{\"barpolar\":[{\"marker\":{\"line\":{\"color\":\"#E5ECF6\",\"width\":0.5},\"pattern\":{\"fillmode\":\"overlay\",\"size\":10,\"solidity\":0.2}},\"type\":\"barpolar\"}],\"bar\":[{\"error_x\":{\"color\":\"#2a3f5f\"},\"error_y\":{\"color\":\"#2a3f5f\"},\"marker\":{\"line\":{\"color\":\"#E5ECF6\",\"width\":0.5},\"pattern\":{\"fillmode\":\"overlay\",\"size\":10,\"solidity\":0.2}},\"type\":\"bar\"}],\"carpet\":[{\"aaxis\":{\"endlinecolor\":\"#2a3f5f\",\"gridcolor\":\"white\",\"linecolor\":\"white\",\"minorgridcolor\":\"white\",\"startlinecolor\":\"#2a3f5f\"},\"baxis\":{\"endlinecolor\":\"#2a3f5f\",\"gridcolor\":\"white\",\"linecolor\":\"white\",\"minorgridcolor\":\"white\",\"startlinecolor\":\"#2a3f5f\"},\"type\":\"carpet\"}],\"choropleth\":[{\"colorbar\":{\"outlinewidth\":0,\"ticks\":\"\"},\"type\":\"choropleth\"}],\"contourcarpet\":[{\"colorbar\":{\"outlinewidth\":0,\"ticks\":\"\"},\"type\":\"contourcarpet\"}],\"contour\":[{\"colorbar\":{\"outlinewidth\":0,\"ticks\":\"\"},\"colorscale\":[[0.0,\"#0d0887\"],[0.1111111111111111,\"#46039f\"],[0.2222222222222222,\"#7201a8\"],[0.3333333333333333,\"#9c179e\"],[0.4444444444444444,\"#bd3786\"],[0.5555555555555556,\"#d8576b\"],[0.6666666666666666,\"#ed7953\"],[0.7777777777777778,\"#fb9f3a\"],[0.8888888888888888,\"#fdca26\"],[1.0,\"#f0f921\"]],\"type\":\"contour\"}],\"heatmapgl\":[{\"colorbar\":{\"outlinewidth\":0,\"ticks\":\"\"},\"colorscale\":[[0.0,\"#0d0887\"],[0.1111111111111111,\"#46039f\"],[0.2222222222222222,\"#7201a8\"],[0.3333333333333333,\"#9c179e\"],[0.4444444444444444,\"#bd3786\"],[0.5555555555555556,\"#d8576b\"],[0.6666666666666666,\"#ed7953\"],[0.7777777777777778,\"#fb9f3a\"],[0.8888888888888888,\"#fdca26\"],[1.0,\"#f0f921\"]],\"type\":\"heatmapgl\"}],\"heatmap\":[{\"colorbar\":{\"outlinewidth\":0,\"ticks\":\"\"},\"colorscale\":[[0.0,\"#0d0887\"],[0.1111111111111111,\"#46039f\"],[0.2222222222222222,\"#7201a8\"],[0.3333333333333333,\"#9c179e\"],[0.4444444444444444,\"#bd3786\"],[0.5555555555555556,\"#d8576b\"],[0.6666666666666666,\"#ed7953\"],[0.7777777777777778,\"#fb9f3a\"],[0.8888888888888888,\"#fdca26\"],[1.0,\"#f0f921\"]],\"type\":\"heatmap\"}],\"histogram2dcontour\":[{\"colorbar\":{\"outlinewidth\":0,\"ticks\":\"\"},\"colorscale\":[[0.0,\"#0d0887\"],[0.1111111111111111,\"#46039f\"],[0.2222222222222222,\"#7201a8\"],[0.3333333333333333,\"#9c179e\"],[0.4444444444444444,\"#bd3786\"],[0.5555555555555556,\"#d8576b\"],[0.6666666666666666,\"#ed7953\"],[0.7777777777777778,\"#fb9f3a\"],[0.8888888888888888,\"#fdca26\"],[1.0,\"#f0f921\"]],\"type\":\"histogram2dcontour\"}],\"histogram2d\":[{\"colorbar\":{\"outlinewidth\":0,\"ticks\":\"\"},\"colorscale\":[[0.0,\"#0d0887\"],[0.1111111111111111,\"#46039f\"],[0.2222222222222222,\"#7201a8\"],[0.3333333333333333,\"#9c179e\"],[0.4444444444444444,\"#bd3786\"],[0.5555555555555556,\"#d8576b\"],[0.6666666666666666,\"#ed7953\"],[0.7777777777777778,\"#fb9f3a\"],[0.8888888888888888,\"#fdca26\"],[1.0,\"#f0f921\"]],\"type\":\"histogram2d\"}],\"histogram\":[{\"marker\":{\"pattern\":{\"fillmode\":\"overlay\",\"size\":10,\"solidity\":0.2}},\"type\":\"histogram\"}],\"mesh3d\":[{\"colorbar\":{\"outlinewidth\":0,\"ticks\":\"\"},\"type\":\"mesh3d\"}],\"parcoords\":[{\"line\":{\"colorbar\":{\"outlinewidth\":0,\"ticks\":\"\"}},\"type\":\"parcoords\"}],\"pie\":[{\"automargin\":true,\"type\":\"pie\"}],\"scatter3d\":[{\"line\":{\"colorbar\":{\"outlinewidth\":0,\"ticks\":\"\"}},\"marker\":{\"colorbar\":{\"outlinewidth\":0,\"ticks\":\"\"}},\"type\":\"scatter3d\"}],\"scattercarpet\":[{\"marker\":{\"colorbar\":{\"outlinewidth\":0,\"ticks\":\"\"}},\"type\":\"scattercarpet\"}],\"scattergeo\":[{\"marker\":{\"colorbar\":{\"outlinewidth\":0,\"ticks\":\"\"}},\"type\":\"scattergeo\"}],\"scattergl\":[{\"marker\":{\"colorbar\":{\"outlinewidth\":0,\"ticks\":\"\"}},\"type\":\"scattergl\"}],\"scattermapbox\":[{\"marker\":{\"colorbar\":{\"outlinewidth\":0,\"ticks\":\"\"}},\"type\":\"scattermapbox\"}],\"scatterpolargl\":[{\"marker\":{\"colorbar\":{\"outlinewidth\":0,\"ticks\":\"\"}},\"type\":\"scatterpolargl\"}],\"scatterpolar\":[{\"marker\":{\"colorbar\":{\"outlinewidth\":0,\"ticks\":\"\"}},\"type\":\"scatterpolar\"}],\"scatter\":[{\"marker\":{\"colorbar\":{\"outlinewidth\":0,\"ticks\":\"\"}},\"type\":\"scatter\"}],\"scatterternary\":[{\"marker\":{\"colorbar\":{\"outlinewidth\":0,\"ticks\":\"\"}},\"type\":\"scatterternary\"}],\"surface\":[{\"colorbar\":{\"outlinewidth\":0,\"ticks\":\"\"},\"colorscale\":[[0.0,\"#0d0887\"],[0.1111111111111111,\"#46039f\"],[0.2222222222222222,\"#7201a8\"],[0.3333333333333333,\"#9c179e\"],[0.4444444444444444,\"#bd3786\"],[0.5555555555555556,\"#d8576b\"],[0.6666666666666666,\"#ed7953\"],[0.7777777777777778,\"#fb9f3a\"],[0.8888888888888888,\"#fdca26\"],[1.0,\"#f0f921\"]],\"type\":\"surface\"}],\"table\":[{\"cells\":{\"fill\":{\"color\":\"#EBF0F8\"},\"line\":{\"color\":\"white\"}},\"header\":{\"fill\":{\"color\":\"#C8D4E3\"},\"line\":{\"color\":\"white\"}},\"type\":\"table\"}]},\"layout\":{\"annotationdefaults\":{\"arrowcolor\":\"#2a3f5f\",\"arrowhead\":0,\"arrowwidth\":1},\"autotypenumbers\":\"strict\",\"coloraxis\":{\"colorbar\":{\"outlinewidth\":0,\"ticks\":\"\"}},\"colorscale\":{\"diverging\":[[0,\"#8e0152\"],[0.1,\"#c51b7d\"],[0.2,\"#de77ae\"],[0.3,\"#f1b6da\"],[0.4,\"#fde0ef\"],[0.5,\"#f7f7f7\"],[0.6,\"#e6f5d0\"],[0.7,\"#b8e186\"],[0.8,\"#7fbc41\"],[0.9,\"#4d9221\"],[1,\"#276419\"]],\"sequential\":[[0.0,\"#0d0887\"],[0.1111111111111111,\"#46039f\"],[0.2222222222222222,\"#7201a8\"],[0.3333333333333333,\"#9c179e\"],[0.4444444444444444,\"#bd3786\"],[0.5555555555555556,\"#d8576b\"],[0.6666666666666666,\"#ed7953\"],[0.7777777777777778,\"#fb9f3a\"],[0.8888888888888888,\"#fdca26\"],[1.0,\"#f0f921\"]],\"sequentialminus\":[[0.0,\"#0d0887\"],[0.1111111111111111,\"#46039f\"],[0.2222222222222222,\"#7201a8\"],[0.3333333333333333,\"#9c179e\"],[0.4444444444444444,\"#bd3786\"],[0.5555555555555556,\"#d8576b\"],[0.6666666666666666,\"#ed7953\"],[0.7777777777777778,\"#fb9f3a\"],[0.8888888888888888,\"#fdca26\"],[1.0,\"#f0f921\"]]},\"colorway\":[\"#636efa\",\"#EF553B\",\"#00cc96\",\"#ab63fa\",\"#FFA15A\",\"#19d3f3\",\"#FF6692\",\"#B6E880\",\"#FF97FF\",\"#FECB52\"],\"font\":{\"color\":\"#2a3f5f\"},\"geo\":{\"bgcolor\":\"white\",\"lakecolor\":\"white\",\"landcolor\":\"#E5ECF6\",\"showlakes\":true,\"showland\":true,\"subunitcolor\":\"white\"},\"hoverlabel\":{\"align\":\"left\"},\"hovermode\":\"closest\",\"mapbox\":{\"style\":\"light\"},\"paper_bgcolor\":\"white\",\"plot_bgcolor\":\"#E5ECF6\",\"polar\":{\"angularaxis\":{\"gridcolor\":\"white\",\"linecolor\":\"white\",\"ticks\":\"\"},\"bgcolor\":\"#E5ECF6\",\"radialaxis\":{\"gridcolor\":\"white\",\"linecolor\":\"white\",\"ticks\":\"\"}},\"scene\":{\"xaxis\":{\"backgroundcolor\":\"#E5ECF6\",\"gridcolor\":\"white\",\"gridwidth\":2,\"linecolor\":\"white\",\"showbackground\":true,\"ticks\":\"\",\"zerolinecolor\":\"white\"},\"yaxis\":{\"backgroundcolor\":\"#E5ECF6\",\"gridcolor\":\"white\",\"gridwidth\":2,\"linecolor\":\"white\",\"showbackground\":true,\"ticks\":\"\",\"zerolinecolor\":\"white\"},\"zaxis\":{\"backgroundcolor\":\"#E5ECF6\",\"gridcolor\":\"white\",\"gridwidth\":2,\"linecolor\":\"white\",\"showbackground\":true,\"ticks\":\"\",\"zerolinecolor\":\"white\"}},\"shapedefaults\":{\"line\":{\"color\":\"#2a3f5f\"}},\"ternary\":{\"aaxis\":{\"gridcolor\":\"white\",\"linecolor\":\"white\",\"ticks\":\"\"},\"baxis\":{\"gridcolor\":\"white\",\"linecolor\":\"white\",\"ticks\":\"\"},\"bgcolor\":\"#E5ECF6\",\"caxis\":{\"gridcolor\":\"white\",\"linecolor\":\"white\",\"ticks\":\"\"}},\"title\":{\"x\":0.05},\"xaxis\":{\"automargin\":true,\"gridcolor\":\"white\",\"linecolor\":\"white\",\"ticks\":\"\",\"title\":{\"standoff\":15},\"zerolinecolor\":\"white\",\"zerolinewidth\":2},\"yaxis\":{\"automargin\":true,\"gridcolor\":\"white\",\"linecolor\":\"white\",\"ticks\":\"\",\"title\":{\"standoff\":15},\"zerolinecolor\":\"white\",\"zerolinewidth\":2}}},\"width\":650,\"xaxis\":{\"color\":\"black\",\"linecolor\":\"black\",\"linewidth\":1.5,\"mirror\":\"allticks\",\"showgrid\":false,\"showline\":true,\"ticklen\":10,\"ticks\":\"inside\",\"tickwidth\":1.5,\"title\":{\"text\":\"recommender error (kcal/mol)\"},\"zeroline\":false},\"yaxis\":{\"color\":\"black\",\"linecolor\":\"black\",\"linewidth\":1.5,\"mirror\":\"allticks\",\"range\":[0,100],\"showgrid\":false,\"showline\":true,\"ticklen\":10,\"ticks\":\"inside\",\"tickwidth\":1.5,\"title\":{\"text\":\"percentage\"},\"zeroline\":false}},                        {\"responsive\": true}                    ).then(function(){\n",
       "                            \n",
       "var gd = document.getElementById('3d9ed3cc-5ac3-4b58-a4b3-b34ca2c66aec');\n",
       "var x = new MutationObserver(function (mutations, observer) {{\n",
       "        var display = window.getComputedStyle(gd).display;\n",
       "        if (!display || display === 'none') {{\n",
       "            console.log([gd, 'removed!']);\n",
       "            Plotly.purge(gd);\n",
       "            observer.disconnect();\n",
       "        }}\n",
       "}});\n",
       "\n",
       "// Listen for the removal of the full notebook cells\n",
       "var notebookContainer = gd.closest('#notebook-container');\n",
       "if (notebookContainer) {{\n",
       "    x.observe(notebookContainer, {childList: true});\n",
       "}}\n",
       "\n",
       "// Listen for the clearing of the current output cell\n",
       "var outputEl = gd.closest('.output');\n",
       "if (outputEl) {{\n",
       "    x.observe(outputEl, {childList: true});\n",
       "}}\n",
       "\n",
       "                        })                };                });            </script>        </div>"
      ]
     },
     "metadata": {},
     "output_type": "display_data"
    }
   ],
   "source": [
    "data = [go.Bar(x=errors,\n",
    "               y=p_csd, name='all', marker_color='rgba(0, 0, 0, 0.5)', showlegend=False\n",
    "               ),\n",
    "        go.Scatter(x=errors,\n",
    "                y=p_vss,\n",
    "                mode='lines+markers',\n",
    "                marker=dict(color=\"rgba(255, 0, 0, 0.5)\", size=12),\n",
    "                line=dict(dash=\"dash\")\n",
    "                )\n",
    "        ]\n",
    "layout = go.Layout()\n",
    "layout.update(glob_layout)\n",
    "layout.legend.update(x=1, y=1, bgcolor=\"rgba(0,0,0,0)\")\n",
    "layout[\"xaxis\"].update({'title': \"recommender error (kcal/mol)\"})\n",
    "layout[\"yaxis\"].update({'title': \"percentage\", \"range\": [0, 100]})\n",
    "layout.update(width=650, height=500, boxmode='group', showlegend=False)\n",
    "fig = go.Figure(data=data, layout=layout,)\n",
    "iplot(fig)\n",
    "# fig.write_image(\"/Users/chenruduan/Dropbox (MIT)/CD-DFARecFull/Figures/F4/ErrBar.pdf\")"
   ]
  },
  {
   "cell_type": "markdown",
   "metadata": {},
   "source": [
    "##### DFA ranks"
   ]
  },
  {
   "cell_type": "code",
   "execution_count": 18,
   "metadata": {},
   "outputs": [
    {
     "data": {
      "application/vnd.plotly.v1+json": {
       "config": {
        "linkText": "Export to plot.ly",
        "plotlyServerURL": "https://plot.ly",
        "showLink": false
       },
       "data": [
        {
         "marker": {
          "color": "rgba(0, 0, 0, 0.5)"
         },
         "name": "all",
         "showlegend": false,
         "type": "bar",
         "x": [
          0,
          1,
          2,
          3,
          4,
          5,
          6,
          7,
          8,
          9,
          10,
          11,
          12,
          13,
          14,
          15,
          16,
          17,
          18,
          19,
          20,
          21,
          22,
          23,
          24,
          25,
          26,
          27,
          28,
          29,
          30,
          31,
          32,
          33,
          34,
          35,
          36,
          37,
          38,
          39,
          40,
          41,
          42,
          43,
          44,
          45,
          46,
          47
         ],
         "y": [
          15.789473684210526,
          11.842105263157896,
          7.894736842105263,
          7.894736842105263,
          10.526315789473685,
          7.894736842105263,
          9.210526315789474,
          2.6315789473684212,
          5.2631578947368425,
          6.578947368421052,
          1.3157894736842106,
          0,
          1.3157894736842106,
          1.3157894736842106,
          0,
          2.6315789473684212,
          2.6315789473684212,
          3.9473684210526314,
          0,
          0,
          0,
          0,
          0,
          1.3157894736842106,
          0,
          0,
          0,
          0,
          0,
          0,
          0,
          0,
          0,
          0,
          0,
          0,
          0,
          0,
          0,
          0,
          0,
          0,
          0,
          0,
          0,
          0,
          0,
          0
         ]
        },
        {
         "line": {
          "color": "blue",
          "dash": "solid",
          "width": 2
         },
         "mode": "lines",
         "showlegend": false,
         "type": "scatter",
         "x": [
          0,
          0
         ],
         "y": [
          0,
          15.789473684210526
         ],
         "yaxis": "y2"
        },
        {
         "line": {
          "color": "blue",
          "dash": "solid",
          "width": 2
         },
         "mode": "lines",
         "showlegend": false,
         "type": "scatter",
         "x": [
          0,
          1
         ],
         "y": [
          15.789473684210526,
          15.789473684210526
         ],
         "yaxis": "y2"
        },
        {
         "line": {
          "color": "blue",
          "dash": "solid",
          "width": 2
         },
         "mode": "lines",
         "showlegend": false,
         "type": "scatter",
         "x": [
          1,
          1
         ],
         "y": [
          15.789473684210526,
          27.63157894736842
         ],
         "yaxis": "y2"
        },
        {
         "line": {
          "color": "blue",
          "dash": "solid",
          "width": 2
         },
         "mode": "lines",
         "showlegend": false,
         "type": "scatter",
         "x": [
          1,
          2
         ],
         "y": [
          27.63157894736842,
          27.63157894736842
         ],
         "yaxis": "y2"
        },
        {
         "line": {
          "color": "blue",
          "dash": "solid",
          "width": 2
         },
         "mode": "lines",
         "showlegend": false,
         "type": "scatter",
         "x": [
          2,
          2
         ],
         "y": [
          27.63157894736842,
          35.526315789473685
         ],
         "yaxis": "y2"
        },
        {
         "line": {
          "color": "blue",
          "dash": "solid",
          "width": 2
         },
         "mode": "lines",
         "showlegend": false,
         "type": "scatter",
         "x": [
          2,
          3
         ],
         "y": [
          35.526315789473685,
          35.526315789473685
         ],
         "yaxis": "y2"
        },
        {
         "line": {
          "color": "blue",
          "dash": "solid",
          "width": 2
         },
         "mode": "lines",
         "showlegend": false,
         "type": "scatter",
         "x": [
          3,
          3
         ],
         "y": [
          35.526315789473685,
          43.42105263157894
         ],
         "yaxis": "y2"
        },
        {
         "line": {
          "color": "blue",
          "dash": "solid",
          "width": 2
         },
         "mode": "lines",
         "showlegend": false,
         "type": "scatter",
         "x": [
          3,
          4
         ],
         "y": [
          43.42105263157894,
          43.42105263157894
         ],
         "yaxis": "y2"
        },
        {
         "line": {
          "color": "blue",
          "dash": "solid",
          "width": 2
         },
         "mode": "lines",
         "showlegend": false,
         "type": "scatter",
         "x": [
          4,
          4
         ],
         "y": [
          43.42105263157894,
          53.94736842105263
         ],
         "yaxis": "y2"
        },
        {
         "line": {
          "color": "blue",
          "dash": "solid",
          "width": 2
         },
         "mode": "lines",
         "showlegend": false,
         "type": "scatter",
         "x": [
          4,
          5
         ],
         "y": [
          53.94736842105263,
          53.94736842105263
         ],
         "yaxis": "y2"
        },
        {
         "line": {
          "color": "blue",
          "dash": "solid",
          "width": 2
         },
         "mode": "lines",
         "showlegend": false,
         "type": "scatter",
         "x": [
          5,
          5
         ],
         "y": [
          53.94736842105263,
          61.84210526315789
         ],
         "yaxis": "y2"
        },
        {
         "line": {
          "color": "blue",
          "dash": "solid",
          "width": 2
         },
         "mode": "lines",
         "showlegend": false,
         "type": "scatter",
         "x": [
          5,
          6
         ],
         "y": [
          61.84210526315789,
          61.84210526315789
         ],
         "yaxis": "y2"
        },
        {
         "line": {
          "color": "blue",
          "dash": "solid",
          "width": 2
         },
         "mode": "lines",
         "showlegend": false,
         "type": "scatter",
         "x": [
          6,
          6
         ],
         "y": [
          61.84210526315789,
          71.05263157894737
         ],
         "yaxis": "y2"
        },
        {
         "line": {
          "color": "blue",
          "dash": "solid",
          "width": 2
         },
         "mode": "lines",
         "showlegend": false,
         "type": "scatter",
         "x": [
          6,
          7
         ],
         "y": [
          71.05263157894737,
          71.05263157894737
         ],
         "yaxis": "y2"
        },
        {
         "line": {
          "color": "blue",
          "dash": "solid",
          "width": 2
         },
         "mode": "lines",
         "showlegend": false,
         "type": "scatter",
         "x": [
          7,
          7
         ],
         "y": [
          71.05263157894737,
          73.68421052631578
         ],
         "yaxis": "y2"
        },
        {
         "line": {
          "color": "blue",
          "dash": "solid",
          "width": 2
         },
         "mode": "lines",
         "showlegend": false,
         "type": "scatter",
         "x": [
          7,
          8
         ],
         "y": [
          73.68421052631578,
          73.68421052631578
         ],
         "yaxis": "y2"
        },
        {
         "line": {
          "color": "blue",
          "dash": "solid",
          "width": 2
         },
         "mode": "lines",
         "showlegend": false,
         "type": "scatter",
         "x": [
          8,
          8
         ],
         "y": [
          73.68421052631578,
          78.94736842105263
         ],
         "yaxis": "y2"
        },
        {
         "line": {
          "color": "blue",
          "dash": "solid",
          "width": 2
         },
         "mode": "lines",
         "showlegend": false,
         "type": "scatter",
         "x": [
          8,
          9
         ],
         "y": [
          78.94736842105263,
          78.94736842105263
         ],
         "yaxis": "y2"
        },
        {
         "line": {
          "color": "blue",
          "dash": "solid",
          "width": 2
         },
         "mode": "lines",
         "showlegend": false,
         "type": "scatter",
         "x": [
          9,
          9
         ],
         "y": [
          78.94736842105263,
          85.52631578947368
         ],
         "yaxis": "y2"
        },
        {
         "line": {
          "color": "blue",
          "dash": "solid",
          "width": 2
         },
         "mode": "lines",
         "showlegend": false,
         "type": "scatter",
         "x": [
          9,
          10
         ],
         "y": [
          85.52631578947368,
          85.52631578947368
         ],
         "yaxis": "y2"
        },
        {
         "line": {
          "color": "blue",
          "dash": "solid",
          "width": 2
         },
         "mode": "lines",
         "showlegend": false,
         "type": "scatter",
         "x": [
          10,
          10
         ],
         "y": [
          85.52631578947368,
          86.84210526315788
         ],
         "yaxis": "y2"
        },
        {
         "line": {
          "color": "blue",
          "dash": "solid",
          "width": 2
         },
         "mode": "lines",
         "showlegend": false,
         "type": "scatter",
         "x": [
          10,
          11
         ],
         "y": [
          86.84210526315788,
          86.84210526315788
         ],
         "yaxis": "y2"
        },
        {
         "line": {
          "color": "blue",
          "dash": "solid",
          "width": 2
         },
         "mode": "lines",
         "showlegend": false,
         "type": "scatter",
         "x": [
          11,
          11
         ],
         "y": [
          86.84210526315788,
          86.84210526315788
         ],
         "yaxis": "y2"
        },
        {
         "line": {
          "color": "blue",
          "dash": "solid",
          "width": 2
         },
         "mode": "lines",
         "showlegend": false,
         "type": "scatter",
         "x": [
          11,
          12
         ],
         "y": [
          86.84210526315788,
          86.84210526315788
         ],
         "yaxis": "y2"
        },
        {
         "line": {
          "color": "blue",
          "dash": "solid",
          "width": 2
         },
         "mode": "lines",
         "showlegend": false,
         "type": "scatter",
         "x": [
          12,
          12
         ],
         "y": [
          86.84210526315788,
          88.1578947368421
         ],
         "yaxis": "y2"
        },
        {
         "line": {
          "color": "blue",
          "dash": "solid",
          "width": 2
         },
         "mode": "lines",
         "showlegend": false,
         "type": "scatter",
         "x": [
          12,
          13
         ],
         "y": [
          88.1578947368421,
          88.1578947368421
         ],
         "yaxis": "y2"
        },
        {
         "line": {
          "color": "blue",
          "dash": "solid",
          "width": 2
         },
         "mode": "lines",
         "showlegend": false,
         "type": "scatter",
         "x": [
          13,
          13
         ],
         "y": [
          88.1578947368421,
          89.4736842105263
         ],
         "yaxis": "y2"
        },
        {
         "line": {
          "color": "blue",
          "dash": "solid",
          "width": 2
         },
         "mode": "lines",
         "showlegend": false,
         "type": "scatter",
         "x": [
          13,
          14
         ],
         "y": [
          89.4736842105263,
          89.4736842105263
         ],
         "yaxis": "y2"
        },
        {
         "line": {
          "color": "blue",
          "dash": "solid",
          "width": 2
         },
         "mode": "lines",
         "showlegend": false,
         "type": "scatter",
         "x": [
          14,
          14
         ],
         "y": [
          89.4736842105263,
          89.4736842105263
         ],
         "yaxis": "y2"
        },
        {
         "line": {
          "color": "blue",
          "dash": "solid",
          "width": 2
         },
         "mode": "lines",
         "showlegend": false,
         "type": "scatter",
         "x": [
          14,
          15
         ],
         "y": [
          89.4736842105263,
          89.4736842105263
         ],
         "yaxis": "y2"
        },
        {
         "line": {
          "color": "blue",
          "dash": "solid",
          "width": 2
         },
         "mode": "lines",
         "showlegend": false,
         "type": "scatter",
         "x": [
          15,
          15
         ],
         "y": [
          89.4736842105263,
          92.10526315789474
         ],
         "yaxis": "y2"
        },
        {
         "line": {
          "color": "blue",
          "dash": "solid",
          "width": 2
         },
         "mode": "lines",
         "showlegend": false,
         "type": "scatter",
         "x": [
          15,
          16
         ],
         "y": [
          92.10526315789474,
          92.10526315789474
         ],
         "yaxis": "y2"
        },
        {
         "line": {
          "color": "blue",
          "dash": "solid",
          "width": 2
         },
         "mode": "lines",
         "showlegend": false,
         "type": "scatter",
         "x": [
          16,
          16
         ],
         "y": [
          92.10526315789474,
          94.73684210526316
         ],
         "yaxis": "y2"
        },
        {
         "line": {
          "color": "blue",
          "dash": "solid",
          "width": 2
         },
         "mode": "lines",
         "showlegend": false,
         "type": "scatter",
         "x": [
          16,
          17
         ],
         "y": [
          94.73684210526316,
          94.73684210526316
         ],
         "yaxis": "y2"
        },
        {
         "line": {
          "color": "blue",
          "dash": "solid",
          "width": 2
         },
         "mode": "lines",
         "showlegend": false,
         "type": "scatter",
         "x": [
          17,
          17
         ],
         "y": [
          94.73684210526316,
          98.6842105263158
         ],
         "yaxis": "y2"
        },
        {
         "line": {
          "color": "blue",
          "dash": "solid",
          "width": 2
         },
         "mode": "lines",
         "showlegend": false,
         "type": "scatter",
         "x": [
          17,
          18
         ],
         "y": [
          98.6842105263158,
          98.6842105263158
         ],
         "yaxis": "y2"
        },
        {
         "line": {
          "color": "blue",
          "dash": "solid",
          "width": 2
         },
         "mode": "lines",
         "showlegend": false,
         "type": "scatter",
         "x": [
          18,
          18
         ],
         "y": [
          98.6842105263158,
          98.6842105263158
         ],
         "yaxis": "y2"
        },
        {
         "line": {
          "color": "blue",
          "dash": "solid",
          "width": 2
         },
         "mode": "lines",
         "showlegend": false,
         "type": "scatter",
         "x": [
          18,
          19
         ],
         "y": [
          98.6842105263158,
          98.6842105263158
         ],
         "yaxis": "y2"
        },
        {
         "line": {
          "color": "blue",
          "dash": "solid",
          "width": 2
         },
         "mode": "lines",
         "showlegend": false,
         "type": "scatter",
         "x": [
          19,
          19
         ],
         "y": [
          98.6842105263158,
          98.6842105263158
         ],
         "yaxis": "y2"
        },
        {
         "line": {
          "color": "blue",
          "dash": "solid",
          "width": 2
         },
         "mode": "lines",
         "showlegend": false,
         "type": "scatter",
         "x": [
          19,
          20
         ],
         "y": [
          98.6842105263158,
          98.6842105263158
         ],
         "yaxis": "y2"
        },
        {
         "line": {
          "color": "blue",
          "dash": "solid",
          "width": 2
         },
         "mode": "lines",
         "showlegend": false,
         "type": "scatter",
         "x": [
          20,
          20
         ],
         "y": [
          98.6842105263158,
          98.6842105263158
         ],
         "yaxis": "y2"
        },
        {
         "line": {
          "color": "blue",
          "dash": "solid",
          "width": 2
         },
         "mode": "lines",
         "showlegend": false,
         "type": "scatter",
         "x": [
          20,
          21
         ],
         "y": [
          98.6842105263158,
          98.6842105263158
         ],
         "yaxis": "y2"
        },
        {
         "line": {
          "color": "blue",
          "dash": "solid",
          "width": 2
         },
         "mode": "lines",
         "showlegend": false,
         "type": "scatter",
         "x": [
          21,
          21
         ],
         "y": [
          98.6842105263158,
          98.6842105263158
         ],
         "yaxis": "y2"
        },
        {
         "line": {
          "color": "blue",
          "dash": "solid",
          "width": 2
         },
         "mode": "lines",
         "showlegend": false,
         "type": "scatter",
         "x": [
          21,
          22
         ],
         "y": [
          98.6842105263158,
          98.6842105263158
         ],
         "yaxis": "y2"
        },
        {
         "line": {
          "color": "blue",
          "dash": "solid",
          "width": 2
         },
         "mode": "lines",
         "showlegend": false,
         "type": "scatter",
         "x": [
          22,
          22
         ],
         "y": [
          98.6842105263158,
          98.6842105263158
         ],
         "yaxis": "y2"
        },
        {
         "line": {
          "color": "blue",
          "dash": "solid",
          "width": 2
         },
         "mode": "lines",
         "showlegend": false,
         "type": "scatter",
         "x": [
          22,
          23
         ],
         "y": [
          98.6842105263158,
          98.6842105263158
         ],
         "yaxis": "y2"
        },
        {
         "line": {
          "color": "blue",
          "dash": "solid",
          "width": 2
         },
         "mode": "lines",
         "showlegend": false,
         "type": "scatter",
         "x": [
          23,
          23
         ],
         "y": [
          98.6842105263158,
          100
         ],
         "yaxis": "y2"
        },
        {
         "line": {
          "color": "blue",
          "dash": "solid",
          "width": 2
         },
         "mode": "lines",
         "showlegend": false,
         "type": "scatter",
         "x": [
          23,
          24
         ],
         "y": [
          100,
          100
         ],
         "yaxis": "y2"
        },
        {
         "line": {
          "color": "blue",
          "dash": "solid",
          "width": 2
         },
         "mode": "lines",
         "showlegend": false,
         "type": "scatter",
         "x": [
          24,
          24
         ],
         "y": [
          100,
          100
         ],
         "yaxis": "y2"
        },
        {
         "line": {
          "color": "blue",
          "dash": "solid",
          "width": 2
         },
         "mode": "lines",
         "showlegend": false,
         "type": "scatter",
         "x": [
          24,
          25
         ],
         "y": [
          100,
          100
         ],
         "yaxis": "y2"
        },
        {
         "line": {
          "color": "blue",
          "dash": "solid",
          "width": 2
         },
         "mode": "lines",
         "showlegend": false,
         "type": "scatter",
         "x": [
          25,
          25
         ],
         "y": [
          100,
          100
         ],
         "yaxis": "y2"
        },
        {
         "line": {
          "color": "blue",
          "dash": "solid",
          "width": 2
         },
         "mode": "lines",
         "showlegend": false,
         "type": "scatter",
         "x": [
          25,
          26
         ],
         "y": [
          100,
          100
         ],
         "yaxis": "y2"
        },
        {
         "line": {
          "color": "blue",
          "dash": "solid",
          "width": 2
         },
         "mode": "lines",
         "showlegend": false,
         "type": "scatter",
         "x": [
          26,
          26
         ],
         "y": [
          100,
          100
         ],
         "yaxis": "y2"
        },
        {
         "line": {
          "color": "blue",
          "dash": "solid",
          "width": 2
         },
         "mode": "lines",
         "showlegend": false,
         "type": "scatter",
         "x": [
          26,
          27
         ],
         "y": [
          100,
          100
         ],
         "yaxis": "y2"
        },
        {
         "line": {
          "color": "blue",
          "dash": "solid",
          "width": 2
         },
         "mode": "lines",
         "showlegend": false,
         "type": "scatter",
         "x": [
          27,
          27
         ],
         "y": [
          100,
          100
         ],
         "yaxis": "y2"
        },
        {
         "line": {
          "color": "blue",
          "dash": "solid",
          "width": 2
         },
         "mode": "lines",
         "showlegend": false,
         "type": "scatter",
         "x": [
          27,
          28
         ],
         "y": [
          100,
          100
         ],
         "yaxis": "y2"
        },
        {
         "line": {
          "color": "blue",
          "dash": "solid",
          "width": 2
         },
         "mode": "lines",
         "showlegend": false,
         "type": "scatter",
         "x": [
          28,
          28
         ],
         "y": [
          100,
          100
         ],
         "yaxis": "y2"
        },
        {
         "line": {
          "color": "blue",
          "dash": "solid",
          "width": 2
         },
         "mode": "lines",
         "showlegend": false,
         "type": "scatter",
         "x": [
          28,
          29
         ],
         "y": [
          100,
          100
         ],
         "yaxis": "y2"
        },
        {
         "line": {
          "color": "blue",
          "dash": "solid",
          "width": 2
         },
         "mode": "lines",
         "showlegend": false,
         "type": "scatter",
         "x": [
          29,
          29
         ],
         "y": [
          100,
          100
         ],
         "yaxis": "y2"
        },
        {
         "line": {
          "color": "blue",
          "dash": "solid",
          "width": 2
         },
         "mode": "lines",
         "showlegend": false,
         "type": "scatter",
         "x": [
          29,
          30
         ],
         "y": [
          100,
          100
         ],
         "yaxis": "y2"
        },
        {
         "line": {
          "color": "blue",
          "dash": "solid",
          "width": 2
         },
         "mode": "lines",
         "showlegend": false,
         "type": "scatter",
         "x": [
          30,
          30
         ],
         "y": [
          100,
          100
         ],
         "yaxis": "y2"
        },
        {
         "line": {
          "color": "blue",
          "dash": "solid",
          "width": 2
         },
         "mode": "lines",
         "showlegend": false,
         "type": "scatter",
         "x": [
          30,
          31
         ],
         "y": [
          100,
          100
         ],
         "yaxis": "y2"
        },
        {
         "line": {
          "color": "blue",
          "dash": "solid",
          "width": 2
         },
         "mode": "lines",
         "showlegend": false,
         "type": "scatter",
         "x": [
          31,
          31
         ],
         "y": [
          100,
          100
         ],
         "yaxis": "y2"
        },
        {
         "line": {
          "color": "blue",
          "dash": "solid",
          "width": 2
         },
         "mode": "lines",
         "showlegend": false,
         "type": "scatter",
         "x": [
          31,
          32
         ],
         "y": [
          100,
          100
         ],
         "yaxis": "y2"
        },
        {
         "line": {
          "color": "blue",
          "dash": "solid",
          "width": 2
         },
         "mode": "lines",
         "showlegend": false,
         "type": "scatter",
         "x": [
          32,
          32
         ],
         "y": [
          100,
          100
         ],
         "yaxis": "y2"
        },
        {
         "line": {
          "color": "blue",
          "dash": "solid",
          "width": 2
         },
         "mode": "lines",
         "showlegend": false,
         "type": "scatter",
         "x": [
          32,
          33
         ],
         "y": [
          100,
          100
         ],
         "yaxis": "y2"
        },
        {
         "line": {
          "color": "blue",
          "dash": "solid",
          "width": 2
         },
         "mode": "lines",
         "showlegend": false,
         "type": "scatter",
         "x": [
          33,
          33
         ],
         "y": [
          100,
          100
         ],
         "yaxis": "y2"
        },
        {
         "line": {
          "color": "blue",
          "dash": "solid",
          "width": 2
         },
         "mode": "lines",
         "showlegend": false,
         "type": "scatter",
         "x": [
          33,
          34
         ],
         "y": [
          100,
          100
         ],
         "yaxis": "y2"
        },
        {
         "line": {
          "color": "blue",
          "dash": "solid",
          "width": 2
         },
         "mode": "lines",
         "showlegend": false,
         "type": "scatter",
         "x": [
          34,
          34
         ],
         "y": [
          100,
          100
         ],
         "yaxis": "y2"
        },
        {
         "line": {
          "color": "blue",
          "dash": "solid",
          "width": 2
         },
         "mode": "lines",
         "showlegend": false,
         "type": "scatter",
         "x": [
          34,
          35
         ],
         "y": [
          100,
          100
         ],
         "yaxis": "y2"
        },
        {
         "line": {
          "color": "blue",
          "dash": "solid",
          "width": 2
         },
         "mode": "lines",
         "showlegend": false,
         "type": "scatter",
         "x": [
          35,
          35
         ],
         "y": [
          100,
          100
         ],
         "yaxis": "y2"
        },
        {
         "line": {
          "color": "blue",
          "dash": "solid",
          "width": 2
         },
         "mode": "lines",
         "showlegend": false,
         "type": "scatter",
         "x": [
          35,
          36
         ],
         "y": [
          100,
          100
         ],
         "yaxis": "y2"
        },
        {
         "line": {
          "color": "blue",
          "dash": "solid",
          "width": 2
         },
         "mode": "lines",
         "showlegend": false,
         "type": "scatter",
         "x": [
          36,
          36
         ],
         "y": [
          100,
          100
         ],
         "yaxis": "y2"
        },
        {
         "line": {
          "color": "blue",
          "dash": "solid",
          "width": 2
         },
         "mode": "lines",
         "showlegend": false,
         "type": "scatter",
         "x": [
          36,
          37
         ],
         "y": [
          100,
          100
         ],
         "yaxis": "y2"
        },
        {
         "line": {
          "color": "blue",
          "dash": "solid",
          "width": 2
         },
         "mode": "lines",
         "showlegend": false,
         "type": "scatter",
         "x": [
          37,
          37
         ],
         "y": [
          100,
          100
         ],
         "yaxis": "y2"
        },
        {
         "line": {
          "color": "blue",
          "dash": "solid",
          "width": 2
         },
         "mode": "lines",
         "showlegend": false,
         "type": "scatter",
         "x": [
          37,
          38
         ],
         "y": [
          100,
          100
         ],
         "yaxis": "y2"
        },
        {
         "line": {
          "color": "blue",
          "dash": "solid",
          "width": 2
         },
         "mode": "lines",
         "showlegend": false,
         "type": "scatter",
         "x": [
          38,
          38
         ],
         "y": [
          100,
          100
         ],
         "yaxis": "y2"
        },
        {
         "line": {
          "color": "blue",
          "dash": "solid",
          "width": 2
         },
         "mode": "lines",
         "showlegend": false,
         "type": "scatter",
         "x": [
          38,
          39
         ],
         "y": [
          100,
          100
         ],
         "yaxis": "y2"
        },
        {
         "line": {
          "color": "blue",
          "dash": "solid",
          "width": 2
         },
         "mode": "lines",
         "showlegend": false,
         "type": "scatter",
         "x": [
          39,
          39
         ],
         "y": [
          100,
          100
         ],
         "yaxis": "y2"
        },
        {
         "line": {
          "color": "blue",
          "dash": "solid",
          "width": 2
         },
         "mode": "lines",
         "showlegend": false,
         "type": "scatter",
         "x": [
          39,
          40
         ],
         "y": [
          100,
          100
         ],
         "yaxis": "y2"
        },
        {
         "line": {
          "color": "blue",
          "dash": "solid",
          "width": 2
         },
         "mode": "lines",
         "showlegend": false,
         "type": "scatter",
         "x": [
          40,
          40
         ],
         "y": [
          100,
          100
         ],
         "yaxis": "y2"
        },
        {
         "line": {
          "color": "blue",
          "dash": "solid",
          "width": 2
         },
         "mode": "lines",
         "showlegend": false,
         "type": "scatter",
         "x": [
          40,
          41
         ],
         "y": [
          100,
          100
         ],
         "yaxis": "y2"
        },
        {
         "line": {
          "color": "blue",
          "dash": "solid",
          "width": 2
         },
         "mode": "lines",
         "showlegend": false,
         "type": "scatter",
         "x": [
          41,
          41
         ],
         "y": [
          100,
          100
         ],
         "yaxis": "y2"
        },
        {
         "line": {
          "color": "blue",
          "dash": "solid",
          "width": 2
         },
         "mode": "lines",
         "showlegend": false,
         "type": "scatter",
         "x": [
          41,
          42
         ],
         "y": [
          100,
          100
         ],
         "yaxis": "y2"
        },
        {
         "line": {
          "color": "blue",
          "dash": "solid",
          "width": 2
         },
         "mode": "lines",
         "showlegend": false,
         "type": "scatter",
         "x": [
          42,
          42
         ],
         "y": [
          100,
          100
         ],
         "yaxis": "y2"
        },
        {
         "line": {
          "color": "blue",
          "dash": "solid",
          "width": 2
         },
         "mode": "lines",
         "showlegend": false,
         "type": "scatter",
         "x": [
          42,
          43
         ],
         "y": [
          100,
          100
         ],
         "yaxis": "y2"
        },
        {
         "line": {
          "color": "blue",
          "dash": "solid",
          "width": 2
         },
         "mode": "lines",
         "showlegend": false,
         "type": "scatter",
         "x": [
          43,
          43
         ],
         "y": [
          100,
          100
         ],
         "yaxis": "y2"
        },
        {
         "line": {
          "color": "blue",
          "dash": "solid",
          "width": 2
         },
         "mode": "lines",
         "showlegend": false,
         "type": "scatter",
         "x": [
          43,
          44
         ],
         "y": [
          100,
          100
         ],
         "yaxis": "y2"
        },
        {
         "line": {
          "color": "blue",
          "dash": "solid",
          "width": 2
         },
         "mode": "lines",
         "showlegend": false,
         "type": "scatter",
         "x": [
          44,
          44
         ],
         "y": [
          100,
          100
         ],
         "yaxis": "y2"
        },
        {
         "line": {
          "color": "blue",
          "dash": "solid",
          "width": 2
         },
         "mode": "lines",
         "showlegend": false,
         "type": "scatter",
         "x": [
          44,
          45
         ],
         "y": [
          100,
          100
         ],
         "yaxis": "y2"
        },
        {
         "line": {
          "color": "blue",
          "dash": "solid",
          "width": 2
         },
         "mode": "lines",
         "showlegend": false,
         "type": "scatter",
         "x": [
          45,
          45
         ],
         "y": [
          100,
          100
         ],
         "yaxis": "y2"
        },
        {
         "line": {
          "color": "blue",
          "dash": "solid",
          "width": 2
         },
         "mode": "lines",
         "showlegend": false,
         "type": "scatter",
         "x": [
          45,
          46
         ],
         "y": [
          100,
          100
         ],
         "yaxis": "y2"
        },
        {
         "line": {
          "color": "blue",
          "dash": "solid",
          "width": 2
         },
         "mode": "lines",
         "showlegend": false,
         "type": "scatter",
         "x": [
          46,
          46
         ],
         "y": [
          100,
          100
         ],
         "yaxis": "y2"
        },
        {
         "line": {
          "color": "blue",
          "dash": "solid",
          "width": 2
         },
         "mode": "lines",
         "showlegend": false,
         "type": "scatter",
         "x": [
          46,
          47
         ],
         "y": [
          100,
          100
         ],
         "yaxis": "y2"
        }
       ],
       "layout": {
        "boxmode": "group",
        "font": {
         "color": "black",
         "family": "Helvetica",
         "size": 24
        },
        "height": 500,
        "legend": {
         "bgcolor": "rgba(0,0,0,0)",
         "orientation": "v",
         "x": 1,
         "y": 1
        },
        "margin": {
         "b": 100,
         "l": 100,
         "r": 10,
         "t": 10
        },
        "paper_bgcolor": "rgba(255,255,255,100)",
        "plot_bgcolor": "white",
        "template": {
         "data": {
          "bar": [
           {
            "error_x": {
             "color": "#2a3f5f"
            },
            "error_y": {
             "color": "#2a3f5f"
            },
            "marker": {
             "line": {
              "color": "#E5ECF6",
              "width": 0.5
             },
             "pattern": {
              "fillmode": "overlay",
              "size": 10,
              "solidity": 0.2
             }
            },
            "type": "bar"
           }
          ],
          "barpolar": [
           {
            "marker": {
             "line": {
              "color": "#E5ECF6",
              "width": 0.5
             },
             "pattern": {
              "fillmode": "overlay",
              "size": 10,
              "solidity": 0.2
             }
            },
            "type": "barpolar"
           }
          ],
          "carpet": [
           {
            "aaxis": {
             "endlinecolor": "#2a3f5f",
             "gridcolor": "white",
             "linecolor": "white",
             "minorgridcolor": "white",
             "startlinecolor": "#2a3f5f"
            },
            "baxis": {
             "endlinecolor": "#2a3f5f",
             "gridcolor": "white",
             "linecolor": "white",
             "minorgridcolor": "white",
             "startlinecolor": "#2a3f5f"
            },
            "type": "carpet"
           }
          ],
          "choropleth": [
           {
            "colorbar": {
             "outlinewidth": 0,
             "ticks": ""
            },
            "type": "choropleth"
           }
          ],
          "contour": [
           {
            "colorbar": {
             "outlinewidth": 0,
             "ticks": ""
            },
            "colorscale": [
             [
              0,
              "#0d0887"
             ],
             [
              0.1111111111111111,
              "#46039f"
             ],
             [
              0.2222222222222222,
              "#7201a8"
             ],
             [
              0.3333333333333333,
              "#9c179e"
             ],
             [
              0.4444444444444444,
              "#bd3786"
             ],
             [
              0.5555555555555556,
              "#d8576b"
             ],
             [
              0.6666666666666666,
              "#ed7953"
             ],
             [
              0.7777777777777778,
              "#fb9f3a"
             ],
             [
              0.8888888888888888,
              "#fdca26"
             ],
             [
              1,
              "#f0f921"
             ]
            ],
            "type": "contour"
           }
          ],
          "contourcarpet": [
           {
            "colorbar": {
             "outlinewidth": 0,
             "ticks": ""
            },
            "type": "contourcarpet"
           }
          ],
          "heatmap": [
           {
            "colorbar": {
             "outlinewidth": 0,
             "ticks": ""
            },
            "colorscale": [
             [
              0,
              "#0d0887"
             ],
             [
              0.1111111111111111,
              "#46039f"
             ],
             [
              0.2222222222222222,
              "#7201a8"
             ],
             [
              0.3333333333333333,
              "#9c179e"
             ],
             [
              0.4444444444444444,
              "#bd3786"
             ],
             [
              0.5555555555555556,
              "#d8576b"
             ],
             [
              0.6666666666666666,
              "#ed7953"
             ],
             [
              0.7777777777777778,
              "#fb9f3a"
             ],
             [
              0.8888888888888888,
              "#fdca26"
             ],
             [
              1,
              "#f0f921"
             ]
            ],
            "type": "heatmap"
           }
          ],
          "heatmapgl": [
           {
            "colorbar": {
             "outlinewidth": 0,
             "ticks": ""
            },
            "colorscale": [
             [
              0,
              "#0d0887"
             ],
             [
              0.1111111111111111,
              "#46039f"
             ],
             [
              0.2222222222222222,
              "#7201a8"
             ],
             [
              0.3333333333333333,
              "#9c179e"
             ],
             [
              0.4444444444444444,
              "#bd3786"
             ],
             [
              0.5555555555555556,
              "#d8576b"
             ],
             [
              0.6666666666666666,
              "#ed7953"
             ],
             [
              0.7777777777777778,
              "#fb9f3a"
             ],
             [
              0.8888888888888888,
              "#fdca26"
             ],
             [
              1,
              "#f0f921"
             ]
            ],
            "type": "heatmapgl"
           }
          ],
          "histogram": [
           {
            "marker": {
             "pattern": {
              "fillmode": "overlay",
              "size": 10,
              "solidity": 0.2
             }
            },
            "type": "histogram"
           }
          ],
          "histogram2d": [
           {
            "colorbar": {
             "outlinewidth": 0,
             "ticks": ""
            },
            "colorscale": [
             [
              0,
              "#0d0887"
             ],
             [
              0.1111111111111111,
              "#46039f"
             ],
             [
              0.2222222222222222,
              "#7201a8"
             ],
             [
              0.3333333333333333,
              "#9c179e"
             ],
             [
              0.4444444444444444,
              "#bd3786"
             ],
             [
              0.5555555555555556,
              "#d8576b"
             ],
             [
              0.6666666666666666,
              "#ed7953"
             ],
             [
              0.7777777777777778,
              "#fb9f3a"
             ],
             [
              0.8888888888888888,
              "#fdca26"
             ],
             [
              1,
              "#f0f921"
             ]
            ],
            "type": "histogram2d"
           }
          ],
          "histogram2dcontour": [
           {
            "colorbar": {
             "outlinewidth": 0,
             "ticks": ""
            },
            "colorscale": [
             [
              0,
              "#0d0887"
             ],
             [
              0.1111111111111111,
              "#46039f"
             ],
             [
              0.2222222222222222,
              "#7201a8"
             ],
             [
              0.3333333333333333,
              "#9c179e"
             ],
             [
              0.4444444444444444,
              "#bd3786"
             ],
             [
              0.5555555555555556,
              "#d8576b"
             ],
             [
              0.6666666666666666,
              "#ed7953"
             ],
             [
              0.7777777777777778,
              "#fb9f3a"
             ],
             [
              0.8888888888888888,
              "#fdca26"
             ],
             [
              1,
              "#f0f921"
             ]
            ],
            "type": "histogram2dcontour"
           }
          ],
          "mesh3d": [
           {
            "colorbar": {
             "outlinewidth": 0,
             "ticks": ""
            },
            "type": "mesh3d"
           }
          ],
          "parcoords": [
           {
            "line": {
             "colorbar": {
              "outlinewidth": 0,
              "ticks": ""
             }
            },
            "type": "parcoords"
           }
          ],
          "pie": [
           {
            "automargin": true,
            "type": "pie"
           }
          ],
          "scatter": [
           {
            "marker": {
             "colorbar": {
              "outlinewidth": 0,
              "ticks": ""
             }
            },
            "type": "scatter"
           }
          ],
          "scatter3d": [
           {
            "line": {
             "colorbar": {
              "outlinewidth": 0,
              "ticks": ""
             }
            },
            "marker": {
             "colorbar": {
              "outlinewidth": 0,
              "ticks": ""
             }
            },
            "type": "scatter3d"
           }
          ],
          "scattercarpet": [
           {
            "marker": {
             "colorbar": {
              "outlinewidth": 0,
              "ticks": ""
             }
            },
            "type": "scattercarpet"
           }
          ],
          "scattergeo": [
           {
            "marker": {
             "colorbar": {
              "outlinewidth": 0,
              "ticks": ""
             }
            },
            "type": "scattergeo"
           }
          ],
          "scattergl": [
           {
            "marker": {
             "colorbar": {
              "outlinewidth": 0,
              "ticks": ""
             }
            },
            "type": "scattergl"
           }
          ],
          "scattermapbox": [
           {
            "marker": {
             "colorbar": {
              "outlinewidth": 0,
              "ticks": ""
             }
            },
            "type": "scattermapbox"
           }
          ],
          "scatterpolar": [
           {
            "marker": {
             "colorbar": {
              "outlinewidth": 0,
              "ticks": ""
             }
            },
            "type": "scatterpolar"
           }
          ],
          "scatterpolargl": [
           {
            "marker": {
             "colorbar": {
              "outlinewidth": 0,
              "ticks": ""
             }
            },
            "type": "scatterpolargl"
           }
          ],
          "scatterternary": [
           {
            "marker": {
             "colorbar": {
              "outlinewidth": 0,
              "ticks": ""
             }
            },
            "type": "scatterternary"
           }
          ],
          "surface": [
           {
            "colorbar": {
             "outlinewidth": 0,
             "ticks": ""
            },
            "colorscale": [
             [
              0,
              "#0d0887"
             ],
             [
              0.1111111111111111,
              "#46039f"
             ],
             [
              0.2222222222222222,
              "#7201a8"
             ],
             [
              0.3333333333333333,
              "#9c179e"
             ],
             [
              0.4444444444444444,
              "#bd3786"
             ],
             [
              0.5555555555555556,
              "#d8576b"
             ],
             [
              0.6666666666666666,
              "#ed7953"
             ],
             [
              0.7777777777777778,
              "#fb9f3a"
             ],
             [
              0.8888888888888888,
              "#fdca26"
             ],
             [
              1,
              "#f0f921"
             ]
            ],
            "type": "surface"
           }
          ],
          "table": [
           {
            "cells": {
             "fill": {
              "color": "#EBF0F8"
             },
             "line": {
              "color": "white"
             }
            },
            "header": {
             "fill": {
              "color": "#C8D4E3"
             },
             "line": {
              "color": "white"
             }
            },
            "type": "table"
           }
          ]
         },
         "layout": {
          "annotationdefaults": {
           "arrowcolor": "#2a3f5f",
           "arrowhead": 0,
           "arrowwidth": 1
          },
          "autotypenumbers": "strict",
          "coloraxis": {
           "colorbar": {
            "outlinewidth": 0,
            "ticks": ""
           }
          },
          "colorscale": {
           "diverging": [
            [
             0,
             "#8e0152"
            ],
            [
             0.1,
             "#c51b7d"
            ],
            [
             0.2,
             "#de77ae"
            ],
            [
             0.3,
             "#f1b6da"
            ],
            [
             0.4,
             "#fde0ef"
            ],
            [
             0.5,
             "#f7f7f7"
            ],
            [
             0.6,
             "#e6f5d0"
            ],
            [
             0.7,
             "#b8e186"
            ],
            [
             0.8,
             "#7fbc41"
            ],
            [
             0.9,
             "#4d9221"
            ],
            [
             1,
             "#276419"
            ]
           ],
           "sequential": [
            [
             0,
             "#0d0887"
            ],
            [
             0.1111111111111111,
             "#46039f"
            ],
            [
             0.2222222222222222,
             "#7201a8"
            ],
            [
             0.3333333333333333,
             "#9c179e"
            ],
            [
             0.4444444444444444,
             "#bd3786"
            ],
            [
             0.5555555555555556,
             "#d8576b"
            ],
            [
             0.6666666666666666,
             "#ed7953"
            ],
            [
             0.7777777777777778,
             "#fb9f3a"
            ],
            [
             0.8888888888888888,
             "#fdca26"
            ],
            [
             1,
             "#f0f921"
            ]
           ],
           "sequentialminus": [
            [
             0,
             "#0d0887"
            ],
            [
             0.1111111111111111,
             "#46039f"
            ],
            [
             0.2222222222222222,
             "#7201a8"
            ],
            [
             0.3333333333333333,
             "#9c179e"
            ],
            [
             0.4444444444444444,
             "#bd3786"
            ],
            [
             0.5555555555555556,
             "#d8576b"
            ],
            [
             0.6666666666666666,
             "#ed7953"
            ],
            [
             0.7777777777777778,
             "#fb9f3a"
            ],
            [
             0.8888888888888888,
             "#fdca26"
            ],
            [
             1,
             "#f0f921"
            ]
           ]
          },
          "colorway": [
           "#636efa",
           "#EF553B",
           "#00cc96",
           "#ab63fa",
           "#FFA15A",
           "#19d3f3",
           "#FF6692",
           "#B6E880",
           "#FF97FF",
           "#FECB52"
          ],
          "font": {
           "color": "#2a3f5f"
          },
          "geo": {
           "bgcolor": "white",
           "lakecolor": "white",
           "landcolor": "#E5ECF6",
           "showlakes": true,
           "showland": true,
           "subunitcolor": "white"
          },
          "hoverlabel": {
           "align": "left"
          },
          "hovermode": "closest",
          "mapbox": {
           "style": "light"
          },
          "paper_bgcolor": "white",
          "plot_bgcolor": "#E5ECF6",
          "polar": {
           "angularaxis": {
            "gridcolor": "white",
            "linecolor": "white",
            "ticks": ""
           },
           "bgcolor": "#E5ECF6",
           "radialaxis": {
            "gridcolor": "white",
            "linecolor": "white",
            "ticks": ""
           }
          },
          "scene": {
           "xaxis": {
            "backgroundcolor": "#E5ECF6",
            "gridcolor": "white",
            "gridwidth": 2,
            "linecolor": "white",
            "showbackground": true,
            "ticks": "",
            "zerolinecolor": "white"
           },
           "yaxis": {
            "backgroundcolor": "#E5ECF6",
            "gridcolor": "white",
            "gridwidth": 2,
            "linecolor": "white",
            "showbackground": true,
            "ticks": "",
            "zerolinecolor": "white"
           },
           "zaxis": {
            "backgroundcolor": "#E5ECF6",
            "gridcolor": "white",
            "gridwidth": 2,
            "linecolor": "white",
            "showbackground": true,
            "ticks": "",
            "zerolinecolor": "white"
           }
          },
          "shapedefaults": {
           "line": {
            "color": "#2a3f5f"
           }
          },
          "ternary": {
           "aaxis": {
            "gridcolor": "white",
            "linecolor": "white",
            "ticks": ""
           },
           "baxis": {
            "gridcolor": "white",
            "linecolor": "white",
            "ticks": ""
           },
           "bgcolor": "#E5ECF6",
           "caxis": {
            "gridcolor": "white",
            "linecolor": "white",
            "ticks": ""
           }
          },
          "title": {
           "x": 0.05
          },
          "xaxis": {
           "automargin": true,
           "gridcolor": "white",
           "linecolor": "white",
           "ticks": "",
           "title": {
            "standoff": 15
           },
           "zerolinecolor": "white",
           "zerolinewidth": 2
          },
          "yaxis": {
           "automargin": true,
           "gridcolor": "white",
           "linecolor": "white",
           "ticks": "",
           "title": {
            "standoff": 15
           },
           "zerolinecolor": "white",
           "zerolinewidth": 2
          }
         }
        },
        "width": 600,
        "xaxis": {
         "color": "black",
         "linecolor": "black",
         "linewidth": 1.5,
         "mirror": "allticks",
         "showgrid": false,
         "showline": true,
         "ticklen": 10,
         "ticks": "inside",
         "tickwidth": 1.5,
         "title": {
          "text": "DFA rank"
         },
         "zeroline": false
        },
        "yaxis": {
         "color": "black",
         "linecolor": "black",
         "linewidth": 1.5,
         "mirror": false,
         "showgrid": false,
         "showline": true,
         "ticklen": 10,
         "ticks": "inside",
         "tickwidth": 1.5,
         "title": {
          "text": "percentage"
         },
         "zeroline": false
        },
        "yaxis2": {
         "anchor": "free",
         "linewidth": 3,
         "overlaying": "y",
         "position": 1,
         "range": [
          0,
          100
         ],
         "showgrid": true,
         "showline": true,
         "side": "right",
         "tickfont": {
          "color": "black"
         },
         "ticklen": 10,
         "ticks": "inside",
         "tickwidth": 3,
         "title": {
          "font": {
           "color": "black"
          },
          "text": "cumulative percentage"
         },
         "zeroline": true
        }
       }
      },
      "text/html": [
       "<div>                            <div id=\"923f0c9e-3103-4203-bcc5-ef56c44ea218\" class=\"plotly-graph-div\" style=\"height:500px; width:600px;\"></div>            <script type=\"text/javascript\">                require([\"plotly\"], function(Plotly) {                    window.PLOTLYENV=window.PLOTLYENV || {};                                    if (document.getElementById(\"923f0c9e-3103-4203-bcc5-ef56c44ea218\")) {                    Plotly.newPlot(                        \"923f0c9e-3103-4203-bcc5-ef56c44ea218\",                        [{\"marker\":{\"color\":\"rgba(0, 0, 0, 0.5)\"},\"name\":\"all\",\"showlegend\":false,\"x\":[0,1,2,3,4,5,6,7,8,9,10,11,12,13,14,15,16,17,18,19,20,21,22,23,24,25,26,27,28,29,30,31,32,33,34,35,36,37,38,39,40,41,42,43,44,45,46,47],\"y\":[15.789473684210526,11.842105263157896,7.894736842105263,7.894736842105263,10.526315789473685,7.894736842105263,9.210526315789474,2.6315789473684212,5.2631578947368425,6.578947368421052,1.3157894736842106,0.0,1.3157894736842106,1.3157894736842106,0.0,2.6315789473684212,2.6315789473684212,3.9473684210526314,0.0,0.0,0.0,0.0,0.0,1.3157894736842106,0.0,0.0,0.0,0.0,0.0,0.0,0.0,0.0,0.0,0.0,0.0,0.0,0.0,0.0,0.0,0.0,0.0,0.0,0.0,0.0,0.0,0.0,0.0,0.0],\"type\":\"bar\"},{\"line\":{\"color\":\"blue\",\"dash\":\"solid\",\"width\":2},\"mode\":\"lines\",\"showlegend\":false,\"x\":[0,0],\"y\":[0.0,15.789473684210526],\"yaxis\":\"y2\",\"type\":\"scatter\"},{\"line\":{\"color\":\"blue\",\"dash\":\"solid\",\"width\":2},\"mode\":\"lines\",\"showlegend\":false,\"x\":[0,1],\"y\":[15.789473684210526,15.789473684210526],\"yaxis\":\"y2\",\"type\":\"scatter\"},{\"line\":{\"color\":\"blue\",\"dash\":\"solid\",\"width\":2},\"mode\":\"lines\",\"showlegend\":false,\"x\":[1,1],\"y\":[15.789473684210526,27.63157894736842],\"yaxis\":\"y2\",\"type\":\"scatter\"},{\"line\":{\"color\":\"blue\",\"dash\":\"solid\",\"width\":2},\"mode\":\"lines\",\"showlegend\":false,\"x\":[1,2],\"y\":[27.63157894736842,27.63157894736842],\"yaxis\":\"y2\",\"type\":\"scatter\"},{\"line\":{\"color\":\"blue\",\"dash\":\"solid\",\"width\":2},\"mode\":\"lines\",\"showlegend\":false,\"x\":[2,2],\"y\":[27.63157894736842,35.526315789473685],\"yaxis\":\"y2\",\"type\":\"scatter\"},{\"line\":{\"color\":\"blue\",\"dash\":\"solid\",\"width\":2},\"mode\":\"lines\",\"showlegend\":false,\"x\":[2,3],\"y\":[35.526315789473685,35.526315789473685],\"yaxis\":\"y2\",\"type\":\"scatter\"},{\"line\":{\"color\":\"blue\",\"dash\":\"solid\",\"width\":2},\"mode\":\"lines\",\"showlegend\":false,\"x\":[3,3],\"y\":[35.526315789473685,43.42105263157894],\"yaxis\":\"y2\",\"type\":\"scatter\"},{\"line\":{\"color\":\"blue\",\"dash\":\"solid\",\"width\":2},\"mode\":\"lines\",\"showlegend\":false,\"x\":[3,4],\"y\":[43.42105263157894,43.42105263157894],\"yaxis\":\"y2\",\"type\":\"scatter\"},{\"line\":{\"color\":\"blue\",\"dash\":\"solid\",\"width\":2},\"mode\":\"lines\",\"showlegend\":false,\"x\":[4,4],\"y\":[43.42105263157894,53.94736842105263],\"yaxis\":\"y2\",\"type\":\"scatter\"},{\"line\":{\"color\":\"blue\",\"dash\":\"solid\",\"width\":2},\"mode\":\"lines\",\"showlegend\":false,\"x\":[4,5],\"y\":[53.94736842105263,53.94736842105263],\"yaxis\":\"y2\",\"type\":\"scatter\"},{\"line\":{\"color\":\"blue\",\"dash\":\"solid\",\"width\":2},\"mode\":\"lines\",\"showlegend\":false,\"x\":[5,5],\"y\":[53.94736842105263,61.84210526315789],\"yaxis\":\"y2\",\"type\":\"scatter\"},{\"line\":{\"color\":\"blue\",\"dash\":\"solid\",\"width\":2},\"mode\":\"lines\",\"showlegend\":false,\"x\":[5,6],\"y\":[61.84210526315789,61.84210526315789],\"yaxis\":\"y2\",\"type\":\"scatter\"},{\"line\":{\"color\":\"blue\",\"dash\":\"solid\",\"width\":2},\"mode\":\"lines\",\"showlegend\":false,\"x\":[6,6],\"y\":[61.84210526315789,71.05263157894737],\"yaxis\":\"y2\",\"type\":\"scatter\"},{\"line\":{\"color\":\"blue\",\"dash\":\"solid\",\"width\":2},\"mode\":\"lines\",\"showlegend\":false,\"x\":[6,7],\"y\":[71.05263157894737,71.05263157894737],\"yaxis\":\"y2\",\"type\":\"scatter\"},{\"line\":{\"color\":\"blue\",\"dash\":\"solid\",\"width\":2},\"mode\":\"lines\",\"showlegend\":false,\"x\":[7,7],\"y\":[71.05263157894737,73.68421052631578],\"yaxis\":\"y2\",\"type\":\"scatter\"},{\"line\":{\"color\":\"blue\",\"dash\":\"solid\",\"width\":2},\"mode\":\"lines\",\"showlegend\":false,\"x\":[7,8],\"y\":[73.68421052631578,73.68421052631578],\"yaxis\":\"y2\",\"type\":\"scatter\"},{\"line\":{\"color\":\"blue\",\"dash\":\"solid\",\"width\":2},\"mode\":\"lines\",\"showlegend\":false,\"x\":[8,8],\"y\":[73.68421052631578,78.94736842105263],\"yaxis\":\"y2\",\"type\":\"scatter\"},{\"line\":{\"color\":\"blue\",\"dash\":\"solid\",\"width\":2},\"mode\":\"lines\",\"showlegend\":false,\"x\":[8,9],\"y\":[78.94736842105263,78.94736842105263],\"yaxis\":\"y2\",\"type\":\"scatter\"},{\"line\":{\"color\":\"blue\",\"dash\":\"solid\",\"width\":2},\"mode\":\"lines\",\"showlegend\":false,\"x\":[9,9],\"y\":[78.94736842105263,85.52631578947368],\"yaxis\":\"y2\",\"type\":\"scatter\"},{\"line\":{\"color\":\"blue\",\"dash\":\"solid\",\"width\":2},\"mode\":\"lines\",\"showlegend\":false,\"x\":[9,10],\"y\":[85.52631578947368,85.52631578947368],\"yaxis\":\"y2\",\"type\":\"scatter\"},{\"line\":{\"color\":\"blue\",\"dash\":\"solid\",\"width\":2},\"mode\":\"lines\",\"showlegend\":false,\"x\":[10,10],\"y\":[85.52631578947368,86.84210526315788],\"yaxis\":\"y2\",\"type\":\"scatter\"},{\"line\":{\"color\":\"blue\",\"dash\":\"solid\",\"width\":2},\"mode\":\"lines\",\"showlegend\":false,\"x\":[10,11],\"y\":[86.84210526315788,86.84210526315788],\"yaxis\":\"y2\",\"type\":\"scatter\"},{\"line\":{\"color\":\"blue\",\"dash\":\"solid\",\"width\":2},\"mode\":\"lines\",\"showlegend\":false,\"x\":[11,11],\"y\":[86.84210526315788,86.84210526315788],\"yaxis\":\"y2\",\"type\":\"scatter\"},{\"line\":{\"color\":\"blue\",\"dash\":\"solid\",\"width\":2},\"mode\":\"lines\",\"showlegend\":false,\"x\":[11,12],\"y\":[86.84210526315788,86.84210526315788],\"yaxis\":\"y2\",\"type\":\"scatter\"},{\"line\":{\"color\":\"blue\",\"dash\":\"solid\",\"width\":2},\"mode\":\"lines\",\"showlegend\":false,\"x\":[12,12],\"y\":[86.84210526315788,88.1578947368421],\"yaxis\":\"y2\",\"type\":\"scatter\"},{\"line\":{\"color\":\"blue\",\"dash\":\"solid\",\"width\":2},\"mode\":\"lines\",\"showlegend\":false,\"x\":[12,13],\"y\":[88.1578947368421,88.1578947368421],\"yaxis\":\"y2\",\"type\":\"scatter\"},{\"line\":{\"color\":\"blue\",\"dash\":\"solid\",\"width\":2},\"mode\":\"lines\",\"showlegend\":false,\"x\":[13,13],\"y\":[88.1578947368421,89.4736842105263],\"yaxis\":\"y2\",\"type\":\"scatter\"},{\"line\":{\"color\":\"blue\",\"dash\":\"solid\",\"width\":2},\"mode\":\"lines\",\"showlegend\":false,\"x\":[13,14],\"y\":[89.4736842105263,89.4736842105263],\"yaxis\":\"y2\",\"type\":\"scatter\"},{\"line\":{\"color\":\"blue\",\"dash\":\"solid\",\"width\":2},\"mode\":\"lines\",\"showlegend\":false,\"x\":[14,14],\"y\":[89.4736842105263,89.4736842105263],\"yaxis\":\"y2\",\"type\":\"scatter\"},{\"line\":{\"color\":\"blue\",\"dash\":\"solid\",\"width\":2},\"mode\":\"lines\",\"showlegend\":false,\"x\":[14,15],\"y\":[89.4736842105263,89.4736842105263],\"yaxis\":\"y2\",\"type\":\"scatter\"},{\"line\":{\"color\":\"blue\",\"dash\":\"solid\",\"width\":2},\"mode\":\"lines\",\"showlegend\":false,\"x\":[15,15],\"y\":[89.4736842105263,92.10526315789474],\"yaxis\":\"y2\",\"type\":\"scatter\"},{\"line\":{\"color\":\"blue\",\"dash\":\"solid\",\"width\":2},\"mode\":\"lines\",\"showlegend\":false,\"x\":[15,16],\"y\":[92.10526315789474,92.10526315789474],\"yaxis\":\"y2\",\"type\":\"scatter\"},{\"line\":{\"color\":\"blue\",\"dash\":\"solid\",\"width\":2},\"mode\":\"lines\",\"showlegend\":false,\"x\":[16,16],\"y\":[92.10526315789474,94.73684210526316],\"yaxis\":\"y2\",\"type\":\"scatter\"},{\"line\":{\"color\":\"blue\",\"dash\":\"solid\",\"width\":2},\"mode\":\"lines\",\"showlegend\":false,\"x\":[16,17],\"y\":[94.73684210526316,94.73684210526316],\"yaxis\":\"y2\",\"type\":\"scatter\"},{\"line\":{\"color\":\"blue\",\"dash\":\"solid\",\"width\":2},\"mode\":\"lines\",\"showlegend\":false,\"x\":[17,17],\"y\":[94.73684210526316,98.6842105263158],\"yaxis\":\"y2\",\"type\":\"scatter\"},{\"line\":{\"color\":\"blue\",\"dash\":\"solid\",\"width\":2},\"mode\":\"lines\",\"showlegend\":false,\"x\":[17,18],\"y\":[98.6842105263158,98.6842105263158],\"yaxis\":\"y2\",\"type\":\"scatter\"},{\"line\":{\"color\":\"blue\",\"dash\":\"solid\",\"width\":2},\"mode\":\"lines\",\"showlegend\":false,\"x\":[18,18],\"y\":[98.6842105263158,98.6842105263158],\"yaxis\":\"y2\",\"type\":\"scatter\"},{\"line\":{\"color\":\"blue\",\"dash\":\"solid\",\"width\":2},\"mode\":\"lines\",\"showlegend\":false,\"x\":[18,19],\"y\":[98.6842105263158,98.6842105263158],\"yaxis\":\"y2\",\"type\":\"scatter\"},{\"line\":{\"color\":\"blue\",\"dash\":\"solid\",\"width\":2},\"mode\":\"lines\",\"showlegend\":false,\"x\":[19,19],\"y\":[98.6842105263158,98.6842105263158],\"yaxis\":\"y2\",\"type\":\"scatter\"},{\"line\":{\"color\":\"blue\",\"dash\":\"solid\",\"width\":2},\"mode\":\"lines\",\"showlegend\":false,\"x\":[19,20],\"y\":[98.6842105263158,98.6842105263158],\"yaxis\":\"y2\",\"type\":\"scatter\"},{\"line\":{\"color\":\"blue\",\"dash\":\"solid\",\"width\":2},\"mode\":\"lines\",\"showlegend\":false,\"x\":[20,20],\"y\":[98.6842105263158,98.6842105263158],\"yaxis\":\"y2\",\"type\":\"scatter\"},{\"line\":{\"color\":\"blue\",\"dash\":\"solid\",\"width\":2},\"mode\":\"lines\",\"showlegend\":false,\"x\":[20,21],\"y\":[98.6842105263158,98.6842105263158],\"yaxis\":\"y2\",\"type\":\"scatter\"},{\"line\":{\"color\":\"blue\",\"dash\":\"solid\",\"width\":2},\"mode\":\"lines\",\"showlegend\":false,\"x\":[21,21],\"y\":[98.6842105263158,98.6842105263158],\"yaxis\":\"y2\",\"type\":\"scatter\"},{\"line\":{\"color\":\"blue\",\"dash\":\"solid\",\"width\":2},\"mode\":\"lines\",\"showlegend\":false,\"x\":[21,22],\"y\":[98.6842105263158,98.6842105263158],\"yaxis\":\"y2\",\"type\":\"scatter\"},{\"line\":{\"color\":\"blue\",\"dash\":\"solid\",\"width\":2},\"mode\":\"lines\",\"showlegend\":false,\"x\":[22,22],\"y\":[98.6842105263158,98.6842105263158],\"yaxis\":\"y2\",\"type\":\"scatter\"},{\"line\":{\"color\":\"blue\",\"dash\":\"solid\",\"width\":2},\"mode\":\"lines\",\"showlegend\":false,\"x\":[22,23],\"y\":[98.6842105263158,98.6842105263158],\"yaxis\":\"y2\",\"type\":\"scatter\"},{\"line\":{\"color\":\"blue\",\"dash\":\"solid\",\"width\":2},\"mode\":\"lines\",\"showlegend\":false,\"x\":[23,23],\"y\":[98.6842105263158,100.0],\"yaxis\":\"y2\",\"type\":\"scatter\"},{\"line\":{\"color\":\"blue\",\"dash\":\"solid\",\"width\":2},\"mode\":\"lines\",\"showlegend\":false,\"x\":[23,24],\"y\":[100.0,100.0],\"yaxis\":\"y2\",\"type\":\"scatter\"},{\"line\":{\"color\":\"blue\",\"dash\":\"solid\",\"width\":2},\"mode\":\"lines\",\"showlegend\":false,\"x\":[24,24],\"y\":[100.0,100.0],\"yaxis\":\"y2\",\"type\":\"scatter\"},{\"line\":{\"color\":\"blue\",\"dash\":\"solid\",\"width\":2},\"mode\":\"lines\",\"showlegend\":false,\"x\":[24,25],\"y\":[100.0,100.0],\"yaxis\":\"y2\",\"type\":\"scatter\"},{\"line\":{\"color\":\"blue\",\"dash\":\"solid\",\"width\":2},\"mode\":\"lines\",\"showlegend\":false,\"x\":[25,25],\"y\":[100.0,100.0],\"yaxis\":\"y2\",\"type\":\"scatter\"},{\"line\":{\"color\":\"blue\",\"dash\":\"solid\",\"width\":2},\"mode\":\"lines\",\"showlegend\":false,\"x\":[25,26],\"y\":[100.0,100.0],\"yaxis\":\"y2\",\"type\":\"scatter\"},{\"line\":{\"color\":\"blue\",\"dash\":\"solid\",\"width\":2},\"mode\":\"lines\",\"showlegend\":false,\"x\":[26,26],\"y\":[100.0,100.0],\"yaxis\":\"y2\",\"type\":\"scatter\"},{\"line\":{\"color\":\"blue\",\"dash\":\"solid\",\"width\":2},\"mode\":\"lines\",\"showlegend\":false,\"x\":[26,27],\"y\":[100.0,100.0],\"yaxis\":\"y2\",\"type\":\"scatter\"},{\"line\":{\"color\":\"blue\",\"dash\":\"solid\",\"width\":2},\"mode\":\"lines\",\"showlegend\":false,\"x\":[27,27],\"y\":[100.0,100.0],\"yaxis\":\"y2\",\"type\":\"scatter\"},{\"line\":{\"color\":\"blue\",\"dash\":\"solid\",\"width\":2},\"mode\":\"lines\",\"showlegend\":false,\"x\":[27,28],\"y\":[100.0,100.0],\"yaxis\":\"y2\",\"type\":\"scatter\"},{\"line\":{\"color\":\"blue\",\"dash\":\"solid\",\"width\":2},\"mode\":\"lines\",\"showlegend\":false,\"x\":[28,28],\"y\":[100.0,100.0],\"yaxis\":\"y2\",\"type\":\"scatter\"},{\"line\":{\"color\":\"blue\",\"dash\":\"solid\",\"width\":2},\"mode\":\"lines\",\"showlegend\":false,\"x\":[28,29],\"y\":[100.0,100.0],\"yaxis\":\"y2\",\"type\":\"scatter\"},{\"line\":{\"color\":\"blue\",\"dash\":\"solid\",\"width\":2},\"mode\":\"lines\",\"showlegend\":false,\"x\":[29,29],\"y\":[100.0,100.0],\"yaxis\":\"y2\",\"type\":\"scatter\"},{\"line\":{\"color\":\"blue\",\"dash\":\"solid\",\"width\":2},\"mode\":\"lines\",\"showlegend\":false,\"x\":[29,30],\"y\":[100.0,100.0],\"yaxis\":\"y2\",\"type\":\"scatter\"},{\"line\":{\"color\":\"blue\",\"dash\":\"solid\",\"width\":2},\"mode\":\"lines\",\"showlegend\":false,\"x\":[30,30],\"y\":[100.0,100.0],\"yaxis\":\"y2\",\"type\":\"scatter\"},{\"line\":{\"color\":\"blue\",\"dash\":\"solid\",\"width\":2},\"mode\":\"lines\",\"showlegend\":false,\"x\":[30,31],\"y\":[100.0,100.0],\"yaxis\":\"y2\",\"type\":\"scatter\"},{\"line\":{\"color\":\"blue\",\"dash\":\"solid\",\"width\":2},\"mode\":\"lines\",\"showlegend\":false,\"x\":[31,31],\"y\":[100.0,100.0],\"yaxis\":\"y2\",\"type\":\"scatter\"},{\"line\":{\"color\":\"blue\",\"dash\":\"solid\",\"width\":2},\"mode\":\"lines\",\"showlegend\":false,\"x\":[31,32],\"y\":[100.0,100.0],\"yaxis\":\"y2\",\"type\":\"scatter\"},{\"line\":{\"color\":\"blue\",\"dash\":\"solid\",\"width\":2},\"mode\":\"lines\",\"showlegend\":false,\"x\":[32,32],\"y\":[100.0,100.0],\"yaxis\":\"y2\",\"type\":\"scatter\"},{\"line\":{\"color\":\"blue\",\"dash\":\"solid\",\"width\":2},\"mode\":\"lines\",\"showlegend\":false,\"x\":[32,33],\"y\":[100.0,100.0],\"yaxis\":\"y2\",\"type\":\"scatter\"},{\"line\":{\"color\":\"blue\",\"dash\":\"solid\",\"width\":2},\"mode\":\"lines\",\"showlegend\":false,\"x\":[33,33],\"y\":[100.0,100.0],\"yaxis\":\"y2\",\"type\":\"scatter\"},{\"line\":{\"color\":\"blue\",\"dash\":\"solid\",\"width\":2},\"mode\":\"lines\",\"showlegend\":false,\"x\":[33,34],\"y\":[100.0,100.0],\"yaxis\":\"y2\",\"type\":\"scatter\"},{\"line\":{\"color\":\"blue\",\"dash\":\"solid\",\"width\":2},\"mode\":\"lines\",\"showlegend\":false,\"x\":[34,34],\"y\":[100.0,100.0],\"yaxis\":\"y2\",\"type\":\"scatter\"},{\"line\":{\"color\":\"blue\",\"dash\":\"solid\",\"width\":2},\"mode\":\"lines\",\"showlegend\":false,\"x\":[34,35],\"y\":[100.0,100.0],\"yaxis\":\"y2\",\"type\":\"scatter\"},{\"line\":{\"color\":\"blue\",\"dash\":\"solid\",\"width\":2},\"mode\":\"lines\",\"showlegend\":false,\"x\":[35,35],\"y\":[100.0,100.0],\"yaxis\":\"y2\",\"type\":\"scatter\"},{\"line\":{\"color\":\"blue\",\"dash\":\"solid\",\"width\":2},\"mode\":\"lines\",\"showlegend\":false,\"x\":[35,36],\"y\":[100.0,100.0],\"yaxis\":\"y2\",\"type\":\"scatter\"},{\"line\":{\"color\":\"blue\",\"dash\":\"solid\",\"width\":2},\"mode\":\"lines\",\"showlegend\":false,\"x\":[36,36],\"y\":[100.0,100.0],\"yaxis\":\"y2\",\"type\":\"scatter\"},{\"line\":{\"color\":\"blue\",\"dash\":\"solid\",\"width\":2},\"mode\":\"lines\",\"showlegend\":false,\"x\":[36,37],\"y\":[100.0,100.0],\"yaxis\":\"y2\",\"type\":\"scatter\"},{\"line\":{\"color\":\"blue\",\"dash\":\"solid\",\"width\":2},\"mode\":\"lines\",\"showlegend\":false,\"x\":[37,37],\"y\":[100.0,100.0],\"yaxis\":\"y2\",\"type\":\"scatter\"},{\"line\":{\"color\":\"blue\",\"dash\":\"solid\",\"width\":2},\"mode\":\"lines\",\"showlegend\":false,\"x\":[37,38],\"y\":[100.0,100.0],\"yaxis\":\"y2\",\"type\":\"scatter\"},{\"line\":{\"color\":\"blue\",\"dash\":\"solid\",\"width\":2},\"mode\":\"lines\",\"showlegend\":false,\"x\":[38,38],\"y\":[100.0,100.0],\"yaxis\":\"y2\",\"type\":\"scatter\"},{\"line\":{\"color\":\"blue\",\"dash\":\"solid\",\"width\":2},\"mode\":\"lines\",\"showlegend\":false,\"x\":[38,39],\"y\":[100.0,100.0],\"yaxis\":\"y2\",\"type\":\"scatter\"},{\"line\":{\"color\":\"blue\",\"dash\":\"solid\",\"width\":2},\"mode\":\"lines\",\"showlegend\":false,\"x\":[39,39],\"y\":[100.0,100.0],\"yaxis\":\"y2\",\"type\":\"scatter\"},{\"line\":{\"color\":\"blue\",\"dash\":\"solid\",\"width\":2},\"mode\":\"lines\",\"showlegend\":false,\"x\":[39,40],\"y\":[100.0,100.0],\"yaxis\":\"y2\",\"type\":\"scatter\"},{\"line\":{\"color\":\"blue\",\"dash\":\"solid\",\"width\":2},\"mode\":\"lines\",\"showlegend\":false,\"x\":[40,40],\"y\":[100.0,100.0],\"yaxis\":\"y2\",\"type\":\"scatter\"},{\"line\":{\"color\":\"blue\",\"dash\":\"solid\",\"width\":2},\"mode\":\"lines\",\"showlegend\":false,\"x\":[40,41],\"y\":[100.0,100.0],\"yaxis\":\"y2\",\"type\":\"scatter\"},{\"line\":{\"color\":\"blue\",\"dash\":\"solid\",\"width\":2},\"mode\":\"lines\",\"showlegend\":false,\"x\":[41,41],\"y\":[100.0,100.0],\"yaxis\":\"y2\",\"type\":\"scatter\"},{\"line\":{\"color\":\"blue\",\"dash\":\"solid\",\"width\":2},\"mode\":\"lines\",\"showlegend\":false,\"x\":[41,42],\"y\":[100.0,100.0],\"yaxis\":\"y2\",\"type\":\"scatter\"},{\"line\":{\"color\":\"blue\",\"dash\":\"solid\",\"width\":2},\"mode\":\"lines\",\"showlegend\":false,\"x\":[42,42],\"y\":[100.0,100.0],\"yaxis\":\"y2\",\"type\":\"scatter\"},{\"line\":{\"color\":\"blue\",\"dash\":\"solid\",\"width\":2},\"mode\":\"lines\",\"showlegend\":false,\"x\":[42,43],\"y\":[100.0,100.0],\"yaxis\":\"y2\",\"type\":\"scatter\"},{\"line\":{\"color\":\"blue\",\"dash\":\"solid\",\"width\":2},\"mode\":\"lines\",\"showlegend\":false,\"x\":[43,43],\"y\":[100.0,100.0],\"yaxis\":\"y2\",\"type\":\"scatter\"},{\"line\":{\"color\":\"blue\",\"dash\":\"solid\",\"width\":2},\"mode\":\"lines\",\"showlegend\":false,\"x\":[43,44],\"y\":[100.0,100.0],\"yaxis\":\"y2\",\"type\":\"scatter\"},{\"line\":{\"color\":\"blue\",\"dash\":\"solid\",\"width\":2},\"mode\":\"lines\",\"showlegend\":false,\"x\":[44,44],\"y\":[100.0,100.0],\"yaxis\":\"y2\",\"type\":\"scatter\"},{\"line\":{\"color\":\"blue\",\"dash\":\"solid\",\"width\":2},\"mode\":\"lines\",\"showlegend\":false,\"x\":[44,45],\"y\":[100.0,100.0],\"yaxis\":\"y2\",\"type\":\"scatter\"},{\"line\":{\"color\":\"blue\",\"dash\":\"solid\",\"width\":2},\"mode\":\"lines\",\"showlegend\":false,\"x\":[45,45],\"y\":[100.0,100.0],\"yaxis\":\"y2\",\"type\":\"scatter\"},{\"line\":{\"color\":\"blue\",\"dash\":\"solid\",\"width\":2},\"mode\":\"lines\",\"showlegend\":false,\"x\":[45,46],\"y\":[100.0,100.0],\"yaxis\":\"y2\",\"type\":\"scatter\"},{\"line\":{\"color\":\"blue\",\"dash\":\"solid\",\"width\":2},\"mode\":\"lines\",\"showlegend\":false,\"x\":[46,46],\"y\":[100.0,100.0],\"yaxis\":\"y2\",\"type\":\"scatter\"},{\"line\":{\"color\":\"blue\",\"dash\":\"solid\",\"width\":2},\"mode\":\"lines\",\"showlegend\":false,\"x\":[46,47],\"y\":[100.0,100.0],\"yaxis\":\"y2\",\"type\":\"scatter\"}],                        {\"boxmode\":\"group\",\"font\":{\"color\":\"black\",\"family\":\"Helvetica\",\"size\":24},\"height\":500,\"legend\":{\"bgcolor\":\"rgba(0,0,0,0)\",\"orientation\":\"v\",\"x\":1,\"y\":1},\"margin\":{\"b\":100,\"l\":100,\"r\":10,\"t\":10},\"paper_bgcolor\":\"rgba(255,255,255,100)\",\"plot_bgcolor\":\"white\",\"template\":{\"data\":{\"barpolar\":[{\"marker\":{\"line\":{\"color\":\"#E5ECF6\",\"width\":0.5},\"pattern\":{\"fillmode\":\"overlay\",\"size\":10,\"solidity\":0.2}},\"type\":\"barpolar\"}],\"bar\":[{\"error_x\":{\"color\":\"#2a3f5f\"},\"error_y\":{\"color\":\"#2a3f5f\"},\"marker\":{\"line\":{\"color\":\"#E5ECF6\",\"width\":0.5},\"pattern\":{\"fillmode\":\"overlay\",\"size\":10,\"solidity\":0.2}},\"type\":\"bar\"}],\"carpet\":[{\"aaxis\":{\"endlinecolor\":\"#2a3f5f\",\"gridcolor\":\"white\",\"linecolor\":\"white\",\"minorgridcolor\":\"white\",\"startlinecolor\":\"#2a3f5f\"},\"baxis\":{\"endlinecolor\":\"#2a3f5f\",\"gridcolor\":\"white\",\"linecolor\":\"white\",\"minorgridcolor\":\"white\",\"startlinecolor\":\"#2a3f5f\"},\"type\":\"carpet\"}],\"choropleth\":[{\"colorbar\":{\"outlinewidth\":0,\"ticks\":\"\"},\"type\":\"choropleth\"}],\"contourcarpet\":[{\"colorbar\":{\"outlinewidth\":0,\"ticks\":\"\"},\"type\":\"contourcarpet\"}],\"contour\":[{\"colorbar\":{\"outlinewidth\":0,\"ticks\":\"\"},\"colorscale\":[[0.0,\"#0d0887\"],[0.1111111111111111,\"#46039f\"],[0.2222222222222222,\"#7201a8\"],[0.3333333333333333,\"#9c179e\"],[0.4444444444444444,\"#bd3786\"],[0.5555555555555556,\"#d8576b\"],[0.6666666666666666,\"#ed7953\"],[0.7777777777777778,\"#fb9f3a\"],[0.8888888888888888,\"#fdca26\"],[1.0,\"#f0f921\"]],\"type\":\"contour\"}],\"heatmapgl\":[{\"colorbar\":{\"outlinewidth\":0,\"ticks\":\"\"},\"colorscale\":[[0.0,\"#0d0887\"],[0.1111111111111111,\"#46039f\"],[0.2222222222222222,\"#7201a8\"],[0.3333333333333333,\"#9c179e\"],[0.4444444444444444,\"#bd3786\"],[0.5555555555555556,\"#d8576b\"],[0.6666666666666666,\"#ed7953\"],[0.7777777777777778,\"#fb9f3a\"],[0.8888888888888888,\"#fdca26\"],[1.0,\"#f0f921\"]],\"type\":\"heatmapgl\"}],\"heatmap\":[{\"colorbar\":{\"outlinewidth\":0,\"ticks\":\"\"},\"colorscale\":[[0.0,\"#0d0887\"],[0.1111111111111111,\"#46039f\"],[0.2222222222222222,\"#7201a8\"],[0.3333333333333333,\"#9c179e\"],[0.4444444444444444,\"#bd3786\"],[0.5555555555555556,\"#d8576b\"],[0.6666666666666666,\"#ed7953\"],[0.7777777777777778,\"#fb9f3a\"],[0.8888888888888888,\"#fdca26\"],[1.0,\"#f0f921\"]],\"type\":\"heatmap\"}],\"histogram2dcontour\":[{\"colorbar\":{\"outlinewidth\":0,\"ticks\":\"\"},\"colorscale\":[[0.0,\"#0d0887\"],[0.1111111111111111,\"#46039f\"],[0.2222222222222222,\"#7201a8\"],[0.3333333333333333,\"#9c179e\"],[0.4444444444444444,\"#bd3786\"],[0.5555555555555556,\"#d8576b\"],[0.6666666666666666,\"#ed7953\"],[0.7777777777777778,\"#fb9f3a\"],[0.8888888888888888,\"#fdca26\"],[1.0,\"#f0f921\"]],\"type\":\"histogram2dcontour\"}],\"histogram2d\":[{\"colorbar\":{\"outlinewidth\":0,\"ticks\":\"\"},\"colorscale\":[[0.0,\"#0d0887\"],[0.1111111111111111,\"#46039f\"],[0.2222222222222222,\"#7201a8\"],[0.3333333333333333,\"#9c179e\"],[0.4444444444444444,\"#bd3786\"],[0.5555555555555556,\"#d8576b\"],[0.6666666666666666,\"#ed7953\"],[0.7777777777777778,\"#fb9f3a\"],[0.8888888888888888,\"#fdca26\"],[1.0,\"#f0f921\"]],\"type\":\"histogram2d\"}],\"histogram\":[{\"marker\":{\"pattern\":{\"fillmode\":\"overlay\",\"size\":10,\"solidity\":0.2}},\"type\":\"histogram\"}],\"mesh3d\":[{\"colorbar\":{\"outlinewidth\":0,\"ticks\":\"\"},\"type\":\"mesh3d\"}],\"parcoords\":[{\"line\":{\"colorbar\":{\"outlinewidth\":0,\"ticks\":\"\"}},\"type\":\"parcoords\"}],\"pie\":[{\"automargin\":true,\"type\":\"pie\"}],\"scatter3d\":[{\"line\":{\"colorbar\":{\"outlinewidth\":0,\"ticks\":\"\"}},\"marker\":{\"colorbar\":{\"outlinewidth\":0,\"ticks\":\"\"}},\"type\":\"scatter3d\"}],\"scattercarpet\":[{\"marker\":{\"colorbar\":{\"outlinewidth\":0,\"ticks\":\"\"}},\"type\":\"scattercarpet\"}],\"scattergeo\":[{\"marker\":{\"colorbar\":{\"outlinewidth\":0,\"ticks\":\"\"}},\"type\":\"scattergeo\"}],\"scattergl\":[{\"marker\":{\"colorbar\":{\"outlinewidth\":0,\"ticks\":\"\"}},\"type\":\"scattergl\"}],\"scattermapbox\":[{\"marker\":{\"colorbar\":{\"outlinewidth\":0,\"ticks\":\"\"}},\"type\":\"scattermapbox\"}],\"scatterpolargl\":[{\"marker\":{\"colorbar\":{\"outlinewidth\":0,\"ticks\":\"\"}},\"type\":\"scatterpolargl\"}],\"scatterpolar\":[{\"marker\":{\"colorbar\":{\"outlinewidth\":0,\"ticks\":\"\"}},\"type\":\"scatterpolar\"}],\"scatter\":[{\"marker\":{\"colorbar\":{\"outlinewidth\":0,\"ticks\":\"\"}},\"type\":\"scatter\"}],\"scatterternary\":[{\"marker\":{\"colorbar\":{\"outlinewidth\":0,\"ticks\":\"\"}},\"type\":\"scatterternary\"}],\"surface\":[{\"colorbar\":{\"outlinewidth\":0,\"ticks\":\"\"},\"colorscale\":[[0.0,\"#0d0887\"],[0.1111111111111111,\"#46039f\"],[0.2222222222222222,\"#7201a8\"],[0.3333333333333333,\"#9c179e\"],[0.4444444444444444,\"#bd3786\"],[0.5555555555555556,\"#d8576b\"],[0.6666666666666666,\"#ed7953\"],[0.7777777777777778,\"#fb9f3a\"],[0.8888888888888888,\"#fdca26\"],[1.0,\"#f0f921\"]],\"type\":\"surface\"}],\"table\":[{\"cells\":{\"fill\":{\"color\":\"#EBF0F8\"},\"line\":{\"color\":\"white\"}},\"header\":{\"fill\":{\"color\":\"#C8D4E3\"},\"line\":{\"color\":\"white\"}},\"type\":\"table\"}]},\"layout\":{\"annotationdefaults\":{\"arrowcolor\":\"#2a3f5f\",\"arrowhead\":0,\"arrowwidth\":1},\"autotypenumbers\":\"strict\",\"coloraxis\":{\"colorbar\":{\"outlinewidth\":0,\"ticks\":\"\"}},\"colorscale\":{\"diverging\":[[0,\"#8e0152\"],[0.1,\"#c51b7d\"],[0.2,\"#de77ae\"],[0.3,\"#f1b6da\"],[0.4,\"#fde0ef\"],[0.5,\"#f7f7f7\"],[0.6,\"#e6f5d0\"],[0.7,\"#b8e186\"],[0.8,\"#7fbc41\"],[0.9,\"#4d9221\"],[1,\"#276419\"]],\"sequential\":[[0.0,\"#0d0887\"],[0.1111111111111111,\"#46039f\"],[0.2222222222222222,\"#7201a8\"],[0.3333333333333333,\"#9c179e\"],[0.4444444444444444,\"#bd3786\"],[0.5555555555555556,\"#d8576b\"],[0.6666666666666666,\"#ed7953\"],[0.7777777777777778,\"#fb9f3a\"],[0.8888888888888888,\"#fdca26\"],[1.0,\"#f0f921\"]],\"sequentialminus\":[[0.0,\"#0d0887\"],[0.1111111111111111,\"#46039f\"],[0.2222222222222222,\"#7201a8\"],[0.3333333333333333,\"#9c179e\"],[0.4444444444444444,\"#bd3786\"],[0.5555555555555556,\"#d8576b\"],[0.6666666666666666,\"#ed7953\"],[0.7777777777777778,\"#fb9f3a\"],[0.8888888888888888,\"#fdca26\"],[1.0,\"#f0f921\"]]},\"colorway\":[\"#636efa\",\"#EF553B\",\"#00cc96\",\"#ab63fa\",\"#FFA15A\",\"#19d3f3\",\"#FF6692\",\"#B6E880\",\"#FF97FF\",\"#FECB52\"],\"font\":{\"color\":\"#2a3f5f\"},\"geo\":{\"bgcolor\":\"white\",\"lakecolor\":\"white\",\"landcolor\":\"#E5ECF6\",\"showlakes\":true,\"showland\":true,\"subunitcolor\":\"white\"},\"hoverlabel\":{\"align\":\"left\"},\"hovermode\":\"closest\",\"mapbox\":{\"style\":\"light\"},\"paper_bgcolor\":\"white\",\"plot_bgcolor\":\"#E5ECF6\",\"polar\":{\"angularaxis\":{\"gridcolor\":\"white\",\"linecolor\":\"white\",\"ticks\":\"\"},\"bgcolor\":\"#E5ECF6\",\"radialaxis\":{\"gridcolor\":\"white\",\"linecolor\":\"white\",\"ticks\":\"\"}},\"scene\":{\"xaxis\":{\"backgroundcolor\":\"#E5ECF6\",\"gridcolor\":\"white\",\"gridwidth\":2,\"linecolor\":\"white\",\"showbackground\":true,\"ticks\":\"\",\"zerolinecolor\":\"white\"},\"yaxis\":{\"backgroundcolor\":\"#E5ECF6\",\"gridcolor\":\"white\",\"gridwidth\":2,\"linecolor\":\"white\",\"showbackground\":true,\"ticks\":\"\",\"zerolinecolor\":\"white\"},\"zaxis\":{\"backgroundcolor\":\"#E5ECF6\",\"gridcolor\":\"white\",\"gridwidth\":2,\"linecolor\":\"white\",\"showbackground\":true,\"ticks\":\"\",\"zerolinecolor\":\"white\"}},\"shapedefaults\":{\"line\":{\"color\":\"#2a3f5f\"}},\"ternary\":{\"aaxis\":{\"gridcolor\":\"white\",\"linecolor\":\"white\",\"ticks\":\"\"},\"baxis\":{\"gridcolor\":\"white\",\"linecolor\":\"white\",\"ticks\":\"\"},\"bgcolor\":\"#E5ECF6\",\"caxis\":{\"gridcolor\":\"white\",\"linecolor\":\"white\",\"ticks\":\"\"}},\"title\":{\"x\":0.05},\"xaxis\":{\"automargin\":true,\"gridcolor\":\"white\",\"linecolor\":\"white\",\"ticks\":\"\",\"title\":{\"standoff\":15},\"zerolinecolor\":\"white\",\"zerolinewidth\":2},\"yaxis\":{\"automargin\":true,\"gridcolor\":\"white\",\"linecolor\":\"white\",\"ticks\":\"\",\"title\":{\"standoff\":15},\"zerolinecolor\":\"white\",\"zerolinewidth\":2}}},\"width\":600,\"xaxis\":{\"color\":\"black\",\"linecolor\":\"black\",\"linewidth\":1.5,\"mirror\":\"allticks\",\"showgrid\":false,\"showline\":true,\"ticklen\":10,\"ticks\":\"inside\",\"tickwidth\":1.5,\"title\":{\"text\":\"DFA rank\"},\"zeroline\":false},\"yaxis\":{\"color\":\"black\",\"linecolor\":\"black\",\"linewidth\":1.5,\"mirror\":false,\"showgrid\":false,\"showline\":true,\"ticklen\":10,\"ticks\":\"inside\",\"tickwidth\":1.5,\"title\":{\"text\":\"percentage\"},\"zeroline\":false},\"yaxis2\":{\"anchor\":\"free\",\"linewidth\":3,\"overlaying\":\"y\",\"position\":1,\"range\":[0,100],\"showgrid\":true,\"showline\":true,\"side\":\"right\",\"tickfont\":{\"color\":\"black\"},\"ticklen\":10,\"ticks\":\"inside\",\"tickwidth\":3,\"title\":{\"font\":{\"color\":\"black\"},\"text\":\"cumulative percentage\"},\"zeroline\":true}},                        {\"responsive\": true}                    ).then(function(){\n",
       "                            \n",
       "var gd = document.getElementById('923f0c9e-3103-4203-bcc5-ef56c44ea218');\n",
       "var x = new MutationObserver(function (mutations, observer) {{\n",
       "        var display = window.getComputedStyle(gd).display;\n",
       "        if (!display || display === 'none') {{\n",
       "            console.log([gd, 'removed!']);\n",
       "            Plotly.purge(gd);\n",
       "            observer.disconnect();\n",
       "        }}\n",
       "}});\n",
       "\n",
       "// Listen for the removal of the full notebook cells\n",
       "var notebookContainer = gd.closest('#notebook-container');\n",
       "if (notebookContainer) {{\n",
       "    x.observe(notebookContainer, {childList: true});\n",
       "}}\n",
       "\n",
       "// Listen for the clearing of the current output cell\n",
       "var outputEl = gd.closest('.output');\n",
       "if (outputEl) {{\n",
       "    x.observe(outputEl, {childList: true});\n",
       "}}\n",
       "\n",
       "                        })                };                });            </script>        </div>"
      ]
     },
     "metadata": {},
     "output_type": "display_data"
    }
   ],
   "source": [
    "y = []\n",
    "for ii in range(48):\n",
    "    y += [len(df_sel[df_sel[\"ranks\"] == ii])*100./len(df_sel)]\n",
    "data = [go.Bar(x=list(range(48)),\n",
    "               y=y, name='all', marker_color='rgba(0, 0, 0, 0.5)', showlegend=False),]\n",
    "xs=list(range(48))\n",
    "ys=[np.sum(y[:ii])*100./np.sum(y) for ii in xs]\n",
    "for ii in range(47):\n",
    "    data += [go.Scatter(x=[xs[ii], xs[ii]], y=[ys[ii], ys[ii+1]], mode='lines', yaxis=\"y2\", line=dict(color='blue', width=2, dash='solid'), showlegend=False)]\n",
    "    data += [go.Scatter(x=[xs[ii], xs[ii+1]], y=[ys[ii+1], ys[ii+1]], mode='lines', yaxis=\"y2\", line=dict(color='blue', width=2, dash='solid'), showlegend=False)]\n",
    "layout = go.Layout()\n",
    "layout.update(glob_layout)\n",
    "layout.legend.update(x=1, y=1, bgcolor=\"rgba(0,0,0,0)\")\n",
    "layout[\"xaxis\"].update({'title': \"DFA rank\"})\n",
    "layout[\"yaxis\"].update({'title': \"percentage\", \"mirror\": False})\n",
    "layout.update({\"yaxis2\": dict(\n",
    "    title=\"cumulative percentage\",\n",
    "    titlefont=dict(color=\"black\"),\n",
    "    tickfont=dict(color=\"black\"),\n",
    "    anchor=\"free\",\n",
    "    overlaying=\"y\",\n",
    "    side=\"right\",\n",
    "    position=1,\n",
    "    range=[0, 100],\n",
    "    showgrid=True,  \n",
    "    zeroline=True, \n",
    "    ticks=\"inside\", \n",
    "    showline=True,\n",
    "    tickwidth=3, \n",
    "    linewidth=3, \n",
    "    ticklen=10,\n",
    "#     mirror=True,\n",
    ")},)\n",
    "layout.update(width=600, height=500, boxmode='group')\n",
    "fig = dict(data=data, layout=layout)\n",
    "iplot(fig)"
   ]
  },
  {
   "cell_type": "markdown",
   "metadata": {},
   "source": [
    "##### likelihood of top 5 DFAs"
   ]
  },
  {
   "cell_type": "code",
   "execution_count": 19,
   "metadata": {},
   "outputs": [
    {
     "data": {
      "application/vnd.plotly.v1+json": {
       "config": {
        "linkText": "Export to plot.ly",
        "plotlyServerURL": "https://plot.ly",
        "showLink": false
       },
       "data": [
        {
         "marker": {
          "color": "rgba(0, 0, 255, 0.5)"
         },
         "name": "rec",
         "type": "bar",
         "x": [
          "m06",
          "blyp_hfx_50",
          "m06-l_hfx_30",
          "pbe_hfx_30",
          "dsd-blyp-d3bj",
          "pbe0-dh",
          "mn15-l_hfx_50",
          "LRC-wPBEh",
          "scan0",
          "scan_hfx_40",
          "m06-2x",
          "mn15-l_hfx_40",
          "dsd-pbep86-d3bj",
          "m06-l_hfx_40",
          "pbe_hfx_20"
         ],
         "y": [
          64.39551849921835,
          49.791558103178744,
          46.03960396039605,
          42.17040125065139,
          36.78999478895258,
          31.552892131318398,
          26.22459614382491,
          23.762376237623762,
          22.433559145388227,
          22.355393434080252,
          21.039603960396043,
          18.31683168316832,
          15.8676393955185,
          15.76341844710787,
          15.711307972902555
         ]
        },
        {
         "marker": {
          "color": "rgba(0, 255, 0, 0.5)"
         },
         "name": "true",
         "type": "bar",
         "x": [
          "m06",
          "blyp_hfx_50",
          "m06-l_hfx_30",
          "pbe_hfx_30",
          "dsd-blyp-d3bj",
          "pbe0-dh",
          "mn15-l_hfx_50",
          "LRC-wPBEh",
          "scan0",
          "scan_hfx_40",
          "m06-2x",
          "mn15-l_hfx_40",
          "dsd-pbep86-d3bj",
          "m06-l_hfx_40",
          "pbe_hfx_20"
         ],
         "y": [
          56.01875977071392,
          28.6607608129234,
          44.293903074517985,
          48.20218863991663,
          31.266284523189164,
          28.6607608129234,
          16.935904116727464,
          31.266284523189164,
          28.6607608129234,
          20.84418968212611,
          19.541427826993228,
          7.816571130797291,
          23.449713392391875,
          13.02761855132882,
          7.816571130797291
         ]
        }
       ],
       "layout": {
        "boxmode": "group",
        "font": {
         "color": "black",
         "family": "Helvetica",
         "size": 24
        },
        "height": 500,
        "legend": {
         "orientation": "v"
        },
        "margin": {
         "b": 100,
         "l": 100,
         "r": 10,
         "t": 10
        },
        "paper_bgcolor": "rgba(255,255,255,100)",
        "plot_bgcolor": "white",
        "template": {
         "data": {
          "bar": [
           {
            "error_x": {
             "color": "#2a3f5f"
            },
            "error_y": {
             "color": "#2a3f5f"
            },
            "marker": {
             "line": {
              "color": "#E5ECF6",
              "width": 0.5
             },
             "pattern": {
              "fillmode": "overlay",
              "size": 10,
              "solidity": 0.2
             }
            },
            "type": "bar"
           }
          ],
          "barpolar": [
           {
            "marker": {
             "line": {
              "color": "#E5ECF6",
              "width": 0.5
             },
             "pattern": {
              "fillmode": "overlay",
              "size": 10,
              "solidity": 0.2
             }
            },
            "type": "barpolar"
           }
          ],
          "carpet": [
           {
            "aaxis": {
             "endlinecolor": "#2a3f5f",
             "gridcolor": "white",
             "linecolor": "white",
             "minorgridcolor": "white",
             "startlinecolor": "#2a3f5f"
            },
            "baxis": {
             "endlinecolor": "#2a3f5f",
             "gridcolor": "white",
             "linecolor": "white",
             "minorgridcolor": "white",
             "startlinecolor": "#2a3f5f"
            },
            "type": "carpet"
           }
          ],
          "choropleth": [
           {
            "colorbar": {
             "outlinewidth": 0,
             "ticks": ""
            },
            "type": "choropleth"
           }
          ],
          "contour": [
           {
            "colorbar": {
             "outlinewidth": 0,
             "ticks": ""
            },
            "colorscale": [
             [
              0,
              "#0d0887"
             ],
             [
              0.1111111111111111,
              "#46039f"
             ],
             [
              0.2222222222222222,
              "#7201a8"
             ],
             [
              0.3333333333333333,
              "#9c179e"
             ],
             [
              0.4444444444444444,
              "#bd3786"
             ],
             [
              0.5555555555555556,
              "#d8576b"
             ],
             [
              0.6666666666666666,
              "#ed7953"
             ],
             [
              0.7777777777777778,
              "#fb9f3a"
             ],
             [
              0.8888888888888888,
              "#fdca26"
             ],
             [
              1,
              "#f0f921"
             ]
            ],
            "type": "contour"
           }
          ],
          "contourcarpet": [
           {
            "colorbar": {
             "outlinewidth": 0,
             "ticks": ""
            },
            "type": "contourcarpet"
           }
          ],
          "heatmap": [
           {
            "colorbar": {
             "outlinewidth": 0,
             "ticks": ""
            },
            "colorscale": [
             [
              0,
              "#0d0887"
             ],
             [
              0.1111111111111111,
              "#46039f"
             ],
             [
              0.2222222222222222,
              "#7201a8"
             ],
             [
              0.3333333333333333,
              "#9c179e"
             ],
             [
              0.4444444444444444,
              "#bd3786"
             ],
             [
              0.5555555555555556,
              "#d8576b"
             ],
             [
              0.6666666666666666,
              "#ed7953"
             ],
             [
              0.7777777777777778,
              "#fb9f3a"
             ],
             [
              0.8888888888888888,
              "#fdca26"
             ],
             [
              1,
              "#f0f921"
             ]
            ],
            "type": "heatmap"
           }
          ],
          "heatmapgl": [
           {
            "colorbar": {
             "outlinewidth": 0,
             "ticks": ""
            },
            "colorscale": [
             [
              0,
              "#0d0887"
             ],
             [
              0.1111111111111111,
              "#46039f"
             ],
             [
              0.2222222222222222,
              "#7201a8"
             ],
             [
              0.3333333333333333,
              "#9c179e"
             ],
             [
              0.4444444444444444,
              "#bd3786"
             ],
             [
              0.5555555555555556,
              "#d8576b"
             ],
             [
              0.6666666666666666,
              "#ed7953"
             ],
             [
              0.7777777777777778,
              "#fb9f3a"
             ],
             [
              0.8888888888888888,
              "#fdca26"
             ],
             [
              1,
              "#f0f921"
             ]
            ],
            "type": "heatmapgl"
           }
          ],
          "histogram": [
           {
            "marker": {
             "pattern": {
              "fillmode": "overlay",
              "size": 10,
              "solidity": 0.2
             }
            },
            "type": "histogram"
           }
          ],
          "histogram2d": [
           {
            "colorbar": {
             "outlinewidth": 0,
             "ticks": ""
            },
            "colorscale": [
             [
              0,
              "#0d0887"
             ],
             [
              0.1111111111111111,
              "#46039f"
             ],
             [
              0.2222222222222222,
              "#7201a8"
             ],
             [
              0.3333333333333333,
              "#9c179e"
             ],
             [
              0.4444444444444444,
              "#bd3786"
             ],
             [
              0.5555555555555556,
              "#d8576b"
             ],
             [
              0.6666666666666666,
              "#ed7953"
             ],
             [
              0.7777777777777778,
              "#fb9f3a"
             ],
             [
              0.8888888888888888,
              "#fdca26"
             ],
             [
              1,
              "#f0f921"
             ]
            ],
            "type": "histogram2d"
           }
          ],
          "histogram2dcontour": [
           {
            "colorbar": {
             "outlinewidth": 0,
             "ticks": ""
            },
            "colorscale": [
             [
              0,
              "#0d0887"
             ],
             [
              0.1111111111111111,
              "#46039f"
             ],
             [
              0.2222222222222222,
              "#7201a8"
             ],
             [
              0.3333333333333333,
              "#9c179e"
             ],
             [
              0.4444444444444444,
              "#bd3786"
             ],
             [
              0.5555555555555556,
              "#d8576b"
             ],
             [
              0.6666666666666666,
              "#ed7953"
             ],
             [
              0.7777777777777778,
              "#fb9f3a"
             ],
             [
              0.8888888888888888,
              "#fdca26"
             ],
             [
              1,
              "#f0f921"
             ]
            ],
            "type": "histogram2dcontour"
           }
          ],
          "mesh3d": [
           {
            "colorbar": {
             "outlinewidth": 0,
             "ticks": ""
            },
            "type": "mesh3d"
           }
          ],
          "parcoords": [
           {
            "line": {
             "colorbar": {
              "outlinewidth": 0,
              "ticks": ""
             }
            },
            "type": "parcoords"
           }
          ],
          "pie": [
           {
            "automargin": true,
            "type": "pie"
           }
          ],
          "scatter": [
           {
            "marker": {
             "colorbar": {
              "outlinewidth": 0,
              "ticks": ""
             }
            },
            "type": "scatter"
           }
          ],
          "scatter3d": [
           {
            "line": {
             "colorbar": {
              "outlinewidth": 0,
              "ticks": ""
             }
            },
            "marker": {
             "colorbar": {
              "outlinewidth": 0,
              "ticks": ""
             }
            },
            "type": "scatter3d"
           }
          ],
          "scattercarpet": [
           {
            "marker": {
             "colorbar": {
              "outlinewidth": 0,
              "ticks": ""
             }
            },
            "type": "scattercarpet"
           }
          ],
          "scattergeo": [
           {
            "marker": {
             "colorbar": {
              "outlinewidth": 0,
              "ticks": ""
             }
            },
            "type": "scattergeo"
           }
          ],
          "scattergl": [
           {
            "marker": {
             "colorbar": {
              "outlinewidth": 0,
              "ticks": ""
             }
            },
            "type": "scattergl"
           }
          ],
          "scattermapbox": [
           {
            "marker": {
             "colorbar": {
              "outlinewidth": 0,
              "ticks": ""
             }
            },
            "type": "scattermapbox"
           }
          ],
          "scatterpolar": [
           {
            "marker": {
             "colorbar": {
              "outlinewidth": 0,
              "ticks": ""
             }
            },
            "type": "scatterpolar"
           }
          ],
          "scatterpolargl": [
           {
            "marker": {
             "colorbar": {
              "outlinewidth": 0,
              "ticks": ""
             }
            },
            "type": "scatterpolargl"
           }
          ],
          "scatterternary": [
           {
            "marker": {
             "colorbar": {
              "outlinewidth": 0,
              "ticks": ""
             }
            },
            "type": "scatterternary"
           }
          ],
          "surface": [
           {
            "colorbar": {
             "outlinewidth": 0,
             "ticks": ""
            },
            "colorscale": [
             [
              0,
              "#0d0887"
             ],
             [
              0.1111111111111111,
              "#46039f"
             ],
             [
              0.2222222222222222,
              "#7201a8"
             ],
             [
              0.3333333333333333,
              "#9c179e"
             ],
             [
              0.4444444444444444,
              "#bd3786"
             ],
             [
              0.5555555555555556,
              "#d8576b"
             ],
             [
              0.6666666666666666,
              "#ed7953"
             ],
             [
              0.7777777777777778,
              "#fb9f3a"
             ],
             [
              0.8888888888888888,
              "#fdca26"
             ],
             [
              1,
              "#f0f921"
             ]
            ],
            "type": "surface"
           }
          ],
          "table": [
           {
            "cells": {
             "fill": {
              "color": "#EBF0F8"
             },
             "line": {
              "color": "white"
             }
            },
            "header": {
             "fill": {
              "color": "#C8D4E3"
             },
             "line": {
              "color": "white"
             }
            },
            "type": "table"
           }
          ]
         },
         "layout": {
          "annotationdefaults": {
           "arrowcolor": "#2a3f5f",
           "arrowhead": 0,
           "arrowwidth": 1
          },
          "autotypenumbers": "strict",
          "coloraxis": {
           "colorbar": {
            "outlinewidth": 0,
            "ticks": ""
           }
          },
          "colorscale": {
           "diverging": [
            [
             0,
             "#8e0152"
            ],
            [
             0.1,
             "#c51b7d"
            ],
            [
             0.2,
             "#de77ae"
            ],
            [
             0.3,
             "#f1b6da"
            ],
            [
             0.4,
             "#fde0ef"
            ],
            [
             0.5,
             "#f7f7f7"
            ],
            [
             0.6,
             "#e6f5d0"
            ],
            [
             0.7,
             "#b8e186"
            ],
            [
             0.8,
             "#7fbc41"
            ],
            [
             0.9,
             "#4d9221"
            ],
            [
             1,
             "#276419"
            ]
           ],
           "sequential": [
            [
             0,
             "#0d0887"
            ],
            [
             0.1111111111111111,
             "#46039f"
            ],
            [
             0.2222222222222222,
             "#7201a8"
            ],
            [
             0.3333333333333333,
             "#9c179e"
            ],
            [
             0.4444444444444444,
             "#bd3786"
            ],
            [
             0.5555555555555556,
             "#d8576b"
            ],
            [
             0.6666666666666666,
             "#ed7953"
            ],
            [
             0.7777777777777778,
             "#fb9f3a"
            ],
            [
             0.8888888888888888,
             "#fdca26"
            ],
            [
             1,
             "#f0f921"
            ]
           ],
           "sequentialminus": [
            [
             0,
             "#0d0887"
            ],
            [
             0.1111111111111111,
             "#46039f"
            ],
            [
             0.2222222222222222,
             "#7201a8"
            ],
            [
             0.3333333333333333,
             "#9c179e"
            ],
            [
             0.4444444444444444,
             "#bd3786"
            ],
            [
             0.5555555555555556,
             "#d8576b"
            ],
            [
             0.6666666666666666,
             "#ed7953"
            ],
            [
             0.7777777777777778,
             "#fb9f3a"
            ],
            [
             0.8888888888888888,
             "#fdca26"
            ],
            [
             1,
             "#f0f921"
            ]
           ]
          },
          "colorway": [
           "#636efa",
           "#EF553B",
           "#00cc96",
           "#ab63fa",
           "#FFA15A",
           "#19d3f3",
           "#FF6692",
           "#B6E880",
           "#FF97FF",
           "#FECB52"
          ],
          "font": {
           "color": "#2a3f5f"
          },
          "geo": {
           "bgcolor": "white",
           "lakecolor": "white",
           "landcolor": "#E5ECF6",
           "showlakes": true,
           "showland": true,
           "subunitcolor": "white"
          },
          "hoverlabel": {
           "align": "left"
          },
          "hovermode": "closest",
          "mapbox": {
           "style": "light"
          },
          "paper_bgcolor": "white",
          "plot_bgcolor": "#E5ECF6",
          "polar": {
           "angularaxis": {
            "gridcolor": "white",
            "linecolor": "white",
            "ticks": ""
           },
           "bgcolor": "#E5ECF6",
           "radialaxis": {
            "gridcolor": "white",
            "linecolor": "white",
            "ticks": ""
           }
          },
          "scene": {
           "xaxis": {
            "backgroundcolor": "#E5ECF6",
            "gridcolor": "white",
            "gridwidth": 2,
            "linecolor": "white",
            "showbackground": true,
            "ticks": "",
            "zerolinecolor": "white"
           },
           "yaxis": {
            "backgroundcolor": "#E5ECF6",
            "gridcolor": "white",
            "gridwidth": 2,
            "linecolor": "white",
            "showbackground": true,
            "ticks": "",
            "zerolinecolor": "white"
           },
           "zaxis": {
            "backgroundcolor": "#E5ECF6",
            "gridcolor": "white",
            "gridwidth": 2,
            "linecolor": "white",
            "showbackground": true,
            "ticks": "",
            "zerolinecolor": "white"
           }
          },
          "shapedefaults": {
           "line": {
            "color": "#2a3f5f"
           }
          },
          "ternary": {
           "aaxis": {
            "gridcolor": "white",
            "linecolor": "white",
            "ticks": ""
           },
           "baxis": {
            "gridcolor": "white",
            "linecolor": "white",
            "ticks": ""
           },
           "bgcolor": "#E5ECF6",
           "caxis": {
            "gridcolor": "white",
            "linecolor": "white",
            "ticks": ""
           }
          },
          "title": {
           "x": 0.05
          },
          "xaxis": {
           "automargin": true,
           "gridcolor": "white",
           "linecolor": "white",
           "ticks": "",
           "title": {
            "standoff": 15
           },
           "zerolinecolor": "white",
           "zerolinewidth": 2
          },
          "yaxis": {
           "automargin": true,
           "gridcolor": "white",
           "linecolor": "white",
           "ticks": "",
           "title": {
            "standoff": 15
           },
           "zerolinecolor": "white",
           "zerolinewidth": 2
          }
         }
        },
        "width": 1000,
        "xaxis": {
         "color": "black",
         "linecolor": "black",
         "linewidth": 1.5,
         "mirror": "allticks",
         "showgrid": false,
         "showline": true,
         "ticklen": 10,
         "ticks": "inside",
         "tickwidth": 1.5,
         "title": {
          "text": "DFA"
         },
         "zeroline": false
        },
        "yaxis": {
         "color": "black",
         "linecolor": "black",
         "linewidth": 1.5,
         "mirror": "allticks",
         "showgrid": false,
         "showline": true,
         "ticklen": 10,
         "ticks": "inside",
         "tickwidth": 1.5,
         "title": {
          "text": "likelihood of top 5"
         },
         "zeroline": false
        }
       }
      },
      "text/html": [
       "<div>                            <div id=\"2857d459-707d-499d-96ce-919f28b3e427\" class=\"plotly-graph-div\" style=\"height:500px; width:1000px;\"></div>            <script type=\"text/javascript\">                require([\"plotly\"], function(Plotly) {                    window.PLOTLYENV=window.PLOTLYENV || {};                                    if (document.getElementById(\"2857d459-707d-499d-96ce-919f28b3e427\")) {                    Plotly.newPlot(                        \"2857d459-707d-499d-96ce-919f28b3e427\",                        [{\"marker\":{\"color\":\"rgba(0, 0, 255, 0.5)\"},\"name\":\"rec\",\"x\":[\"m06\",\"blyp_hfx_50\",\"m06-l_hfx_30\",\"pbe_hfx_30\",\"dsd-blyp-d3bj\",\"pbe0-dh\",\"mn15-l_hfx_50\",\"LRC-wPBEh\",\"scan0\",\"scan_hfx_40\",\"m06-2x\",\"mn15-l_hfx_40\",\"dsd-pbep86-d3bj\",\"m06-l_hfx_40\",\"pbe_hfx_20\"],\"y\":[64.39551849921835,49.791558103178744,46.03960396039605,42.17040125065139,36.78999478895258,31.552892131318398,26.22459614382491,23.762376237623762,22.433559145388227,22.355393434080252,21.039603960396043,18.31683168316832,15.8676393955185,15.76341844710787,15.711307972902555],\"type\":\"bar\"},{\"marker\":{\"color\":\"rgba(0, 255, 0, 0.5)\"},\"name\":\"true\",\"x\":[\"m06\",\"blyp_hfx_50\",\"m06-l_hfx_30\",\"pbe_hfx_30\",\"dsd-blyp-d3bj\",\"pbe0-dh\",\"mn15-l_hfx_50\",\"LRC-wPBEh\",\"scan0\",\"scan_hfx_40\",\"m06-2x\",\"mn15-l_hfx_40\",\"dsd-pbep86-d3bj\",\"m06-l_hfx_40\",\"pbe_hfx_20\"],\"y\":[56.01875977071392,28.6607608129234,44.293903074517985,48.20218863991663,31.266284523189164,28.6607608129234,16.935904116727464,31.266284523189164,28.6607608129234,20.84418968212611,19.541427826993228,7.816571130797291,23.449713392391875,13.02761855132882,7.816571130797291],\"type\":\"bar\"}],                        {\"boxmode\":\"group\",\"font\":{\"color\":\"black\",\"family\":\"Helvetica\",\"size\":24},\"height\":500,\"legend\":{\"orientation\":\"v\"},\"margin\":{\"b\":100,\"l\":100,\"r\":10,\"t\":10},\"paper_bgcolor\":\"rgba(255,255,255,100)\",\"plot_bgcolor\":\"white\",\"template\":{\"data\":{\"barpolar\":[{\"marker\":{\"line\":{\"color\":\"#E5ECF6\",\"width\":0.5},\"pattern\":{\"fillmode\":\"overlay\",\"size\":10,\"solidity\":0.2}},\"type\":\"barpolar\"}],\"bar\":[{\"error_x\":{\"color\":\"#2a3f5f\"},\"error_y\":{\"color\":\"#2a3f5f\"},\"marker\":{\"line\":{\"color\":\"#E5ECF6\",\"width\":0.5},\"pattern\":{\"fillmode\":\"overlay\",\"size\":10,\"solidity\":0.2}},\"type\":\"bar\"}],\"carpet\":[{\"aaxis\":{\"endlinecolor\":\"#2a3f5f\",\"gridcolor\":\"white\",\"linecolor\":\"white\",\"minorgridcolor\":\"white\",\"startlinecolor\":\"#2a3f5f\"},\"baxis\":{\"endlinecolor\":\"#2a3f5f\",\"gridcolor\":\"white\",\"linecolor\":\"white\",\"minorgridcolor\":\"white\",\"startlinecolor\":\"#2a3f5f\"},\"type\":\"carpet\"}],\"choropleth\":[{\"colorbar\":{\"outlinewidth\":0,\"ticks\":\"\"},\"type\":\"choropleth\"}],\"contourcarpet\":[{\"colorbar\":{\"outlinewidth\":0,\"ticks\":\"\"},\"type\":\"contourcarpet\"}],\"contour\":[{\"colorbar\":{\"outlinewidth\":0,\"ticks\":\"\"},\"colorscale\":[[0.0,\"#0d0887\"],[0.1111111111111111,\"#46039f\"],[0.2222222222222222,\"#7201a8\"],[0.3333333333333333,\"#9c179e\"],[0.4444444444444444,\"#bd3786\"],[0.5555555555555556,\"#d8576b\"],[0.6666666666666666,\"#ed7953\"],[0.7777777777777778,\"#fb9f3a\"],[0.8888888888888888,\"#fdca26\"],[1.0,\"#f0f921\"]],\"type\":\"contour\"}],\"heatmapgl\":[{\"colorbar\":{\"outlinewidth\":0,\"ticks\":\"\"},\"colorscale\":[[0.0,\"#0d0887\"],[0.1111111111111111,\"#46039f\"],[0.2222222222222222,\"#7201a8\"],[0.3333333333333333,\"#9c179e\"],[0.4444444444444444,\"#bd3786\"],[0.5555555555555556,\"#d8576b\"],[0.6666666666666666,\"#ed7953\"],[0.7777777777777778,\"#fb9f3a\"],[0.8888888888888888,\"#fdca26\"],[1.0,\"#f0f921\"]],\"type\":\"heatmapgl\"}],\"heatmap\":[{\"colorbar\":{\"outlinewidth\":0,\"ticks\":\"\"},\"colorscale\":[[0.0,\"#0d0887\"],[0.1111111111111111,\"#46039f\"],[0.2222222222222222,\"#7201a8\"],[0.3333333333333333,\"#9c179e\"],[0.4444444444444444,\"#bd3786\"],[0.5555555555555556,\"#d8576b\"],[0.6666666666666666,\"#ed7953\"],[0.7777777777777778,\"#fb9f3a\"],[0.8888888888888888,\"#fdca26\"],[1.0,\"#f0f921\"]],\"type\":\"heatmap\"}],\"histogram2dcontour\":[{\"colorbar\":{\"outlinewidth\":0,\"ticks\":\"\"},\"colorscale\":[[0.0,\"#0d0887\"],[0.1111111111111111,\"#46039f\"],[0.2222222222222222,\"#7201a8\"],[0.3333333333333333,\"#9c179e\"],[0.4444444444444444,\"#bd3786\"],[0.5555555555555556,\"#d8576b\"],[0.6666666666666666,\"#ed7953\"],[0.7777777777777778,\"#fb9f3a\"],[0.8888888888888888,\"#fdca26\"],[1.0,\"#f0f921\"]],\"type\":\"histogram2dcontour\"}],\"histogram2d\":[{\"colorbar\":{\"outlinewidth\":0,\"ticks\":\"\"},\"colorscale\":[[0.0,\"#0d0887\"],[0.1111111111111111,\"#46039f\"],[0.2222222222222222,\"#7201a8\"],[0.3333333333333333,\"#9c179e\"],[0.4444444444444444,\"#bd3786\"],[0.5555555555555556,\"#d8576b\"],[0.6666666666666666,\"#ed7953\"],[0.7777777777777778,\"#fb9f3a\"],[0.8888888888888888,\"#fdca26\"],[1.0,\"#f0f921\"]],\"type\":\"histogram2d\"}],\"histogram\":[{\"marker\":{\"pattern\":{\"fillmode\":\"overlay\",\"size\":10,\"solidity\":0.2}},\"type\":\"histogram\"}],\"mesh3d\":[{\"colorbar\":{\"outlinewidth\":0,\"ticks\":\"\"},\"type\":\"mesh3d\"}],\"parcoords\":[{\"line\":{\"colorbar\":{\"outlinewidth\":0,\"ticks\":\"\"}},\"type\":\"parcoords\"}],\"pie\":[{\"automargin\":true,\"type\":\"pie\"}],\"scatter3d\":[{\"line\":{\"colorbar\":{\"outlinewidth\":0,\"ticks\":\"\"}},\"marker\":{\"colorbar\":{\"outlinewidth\":0,\"ticks\":\"\"}},\"type\":\"scatter3d\"}],\"scattercarpet\":[{\"marker\":{\"colorbar\":{\"outlinewidth\":0,\"ticks\":\"\"}},\"type\":\"scattercarpet\"}],\"scattergeo\":[{\"marker\":{\"colorbar\":{\"outlinewidth\":0,\"ticks\":\"\"}},\"type\":\"scattergeo\"}],\"scattergl\":[{\"marker\":{\"colorbar\":{\"outlinewidth\":0,\"ticks\":\"\"}},\"type\":\"scattergl\"}],\"scattermapbox\":[{\"marker\":{\"colorbar\":{\"outlinewidth\":0,\"ticks\":\"\"}},\"type\":\"scattermapbox\"}],\"scatterpolargl\":[{\"marker\":{\"colorbar\":{\"outlinewidth\":0,\"ticks\":\"\"}},\"type\":\"scatterpolargl\"}],\"scatterpolar\":[{\"marker\":{\"colorbar\":{\"outlinewidth\":0,\"ticks\":\"\"}},\"type\":\"scatterpolar\"}],\"scatter\":[{\"marker\":{\"colorbar\":{\"outlinewidth\":0,\"ticks\":\"\"}},\"type\":\"scatter\"}],\"scatterternary\":[{\"marker\":{\"colorbar\":{\"outlinewidth\":0,\"ticks\":\"\"}},\"type\":\"scatterternary\"}],\"surface\":[{\"colorbar\":{\"outlinewidth\":0,\"ticks\":\"\"},\"colorscale\":[[0.0,\"#0d0887\"],[0.1111111111111111,\"#46039f\"],[0.2222222222222222,\"#7201a8\"],[0.3333333333333333,\"#9c179e\"],[0.4444444444444444,\"#bd3786\"],[0.5555555555555556,\"#d8576b\"],[0.6666666666666666,\"#ed7953\"],[0.7777777777777778,\"#fb9f3a\"],[0.8888888888888888,\"#fdca26\"],[1.0,\"#f0f921\"]],\"type\":\"surface\"}],\"table\":[{\"cells\":{\"fill\":{\"color\":\"#EBF0F8\"},\"line\":{\"color\":\"white\"}},\"header\":{\"fill\":{\"color\":\"#C8D4E3\"},\"line\":{\"color\":\"white\"}},\"type\":\"table\"}]},\"layout\":{\"annotationdefaults\":{\"arrowcolor\":\"#2a3f5f\",\"arrowhead\":0,\"arrowwidth\":1},\"autotypenumbers\":\"strict\",\"coloraxis\":{\"colorbar\":{\"outlinewidth\":0,\"ticks\":\"\"}},\"colorscale\":{\"diverging\":[[0,\"#8e0152\"],[0.1,\"#c51b7d\"],[0.2,\"#de77ae\"],[0.3,\"#f1b6da\"],[0.4,\"#fde0ef\"],[0.5,\"#f7f7f7\"],[0.6,\"#e6f5d0\"],[0.7,\"#b8e186\"],[0.8,\"#7fbc41\"],[0.9,\"#4d9221\"],[1,\"#276419\"]],\"sequential\":[[0.0,\"#0d0887\"],[0.1111111111111111,\"#46039f\"],[0.2222222222222222,\"#7201a8\"],[0.3333333333333333,\"#9c179e\"],[0.4444444444444444,\"#bd3786\"],[0.5555555555555556,\"#d8576b\"],[0.6666666666666666,\"#ed7953\"],[0.7777777777777778,\"#fb9f3a\"],[0.8888888888888888,\"#fdca26\"],[1.0,\"#f0f921\"]],\"sequentialminus\":[[0.0,\"#0d0887\"],[0.1111111111111111,\"#46039f\"],[0.2222222222222222,\"#7201a8\"],[0.3333333333333333,\"#9c179e\"],[0.4444444444444444,\"#bd3786\"],[0.5555555555555556,\"#d8576b\"],[0.6666666666666666,\"#ed7953\"],[0.7777777777777778,\"#fb9f3a\"],[0.8888888888888888,\"#fdca26\"],[1.0,\"#f0f921\"]]},\"colorway\":[\"#636efa\",\"#EF553B\",\"#00cc96\",\"#ab63fa\",\"#FFA15A\",\"#19d3f3\",\"#FF6692\",\"#B6E880\",\"#FF97FF\",\"#FECB52\"],\"font\":{\"color\":\"#2a3f5f\"},\"geo\":{\"bgcolor\":\"white\",\"lakecolor\":\"white\",\"landcolor\":\"#E5ECF6\",\"showlakes\":true,\"showland\":true,\"subunitcolor\":\"white\"},\"hoverlabel\":{\"align\":\"left\"},\"hovermode\":\"closest\",\"mapbox\":{\"style\":\"light\"},\"paper_bgcolor\":\"white\",\"plot_bgcolor\":\"#E5ECF6\",\"polar\":{\"angularaxis\":{\"gridcolor\":\"white\",\"linecolor\":\"white\",\"ticks\":\"\"},\"bgcolor\":\"#E5ECF6\",\"radialaxis\":{\"gridcolor\":\"white\",\"linecolor\":\"white\",\"ticks\":\"\"}},\"scene\":{\"xaxis\":{\"backgroundcolor\":\"#E5ECF6\",\"gridcolor\":\"white\",\"gridwidth\":2,\"linecolor\":\"white\",\"showbackground\":true,\"ticks\":\"\",\"zerolinecolor\":\"white\"},\"yaxis\":{\"backgroundcolor\":\"#E5ECF6\",\"gridcolor\":\"white\",\"gridwidth\":2,\"linecolor\":\"white\",\"showbackground\":true,\"ticks\":\"\",\"zerolinecolor\":\"white\"},\"zaxis\":{\"backgroundcolor\":\"#E5ECF6\",\"gridcolor\":\"white\",\"gridwidth\":2,\"linecolor\":\"white\",\"showbackground\":true,\"ticks\":\"\",\"zerolinecolor\":\"white\"}},\"shapedefaults\":{\"line\":{\"color\":\"#2a3f5f\"}},\"ternary\":{\"aaxis\":{\"gridcolor\":\"white\",\"linecolor\":\"white\",\"ticks\":\"\"},\"baxis\":{\"gridcolor\":\"white\",\"linecolor\":\"white\",\"ticks\":\"\"},\"bgcolor\":\"#E5ECF6\",\"caxis\":{\"gridcolor\":\"white\",\"linecolor\":\"white\",\"ticks\":\"\"}},\"title\":{\"x\":0.05},\"xaxis\":{\"automargin\":true,\"gridcolor\":\"white\",\"linecolor\":\"white\",\"ticks\":\"\",\"title\":{\"standoff\":15},\"zerolinecolor\":\"white\",\"zerolinewidth\":2},\"yaxis\":{\"automargin\":true,\"gridcolor\":\"white\",\"linecolor\":\"white\",\"ticks\":\"\",\"title\":{\"standoff\":15},\"zerolinecolor\":\"white\",\"zerolinewidth\":2}}},\"width\":1000,\"xaxis\":{\"color\":\"black\",\"linecolor\":\"black\",\"linewidth\":1.5,\"mirror\":\"allticks\",\"showgrid\":false,\"showline\":true,\"ticklen\":10,\"ticks\":\"inside\",\"tickwidth\":1.5,\"title\":{\"text\":\"DFA\"},\"zeroline\":false},\"yaxis\":{\"color\":\"black\",\"linecolor\":\"black\",\"linewidth\":1.5,\"mirror\":\"allticks\",\"showgrid\":false,\"showline\":true,\"ticklen\":10,\"ticks\":\"inside\",\"tickwidth\":1.5,\"title\":{\"text\":\"likelihood of top 5\"},\"zeroline\":false}},                        {\"responsive\": true}                    ).then(function(){\n",
       "                            \n",
       "var gd = document.getElementById('2857d459-707d-499d-96ce-919f28b3e427');\n",
       "var x = new MutationObserver(function (mutations, observer) {{\n",
       "        var display = window.getComputedStyle(gd).display;\n",
       "        if (!display || display === 'none') {{\n",
       "            console.log([gd, 'removed!']);\n",
       "            Plotly.purge(gd);\n",
       "            observer.disconnect();\n",
       "        }}\n",
       "}});\n",
       "\n",
       "// Listen for the removal of the full notebook cells\n",
       "var notebookContainer = gd.closest('#notebook-container');\n",
       "if (notebookContainer) {{\n",
       "    x.observe(notebookContainer, {childList: true});\n",
       "}}\n",
       "\n",
       "// Listen for the clearing of the current output cell\n",
       "var outputEl = gd.closest('.output');\n",
       "if (outputEl) {{\n",
       "    x.observe(outputEl, {childList: true});\n",
       "}}\n",
       "\n",
       "                        })                };                });            </script>        </div>"
      ]
     },
     "metadata": {},
     "output_type": "display_data"
    }
   ],
   "source": [
    "### ----top-5----\n",
    "cutoff = 15\n",
    "top5_bfs = {}\n",
    "for f in functionals:\n",
    "    top5_bfs[f] = 0\n",
    "for _, row in df_sel_top.iterrows():\n",
    "    for f in row[\"best_fs\"]:\n",
    "        top5_bfs[f] += 1\n",
    "true_top5_bfs = {}\n",
    "for f in functionals:\n",
    "    true_top5_bfs[f] = 0\n",
    "for _, row in df_sel_top.iterrows():\n",
    "    for f in row[\"true_best_fs\"]:\n",
    "        true_top5_bfs[f] += 1\n",
    "\n",
    "for f in top5_bfs:\n",
    "    top5_bfs[f] += true_top5_bfs[f]*0.01\n",
    "\n",
    "from collections import Counter\n",
    "bfs = dict(sorted(top5_bfs.items(), key=lambda item: item[1], reverse=True))\n",
    "use_bfs_true = {}\n",
    "for f in list(bfs.keys())[:cutoff]:\n",
    "    use_bfs_true[f] = true_top5_bfs[f]\n",
    "data = [go.Bar(x=list(bfs.keys())[:cutoff],\n",
    "               y=np.array(list(bfs.values()))[:cutoff]*600./np.sum(list(bfs.values())), name='rec', marker_color='rgba(0, 0, 255, 0.5)'),\n",
    "        go.Bar(x=list(use_bfs_true.keys()),\n",
    "               y=np.array(list(use_bfs_true.values()))*600./np.sum(list(bfs.values())), name='true', marker_color='rgba(0, 255, 0, 0.5)'),\n",
    "       ]\n",
    "layout = go.Layout()\n",
    "layout.update(glob_layout)\n",
    "layout[\"xaxis\"].update({'title': \"DFA\"})\n",
    "layout[\"yaxis\"].update({'title': \"likelihood of top 5\", })\n",
    "layout.update(width=1000, height=500, boxmode='group')\n",
    "fig = dict(data=data, layout=layout)\n",
    "iplot(fig)"
   ]
  },
  {
   "cell_type": "code",
   "execution_count": 20,
   "metadata": {},
   "outputs": [
    {
     "data": {
      "text/plain": [
       "SpearmanrResult(correlation=0.8889328063241106, pvalue=3.5484148967409636e-16)"
      ]
     },
     "execution_count": 20,
     "metadata": {},
     "output_type": "execute_result"
    }
   ],
   "source": [
    "#---Calculate rank ordering of the recommender selected DFAs and the ground truth---\n",
    "TL_ranked_DFAs = list(bfs.keys())\n",
    "bfs_true = dict(sorted(true_top5_bfs.items(), key=lambda item: item[1], reverse=True))\n",
    "l1 = [ii for ii, _ in enumerate(list(bfs_true.keys()))]\n",
    "l2 = [list(TL_ranked_DFAs).index(f) for f in list(bfs_true.keys())]\n",
    "spearmanr(l1, l2)"
   ]
  },
  {
   "cell_type": "code",
   "execution_count": null,
   "metadata": {},
   "outputs": [],
   "source": []
  }
 ],
 "metadata": {
  "interpreter": {
   "hash": "02197d57b846bf4030307e7d4fd5fd8500cf81271d9626182cf86095ddeefa6c"
  },
  "kernelspec": {
   "display_name": "Python 3.8.13 ('mlp')",
   "language": "python",
   "name": "python3"
  },
  "language_info": {
   "codemirror_mode": {
    "name": "ipython",
    "version": 3
   },
   "file_extension": ".py",
   "mimetype": "text/x-python",
   "name": "python",
   "nbconvert_exporter": "python",
   "pygments_lexer": "ipython3",
   "version": "3.8.13"
  },
  "orig_nbformat": 4
 },
 "nbformat": 4,
 "nbformat_minor": 2
}
