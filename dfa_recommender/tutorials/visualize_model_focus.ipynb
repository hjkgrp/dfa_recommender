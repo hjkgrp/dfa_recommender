{
 "cells": [
  {
   "cell_type": "code",
   "execution_count": 1,
   "metadata": {},
   "outputs": [],
   "source": [
    "import numpy as np\n",
    "import pandas as pd\n",
    "import json\n",
    "import pickle\n",
    "import sklearn.preprocessing\n",
    "\n",
    "import torch\n",
    "\n",
    "from sklearn.metrics import r2_score, mean_squared_error, mean_absolute_error\n",
    "from scipy.stats import pearsonr, spearmanr"
   ]
  },
  {
   "cell_type": "markdown",
   "metadata": {},
   "source": [
    "##### load for plotting (with plotly)"
   ]
  },
  {
   "cell_type": "code",
   "execution_count": 2,
   "metadata": {},
   "outputs": [
    {
     "data": {
      "text/html": [
       "        <script type=\"text/javascript\">\n",
       "        window.PlotlyConfig = {MathJaxConfig: 'local'};\n",
       "        if (window.MathJax) {MathJax.Hub.Config({SVG: {font: \"STIX-Web\"}});}\n",
       "        if (typeof require !== 'undefined') {\n",
       "        require.undef(\"plotly\");\n",
       "        requirejs.config({\n",
       "            paths: {\n",
       "                'plotly': ['https://cdn.plot.ly/plotly-2.9.0.min']\n",
       "            }\n",
       "        });\n",
       "        require(['plotly'], function(Plotly) {\n",
       "            window._Plotly = Plotly;\n",
       "        });\n",
       "        }\n",
       "        </script>\n",
       "        "
      ]
     },
     "metadata": {},
     "output_type": "display_data"
    }
   ],
   "source": [
    "from _plotly_future_ import v4_subplots\n",
    "import plotly.graph_objs as go\n",
    "import plotly\n",
    "import plotly.express as px\n",
    "from plotly.offline import download_plotlyjs, init_notebook_mode, plot, iplot\n",
    "import plotly.figure_factory as ff\n",
    "plotly.io.orca.config.executable = '/Users/chenruduan/opt/anaconda3/envs/mols_newplotly/bin/orca'\n",
    "init_notebook_mode(connected=True)\n",
    "glob_layout = go.Layout(\n",
    "    font=dict(family='Helvetica', size=24, color='black'),\n",
    "    margin=dict(l=100, r=10, t=10, b=100),\n",
    "    xaxis=dict(showgrid=False,  zeroline=False, ticks=\"inside\", showline=True,\n",
    "               tickwidth=1.5, linewidth=1.5, ticklen=10, linecolor='black',\n",
    "               mirror=\"allticks\", color=\"black\"),\n",
    "    yaxis=dict(showgrid=False,  zeroline=False, ticks=\"inside\", showline=True,\n",
    "               tickwidth=1.5, linewidth=1.5, ticklen=10, linecolor='black',\n",
    "               mirror=\"allticks\", color=\"black\"),\n",
    "    legend_orientation=\"v\",\n",
    "    paper_bgcolor='rgba(255,255,255,100)',\n",
    "    plot_bgcolor='white',\n",
    ")\n",
    "blue = \"rgba(0, 0, 255, 1)\"\n",
    "red = \"rgba(255, 0, 0, 1)\"\n",
    "green = \"rgba(0, 196, 64, 1)\"\n",
    "gray = \"rgba(140, 140, 140, 1)\""
   ]
  },
  {
   "cell_type": "markdown",
   "metadata": {},
   "source": [
    "##### load for ML parts "
   ]
  },
  {
   "cell_type": "code",
   "execution_count": 3,
   "metadata": {},
   "outputs": [],
   "source": [
    "from dfa_recommender.net import GatedNetwork, MySoftplus, TiledMultiLayerNN, MLP, finalMLP, ElementalGate\n",
    "from torch.utils.data import DataLoader\n",
    "from dfa_recommender.dataset import SubsetDataset\n",
    "from torch.optim import Adam, AdamW\n",
    "from torch.optim.lr_scheduler import ExponentialLR\n",
    "from dfa_recommender.sampler import InfiniteSampler\n",
    "from dfa_recommender.vat import regVAT\n",
    "from dfa_recommender.ml_utils import numpy_to_dataset\n",
    "import copy"
   ]
  },
  {
   "cell_type": "markdown",
   "metadata": {},
   "source": [
    "### Load models and data files"
   ]
  },
  {
   "cell_type": "code",
   "execution_count": 4,
   "metadata": {},
   "outputs": [],
   "source": [
    "torch.set_num_threads(4)\n",
    "torch.manual_seed(0)\n",
    "np.random.seed(0)\n",
    "device = torch.device('cpu')\n",
    "num_workers = 0"
   ]
  },
  {
   "cell_type": "code",
   "execution_count": 5,
   "metadata": {},
   "outputs": [],
   "source": [
    "from pkg_resources import resource_filename, Requirement\n",
    "basepath = resource_filename(Requirement.parse(\"dfa_recommender\"), \"/dfa_recommender/data/\")"
   ]
  },
  {
   "cell_type": "code",
   "execution_count": 6,
   "metadata": {},
   "outputs": [
    {
     "name": "stderr",
     "output_type": "stream",
     "text": [
      "/Users/chenruduan/mambaforge/envs/mlp/lib/python3.8/site-packages/sklearn/base.py:329: UserWarning:\n",
      "\n",
      "Trying to unpickle estimator StandardScaler from version 0.24.2 when using version 1.0.2. This might lead to breaking code or invalid results. Use at your own risk. For more info please refer to:\n",
      "https://scikit-learn.org/stable/modules/model_persistence.html#security-maintainability-limitations\n",
      "\n"
     ]
    },
    {
     "data": {
      "text/plain": [
       "(300, 152)"
      ]
     },
     "execution_count": 6,
     "metadata": {},
     "output_type": "execute_result"
    }
   ],
   "source": [
    "X_org = pickle.load(open(basepath +  \"/X_vss452.pickle\", \"rb\")) ## features \n",
    "df_org = pd.read_csv(basepath + \"/VSS-452.csv\") ## csv file that stores the compuated vert SSE values at different methods\n",
    "y_scalers = pickle.load(open(basepath +  \"/abs-reg-y_scalers.pkl\", \"rb\")) ## sklearn.preprocessing.StandardScaler object created on the stats of training data\n",
    "tr_inds, te_inds = list(), list()\n",
    "for ii, val in enumerate(df_org[\"train\"].values):\n",
    "    if val == 1:\n",
    "        tr_inds.append(ii)\n",
    "    elif val == 0:\n",
    "        te_inds.append(ii)\n",
    "len(tr_inds), len(te_inds)"
   ]
  },
  {
   "cell_type": "code",
   "execution_count": 7,
   "metadata": {},
   "outputs": [
    {
     "name": "stdout",
     "output_type": "stream",
     "text": [
      "blyp_hfx_50 mae:  2.25792 scaled mae:  0.06365 R2:  0.7502 r val:  0.8681\n"
     ]
    }
   ],
   "source": [
    "bz = 16\n",
    "f = \"blyp_hfx_50\"\n",
    "\n",
    "X_tr, X_te = X_org[tr_inds], X_org[te_inds]\n",
    "y_t = np.abs(df_org[\"delta.%s.vertsse\"%f].values)\n",
    "y_scaler = y_scalers[f]\n",
    "y_t = y_scalers[f].transform(y_t.reshape(-1, 1)).reshape(-1, )\n",
    "y_tr, y_te = y_t[tr_inds], y_t[te_inds]\n",
    "name_tr, name_te = df_org['name'].values[tr_inds],  df_org['name'].values[te_inds]\n",
    "\n",
    "data_tr, data_te = numpy_to_dataset(X_tr, y_tr, regression=True), numpy_to_dataset(X_te, y_te, regression=True)\n",
    "tr_l = SubsetDataset(data_tr, list(range(len(data_tr))))\n",
    "te_l = SubsetDataset(data_te, list(range(len(data_te))))\n",
    "# print(\"sub labeled dataset length: \", len(tr_l), len(te_l))\n",
    "\n",
    "l_tr_iter = iter(DataLoader(tr_l, bz, num_workers=num_workers,\n",
    "                            sampler=InfiniteSampler(len(tr_l))))\n",
    "l_te_iter = iter(DataLoader(te_l, bz, num_workers=num_workers,\n",
    "                            sampler=InfiniteSampler(len(te_l))))\n",
    "te_loader = DataLoader(te_l, len(te_l), num_workers=num_workers)\n",
    "tr_l_loader = DataLoader(tr_l, len(tr_l), num_workers=num_workers)\n",
    "\n",
    "best_model = pickle.load(open(basepath + \"/models-trends/mergedG10-abs-reg-%s.pkl\"%f, \"rb\"))\n",
    "best_model.eval()\n",
    "preds = []\n",
    "labels = []\n",
    "with torch.no_grad():\n",
    "    for x, y in te_loader:\n",
    "        _pred = best_model(x.to(device))\n",
    "        preds.append(_pred.cpu().numpy())\n",
    "        labels.append(y.cpu().numpy())\n",
    "y_t = y_scaler.inverse_transform(labels[0].reshape(-1, 1)).reshape(-1, )\n",
    "y_hat = y_scaler.inverse_transform(preds[0].reshape(-1, 1)).reshape(-1, )\n",
    "non_nan_inds = np.where(~np.isnan(y_t))[0]\n",
    "y_t_super = np.copy(y_t)\n",
    "_y_t = y_t[non_nan_inds]\n",
    "_y_hat = y_hat[non_nan_inds]\n",
    "mae = mean_absolute_error(_y_hat, _y_t)\n",
    "scaled_mae = mae/(np.max(_y_t) - np.min(_y_t))\n",
    "R2 = r2_score(_y_t, _y_hat)\n",
    "rval = pearsonr(_y_t, _y_hat)[0]\n",
    "print(f, \"mae: \", round(mae, 5), \"scaled mae: \", round(scaled_mae, 5), \"R2: \", round(R2, 4), \"r val: \", round(rval, 4))"
   ]
  },
  {
   "cell_type": "markdown",
   "metadata": {},
   "source": [
    "### Adversarial attack map"
   ]
  },
  {
   "cell_type": "code",
   "execution_count": 8,
   "metadata": {},
   "outputs": [
    {
     "data": {
      "application/vnd.jupyter.widget-view+json": {
       "model_id": "27e07e19266f42a6b9f10aa09bcb56d4",
       "version_major": 2,
       "version_minor": 0
      },
      "text/plain": []
     },
     "metadata": {},
     "output_type": "display_data"
    },
    {
     "ename": "NameError",
     "evalue": "name 'psi4' is not defined",
     "output_type": "error",
     "traceback": [
      "\u001b[0;31m---------------------------------------------------------------------------\u001b[0m",
      "\u001b[0;31mNameError\u001b[0m                                 Traceback (most recent call last)",
      "\u001b[1;32m/Users/chenruduan/src/dfa_recommender/dfa_recommender/tutorials/visualize_model_focus.ipynb Cell 12'\u001b[0m in \u001b[0;36m<cell line: 2>\u001b[0;34m()\u001b[0m\n\u001b[1;32m      <a href='vscode-notebook-cell:/Users/chenruduan/src/dfa_recommender/dfa_recommender/tutorials/visualize_model_focus.ipynb#ch0000011?line=0'>1</a>\u001b[0m \u001b[39mimport\u001b[39;00m \u001b[39mnglview\u001b[39;00m\n\u001b[0;32m----> <a href='vscode-notebook-cell:/Users/chenruduan/src/dfa_recommender/dfa_recommender/tutorials/visualize_model_focus.ipynb#ch0000011?line=1'>2</a>\u001b[0m \u001b[39mfrom\u001b[39;00m \u001b[39mdfa_recommender\u001b[39;00m\u001b[39m.\u001b[39;00m\u001b[39mdf_class\u001b[39;00m \u001b[39mimport\u001b[39;00m get_molecule\n\u001b[1;32m      <a href='vscode-notebook-cell:/Users/chenruduan/src/dfa_recommender/dfa_recommender/tutorials/visualize_model_focus.ipynb#ch0000011?line=2'>3</a>\u001b[0m \u001b[39mfrom\u001b[39;00m \u001b[39mmolSimplify\u001b[39;00m\u001b[39m.\u001b[39;00m\u001b[39mClasses\u001b[39;00m\u001b[39m.\u001b[39;00m\u001b[39mmol3D\u001b[39;00m \u001b[39mimport\u001b[39;00m mol3D\n\u001b[1;32m      <a href='vscode-notebook-cell:/Users/chenruduan/src/dfa_recommender/dfa_recommender/tutorials/visualize_model_focus.ipynb#ch0000011?line=4'>5</a>\u001b[0m \u001b[39mdef\u001b[39;00m \u001b[39mfind_list_different\u001b[39m(A, B):\n",
      "File \u001b[0;32m~/src/dfa_recommender/dfa_recommender/df_class.py:12\u001b[0m, in \u001b[0;36m<module>\u001b[0;34m\u001b[0m\n\u001b[1;32m      <a href='file:///Users/chenruduan/src/dfa_recommender/dfa_recommender/df_class.py?line=7'>8</a>\u001b[0m \u001b[39mimport\u001b[39;00m \u001b[39mos\u001b[39;00m\n\u001b[1;32m      <a href='file:///Users/chenruduan/src/dfa_recommender/dfa_recommender/df_class.py?line=8'>9</a>\u001b[0m \u001b[39mfrom\u001b[39;00m \u001b[39mtyping\u001b[39;00m \u001b[39mimport\u001b[39;00m Tuple\n\u001b[0;32m---> <a href='file:///Users/chenruduan/src/dfa_recommender/dfa_recommender/df_class.py?line=11'>12</a>\u001b[0m \u001b[39mdef\u001b[39;00m \u001b[39mget_molecule\u001b[39m(xyzfile: \u001b[39mstr\u001b[39m, charge: \u001b[39mint\u001b[39m, spin: \u001b[39mint\u001b[39m, sym: \u001b[39mstr\u001b[39m \u001b[39m=\u001b[39m \u001b[39m'\u001b[39m\u001b[39mc1\u001b[39m\u001b[39m'\u001b[39m) \u001b[39m-\u001b[39m\u001b[39m>\u001b[39m Tuple[psi4\u001b[39m.\u001b[39mcore\u001b[39m.\u001b[39mMolecule, \u001b[39mlist\u001b[39m]:\n\u001b[1;32m     <a href='file:///Users/chenruduan/src/dfa_recommender/dfa_recommender/df_class.py?line=12'>13</a>\u001b[0m     \u001b[39m'''\u001b[39;00m\n\u001b[1;32m     <a href='file:///Users/chenruduan/src/dfa_recommender/dfa_recommender/df_class.py?line=13'>14</a>\u001b[0m \u001b[39m    Assemble a molecule object from xyzfile, charge and spin.\u001b[39;00m\n\u001b[1;32m     <a href='file:///Users/chenruduan/src/dfa_recommender/dfa_recommender/df_class.py?line=14'>15</a>\u001b[0m \n\u001b[0;32m   (...)\u001b[0m\n\u001b[1;32m     <a href='file:///Users/chenruduan/src/dfa_recommender/dfa_recommender/df_class.py?line=31'>32</a>\u001b[0m \u001b[39m        list of atom symbols\u001b[39;00m\n\u001b[1;32m     <a href='file:///Users/chenruduan/src/dfa_recommender/dfa_recommender/df_class.py?line=32'>33</a>\u001b[0m \u001b[39m    '''\u001b[39;00m\n\u001b[1;32m     <a href='file:///Users/chenruduan/src/dfa_recommender/dfa_recommender/df_class.py?line=33'>34</a>\u001b[0m     wholetext \u001b[39m=\u001b[39m \u001b[39m\"\u001b[39m\u001b[39m%s\u001b[39;00m\u001b[39m \u001b[39m\u001b[39m%s\u001b[39;00m\u001b[39m\\n\u001b[39;00m\u001b[39m\"\u001b[39m \u001b[39m%\u001b[39m (charge, spin)\n",
      "\u001b[0;31mNameError\u001b[0m: name 'psi4' is not defined"
     ]
    }
   ],
   "source": [
    "import nglview\n",
    "from dfa_recommender.df_class import get_molecule\n",
    "from molSimplify.Classes.mol3D import mol3D\n",
    "\n",
    "def find_list_different(A, B):\n",
    "    return list(set(A).difference(set(B)))\n",
    "\n",
    "def get_zeroth_shell(kulik_mol):\n",
    "    kulik_mol.ozcs = kulik_mol.findMetal()\n",
    "\n",
    "def get_first_shell(kulik_mol):\n",
    "    fcs = kulik_mol.get_fcs()\n",
    "    kulik_mol.ofcs = find_list_different(fcs, kulik_mol.ozcs) \n",
    "\n",
    "def get_second_shell(kulik_mol):\n",
    "    inds = []\n",
    "    for ii in kulik_mol.ofcs:\n",
    "        inds += kulik_mol.getBondedAtoms(ii)\n",
    "    inds = find_list_different(inds, kulik_mol.ozcs)\n",
    "    kulik_mol.oscs = find_list_different(inds, kulik_mol.ofcs)\n",
    "\n",
    "def get_global_shell(kulik_mol):\n",
    "    inds = list(range(kulik_mol.natoms))\n",
    "    inds = find_list_different(inds, kulik_mol.ozcs)\n",
    "    inds = find_list_different(inds, kulik_mol.ofcs)\n",
    "    kulik_mol.ogcs = find_list_different(inds, kulik_mol.oscs)"
   ]
  },
  {
   "cell_type": "markdown",
   "metadata": {},
   "source": [
    "##### attention with blyp/50%"
   ]
  },
  {
   "cell_type": "code",
   "execution_count": null,
   "metadata": {},
   "outputs": [],
   "source": [
    "eps = 1.\n",
    "xi = 1e-3\n",
    "alpha = 1.\n",
    "cut = True\n",
    "vat_criterion = regVAT(device, eps, xi, alpha, k=3, cut=cut)"
   ]
  },
  {
   "cell_type": "code",
   "execution_count": null,
   "metadata": {},
   "outputs": [],
   "source": [
    "l_tr_iter = iter(DataLoader(\n",
    "    tr_l, len(tr_l), num_workers=0,\n",
    "    ))\n",
    "l_x, l_y = next(l_tr_iter)\n",
    "l_x.shape"
   ]
  },
  {
   "cell_type": "code",
   "execution_count": null,
   "metadata": {},
   "outputs": [],
   "source": [
    "nl_x = l_x.numpy()\n",
    "mapping = {0: 1e-6, 1: 6, 2: 25, 3: 25, 4: 25, 5: 25, 6: 58*2, 7: 58*2, 8: 58*2, 9: 58*2}\n",
    "d_x = vat_criterion(best_model, l_x, return_adv=True).numpy()\n",
    "#d_aggr = np.mean(np.abs(d_x), axis=-1)\n",
    "d_aggr = np.zeros(shape=(d_x.shape[0], d_x.shape[1]))\n",
    "for ii, _d in enumerate(d_x):\n",
    "    for jj, __d in enumerate(_d):\n",
    "        nf = mapping[int(nl_x[ii, jj, -1])]\n",
    "        d_aggr[ii, jj] =  np.sum(np.abs(__d))/(3*nf +5)\n",
    "    "
   ]
  },
  {
   "cell_type": "code",
   "execution_count": null,
   "metadata": {},
   "outputs": [],
   "source": [
    "tot_mean_shell_focus = {\n",
    "    \"ozcs\": [], \"ofcs\": [], \"oscs\": [], \"ogcs\": []\n",
    "}\n",
    "for ii in range(l_x.shape[0]):\n",
    "    xyzfile = basepath + \"/optgeos/optgeo_%s.xyz\"% name_tr[ii]\n",
    "    kulik_mol = mol3D()\n",
    "    kulik_mol.readfromxyz(xyzfile)\n",
    "    get_zeroth_shell(kulik_mol=kulik_mol)\n",
    "    get_first_shell(kulik_mol=kulik_mol)\n",
    "    get_second_shell(kulik_mol=kulik_mol)\n",
    "    get_global_shell(kulik_mol=kulik_mol)\n",
    "    mean_shell_focus = {}\n",
    "    for attr in [\"ozcs\", \"ofcs\", \"oscs\", \"ogcs\"]:\n",
    "        inds = getattr(kulik_mol, attr)\n",
    "        mean_shell_focus[attr] = np.mean(d_aggr[ii][inds])\n",
    "        tot_mean_shell_focus[attr] += [mean_shell_focus[attr]]"
   ]
  },
  {
   "cell_type": "code",
   "execution_count": null,
   "metadata": {},
   "outputs": [],
   "source": [
    "res = {\n",
    "    \"mean\": list(),\n",
    "    \"std\": list(),\n",
    "}\n",
    "mapping = {\n",
    "    \"ozcs\": \"metal          \", \n",
    "    \"ofcs\": \"first shell    \", \n",
    "    \"oscs\": \"second shell   \", \n",
    "    \"ogcs\": \"third & global \",\n",
    "}\n",
    "print(\"shell           mean    std. dev.\")\n",
    "for attr in [\"ozcs\", \"ofcs\", \"oscs\", \"ogcs\"]:\n",
    "    print(mapping[attr], round(np.nanmean(tot_mean_shell_focus[attr]), 4), round(np.nanstd(tot_mean_shell_focus[attr]), 4))\n",
    "    res[\"mean\"].append(np.nanmean(tot_mean_shell_focus[attr]))\n",
    "    res[\"std\"].append(0.5*np.nanstd(tot_mean_shell_focus[attr]))"
   ]
  },
  {
   "cell_type": "markdown",
   "metadata": {},
   "source": [
    "##### model focus in blyp family"
   ]
  },
  {
   "cell_type": "code",
   "execution_count": null,
   "metadata": {},
   "outputs": [],
   "source": [
    "res_all = json.load(open(basepath + \"/focus_blyp_family.json\"))\n",
    "keys = [\"metal\", \"1st sphere\", \"2nd sphere\", \"global\"]\n",
    "data = []\n",
    "for f in res_all:\n",
    "    trace0 = go.Bar(\n",
    "        name=f,\n",
    "        x=keys, \n",
    "        y=res_all[f][\"mean\"],\n",
    "        opacity=1,\n",
    "        error_y=dict(type='data', array=res_all[f][\"std\"])\n",
    "    )\n",
    "    data += [trace0,]\n",
    "layout = go.Layout()\n",
    "layout.update(glob_layout)\n",
    "layout[\"yaxis\"].update({'title': \"model focus\", })\n",
    "layout.update(width=900, height=500, boxmode='group')\n",
    "fig = dict(data=data, layout=layout)\n",
    "iplot(fig)"
   ]
  },
  {
   "cell_type": "markdown",
   "metadata": {},
   "source": [
    "##### eample complexes"
   ]
  },
  {
   "cell_type": "code",
   "execution_count": null,
   "metadata": {},
   "outputs": [],
   "source": [
    "ii = 113\n",
    "xyzfile = basepath + \"/optgeos/optgeo_%s.xyz\"%name_tr[ii]\n",
    "try:\n",
    "    mol, _ = get_molecule(\n",
    "        xyzfile=xyzfile, \n",
    "        charge=2, spin=4\n",
    "        )\n",
    "except:\n",
    "    mol, _ = get_molecule(\n",
    "        xyzfile=xyzfile, \n",
    "        charge=2, spin=5\n",
    "        )\n",
    "kulik_mol = mol3D()\n",
    "kulik_mol.readfromxyz(xyzfile)\n",
    "rev_max = list(reversed((np.argsort(d_aggr[ii]))))[:7]\n",
    "fcs = kulik_mol.get_fcs()\n",
    "fdict = {}\n",
    "for _ii in range(kulik_mol.natoms):\n",
    "    fdict[\"%d-%s\"%(_ii, kulik_mol.getAtom(_ii).symbol())] = np.power(d_aggr[ii][_ii], 1./3)\n",
    "get_zeroth_shell(kulik_mol=kulik_mol)\n",
    "get_first_shell(kulik_mol=kulik_mol)\n",
    "get_second_shell(kulik_mol=kulik_mol)\n",
    "get_global_shell(kulik_mol=kulik_mol)\n",
    "mean_shell_focus = {}\n",
    "for attr in [\"ozcs\", \"ofcs\", \"oscs\", \"ogcs\"]:\n",
    "    inds = getattr(kulik_mol, attr)\n",
    "    mean_shell_focus[attr] = np.power(np.mean(d_aggr[ii][inds]), 1./3)\n",
    "print(\"xyzfile: \", xyzfile)\n",
    "print(\"catoms: \", [kulik_mol.getAtom(_ii).symbol() for _ii in fcs], fcs)\n",
    "print(\"actual max: \", [kulik_mol.getAtom(_ii).symbol() for _ii in rev_max], rev_max)\n",
    "print(\"diff compared to fcs: \", set(fcs).difference(set(rev_max)))\n",
    "print(fcs, list(reversed((np.argsort(d_aggr[ii])))))\n",
    "print(\"fdict: \", fdict)\n",
    "print(\"mean_shell_focus: \", mean_shell_focus)"
   ]
  },
  {
   "cell_type": "code",
   "execution_count": null,
   "metadata": {},
   "outputs": [],
   "source": [
    "view = nglview.show_psi4(mol)\n",
    "view.representations = [\n",
    "    {\"type\": \"cartoon\", \"params\": {\n",
    "        \"sele\": \"protein\", \"color\": \"residueindex\"\n",
    "    }},\n",
    "    {\"type\": \"ball+stick\", \"params\": {\n",
    "        \"sele\": \"hetero\"\n",
    "    }},\n",
    "    {\"type\": \"labels\", \"params\": {\n",
    "        \"labelType\": \"number\"\n",
    "    }}\n",
    "]\n",
    "view"
   ]
  },
  {
   "cell_type": "code",
   "execution_count": null,
   "metadata": {},
   "outputs": [],
   "source": [
    "type(view)"
   ]
  }
 ],
 "metadata": {
  "interpreter": {
   "hash": "02197d57b846bf4030307e7d4fd5fd8500cf81271d9626182cf86095ddeefa6c"
  },
  "kernelspec": {
   "display_name": "Python 3.8.13 ('mlp')",
   "language": "python",
   "name": "python3"
  },
  "language_info": {
   "codemirror_mode": {
    "name": "ipython",
    "version": 3
   },
   "file_extension": ".py",
   "mimetype": "text/x-python",
   "name": "python",
   "nbconvert_exporter": "python",
   "pygments_lexer": "ipython3",
   "version": "3.8.13"
  },
  "orig_nbformat": 4
 },
 "nbformat": 4,
 "nbformat_minor": 2
}
