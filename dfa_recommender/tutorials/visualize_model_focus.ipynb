{
 "cells": [
  {
   "cell_type": "code",
   "execution_count": 1,
   "metadata": {},
   "outputs": [],
   "source": [
    "import numpy as np\n",
    "import pandas as pd\n",
    "import json\n",
    "import pickle\n",
    "import sklearn.preprocessing\n",
    "\n",
    "import torch\n",
    "\n",
    "from sklearn.metrics import r2_score, mean_squared_error, mean_absolute_error\n",
    "from scipy.stats import pearsonr, spearmanr"
   ]
  },
  {
   "cell_type": "markdown",
   "metadata": {},
   "source": [
    "##### load for plotting (with plotly)"
   ]
  },
  {
   "cell_type": "code",
   "execution_count": 2,
   "metadata": {},
   "outputs": [
    {
     "data": {
      "text/html": [
       "        <script type=\"text/javascript\">\n",
       "        window.PlotlyConfig = {MathJaxConfig: 'local'};\n",
       "        if (window.MathJax) {MathJax.Hub.Config({SVG: {font: \"STIX-Web\"}});}\n",
       "        if (typeof require !== 'undefined') {\n",
       "        require.undef(\"plotly\");\n",
       "        requirejs.config({\n",
       "            paths: {\n",
       "                'plotly': ['https://cdn.plot.ly/plotly-latest.min']\n",
       "            }\n",
       "        });\n",
       "        require(['plotly'], function(Plotly) {\n",
       "            window._Plotly = Plotly;\n",
       "        });\n",
       "        }\n",
       "        </script>\n",
       "        "
      ]
     },
     "metadata": {},
     "output_type": "display_data"
    }
   ],
   "source": [
    "from _plotly_future_ import v4_subplots\n",
    "import plotly.graph_objs as go\n",
    "import plotly\n",
    "import plotly.express as px\n",
    "from plotly.offline import download_plotlyjs, init_notebook_mode, plot, iplot\n",
    "import plotly.figure_factory as ff\n",
    "plotly.io.orca.config.executable = '/Users/chenruduan/opt/anaconda3/envs/mols_newplotly/bin/orca'\n",
    "init_notebook_mode(connected=True)\n",
    "glob_layout = go.Layout(\n",
    "    font=dict(family='Helvetica', size=24, color='black'),\n",
    "    margin=dict(l=100, r=10, t=10, b=100),\n",
    "    xaxis=dict(showgrid=False,  zeroline=False, ticks=\"inside\", showline=True,\n",
    "               tickwidth=1.5, linewidth=1.5, ticklen=10, linecolor='black',\n",
    "               mirror=\"allticks\", color=\"black\"),\n",
    "    yaxis=dict(showgrid=False,  zeroline=False, ticks=\"inside\", showline=True,\n",
    "               tickwidth=1.5, linewidth=1.5, ticklen=10, linecolor='black',\n",
    "               mirror=\"allticks\", color=\"black\"),\n",
    "    legend_orientation=\"v\",\n",
    "    paper_bgcolor='rgba(255,255,255,100)',\n",
    "    plot_bgcolor='white',\n",
    ")\n",
    "blue = \"rgba(0, 0, 255, 1)\"\n",
    "red = \"rgba(255, 0, 0, 1)\"\n",
    "green = \"rgba(0, 196, 64, 1)\"\n",
    "gray = \"rgba(140, 140, 140, 1)\""
   ]
  },
  {
   "cell_type": "markdown",
   "metadata": {},
   "source": [
    "##### load for ML parts "
   ]
  },
  {
   "cell_type": "code",
   "execution_count": 3,
   "metadata": {},
   "outputs": [],
   "source": [
    "from dfa_recommender.net import GatedNetwork, MySoftplus, TiledMultiLayerNN, MLP, finalMLP, ElementalGate\n",
    "from torch.utils.data import DataLoader\n",
    "from dfa_recommender.dataset import SubsetDataset\n",
    "from torch.optim import Adam, AdamW\n",
    "from torch.optim.lr_scheduler import ExponentialLR\n",
    "from dfa_recommender.sampler import InfiniteSampler\n",
    "from dfa_recommender.vat import regVAT\n",
    "from dfa_recommender.ml_utils import numpy_to_dataset\n",
    "import copy"
   ]
  },
  {
   "cell_type": "markdown",
   "metadata": {},
   "source": [
    "### Load models and data files"
   ]
  },
  {
   "cell_type": "code",
   "execution_count": 4,
   "metadata": {},
   "outputs": [],
   "source": [
    "torch.set_num_threads(4)\n",
    "torch.manual_seed(0)\n",
    "np.random.seed(0)\n",
    "device = torch.device('cpu')\n",
    "num_workers = 0"
   ]
  },
  {
   "cell_type": "code",
   "execution_count": 5,
   "metadata": {},
   "outputs": [],
   "source": [
    "from pkg_resources import resource_filename, Requirement\n",
    "basepath = resource_filename(Requirement.parse(\"dfa_recommender\"), \"/dfa_recommender/data/\")"
   ]
  },
  {
   "cell_type": "code",
   "execution_count": 6,
   "metadata": {},
   "outputs": [
    {
     "name": "stderr",
     "output_type": "stream",
     "text": [
      "/opt/anaconda3/envs/mols_newplotly/lib/python3.7/site-packages/sklearn/base.py:334: UserWarning:\n",
      "\n",
      "Trying to unpickle estimator StandardScaler from version 0.24.2 when using version 0.23.2. This might lead to breaking code or invalid results. Use at your own risk.\n",
      "\n"
     ]
    },
    {
     "data": {
      "text/plain": [
       "((300,), (152,))"
      ]
     },
     "execution_count": 6,
     "metadata": {},
     "output_type": "execute_result"
    }
   ],
   "source": [
    "X_org = pickle.load(open(basepath +  \"/X.pickle\", \"rb\")) ## features \n",
    "df_org = pd.read_csv(basepath + \"/labeled_res.csv\") ## csv file that stores the compuated vert SSE values at different methods\n",
    "y_scalers = pickle.load(open(basepath +  \"/abs-reg-y_scalers.pkl\", \"rb\")) ## sklearn.preprocessing.StandardScaler object created on the stats of training data\n",
    "inds = pickle.load(open(basepath + \"/final_inds.pkl\", \"rb\")) ## random train/test partition where the models has been trained on\n",
    "super_tr_inds, super_te_inds = inds[\"train\"], inds[\"test\"]\n",
    "super_tr_inds.shape, super_te_inds.shape"
   ]
  },
  {
   "cell_type": "code",
   "execution_count": 7,
   "metadata": {},
   "outputs": [
    {
     "name": "stdout",
     "output_type": "stream",
     "text": [
      "blyp_hfx_50 mae:  2.25792 scaled mae:  0.06365 R2:  0.7502 r val:  0.8681\n"
     ]
    }
   ],
   "source": [
    "bz = 16\n",
    "f = \"blyp_hfx_50\"\n",
    "tr_inds, te_inds = super_tr_inds, super_te_inds\n",
    "name_tr, name_te = df_org['name'].values[tr_inds],  df_org['name'].values[te_inds]\n",
    "X_tr, X_te = X_org[super_tr_inds], X_org[super_te_inds]\n",
    "y_t = np.abs(df_org[\"delta.%s.vertsse\"%f].values)\n",
    "y_scaler = y_scalers[f]\n",
    "y_t = y_scalers[f].transform(y_t.reshape(-1, 1)).reshape(-1, )\n",
    "y_tr, y_te = y_t[super_tr_inds], y_t[super_te_inds]\n",
    "\n",
    "data_tr, data_te = numpy_to_dataset(X_tr, y_tr, regression=True), numpy_to_dataset(X_te, y_te, regression=True)\n",
    "tr_l = SubsetDataset(data_tr, list(range(len(data_tr))))\n",
    "te_l = SubsetDataset(data_te, list(range(len(data_te))))\n",
    "# print(\"sub labeled dataset length: \", len(tr_l), len(te_l))\n",
    "\n",
    "l_tr_iter = iter(DataLoader(tr_l, bz, num_workers=num_workers,\n",
    "                            sampler=InfiniteSampler(len(tr_l))))\n",
    "l_te_iter = iter(DataLoader(te_l, bz, num_workers=num_workers,\n",
    "                            sampler=InfiniteSampler(len(te_l))))\n",
    "te_loader = DataLoader(te_l, len(te_l), num_workers=num_workers)\n",
    "tr_l_loader = DataLoader(tr_l, len(tr_l), num_workers=num_workers)\n",
    "\n",
    "best_model = pickle.load(open(basepath + \"/models-trends/mergedG10-abs-reg-%s.pkl\"%f, \"rb\"))\n",
    "best_model.eval()\n",
    "preds = []\n",
    "labels = []\n",
    "with torch.no_grad():\n",
    "    for x, y in te_loader:\n",
    "        _pred = best_model(x.to(device))\n",
    "        preds.append(_pred.cpu().numpy())\n",
    "        labels.append(y.cpu().numpy())\n",
    "y_t = y_scaler.inverse_transform(labels[0].reshape(-1, 1)).reshape(-1, )\n",
    "y_hat = y_scaler.inverse_transform(preds[0].reshape(-1, 1)).reshape(-1, )\n",
    "non_nan_inds = np.where(~np.isnan(y_t))[0]\n",
    "y_t_super = np.copy(y_t)\n",
    "_y_t = y_t[non_nan_inds]\n",
    "_y_hat = y_hat[non_nan_inds]\n",
    "mae = mean_absolute_error(_y_hat, _y_t)\n",
    "scaled_mae = mae/(np.max(_y_t) - np.min(_y_t))\n",
    "R2 = r2_score(_y_t, _y_hat)\n",
    "rval = pearsonr(_y_t, _y_hat)[0]\n",
    "print(f, \"mae: \", round(mae, 5), \"scaled mae: \", round(scaled_mae, 5), \"R2: \", round(R2, 4), \"r val: \", round(rval, 4))"
   ]
  },
  {
   "cell_type": "markdown",
   "metadata": {},
   "source": [
    "### Adversarial attack map"
   ]
  },
  {
   "cell_type": "code",
   "execution_count": 8,
   "metadata": {},
   "outputs": [
    {
     "data": {
      "application/vnd.jupyter.widget-view+json": {
       "model_id": "472fa3be72aa408ba5ec70e87e90d2bc",
       "version_major": 2,
       "version_minor": 0
      },
      "text/plain": []
     },
     "metadata": {},
     "output_type": "display_data"
    }
   ],
   "source": [
    "import nglview\n",
    "from dfa_recommender.df_class import get_molecule\n",
    "from molSimplify.Classes.mol3D import mol3D\n",
    "\n",
    "def find_list_different(A, B):\n",
    "    return list(set(A).difference(set(B)))\n",
    "\n",
    "def get_zeroth_shell(kulik_mol):\n",
    "    kulik_mol.ozcs = kulik_mol.findMetal()\n",
    "\n",
    "def get_first_shell(kulik_mol):\n",
    "    fcs = kulik_mol.get_fcs()\n",
    "    kulik_mol.ofcs = find_list_different(fcs, kulik_mol.ozcs) \n",
    "\n",
    "def get_second_shell(kulik_mol):\n",
    "    inds = []\n",
    "    for ii in kulik_mol.ofcs:\n",
    "        inds += kulik_mol.getBondedAtoms(ii)\n",
    "    inds = find_list_different(inds, kulik_mol.ozcs)\n",
    "    kulik_mol.oscs = find_list_different(inds, kulik_mol.ofcs)\n",
    "\n",
    "def get_global_shell(kulik_mol):\n",
    "    inds = list(range(kulik_mol.natoms))\n",
    "    inds = find_list_different(inds, kulik_mol.ozcs)\n",
    "    inds = find_list_different(inds, kulik_mol.ofcs)\n",
    "    kulik_mol.ogcs = find_list_different(inds, kulik_mol.oscs)"
   ]
  },
  {
   "cell_type": "markdown",
   "metadata": {},
   "source": [
    "##### attention with blyp/50%"
   ]
  },
  {
   "cell_type": "code",
   "execution_count": 9,
   "metadata": {},
   "outputs": [],
   "source": [
    "eps = 1.\n",
    "xi = 1e-3\n",
    "alpha = 1.\n",
    "cut = True\n",
    "vat_criterion = regVAT(device, eps, xi, alpha, k=3, cut=cut)"
   ]
  },
  {
   "cell_type": "code",
   "execution_count": 10,
   "metadata": {},
   "outputs": [
    {
     "data": {
      "text/plain": [
       "torch.Size([300, 65, 182])"
      ]
     },
     "execution_count": 10,
     "metadata": {},
     "output_type": "execute_result"
    }
   ],
   "source": [
    "l_tr_iter = iter(DataLoader(\n",
    "    tr_l, len(tr_l), num_workers=0,\n",
    "    ))\n",
    "l_x, l_y = next(l_tr_iter)\n",
    "l_x.shape"
   ]
  },
  {
   "cell_type": "code",
   "execution_count": 11,
   "metadata": {},
   "outputs": [],
   "source": [
    "nl_x = l_x.numpy()\n",
    "mapping = {0: 1e-6, 1: 6, 2: 25, 3: 25, 4: 25, 5: 25, 6: 58*2, 7: 58*2, 8: 58*2, 9: 58*2}\n",
    "d_x = vat_criterion(best_model, l_x, return_adv=True).numpy()\n",
    "#d_aggr = np.mean(np.abs(d_x), axis=-1)\n",
    "d_aggr = np.zeros(shape=(d_x.shape[0], d_x.shape[1]))\n",
    "for ii, _d in enumerate(d_x):\n",
    "    for jj, __d in enumerate(_d):\n",
    "        nf = mapping[int(nl_x[ii, jj, -1])]\n",
    "        d_aggr[ii, jj] =  np.sum(np.abs(__d))/(3*nf +5)\n",
    "    "
   ]
  },
  {
   "cell_type": "code",
   "execution_count": 12,
   "metadata": {},
   "outputs": [
    {
     "name": "stderr",
     "output_type": "stream",
     "text": [
      "/opt/anaconda3/envs/mols_newplotly/lib/python3.7/site-packages/numpy/core/fromnumeric.py:3335: RuntimeWarning:\n",
      "\n",
      "Mean of empty slice.\n",
      "\n",
      "/opt/anaconda3/envs/mols_newplotly/lib/python3.7/site-packages/numpy/core/_methods.py:161: RuntimeWarning:\n",
      "\n",
      "invalid value encountered in double_scalars\n",
      "\n"
     ]
    }
   ],
   "source": [
    "tot_mean_shell_focus = {\n",
    "    \"ozcs\": [], \"ofcs\": [], \"oscs\": [], \"ogcs\": []\n",
    "}\n",
    "for ii in range(l_x.shape[0]):\n",
    "    xyzfile = basepath + \"/optgeos/optgeo_%s.xyz\"%name_tr[ii]\n",
    "    kulik_mol = mol3D()\n",
    "    kulik_mol.readfromxyz(xyzfile)\n",
    "    get_zeroth_shell(kulik_mol=kulik_mol)\n",
    "    get_first_shell(kulik_mol=kulik_mol)\n",
    "    get_second_shell(kulik_mol=kulik_mol)\n",
    "    get_global_shell(kulik_mol=kulik_mol)\n",
    "    mean_shell_focus = {}\n",
    "    for attr in [\"ozcs\", \"ofcs\", \"oscs\", \"ogcs\"]:\n",
    "        inds = getattr(kulik_mol, attr)\n",
    "        mean_shell_focus[attr] = np.mean(d_aggr[ii][inds])\n",
    "        tot_mean_shell_focus[attr] += [mean_shell_focus[attr]]"
   ]
  },
  {
   "cell_type": "code",
   "execution_count": 13,
   "metadata": {},
   "outputs": [
    {
     "name": "stdout",
     "output_type": "stream",
     "text": [
      "shell           mean    std. dev.\n",
      "metal           0.0239 0.0058\n",
      "first shell     0.0126 0.0085\n",
      "second shell    0.0076 0.0071\n",
      "third & global  0.0031 0.0022\n"
     ]
    }
   ],
   "source": [
    "res = {\n",
    "    \"mean\": list(),\n",
    "    \"std\": list(),\n",
    "}\n",
    "mapping = {\n",
    "    \"ozcs\": \"metal          \", \n",
    "    \"ofcs\": \"first shell    \", \n",
    "    \"oscs\": \"second shell   \", \n",
    "    \"ogcs\": \"third & global \",\n",
    "}\n",
    "print(\"shell           mean    std. dev.\")\n",
    "for attr in [\"ozcs\", \"ofcs\", \"oscs\", \"ogcs\"]:\n",
    "    print(mapping[attr], round(np.nanmean(tot_mean_shell_focus[attr]), 4), round(np.nanstd(tot_mean_shell_focus[attr]), 4))\n",
    "    res[\"mean\"].append(np.nanmean(tot_mean_shell_focus[attr]))\n",
    "    res[\"std\"].append(0.5*np.nanstd(tot_mean_shell_focus[attr]))"
   ]
  },
  {
   "cell_type": "markdown",
   "metadata": {},
   "source": [
    "##### model focus in blyp family"
   ]
  },
  {
   "cell_type": "code",
   "execution_count": 14,
   "metadata": {},
   "outputs": [
    {
     "data": {
      "application/vnd.plotly.v1+json": {
       "config": {
        "linkText": "Export to plot.ly",
        "plotlyServerURL": "https://plot.ly",
        "showLink": false
       },
       "data": [
        {
         "error_y": {
          "array": [
           0.0024088045661225664,
           0.0041602107069068275,
           0.003960150928275931,
           0.001338161857087512
          ],
          "type": "data"
         },
         "name": "blyp",
         "opacity": 1,
         "type": "bar",
         "x": [
          "metal",
          "1st sphere",
          "2nd sphere",
          "global"
         ],
         "y": [
          0.02436276503443699,
          0.013900481281075744,
          0.0064960146468347035,
          0.0030203468728434765
         ]
        },
        {
         "error_y": {
          "array": [
           0.0020254181885130044,
           0.0034625668161716726,
           0.002995756035964373,
           0.0013941584192404845
          ],
          "type": "data"
         },
         "name": "b3lyp",
         "opacity": 1,
         "type": "bar",
         "x": [
          "metal",
          "1st sphere",
          "2nd sphere",
          "global"
         ],
         "y": [
          0.02514402541366245,
          0.014319381754276238,
          0.007162886326612046,
          0.002703123823740945
         ]
        },
        {
         "error_y": {
          "array": [
           0.002729887062121581,
           0.004214635313369848,
           0.0035583066940235194,
           0.001136256400424988
          ],
          "type": "data"
         },
         "name": "blyp/50%",
         "opacity": 1,
         "type": "bar",
         "x": [
          "metal",
          "1st sphere",
          "2nd sphere",
          "global"
         ],
         "y": [
          0.024051893582699553,
          0.01268596703961695,
          0.007672459436815257,
          0.003170945411095282
         ]
        },
        {
         "error_y": {
          "array": [
           0.003071394343628406,
           0.003690234105361366,
           0.004075123293567747,
           0.001805678681274122
          ],
          "type": "data"
         },
         "name": "b2gpplyp",
         "opacity": 1,
         "type": "bar",
         "x": [
          "metal",
          "1st sphere",
          "2nd sphere",
          "global"
         ],
         "y": [
          0.022697161674480944,
          0.012855762883035075,
          0.009753982960618414,
          0.004456034561600239
         ]
        },
        {
         "error_y": {
          "array": [
           0.004,
           0.004,
           0.004,
           0.004
          ],
          "type": "data"
         },
         "name": "untrained",
         "opacity": 1,
         "type": "bar",
         "x": [
          "metal",
          "1st sphere",
          "2nd sphere",
          "global"
         ],
         "y": [
          0.0175,
          0.0175,
          0.0175,
          0.0175
         ]
        }
       ],
       "layout": {
        "boxmode": "group",
        "font": {
         "color": "black",
         "family": "Helvetica",
         "size": 24
        },
        "height": 500,
        "legend": {
         "orientation": "v"
        },
        "margin": {
         "b": 100,
         "l": 100,
         "r": 10,
         "t": 10
        },
        "paper_bgcolor": "rgba(255,255,255,100)",
        "plot_bgcolor": "white",
        "template": {
         "data": {
          "bar": [
           {
            "error_x": {
             "color": "#2a3f5f"
            },
            "error_y": {
             "color": "#2a3f5f"
            },
            "marker": {
             "line": {
              "color": "#E5ECF6",
              "width": 0.5
             }
            },
            "type": "bar"
           }
          ],
          "barpolar": [
           {
            "marker": {
             "line": {
              "color": "#E5ECF6",
              "width": 0.5
             }
            },
            "type": "barpolar"
           }
          ],
          "carpet": [
           {
            "aaxis": {
             "endlinecolor": "#2a3f5f",
             "gridcolor": "white",
             "linecolor": "white",
             "minorgridcolor": "white",
             "startlinecolor": "#2a3f5f"
            },
            "baxis": {
             "endlinecolor": "#2a3f5f",
             "gridcolor": "white",
             "linecolor": "white",
             "minorgridcolor": "white",
             "startlinecolor": "#2a3f5f"
            },
            "type": "carpet"
           }
          ],
          "choropleth": [
           {
            "colorbar": {
             "outlinewidth": 0,
             "ticks": ""
            },
            "type": "choropleth"
           }
          ],
          "contour": [
           {
            "colorbar": {
             "outlinewidth": 0,
             "ticks": ""
            },
            "colorscale": [
             [
              0,
              "#0d0887"
             ],
             [
              0.1111111111111111,
              "#46039f"
             ],
             [
              0.2222222222222222,
              "#7201a8"
             ],
             [
              0.3333333333333333,
              "#9c179e"
             ],
             [
              0.4444444444444444,
              "#bd3786"
             ],
             [
              0.5555555555555556,
              "#d8576b"
             ],
             [
              0.6666666666666666,
              "#ed7953"
             ],
             [
              0.7777777777777778,
              "#fb9f3a"
             ],
             [
              0.8888888888888888,
              "#fdca26"
             ],
             [
              1,
              "#f0f921"
             ]
            ],
            "type": "contour"
           }
          ],
          "contourcarpet": [
           {
            "colorbar": {
             "outlinewidth": 0,
             "ticks": ""
            },
            "type": "contourcarpet"
           }
          ],
          "heatmap": [
           {
            "colorbar": {
             "outlinewidth": 0,
             "ticks": ""
            },
            "colorscale": [
             [
              0,
              "#0d0887"
             ],
             [
              0.1111111111111111,
              "#46039f"
             ],
             [
              0.2222222222222222,
              "#7201a8"
             ],
             [
              0.3333333333333333,
              "#9c179e"
             ],
             [
              0.4444444444444444,
              "#bd3786"
             ],
             [
              0.5555555555555556,
              "#d8576b"
             ],
             [
              0.6666666666666666,
              "#ed7953"
             ],
             [
              0.7777777777777778,
              "#fb9f3a"
             ],
             [
              0.8888888888888888,
              "#fdca26"
             ],
             [
              1,
              "#f0f921"
             ]
            ],
            "type": "heatmap"
           }
          ],
          "heatmapgl": [
           {
            "colorbar": {
             "outlinewidth": 0,
             "ticks": ""
            },
            "colorscale": [
             [
              0,
              "#0d0887"
             ],
             [
              0.1111111111111111,
              "#46039f"
             ],
             [
              0.2222222222222222,
              "#7201a8"
             ],
             [
              0.3333333333333333,
              "#9c179e"
             ],
             [
              0.4444444444444444,
              "#bd3786"
             ],
             [
              0.5555555555555556,
              "#d8576b"
             ],
             [
              0.6666666666666666,
              "#ed7953"
             ],
             [
              0.7777777777777778,
              "#fb9f3a"
             ],
             [
              0.8888888888888888,
              "#fdca26"
             ],
             [
              1,
              "#f0f921"
             ]
            ],
            "type": "heatmapgl"
           }
          ],
          "histogram": [
           {
            "marker": {
             "colorbar": {
              "outlinewidth": 0,
              "ticks": ""
             }
            },
            "type": "histogram"
           }
          ],
          "histogram2d": [
           {
            "colorbar": {
             "outlinewidth": 0,
             "ticks": ""
            },
            "colorscale": [
             [
              0,
              "#0d0887"
             ],
             [
              0.1111111111111111,
              "#46039f"
             ],
             [
              0.2222222222222222,
              "#7201a8"
             ],
             [
              0.3333333333333333,
              "#9c179e"
             ],
             [
              0.4444444444444444,
              "#bd3786"
             ],
             [
              0.5555555555555556,
              "#d8576b"
             ],
             [
              0.6666666666666666,
              "#ed7953"
             ],
             [
              0.7777777777777778,
              "#fb9f3a"
             ],
             [
              0.8888888888888888,
              "#fdca26"
             ],
             [
              1,
              "#f0f921"
             ]
            ],
            "type": "histogram2d"
           }
          ],
          "histogram2dcontour": [
           {
            "colorbar": {
             "outlinewidth": 0,
             "ticks": ""
            },
            "colorscale": [
             [
              0,
              "#0d0887"
             ],
             [
              0.1111111111111111,
              "#46039f"
             ],
             [
              0.2222222222222222,
              "#7201a8"
             ],
             [
              0.3333333333333333,
              "#9c179e"
             ],
             [
              0.4444444444444444,
              "#bd3786"
             ],
             [
              0.5555555555555556,
              "#d8576b"
             ],
             [
              0.6666666666666666,
              "#ed7953"
             ],
             [
              0.7777777777777778,
              "#fb9f3a"
             ],
             [
              0.8888888888888888,
              "#fdca26"
             ],
             [
              1,
              "#f0f921"
             ]
            ],
            "type": "histogram2dcontour"
           }
          ],
          "mesh3d": [
           {
            "colorbar": {
             "outlinewidth": 0,
             "ticks": ""
            },
            "type": "mesh3d"
           }
          ],
          "parcoords": [
           {
            "line": {
             "colorbar": {
              "outlinewidth": 0,
              "ticks": ""
             }
            },
            "type": "parcoords"
           }
          ],
          "pie": [
           {
            "automargin": true,
            "type": "pie"
           }
          ],
          "scatter": [
           {
            "marker": {
             "colorbar": {
              "outlinewidth": 0,
              "ticks": ""
             }
            },
            "type": "scatter"
           }
          ],
          "scatter3d": [
           {
            "line": {
             "colorbar": {
              "outlinewidth": 0,
              "ticks": ""
             }
            },
            "marker": {
             "colorbar": {
              "outlinewidth": 0,
              "ticks": ""
             }
            },
            "type": "scatter3d"
           }
          ],
          "scattercarpet": [
           {
            "marker": {
             "colorbar": {
              "outlinewidth": 0,
              "ticks": ""
             }
            },
            "type": "scattercarpet"
           }
          ],
          "scattergeo": [
           {
            "marker": {
             "colorbar": {
              "outlinewidth": 0,
              "ticks": ""
             }
            },
            "type": "scattergeo"
           }
          ],
          "scattergl": [
           {
            "marker": {
             "colorbar": {
              "outlinewidth": 0,
              "ticks": ""
             }
            },
            "type": "scattergl"
           }
          ],
          "scattermapbox": [
           {
            "marker": {
             "colorbar": {
              "outlinewidth": 0,
              "ticks": ""
             }
            },
            "type": "scattermapbox"
           }
          ],
          "scatterpolar": [
           {
            "marker": {
             "colorbar": {
              "outlinewidth": 0,
              "ticks": ""
             }
            },
            "type": "scatterpolar"
           }
          ],
          "scatterpolargl": [
           {
            "marker": {
             "colorbar": {
              "outlinewidth": 0,
              "ticks": ""
             }
            },
            "type": "scatterpolargl"
           }
          ],
          "scatterternary": [
           {
            "marker": {
             "colorbar": {
              "outlinewidth": 0,
              "ticks": ""
             }
            },
            "type": "scatterternary"
           }
          ],
          "surface": [
           {
            "colorbar": {
             "outlinewidth": 0,
             "ticks": ""
            },
            "colorscale": [
             [
              0,
              "#0d0887"
             ],
             [
              0.1111111111111111,
              "#46039f"
             ],
             [
              0.2222222222222222,
              "#7201a8"
             ],
             [
              0.3333333333333333,
              "#9c179e"
             ],
             [
              0.4444444444444444,
              "#bd3786"
             ],
             [
              0.5555555555555556,
              "#d8576b"
             ],
             [
              0.6666666666666666,
              "#ed7953"
             ],
             [
              0.7777777777777778,
              "#fb9f3a"
             ],
             [
              0.8888888888888888,
              "#fdca26"
             ],
             [
              1,
              "#f0f921"
             ]
            ],
            "type": "surface"
           }
          ],
          "table": [
           {
            "cells": {
             "fill": {
              "color": "#EBF0F8"
             },
             "line": {
              "color": "white"
             }
            },
            "header": {
             "fill": {
              "color": "#C8D4E3"
             },
             "line": {
              "color": "white"
             }
            },
            "type": "table"
           }
          ]
         },
         "layout": {
          "annotationdefaults": {
           "arrowcolor": "#2a3f5f",
           "arrowhead": 0,
           "arrowwidth": 1
          },
          "coloraxis": {
           "colorbar": {
            "outlinewidth": 0,
            "ticks": ""
           }
          },
          "colorscale": {
           "diverging": [
            [
             0,
             "#8e0152"
            ],
            [
             0.1,
             "#c51b7d"
            ],
            [
             0.2,
             "#de77ae"
            ],
            [
             0.3,
             "#f1b6da"
            ],
            [
             0.4,
             "#fde0ef"
            ],
            [
             0.5,
             "#f7f7f7"
            ],
            [
             0.6,
             "#e6f5d0"
            ],
            [
             0.7,
             "#b8e186"
            ],
            [
             0.8,
             "#7fbc41"
            ],
            [
             0.9,
             "#4d9221"
            ],
            [
             1,
             "#276419"
            ]
           ],
           "sequential": [
            [
             0,
             "#0d0887"
            ],
            [
             0.1111111111111111,
             "#46039f"
            ],
            [
             0.2222222222222222,
             "#7201a8"
            ],
            [
             0.3333333333333333,
             "#9c179e"
            ],
            [
             0.4444444444444444,
             "#bd3786"
            ],
            [
             0.5555555555555556,
             "#d8576b"
            ],
            [
             0.6666666666666666,
             "#ed7953"
            ],
            [
             0.7777777777777778,
             "#fb9f3a"
            ],
            [
             0.8888888888888888,
             "#fdca26"
            ],
            [
             1,
             "#f0f921"
            ]
           ],
           "sequentialminus": [
            [
             0,
             "#0d0887"
            ],
            [
             0.1111111111111111,
             "#46039f"
            ],
            [
             0.2222222222222222,
             "#7201a8"
            ],
            [
             0.3333333333333333,
             "#9c179e"
            ],
            [
             0.4444444444444444,
             "#bd3786"
            ],
            [
             0.5555555555555556,
             "#d8576b"
            ],
            [
             0.6666666666666666,
             "#ed7953"
            ],
            [
             0.7777777777777778,
             "#fb9f3a"
            ],
            [
             0.8888888888888888,
             "#fdca26"
            ],
            [
             1,
             "#f0f921"
            ]
           ]
          },
          "colorway": [
           "#636efa",
           "#EF553B",
           "#00cc96",
           "#ab63fa",
           "#FFA15A",
           "#19d3f3",
           "#FF6692",
           "#B6E880",
           "#FF97FF",
           "#FECB52"
          ],
          "font": {
           "color": "#2a3f5f"
          },
          "geo": {
           "bgcolor": "white",
           "lakecolor": "white",
           "landcolor": "#E5ECF6",
           "showlakes": true,
           "showland": true,
           "subunitcolor": "white"
          },
          "hoverlabel": {
           "align": "left"
          },
          "hovermode": "closest",
          "mapbox": {
           "style": "light"
          },
          "paper_bgcolor": "white",
          "plot_bgcolor": "#E5ECF6",
          "polar": {
           "angularaxis": {
            "gridcolor": "white",
            "linecolor": "white",
            "ticks": ""
           },
           "bgcolor": "#E5ECF6",
           "radialaxis": {
            "gridcolor": "white",
            "linecolor": "white",
            "ticks": ""
           }
          },
          "scene": {
           "xaxis": {
            "backgroundcolor": "#E5ECF6",
            "gridcolor": "white",
            "gridwidth": 2,
            "linecolor": "white",
            "showbackground": true,
            "ticks": "",
            "zerolinecolor": "white"
           },
           "yaxis": {
            "backgroundcolor": "#E5ECF6",
            "gridcolor": "white",
            "gridwidth": 2,
            "linecolor": "white",
            "showbackground": true,
            "ticks": "",
            "zerolinecolor": "white"
           },
           "zaxis": {
            "backgroundcolor": "#E5ECF6",
            "gridcolor": "white",
            "gridwidth": 2,
            "linecolor": "white",
            "showbackground": true,
            "ticks": "",
            "zerolinecolor": "white"
           }
          },
          "shapedefaults": {
           "line": {
            "color": "#2a3f5f"
           }
          },
          "ternary": {
           "aaxis": {
            "gridcolor": "white",
            "linecolor": "white",
            "ticks": ""
           },
           "baxis": {
            "gridcolor": "white",
            "linecolor": "white",
            "ticks": ""
           },
           "bgcolor": "#E5ECF6",
           "caxis": {
            "gridcolor": "white",
            "linecolor": "white",
            "ticks": ""
           }
          },
          "title": {
           "x": 0.05
          },
          "xaxis": {
           "automargin": true,
           "gridcolor": "white",
           "linecolor": "white",
           "ticks": "",
           "title": {
            "standoff": 15
           },
           "zerolinecolor": "white",
           "zerolinewidth": 2
          },
          "yaxis": {
           "automargin": true,
           "gridcolor": "white",
           "linecolor": "white",
           "ticks": "",
           "title": {
            "standoff": 15
           },
           "zerolinecolor": "white",
           "zerolinewidth": 2
          }
         }
        },
        "width": 900,
        "xaxis": {
         "color": "black",
         "linecolor": "black",
         "linewidth": 1.5,
         "mirror": "allticks",
         "showgrid": false,
         "showline": true,
         "ticklen": 10,
         "ticks": "inside",
         "tickwidth": 1.5,
         "zeroline": false
        },
        "yaxis": {
         "color": "black",
         "linecolor": "black",
         "linewidth": 1.5,
         "mirror": "allticks",
         "showgrid": false,
         "showline": true,
         "ticklen": 10,
         "ticks": "inside",
         "tickwidth": 1.5,
         "title": {
          "text": "model focus"
         },
         "zeroline": false
        }
       }
      },
      "text/html": [
       "<div>\n",
       "        \n",
       "        \n",
       "            <div id=\"6aa7cfb0-ded8-4b8f-9ac9-310e0842f9d6\" class=\"plotly-graph-div\" style=\"height:500px; width:900px;\"></div>\n",
       "            <script type=\"text/javascript\">\n",
       "                require([\"plotly\"], function(Plotly) {\n",
       "                    window.PLOTLYENV=window.PLOTLYENV || {};\n",
       "                    \n",
       "                if (document.getElementById(\"6aa7cfb0-ded8-4b8f-9ac9-310e0842f9d6\")) {\n",
       "                    Plotly.newPlot(\n",
       "                        '6aa7cfb0-ded8-4b8f-9ac9-310e0842f9d6',\n",
       "                        [{\"error_y\": {\"array\": [0.0024088045661225664, 0.0041602107069068275, 0.003960150928275931, 0.001338161857087512], \"type\": \"data\"}, \"name\": \"blyp\", \"opacity\": 1, \"type\": \"bar\", \"x\": [\"metal\", \"1st sphere\", \"2nd sphere\", \"global\"], \"y\": [0.02436276503443699, 0.013900481281075744, 0.0064960146468347035, 0.0030203468728434765]}, {\"error_y\": {\"array\": [0.0020254181885130044, 0.0034625668161716726, 0.002995756035964373, 0.0013941584192404845], \"type\": \"data\"}, \"name\": \"b3lyp\", \"opacity\": 1, \"type\": \"bar\", \"x\": [\"metal\", \"1st sphere\", \"2nd sphere\", \"global\"], \"y\": [0.02514402541366245, 0.014319381754276238, 0.007162886326612046, 0.002703123823740945]}, {\"error_y\": {\"array\": [0.002729887062121581, 0.004214635313369848, 0.0035583066940235194, 0.001136256400424988], \"type\": \"data\"}, \"name\": \"blyp/50%\", \"opacity\": 1, \"type\": \"bar\", \"x\": [\"metal\", \"1st sphere\", \"2nd sphere\", \"global\"], \"y\": [0.024051893582699553, 0.01268596703961695, 0.007672459436815257, 0.003170945411095282]}, {\"error_y\": {\"array\": [0.003071394343628406, 0.003690234105361366, 0.004075123293567747, 0.001805678681274122], \"type\": \"data\"}, \"name\": \"b2gpplyp\", \"opacity\": 1, \"type\": \"bar\", \"x\": [\"metal\", \"1st sphere\", \"2nd sphere\", \"global\"], \"y\": [0.022697161674480944, 0.012855762883035075, 0.009753982960618414, 0.004456034561600239]}, {\"error_y\": {\"array\": [0.004, 0.004, 0.004, 0.004], \"type\": \"data\"}, \"name\": \"untrained\", \"opacity\": 1, \"type\": \"bar\", \"x\": [\"metal\", \"1st sphere\", \"2nd sphere\", \"global\"], \"y\": [0.0175, 0.0175, 0.0175, 0.0175]}],\n",
       "                        {\"boxmode\": \"group\", \"font\": {\"color\": \"black\", \"family\": \"Helvetica\", \"size\": 24}, \"height\": 500, \"legend\": {\"orientation\": \"v\"}, \"margin\": {\"b\": 100, \"l\": 100, \"r\": 10, \"t\": 10}, \"paper_bgcolor\": \"rgba(255,255,255,100)\", \"plot_bgcolor\": \"white\", \"template\": {\"data\": {\"bar\": [{\"error_x\": {\"color\": \"#2a3f5f\"}, \"error_y\": {\"color\": \"#2a3f5f\"}, \"marker\": {\"line\": {\"color\": \"#E5ECF6\", \"width\": 0.5}}, \"type\": \"bar\"}], \"barpolar\": [{\"marker\": {\"line\": {\"color\": \"#E5ECF6\", \"width\": 0.5}}, \"type\": \"barpolar\"}], \"carpet\": [{\"aaxis\": {\"endlinecolor\": \"#2a3f5f\", \"gridcolor\": \"white\", \"linecolor\": \"white\", \"minorgridcolor\": \"white\", \"startlinecolor\": \"#2a3f5f\"}, \"baxis\": {\"endlinecolor\": \"#2a3f5f\", \"gridcolor\": \"white\", \"linecolor\": \"white\", \"minorgridcolor\": \"white\", \"startlinecolor\": \"#2a3f5f\"}, \"type\": \"carpet\"}], \"choropleth\": [{\"colorbar\": {\"outlinewidth\": 0, \"ticks\": \"\"}, \"type\": \"choropleth\"}], \"contour\": [{\"colorbar\": {\"outlinewidth\": 0, \"ticks\": \"\"}, \"colorscale\": [[0.0, \"#0d0887\"], [0.1111111111111111, \"#46039f\"], [0.2222222222222222, \"#7201a8\"], [0.3333333333333333, \"#9c179e\"], [0.4444444444444444, \"#bd3786\"], [0.5555555555555556, \"#d8576b\"], [0.6666666666666666, \"#ed7953\"], [0.7777777777777778, \"#fb9f3a\"], [0.8888888888888888, \"#fdca26\"], [1.0, \"#f0f921\"]], \"type\": \"contour\"}], \"contourcarpet\": [{\"colorbar\": {\"outlinewidth\": 0, \"ticks\": \"\"}, \"type\": \"contourcarpet\"}], \"heatmap\": [{\"colorbar\": {\"outlinewidth\": 0, \"ticks\": \"\"}, \"colorscale\": [[0.0, \"#0d0887\"], [0.1111111111111111, \"#46039f\"], [0.2222222222222222, \"#7201a8\"], [0.3333333333333333, \"#9c179e\"], [0.4444444444444444, \"#bd3786\"], [0.5555555555555556, \"#d8576b\"], [0.6666666666666666, \"#ed7953\"], [0.7777777777777778, \"#fb9f3a\"], [0.8888888888888888, \"#fdca26\"], [1.0, \"#f0f921\"]], \"type\": \"heatmap\"}], \"heatmapgl\": [{\"colorbar\": {\"outlinewidth\": 0, \"ticks\": \"\"}, \"colorscale\": [[0.0, \"#0d0887\"], [0.1111111111111111, \"#46039f\"], [0.2222222222222222, \"#7201a8\"], [0.3333333333333333, \"#9c179e\"], [0.4444444444444444, \"#bd3786\"], [0.5555555555555556, \"#d8576b\"], [0.6666666666666666, \"#ed7953\"], [0.7777777777777778, \"#fb9f3a\"], [0.8888888888888888, \"#fdca26\"], [1.0, \"#f0f921\"]], \"type\": \"heatmapgl\"}], \"histogram\": [{\"marker\": {\"colorbar\": {\"outlinewidth\": 0, \"ticks\": \"\"}}, \"type\": \"histogram\"}], \"histogram2d\": [{\"colorbar\": {\"outlinewidth\": 0, \"ticks\": \"\"}, \"colorscale\": [[0.0, \"#0d0887\"], [0.1111111111111111, \"#46039f\"], [0.2222222222222222, \"#7201a8\"], [0.3333333333333333, \"#9c179e\"], [0.4444444444444444, \"#bd3786\"], [0.5555555555555556, \"#d8576b\"], [0.6666666666666666, \"#ed7953\"], [0.7777777777777778, \"#fb9f3a\"], [0.8888888888888888, \"#fdca26\"], [1.0, \"#f0f921\"]], \"type\": \"histogram2d\"}], \"histogram2dcontour\": [{\"colorbar\": {\"outlinewidth\": 0, \"ticks\": \"\"}, \"colorscale\": [[0.0, \"#0d0887\"], [0.1111111111111111, \"#46039f\"], [0.2222222222222222, \"#7201a8\"], [0.3333333333333333, \"#9c179e\"], [0.4444444444444444, \"#bd3786\"], [0.5555555555555556, \"#d8576b\"], [0.6666666666666666, \"#ed7953\"], [0.7777777777777778, \"#fb9f3a\"], [0.8888888888888888, \"#fdca26\"], [1.0, \"#f0f921\"]], \"type\": \"histogram2dcontour\"}], \"mesh3d\": [{\"colorbar\": {\"outlinewidth\": 0, \"ticks\": \"\"}, \"type\": \"mesh3d\"}], \"parcoords\": [{\"line\": {\"colorbar\": {\"outlinewidth\": 0, \"ticks\": \"\"}}, \"type\": \"parcoords\"}], \"pie\": [{\"automargin\": true, \"type\": \"pie\"}], \"scatter\": [{\"marker\": {\"colorbar\": {\"outlinewidth\": 0, \"ticks\": \"\"}}, \"type\": \"scatter\"}], \"scatter3d\": [{\"line\": {\"colorbar\": {\"outlinewidth\": 0, \"ticks\": \"\"}}, \"marker\": {\"colorbar\": {\"outlinewidth\": 0, \"ticks\": \"\"}}, \"type\": \"scatter3d\"}], \"scattercarpet\": [{\"marker\": {\"colorbar\": {\"outlinewidth\": 0, \"ticks\": \"\"}}, \"type\": \"scattercarpet\"}], \"scattergeo\": [{\"marker\": {\"colorbar\": {\"outlinewidth\": 0, \"ticks\": \"\"}}, \"type\": \"scattergeo\"}], \"scattergl\": [{\"marker\": {\"colorbar\": {\"outlinewidth\": 0, \"ticks\": \"\"}}, \"type\": \"scattergl\"}], \"scattermapbox\": [{\"marker\": {\"colorbar\": {\"outlinewidth\": 0, \"ticks\": \"\"}}, \"type\": \"scattermapbox\"}], \"scatterpolar\": [{\"marker\": {\"colorbar\": {\"outlinewidth\": 0, \"ticks\": \"\"}}, \"type\": \"scatterpolar\"}], \"scatterpolargl\": [{\"marker\": {\"colorbar\": {\"outlinewidth\": 0, \"ticks\": \"\"}}, \"type\": \"scatterpolargl\"}], \"scatterternary\": [{\"marker\": {\"colorbar\": {\"outlinewidth\": 0, \"ticks\": \"\"}}, \"type\": \"scatterternary\"}], \"surface\": [{\"colorbar\": {\"outlinewidth\": 0, \"ticks\": \"\"}, \"colorscale\": [[0.0, \"#0d0887\"], [0.1111111111111111, \"#46039f\"], [0.2222222222222222, \"#7201a8\"], [0.3333333333333333, \"#9c179e\"], [0.4444444444444444, \"#bd3786\"], [0.5555555555555556, \"#d8576b\"], [0.6666666666666666, \"#ed7953\"], [0.7777777777777778, \"#fb9f3a\"], [0.8888888888888888, \"#fdca26\"], [1.0, \"#f0f921\"]], \"type\": \"surface\"}], \"table\": [{\"cells\": {\"fill\": {\"color\": \"#EBF0F8\"}, \"line\": {\"color\": \"white\"}}, \"header\": {\"fill\": {\"color\": \"#C8D4E3\"}, \"line\": {\"color\": \"white\"}}, \"type\": \"table\"}]}, \"layout\": {\"annotationdefaults\": {\"arrowcolor\": \"#2a3f5f\", \"arrowhead\": 0, \"arrowwidth\": 1}, \"coloraxis\": {\"colorbar\": {\"outlinewidth\": 0, \"ticks\": \"\"}}, \"colorscale\": {\"diverging\": [[0, \"#8e0152\"], [0.1, \"#c51b7d\"], [0.2, \"#de77ae\"], [0.3, \"#f1b6da\"], [0.4, \"#fde0ef\"], [0.5, \"#f7f7f7\"], [0.6, \"#e6f5d0\"], [0.7, \"#b8e186\"], [0.8, \"#7fbc41\"], [0.9, \"#4d9221\"], [1, \"#276419\"]], \"sequential\": [[0.0, \"#0d0887\"], [0.1111111111111111, \"#46039f\"], [0.2222222222222222, \"#7201a8\"], [0.3333333333333333, \"#9c179e\"], [0.4444444444444444, \"#bd3786\"], [0.5555555555555556, \"#d8576b\"], [0.6666666666666666, \"#ed7953\"], [0.7777777777777778, \"#fb9f3a\"], [0.8888888888888888, \"#fdca26\"], [1.0, \"#f0f921\"]], \"sequentialminus\": [[0.0, \"#0d0887\"], [0.1111111111111111, \"#46039f\"], [0.2222222222222222, \"#7201a8\"], [0.3333333333333333, \"#9c179e\"], [0.4444444444444444, \"#bd3786\"], [0.5555555555555556, \"#d8576b\"], [0.6666666666666666, \"#ed7953\"], [0.7777777777777778, \"#fb9f3a\"], [0.8888888888888888, \"#fdca26\"], [1.0, \"#f0f921\"]]}, \"colorway\": [\"#636efa\", \"#EF553B\", \"#00cc96\", \"#ab63fa\", \"#FFA15A\", \"#19d3f3\", \"#FF6692\", \"#B6E880\", \"#FF97FF\", \"#FECB52\"], \"font\": {\"color\": \"#2a3f5f\"}, \"geo\": {\"bgcolor\": \"white\", \"lakecolor\": \"white\", \"landcolor\": \"#E5ECF6\", \"showlakes\": true, \"showland\": true, \"subunitcolor\": \"white\"}, \"hoverlabel\": {\"align\": \"left\"}, \"hovermode\": \"closest\", \"mapbox\": {\"style\": \"light\"}, \"paper_bgcolor\": \"white\", \"plot_bgcolor\": \"#E5ECF6\", \"polar\": {\"angularaxis\": {\"gridcolor\": \"white\", \"linecolor\": \"white\", \"ticks\": \"\"}, \"bgcolor\": \"#E5ECF6\", \"radialaxis\": {\"gridcolor\": \"white\", \"linecolor\": \"white\", \"ticks\": \"\"}}, \"scene\": {\"xaxis\": {\"backgroundcolor\": \"#E5ECF6\", \"gridcolor\": \"white\", \"gridwidth\": 2, \"linecolor\": \"white\", \"showbackground\": true, \"ticks\": \"\", \"zerolinecolor\": \"white\"}, \"yaxis\": {\"backgroundcolor\": \"#E5ECF6\", \"gridcolor\": \"white\", \"gridwidth\": 2, \"linecolor\": \"white\", \"showbackground\": true, \"ticks\": \"\", \"zerolinecolor\": \"white\"}, \"zaxis\": {\"backgroundcolor\": \"#E5ECF6\", \"gridcolor\": \"white\", \"gridwidth\": 2, \"linecolor\": \"white\", \"showbackground\": true, \"ticks\": \"\", \"zerolinecolor\": \"white\"}}, \"shapedefaults\": {\"line\": {\"color\": \"#2a3f5f\"}}, \"ternary\": {\"aaxis\": {\"gridcolor\": \"white\", \"linecolor\": \"white\", \"ticks\": \"\"}, \"baxis\": {\"gridcolor\": \"white\", \"linecolor\": \"white\", \"ticks\": \"\"}, \"bgcolor\": \"#E5ECF6\", \"caxis\": {\"gridcolor\": \"white\", \"linecolor\": \"white\", \"ticks\": \"\"}}, \"title\": {\"x\": 0.05}, \"xaxis\": {\"automargin\": true, \"gridcolor\": \"white\", \"linecolor\": \"white\", \"ticks\": \"\", \"title\": {\"standoff\": 15}, \"zerolinecolor\": \"white\", \"zerolinewidth\": 2}, \"yaxis\": {\"automargin\": true, \"gridcolor\": \"white\", \"linecolor\": \"white\", \"ticks\": \"\", \"title\": {\"standoff\": 15}, \"zerolinecolor\": \"white\", \"zerolinewidth\": 2}}}, \"width\": 900, \"xaxis\": {\"color\": \"black\", \"linecolor\": \"black\", \"linewidth\": 1.5, \"mirror\": \"allticks\", \"showgrid\": false, \"showline\": true, \"ticklen\": 10, \"ticks\": \"inside\", \"tickwidth\": 1.5, \"zeroline\": false}, \"yaxis\": {\"color\": \"black\", \"linecolor\": \"black\", \"linewidth\": 1.5, \"mirror\": \"allticks\", \"showgrid\": false, \"showline\": true, \"ticklen\": 10, \"ticks\": \"inside\", \"tickwidth\": 1.5, \"title\": {\"text\": \"model focus\"}, \"zeroline\": false}},\n",
       "                        {\"responsive\": true}\n",
       "                    ).then(function(){\n",
       "                            \n",
       "var gd = document.getElementById('6aa7cfb0-ded8-4b8f-9ac9-310e0842f9d6');\n",
       "var x = new MutationObserver(function (mutations, observer) {{\n",
       "        var display = window.getComputedStyle(gd).display;\n",
       "        if (!display || display === 'none') {{\n",
       "            console.log([gd, 'removed!']);\n",
       "            Plotly.purge(gd);\n",
       "            observer.disconnect();\n",
       "        }}\n",
       "}});\n",
       "\n",
       "// Listen for the removal of the full notebook cells\n",
       "var notebookContainer = gd.closest('#notebook-container');\n",
       "if (notebookContainer) {{\n",
       "    x.observe(notebookContainer, {childList: true});\n",
       "}}\n",
       "\n",
       "// Listen for the clearing of the current output cell\n",
       "var outputEl = gd.closest('.output');\n",
       "if (outputEl) {{\n",
       "    x.observe(outputEl, {childList: true});\n",
       "}}\n",
       "\n",
       "                        })\n",
       "                };\n",
       "                });\n",
       "            </script>\n",
       "        </div>"
      ]
     },
     "metadata": {},
     "output_type": "display_data"
    }
   ],
   "source": [
    "res_all = json.load(open(basepath + \"/focus_blyp_family.json\"))\n",
    "keys = [\"metal\", \"1st sphere\", \"2nd sphere\", \"global\"]\n",
    "data = []\n",
    "for f in res_all:\n",
    "    trace0 = go.Bar(\n",
    "        name=f,\n",
    "        x=keys, \n",
    "        y=res_all[f][\"mean\"],\n",
    "        opacity=1,\n",
    "        error_y=dict(type='data', array=res_all[f][\"std\"])\n",
    "    )\n",
    "    data += [trace0,]\n",
    "layout = go.Layout()\n",
    "layout.update(glob_layout)\n",
    "layout[\"yaxis\"].update({'title': \"model focus\", })\n",
    "layout.update(width=900, height=500, boxmode='group')\n",
    "fig = dict(data=data, layout=layout)\n",
    "iplot(fig)"
   ]
  },
  {
   "cell_type": "markdown",
   "metadata": {},
   "source": [
    "##### eample complexes"
   ]
  },
  {
   "cell_type": "code",
   "execution_count": 15,
   "metadata": {},
   "outputs": [
    {
     "name": "stdout",
     "output_type": "stream",
     "text": [
      "\n",
      "\n",
      "c: [2.0]\n",
      "fc: [2.0]\n",
      "m: [4]\n",
      "fm: [4]\n",
      "xyzfile:  /Users/duanchenru/Packages/dfa_recommender/dfa_recommender/data//optgeos/optgeo_cr_3_formaldehyde-O-1-0_formaldehyde-O-1-0_formaldehyde-O-1-0_carbonyl-C-0-0_formaldehyde-O-1-0_carbonyl-C-0-0_4.xyz\n",
      "catoms:  ['Cr', 'O', 'O', 'O', 'C', 'O', 'C'] [0, 2, 6, 10, 13, 16, 19]\n",
      "actual max:  ['O', 'O', 'O', 'O', 'Cr', 'O', 'O'] [14, 6, 20, 16, 0, 2, 10]\n",
      "diff compared to fcs:  {19, 13}\n",
      "[0, 2, 6, 10, 13, 16, 19] [14, 6, 20, 16, 0, 2, 10, 13, 19, 1, 5, 9, 15, 11, 8, 12, 3, 4, 7, 17, 18, 25, 29, 28, 27, 26, 21, 24, 23, 22, 31, 30, 64, 63, 33, 62, 61, 60, 59, 58, 57, 56, 55, 54, 53, 52, 51, 50, 49, 48, 47, 46, 45, 44, 43, 42, 41, 40, 39, 38, 37, 36, 35, 34, 32]\n",
      "fdict:  {'0-Cr': 0.2869639828658928, '1-C': 0.1946729340190818, '2-O': 0.2844666467746047, '3-H': 0.11708791137809774, '4-H': 0.11681454831124312, '5-C': 0.19312697662108494, '6-O': 0.29103725342420533, '7-H': 0.11618757687473329, '8-H': 0.11726944013213049, '9-C': 0.1917684838459078, '10-O': 0.26754684747937046, '11-H': 0.1187115988247126, '12-H': 0.11717328229282786, '13-C': 0.19543134043573895, '14-O': 0.29277331873632906, '15-C': 0.1912483350181965, '16-O': 0.288184914939568, '17-H': 0.11592520202852197, '18-H': 0.11579566991335985, '19-C': 0.1947366371175604, '20-O': 0.28936773084003636}\n",
      "mean_shell_focus:  {'ozcs': 0.2869639828658928, 'ofcs': 0.26012269895028983, 'oscs': 0.23508676450407356, 'ogcs': 0.11687730313533777}\n"
     ]
    }
   ],
   "source": [
    "ii = 113\n",
    "xyzfile = basepath + \"/optgeos/optgeo_%s.xyz\"%name_tr[ii]\n",
    "try:\n",
    "    mol, _ = get_molecule(\n",
    "        xyzfile=xyzfile, \n",
    "        charge=2, spin=4\n",
    "        )\n",
    "except:\n",
    "    mol, _ = get_molecule(\n",
    "        xyzfile=xyzfile, \n",
    "        charge=2, spin=5\n",
    "        )\n",
    "kulik_mol = mol3D()\n",
    "kulik_mol.readfromxyz(xyzfile)\n",
    "rev_max = list(reversed((np.argsort(d_aggr[ii]))))[:7]\n",
    "fcs = kulik_mol.get_fcs()\n",
    "fdict = {}\n",
    "for _ii in range(kulik_mol.natoms):\n",
    "    fdict[\"%d-%s\"%(_ii, kulik_mol.getAtom(_ii).symbol())] = np.power(d_aggr[ii][_ii], 1./3)\n",
    "get_zeroth_shell(kulik_mol=kulik_mol)\n",
    "get_first_shell(kulik_mol=kulik_mol)\n",
    "get_second_shell(kulik_mol=kulik_mol)\n",
    "get_global_shell(kulik_mol=kulik_mol)\n",
    "mean_shell_focus = {}\n",
    "for attr in [\"ozcs\", \"ofcs\", \"oscs\", \"ogcs\"]:\n",
    "    inds = getattr(kulik_mol, attr)\n",
    "    mean_shell_focus[attr] = np.power(np.mean(d_aggr[ii][inds]), 1./3)\n",
    "print(\"xyzfile: \", xyzfile)\n",
    "print(\"catoms: \", [kulik_mol.getAtom(_ii).symbol() for _ii in fcs], fcs)\n",
    "print(\"actual max: \", [kulik_mol.getAtom(_ii).symbol() for _ii in rev_max], rev_max)\n",
    "print(\"diff compared to fcs: \", set(fcs).difference(set(rev_max)))\n",
    "print(fcs, list(reversed((np.argsort(d_aggr[ii])))))\n",
    "print(\"fdict: \", fdict)\n",
    "print(\"mean_shell_focus: \", mean_shell_focus)"
   ]
  },
  {
   "cell_type": "code",
   "execution_count": 16,
   "metadata": {},
   "outputs": [
    {
     "data": {
      "application/vnd.jupyter.widget-view+json": {
       "model_id": "630b5a1deb8a4b029c6427481da943ba",
       "version_major": 2,
       "version_minor": 0
      },
      "text/plain": [
       "NGLWidget()"
      ]
     },
     "metadata": {},
     "output_type": "display_data"
    }
   ],
   "source": [
    "view = nglview.show_psi4(mol)\n",
    "view.representations = [\n",
    "    {\"type\": \"cartoon\", \"params\": {\n",
    "        \"sele\": \"protein\", \"color\": \"residueindex\"\n",
    "    }},\n",
    "    {\"type\": \"ball+stick\", \"params\": {\n",
    "        \"sele\": \"hetero\"\n",
    "    }},\n",
    "    {\"type\": \"labels\", \"params\": {\n",
    "        \"labelType\": \"number\"\n",
    "    }}\n",
    "]\n",
    "view"
   ]
  },
  {
   "cell_type": "code",
   "execution_count": null,
   "metadata": {},
   "outputs": [],
   "source": [
    "type(view)"
   ]
  },
  {
   "cell_type": "code",
   "execution_count": null,
   "metadata": {},
   "outputs": [],
   "source": []
  }
 ],
 "metadata": {
  "interpreter": {
   "hash": "5fa7bb0cfb890cb2a4de35aa357566cef819d26e492eb32f921a3a3c7e0592ac"
  },
  "kernelspec": {
   "display_name": "Python 3.7.13 ('dfa_rec')",
   "language": "python",
   "name": "python3"
  },
  "language_info": {
   "codemirror_mode": {
    "name": "ipython",
    "version": 3
   },
   "file_extension": ".py",
   "mimetype": "text/x-python",
   "name": "python",
   "nbconvert_exporter": "python",
   "pygments_lexer": "ipython3",
   "version": "3.7.7"
  },
  "orig_nbformat": 4
 },
 "nbformat": 4,
 "nbformat_minor": 2
}
