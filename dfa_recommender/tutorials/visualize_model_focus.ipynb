{
 "cells": [
  {
   "cell_type": "code",
   "execution_count": 1,
   "metadata": {},
   "outputs": [],
   "source": [
    "import numpy as np\n",
    "import pandas as pd\n",
    "import json\n",
    "import pickle\n",
    "import sklearn.preprocessing\n",
    "\n",
    "import torch\n",
    "\n",
    "from sklearn.metrics import r2_score, mean_squared_error, mean_absolute_error\n",
    "from scipy.stats import pearsonr, spearmanr"
   ]
  },
  {
   "cell_type": "markdown",
   "metadata": {},
   "source": [
    "##### load for plotting (with plotly)"
   ]
  },
  {
   "cell_type": "code",
   "execution_count": 2,
   "metadata": {},
   "outputs": [
    {
     "data": {
      "text/html": [
       "        <script type=\"text/javascript\">\n",
       "        window.PlotlyConfig = {MathJaxConfig: 'local'};\n",
       "        if (window.MathJax) {MathJax.Hub.Config({SVG: {font: \"STIX-Web\"}});}\n",
       "        if (typeof require !== 'undefined') {\n",
       "        require.undef(\"plotly\");\n",
       "        requirejs.config({\n",
       "            paths: {\n",
       "                'plotly': ['https://cdn.plot.ly/plotly-latest.min']\n",
       "            }\n",
       "        });\n",
       "        require(['plotly'], function(Plotly) {\n",
       "            window._Plotly = Plotly;\n",
       "        });\n",
       "        }\n",
       "        </script>\n",
       "        "
      ]
     },
     "metadata": {},
     "output_type": "display_data"
    }
   ],
   "source": [
    "from _plotly_future_ import v4_subplots\n",
    "import plotly.graph_objs as go\n",
    "import plotly\n",
    "import plotly.express as px\n",
    "from plotly.offline import download_plotlyjs, init_notebook_mode, plot, iplot\n",
    "import plotly.figure_factory as ff\n",
    "plotly.io.orca.config.executable = '/Users/chenruduan/opt/anaconda3/envs/mols_newplotly/bin/orca'\n",
    "init_notebook_mode(connected=True)\n",
    "glob_layout = go.Layout(\n",
    "    font=dict(family='Helvetica', size=24, color='black'),\n",
    "    margin=dict(l=100, r=10, t=10, b=100),\n",
    "    xaxis=dict(showgrid=False,  zeroline=False, ticks=\"inside\", showline=True,\n",
    "               tickwidth=1.5, linewidth=1.5, ticklen=10, linecolor='black',\n",
    "               mirror=\"allticks\", color=\"black\"),\n",
    "    yaxis=dict(showgrid=False,  zeroline=False, ticks=\"inside\", showline=True,\n",
    "               tickwidth=1.5, linewidth=1.5, ticklen=10, linecolor='black',\n",
    "               mirror=\"allticks\", color=\"black\"),\n",
    "    legend_orientation=\"v\",\n",
    "    paper_bgcolor='rgba(255,255,255,100)',\n",
    "    plot_bgcolor='white',\n",
    ")\n",
    "blue = \"rgba(0, 0, 255, 1)\"\n",
    "red = \"rgba(255, 0, 0, 1)\"\n",
    "green = \"rgba(0, 196, 64, 1)\"\n",
    "gray = \"rgba(140, 140, 140, 1)\""
   ]
  },
  {
   "cell_type": "markdown",
   "metadata": {},
   "source": [
    "##### load for ML parts "
   ]
  },
  {
   "cell_type": "code",
   "execution_count": 3,
   "metadata": {},
   "outputs": [],
   "source": [
    "from dfa_recommender.net import GatedNetwork, MySoftplus, TiledMultiLayerNN, MLP, finalMLP, ElementalGate\n",
    "from torch.utils.data import DataLoader\n",
    "from dfa_recommender.dataset import SubsetDataset\n",
    "from torch.optim import Adam, AdamW\n",
    "from torch.optim.lr_scheduler import ExponentialLR\n",
    "from dfa_recommender.sampler import InfiniteSampler\n",
    "from dfa_recommender.vat import regVAT\n",
    "from dfa_recommender.ml_utils import numpy_to_dataset\n",
    "import copy"
   ]
  },
  {
   "cell_type": "markdown",
   "metadata": {},
   "source": [
    "### Load models and data files"
   ]
  },
  {
   "cell_type": "code",
   "execution_count": 4,
   "metadata": {},
   "outputs": [],
   "source": [
    "torch.set_num_threads(4)\n",
    "torch.manual_seed(0)\n",
    "np.random.seed(0)\n",
    "device = torch.device('cpu')\n",
    "num_workers = 0"
   ]
  },
  {
   "cell_type": "code",
   "execution_count": 5,
   "metadata": {},
   "outputs": [],
   "source": [
    "from pkg_resources import resource_filename, Requirement\n",
    "basepath = resource_filename(Requirement.parse(\"dfa_recommender\"), \"/dfa_recommender/data/\")"
   ]
  },
  {
   "cell_type": "code",
   "execution_count": 6,
   "metadata": {},
   "outputs": [
    {
     "name": "stderr",
     "output_type": "stream",
     "text": [
      "/Users/chenruduan/opt/anaconda3/envs/mols_newplotly/lib/python3.7/site-packages/sklearn/base.py:318: UserWarning:\n",
      "\n",
      "Trying to unpickle estimator StandardScaler from version 0.24.2 when using version 0.22.1. This might lead to breaking code or invalid results. Use at your own risk.\n",
      "\n"
     ]
    },
    {
     "data": {
      "text/plain": [
       "(300, 152)"
      ]
     },
     "execution_count": 6,
     "metadata": {},
     "output_type": "execute_result"
    }
   ],
   "source": [
    "X_org = pickle.load(open(basepath +  \"/X_vss452.pickle\", \"rb\")) ## features \n",
    "df_org = pd.read_csv(basepath + \"/VSS-452.csv\") ## csv file that stores the compuated vert SSE values at different methods\n",
    "y_scalers = pickle.load(open(basepath +  \"/abs-reg-y_scalers.pkl\", \"rb\")) ## sklearn.preprocessing.StandardScaler object created on the stats of training data\n",
    "tr_inds, te_inds = list(), list()\n",
    "for ii, val in enumerate(df_org[\"train\"].values):\n",
    "    if val == 1:\n",
    "        tr_inds.append(ii)\n",
    "    elif val == 0:\n",
    "        te_inds.append(ii)\n",
    "len(tr_inds), len(te_inds)"
   ]
  },
  {
   "cell_type": "code",
   "execution_count": 7,
   "metadata": {},
   "outputs": [
    {
     "name": "stdout",
     "output_type": "stream",
     "text": [
      "blyp_hfx_50 mae:  2.25792 scaled mae:  0.06365 R2:  0.7502 r val:  0.8681\n"
     ]
    }
   ],
   "source": [
    "bz = 16\n",
    "f = \"blyp_hfx_50\"\n",
    "name_tr, name_te = df_org['name'].values[tr_inds],  df_org['name'].values[te_inds]\n",
    "X_tr, X_te = X_org[tr_inds], X_org[te_inds]\n",
    "y_t = np.abs(df_org[\"delta.%s.vertsse\"%f].values)\n",
    "y_scaler = y_scalers[f]\n",
    "y_t = y_scalers[f].transform(y_t.reshape(-1, 1)).reshape(-1, )\n",
    "y_tr, y_te = y_t[tr_inds], y_t[te_inds]\n",
    "\n",
    "data_tr, data_te = numpy_to_dataset(X_tr, y_tr, regression=True), numpy_to_dataset(X_te, y_te, regression=True)\n",
    "tr_l = SubsetDataset(data_tr, list(range(len(data_tr))))\n",
    "te_l = SubsetDataset(data_te, list(range(len(data_te))))\n",
    "# print(\"sub labeled dataset length: \", len(tr_l), len(te_l))\n",
    "\n",
    "l_tr_iter = iter(DataLoader(tr_l, bz, num_workers=num_workers,\n",
    "                            sampler=InfiniteSampler(len(tr_l))))\n",
    "l_te_iter = iter(DataLoader(te_l, bz, num_workers=num_workers,\n",
    "                            sampler=InfiniteSampler(len(te_l))))\n",
    "te_loader = DataLoader(te_l, len(te_l), num_workers=num_workers)\n",
    "tr_l_loader = DataLoader(tr_l, len(tr_l), num_workers=num_workers)\n",
    "\n",
    "best_model = pickle.load(open(basepath + \"/models-trends/mergedG10-abs-reg-%s.pkl\"%f, \"rb\"))\n",
    "best_model.eval()\n",
    "preds = []\n",
    "labels = []\n",
    "with torch.no_grad():\n",
    "    for x, y in te_loader:\n",
    "        _pred = best_model(x.to(device))\n",
    "        preds.append(_pred.cpu().numpy())\n",
    "        labels.append(y.cpu().numpy())\n",
    "y_t = y_scaler.inverse_transform(labels[0].reshape(-1, 1)).reshape(-1, )\n",
    "y_hat = y_scaler.inverse_transform(preds[0].reshape(-1, 1)).reshape(-1, )\n",
    "non_nan_inds = np.where(~np.isnan(y_t))[0]\n",
    "y_t_super = np.copy(y_t)\n",
    "_y_t = y_t[non_nan_inds]\n",
    "_y_hat = y_hat[non_nan_inds]\n",
    "mae = mean_absolute_error(_y_hat, _y_t)\n",
    "scaled_mae = mae/(np.max(_y_t) - np.min(_y_t))\n",
    "R2 = r2_score(_y_t, _y_hat)\n",
    "rval = pearsonr(_y_t, _y_hat)[0]\n",
    "print(f, \"mae: \", round(mae, 5), \"scaled mae: \", round(scaled_mae, 5), \"R2: \", round(R2, 4), \"r val: \", round(rval, 4))"
   ]
  },
  {
   "cell_type": "markdown",
   "metadata": {},
   "source": [
    "### Adversarial attack map"
   ]
  },
  {
   "cell_type": "code",
   "execution_count": 8,
   "metadata": {},
   "outputs": [
    {
     "data": {
      "application/vnd.jupyter.widget-view+json": {
       "model_id": "448195630feb42abbbd8ef61cb802812",
       "version_major": 2,
       "version_minor": 0
      },
      "text/plain": []
     },
     "metadata": {},
     "output_type": "display_data"
    }
   ],
   "source": [
    "import nglview\n",
    "from dfa_recommender.df_class import get_molecule\n",
    "from molSimplify.Classes.mol3D import mol3D\n",
    "\n",
    "def find_list_different(A, B):\n",
    "    return list(set(A).difference(set(B)))\n",
    "\n",
    "def get_zeroth_shell(kulik_mol):\n",
    "    kulik_mol.ozcs = kulik_mol.findMetal()\n",
    "\n",
    "def get_first_shell(kulik_mol):\n",
    "    fcs = kulik_mol.get_fcs()\n",
    "    kulik_mol.ofcs = find_list_different(fcs, kulik_mol.ozcs) \n",
    "\n",
    "def get_second_shell(kulik_mol):\n",
    "    inds = []\n",
    "    for ii in kulik_mol.ofcs:\n",
    "        inds += kulik_mol.getBondedAtoms(ii)\n",
    "    inds = find_list_different(inds, kulik_mol.ozcs)\n",
    "    kulik_mol.oscs = find_list_different(inds, kulik_mol.ofcs)\n",
    "\n",
    "def get_global_shell(kulik_mol):\n",
    "    inds = list(range(kulik_mol.natoms))\n",
    "    inds = find_list_different(inds, kulik_mol.ozcs)\n",
    "    inds = find_list_different(inds, kulik_mol.ofcs)\n",
    "    kulik_mol.ogcs = find_list_different(inds, kulik_mol.oscs)"
   ]
  },
  {
   "cell_type": "markdown",
   "metadata": {},
   "source": [
    "##### attention with blyp/50%"
   ]
  },
  {
   "cell_type": "code",
   "execution_count": 88,
   "metadata": {},
   "outputs": [],
   "source": [
    "eps = 1.\n",
    "xi = 1e-2\n",
    "alpha = 1.\n",
    "cut = True\n",
    "vat_criterion = regVAT(device, eps, xi, alpha, k=3, cut=cut)"
   ]
  },
  {
   "cell_type": "code",
   "execution_count": 89,
   "metadata": {},
   "outputs": [
    {
     "data": {
      "text/plain": [
       "torch.Size([300, 65, 182])"
      ]
     },
     "execution_count": 89,
     "metadata": {},
     "output_type": "execute_result"
    }
   ],
   "source": [
    "l_tr_iter = iter(DataLoader(\n",
    "    tr_l, len(tr_l), num_workers=0,\n",
    "    ))\n",
    "l_x, l_y = next(l_tr_iter)\n",
    "l_x.shape"
   ]
  },
  {
   "cell_type": "code",
   "execution_count": 90,
   "metadata": {},
   "outputs": [],
   "source": [
    "nl_x = l_x.numpy()\n",
    "mapping = {0: 1e-6, 1: 6, 2: 25, 3: 25, 4: 25, 5: 25, 6: 58*2, 7: 58*2, 8: 58*2, 9: 58*2}\n",
    "d_x = vat_criterion(best_model, l_x, return_adv=True).numpy()\n",
    "#d_aggr = np.mean(np.abs(d_x), axis=-1)\n",
    "d_aggr = np.zeros(shape=(d_x.shape[0], d_x.shape[1]))\n",
    "for ii, _d in enumerate(d_x):\n",
    "    for jj, __d in enumerate(_d):\n",
    "        nf = mapping[int(nl_x[ii, jj, -1])]\n",
    "        d_aggr[ii, jj] =  np.sum(np.abs(__d))/(3*nf +5)\n",
    "    "
   ]
  },
  {
   "cell_type": "code",
   "execution_count": 91,
   "metadata": {},
   "outputs": [],
   "source": [
    "tot_mean_shell_focus = {\n",
    "    \"ozcs\": [], \"ofcs\": [], \"oscs\": [], \"ogcs\": []\n",
    "}\n",
    "for ii in range(l_x.shape[0]):\n",
    "    xyzfile = basepath + \"/optgeos/optgeo_%s.xyz\"%name_tr[ii]\n",
    "    kulik_mol = mol3D()\n",
    "    kulik_mol.readfromxyz(xyzfile)\n",
    "    get_zeroth_shell(kulik_mol=kulik_mol)\n",
    "    get_first_shell(kulik_mol=kulik_mol)\n",
    "    get_second_shell(kulik_mol=kulik_mol)\n",
    "    get_global_shell(kulik_mol=kulik_mol)\n",
    "    mean_shell_focus = {}\n",
    "    for attr in [\"ozcs\", \"ofcs\", \"oscs\", \"ogcs\"]:\n",
    "        inds = getattr(kulik_mol, attr)\n",
    "        mean_shell_focus[attr] = np.mean(d_aggr[ii][inds])\n",
    "        tot_mean_shell_focus[attr] += [mean_shell_focus[attr]]"
   ]
  },
  {
   "cell_type": "code",
   "execution_count": 92,
   "metadata": {},
   "outputs": [
    {
     "name": "stdout",
     "output_type": "stream",
     "text": [
      "shell           mean    std. dev.\n",
      "metal           0.0244 0.0047\n",
      "first shell     0.0129 0.0084\n",
      "second shell    0.0077 0.0071\n",
      "third & global  0.0032 0.0023\n"
     ]
    }
   ],
   "source": [
    "res = {\n",
    "    \"mean\": list(),\n",
    "    \"std\": list(),\n",
    "}\n",
    "mapping = {\n",
    "    \"ozcs\": \"metal          \", \n",
    "    \"ofcs\": \"first shell    \", \n",
    "    \"oscs\": \"second shell   \", \n",
    "    \"ogcs\": \"third & global \",\n",
    "}\n",
    "print(\"shell           mean    std. dev.\")\n",
    "for attr in [\"ozcs\", \"ofcs\", \"oscs\", \"ogcs\"]:\n",
    "    print(mapping[attr], round(np.nanmean(tot_mean_shell_focus[attr]), 4), round(np.nanstd(tot_mean_shell_focus[attr]), 4))\n",
    "    res[\"mean\"].append(np.nanmean(tot_mean_shell_focus[attr]))\n",
    "    res[\"std\"].append(0.5*np.nanstd(tot_mean_shell_focus[attr]))"
   ]
  },
  {
   "cell_type": "markdown",
   "metadata": {},
   "source": [
    "##### model focus in blyp family"
   ]
  },
  {
   "cell_type": "code",
   "execution_count": 109,
   "metadata": {},
   "outputs": [
    {
     "data": {
      "application/vnd.plotly.v1+json": {
       "config": {
        "linkText": "Export to plot.ly",
        "plotlyServerURL": "https://plot.ly",
        "showLink": false
       },
       "data": [
        {
         "error_y": {
          "array": [
           0.0024088045661225664,
           0.0041602107069068275,
           0.003960150928275931,
           0.001338161857087512
          ],
          "type": "data"
         },
         "marker": {
          "color": "rgba(0, 0, 255, 0.6)"
         },
         "name": "BLYP",
         "type": "bar",
         "x": [
          "metal",
          "1<sup>st</sup> coord. sphere",
          "2<sup>nd</sup> coord. sphere",
          "global"
         ],
         "y": [
          0.02436276503443699,
          0.013900481281075744,
          0.0064960146468347035,
          0.0030203468728434765
         ]
        },
        {
         "error_y": {
          "array": [
           0.0020254181885130044,
           0.0034625668161716726,
           0.002995756035964373,
           0.0013941584192404845
          ],
          "type": "data"
         },
         "marker": {
          "color": "rgba(255, 0, 0, 0.6)"
         },
         "name": "B3LYP",
         "type": "bar",
         "x": [
          "metal",
          "1<sup>st</sup> coord. sphere",
          "2<sup>nd</sup> coord. sphere",
          "global"
         ],
         "y": [
          0.02514402541366245,
          0.014319381754276238,
          0.007162886326612046,
          0.002703123823740945
         ]
        },
        {
         "error_y": {
          "array": [
           0.002729887062121581,
           0.004214635313369848,
           0.0035583066940235194,
           0.001136256400424988
          ],
          "type": "data"
         },
         "marker": {
          "color": "rgba(0, 240, 64, 0.6)"
         },
         "name": "BLYP:50%",
         "type": "bar",
         "x": [
          "metal",
          "1<sup>st</sup> coord. sphere",
          "2<sup>nd</sup> coord. sphere",
          "global"
         ],
         "y": [
          0.024051893582699553,
          0.01268596703961695,
          0.007672459436815257,
          0.003170945411095282
         ]
        },
        {
         "error_y": {
          "array": [
           0.003071394343628406,
           0.003690234105361366,
           0.004075123293567747,
           0.001805678681274122
          ],
          "type": "data"
         },
         "marker": {
          "color": "rgba(255, 165, 0, 0.6)"
         },
         "name": "B2GP-PLYP",
         "type": "bar",
         "x": [
          "metal",
          "1<sup>st</sup> coord. sphere",
          "2<sup>nd</sup> coord. sphere",
          "global"
         ],
         "y": [
          0.022697161674480944,
          0.012855762883035075,
          0.009753982960618414,
          0.004456034561600239
         ]
        },
        {
         "error_y": {
          "array": [
           0.004,
           0.004,
           0.004,
           0.004
          ],
          "type": "data"
         },
         "marker": {
          "color": "rgba(140, 140, 140, 0.6)"
         },
         "name": "untrained",
         "type": "bar",
         "x": [
          "metal",
          "1<sup>st</sup> coord. sphere",
          "2<sup>nd</sup> coord. sphere",
          "global"
         ],
         "y": [
          0.0175,
          0.0175,
          0.0175,
          0.0175
         ]
        }
       ],
       "layout": {
        "boxmode": "group",
        "font": {
         "color": "black",
         "family": "Helvetica",
         "size": 24
        },
        "height": 400,
        "legend": {
         "bgcolor": "rgba(0,0,0,0)",
         "orientation": "v",
         "x": 0.725,
         "y": 0.98
        },
        "margin": {
         "b": 100,
         "l": 100,
         "r": 10,
         "t": 10
        },
        "paper_bgcolor": "rgba(255,255,255,100)",
        "plot_bgcolor": "white",
        "template": {
         "data": {
          "bar": [
           {
            "error_x": {
             "color": "#2a3f5f"
            },
            "error_y": {
             "color": "#2a3f5f"
            },
            "marker": {
             "line": {
              "color": "#E5ECF6",
              "width": 0.5
             }
            },
            "type": "bar"
           }
          ],
          "barpolar": [
           {
            "marker": {
             "line": {
              "color": "#E5ECF6",
              "width": 0.5
             }
            },
            "type": "barpolar"
           }
          ],
          "carpet": [
           {
            "aaxis": {
             "endlinecolor": "#2a3f5f",
             "gridcolor": "white",
             "linecolor": "white",
             "minorgridcolor": "white",
             "startlinecolor": "#2a3f5f"
            },
            "baxis": {
             "endlinecolor": "#2a3f5f",
             "gridcolor": "white",
             "linecolor": "white",
             "minorgridcolor": "white",
             "startlinecolor": "#2a3f5f"
            },
            "type": "carpet"
           }
          ],
          "choropleth": [
           {
            "colorbar": {
             "outlinewidth": 0,
             "ticks": ""
            },
            "type": "choropleth"
           }
          ],
          "contour": [
           {
            "colorbar": {
             "outlinewidth": 0,
             "ticks": ""
            },
            "colorscale": [
             [
              0,
              "#0d0887"
             ],
             [
              0.1111111111111111,
              "#46039f"
             ],
             [
              0.2222222222222222,
              "#7201a8"
             ],
             [
              0.3333333333333333,
              "#9c179e"
             ],
             [
              0.4444444444444444,
              "#bd3786"
             ],
             [
              0.5555555555555556,
              "#d8576b"
             ],
             [
              0.6666666666666666,
              "#ed7953"
             ],
             [
              0.7777777777777778,
              "#fb9f3a"
             ],
             [
              0.8888888888888888,
              "#fdca26"
             ],
             [
              1,
              "#f0f921"
             ]
            ],
            "type": "contour"
           }
          ],
          "contourcarpet": [
           {
            "colorbar": {
             "outlinewidth": 0,
             "ticks": ""
            },
            "type": "contourcarpet"
           }
          ],
          "heatmap": [
           {
            "colorbar": {
             "outlinewidth": 0,
             "ticks": ""
            },
            "colorscale": [
             [
              0,
              "#0d0887"
             ],
             [
              0.1111111111111111,
              "#46039f"
             ],
             [
              0.2222222222222222,
              "#7201a8"
             ],
             [
              0.3333333333333333,
              "#9c179e"
             ],
             [
              0.4444444444444444,
              "#bd3786"
             ],
             [
              0.5555555555555556,
              "#d8576b"
             ],
             [
              0.6666666666666666,
              "#ed7953"
             ],
             [
              0.7777777777777778,
              "#fb9f3a"
             ],
             [
              0.8888888888888888,
              "#fdca26"
             ],
             [
              1,
              "#f0f921"
             ]
            ],
            "type": "heatmap"
           }
          ],
          "heatmapgl": [
           {
            "colorbar": {
             "outlinewidth": 0,
             "ticks": ""
            },
            "colorscale": [
             [
              0,
              "#0d0887"
             ],
             [
              0.1111111111111111,
              "#46039f"
             ],
             [
              0.2222222222222222,
              "#7201a8"
             ],
             [
              0.3333333333333333,
              "#9c179e"
             ],
             [
              0.4444444444444444,
              "#bd3786"
             ],
             [
              0.5555555555555556,
              "#d8576b"
             ],
             [
              0.6666666666666666,
              "#ed7953"
             ],
             [
              0.7777777777777778,
              "#fb9f3a"
             ],
             [
              0.8888888888888888,
              "#fdca26"
             ],
             [
              1,
              "#f0f921"
             ]
            ],
            "type": "heatmapgl"
           }
          ],
          "histogram": [
           {
            "marker": {
             "colorbar": {
              "outlinewidth": 0,
              "ticks": ""
             }
            },
            "type": "histogram"
           }
          ],
          "histogram2d": [
           {
            "colorbar": {
             "outlinewidth": 0,
             "ticks": ""
            },
            "colorscale": [
             [
              0,
              "#0d0887"
             ],
             [
              0.1111111111111111,
              "#46039f"
             ],
             [
              0.2222222222222222,
              "#7201a8"
             ],
             [
              0.3333333333333333,
              "#9c179e"
             ],
             [
              0.4444444444444444,
              "#bd3786"
             ],
             [
              0.5555555555555556,
              "#d8576b"
             ],
             [
              0.6666666666666666,
              "#ed7953"
             ],
             [
              0.7777777777777778,
              "#fb9f3a"
             ],
             [
              0.8888888888888888,
              "#fdca26"
             ],
             [
              1,
              "#f0f921"
             ]
            ],
            "type": "histogram2d"
           }
          ],
          "histogram2dcontour": [
           {
            "colorbar": {
             "outlinewidth": 0,
             "ticks": ""
            },
            "colorscale": [
             [
              0,
              "#0d0887"
             ],
             [
              0.1111111111111111,
              "#46039f"
             ],
             [
              0.2222222222222222,
              "#7201a8"
             ],
             [
              0.3333333333333333,
              "#9c179e"
             ],
             [
              0.4444444444444444,
              "#bd3786"
             ],
             [
              0.5555555555555556,
              "#d8576b"
             ],
             [
              0.6666666666666666,
              "#ed7953"
             ],
             [
              0.7777777777777778,
              "#fb9f3a"
             ],
             [
              0.8888888888888888,
              "#fdca26"
             ],
             [
              1,
              "#f0f921"
             ]
            ],
            "type": "histogram2dcontour"
           }
          ],
          "mesh3d": [
           {
            "colorbar": {
             "outlinewidth": 0,
             "ticks": ""
            },
            "type": "mesh3d"
           }
          ],
          "parcoords": [
           {
            "line": {
             "colorbar": {
              "outlinewidth": 0,
              "ticks": ""
             }
            },
            "type": "parcoords"
           }
          ],
          "pie": [
           {
            "automargin": true,
            "type": "pie"
           }
          ],
          "scatter": [
           {
            "marker": {
             "colorbar": {
              "outlinewidth": 0,
              "ticks": ""
             }
            },
            "type": "scatter"
           }
          ],
          "scatter3d": [
           {
            "line": {
             "colorbar": {
              "outlinewidth": 0,
              "ticks": ""
             }
            },
            "marker": {
             "colorbar": {
              "outlinewidth": 0,
              "ticks": ""
             }
            },
            "type": "scatter3d"
           }
          ],
          "scattercarpet": [
           {
            "marker": {
             "colorbar": {
              "outlinewidth": 0,
              "ticks": ""
             }
            },
            "type": "scattercarpet"
           }
          ],
          "scattergeo": [
           {
            "marker": {
             "colorbar": {
              "outlinewidth": 0,
              "ticks": ""
             }
            },
            "type": "scattergeo"
           }
          ],
          "scattergl": [
           {
            "marker": {
             "colorbar": {
              "outlinewidth": 0,
              "ticks": ""
             }
            },
            "type": "scattergl"
           }
          ],
          "scattermapbox": [
           {
            "marker": {
             "colorbar": {
              "outlinewidth": 0,
              "ticks": ""
             }
            },
            "type": "scattermapbox"
           }
          ],
          "scatterpolar": [
           {
            "marker": {
             "colorbar": {
              "outlinewidth": 0,
              "ticks": ""
             }
            },
            "type": "scatterpolar"
           }
          ],
          "scatterpolargl": [
           {
            "marker": {
             "colorbar": {
              "outlinewidth": 0,
              "ticks": ""
             }
            },
            "type": "scatterpolargl"
           }
          ],
          "scatterternary": [
           {
            "marker": {
             "colorbar": {
              "outlinewidth": 0,
              "ticks": ""
             }
            },
            "type": "scatterternary"
           }
          ],
          "surface": [
           {
            "colorbar": {
             "outlinewidth": 0,
             "ticks": ""
            },
            "colorscale": [
             [
              0,
              "#0d0887"
             ],
             [
              0.1111111111111111,
              "#46039f"
             ],
             [
              0.2222222222222222,
              "#7201a8"
             ],
             [
              0.3333333333333333,
              "#9c179e"
             ],
             [
              0.4444444444444444,
              "#bd3786"
             ],
             [
              0.5555555555555556,
              "#d8576b"
             ],
             [
              0.6666666666666666,
              "#ed7953"
             ],
             [
              0.7777777777777778,
              "#fb9f3a"
             ],
             [
              0.8888888888888888,
              "#fdca26"
             ],
             [
              1,
              "#f0f921"
             ]
            ],
            "type": "surface"
           }
          ],
          "table": [
           {
            "cells": {
             "fill": {
              "color": "#EBF0F8"
             },
             "line": {
              "color": "white"
             }
            },
            "header": {
             "fill": {
              "color": "#C8D4E3"
             },
             "line": {
              "color": "white"
             }
            },
            "type": "table"
           }
          ]
         },
         "layout": {
          "annotationdefaults": {
           "arrowcolor": "#2a3f5f",
           "arrowhead": 0,
           "arrowwidth": 1
          },
          "coloraxis": {
           "colorbar": {
            "outlinewidth": 0,
            "ticks": ""
           }
          },
          "colorscale": {
           "diverging": [
            [
             0,
             "#8e0152"
            ],
            [
             0.1,
             "#c51b7d"
            ],
            [
             0.2,
             "#de77ae"
            ],
            [
             0.3,
             "#f1b6da"
            ],
            [
             0.4,
             "#fde0ef"
            ],
            [
             0.5,
             "#f7f7f7"
            ],
            [
             0.6,
             "#e6f5d0"
            ],
            [
             0.7,
             "#b8e186"
            ],
            [
             0.8,
             "#7fbc41"
            ],
            [
             0.9,
             "#4d9221"
            ],
            [
             1,
             "#276419"
            ]
           ],
           "sequential": [
            [
             0,
             "#0d0887"
            ],
            [
             0.1111111111111111,
             "#46039f"
            ],
            [
             0.2222222222222222,
             "#7201a8"
            ],
            [
             0.3333333333333333,
             "#9c179e"
            ],
            [
             0.4444444444444444,
             "#bd3786"
            ],
            [
             0.5555555555555556,
             "#d8576b"
            ],
            [
             0.6666666666666666,
             "#ed7953"
            ],
            [
             0.7777777777777778,
             "#fb9f3a"
            ],
            [
             0.8888888888888888,
             "#fdca26"
            ],
            [
             1,
             "#f0f921"
            ]
           ],
           "sequentialminus": [
            [
             0,
             "#0d0887"
            ],
            [
             0.1111111111111111,
             "#46039f"
            ],
            [
             0.2222222222222222,
             "#7201a8"
            ],
            [
             0.3333333333333333,
             "#9c179e"
            ],
            [
             0.4444444444444444,
             "#bd3786"
            ],
            [
             0.5555555555555556,
             "#d8576b"
            ],
            [
             0.6666666666666666,
             "#ed7953"
            ],
            [
             0.7777777777777778,
             "#fb9f3a"
            ],
            [
             0.8888888888888888,
             "#fdca26"
            ],
            [
             1,
             "#f0f921"
            ]
           ]
          },
          "colorway": [
           "#636efa",
           "#EF553B",
           "#00cc96",
           "#ab63fa",
           "#FFA15A",
           "#19d3f3",
           "#FF6692",
           "#B6E880",
           "#FF97FF",
           "#FECB52"
          ],
          "font": {
           "color": "#2a3f5f"
          },
          "geo": {
           "bgcolor": "white",
           "lakecolor": "white",
           "landcolor": "#E5ECF6",
           "showlakes": true,
           "showland": true,
           "subunitcolor": "white"
          },
          "hoverlabel": {
           "align": "left"
          },
          "hovermode": "closest",
          "mapbox": {
           "style": "light"
          },
          "paper_bgcolor": "white",
          "plot_bgcolor": "#E5ECF6",
          "polar": {
           "angularaxis": {
            "gridcolor": "white",
            "linecolor": "white",
            "ticks": ""
           },
           "bgcolor": "#E5ECF6",
           "radialaxis": {
            "gridcolor": "white",
            "linecolor": "white",
            "ticks": ""
           }
          },
          "scene": {
           "xaxis": {
            "backgroundcolor": "#E5ECF6",
            "gridcolor": "white",
            "gridwidth": 2,
            "linecolor": "white",
            "showbackground": true,
            "ticks": "",
            "zerolinecolor": "white"
           },
           "yaxis": {
            "backgroundcolor": "#E5ECF6",
            "gridcolor": "white",
            "gridwidth": 2,
            "linecolor": "white",
            "showbackground": true,
            "ticks": "",
            "zerolinecolor": "white"
           },
           "zaxis": {
            "backgroundcolor": "#E5ECF6",
            "gridcolor": "white",
            "gridwidth": 2,
            "linecolor": "white",
            "showbackground": true,
            "ticks": "",
            "zerolinecolor": "white"
           }
          },
          "shapedefaults": {
           "line": {
            "color": "#2a3f5f"
           }
          },
          "ternary": {
           "aaxis": {
            "gridcolor": "white",
            "linecolor": "white",
            "ticks": ""
           },
           "baxis": {
            "gridcolor": "white",
            "linecolor": "white",
            "ticks": ""
           },
           "bgcolor": "#E5ECF6",
           "caxis": {
            "gridcolor": "white",
            "linecolor": "white",
            "ticks": ""
           }
          },
          "title": {
           "x": 0.05
          },
          "xaxis": {
           "automargin": true,
           "gridcolor": "white",
           "linecolor": "white",
           "ticks": "",
           "title": {
            "standoff": 15
           },
           "zerolinecolor": "white",
           "zerolinewidth": 2
          },
          "yaxis": {
           "automargin": true,
           "gridcolor": "white",
           "linecolor": "white",
           "ticks": "",
           "title": {
            "standoff": 15
           },
           "zerolinecolor": "white",
           "zerolinewidth": 2
          }
         }
        },
        "width": 950,
        "xaxis": {
         "color": "black",
         "linecolor": "black",
         "linewidth": 1.5,
         "mirror": "allticks",
         "showgrid": false,
         "showline": true,
         "ticklen": 10,
         "ticks": "inside",
         "tickwidth": 1.5,
         "zeroline": false
        },
        "yaxis": {
         "color": "black",
         "linecolor": "black",
         "linewidth": 1.5,
         "mirror": "allticks",
         "range": [
          0,
          0.03
         ],
         "showgrid": false,
         "showline": true,
         "ticklen": 10,
         "ticks": "inside",
         "tickvals": [
          0,
          0.01,
          0.02,
          0.03
         ],
         "tickwidth": 1.5,
         "title": {
          "text": "model focus"
         },
         "zeroline": false
        }
       }
      },
      "text/html": [
       "<div>\n",
       "        \n",
       "        \n",
       "            <div id=\"549810d3-4313-4fbd-bc8a-2e3305a99fc8\" class=\"plotly-graph-div\" style=\"height:400px; width:950px;\"></div>\n",
       "            <script type=\"text/javascript\">\n",
       "                require([\"plotly\"], function(Plotly) {\n",
       "                    window.PLOTLYENV=window.PLOTLYENV || {};\n",
       "                    \n",
       "                if (document.getElementById(\"549810d3-4313-4fbd-bc8a-2e3305a99fc8\")) {\n",
       "                    Plotly.newPlot(\n",
       "                        '549810d3-4313-4fbd-bc8a-2e3305a99fc8',\n",
       "                        [{\"error_y\": {\"array\": [0.0024088045661225664, 0.0041602107069068275, 0.003960150928275931, 0.001338161857087512], \"type\": \"data\"}, \"marker\": {\"color\": \"rgba(0, 0, 255, 0.6)\"}, \"name\": \"BLYP\", \"type\": \"bar\", \"x\": [\"metal\", \"1<sup>st</sup> coord. sphere\", \"2<sup>nd</sup> coord. sphere\", \"global\"], \"y\": [0.02436276503443699, 0.013900481281075744, 0.0064960146468347035, 0.0030203468728434765]}, {\"error_y\": {\"array\": [0.0020254181885130044, 0.0034625668161716726, 0.002995756035964373, 0.0013941584192404845], \"type\": \"data\"}, \"marker\": {\"color\": \"rgba(255, 0, 0, 0.6)\"}, \"name\": \"B3LYP\", \"type\": \"bar\", \"x\": [\"metal\", \"1<sup>st</sup> coord. sphere\", \"2<sup>nd</sup> coord. sphere\", \"global\"], \"y\": [0.02514402541366245, 0.014319381754276238, 0.007162886326612046, 0.002703123823740945]}, {\"error_y\": {\"array\": [0.002729887062121581, 0.004214635313369848, 0.0035583066940235194, 0.001136256400424988], \"type\": \"data\"}, \"marker\": {\"color\": \"rgba(0, 240, 64, 0.6)\"}, \"name\": \"BLYP:50%\", \"type\": \"bar\", \"x\": [\"metal\", \"1<sup>st</sup> coord. sphere\", \"2<sup>nd</sup> coord. sphere\", \"global\"], \"y\": [0.024051893582699553, 0.01268596703961695, 0.007672459436815257, 0.003170945411095282]}, {\"error_y\": {\"array\": [0.003071394343628406, 0.003690234105361366, 0.004075123293567747, 0.001805678681274122], \"type\": \"data\"}, \"marker\": {\"color\": \"rgba(255, 165, 0, 0.6)\"}, \"name\": \"B2GP-PLYP\", \"type\": \"bar\", \"x\": [\"metal\", \"1<sup>st</sup> coord. sphere\", \"2<sup>nd</sup> coord. sphere\", \"global\"], \"y\": [0.022697161674480944, 0.012855762883035075, 0.009753982960618414, 0.004456034561600239]}, {\"error_y\": {\"array\": [0.004, 0.004, 0.004, 0.004], \"type\": \"data\"}, \"marker\": {\"color\": \"rgba(140, 140, 140, 0.6)\"}, \"name\": \"untrained\", \"type\": \"bar\", \"x\": [\"metal\", \"1<sup>st</sup> coord. sphere\", \"2<sup>nd</sup> coord. sphere\", \"global\"], \"y\": [0.0175, 0.0175, 0.0175, 0.0175]}],\n",
       "                        {\"boxmode\": \"group\", \"font\": {\"color\": \"black\", \"family\": \"Helvetica\", \"size\": 24}, \"height\": 400, \"legend\": {\"bgcolor\": \"rgba(0,0,0,0)\", \"orientation\": \"v\", \"x\": 0.725, \"y\": 0.98}, \"margin\": {\"b\": 100, \"l\": 100, \"r\": 10, \"t\": 10}, \"paper_bgcolor\": \"rgba(255,255,255,100)\", \"plot_bgcolor\": \"white\", \"template\": {\"data\": {\"bar\": [{\"error_x\": {\"color\": \"#2a3f5f\"}, \"error_y\": {\"color\": \"#2a3f5f\"}, \"marker\": {\"line\": {\"color\": \"#E5ECF6\", \"width\": 0.5}}, \"type\": \"bar\"}], \"barpolar\": [{\"marker\": {\"line\": {\"color\": \"#E5ECF6\", \"width\": 0.5}}, \"type\": \"barpolar\"}], \"carpet\": [{\"aaxis\": {\"endlinecolor\": \"#2a3f5f\", \"gridcolor\": \"white\", \"linecolor\": \"white\", \"minorgridcolor\": \"white\", \"startlinecolor\": \"#2a3f5f\"}, \"baxis\": {\"endlinecolor\": \"#2a3f5f\", \"gridcolor\": \"white\", \"linecolor\": \"white\", \"minorgridcolor\": \"white\", \"startlinecolor\": \"#2a3f5f\"}, \"type\": \"carpet\"}], \"choropleth\": [{\"colorbar\": {\"outlinewidth\": 0, \"ticks\": \"\"}, \"type\": \"choropleth\"}], \"contour\": [{\"colorbar\": {\"outlinewidth\": 0, \"ticks\": \"\"}, \"colorscale\": [[0.0, \"#0d0887\"], [0.1111111111111111, \"#46039f\"], [0.2222222222222222, \"#7201a8\"], [0.3333333333333333, \"#9c179e\"], [0.4444444444444444, \"#bd3786\"], [0.5555555555555556, \"#d8576b\"], [0.6666666666666666, \"#ed7953\"], [0.7777777777777778, \"#fb9f3a\"], [0.8888888888888888, \"#fdca26\"], [1.0, \"#f0f921\"]], \"type\": \"contour\"}], \"contourcarpet\": [{\"colorbar\": {\"outlinewidth\": 0, \"ticks\": \"\"}, \"type\": \"contourcarpet\"}], \"heatmap\": [{\"colorbar\": {\"outlinewidth\": 0, \"ticks\": \"\"}, \"colorscale\": [[0.0, \"#0d0887\"], [0.1111111111111111, \"#46039f\"], [0.2222222222222222, \"#7201a8\"], [0.3333333333333333, \"#9c179e\"], [0.4444444444444444, \"#bd3786\"], [0.5555555555555556, \"#d8576b\"], [0.6666666666666666, \"#ed7953\"], [0.7777777777777778, \"#fb9f3a\"], [0.8888888888888888, \"#fdca26\"], [1.0, \"#f0f921\"]], \"type\": \"heatmap\"}], \"heatmapgl\": [{\"colorbar\": {\"outlinewidth\": 0, \"ticks\": \"\"}, \"colorscale\": [[0.0, \"#0d0887\"], [0.1111111111111111, \"#46039f\"], [0.2222222222222222, \"#7201a8\"], [0.3333333333333333, \"#9c179e\"], [0.4444444444444444, \"#bd3786\"], [0.5555555555555556, \"#d8576b\"], [0.6666666666666666, \"#ed7953\"], [0.7777777777777778, \"#fb9f3a\"], [0.8888888888888888, \"#fdca26\"], [1.0, \"#f0f921\"]], \"type\": \"heatmapgl\"}], \"histogram\": [{\"marker\": {\"colorbar\": {\"outlinewidth\": 0, \"ticks\": \"\"}}, \"type\": \"histogram\"}], \"histogram2d\": [{\"colorbar\": {\"outlinewidth\": 0, \"ticks\": \"\"}, \"colorscale\": [[0.0, \"#0d0887\"], [0.1111111111111111, \"#46039f\"], [0.2222222222222222, \"#7201a8\"], [0.3333333333333333, \"#9c179e\"], [0.4444444444444444, \"#bd3786\"], [0.5555555555555556, \"#d8576b\"], [0.6666666666666666, \"#ed7953\"], [0.7777777777777778, \"#fb9f3a\"], [0.8888888888888888, \"#fdca26\"], [1.0, \"#f0f921\"]], \"type\": \"histogram2d\"}], \"histogram2dcontour\": [{\"colorbar\": {\"outlinewidth\": 0, \"ticks\": \"\"}, \"colorscale\": [[0.0, \"#0d0887\"], [0.1111111111111111, \"#46039f\"], [0.2222222222222222, \"#7201a8\"], [0.3333333333333333, \"#9c179e\"], [0.4444444444444444, \"#bd3786\"], [0.5555555555555556, \"#d8576b\"], [0.6666666666666666, \"#ed7953\"], [0.7777777777777778, \"#fb9f3a\"], [0.8888888888888888, \"#fdca26\"], [1.0, \"#f0f921\"]], \"type\": \"histogram2dcontour\"}], \"mesh3d\": [{\"colorbar\": {\"outlinewidth\": 0, \"ticks\": \"\"}, \"type\": \"mesh3d\"}], \"parcoords\": [{\"line\": {\"colorbar\": {\"outlinewidth\": 0, \"ticks\": \"\"}}, \"type\": \"parcoords\"}], \"pie\": [{\"automargin\": true, \"type\": \"pie\"}], \"scatter\": [{\"marker\": {\"colorbar\": {\"outlinewidth\": 0, \"ticks\": \"\"}}, \"type\": \"scatter\"}], \"scatter3d\": [{\"line\": {\"colorbar\": {\"outlinewidth\": 0, \"ticks\": \"\"}}, \"marker\": {\"colorbar\": {\"outlinewidth\": 0, \"ticks\": \"\"}}, \"type\": \"scatter3d\"}], \"scattercarpet\": [{\"marker\": {\"colorbar\": {\"outlinewidth\": 0, \"ticks\": \"\"}}, \"type\": \"scattercarpet\"}], \"scattergeo\": [{\"marker\": {\"colorbar\": {\"outlinewidth\": 0, \"ticks\": \"\"}}, \"type\": \"scattergeo\"}], \"scattergl\": [{\"marker\": {\"colorbar\": {\"outlinewidth\": 0, \"ticks\": \"\"}}, \"type\": \"scattergl\"}], \"scattermapbox\": [{\"marker\": {\"colorbar\": {\"outlinewidth\": 0, \"ticks\": \"\"}}, \"type\": \"scattermapbox\"}], \"scatterpolar\": [{\"marker\": {\"colorbar\": {\"outlinewidth\": 0, \"ticks\": \"\"}}, \"type\": \"scatterpolar\"}], \"scatterpolargl\": [{\"marker\": {\"colorbar\": {\"outlinewidth\": 0, \"ticks\": \"\"}}, \"type\": \"scatterpolargl\"}], \"scatterternary\": [{\"marker\": {\"colorbar\": {\"outlinewidth\": 0, \"ticks\": \"\"}}, \"type\": \"scatterternary\"}], \"surface\": [{\"colorbar\": {\"outlinewidth\": 0, \"ticks\": \"\"}, \"colorscale\": [[0.0, \"#0d0887\"], [0.1111111111111111, \"#46039f\"], [0.2222222222222222, \"#7201a8\"], [0.3333333333333333, \"#9c179e\"], [0.4444444444444444, \"#bd3786\"], [0.5555555555555556, \"#d8576b\"], [0.6666666666666666, \"#ed7953\"], [0.7777777777777778, \"#fb9f3a\"], [0.8888888888888888, \"#fdca26\"], [1.0, \"#f0f921\"]], \"type\": \"surface\"}], \"table\": [{\"cells\": {\"fill\": {\"color\": \"#EBF0F8\"}, \"line\": {\"color\": \"white\"}}, \"header\": {\"fill\": {\"color\": \"#C8D4E3\"}, \"line\": {\"color\": \"white\"}}, \"type\": \"table\"}]}, \"layout\": {\"annotationdefaults\": {\"arrowcolor\": \"#2a3f5f\", \"arrowhead\": 0, \"arrowwidth\": 1}, \"coloraxis\": {\"colorbar\": {\"outlinewidth\": 0, \"ticks\": \"\"}}, \"colorscale\": {\"diverging\": [[0, \"#8e0152\"], [0.1, \"#c51b7d\"], [0.2, \"#de77ae\"], [0.3, \"#f1b6da\"], [0.4, \"#fde0ef\"], [0.5, \"#f7f7f7\"], [0.6, \"#e6f5d0\"], [0.7, \"#b8e186\"], [0.8, \"#7fbc41\"], [0.9, \"#4d9221\"], [1, \"#276419\"]], \"sequential\": [[0.0, \"#0d0887\"], [0.1111111111111111, \"#46039f\"], [0.2222222222222222, \"#7201a8\"], [0.3333333333333333, \"#9c179e\"], [0.4444444444444444, \"#bd3786\"], [0.5555555555555556, \"#d8576b\"], [0.6666666666666666, \"#ed7953\"], [0.7777777777777778, \"#fb9f3a\"], [0.8888888888888888, \"#fdca26\"], [1.0, \"#f0f921\"]], \"sequentialminus\": [[0.0, \"#0d0887\"], [0.1111111111111111, \"#46039f\"], [0.2222222222222222, \"#7201a8\"], [0.3333333333333333, \"#9c179e\"], [0.4444444444444444, \"#bd3786\"], [0.5555555555555556, \"#d8576b\"], [0.6666666666666666, \"#ed7953\"], [0.7777777777777778, \"#fb9f3a\"], [0.8888888888888888, \"#fdca26\"], [1.0, \"#f0f921\"]]}, \"colorway\": [\"#636efa\", \"#EF553B\", \"#00cc96\", \"#ab63fa\", \"#FFA15A\", \"#19d3f3\", \"#FF6692\", \"#B6E880\", \"#FF97FF\", \"#FECB52\"], \"font\": {\"color\": \"#2a3f5f\"}, \"geo\": {\"bgcolor\": \"white\", \"lakecolor\": \"white\", \"landcolor\": \"#E5ECF6\", \"showlakes\": true, \"showland\": true, \"subunitcolor\": \"white\"}, \"hoverlabel\": {\"align\": \"left\"}, \"hovermode\": \"closest\", \"mapbox\": {\"style\": \"light\"}, \"paper_bgcolor\": \"white\", \"plot_bgcolor\": \"#E5ECF6\", \"polar\": {\"angularaxis\": {\"gridcolor\": \"white\", \"linecolor\": \"white\", \"ticks\": \"\"}, \"bgcolor\": \"#E5ECF6\", \"radialaxis\": {\"gridcolor\": \"white\", \"linecolor\": \"white\", \"ticks\": \"\"}}, \"scene\": {\"xaxis\": {\"backgroundcolor\": \"#E5ECF6\", \"gridcolor\": \"white\", \"gridwidth\": 2, \"linecolor\": \"white\", \"showbackground\": true, \"ticks\": \"\", \"zerolinecolor\": \"white\"}, \"yaxis\": {\"backgroundcolor\": \"#E5ECF6\", \"gridcolor\": \"white\", \"gridwidth\": 2, \"linecolor\": \"white\", \"showbackground\": true, \"ticks\": \"\", \"zerolinecolor\": \"white\"}, \"zaxis\": {\"backgroundcolor\": \"#E5ECF6\", \"gridcolor\": \"white\", \"gridwidth\": 2, \"linecolor\": \"white\", \"showbackground\": true, \"ticks\": \"\", \"zerolinecolor\": \"white\"}}, \"shapedefaults\": {\"line\": {\"color\": \"#2a3f5f\"}}, \"ternary\": {\"aaxis\": {\"gridcolor\": \"white\", \"linecolor\": \"white\", \"ticks\": \"\"}, \"baxis\": {\"gridcolor\": \"white\", \"linecolor\": \"white\", \"ticks\": \"\"}, \"bgcolor\": \"#E5ECF6\", \"caxis\": {\"gridcolor\": \"white\", \"linecolor\": \"white\", \"ticks\": \"\"}}, \"title\": {\"x\": 0.05}, \"xaxis\": {\"automargin\": true, \"gridcolor\": \"white\", \"linecolor\": \"white\", \"ticks\": \"\", \"title\": {\"standoff\": 15}, \"zerolinecolor\": \"white\", \"zerolinewidth\": 2}, \"yaxis\": {\"automargin\": true, \"gridcolor\": \"white\", \"linecolor\": \"white\", \"ticks\": \"\", \"title\": {\"standoff\": 15}, \"zerolinecolor\": \"white\", \"zerolinewidth\": 2}}}, \"width\": 950, \"xaxis\": {\"color\": \"black\", \"linecolor\": \"black\", \"linewidth\": 1.5, \"mirror\": \"allticks\", \"showgrid\": false, \"showline\": true, \"ticklen\": 10, \"ticks\": \"inside\", \"tickwidth\": 1.5, \"zeroline\": false}, \"yaxis\": {\"color\": \"black\", \"linecolor\": \"black\", \"linewidth\": 1.5, \"mirror\": \"allticks\", \"range\": [0, 0.03], \"showgrid\": false, \"showline\": true, \"ticklen\": 10, \"ticks\": \"inside\", \"tickvals\": [0, 0.01, 0.02, 0.03], \"tickwidth\": 1.5, \"title\": {\"text\": \"model focus\"}, \"zeroline\": false}},\n",
       "                        {\"responsive\": true}\n",
       "                    ).then(function(){\n",
       "                            \n",
       "var gd = document.getElementById('549810d3-4313-4fbd-bc8a-2e3305a99fc8');\n",
       "var x = new MutationObserver(function (mutations, observer) {{\n",
       "        var display = window.getComputedStyle(gd).display;\n",
       "        if (!display || display === 'none') {{\n",
       "            console.log([gd, 'removed!']);\n",
       "            Plotly.purge(gd);\n",
       "            observer.disconnect();\n",
       "        }}\n",
       "}});\n",
       "\n",
       "// Listen for the removal of the full notebook cells\n",
       "var notebookContainer = gd.closest('#notebook-container');\n",
       "if (notebookContainer) {{\n",
       "    x.observe(notebookContainer, {childList: true});\n",
       "}}\n",
       "\n",
       "// Listen for the clearing of the current output cell\n",
       "var outputEl = gd.closest('.output');\n",
       "if (outputEl) {{\n",
       "    x.observe(outputEl, {childList: true});\n",
       "}}\n",
       "\n",
       "                        })\n",
       "                };\n",
       "                });\n",
       "            </script>\n",
       "        </div>"
      ]
     },
     "metadata": {},
     "output_type": "display_data"
    }
   ],
   "source": [
    "res_all = json.load(open(basepath + \"/focus_blyp_family.json\"))\n",
    "keys = [\"metal\", \"1<sup>st</sup> coord. sphere\", \"2<sup>nd</sup> coord. sphere\", \"global\"]\n",
    "colors = [\"rgba(0, 0, 255, 0.6)\", \"rgba(255, 0, 0, 0.6)\",  \"rgba(0, 240, 64, 0.6)\", \"rgba(255, 165, 0, 0.6)\", \"rgba(140, 140, 140, 0.6)\"]\n",
    "dfa_mapping = {\n",
    "    \"blyp\": \"BLYP\",\n",
    "    \"b3lyp\": \"B3LYP\",\n",
    "    \"blyp/50%\": \"BLYP:50%\",\n",
    "    \"b2gpplyp\": \"B2GP-PLYP\",\n",
    "    \"untrained\": \"untrained\",\n",
    "}\n",
    "data = []\n",
    "for ii, f in enumerate(res_all):\n",
    "    trace0 = go.Bar(\n",
    "        name=dfa_mapping[f],\n",
    "        x=keys, \n",
    "        y=res_all[f][\"mean\"],\n",
    "        # opacity=1,\n",
    "        # color=colors[ii],\n",
    "        marker=dict(color=colors[ii]),\n",
    "        error_y=dict(type='data', array=res_all[f][\"std\"])\n",
    "    )\n",
    "    data += [trace0,]\n",
    "layout = go.Layout()\n",
    "layout.update(glob_layout)\n",
    "layout[\"yaxis\"].update({'title': \"model focus\", \"range\": [0, 0.03], \"tickvals\": [0, 0.01, 0.02, 0.03]})\n",
    "layout.legend.update(x=.725, y=0.98, bgcolor=\"rgba(0,0,0,0)\")\n",
    "layout.update(width=950, height=400, boxmode='group')\n",
    "fig = go.Figure(data=data, layout=layout)\n",
    "iplot(fig)\n",
    "fig.write_image(\"../../../../Dropbox (MIT)/CD-DFARecFull/Figures/F3//blyp_family.pdf\")"
   ]
  },
  {
   "cell_type": "markdown",
   "metadata": {},
   "source": [
    "##### eample complexes"
   ]
  },
  {
   "cell_type": "code",
   "execution_count": 106,
   "metadata": {},
   "outputs": [
    {
     "name": "stdout",
     "output_type": "stream",
     "text": [
      "[0, 16, 13, 1, 7, 10, 4]\n",
      "natoms:  19\n",
      "xyzfile:  /Users/chenruduan/src/dfa_recommender/dfa_recommender/data//optgeos/optgeo_mn_3_water-O-0-0_water-O-0-0_water-O-0-0_water-O-0-0_thiocyanate-S-0-d1_thiocyanate-S-0-d1_5.xyz\n",
      "catoms:  ['Mn', 'O', 'O', 'O', 'O', 'S', 'S'] [0, 1, 4, 7, 10, 13, 16]\n",
      "actual max:  ['Mn', 'S', 'S', 'O', 'O', 'O', 'O'] [0, 16, 13, 1, 7, 10, 4]\n",
      "diff compared to fcs:  set()\n",
      "[0, 1, 4, 7, 10, 13, 16] [0, 16, 13, 1, 7, 10, 4, 17, 14, 18, 15, 12, 6, 11, 5, 2, 3, 8, 9, 24, 29, 28, 27, 26, 25, 20, 23, 22, 21, 19, 31, 30, 64, 63, 33, 62, 61, 60, 59, 58, 57, 56, 55, 54, 53, 52, 51, 50, 49, 48, 47, 46, 45, 44, 43, 42, 41, 40, 39, 38, 37, 36, 35, 34, 32]\n",
      "fdict:  {'0-Mn': 0.3093280100415076, '1-O': 0.2373133939766853, '2-H': 0.08737556988059822, '3-H': 0.08733506141740821, '4-O': 0.23142964883950423, '5-H': 0.08803140598912224, '6-H': 0.08831499622270939, '7-O': 0.23682430387140058, '8-H': 0.08718530055845645, '9-H': 0.08589393490181285, '10-O': 0.23480166782463832, '11-H': 0.08814832487514512, '12-H': 0.08834961425661528, '13-S': 0.24597059902349647, '14-C': 0.16031046243533104, '15-N': 0.125228297730261, '16-S': 0.24888692978153143, '17-C': 0.1608159857670592, '18-N': 0.12551132798663514}\n",
      "mean_shell_focus:  {'ozcs': 0.3093280100415076, 'ofcs': 0.239364221462273, 'oscs': 0.11093982517841183, 'ogcs': 0.12536997259790633}\n"
     ]
    }
   ],
   "source": [
    "ii = -1\n",
    "xyzfile = basepath + \"/optgeos/optgeo_%s.xyz\"%name_tr[ii]\n",
    "try:\n",
    "    mol, _ = get_molecule(\n",
    "        xyzfile=xyzfile, \n",
    "        charge=2, spin=4\n",
    "        )\n",
    "except:\n",
    "    mol, _ = get_molecule(\n",
    "        xyzfile=xyzfile, \n",
    "        charge=2, spin=5\n",
    "        )\n",
    "kulik_mol = mol3D()\n",
    "kulik_mol.readfromxyz(xyzfile)\n",
    "rev_max = list(reversed((np.argsort(d_aggr[ii]))))[:7]\n",
    "print(rev_max)\n",
    "fcs = kulik_mol.get_fcs()\n",
    "fdict = {}\n",
    "for _ii in range(kulik_mol.natoms):\n",
    "    fdict[\"%d-%s\"%(_ii, kulik_mol.getAtom(_ii).symbol())] = np.power(d_aggr[ii][_ii], 1./3)\n",
    "get_zeroth_shell(kulik_mol=kulik_mol)\n",
    "get_first_shell(kulik_mol=kulik_mol)\n",
    "get_second_shell(kulik_mol=kulik_mol)\n",
    "get_global_shell(kulik_mol=kulik_mol)\n",
    "mean_shell_focus = {}\n",
    "print(\"natoms: \", kulik_mol.natoms)\n",
    "for attr in [\"ozcs\", \"ofcs\", \"oscs\", \"ogcs\"]:\n",
    "    inds = getattr(kulik_mol, attr)\n",
    "    mean_shell_focus[attr] = np.power(np.mean(d_aggr[ii][inds]), 1./3)\n",
    "print(\"xyzfile: \", xyzfile)\n",
    "print(\"catoms: \", [kulik_mol.getAtom(_ii).symbol() for _ii in fcs], fcs)\n",
    "print(\"actual max: \", [kulik_mol.getAtom(_ii).symbol() for _ii in rev_max], rev_max)\n",
    "print(\"diff compared to fcs: \", set(fcs).difference(set(rev_max)))\n",
    "print(fcs, list(reversed((np.argsort(d_aggr[ii])))))\n",
    "print(\"fdict: \", fdict)\n",
    "print(\"mean_shell_focus: \", mean_shell_focus)"
   ]
  },
  {
   "cell_type": "code",
   "execution_count": 107,
   "metadata": {},
   "outputs": [
    {
     "data": {
      "application/vnd.jupyter.widget-view+json": {
       "model_id": "0da6562963d1450c9c80746dcba4859d",
       "version_major": 2,
       "version_minor": 0
      },
      "text/plain": [
       "NGLWidget()"
      ]
     },
     "metadata": {},
     "output_type": "display_data"
    }
   ],
   "source": [
    "view = nglview.show_psi4(mol)\n",
    "view.representations = [\n",
    "    {\"type\": \"cartoon\", \"params\": {\n",
    "        \"sele\": \"protein\", \"color\": \"residueindex\"\n",
    "    }},\n",
    "    {\"type\": \"ball+stick\", \"params\": {\n",
    "        \"sele\": \"hetero\"\n",
    "    }},\n",
    "    {\"type\": \"labels\", \"params\": {\n",
    "        \"labelType\": \"number\"\n",
    "    }}\n",
    "]\n",
    "view"
   ]
  },
  {
   "cell_type": "code",
   "execution_count": 108,
   "metadata": {},
   "outputs": [
    {
     "data": {
      "application/vnd.plotly.v1+json": {
       "config": {
        "plotlyServerURL": "https://plot.ly"
       },
       "data": [
        {
         "coloraxis": "coloraxis",
         "hovertemplate": "x: %{x}<br>y: %{y}<br>color: %{z}<extra></extra>",
         "type": "heatmap",
         "x": [
          0,
          1,
          2,
          3,
          4,
          5,
          6,
          7,
          8,
          9,
          10,
          11,
          12,
          13,
          14,
          15,
          16,
          17,
          18,
          19,
          20,
          21,
          22,
          23,
          24,
          25,
          26,
          27,
          28,
          29,
          30,
          31,
          32,
          33,
          34,
          35,
          36,
          37,
          38,
          39,
          40,
          41,
          42,
          43,
          44,
          45,
          46,
          47,
          48,
          49,
          50,
          51,
          52,
          53,
          54,
          55,
          56,
          57
         ],
         "y": [
          "Mn0",
          "O1",
          "H2",
          "H3",
          "O4",
          "H5",
          "H6",
          "O7",
          "H8",
          "H9",
          "O10",
          "H11",
          "H12",
          "S13",
          "C14",
          "N15",
          "S16",
          "C17",
          "N18"
         ],
         "z": [
          [
           0.7769103629254955,
           0.7550654667860276,
           0.6944202726074526,
           0.8581246613553111,
           0.8493397587147086,
           0.6547225755905625,
           0.773550158768113,
           0.7921019010436295,
           -0.8236677872121851,
           0.6493401314659428,
           0.49583156405983864,
           0.9320513890777872,
           0.47204938564578125,
           0.576217064707096,
           0.7267990456506317,
           0.6173645531917942,
           -0.8363290561092951,
           0.7407183976152463,
           0.6093362737218839,
           -0.7562163579507916,
           -1,
           0.7853572590749239,
           0.7437130117149804,
           -0.5343460347181798,
           -0.614737068731218,
           0.5972819357334307,
           -0.8152632969853335,
           0.6222723924374742,
           0.9573886498331702,
           0.6011639960017966,
           -0.7515009738178102,
           -0.9050846490138326,
           -0.6218300724173742,
           0.9401445333367185,
           0.9410071453229608,
           0.32996411173073376,
           0.8006409009434897,
           -0.671644710594696,
           -0.9168748522858806,
           1,
           -0.7662811057067784,
           -0.692543125865545,
           -0.8541619021137147,
           -0.7587732959019523,
           0.3640657126678221,
           -0.792167444772858,
           -0.9829982439784789,
           -0.7338399101908325,
           0.9811898309509124,
           0.4094289240600668,
           0.5523948874030556,
           0.6782750301527817,
           0.8703046477432893,
           -0.8998196422952812,
           0.2930365149957381,
           -0.5862971316537883,
           -0.9056309037276986,
           0.45692387114631217
          ],
          [
           0.45007709920737,
           0.2714732211443275,
           -0.1624211184780075,
           -0.33479574239360593,
           -0.41748746352902527,
           0.3908971735963307,
           -0.47575376713104023,
           -0.39935297944851605,
           -0.19462105765910598,
           -0.45847992809783206,
           0.4423130856836714,
           0.29644001583134066,
           -0.3933899690729636,
           0.3980113391919323,
           0.30796334096771444,
           -0.4435953497452938,
           0.3503093343787471,
           0.5552019893740309,
           -0.10439836214866409,
           0.28583575542921186,
           0.5537737656353023,
           0.42576123450067493,
           -0.5772567358628891,
           -0.4058838654804749,
           -0.3195222142991425,
           0,
           0,
           0,
           0,
           0,
           0,
           0,
           0,
           0,
           0,
           0,
           0,
           0,
           0,
           0,
           0,
           0,
           0,
           0,
           0,
           0,
           0,
           0,
           0,
           0,
           0,
           0,
           0,
           0,
           0,
           0,
           0,
           0
          ],
          [
           -0.09159286088266728,
           0.14651817434763492,
           0.16679829866949275,
           0.131515205254724,
           0.16851301098038635,
           0.1299961692062248,
           0,
           0,
           0,
           0,
           0,
           0,
           0,
           0,
           0,
           0,
           0,
           0,
           0,
           0,
           0,
           0,
           0,
           0,
           0,
           0,
           0,
           0,
           0,
           0,
           0,
           0,
           0,
           0,
           0,
           0,
           0,
           0,
           0,
           0,
           0,
           0,
           0,
           0,
           0,
           0,
           0,
           0,
           0,
           0,
           0,
           0,
           0,
           0,
           0,
           0,
           0,
           0
          ],
          [
           -0.10486199269019256,
           0.14508166279839593,
           0.16651687641103396,
           0.132990921787283,
           0.16705340963564308,
           0.13078255895736327,
           0,
           0,
           0,
           0,
           0,
           0,
           0,
           0,
           0,
           0,
           0,
           0,
           0,
           0,
           0,
           0,
           0,
           0,
           0,
           0,
           0,
           0,
           0,
           0,
           0,
           0,
           0,
           0,
           0,
           0,
           0,
           0,
           0,
           0,
           0,
           0,
           0,
           0,
           0,
           0,
           0,
           0,
           0,
           0,
           0,
           0,
           0,
           0,
           0,
           0,
           0,
           0
          ],
          [
           0.4359441886916449,
           0.18052181991423985,
           0.11272881147382444,
           -0.33399970353239034,
           -0.39596182161695836,
           0.38458452338176574,
           -0.44852827426859065,
           -0.3687365921465481,
           -0.2318666285781954,
           -0.4423909642903076,
           0.44561977436402633,
           0.31383188180203314,
           -0.366827013919777,
           0.39700141830933533,
           0.27674864545742994,
           -0.41357465820168254,
           0.3329455834803451,
           0.5336061431023746,
           -0.16499090017572193,
           0.28181118628874985,
           0.5425256896644344,
           0.4126298023611377,
           -0.5834090119525701,
           -0.3930976613497977,
           -0.34225243251499243,
           0,
           0,
           0,
           0,
           0,
           0,
           0,
           0,
           0,
           0,
           0,
           0,
           0,
           0,
           0,
           0,
           0,
           0,
           0,
           0,
           0,
           0,
           0,
           0,
           0,
           0,
           0,
           0,
           0,
           0,
           0,
           0,
           0
          ],
          [
           -0.10046037752711012,
           0.14931842674730764,
           0.16771807913706824,
           0.13651101463730378,
           0.170559004207906,
           0.12937935085796598,
           0,
           0,
           0,
           0,
           0,
           0,
           0,
           0,
           0,
           0,
           0,
           0,
           0,
           0,
           0,
           0,
           0,
           0,
           0,
           0,
           0,
           0,
           0,
           0,
           0,
           0,
           0,
           0,
           0,
           0,
           0,
           0,
           0,
           0,
           0,
           0,
           0,
           0,
           0,
           0,
           0,
           0,
           0,
           0,
           0,
           0,
           0,
           0,
           0,
           0,
           0,
           0
          ],
          [
           -0.10290737389215925,
           0.1499577487441731,
           0.1685348946260234,
           0.13742438018976766,
           0.17124070437347425,
           0.12940170876585247,
           0,
           0,
           0,
           0,
           0,
           0,
           0,
           0,
           0,
           0,
           0,
           0,
           0,
           0,
           0,
           0,
           0,
           0,
           0,
           0,
           0,
           0,
           0,
           0,
           0,
           0,
           0,
           0,
           0,
           0,
           0,
           0,
           0,
           0,
           0,
           0,
           0,
           0,
           0,
           0,
           0,
           0,
           0,
           0,
           0,
           0,
           0,
           0,
           0,
           0,
           0,
           0
          ],
          [
           0.4489051450136915,
           0.27322026651824927,
           -0.1746371134369395,
           -0.3351353842802739,
           -0.4195834973480295,
           0.38935274556802874,
           -0.4760895290797232,
           -0.3999578284964733,
           -0.1901376450968524,
           -0.45741957599508204,
           0.4404698168121039,
           0.29461230466182325,
           -0.39222673214491827,
           0.3968351789755369,
           0.30770287673304736,
           -0.4438186926613763,
           0.3515693719721546,
           0.5554348482924076,
           -0.11541493262767896,
           0.2855732232225064,
           0.5526625949377999,
           0.4245408883985754,
           -0.5729738344816963,
           -0.4057658068044727,
           -0.3146485909963118,
           0,
           0,
           0,
           0,
           0,
           0,
           0,
           0,
           0,
           0,
           0,
           0,
           0,
           0,
           0,
           0,
           0,
           0,
           0,
           0,
           0,
           0,
           0,
           0,
           0,
           0,
           0,
           0,
           0,
           0,
           0,
           0,
           0
          ],
          [
           -0.10212642119223757,
           0.1445059368571389,
           0.16657990834410769,
           0.13105537094117717,
           0.16653150268256917,
           0.13087853434222946,
           0,
           0,
           0,
           0,
           0,
           0,
           0,
           0,
           0,
           0,
           0,
           0,
           0,
           0,
           0,
           0,
           0,
           0,
           0,
           0,
           0,
           0,
           0,
           0,
           0,
           0,
           0,
           0,
           0,
           0,
           0,
           0,
           0,
           0,
           0,
           0,
           0,
           0,
           0,
           0,
           0,
           0,
           0,
           0,
           0,
           0,
           0,
           0,
           0,
           0,
           0,
           0
          ],
          [
           -0.0839093729985434,
           0.14226740103056826,
           0.16323251128676292,
           0.1258359304451754,
           0.1646918748065628,
           0.12596228107764038,
           0,
           0,
           0,
           0,
           0,
           0,
           0,
           0,
           0,
           0,
           0,
           0,
           0,
           0,
           0,
           0,
           0,
           0,
           0,
           0,
           0,
           0,
           0,
           0,
           0,
           0,
           0,
           0,
           0,
           0,
           0,
           0,
           0,
           0,
           0,
           0,
           0,
           0,
           0,
           0,
           0,
           0,
           0,
           0,
           0,
           0,
           0,
           0,
           0,
           0,
           0,
           0
          ],
          [
           0.44283116834437913,
           0.23441706149767721,
           -0.08645929287892254,
           -0.33380148179674146,
           -0.4068903558304874,
           0.3893427847026821,
           -0.4648129911767168,
           -0.39026538355040885,
           -0.22142920414375727,
           -0.4528209628903173,
           0.44680355514935344,
           0.30820767940380217,
           -0.381862263777317,
           0.39890578513629293,
           0.2960291390835629,
           -0.4322297583223399,
           0.34204165076890736,
           0.5463523386495446,
           -0.13092727293104447,
           0.28537736577697514,
           0.5488529333968883,
           0.42027677822677434,
           -0.5820267779213988,
           -0.39953580891418755,
           -0.33171785731675046,
           0,
           0,
           0,
           0,
           0,
           0,
           0,
           0,
           0,
           0,
           0,
           0,
           0,
           0,
           0,
           0,
           0,
           0,
           0,
           0,
           0,
           0,
           0,
           0,
           0,
           0,
           0,
           0,
           0,
           0,
           0,
           0,
           0
          ],
          [
           -0.09814890815419869,
           0.14938954603143467,
           0.1684302345924077,
           0.1361810776135534,
           0.17096520031824508,
           0.13024741699187853,
           0,
           0,
           0,
           0,
           0,
           0,
           0,
           0,
           0,
           0,
           0,
           0,
           0,
           0,
           0,
           0,
           0,
           0,
           0,
           0,
           0,
           0,
           0,
           0,
           0,
           0,
           0,
           0,
           0,
           0,
           0,
           0,
           0,
           0,
           0,
           0,
           0,
           0,
           0,
           0,
           0,
           0,
           0,
           0,
           0,
           0,
           0,
           0,
           0,
           0,
           0,
           0
          ],
          [
           -0.10146529398024062,
           0.1506567634937554,
           0.16851330068614329,
           0.137673974570242,
           0.17153612207042943,
           0.12924130525275965,
           0,
           0,
           0,
           0,
           0,
           0,
           0,
           0,
           0,
           0,
           0,
           0,
           0,
           0,
           0,
           0,
           0,
           0,
           0,
           0,
           0,
           0,
           0,
           0,
           0,
           0,
           0,
           0,
           0,
           0,
           0,
           0,
           0,
           0,
           0,
           0,
           0,
           0,
           0,
           0,
           0,
           0,
           0,
           0,
           0,
           0,
           0,
           0,
           0,
           0,
           0,
           0
          ],
          [
           0.46989641810408067,
           0.2528755834015479,
           -0.2401290601043597,
           -0.36448750855856765,
           -0.3846693764673401,
           0.3950875697833411,
           -0.5115155151578572,
           -0.397435862900432,
           0.18433937236199277,
           -0.4665921757354807,
           0.47700582939247,
           0.29810603336954095,
           -0.39821424422492047,
           0.4165174962227362,
           0.374772154187789,
           -0.42451415470956283,
           0.3771236340961142,
           0.5666263728995788,
           -0.24168017755269613,
           0.304669253903389,
           0.5765112790100745,
           0.4482493890427493,
           -0.6158275384970359,
           -0.4024311328578898,
           -0.23614955506437196,
           -0.24119993494994435,
           -0.36669110624790296,
           -0.41259606129318793,
           0.19901910434244263,
           -0.14292737625583746,
           -0.5092016559080415,
           -0.5989323838707193,
           -0.5561678105156963,
           0.37926660426099845,
           0.34805636161075637,
           0.4540281181804788,
           0.38144060695220205,
           0.22615115733246877,
           0,
           0,
           0,
           0,
           0,
           0,
           0,
           0,
           0,
           0,
           0,
           0,
           0,
           0,
           0,
           0,
           0,
           0,
           0,
           0
          ],
          [
           -0.46426114673574886,
           0.27751376768148833,
           -0.4122337959038587,
           -0.2588061613538936,
           -0.10470387007427301,
           -0.3841797453335074,
           -0.2941917695444189,
           -0.3050360501976749,
           -0.3656221696690878,
           0.24145100946618725,
           -0.4097569396534457,
           -0.36689641518878013,
           -0.25792589853391673,
           -0.37299732779109257,
           -0.30508144500835843,
           -0.38062865265060836,
           -0.4284518401923859,
           0.30123046212742,
           -0.23453602216045122,
           0.2794032269124708,
           0.3876702930637755,
           -0.31812270059537967,
           -0.15159706713586385,
           -0.05255773228587736,
           0.40697908114297743,
           0,
           0,
           0,
           0,
           0,
           0,
           0,
           0,
           0,
           0,
           0,
           0,
           0,
           0,
           0,
           0,
           0,
           0,
           0,
           0,
           0,
           0,
           0,
           0,
           0,
           0,
           0,
           0,
           0,
           0,
           0,
           0,
           0
          ],
          [
           -0.31363119871655637,
           -0.18881010505541257,
           -0.2746009959300746,
           -0.2362650261254473,
           -0.1596287565234697,
           -0.23351612663561871,
           -0.26689332475473243,
           -0.29265311057855237,
           -0.2579352778081873,
           -0.14435589005255528,
           0.2276208375379618,
           -0.2182579593985157,
           0.2921849419083141,
           -0.2876793240818005,
           -0.2686416471143995,
           -0.26627052931856404,
           -0.19573160329638128,
           -0.18158997995190612,
           0.27006977655813413,
           0.14760658982944672,
           0.24926382796563176,
           0.03225655590520735,
           -0.2332457467123596,
           -0.2860131354693119,
           0.22188286567080384,
           0,
           0,
           0,
           0,
           0,
           0,
           0,
           0,
           0,
           0,
           0,
           0,
           0,
           0,
           0,
           0,
           0,
           0,
           0,
           0,
           0,
           0,
           0,
           0,
           0,
           0,
           0,
           0,
           0,
           0,
           0,
           0,
           0
          ],
          [
           0.47163798643770366,
           0.2584660218074991,
           -0.24357921521673556,
           -0.36468098280294653,
           -0.3835281443358984,
           0.4000984694526872,
           -0.5196735907079063,
           -0.3944146458316375,
           0.21075753419670998,
           -0.472683395557778,
           0.48389393668690023,
           0.3017553475751983,
           -0.4165366922397807,
           0.4177323300807452,
           0.37622607667982644,
           -0.43774935721591857,
           0.3760723309406332,
           0.5767447828970313,
           -0.20282519049461725,
           0.3265730853624636,
           0.5801245973662724,
           0.45274202734774943,
           -0.6263008742642042,
           -0.41397487243222353,
           -0.2535249724600426,
           -0.24069938931123516,
           -0.37937826203229835,
           -0.41995290017750725,
           0.1954872297050885,
           0.141355321801794,
           -0.5190141420646237,
           -0.6135380964041036,
           -0.5709019086098416,
           0.3802230223846537,
           0.34725632745090995,
           0.4598156595632759,
           0.3731014937547906,
           0.19289181824449902,
           0,
           0,
           0,
           0,
           0,
           0,
           0,
           0,
           0,
           0,
           0,
           0,
           0,
           0,
           0,
           0,
           0,
           0,
           0,
           0
          ],
          [
           -0.46634183874512797,
           0.2764442490380393,
           -0.41360311507709685,
           -0.2621950690110609,
           -0.11208128623859917,
           -0.38497781072495707,
           -0.2954825712737123,
           -0.30693800536106547,
           -0.36599614719381085,
           0.24318166006894051,
           -0.4104535943831526,
           -0.37056774398887055,
           -0.2627187074653253,
           -0.3757895593834102,
           -0.30689804295289863,
           -0.3823009619030006,
           -0.43022175227904064,
           0.30321165338653605,
           -0.23697089134735408,
           0.2797334620665733,
           0.3877531239002426,
           -0.3177404068593262,
           -0.14802819628760833,
           -0.09319209843553576,
           0.4067075941575288,
           0,
           0,
           0,
           0,
           0,
           0,
           0,
           0,
           0,
           0,
           0,
           0,
           0,
           0,
           0,
           0,
           0,
           0,
           0,
           0,
           0,
           0,
           0,
           0,
           0,
           0,
           0,
           0,
           0,
           0,
           0,
           0,
           0
          ],
          [
           -0.31449469339148384,
           -0.1895110136225079,
           -0.2745165397282399,
           -0.23657753845331164,
           -0.1619208082262671,
           -0.23288969217372962,
           -0.2671470945487,
           -0.294078344283598,
           -0.257551346221469,
           -0.14176990543927234,
           0.22888128321625786,
           -0.21911625909086105,
           0.29307466511892183,
           -0.28815813060729023,
           -0.2685136559213233,
           -0.26701833674707776,
           -0.1963936180629748,
           -0.17987759141091803,
           0.2708185687596873,
           0.14575621348016196,
           0.2500803013969233,
           0.02825996075029256,
           -0.23418426254206515,
           -0.28575683731484874,
           0.22280504701493983,
           0,
           0,
           0,
           0,
           0,
           0,
           0,
           0,
           0,
           0,
           0,
           0,
           0,
           0,
           0,
           0,
           0,
           0,
           0,
           0,
           0,
           0,
           0,
           0,
           0,
           0,
           0,
           0,
           0,
           0,
           0,
           0,
           0
          ]
         ]
        }
       ],
       "layout": {
        "boxmode": "group",
        "coloraxis": {
         "colorscale": [
          [
           0,
           "rgb(5,48,97)"
          ],
          [
           0.1,
           "rgb(33,102,172)"
          ],
          [
           0.2,
           "rgb(67,147,195)"
          ],
          [
           0.3,
           "rgb(146,197,222)"
          ],
          [
           0.4,
           "rgb(209,229,240)"
          ],
          [
           0.5,
           "rgb(247,247,247)"
          ],
          [
           0.6,
           "rgb(253,219,199)"
          ],
          [
           0.7,
           "rgb(244,165,130)"
          ],
          [
           0.8,
           "rgb(214,96,77)"
          ],
          [
           0.9,
           "rgb(178,24,43)"
          ],
          [
           1,
           "rgb(103,0,31)"
          ]
         ]
        },
        "height": 350,
        "margin": {
         "t": 60
        },
        "template": {
         "data": {
          "bar": [
           {
            "error_x": {
             "color": "#2a3f5f"
            },
            "error_y": {
             "color": "#2a3f5f"
            },
            "marker": {
             "line": {
              "color": "#E5ECF6",
              "width": 0.5
             }
            },
            "type": "bar"
           }
          ],
          "barpolar": [
           {
            "marker": {
             "line": {
              "color": "#E5ECF6",
              "width": 0.5
             }
            },
            "type": "barpolar"
           }
          ],
          "carpet": [
           {
            "aaxis": {
             "endlinecolor": "#2a3f5f",
             "gridcolor": "white",
             "linecolor": "white",
             "minorgridcolor": "white",
             "startlinecolor": "#2a3f5f"
            },
            "baxis": {
             "endlinecolor": "#2a3f5f",
             "gridcolor": "white",
             "linecolor": "white",
             "minorgridcolor": "white",
             "startlinecolor": "#2a3f5f"
            },
            "type": "carpet"
           }
          ],
          "choropleth": [
           {
            "colorbar": {
             "outlinewidth": 0,
             "ticks": ""
            },
            "type": "choropleth"
           }
          ],
          "contour": [
           {
            "colorbar": {
             "outlinewidth": 0,
             "ticks": ""
            },
            "colorscale": [
             [
              0,
              "#0d0887"
             ],
             [
              0.1111111111111111,
              "#46039f"
             ],
             [
              0.2222222222222222,
              "#7201a8"
             ],
             [
              0.3333333333333333,
              "#9c179e"
             ],
             [
              0.4444444444444444,
              "#bd3786"
             ],
             [
              0.5555555555555556,
              "#d8576b"
             ],
             [
              0.6666666666666666,
              "#ed7953"
             ],
             [
              0.7777777777777778,
              "#fb9f3a"
             ],
             [
              0.8888888888888888,
              "#fdca26"
             ],
             [
              1,
              "#f0f921"
             ]
            ],
            "type": "contour"
           }
          ],
          "contourcarpet": [
           {
            "colorbar": {
             "outlinewidth": 0,
             "ticks": ""
            },
            "type": "contourcarpet"
           }
          ],
          "heatmap": [
           {
            "colorbar": {
             "outlinewidth": 0,
             "ticks": ""
            },
            "colorscale": [
             [
              0,
              "#0d0887"
             ],
             [
              0.1111111111111111,
              "#46039f"
             ],
             [
              0.2222222222222222,
              "#7201a8"
             ],
             [
              0.3333333333333333,
              "#9c179e"
             ],
             [
              0.4444444444444444,
              "#bd3786"
             ],
             [
              0.5555555555555556,
              "#d8576b"
             ],
             [
              0.6666666666666666,
              "#ed7953"
             ],
             [
              0.7777777777777778,
              "#fb9f3a"
             ],
             [
              0.8888888888888888,
              "#fdca26"
             ],
             [
              1,
              "#f0f921"
             ]
            ],
            "type": "heatmap"
           }
          ],
          "heatmapgl": [
           {
            "colorbar": {
             "outlinewidth": 0,
             "ticks": ""
            },
            "colorscale": [
             [
              0,
              "#0d0887"
             ],
             [
              0.1111111111111111,
              "#46039f"
             ],
             [
              0.2222222222222222,
              "#7201a8"
             ],
             [
              0.3333333333333333,
              "#9c179e"
             ],
             [
              0.4444444444444444,
              "#bd3786"
             ],
             [
              0.5555555555555556,
              "#d8576b"
             ],
             [
              0.6666666666666666,
              "#ed7953"
             ],
             [
              0.7777777777777778,
              "#fb9f3a"
             ],
             [
              0.8888888888888888,
              "#fdca26"
             ],
             [
              1,
              "#f0f921"
             ]
            ],
            "type": "heatmapgl"
           }
          ],
          "histogram": [
           {
            "marker": {
             "colorbar": {
              "outlinewidth": 0,
              "ticks": ""
             }
            },
            "type": "histogram"
           }
          ],
          "histogram2d": [
           {
            "colorbar": {
             "outlinewidth": 0,
             "ticks": ""
            },
            "colorscale": [
             [
              0,
              "#0d0887"
             ],
             [
              0.1111111111111111,
              "#46039f"
             ],
             [
              0.2222222222222222,
              "#7201a8"
             ],
             [
              0.3333333333333333,
              "#9c179e"
             ],
             [
              0.4444444444444444,
              "#bd3786"
             ],
             [
              0.5555555555555556,
              "#d8576b"
             ],
             [
              0.6666666666666666,
              "#ed7953"
             ],
             [
              0.7777777777777778,
              "#fb9f3a"
             ],
             [
              0.8888888888888888,
              "#fdca26"
             ],
             [
              1,
              "#f0f921"
             ]
            ],
            "type": "histogram2d"
           }
          ],
          "histogram2dcontour": [
           {
            "colorbar": {
             "outlinewidth": 0,
             "ticks": ""
            },
            "colorscale": [
             [
              0,
              "#0d0887"
             ],
             [
              0.1111111111111111,
              "#46039f"
             ],
             [
              0.2222222222222222,
              "#7201a8"
             ],
             [
              0.3333333333333333,
              "#9c179e"
             ],
             [
              0.4444444444444444,
              "#bd3786"
             ],
             [
              0.5555555555555556,
              "#d8576b"
             ],
             [
              0.6666666666666666,
              "#ed7953"
             ],
             [
              0.7777777777777778,
              "#fb9f3a"
             ],
             [
              0.8888888888888888,
              "#fdca26"
             ],
             [
              1,
              "#f0f921"
             ]
            ],
            "type": "histogram2dcontour"
           }
          ],
          "mesh3d": [
           {
            "colorbar": {
             "outlinewidth": 0,
             "ticks": ""
            },
            "type": "mesh3d"
           }
          ],
          "parcoords": [
           {
            "line": {
             "colorbar": {
              "outlinewidth": 0,
              "ticks": ""
             }
            },
            "type": "parcoords"
           }
          ],
          "pie": [
           {
            "automargin": true,
            "type": "pie"
           }
          ],
          "scatter": [
           {
            "marker": {
             "colorbar": {
              "outlinewidth": 0,
              "ticks": ""
             }
            },
            "type": "scatter"
           }
          ],
          "scatter3d": [
           {
            "line": {
             "colorbar": {
              "outlinewidth": 0,
              "ticks": ""
             }
            },
            "marker": {
             "colorbar": {
              "outlinewidth": 0,
              "ticks": ""
             }
            },
            "type": "scatter3d"
           }
          ],
          "scattercarpet": [
           {
            "marker": {
             "colorbar": {
              "outlinewidth": 0,
              "ticks": ""
             }
            },
            "type": "scattercarpet"
           }
          ],
          "scattergeo": [
           {
            "marker": {
             "colorbar": {
              "outlinewidth": 0,
              "ticks": ""
             }
            },
            "type": "scattergeo"
           }
          ],
          "scattergl": [
           {
            "marker": {
             "colorbar": {
              "outlinewidth": 0,
              "ticks": ""
             }
            },
            "type": "scattergl"
           }
          ],
          "scattermapbox": [
           {
            "marker": {
             "colorbar": {
              "outlinewidth": 0,
              "ticks": ""
             }
            },
            "type": "scattermapbox"
           }
          ],
          "scatterpolar": [
           {
            "marker": {
             "colorbar": {
              "outlinewidth": 0,
              "ticks": ""
             }
            },
            "type": "scatterpolar"
           }
          ],
          "scatterpolargl": [
           {
            "marker": {
             "colorbar": {
              "outlinewidth": 0,
              "ticks": ""
             }
            },
            "type": "scatterpolargl"
           }
          ],
          "scatterternary": [
           {
            "marker": {
             "colorbar": {
              "outlinewidth": 0,
              "ticks": ""
             }
            },
            "type": "scatterternary"
           }
          ],
          "surface": [
           {
            "colorbar": {
             "outlinewidth": 0,
             "ticks": ""
            },
            "colorscale": [
             [
              0,
              "#0d0887"
             ],
             [
              0.1111111111111111,
              "#46039f"
             ],
             [
              0.2222222222222222,
              "#7201a8"
             ],
             [
              0.3333333333333333,
              "#9c179e"
             ],
             [
              0.4444444444444444,
              "#bd3786"
             ],
             [
              0.5555555555555556,
              "#d8576b"
             ],
             [
              0.6666666666666666,
              "#ed7953"
             ],
             [
              0.7777777777777778,
              "#fb9f3a"
             ],
             [
              0.8888888888888888,
              "#fdca26"
             ],
             [
              1,
              "#f0f921"
             ]
            ],
            "type": "surface"
           }
          ],
          "table": [
           {
            "cells": {
             "fill": {
              "color": "#EBF0F8"
             },
             "line": {
              "color": "white"
             }
            },
            "header": {
             "fill": {
              "color": "#C8D4E3"
             },
             "line": {
              "color": "white"
             }
            },
            "type": "table"
           }
          ]
         },
         "layout": {
          "annotationdefaults": {
           "arrowcolor": "#2a3f5f",
           "arrowhead": 0,
           "arrowwidth": 1
          },
          "coloraxis": {
           "colorbar": {
            "outlinewidth": 0,
            "ticks": ""
           }
          },
          "colorscale": {
           "diverging": [
            [
             0,
             "#8e0152"
            ],
            [
             0.1,
             "#c51b7d"
            ],
            [
             0.2,
             "#de77ae"
            ],
            [
             0.3,
             "#f1b6da"
            ],
            [
             0.4,
             "#fde0ef"
            ],
            [
             0.5,
             "#f7f7f7"
            ],
            [
             0.6,
             "#e6f5d0"
            ],
            [
             0.7,
             "#b8e186"
            ],
            [
             0.8,
             "#7fbc41"
            ],
            [
             0.9,
             "#4d9221"
            ],
            [
             1,
             "#276419"
            ]
           ],
           "sequential": [
            [
             0,
             "#0d0887"
            ],
            [
             0.1111111111111111,
             "#46039f"
            ],
            [
             0.2222222222222222,
             "#7201a8"
            ],
            [
             0.3333333333333333,
             "#9c179e"
            ],
            [
             0.4444444444444444,
             "#bd3786"
            ],
            [
             0.5555555555555556,
             "#d8576b"
            ],
            [
             0.6666666666666666,
             "#ed7953"
            ],
            [
             0.7777777777777778,
             "#fb9f3a"
            ],
            [
             0.8888888888888888,
             "#fdca26"
            ],
            [
             1,
             "#f0f921"
            ]
           ],
           "sequentialminus": [
            [
             0,
             "#0d0887"
            ],
            [
             0.1111111111111111,
             "#46039f"
            ],
            [
             0.2222222222222222,
             "#7201a8"
            ],
            [
             0.3333333333333333,
             "#9c179e"
            ],
            [
             0.4444444444444444,
             "#bd3786"
            ],
            [
             0.5555555555555556,
             "#d8576b"
            ],
            [
             0.6666666666666666,
             "#ed7953"
            ],
            [
             0.7777777777777778,
             "#fb9f3a"
            ],
            [
             0.8888888888888888,
             "#fdca26"
            ],
            [
             1,
             "#f0f921"
            ]
           ]
          },
          "colorway": [
           "#636efa",
           "#EF553B",
           "#00cc96",
           "#ab63fa",
           "#FFA15A",
           "#19d3f3",
           "#FF6692",
           "#B6E880",
           "#FF97FF",
           "#FECB52"
          ],
          "font": {
           "color": "#2a3f5f"
          },
          "geo": {
           "bgcolor": "white",
           "lakecolor": "white",
           "landcolor": "#E5ECF6",
           "showlakes": true,
           "showland": true,
           "subunitcolor": "white"
          },
          "hoverlabel": {
           "align": "left"
          },
          "hovermode": "closest",
          "mapbox": {
           "style": "light"
          },
          "paper_bgcolor": "white",
          "plot_bgcolor": "#E5ECF6",
          "polar": {
           "angularaxis": {
            "gridcolor": "white",
            "linecolor": "white",
            "ticks": ""
           },
           "bgcolor": "#E5ECF6",
           "radialaxis": {
            "gridcolor": "white",
            "linecolor": "white",
            "ticks": ""
           }
          },
          "scene": {
           "xaxis": {
            "backgroundcolor": "#E5ECF6",
            "gridcolor": "white",
            "gridwidth": 2,
            "linecolor": "white",
            "showbackground": true,
            "ticks": "",
            "zerolinecolor": "white"
           },
           "yaxis": {
            "backgroundcolor": "#E5ECF6",
            "gridcolor": "white",
            "gridwidth": 2,
            "linecolor": "white",
            "showbackground": true,
            "ticks": "",
            "zerolinecolor": "white"
           },
           "zaxis": {
            "backgroundcolor": "#E5ECF6",
            "gridcolor": "white",
            "gridwidth": 2,
            "linecolor": "white",
            "showbackground": true,
            "ticks": "",
            "zerolinecolor": "white"
           }
          },
          "shapedefaults": {
           "line": {
            "color": "#2a3f5f"
           }
          },
          "ternary": {
           "aaxis": {
            "gridcolor": "white",
            "linecolor": "white",
            "ticks": ""
           },
           "baxis": {
            "gridcolor": "white",
            "linecolor": "white",
            "ticks": ""
           },
           "bgcolor": "#E5ECF6",
           "caxis": {
            "gridcolor": "white",
            "linecolor": "white",
            "ticks": ""
           }
          },
          "title": {
           "x": 0.05
          },
          "xaxis": {
           "automargin": true,
           "gridcolor": "white",
           "linecolor": "white",
           "ticks": "",
           "title": {
            "standoff": 15
           },
           "zerolinecolor": "white",
           "zerolinewidth": 2
          },
          "yaxis": {
           "automargin": true,
           "gridcolor": "white",
           "linecolor": "white",
           "ticks": "",
           "title": {
            "standoff": 15
           },
           "zerolinecolor": "white",
           "zerolinewidth": 2
          }
         }
        },
        "width": 900,
        "xaxis": {
         "constrain": "domain",
         "scaleanchor": "y"
        },
        "yaxis": {
         "autorange": "reversed",
         "constrain": "domain"
        }
       }
      },
      "text/html": [
       "<div>\n",
       "        \n",
       "        \n",
       "            <div id=\"5e68384e-e008-4df8-a50c-575c4da91a23\" class=\"plotly-graph-div\" style=\"height:350px; width:900px;\"></div>\n",
       "            <script type=\"text/javascript\">\n",
       "                require([\"plotly\"], function(Plotly) {\n",
       "                    window.PLOTLYENV=window.PLOTLYENV || {};\n",
       "                    \n",
       "                if (document.getElementById(\"5e68384e-e008-4df8-a50c-575c4da91a23\")) {\n",
       "                    Plotly.newPlot(\n",
       "                        '5e68384e-e008-4df8-a50c-575c4da91a23',\n",
       "                        [{\"coloraxis\": \"coloraxis\", \"hovertemplate\": \"x: %{x}<br>y: %{y}<br>color: %{z}<extra></extra>\", \"type\": \"heatmap\", \"x\": [0, 1, 2, 3, 4, 5, 6, 7, 8, 9, 10, 11, 12, 13, 14, 15, 16, 17, 18, 19, 20, 21, 22, 23, 24, 25, 26, 27, 28, 29, 30, 31, 32, 33, 34, 35, 36, 37, 38, 39, 40, 41, 42, 43, 44, 45, 46, 47, 48, 49, 50, 51, 52, 53, 54, 55, 56, 57], \"y\": [\"Mn0\", \"O1\", \"H2\", \"H3\", \"O4\", \"H5\", \"H6\", \"O7\", \"H8\", \"H9\", \"O10\", \"H11\", \"H12\", \"S13\", \"C14\", \"N15\", \"S16\", \"C17\", \"N18\"], \"z\": [[0.7769103629254955, 0.7550654667860276, 0.6944202726074526, 0.8581246613553111, 0.8493397587147086, 0.6547225755905625, 0.773550158768113, 0.7921019010436295, -0.8236677872121851, 0.6493401314659428, 0.49583156405983864, 0.9320513890777872, 0.47204938564578125, 0.576217064707096, 0.7267990456506317, 0.6173645531917942, -0.8363290561092951, 0.7407183976152463, 0.6093362737218839, -0.7562163579507916, -1.0, 0.7853572590749239, 0.7437130117149804, -0.5343460347181798, -0.614737068731218, 0.5972819357334307, -0.8152632969853335, 0.6222723924374742, 0.9573886498331702, 0.6011639960017966, -0.7515009738178102, -0.9050846490138326, -0.6218300724173742, 0.9401445333367185, 0.9410071453229608, 0.32996411173073376, 0.8006409009434897, -0.671644710594696, -0.9168748522858806, 1.0, -0.7662811057067784, -0.692543125865545, -0.8541619021137147, -0.7587732959019523, 0.3640657126678221, -0.792167444772858, -0.9829982439784789, -0.7338399101908325, 0.9811898309509124, 0.4094289240600668, 0.5523948874030556, 0.6782750301527817, 0.8703046477432893, -0.8998196422952812, 0.2930365149957381, -0.5862971316537883, -0.9056309037276986, 0.45692387114631217], [0.45007709920737, 0.2714732211443275, -0.1624211184780075, -0.33479574239360593, -0.41748746352902527, 0.3908971735963307, -0.47575376713104023, -0.39935297944851605, -0.19462105765910598, -0.45847992809783206, 0.4423130856836714, 0.29644001583134066, -0.3933899690729636, 0.3980113391919323, 0.30796334096771444, -0.4435953497452938, 0.3503093343787471, 0.5552019893740309, -0.10439836214866409, 0.28583575542921186, 0.5537737656353023, 0.42576123450067493, -0.5772567358628891, -0.4058838654804749, -0.3195222142991425, -0.0, -0.0, -0.0, -0.0, -0.0, -0.0, -0.0, -0.0, 0.0, 0.0, 0.0, 0.0, 0.0, -0.0, -0.0, -0.0, -0.0, -0.0, -0.0, -0.0, -0.0, -0.0, -0.0, -0.0, -0.0, -0.0, -0.0, -0.0, -0.0, -0.0, -0.0, -0.0, -0.0], [-0.09159286088266728, 0.14651817434763492, 0.16679829866949275, 0.131515205254724, 0.16851301098038635, 0.1299961692062248, -0.0, -0.0, -0.0, -0.0, -0.0, -0.0, -0.0, -0.0, -0.0, -0.0, -0.0, -0.0, -0.0, -0.0, -0.0, -0.0, -0.0, -0.0, -0.0, -0.0, -0.0, -0.0, -0.0, -0.0, -0.0, -0.0, -0.0, -0.0, -0.0, -0.0, -0.0, -0.0, -0.0, -0.0, -0.0, -0.0, -0.0, -0.0, -0.0, -0.0, -0.0, -0.0, -0.0, -0.0, -0.0, -0.0, -0.0, -0.0, -0.0, -0.0, -0.0, -0.0], [-0.10486199269019256, 0.14508166279839593, 0.16651687641103396, 0.132990921787283, 0.16705340963564308, 0.13078255895736327, -0.0, -0.0, -0.0, -0.0, -0.0, -0.0, -0.0, -0.0, -0.0, -0.0, -0.0, -0.0, -0.0, -0.0, -0.0, -0.0, -0.0, -0.0, -0.0, -0.0, -0.0, -0.0, -0.0, -0.0, -0.0, -0.0, -0.0, -0.0, -0.0, -0.0, -0.0, -0.0, -0.0, -0.0, -0.0, -0.0, -0.0, -0.0, -0.0, -0.0, -0.0, -0.0, -0.0, -0.0, -0.0, -0.0, -0.0, -0.0, -0.0, -0.0, -0.0, -0.0], [0.4359441886916449, 0.18052181991423985, 0.11272881147382444, -0.33399970353239034, -0.39596182161695836, 0.38458452338176574, -0.44852827426859065, -0.3687365921465481, -0.2318666285781954, -0.4423909642903076, 0.44561977436402633, 0.31383188180203314, -0.366827013919777, 0.39700141830933533, 0.27674864545742994, -0.41357465820168254, 0.3329455834803451, 0.5336061431023746, -0.16499090017572193, 0.28181118628874985, 0.5425256896644344, 0.4126298023611377, -0.5834090119525701, -0.3930976613497977, -0.34225243251499243, -0.0, -0.0, -0.0, -0.0, -0.0, -0.0, -0.0, -0.0, 0.0, 0.0, 0.0, 0.0, 0.0, -0.0, -0.0, -0.0, -0.0, -0.0, -0.0, -0.0, -0.0, -0.0, -0.0, -0.0, -0.0, -0.0, -0.0, -0.0, -0.0, -0.0, -0.0, -0.0, -0.0], [-0.10046037752711012, 0.14931842674730764, 0.16771807913706824, 0.13651101463730378, 0.170559004207906, 0.12937935085796598, -0.0, -0.0, -0.0, -0.0, -0.0, -0.0, -0.0, -0.0, -0.0, -0.0, -0.0, -0.0, -0.0, -0.0, -0.0, -0.0, -0.0, -0.0, -0.0, -0.0, -0.0, -0.0, -0.0, -0.0, -0.0, -0.0, -0.0, -0.0, -0.0, -0.0, -0.0, -0.0, -0.0, -0.0, -0.0, -0.0, -0.0, -0.0, -0.0, -0.0, -0.0, -0.0, -0.0, -0.0, -0.0, -0.0, -0.0, -0.0, -0.0, -0.0, -0.0, -0.0], [-0.10290737389215925, 0.1499577487441731, 0.1685348946260234, 0.13742438018976766, 0.17124070437347425, 0.12940170876585247, -0.0, -0.0, -0.0, -0.0, -0.0, -0.0, -0.0, -0.0, -0.0, -0.0, -0.0, -0.0, -0.0, -0.0, -0.0, -0.0, -0.0, -0.0, -0.0, -0.0, -0.0, -0.0, -0.0, -0.0, -0.0, -0.0, -0.0, -0.0, -0.0, -0.0, -0.0, -0.0, -0.0, -0.0, -0.0, -0.0, -0.0, -0.0, -0.0, -0.0, -0.0, -0.0, -0.0, -0.0, -0.0, -0.0, -0.0, -0.0, -0.0, -0.0, -0.0, -0.0], [0.4489051450136915, 0.27322026651824927, -0.1746371134369395, -0.3351353842802739, -0.4195834973480295, 0.38935274556802874, -0.4760895290797232, -0.3999578284964733, -0.1901376450968524, -0.45741957599508204, 0.4404698168121039, 0.29461230466182325, -0.39222673214491827, 0.3968351789755369, 0.30770287673304736, -0.4438186926613763, 0.3515693719721546, 0.5554348482924076, -0.11541493262767896, 0.2855732232225064, 0.5526625949377999, 0.4245408883985754, -0.5729738344816963, -0.4057658068044727, -0.3146485909963118, -0.0, -0.0, -0.0, -0.0, -0.0, -0.0, -0.0, -0.0, 0.0, 0.0, 0.0, 0.0, 0.0, -0.0, -0.0, -0.0, -0.0, -0.0, -0.0, -0.0, -0.0, -0.0, -0.0, -0.0, -0.0, -0.0, -0.0, -0.0, -0.0, -0.0, -0.0, -0.0, -0.0], [-0.10212642119223757, 0.1445059368571389, 0.16657990834410769, 0.13105537094117717, 0.16653150268256917, 0.13087853434222946, -0.0, -0.0, -0.0, -0.0, -0.0, -0.0, -0.0, -0.0, -0.0, -0.0, -0.0, -0.0, -0.0, -0.0, -0.0, -0.0, -0.0, -0.0, -0.0, -0.0, -0.0, -0.0, -0.0, -0.0, -0.0, -0.0, -0.0, -0.0, -0.0, -0.0, -0.0, -0.0, -0.0, -0.0, -0.0, -0.0, -0.0, -0.0, -0.0, -0.0, -0.0, -0.0, -0.0, -0.0, -0.0, -0.0, -0.0, -0.0, -0.0, -0.0, -0.0, -0.0], [-0.0839093729985434, 0.14226740103056826, 0.16323251128676292, 0.1258359304451754, 0.1646918748065628, 0.12596228107764038, -0.0, -0.0, -0.0, -0.0, -0.0, -0.0, -0.0, -0.0, -0.0, -0.0, -0.0, -0.0, -0.0, -0.0, -0.0, -0.0, -0.0, -0.0, -0.0, -0.0, -0.0, -0.0, -0.0, -0.0, -0.0, -0.0, -0.0, -0.0, -0.0, -0.0, -0.0, -0.0, -0.0, -0.0, -0.0, -0.0, -0.0, -0.0, -0.0, -0.0, -0.0, -0.0, -0.0, -0.0, -0.0, -0.0, -0.0, -0.0, -0.0, -0.0, -0.0, -0.0], [0.44283116834437913, 0.23441706149767721, -0.08645929287892254, -0.33380148179674146, -0.4068903558304874, 0.3893427847026821, -0.4648129911767168, -0.39026538355040885, -0.22142920414375727, -0.4528209628903173, 0.44680355514935344, 0.30820767940380217, -0.381862263777317, 0.39890578513629293, 0.2960291390835629, -0.4322297583223399, 0.34204165076890736, 0.5463523386495446, -0.13092727293104447, 0.28537736577697514, 0.5488529333968883, 0.42027677822677434, -0.5820267779213988, -0.39953580891418755, -0.33171785731675046, -0.0, -0.0, -0.0, -0.0, -0.0, -0.0, -0.0, -0.0, 0.0, 0.0, 0.0, 0.0, 0.0, -0.0, -0.0, -0.0, -0.0, -0.0, -0.0, -0.0, -0.0, -0.0, -0.0, -0.0, -0.0, -0.0, -0.0, -0.0, -0.0, -0.0, -0.0, -0.0, -0.0], [-0.09814890815419869, 0.14938954603143467, 0.1684302345924077, 0.1361810776135534, 0.17096520031824508, 0.13024741699187853, -0.0, -0.0, -0.0, -0.0, -0.0, -0.0, -0.0, -0.0, -0.0, -0.0, -0.0, -0.0, -0.0, -0.0, -0.0, -0.0, -0.0, -0.0, -0.0, -0.0, -0.0, -0.0, -0.0, -0.0, -0.0, -0.0, -0.0, -0.0, -0.0, -0.0, -0.0, -0.0, -0.0, -0.0, -0.0, -0.0, -0.0, -0.0, -0.0, -0.0, -0.0, -0.0, -0.0, -0.0, -0.0, -0.0, -0.0, -0.0, -0.0, -0.0, -0.0, -0.0], [-0.10146529398024062, 0.1506567634937554, 0.16851330068614329, 0.137673974570242, 0.17153612207042943, 0.12924130525275965, -0.0, -0.0, -0.0, -0.0, -0.0, -0.0, -0.0, -0.0, -0.0, -0.0, -0.0, -0.0, -0.0, -0.0, -0.0, -0.0, -0.0, -0.0, -0.0, -0.0, -0.0, -0.0, -0.0, -0.0, -0.0, -0.0, -0.0, -0.0, -0.0, -0.0, -0.0, -0.0, -0.0, -0.0, -0.0, -0.0, -0.0, -0.0, -0.0, -0.0, -0.0, -0.0, -0.0, -0.0, -0.0, -0.0, -0.0, -0.0, -0.0, -0.0, -0.0, -0.0], [0.46989641810408067, 0.2528755834015479, -0.2401290601043597, -0.36448750855856765, -0.3846693764673401, 0.3950875697833411, -0.5115155151578572, -0.397435862900432, 0.18433937236199277, -0.4665921757354807, 0.47700582939247, 0.29810603336954095, -0.39821424422492047, 0.4165174962227362, 0.374772154187789, -0.42451415470956283, 0.3771236340961142, 0.5666263728995788, -0.24168017755269613, 0.304669253903389, 0.5765112790100745, 0.4482493890427493, -0.6158275384970359, -0.4024311328578898, -0.23614955506437196, -0.24119993494994435, -0.36669110624790296, -0.41259606129318793, 0.19901910434244263, -0.14292737625583746, -0.5092016559080415, -0.5989323838707193, -0.5561678105156963, 0.37926660426099845, 0.34805636161075637, 0.4540281181804788, 0.38144060695220205, 0.22615115733246877, -0.0, -0.0, -0.0, -0.0, -0.0, -0.0, -0.0, -0.0, -0.0, -0.0, -0.0, -0.0, -0.0, -0.0, -0.0, -0.0, -0.0, -0.0, -0.0, -0.0], [-0.46426114673574886, 0.27751376768148833, -0.4122337959038587, -0.2588061613538936, -0.10470387007427301, -0.3841797453335074, -0.2941917695444189, -0.3050360501976749, -0.3656221696690878, 0.24145100946618725, -0.4097569396534457, -0.36689641518878013, -0.25792589853391673, -0.37299732779109257, -0.30508144500835843, -0.38062865265060836, -0.4284518401923859, 0.30123046212742, -0.23453602216045122, 0.2794032269124708, 0.3876702930637755, -0.31812270059537967, -0.15159706713586385, -0.05255773228587736, 0.40697908114297743, -0.0, -0.0, -0.0, -0.0, -0.0, -0.0, -0.0, -0.0, -0.0, -0.0, -0.0, -0.0, -0.0, -0.0, -0.0, -0.0, -0.0, -0.0, -0.0, -0.0, -0.0, -0.0, -0.0, -0.0, -0.0, -0.0, -0.0, -0.0, -0.0, -0.0, -0.0, -0.0, -0.0], [-0.31363119871655637, -0.18881010505541257, -0.2746009959300746, -0.2362650261254473, -0.1596287565234697, -0.23351612663561871, -0.26689332475473243, -0.29265311057855237, -0.2579352778081873, -0.14435589005255528, 0.2276208375379618, -0.2182579593985157, 0.2921849419083141, -0.2876793240818005, -0.2686416471143995, -0.26627052931856404, -0.19573160329638128, -0.18158997995190612, 0.27006977655813413, 0.14760658982944672, 0.24926382796563176, 0.03225655590520735, -0.2332457467123596, -0.2860131354693119, 0.22188286567080384, 0.0, 0.0, 0.0, 0.0, -0.0, -0.0, -0.0, 0.0, -0.0, 0.0, 0.0, 0.0, 0.0, -0.0, -0.0, -0.0, -0.0, -0.0, -0.0, -0.0, -0.0, -0.0, -0.0, -0.0, -0.0, -0.0, -0.0, -0.0, -0.0, -0.0, -0.0, -0.0, -0.0], [0.47163798643770366, 0.2584660218074991, -0.24357921521673556, -0.36468098280294653, -0.3835281443358984, 0.4000984694526872, -0.5196735907079063, -0.3944146458316375, 0.21075753419670998, -0.472683395557778, 0.48389393668690023, 0.3017553475751983, -0.4165366922397807, 0.4177323300807452, 0.37622607667982644, -0.43774935721591857, 0.3760723309406332, 0.5767447828970313, -0.20282519049461725, 0.3265730853624636, 0.5801245973662724, 0.45274202734774943, -0.6263008742642042, -0.41397487243222353, -0.2535249724600426, -0.24069938931123516, -0.37937826203229835, -0.41995290017750725, 0.1954872297050885, 0.141355321801794, -0.5190141420646237, -0.6135380964041036, -0.5709019086098416, 0.3802230223846537, 0.34725632745090995, 0.4598156595632759, 0.3731014937547906, 0.19289181824449902, -0.0, -0.0, -0.0, -0.0, -0.0, -0.0, -0.0, -0.0, -0.0, -0.0, -0.0, -0.0, -0.0, -0.0, -0.0, -0.0, -0.0, -0.0, -0.0, -0.0], [-0.46634183874512797, 0.2764442490380393, -0.41360311507709685, -0.2621950690110609, -0.11208128623859917, -0.38497781072495707, -0.2954825712737123, -0.30693800536106547, -0.36599614719381085, 0.24318166006894051, -0.4104535943831526, -0.37056774398887055, -0.2627187074653253, -0.3757895593834102, -0.30689804295289863, -0.3823009619030006, -0.43022175227904064, 0.30321165338653605, -0.23697089134735408, 0.2797334620665733, 0.3877531239002426, -0.3177404068593262, -0.14802819628760833, -0.09319209843553576, 0.4067075941575288, -0.0, -0.0, -0.0, -0.0, -0.0, -0.0, -0.0, -0.0, -0.0, -0.0, -0.0, -0.0, -0.0, -0.0, -0.0, -0.0, -0.0, -0.0, -0.0, -0.0, -0.0, -0.0, -0.0, -0.0, -0.0, -0.0, -0.0, -0.0, -0.0, -0.0, -0.0, -0.0, -0.0], [-0.31449469339148384, -0.1895110136225079, -0.2745165397282399, -0.23657753845331164, -0.1619208082262671, -0.23288969217372962, -0.2671470945487, -0.294078344283598, -0.257551346221469, -0.14176990543927234, 0.22888128321625786, -0.21911625909086105, 0.29307466511892183, -0.28815813060729023, -0.2685136559213233, -0.26701833674707776, -0.1963936180629748, -0.17987759141091803, 0.2708185687596873, 0.14575621348016196, 0.2500803013969233, 0.02825996075029256, -0.23418426254206515, -0.28575683731484874, 0.22280504701493983, 0.0, 0.0, 0.0, 0.0, -0.0, -0.0, -0.0, 0.0, -0.0, 0.0, 0.0, 0.0, 0.0, -0.0, -0.0, -0.0, -0.0, -0.0, -0.0, -0.0, -0.0, -0.0, -0.0, -0.0, -0.0, -0.0, -0.0, -0.0, -0.0, -0.0, -0.0, -0.0, -0.0]]}],\n",
       "                        {\"boxmode\": \"group\", \"coloraxis\": {\"colorscale\": [[0.0, \"rgb(5,48,97)\"], [0.1, \"rgb(33,102,172)\"], [0.2, \"rgb(67,147,195)\"], [0.3, \"rgb(146,197,222)\"], [0.4, \"rgb(209,229,240)\"], [0.5, \"rgb(247,247,247)\"], [0.6, \"rgb(253,219,199)\"], [0.7, \"rgb(244,165,130)\"], [0.8, \"rgb(214,96,77)\"], [0.9, \"rgb(178,24,43)\"], [1.0, \"rgb(103,0,31)\"]]}, \"height\": 350, \"margin\": {\"t\": 60}, \"template\": {\"data\": {\"bar\": [{\"error_x\": {\"color\": \"#2a3f5f\"}, \"error_y\": {\"color\": \"#2a3f5f\"}, \"marker\": {\"line\": {\"color\": \"#E5ECF6\", \"width\": 0.5}}, \"type\": \"bar\"}], \"barpolar\": [{\"marker\": {\"line\": {\"color\": \"#E5ECF6\", \"width\": 0.5}}, \"type\": \"barpolar\"}], \"carpet\": [{\"aaxis\": {\"endlinecolor\": \"#2a3f5f\", \"gridcolor\": \"white\", \"linecolor\": \"white\", \"minorgridcolor\": \"white\", \"startlinecolor\": \"#2a3f5f\"}, \"baxis\": {\"endlinecolor\": \"#2a3f5f\", \"gridcolor\": \"white\", \"linecolor\": \"white\", \"minorgridcolor\": \"white\", \"startlinecolor\": \"#2a3f5f\"}, \"type\": \"carpet\"}], \"choropleth\": [{\"colorbar\": {\"outlinewidth\": 0, \"ticks\": \"\"}, \"type\": \"choropleth\"}], \"contour\": [{\"colorbar\": {\"outlinewidth\": 0, \"ticks\": \"\"}, \"colorscale\": [[0.0, \"#0d0887\"], [0.1111111111111111, \"#46039f\"], [0.2222222222222222, \"#7201a8\"], [0.3333333333333333, \"#9c179e\"], [0.4444444444444444, \"#bd3786\"], [0.5555555555555556, \"#d8576b\"], [0.6666666666666666, \"#ed7953\"], [0.7777777777777778, \"#fb9f3a\"], [0.8888888888888888, \"#fdca26\"], [1.0, \"#f0f921\"]], \"type\": \"contour\"}], \"contourcarpet\": [{\"colorbar\": {\"outlinewidth\": 0, \"ticks\": \"\"}, \"type\": \"contourcarpet\"}], \"heatmap\": [{\"colorbar\": {\"outlinewidth\": 0, \"ticks\": \"\"}, \"colorscale\": [[0.0, \"#0d0887\"], [0.1111111111111111, \"#46039f\"], [0.2222222222222222, \"#7201a8\"], [0.3333333333333333, \"#9c179e\"], [0.4444444444444444, \"#bd3786\"], [0.5555555555555556, \"#d8576b\"], [0.6666666666666666, \"#ed7953\"], [0.7777777777777778, \"#fb9f3a\"], [0.8888888888888888, \"#fdca26\"], [1.0, \"#f0f921\"]], \"type\": \"heatmap\"}], \"heatmapgl\": [{\"colorbar\": {\"outlinewidth\": 0, \"ticks\": \"\"}, \"colorscale\": [[0.0, \"#0d0887\"], [0.1111111111111111, \"#46039f\"], [0.2222222222222222, \"#7201a8\"], [0.3333333333333333, \"#9c179e\"], [0.4444444444444444, \"#bd3786\"], [0.5555555555555556, \"#d8576b\"], [0.6666666666666666, \"#ed7953\"], [0.7777777777777778, \"#fb9f3a\"], [0.8888888888888888, \"#fdca26\"], [1.0, \"#f0f921\"]], \"type\": \"heatmapgl\"}], \"histogram\": [{\"marker\": {\"colorbar\": {\"outlinewidth\": 0, \"ticks\": \"\"}}, \"type\": \"histogram\"}], \"histogram2d\": [{\"colorbar\": {\"outlinewidth\": 0, \"ticks\": \"\"}, \"colorscale\": [[0.0, \"#0d0887\"], [0.1111111111111111, \"#46039f\"], [0.2222222222222222, \"#7201a8\"], [0.3333333333333333, \"#9c179e\"], [0.4444444444444444, \"#bd3786\"], [0.5555555555555556, \"#d8576b\"], [0.6666666666666666, \"#ed7953\"], [0.7777777777777778, \"#fb9f3a\"], [0.8888888888888888, \"#fdca26\"], [1.0, \"#f0f921\"]], \"type\": \"histogram2d\"}], \"histogram2dcontour\": [{\"colorbar\": {\"outlinewidth\": 0, \"ticks\": \"\"}, \"colorscale\": [[0.0, \"#0d0887\"], [0.1111111111111111, \"#46039f\"], [0.2222222222222222, \"#7201a8\"], [0.3333333333333333, \"#9c179e\"], [0.4444444444444444, \"#bd3786\"], [0.5555555555555556, \"#d8576b\"], [0.6666666666666666, \"#ed7953\"], [0.7777777777777778, \"#fb9f3a\"], [0.8888888888888888, \"#fdca26\"], [1.0, \"#f0f921\"]], \"type\": \"histogram2dcontour\"}], \"mesh3d\": [{\"colorbar\": {\"outlinewidth\": 0, \"ticks\": \"\"}, \"type\": \"mesh3d\"}], \"parcoords\": [{\"line\": {\"colorbar\": {\"outlinewidth\": 0, \"ticks\": \"\"}}, \"type\": \"parcoords\"}], \"pie\": [{\"automargin\": true, \"type\": \"pie\"}], \"scatter\": [{\"marker\": {\"colorbar\": {\"outlinewidth\": 0, \"ticks\": \"\"}}, \"type\": \"scatter\"}], \"scatter3d\": [{\"line\": {\"colorbar\": {\"outlinewidth\": 0, \"ticks\": \"\"}}, \"marker\": {\"colorbar\": {\"outlinewidth\": 0, \"ticks\": \"\"}}, \"type\": \"scatter3d\"}], \"scattercarpet\": [{\"marker\": {\"colorbar\": {\"outlinewidth\": 0, \"ticks\": \"\"}}, \"type\": \"scattercarpet\"}], \"scattergeo\": [{\"marker\": {\"colorbar\": {\"outlinewidth\": 0, \"ticks\": \"\"}}, \"type\": \"scattergeo\"}], \"scattergl\": [{\"marker\": {\"colorbar\": {\"outlinewidth\": 0, \"ticks\": \"\"}}, \"type\": \"scattergl\"}], \"scattermapbox\": [{\"marker\": {\"colorbar\": {\"outlinewidth\": 0, \"ticks\": \"\"}}, \"type\": \"scattermapbox\"}], \"scatterpolar\": [{\"marker\": {\"colorbar\": {\"outlinewidth\": 0, \"ticks\": \"\"}}, \"type\": \"scatterpolar\"}], \"scatterpolargl\": [{\"marker\": {\"colorbar\": {\"outlinewidth\": 0, \"ticks\": \"\"}}, \"type\": \"scatterpolargl\"}], \"scatterternary\": [{\"marker\": {\"colorbar\": {\"outlinewidth\": 0, \"ticks\": \"\"}}, \"type\": \"scatterternary\"}], \"surface\": [{\"colorbar\": {\"outlinewidth\": 0, \"ticks\": \"\"}, \"colorscale\": [[0.0, \"#0d0887\"], [0.1111111111111111, \"#46039f\"], [0.2222222222222222, \"#7201a8\"], [0.3333333333333333, \"#9c179e\"], [0.4444444444444444, \"#bd3786\"], [0.5555555555555556, \"#d8576b\"], [0.6666666666666666, \"#ed7953\"], [0.7777777777777778, \"#fb9f3a\"], [0.8888888888888888, \"#fdca26\"], [1.0, \"#f0f921\"]], \"type\": \"surface\"}], \"table\": [{\"cells\": {\"fill\": {\"color\": \"#EBF0F8\"}, \"line\": {\"color\": \"white\"}}, \"header\": {\"fill\": {\"color\": \"#C8D4E3\"}, \"line\": {\"color\": \"white\"}}, \"type\": \"table\"}]}, \"layout\": {\"annotationdefaults\": {\"arrowcolor\": \"#2a3f5f\", \"arrowhead\": 0, \"arrowwidth\": 1}, \"coloraxis\": {\"colorbar\": {\"outlinewidth\": 0, \"ticks\": \"\"}}, \"colorscale\": {\"diverging\": [[0, \"#8e0152\"], [0.1, \"#c51b7d\"], [0.2, \"#de77ae\"], [0.3, \"#f1b6da\"], [0.4, \"#fde0ef\"], [0.5, \"#f7f7f7\"], [0.6, \"#e6f5d0\"], [0.7, \"#b8e186\"], [0.8, \"#7fbc41\"], [0.9, \"#4d9221\"], [1, \"#276419\"]], \"sequential\": [[0.0, \"#0d0887\"], [0.1111111111111111, \"#46039f\"], [0.2222222222222222, \"#7201a8\"], [0.3333333333333333, \"#9c179e\"], [0.4444444444444444, \"#bd3786\"], [0.5555555555555556, \"#d8576b\"], [0.6666666666666666, \"#ed7953\"], [0.7777777777777778, \"#fb9f3a\"], [0.8888888888888888, \"#fdca26\"], [1.0, \"#f0f921\"]], \"sequentialminus\": [[0.0, \"#0d0887\"], [0.1111111111111111, \"#46039f\"], [0.2222222222222222, \"#7201a8\"], [0.3333333333333333, \"#9c179e\"], [0.4444444444444444, \"#bd3786\"], [0.5555555555555556, \"#d8576b\"], [0.6666666666666666, \"#ed7953\"], [0.7777777777777778, \"#fb9f3a\"], [0.8888888888888888, \"#fdca26\"], [1.0, \"#f0f921\"]]}, \"colorway\": [\"#636efa\", \"#EF553B\", \"#00cc96\", \"#ab63fa\", \"#FFA15A\", \"#19d3f3\", \"#FF6692\", \"#B6E880\", \"#FF97FF\", \"#FECB52\"], \"font\": {\"color\": \"#2a3f5f\"}, \"geo\": {\"bgcolor\": \"white\", \"lakecolor\": \"white\", \"landcolor\": \"#E5ECF6\", \"showlakes\": true, \"showland\": true, \"subunitcolor\": \"white\"}, \"hoverlabel\": {\"align\": \"left\"}, \"hovermode\": \"closest\", \"mapbox\": {\"style\": \"light\"}, \"paper_bgcolor\": \"white\", \"plot_bgcolor\": \"#E5ECF6\", \"polar\": {\"angularaxis\": {\"gridcolor\": \"white\", \"linecolor\": \"white\", \"ticks\": \"\"}, \"bgcolor\": \"#E5ECF6\", \"radialaxis\": {\"gridcolor\": \"white\", \"linecolor\": \"white\", \"ticks\": \"\"}}, \"scene\": {\"xaxis\": {\"backgroundcolor\": \"#E5ECF6\", \"gridcolor\": \"white\", \"gridwidth\": 2, \"linecolor\": \"white\", \"showbackground\": true, \"ticks\": \"\", \"zerolinecolor\": \"white\"}, \"yaxis\": {\"backgroundcolor\": \"#E5ECF6\", \"gridcolor\": \"white\", \"gridwidth\": 2, \"linecolor\": \"white\", \"showbackground\": true, \"ticks\": \"\", \"zerolinecolor\": \"white\"}, \"zaxis\": {\"backgroundcolor\": \"#E5ECF6\", \"gridcolor\": \"white\", \"gridwidth\": 2, \"linecolor\": \"white\", \"showbackground\": true, \"ticks\": \"\", \"zerolinecolor\": \"white\"}}, \"shapedefaults\": {\"line\": {\"color\": \"#2a3f5f\"}}, \"ternary\": {\"aaxis\": {\"gridcolor\": \"white\", \"linecolor\": \"white\", \"ticks\": \"\"}, \"baxis\": {\"gridcolor\": \"white\", \"linecolor\": \"white\", \"ticks\": \"\"}, \"bgcolor\": \"#E5ECF6\", \"caxis\": {\"gridcolor\": \"white\", \"linecolor\": \"white\", \"ticks\": \"\"}}, \"title\": {\"x\": 0.05}, \"xaxis\": {\"automargin\": true, \"gridcolor\": \"white\", \"linecolor\": \"white\", \"ticks\": \"\", \"title\": {\"standoff\": 15}, \"zerolinecolor\": \"white\", \"zerolinewidth\": 2}, \"yaxis\": {\"automargin\": true, \"gridcolor\": \"white\", \"linecolor\": \"white\", \"ticks\": \"\", \"title\": {\"standoff\": 15}, \"zerolinecolor\": \"white\", \"zerolinewidth\": 2}}}, \"width\": 900, \"xaxis\": {\"constrain\": \"domain\", \"scaleanchor\": \"y\"}, \"yaxis\": {\"autorange\": \"reversed\", \"constrain\": \"domain\"}},\n",
       "                        {\"responsive\": true}\n",
       "                    ).then(function(){\n",
       "                            \n",
       "var gd = document.getElementById('5e68384e-e008-4df8-a50c-575c4da91a23');\n",
       "var x = new MutationObserver(function (mutations, observer) {{\n",
       "        var display = window.getComputedStyle(gd).display;\n",
       "        if (!display || display === 'none') {{\n",
       "            console.log([gd, 'removed!']);\n",
       "            Plotly.purge(gd);\n",
       "            observer.disconnect();\n",
       "        }}\n",
       "}});\n",
       "\n",
       "// Listen for the removal of the full notebook cells\n",
       "var notebookContainer = gd.closest('#notebook-container');\n",
       "if (notebookContainer) {{\n",
       "    x.observe(notebookContainer, {childList: true});\n",
       "}}\n",
       "\n",
       "// Listen for the clearing of the current output cell\n",
       "var outputEl = gd.closest('.output');\n",
       "if (outputEl) {{\n",
       "    x.observe(outputEl, {childList: true});\n",
       "}}\n",
       "\n",
       "                        })\n",
       "                };\n",
       "                });\n",
       "            </script>\n",
       "        </div>"
      ]
     },
     "metadata": {},
     "output_type": "display_data"
    }
   ],
   "source": [
    "### r_vadv map\n",
    "mask = np.zeros(shape=(kulik_mol.natoms, 58))\n",
    "dd = np.zeros(shape=(kulik_mol.natoms, 58))\n",
    "mask_dict = {\"H\": 6, \"C\": 25, \"N\": 25, \"O\": 25, \"F\": 25, \"S\": 38, \"P\": 38, \"Cl\": 38, \"Fe\": 58, \"Co\": 58, \"Cr\": 58, \"Mn\": 58}\n",
    "for ir in range(dd.shape[0]):\n",
    "    for jc in range(dd.shape[1]):\n",
    "        if d_x[ii, ir, jc] > 0:\n",
    "            dd[ir, jc] = np.power(d_x[ii, ir, jc]/np.max(d_x[ii, :, :58]), 1./3)\n",
    "        else:\n",
    "            dd[ir, jc] = -1*  np.power(d_x[ii, ir, jc]/np.min(d_x[ii, :, :58]), 1./3)\n",
    "    mask[ir, :mask_dict[kulik_mol.getAtom(ir).symbol()]] = 1\n",
    "fig = px.imshow(dd*mask, \n",
    "                color_continuous_scale='RdBu_r',\n",
    "                x=list(range(58)),\n",
    "                y=[kulik_mol.getAtom(x).symbol() + \"%d\"%x for x in range(kulik_mol.natoms)]\n",
    "                )\n",
    "fig.layout.update(width=900, height=350, boxmode='group')\n",
    "fig.show()\n",
    "# fig.write_image(\"../../../../Dropbox (MIT)/CD-DFARecFull/Figures/F3//VAA_map_2.pdf\")"
   ]
  },
  {
   "cell_type": "code",
   "execution_count": 95,
   "metadata": {},
   "outputs": [],
   "source": [
    "# element-based statistics over the data set\n",
    "focus_dict = dict()\n",
    "for ele in mask_dict:\n",
    "    focus_dict[ele] = list()\n",
    "for ii in range(d_x.shape[0]):\n",
    "    xyzfile = basepath + \"/optgeos/optgeo_%s.xyz\"%name_tr[ii]\n",
    "    kulik_mol = mol3D()\n",
    "    kulik_mol.readfromxyz(xyzfile)\n",
    "    for ir in range(kulik_mol.natoms):\n",
    "        ele = kulik_mol.getAtom(ir).symbol()\n",
    "        focus_dict[ele].append(d_x[ii, ir, :mask_dict[ele]])\n",
    "for ele in mask_dict:\n",
    "    focus_dict[ele] = np.array(focus_dict[ele])"
   ]
  },
  {
   "cell_type": "code",
   "execution_count": 111,
   "metadata": {},
   "outputs": [
    {
     "data": {
      "text/plain": [
       "(array([ 0.01239153,  0.01078557,  0.00825875,  0.0074953 ,  0.00935364,\n",
       "         0.01792737,  0.00767558,  0.01036122, -0.00314943,  0.0073944 ,\n",
       "        -0.00635407, -0.00395897, -0.01114259, -0.01310528, -0.01687975,\n",
       "        -0.00206605, -0.00528158, -0.00858818, -0.00600836, -0.00292405,\n",
       "        -0.00958739, -0.0097436 , -0.00963641, -0.00925456,  0.00116541,\n",
       "        -0.00649754, -0.00255184,  0.0049761 , -0.02039176,  0.00111139,\n",
       "        -0.02078774,  0.0113743 , -0.02632923, -0.00757205, -0.01140696,\n",
       "        -0.03837543,  0.00678409, -0.00051557, -0.01551171, -0.00169606,\n",
       "        -0.00607951, -0.0139345 , -0.005543  , -0.00732826, -0.00542829,\n",
       "        -0.00653464, -0.00587791,  0.00066166, -0.01301356,  0.0015952 ,\n",
       "         0.00154864,  0.00795291,  0.00439882, -0.00594464,  0.01192662,\n",
       "        -0.00397677,  0.00509077, -0.01340892], dtype=float32),\n",
       " array([0.08942254, 0.07492004, 0.0542485 , 0.05869279, 0.06391342,\n",
       "        0.12624356, 0.05169532, 0.07588047, 0.04422353, 0.04810916,\n",
       "        0.0486634 , 0.02535694, 0.07687025, 0.08590641, 0.10637654,\n",
       "        0.012238  , 0.04145765, 0.06169268, 0.04087993, 0.02532588,\n",
       "        0.05723966, 0.05889462, 0.05661442, 0.05420414, 0.02959886,\n",
       "        0.04276174, 0.02026664, 0.03744653, 0.13743865, 0.00948011,\n",
       "        0.14012012, 0.07432419, 0.17830276, 0.06129582, 0.08224965,\n",
       "        0.25654107, 0.04834138, 0.02824244, 0.10172801, 0.01650669,\n",
       "        0.03999143, 0.08839489, 0.0355568 , 0.04492843, 0.03522313,\n",
       "        0.03829683, 0.03797623, 0.01822973, 0.08773374, 0.01050088,\n",
       "        0.01947281, 0.0644013 , 0.02490797, 0.04277189, 0.09130265,\n",
       "        0.03156159, 0.04449948, 0.09618703], dtype=float32))"
      ]
     },
     "execution_count": 111,
     "metadata": {},
     "output_type": "execute_result"
    }
   ],
   "source": [
    "np.mean(focus_dict[\"Co\"], 0), np.std(focus_dict[\"Co\"], 0)"
   ]
  },
  {
   "cell_type": "code",
   "execution_count": null,
   "metadata": {},
   "outputs": [],
   "source": []
  }
 ],
 "metadata": {
  "interpreter": {
   "hash": "5fa7bb0cfb890cb2a4de35aa357566cef819d26e492eb32f921a3a3c7e0592ac"
  },
  "kernelspec": {
   "display_name": "Python 3.7.13 ('dfa_rec')",
   "language": "python",
   "name": "python3"
  },
  "language_info": {
   "codemirror_mode": {
    "name": "ipython",
    "version": 3
   },
   "file_extension": ".py",
   "mimetype": "text/x-python",
   "name": "python",
   "nbconvert_exporter": "python",
   "pygments_lexer": "ipython3",
   "version": "3.7.6"
  },
  "orig_nbformat": 4
 },
 "nbformat": 4,
 "nbformat_minor": 2
}
