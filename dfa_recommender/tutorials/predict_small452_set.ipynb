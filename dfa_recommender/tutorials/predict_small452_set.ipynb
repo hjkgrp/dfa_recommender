{
 "cells": [
  {
   "cell_type": "code",
   "execution_count": 83,
   "metadata": {},
   "outputs": [],
   "source": [
    "import numpy as np\n",
    "import pandas as pd\n",
    "import json\n",
    "import pickle\n",
    "from sklearn.metrics import r2_score, mean_absolute_error\n",
    "from scipy.stats import pearsonr, spearmanr\n",
    "import copy"
   ]
  },
  {
   "cell_type": "markdown",
   "metadata": {},
   "source": [
    "##### load for plotting (with plotly)"
   ]
  },
  {
   "cell_type": "code",
   "execution_count": 2,
   "metadata": {},
   "outputs": [
    {
     "data": {
      "text/html": [
       "        <script type=\"text/javascript\">\n",
       "        window.PlotlyConfig = {MathJaxConfig: 'local'};\n",
       "        if (window.MathJax) {MathJax.Hub.Config({SVG: {font: \"STIX-Web\"}});}\n",
       "        if (typeof require !== 'undefined') {\n",
       "        require.undef(\"plotly\");\n",
       "        requirejs.config({\n",
       "            paths: {\n",
       "                'plotly': ['https://cdn.plot.ly/plotly-2.11.1.min']\n",
       "            }\n",
       "        });\n",
       "        require(['plotly'], function(Plotly) {\n",
       "            window._Plotly = Plotly;\n",
       "        });\n",
       "        }\n",
       "        </script>\n",
       "        "
      ]
     },
     "metadata": {},
     "output_type": "display_data"
    }
   ],
   "source": [
    "from _plotly_future_ import v4_subplots\n",
    "import plotly.graph_objs as go\n",
    "import plotly\n",
    "import plotly.express as px\n",
    "from plotly.offline import download_plotlyjs, init_notebook_mode, plot, iplot\n",
    "import plotly.figure_factory as ff\n",
    "plotly.io.orca.config.executable = '/Users/chenruduan/opt/anaconda3/envs/mols_newplotly/bin/orca'\n",
    "init_notebook_mode(connected=True)\n",
    "glob_layout = go.Layout(\n",
    "    font=dict(family='Helvetica', size=24, color='black'),\n",
    "    margin=dict(l=100, r=10, t=10, b=100),\n",
    "    xaxis=dict(showgrid=False,  zeroline=False, ticks=\"inside\", showline=True,\n",
    "               tickwidth=1.5, linewidth=1.5, ticklen=10, linecolor='black',\n",
    "               mirror=\"allticks\", color=\"black\"),\n",
    "    yaxis=dict(showgrid=False,  zeroline=False, ticks=\"inside\", showline=True,\n",
    "               tickwidth=1.5, linewidth=1.5, ticklen=10, linecolor='black',\n",
    "               mirror=\"allticks\", color=\"black\"),\n",
    "    legend_orientation=\"v\",\n",
    "    paper_bgcolor='rgba(255,255,255,100)',\n",
    "    plot_bgcolor='white',\n",
    ")\n",
    "blue = \"rgba(0, 0, 255, 1)\"\n",
    "red = \"rgba(255, 0, 0, 1)\"\n",
    "green = \"rgba(0, 196, 64, 1)\"\n",
    "gray = \"rgba(140, 140, 140, 1)\""
   ]
  },
  {
   "cell_type": "markdown",
   "metadata": {},
   "source": [
    "##### load for ML parts "
   ]
  },
  {
   "cell_type": "code",
   "execution_count": 5,
   "metadata": {},
   "outputs": [],
   "source": [
    "from dfa_recommender.net import GatedNetwork, MySoftplus, TiledMultiLayerNN, MLP, finalMLP, ElementalGate\n",
    "from dfa_recommender.dataset import SubsetDataset\n",
    "from dfa_recommender.sampler import InfiniteSampler\n",
    "from dfa_recommender.ml_utils import numpy_to_dataset\n",
    "import torch\n",
    "from torch.utils.data import DataLoader"
   ]
  },
  {
   "cell_type": "markdown",
   "metadata": {},
   "source": [
    "##### DFAs that we considered"
   ]
  },
  {
   "cell_type": "code",
   "execution_count": 54,
   "metadata": {},
   "outputs": [
    {
     "data": {
      "text/plain": [
       "45"
      ]
     },
     "execution_count": 54,
     "metadata": {},
     "output_type": "execute_result"
    }
   ],
   "source": [
    "base_keys = [\"name\", \"path\", \"metal\",]\n",
    "functionals = [\n",
    "    \"bp86\", \"blyp\", \"pbe\",\n",
    "    \"tpss\", \"scan\", \"m06-l\", \"mn15-l\",\n",
    "    \"b3p86\", \"b3pw91\", \"b3lyp\",\n",
    "    \"tpssh\", \"scan0\", \"m06\", \"m06-2x\",\n",
    "    \"wb97x\", \"LRC-wPBEh\",\n",
    "    \"b2gpplyp\", \"pbe0-dh\", \"dsd-blyp-d3bj\", \"dsd-pbeb95-d3bj\", \"dsd-pbep86-d3bj\",\n",
    "]\n",
    "functionals += [\"blyp_hfx_10\", \"blyp_hfx_20\", \"blyp_hfx_30\", \"blyp_hfx_40\", \"blyp_hfx_50\",\n",
    "                \"pbe_hfx_10\", \"pbe_hfx_20\", \"pbe_hfx_30\", \"pbe_hfx_40\", \"pbe_hfx_50\",   \n",
    "                \"scan_hfx_10\", \"scan_hfx_20\", \"scan_hfx_30\", \"scan_hfx_40\", \"scan_hfx_50\", \n",
    "                \"m06-l_hfx_10\", \"m06-l_hfx_30\", \"m06-l_hfx_40\", \"m06-l_hfx_50\", \n",
    "                \"mn15-l_hfx_10\", \"mn15-l_hfx_20\", \"mn15-l_hfx_30\", \"mn15-l_hfx_40\", \"mn15-l_hfx_50\"]\n",
    "all_functionals = copy.deepcopy(functionals)"
   ]
  },
  {
   "cell_type": "markdown",
   "metadata": {},
   "source": [
    "### Predict the veritcal spin-splitting energy on the 452 set"
   ]
  },
  {
   "cell_type": "code",
   "execution_count": 6,
   "metadata": {},
   "outputs": [],
   "source": [
    "torch.set_num_threads(4)\n",
    "torch.manual_seed(0)\n",
    "np.random.seed(0)\n",
    "device = torch.device('cpu')\n",
    "num_workers = 0"
   ]
  },
  {
   "cell_type": "markdown",
   "metadata": {},
   "source": [
    "##### set path for relavant data files: a random train/test split, where the model is tested on the in-distribution test data"
   ]
  },
  {
   "cell_type": "code",
   "execution_count": 7,
   "metadata": {},
   "outputs": [],
   "source": [
    "from pkg_resources import resource_filename, Requirement\n",
    "basepath = resource_filename(Requirement.parse(\"dfa_recommender\"), \"/dfa_recommender/data/\")"
   ]
  },
  {
   "cell_type": "code",
   "execution_count": 37,
   "metadata": {},
   "outputs": [
    {
     "name": "stderr",
     "output_type": "stream",
     "text": [
      "/opt/anaconda3/envs/dfa_rec/lib/python3.7/site-packages/sklearn/base.py:338: UserWarning:\n",
      "\n",
      "Trying to unpickle estimator StandardScaler from version 0.24.2 when using version 1.0.2. This might lead to breaking code or invalid results. Use at your own risk. For more info please refer to:\n",
      "https://scikit-learn.org/stable/modules/model_persistence.html#security-maintainability-limitations\n",
      "\n"
     ]
    },
    {
     "data": {
      "text/plain": [
       "(300, 152)"
      ]
     },
     "execution_count": 37,
     "metadata": {},
     "output_type": "execute_result"
    }
   ],
   "source": [
    "X_org = pickle.load(open(basepath +  \"/X_vss452.pickle\", \"rb\")) ## features \n",
    "df_org = pd.read_csv(basepath + \"/VSS-452.csv\") ## csv file that stores the compuated vert SSE values at different methods\n",
    "y_scalers = pickle.load(open(basepath +  \"/abs-reg-y_scalers.pkl\", \"rb\")) ## sklearn.preprocessing.StandardScaler object created on the stats of training data\n",
    "tr_inds, te_inds = list(), list()\n",
    "for ii, val in enumerate(df_org[\"train\"].values):\n",
    "    if val == 1:\n",
    "        tr_inds.append(ii)\n",
    "    elif val == 0:\n",
    "        te_inds.append(ii)\n",
    "len(tr_inds), len(te_inds)"
   ]
  },
  {
   "cell_type": "code",
   "execution_count": 47,
   "metadata": {},
   "outputs": [],
   "source": [
    "import os, shutil\n",
    "if not os.path.isdir(\"../data/optgeos/VSS-452/\"):\n",
    "    os.makedirs(\"../data/optgeos/VSS-452/\")\n",
    "for name in df_org[\"name\"].values:\n",
    "    xyzname = \"optgeo_\" + name + \".xyz\"\n",
    "    shutil.copy(\"../data/optgeos/\" + xyzname, \"../data/optgeos/VSS-452/\" + name + \".xyz\")"
   ]
  },
  {
   "cell_type": "markdown",
   "metadata": {},
   "source": [
    "##### predict |DFA - DLPNO-CCSD(T)| vertical spin splitting"
   ]
  },
  {
   "cell_type": "code",
   "execution_count": 39,
   "metadata": {},
   "outputs": [
    {
     "name": "stdout",
     "output_type": "stream",
     "text": [
      "bp86 mae:  2.76731 scaled mae:  0.0534 R2:  0.8864 r val:  0.9416\n",
      "blyp mae:  2.51512 scaled mae:  0.04818 R2:  0.9132 r val:  0.9564\n",
      "pbe mae:  2.77739 scaled mae:  0.05377 R2:  0.8752 r val:  0.9366\n",
      "tpss mae:  2.56791 scaled mae:  0.0509 R2:  0.9106 r val:  0.9543\n",
      "scan mae:  3.13693 scaled mae:  0.05897 R2:  0.8514 r val:  0.926\n",
      "m06-l mae:  2.63249 scaled mae:  0.08552 R2:  0.7185 r val:  0.8568\n",
      "mn15-l mae:  2.83456 scaled mae:  0.11524 R2:  0.5165 r val:  0.7307\n",
      "b3p86 mae:  2.35218 scaled mae:  0.06124 R2:  0.8658 r val:  0.931\n",
      "b3pw91 mae:  2.37783 scaled mae:  0.06607 R2:  0.8298 r val:  0.9117\n",
      "b3lyp mae:  2.24489 scaled mae:  0.06127 R2:  0.8655 r val:  0.9312\n",
      "tpssh mae:  2.64007 scaled mae:  0.05878 R2:  0.8785 r val:  0.9387\n",
      "scan0 mae:  2.21471 scaled mae:  0.064 R2:  0.7932 r val:  0.8938\n",
      "m06 mae:  2.44559 scaled mae:  0.11631 R2:  0.5951 r val:  0.7769\n",
      "m06-2x mae:  1.7109 scaled mae:  0.06533 R2:  0.5049 r val:  0.724\n",
      "wb97x mae:  2.18326 scaled mae:  0.06723 R2:  0.8384 r val:  0.9175\n",
      "LRC-wPBEh mae:  2.25595 scaled mae:  0.07396 R2:  0.8373 r val:  0.9155\n",
      "b2gpplyp mae:  1.83194 scaled mae:  0.07901 R2:  0.73 r val:  0.8544\n",
      "pbe0-dh mae:  2.13579 scaled mae:  0.0908 R2:  0.5525 r val:  0.7862\n",
      "dsd-blyp-d3bj mae:  1.86963 scaled mae:  0.08257 R2:  0.673 r val:  0.825\n",
      "dsd-pbeb95-d3bj mae:  1.82813 scaled mae:  0.07385 R2:  0.7441 r val:  0.8655\n",
      "dsd-pbep86-d3bj mae:  1.99388 scaled mae:  0.08326 R2:  0.7189 r val:  0.8525\n",
      "blyp_hfx_10 mae:  2.40194 scaled mae:  0.05547 R2:  0.8733 r val:  0.9383\n",
      "blyp_hfx_20 mae:  2.3301 scaled mae:  0.06322 R2:  0.847 r val:  0.9242\n",
      "blyp_hfx_30 mae:  2.26445 scaled mae:  0.07306 R2:  0.8144 r val:  0.9056\n",
      "blyp_hfx_40 mae:  1.98085 scaled mae:  0.07526 R2:  0.8331 r val:  0.9131\n",
      "blyp_hfx_50 mae:  2.25792 scaled mae:  0.06365 R2:  0.7502 r val:  0.8681\n",
      "pbe_hfx_10 mae:  2.62748 scaled mae:  0.06228 R2:  0.8473 r val:  0.9234\n",
      "pbe_hfx_20 mae:  2.45056 scaled mae:  0.07043 R2:  0.8368 r val:  0.9165\n",
      "pbe_hfx_30 mae:  1.92127 scaled mae:  0.07115 R2:  0.8391 r val:  0.9167\n",
      "pbe_hfx_40 mae:  2.12647 scaled mae:  0.07193 R2:  0.6521 r val:  0.8116\n",
      "pbe_hfx_50 mae:  2.27622 scaled mae:  0.05774 R2:  0.586 r val:  0.7751\n",
      "scan_hfx_10 mae:  2.84438 scaled mae:  0.06204 R2:  0.827 r val:  0.9128\n",
      "scan_hfx_20 mae:  2.32269 scaled mae:  0.061 R2:  0.8088 r val:  0.9027\n",
      "scan_hfx_30 mae:  2.12076 scaled mae:  0.0659 R2:  0.7759 r val:  0.8823\n",
      "scan_hfx_40 mae:  2.51813 scaled mae:  0.07154 R2:  0.6439 r val:  0.8293\n",
      "scan_hfx_50 mae:  2.44842 scaled mae:  0.05474 R2:  0.5459 r val:  0.7767\n",
      "m06-l_hfx_10 mae:  2.34777 scaled mae:  0.11126 R2:  0.544 r val:  0.7593\n",
      "m06-l_hfx_30 mae:  1.96914 scaled mae:  0.07943 R2:  0.6047 r val:  0.7868\n",
      "m06-l_hfx_40 mae:  1.94575 scaled mae:  0.05884 R2:  0.6682 r val:  0.8351\n",
      "m06-l_hfx_50 mae:  2.08808 scaled mae:  0.0506 R2:  0.7479 r val:  0.8654\n",
      "mn15-l_hfx_10 mae:  2.40795 scaled mae:  0.10544 R2:  0.5594 r val:  0.7658\n",
      "mn15-l_hfx_20 mae:  2.01904 scaled mae:  0.08654 R2:  0.6744 r val:  0.8271\n",
      "mn15-l_hfx_30 mae:  2.07255 scaled mae:  0.06382 R2:  0.7517 r val:  0.8734\n",
      "mn15-l_hfx_40 mae:  1.83622 scaled mae:  0.05018 R2:  0.7921 r val:  0.8951\n",
      "mn15-l_hfx_50 mae:  1.88721 scaled mae:  0.04587 R2:  0.7771 r val:  0.8855\n"
     ]
    }
   ],
   "source": [
    "res_all = {}\n",
    "mae_dict = {}\n",
    "for f in all_functionals:\n",
    "    bz = 16\n",
    "    # X_tr, X_te = X_org[super_tr_inds], X_org[super_te_inds]\n",
    "    # y_t = np.abs(df_org[\"delta.%s.vertsse\"%f].values)\n",
    "    # y_scaler = y_scalers[f]\n",
    "    # y_t = y_scalers[f].transform(y_t.reshape(-1, 1)).reshape(-1, )\n",
    "    # y_tr, y_te = y_t[super_tr_inds], y_t[super_te_inds]\n",
    "    \n",
    "    X_tr, X_te = X_org[tr_inds], X_org[te_inds]\n",
    "    y_t = np.abs(df_org[\"delta.%s.vertsse\"%f].values)\n",
    "    y_scaler = y_scalers[f]\n",
    "    y_t = y_scalers[f].transform(y_t.reshape(-1, 1)).reshape(-1, )\n",
    "    y_tr, y_te = y_t[tr_inds], y_t[te_inds]\n",
    "\n",
    "    data_tr, data_te = numpy_to_dataset(X_tr, y_tr, regression=True), numpy_to_dataset(X_te, y_te, regression=True)\n",
    "    tr_l = SubsetDataset(data_tr, list(range(len(data_tr))))\n",
    "    te_l = SubsetDataset(data_te, list(range(len(data_te))))\n",
    "    # print(\"sub labeled dataset length: \", len(tr_l), len(te_l))\n",
    "\n",
    "    l_tr_iter = iter(DataLoader(tr_l, bz, num_workers=num_workers,\n",
    "                                sampler=InfiniteSampler(len(tr_l))))\n",
    "    l_te_iter = iter(DataLoader(te_l, bz, num_workers=num_workers,\n",
    "                                sampler=InfiniteSampler(len(te_l))))\n",
    "    te_loader = DataLoader(te_l, len(te_l), num_workers=num_workers)\n",
    "    tr_l_loader = DataLoader(tr_l, len(tr_l), num_workers=num_workers)\n",
    "    \n",
    "    best_model = pickle.load(open(basepath + \"/models-trends/mergedG10-abs-reg-%s.pkl\"%f, \"rb\"))\n",
    "    best_model.eval()\n",
    "    preds = []\n",
    "    labels = []\n",
    "    with torch.no_grad():\n",
    "        for x, y in te_loader:\n",
    "            _pred = best_model(x.to(device))\n",
    "            preds.append(_pred.cpu().numpy())\n",
    "            labels.append(y.cpu().numpy())\n",
    "    y_t = y_scaler.inverse_transform(labels[0].reshape(-1, 1)).reshape(-1, )\n",
    "    y_hat = y_scaler.inverse_transform(preds[0].reshape(-1, 1)).reshape(-1, )\n",
    "    non_nan_inds = np.where(~np.isnan(y_t))[0]\n",
    "    y_t_super = np.copy(y_t)\n",
    "    _y_t = y_t[non_nan_inds]\n",
    "    _y_hat = y_hat[non_nan_inds]\n",
    "    mae = mean_absolute_error(_y_hat, _y_t)\n",
    "    scaled_mae = mae/(np.max(_y_t) - np.min(_y_t))\n",
    "    R2 = r2_score(_y_t, _y_hat)\n",
    "    rval = pearsonr(_y_t, _y_hat)[0]\n",
    "    mae_dict[f] = np.float64(mae)\n",
    "    print(f, \"mae: \", round(mae, 5), \"scaled mae: \", round(scaled_mae, 5), \"R2: \", round(R2, 4), \"r val: \", round(rval, 4))\n",
    "    res_all[f + \".y_t\"] = np.abs(y_t)\n",
    "    res_all[f + \".y_hat\"] = np.abs(y_hat)\n",
    "    res_all[\"name\"] = df_org[\"name\"].values[te_inds]\n",
    "    res_all[\"metal\"] = df_org[\"metal\"].values[te_inds]\n",
    "    res_all[\"dlpno.vertsse\"] = df_org[\"dlpno-CCSD_T.vertsse\"].values[te_inds]"
   ]
  },
  {
   "cell_type": "markdown",
   "metadata": {},
   "source": [
    "### Analyze"
   ]
  },
  {
   "cell_type": "markdown",
   "metadata": {},
   "source": [
    "##### sort based on ML predicted |DFA - DLPNO-CCSD(T)| vertical spin splitting to select DFAs"
   ]
  },
  {
   "cell_type": "code",
   "execution_count": 61,
   "metadata": {},
   "outputs": [
    {
     "data": {
      "text/plain": [
       "152"
      ]
     },
     "execution_count": 61,
     "metadata": {},
     "output_type": "execute_result"
    }
   ],
   "source": [
    "df_res = pd.DataFrame.from_dict(res_all)\n",
    "len(df_res)"
   ]
  },
  {
   "cell_type": "code",
   "execution_count": 62,
   "metadata": {},
   "outputs": [],
   "source": [
    "removed = []\n",
    "functionals = list(set(all_functionals).difference(set(removed)))\n",
    "\n",
    "thresh = 0.0\n",
    "errs_t, errs_hat, best_fs, lmstds, lower_bound, true_best_fs, ranks = [\n",
    "], [], [], [], [], [], []\n",
    "err = {}\n",
    "for f in functionals:\n",
    "    err[f] = []\n",
    "for _, row in df_res.iterrows():\n",
    "    res_true = [row[f + \".y_t\"]\n",
    "                if not np.isnan(row[f + \".y_t\"]) else 1000 for f in functionals]\n",
    "    fs_true = [x for _, x in sorted(zip(res_true, functionals))]\n",
    "    res_true = sorted(res_true)\n",
    "    res_hat = [row[f + \".y_hat\"]\n",
    "               if ((not np.isnan(row[f + \".y_t\"]))) else 1000 for f in functionals]\n",
    "    fs = [x for _, x in sorted(zip(res_hat, functionals))]\n",
    "    res_hat = sorted(res_hat)\n",
    "    ranks += [res_true.index(row[fs[0] + \".y_t\"])]\n",
    "\n",
    "    errs_t += [row[fs[0] + \".y_t\"]]\n",
    "    errs_hat += [row[fs[0] + \".y_hat\"]]\n",
    "    best_fs += [fs[0]]\n",
    "    lower_bound += [row[fs_true[0] + \".y_t\"]]\n",
    "    true_best_fs += [fs_true[0]]\n",
    "\n",
    "df_sel = pd.DataFrame.from_dict({\"errs_t\": errs_t, \"errs_hat\": errs_hat,\n",
    "                                 \"best_fs\": best_fs, \"lower_bound\": lower_bound, \"true_best_fs\": true_best_fs,\n",
    "                                 \"ranks\": ranks, \"name\": df_res[\"name\"].values,\n",
    "                                 \"dlpno.vertsse\": df_res[\"dlpno.vertsse\"].values\n",
    "                                 })\n",
    "df_sel = df_sel.sort_values('errs_t')\n",
    "\n",
    "\n",
    "topx = 6\n",
    "thresh = 0.0\n",
    "errs_t, errs_hat, best_fs, lmstds, lower_bound, true_best_fs, ranks = [\n",
    "], [], [], [], [], [], []\n",
    "err = {}\n",
    "for f in functionals:\n",
    "    err[f] = []\n",
    "for _, row in df_res.iterrows():\n",
    "    res_true = [row[f + \".y_t\"]\n",
    "                if not np.isnan(row[f + \".y_t\"]) else 1000 for f in functionals]\n",
    "    fs_true = [x for _, x in sorted(zip(res_true, functionals))]\n",
    "    res_true = sorted(res_true)\n",
    "    res_hat = [row[f + \".y_hat\"]\n",
    "               if ((not np.isnan(row[f + \".y_t\"]))) else 1000 for f in functionals]\n",
    "    fs = [x for _, x in sorted(zip(res_hat, functionals))]\n",
    "    res_hat = sorted(res_hat)\n",
    "    ranks += [res_true.index(row[fs[0] + \".y_t\"])]\n",
    "\n",
    "    errs_t += [[round(row[fs[ii] + \".y_t\"], 2) for ii in range(topx)]]\n",
    "    errs_hat += [[round(row[fs[ii] + \".y_hat\"], 2) for ii in range(topx)]]\n",
    "    best_fs += [[fs[ii] for ii in range(topx)]]\n",
    "    lower_bound += [[round(row[fs_true[ii] + \".y_t\"], 2)\n",
    "                     for ii in range(topx)]]\n",
    "    true_best_fs += [[fs_true[ii] for ii in range(topx)]]\n",
    "df_sel_top = pd.DataFrame.from_dict({\"errs_t\": errs_t, \"errs_hat\": errs_hat, \n",
    "                                     \"best_fs\": best_fs, \"lower_bound\": lower_bound, \"true_best_fs\": true_best_fs,\n",
    "                                     \"ranks\": ranks, \"name\": df_res[\"name\"].values,\n",
    "                                     \"dlpno.vertsse\": df_res[\"dlpno.vertsse\"].values,\n",
    "                                     \"metal\": df_res[\"metal\"].values,\n",
    "                                     })\n",
    "df_sel_top = df_sel_top.sort_values('errs_t')\n"
   ]
  },
  {
   "cell_type": "markdown",
   "metadata": {},
   "source": [
    "##### absolute error distribution"
   ]
  },
  {
   "cell_type": "code",
   "execution_count": 63,
   "metadata": {},
   "outputs": [
    {
     "data": {
      "application/vnd.plotly.v1+json": {
       "config": {
        "plotlyServerURL": "https://plot.ly"
       },
       "data": [
        {
         "autobinx": false,
         "histnorm": "probability density",
         "legendgroup": "",
         "marker": {
          "color": "black"
         },
         "name": "",
         "opacity": 0.7,
         "type": "histogram",
         "x": [
          0.011119811795651913,
          0.023864153772592545,
          0.052006397396326065,
          0.08672300726175308,
          0.12290805578231812,
          0.14197507500648499,
          0.142265185713768,
          0.1444268822669983,
          0.15219812095165253,
          0.15768039226531982,
          0.1644897162914276,
          0.17694249749183655,
          0.17713865637779236,
          0.1830204427242279,
          0.21074694395065308,
          0.2193051278591156,
          0.24281686544418335,
          0.2471517026424408,
          0.2501581311225891,
          0.2674034833908081,
          0.28809458017349243,
          0.32027873396873474,
          0.3256150782108307,
          0.3270658254623413,
          0.38320192694664,
          0.38747483491897583,
          0.3947995603084564,
          0.39741265773773193,
          0.42939460277557373,
          0.4508718252182007,
          0.4755581319332123,
          0.4931112229824066,
          0.49376553297042847,
          0.49658092856407166,
          0.4966460168361664,
          0.505322277545929,
          0.5107141733169556,
          0.5400581359863281,
          0.5990697145462036,
          0.6058262586593628,
          0.6142123341560364,
          0.6206064224243164,
          0.6967146992683411,
          0.711469829082489,
          0.7394935488700867,
          0.7617703676223755,
          0.7771328687667847,
          0.7906760573387146,
          0.8559705018997192,
          0.8942721486091614,
          0.9340057373046875,
          0.9349812269210815,
          0.9966928362846375,
          1.0061343908309937,
          1.0606855154037476,
          1.0909019708633423,
          1.0919979810714722,
          1.1041154861450195,
          1.1437803506851196,
          1.1677731275558472,
          1.1769243478775024,
          1.1784957647323608,
          1.1902374029159546,
          1.2065788507461548,
          1.2313767671585083,
          1.2365220785140991,
          1.2432254552841187,
          1.2667070627212524,
          1.316097378730774,
          1.3311331272125244,
          1.3684883117675781,
          1.418418288230896,
          1.425481915473938,
          1.4261339902877808,
          1.4325493574142456,
          1.490136742591858,
          1.5159450769424438,
          1.5180103778839111,
          1.5181560516357422,
          1.5359792709350586,
          1.5387698411941528,
          1.5486247539520264,
          1.567686915397644,
          1.6353343725204468,
          1.6651438474655151,
          1.7697672843933105,
          1.7867615222930908,
          1.8968397378921509,
          1.951727271080017,
          2.0300796031951904,
          2.03389835357666,
          2.0418386459350586,
          2.0521090030670166,
          2.1357507705688477,
          2.2624452114105225,
          2.2826621532440186,
          2.287487030029297,
          2.304556131362915,
          2.348231792449951,
          2.3980045318603516,
          2.4360392093658447,
          2.4564754962921143,
          2.5231332778930664,
          2.5644359588623047,
          2.5850841999053955,
          2.6185386180877686,
          2.633169174194336,
          2.6643781661987305,
          2.672011375427246,
          2.7106781005859375,
          2.7109198570251465,
          2.7135674953460693,
          2.7591593265533447,
          2.8488330841064453,
          2.9048142433166504,
          2.969134569168091,
          2.9863317012786865,
          3.058621644973755,
          3.1285979747772217,
          3.144796133041382,
          3.154100179672241,
          3.158001661300659,
          3.304659128189087,
          3.5113611221313477,
          3.61488938331604,
          3.8045175075531006,
          3.838407039642334,
          3.921485662460327,
          3.930893659591675,
          4.189592361450195,
          4.259246349334717,
          4.275484085083008,
          4.449670314788818,
          4.922892093658447,
          4.934447765350342,
          5.06345796585083,
          5.361876964569092,
          5.476563930511475,
          5.628546714782715,
          5.695979118347168,
          6.312900543212891,
          6.379827976226807,
          6.449522972106934,
          6.671870708465576,
          6.853058815002441,
          6.854694366455078,
          6.949805736541748,
          6.974671363830566,
          7.279781818389893,
          7.338564872741699,
          7.803490161895752,
          9.20862102508545
         ],
         "xaxis": "x",
         "xbins": {
          "end": 9.20862102508545,
          "size": 0.5,
          "start": 0.011119811795651913
         },
         "yaxis": "y"
        },
        {
         "legendgroup": "",
         "marker": {
          "color": "black"
         },
         "mode": "lines",
         "name": "",
         "showlegend": false,
         "type": "scatter",
         "x": [
          0.011119811795651913,
          0.029514814222231508,
          0.0479098166488111,
          0.0663048190753907,
          0.0846998215019703,
          0.10309482392854989,
          0.12148982635512948,
          0.13988482878170908,
          0.15827983120828867,
          0.17667483363486827,
          0.19506983606144787,
          0.21346483848802744,
          0.23185984091460704,
          0.25025484334118664,
          0.26864984576776624,
          0.28704484819434584,
          0.30543985062092543,
          0.32383485304750503,
          0.34222985547408463,
          0.36062485790066423,
          0.37901986032724383,
          0.3974148627538234,
          0.41580986518040297,
          0.43420486760698257,
          0.45259987003356217,
          0.47099487246014177,
          0.48938987488672137,
          0.5077848773133009,
          0.5261798797398806,
          0.5445748821664601,
          0.5629698845930398,
          0.5813648870196193,
          0.599759889446199,
          0.6181548918727785,
          0.6365498942993582,
          0.6549448967259377,
          0.6733398991525174,
          0.6917349015790969,
          0.7101299040056765,
          0.7285249064322561,
          0.7469199088588357,
          0.7653149112854153,
          0.7837099137119948,
          0.8021049161385745,
          0.820499918565154,
          0.8388949209917337,
          0.8572899234183132,
          0.8756849258448929,
          0.8940799282714724,
          0.9124749306980521,
          0.9308699331246316,
          0.9492649355512113,
          0.9676599379777908,
          0.9860549404043705,
          1.00444994283095,
          1.0228449452575297,
          1.0412399476841092,
          1.0596349501106888,
          1.0780299525372683,
          1.096424954963848,
          1.1148199573904276,
          1.1332149598170072,
          1.1516099622435867,
          1.1700049646701665,
          1.188399967096746,
          1.2067949695233255,
          1.225189971949905,
          1.2435849743764849,
          1.2619799768030644,
          1.280374979229644,
          1.2987699816562235,
          1.317164984082803,
          1.3355599865093828,
          1.3539549889359623,
          1.3723499913625419,
          1.3907449937891214,
          1.4091399962157012,
          1.4275349986422807,
          1.4459300010688603,
          1.4643250034954398,
          1.4827200059220196,
          1.5011150083485991,
          1.5195100107751787,
          1.5379050132017582,
          1.5563000156283378,
          1.5746950180549175,
          1.593090020481497,
          1.6114850229080766,
          1.6298800253346561,
          1.648275027761236,
          1.6666700301878155,
          1.685065032614395,
          1.7034600350409745,
          1.7218550374675543,
          1.7402500398941338,
          1.7586450423207134,
          1.777040044747293,
          1.7954350471738727,
          1.8138300496004522,
          1.8322250520270318,
          1.8506200544536113,
          1.8690150568801909,
          1.8874100593067706,
          1.9058050617333502,
          1.9242000641599297,
          1.9425950665865093,
          1.960990069013089,
          1.9793850714396686,
          1.9977800738662481,
          2.0161750762928277,
          2.0345700787194074,
          2.0529650811459867,
          2.0713600835725665,
          2.0897550859991463,
          2.1081500884257256,
          2.1265450908523054,
          2.1449400932788847,
          2.1633350957054645,
          2.181730098132044,
          2.2001251005586235,
          2.2185201029852033,
          2.236915105411783,
          2.2553101078383624,
          2.273705110264942,
          2.2921001126915215,
          2.3104951151181012,
          2.328890117544681,
          2.3472851199712603,
          2.36568012239784,
          2.3840751248244194,
          2.402470127250999,
          2.420865129677579,
          2.4392601321041583,
          2.457655134530738,
          2.476050136957318,
          2.494445139383897,
          2.512840141810477,
          2.531235144237056,
          2.549630146663636,
          2.5680251490902157,
          2.586420151516795,
          2.604815153943375,
          2.623210156369954,
          2.641605158796534,
          2.6600001612231137,
          2.678395163649693,
          2.6967901660762728,
          2.7151851685028525,
          2.733580170929432,
          2.7519751733560116,
          2.770370175782591,
          2.7887651782091707,
          2.8071601806357505,
          2.82555518306233,
          2.8439501854889095,
          2.862345187915489,
          2.8807401903420686,
          2.8991351927686484,
          2.9175301951952277,
          2.9359251976218075,
          2.9543202000483872,
          2.9727152024749666,
          2.9911102049015463,
          3.0095052073281257,
          3.0279002097547054,
          3.046295212181285,
          3.0646902146078645,
          3.0830852170344443,
          3.1014802194610236,
          3.1198752218876034,
          3.138270224314183,
          3.1566652267407624,
          3.175060229167342,
          3.193455231593922,
          3.2118502340205013,
          3.230245236447081,
          3.2486402388736604,
          3.26703524130024,
          3.28543024372682,
          3.3038252461533992,
          3.322220248579979,
          3.3406152510065583,
          3.359010253433138,
          3.377405255859718,
          3.395800258286297,
          3.414195260712877,
          3.4325902631394567,
          3.450985265566036,
          3.469380267992616,
          3.487775270419195,
          3.506170272845775,
          3.5245652752723546,
          3.542960277698934,
          3.5613552801255137,
          3.5797502825520935,
          3.598145284978673,
          3.6165402874052526,
          3.634935289831832,
          3.6533302922584117,
          3.6717252946849914,
          3.6901202971115707,
          3.7085152995381505,
          3.72691030196473,
          3.7453053043913096,
          3.7637003068178894,
          3.7820953092444687,
          3.8004903116710484,
          3.818885314097628,
          3.8372803165242075,
          3.8556753189507873,
          3.8740703213773666,
          3.8924653238039464,
          3.910860326230526,
          3.9292553286571055,
          3.9476503310836852,
          3.9660453335102646,
          3.9844403359368443,
          4.002835338363424,
          4.021230340790003,
          4.039625343216583,
          4.058020345643163,
          4.076415348069743,
          4.094810350496322,
          4.113205352922901,
          4.131600355349481,
          4.149995357776061,
          4.168390360202641,
          4.1867853626292195,
          4.205180365055799,
          4.223575367482379,
          4.241970369908959,
          4.260365372335539,
          4.2787603747621175,
          4.297155377188697,
          4.315550379615277,
          4.333945382041857,
          4.3523403844684365,
          4.370735386895015,
          4.389130389321595,
          4.407525391748175,
          4.425920394174755,
          4.4443153966013345,
          4.462710399027914,
          4.481105401454493,
          4.499500403881073,
          4.517895406307653,
          4.536290408734232,
          4.554685411160812,
          4.573080413587391,
          4.591475416013971,
          4.609870418440551,
          4.62826542086713,
          4.64666042329371,
          4.665055425720289,
          4.683450428146869,
          4.7018454305734485,
          4.720240433000028,
          4.738635435426608,
          4.757030437853187,
          4.775425440279767,
          4.793820442706346,
          4.812215445132926,
          4.830610447559506,
          4.849005449986086,
          4.867400452412665,
          4.885795454839244,
          4.904190457265824,
          4.922585459692404,
          4.940980462118984,
          4.9593754645455626,
          4.977770466972142,
          4.996165469398722,
          5.014560471825302,
          5.032955474251882,
          5.0513504766784605,
          5.06974547910504,
          5.08814048153162,
          5.1065354839582,
          5.1249304863847795,
          5.143325488811358,
          5.161720491237938,
          5.180115493664518,
          5.198510496091098,
          5.2169054985176775,
          5.235300500944256,
          5.253695503370836,
          5.272090505797416,
          5.290485508223996,
          5.308880510650575,
          5.327275513077155,
          5.345670515503734,
          5.364065517930314,
          5.382460520356894,
          5.400855522783473,
          5.419250525210053,
          5.437645527636632,
          5.456040530063212,
          5.4744355324897915,
          5.492830534916371,
          5.511225537342951,
          5.52962053976953,
          5.54801554219611,
          5.5664105446226895,
          5.584805547049269,
          5.603200549475849,
          5.621595551902428,
          5.639990554329008,
          5.658385556755587,
          5.676780559182167,
          5.695175561608747,
          5.713570564035326,
          5.731965566461906,
          5.750360568888485,
          5.768755571315065,
          5.787150573741645,
          5.805545576168225,
          5.8239405785948035,
          5.842335581021383,
          5.860730583447963,
          5.879125585874543,
          5.897520588301123,
          5.9159155907277015,
          5.934310593154281,
          5.952705595580861,
          5.971100598007441,
          5.9894956004340205,
          6.007890602860599,
          6.026285605287179,
          6.044680607713759,
          6.063075610140339,
          6.0814706125669185,
          6.099865614993497,
          6.118260617420077,
          6.136655619846657,
          6.155050622273237,
          6.173445624699816,
          6.191840627126395,
          6.210235629552975,
          6.228630631979555,
          6.247025634406135,
          6.265420636832714,
          6.283815639259294,
          6.302210641685873,
          6.320605644112453,
          6.3390006465390325,
          6.357395648965612,
          6.375790651392192,
          6.394185653818771,
          6.412580656245351,
          6.43097565867193,
          6.44937066109851,
          6.46776566352509,
          6.486160665951669,
          6.504555668378249,
          6.522950670804828,
          6.541345673231408,
          6.559740675657988,
          6.578135678084567,
          6.5965306805111465,
          6.614925682937726,
          6.633320685364306,
          6.651715687790886,
          6.670110690217465,
          6.6885056926440445,
          6.706900695070624,
          6.725295697497204,
          6.743690699923784,
          6.7620857023503635,
          6.780480704776942,
          6.798875707203522,
          6.817270709630102,
          6.835665712056682,
          6.8540607144832615,
          6.87245571690984,
          6.89085071933642,
          6.909245721763,
          6.92764072418958,
          6.946035726616159,
          6.964430729042738,
          6.982825731469318,
          7.001220733895898,
          7.019615736322478,
          7.038010738749057,
          7.056405741175636,
          7.074800743602216,
          7.093195746028796,
          7.1115907484553755,
          7.129985750881955,
          7.148380753308535,
          7.166775755735114,
          7.185170758161694,
          7.2035657605882735,
          7.221960763014853,
          7.240355765441433,
          7.258750767868012,
          7.277145770294592,
          7.295540772721171,
          7.313935775147751,
          7.332330777574331,
          7.35072578000091,
          7.36912078242749,
          7.387515784854069,
          7.405910787280649,
          7.424305789707229,
          7.442700792133808,
          7.4610957945603875,
          7.479490796986967,
          7.497885799413547,
          7.516280801840127,
          7.534675804266706,
          7.5530708066932855,
          7.571465809119865,
          7.589860811546445,
          7.608255813973025,
          7.6266508163996045,
          7.645045818826183,
          7.663440821252763,
          7.681835823679343,
          7.700230826105923,
          7.7186258285325025,
          7.737020830959081,
          7.755415833385661,
          7.773810835812241,
          7.792205838238821,
          7.8106008406654,
          7.828995843091979,
          7.847390845518559,
          7.865785847945139,
          7.884180850371719,
          7.902575852798298,
          7.920970855224877,
          7.939365857651457,
          7.957760860078037,
          7.9761558625046165,
          7.994550864931196,
          8.012945867357775,
          8.031340869784355,
          8.049735872210935,
          8.068130874637514,
          8.086525877064094,
          8.104920879490674,
          8.123315881917254,
          8.141710884343833,
          8.160105886770411,
          8.178500889196991,
          8.196895891623571,
          8.21529089405015,
          8.23368589647673,
          8.25208089890331,
          8.27047590132989,
          8.28887090375647,
          8.30726590618305,
          8.32566090860963,
          8.34405591103621,
          8.362450913462787,
          8.380845915889367,
          8.399240918315947,
          8.417635920742526,
          8.436030923169106,
          8.454425925595686,
          8.472820928022266,
          8.491215930448845,
          8.509610932875425,
          8.528005935302005,
          8.546400937728583,
          8.564795940155163,
          8.583190942581743,
          8.601585945008322,
          8.619980947434902,
          8.638375949861482,
          8.656770952288062,
          8.675165954714641,
          8.693560957141221,
          8.711955959567801,
          8.730350961994379,
          8.748745964420959,
          8.767140966847538,
          8.785535969274118,
          8.803930971700698,
          8.822325974127278,
          8.840720976553857,
          8.859115978980437,
          8.877510981407017,
          8.895905983833597,
          8.914300986260177,
          8.932695988686755,
          8.951090991113334,
          8.969485993539914,
          8.987880995966494,
          9.006275998393074,
          9.024671000819653,
          9.043066003246233,
          9.061461005672813,
          9.079856008099393,
          9.098251010525972,
          9.11664601295255,
          9.13504101537913,
          9.15343601780571,
          9.17183102023229,
          9.19022602265887
         ],
         "xaxis": "x",
         "y": [
          0.181522783658835,
          0.184553444063559,
          0.18755164192506724,
          0.19051480401891155,
          0.19344040125432005,
          0.19632595361302943,
          0.19916903494370114,
          0.20196727759685543,
          0.2047183768860331,
          0.20742009536171205,
          0.21007026688540495,
          0.212666800492295,
          0.21520768403177148,
          0.21769098757624866,
          0.2201148665897301,
          0.22247756484867082,
          0.22477741710881893,
          0.2270128515128393,
          0.22918239173468558,
          0.23128465885781088,
          0.23331837298545796,
          0.23528235458239238,
          0.23717552554854798,
          0.2389969100261343,
          0.24074563494280368,
          0.24242093029449013,
          0.24402212917249155,
          0.24554866754029447,
          0.24700008376650043,
          0.24837601792102104,
          0.24967621084246128,
          0.2509005029852872,
          0.25204883305599335,
          0.2531212364480312,
          0.25411784348573657,
          0.25503887748789933,
          0.2558846526619466,
          0.25665557183997806,
          0.25735212406807617,
          0.25797488206043323,
          0.25852449952989137,
          0.25900170840647607,
          0.2594073159554168,
          0.2597422018060243,
          0.26000731490258394,
          0.26020367038818304,
          0.2603323464320929,
          0.26039448101098206,
          0.26039126865385515,
          0.26032395716020035,
          0.26019384430037745,
          0.26000227450681535,
          0.2597506355640912,
          0.25944035530545906,
          0.2590728983229008,
          0.2586497626972248,
          0.2581724767542547,
          0.25764259585261134,
          0.2570616992081162,
          0.2564313867593353,
          0.2557532760783314,
          0.25502899933023665,
          0.25426020028483604,
          0.2534485313829618,
          0.25259565086013275,
          0.25170321992953165,
          0.25077290002613073,
          0.2498063501134983,
          0.24880522405459335,
          0.2477711680476676,
          0.2467058181282293,
          0.24561079773790634,
          0.24448771536095842,
          0.2433381622291274,
          0.2421637100954988,
          0.2409659090780461,
          0.23974628557356634,
          0.23850634024276737,
          0.23724754606735074,
          0.23597134648002346,
          0.23467915356849026,
          0.23337234635459297,
          0.23205226914990412,
          0.23072022998920907,
          0.22937749914345196,
          0.22802530771385965,
          0.226664846309076,
          0.22529726380727153,
          0.22392366620529097,
          0.22254511555699286,
          0.22116262900302106,
          0.21977717789427936,
          0.2183896870114285,
          0.21700103388271316,
          0.21561204820241106,
          0.21422351135213205,
          0.21283615602712172,
          0.21145066596959788,
          0.21006767581100547,
          0.20868777102489094,
          0.20731148799189403,
          0.20593931417809755,
          0.20457168842771456,
          0.20320900137078063,
          0.20185159594619276,
          0.20049976804007477,
          0.1991537672390709,
          0.19781379769776766,
          0.19648001911901897,
          0.19515254784551442,
          0.19383145806048327,
          0.19251678309495962,
          0.19120851683857795,
          0.1899066152503905,
          0.18861099796573697,
          0.18732154999472891,
          0.1860381235074619,
          0.18476053970061707,
          0.18348859073969367,
          0.18222204177069962,
          0.1809606329947441,
          0.17970408179860994,
          0.17845208493405537,
          0.1772043207382901,
          0.17596045138780364,
          0.17472012517749377,
          0.17348297881685085,
          0.1722486397347978,
          0.17101672838468368,
          0.16978686054085473,
          0.1685586495782107,
          0.16733170872617506,
          0.16610565328857577,
          0.16488010282105214,
          0.16365468325775748,
          0.16242902897933512,
          0.1612027848143903,
          0.15997560796697513,
          0.1587471698629278,
          0.1575171579082833,
          0.1562852771533761,
          0.15505125185669616,
          0.15381482694303464,
          0.15257576935095502,
          0.15133386926515408,
          0.1500889412298282,
          0.1488408251397306,
          0.1475893871061895,
          0.14633452019595847,
          0.14507614504137498,
          0.1438142103209188,
          0.14254869310987348,
          0.14127959910140678,
          0.1400069626989963,
          0.13873084698171526,
          0.1374513435444885,
          0.13616857221598747,
          0.13488268065738696,
          0.13359384384573353,
          0.13230226344617163,
          0.13100816707775162,
          0.12971180747798314,
          0.12841346157170733,
          0.12711342945023604,
          0.12581203326704413,
          0.12450961605659776,
          0.12320654048316518,
          0.12190318752667087,
          0.1205999551128348,
          0.11929725669497218,
          0.11799551979492252,
          0.11669518451062942,
          0.11539670199789874,
          0.11410053293383662,
          0.11280714596939073,
          0.11151701617831153,
          0.1102306235096995,
          0.108948451251119,
          0.10767098450904014,
          0.10639870871311712,
          0.10513210815052822,
          0.10387166453629267,
          0.10261785562514138,
          0.1013711538701588,
          0.10013202513303311,
          0.09890092745035205,
          0.09767830985996954,
          0.09646461129104134,
          0.09526025952089394,
          0.09406567020144956,
          0.09288124595748222,
          0.09170737555853979,
          0.09054443316591751,
          0.08939277765563301,
          0.08825275201791992,
          0.08712468283333662,
          0.08600887982517576,
          0.08490563548746723,
          0.08381522478748757,
          0.08273790494133042,
          0.08167391526075263,
          0.0806234770691944,
          0.07958679368457833,
          0.07856405046622152,
          0.07755541492295477,
          0.07656103687932318,
          0.07558104869655521,
          0.07461556554482465,
          0.07366468572319493,
          0.07272849102353163,
          0.07180704713458817,
          0.0709004040824204,
          0.0700085967032601,
          0.0691316451449814,
          0.06826955539331961,
          0.06742231981905374,
          0.06658991774243961,
          0.06577231601127517,
          0.06496946958909633,
          0.06418132215013846,
          0.06340780667784773,
          0.0626488460638983,
          0.06190435370484768,
          0.06117423409376011,
          0.06045838340432723,
          0.059756690065227554,
          0.059069035322681845,
          0.05839529378938405,
          0.05773533397820739,
          0.05708901881931206,
          0.05645620615949999,
          0.05583674924288223,
          0.05523049717213815,
          0.05463729534985243,
          0.054056985899616834,
          0.053489408066771264,
          0.052934398598840866,
          0.05239179210589203,
          0.05186142140118548,
          0.051343117822646056,
          0.05083671153579611,
          0.05034203181890964,
          0.04985890733124294,
          0.04938716636527571,
          0.04892663708396202,
          0.048477147744038836,
          0.04803852690647129,
          0.0476106036351309,
          0.04719320768480365,
          0.046786169679610946,
          0.046389321282898376,
          0.04600249535960462,
          0.045625526132069064,
          0.04525824933016955,
          0.044900502336604496,
          0.044552124328046505,
          0.04421295641279879,
          0.043882841765483106,
          0.043561625759177866,
          0.04324915609531219,
          0.04294528293150385,
          0.042649859007409245,
          0.04236273976853396,
          0.04208378348783217,
          0.041812851384806525,
          0.041549807741703616,
          0.04129452001629248,
          0.04104685895060719,
          0.04080669867493773,
          0.040573916806263884,
          0.0403483945402449,
          0.040130016735807815,
          0.03991867199131559,
          0.03971425271124758,
          0.039516655162287646,
          0.039325779517689535,
          0.03914152988877881,
          0.038963814342449526,
          0.038792544903530436,
          0.03862763754092233,
          0.0384690121364496,
          0.03831659243542369,
          0.03817030597798335,
          0.038030084010356756,
          0.037895861375282024,
          0.03776757638092671,
          0.03764517064776018,
          0.03752858893295735,
          0.03741777893204528,
          0.03731269105764527,
          0.03721327819531122,
          0.03711949543661997,
          0.03703129978982786,
          0.036948649868570736,
          0.0368715055592507,
          0.036799827667918006,
          0.03673357754762423,
          0.036672716707387094,
          0.03661720640407008,
          0.03656700721863813,
          0.03652207861840438,
          0.036482378507029414,
          0.03644786276417405,
          0.036418484776837026,
          0.03639419496452989,
          0.03637494030055132,
          0.03636066383172086,
          0.03635130419901819,
          0.03634679516164523,
          0.036347065127087214,
          0.03635203668979092,
          0.03636162618110714,
          0.036375743233155684,
          0.036394290359268396,
          0.03641716255364485,
          0.03644424691281977,
          0.03647542228148887,
          0.03651055892517092,
          0.03654951823210007,
          0.036592152446642705,
          0.03663830443641806,
          0.03668780749517284,
          0.036740485183317705,
          0.03679615120787623,
          0.03685460934343045,
          0.03691565339546626,
          0.036979067207333224,
          0.03704462471183384,
          0.037112090028251006,
          0.03718121760540804,
          0.03725175241113644,
          0.03732343016830287,
          0.037395977637319465,
          0.03746911294483347,
          0.03754254595806251,
          0.03761597870401403,
          0.03768910583260134,
          0.03776161512244595,
          0.03783318802793874,
          0.037903500265920674,
          0.0379722224401398,
          0.03803902070144516,
          0.03810355744149271,
          0.03816549201756241,
          0.038224481505922135,
          0.038280181481022725,
          0.038332246817670786,
          0.03838033251320202,
          0.038424094526569245,
          0.03846319063116565,
          0.038497281278126315,
          0.03852603046678992,
          0.03854910661895687,
          0.038566183453553574,
          0.03857694085829926,
          0.038581065754978994,
          0.03857825295494716,
          0.038568206001525086,
          0.03855063799601056,
          0.038525272404087214,
          0.038491843839507614,
          0.0384500988220234,
          0.0383997965066503,
          0.03834070938148273,
          0.03827262393141278,
          0.038195341265259156,
          0.0381086777039738,
          0.03801246532776546,
          0.0379065524801597,
          0.037790804227202164,
          0.037665102770206925,
          0.037529347810651,
          0.03738345686602002,
          0.037227365535617764,
          0.03706102771556059,
          0.036884415762389086,
          0.0366975206049378,
          0.036500351804313956,
          0.03629293756204148,
          0.036075324676629786,
          0.035847578449026,
          0.03560978253760184,
          0.03536203876351406,
          0.03510446686745776,
          0.03483720421900338,
          0.03456040547987362,
          0.034274242222669275,
          0.03397890250670025,
          0.03367459041271079,
          0.03336152553841361,
          0.03303994245685963,
          0.03271009013977249,
          0.03237223134806685,
          0.03202664199184763,
          0.031673610462255204,
          0.03131343693757485,
          0.030946432666073987,
          0.030572919228060085,
          0.030193227779674835,
          0.029807698280947738,
          0.029416678710630778,
          0.029020524270325504,
          0.028619596580389043,
          0.028214262870076837,
          0.027804895164337644,
          0.027391869469627454,
          0.02697556496105296,
          0.026556363173089653,
          0.02613464719604988,
          0.025710800880397774,
          0.025285208050927023,
          0.024858251732728924,
          0.02443031339078738,
          0.02400177218494279,
          0.023573004241868176,
          0.023144381945602623,
          0.022716273248083303,
          0.022289041001017522,
          0.021863042310330254,
          0.02143862791432227,
          0.021016141586570128,
          0.020595919564497835,
          0.020178290004451784,
          0.01976357246401012,
          0.01935207741216431,
          0.01894410576791626,
          0.01853994846774393,
          0.018139886062302175,
          0.01774418834264058,
          0.017353113996140253,
          0.016966910292293965,
          0.016585812798381807,
          0.016210045125023848,
          0.01583981870152622,
          0.015475332580874704,
          0.015116773274171004,
          0.014764314614252814,
          0.014418117648186395,
          0.014078330558272897,
          0.013745088611164023,
          0.013418514134641546,
          0.013098716521575316,
          0.012785792260537934,
          0.012479824992520955,
          0.012180885593164605,
          0.01188903227988441,
          0.011604310743248728,
          0.011326754301936595,
          0.011056384080578704,
          0.010793209209762135,
          0.010537227047455975,
          0.010288423421093588,
          0.010046772889526797,
          0.009812239024046602,
          0.009584774707645469,
          0.009364322451677296,
          0.009150814729052338,
          0.008944174323085297,
          0.008744314691097705,
          0.008551140341857055,
          0.008364547225917982,
          0.00818442313791388,
          0.008010648129830482,
          0.007843094934276774,
          0.0076816293967536114,
          0.007526110915904912,
          0.007376392890723397,
          0.007232323173669139,
          0.007093744528648226,
          0.006960495092788115,
          0.006832408840937871,
          0.006709316051814173,
          0.006591043774708824,
          0.006477416295670658,
          0.00636825560207363,
          0.0062633818444844825,
          0.006162613794747848,
          0.006065769299213186,
          0.005972665726037956,
          0.005883120405514415,
          0.0057969510623831965,
          0.005713976239116155,
          0.005634015709173651,
          0.005556890879267277,
          0.005482425179688378,
          0.005410444441795761,
          0.0053407772617918604,
          0.005273255349956698,
          0.005207713864551459,
          0.005143991729650081,
          0.005081931936206277,
          0.005021381825715923,
          0.004962193355889726,
          0.004904223347808835,
          0.0048473337140963755,
          0.004791391667700123,
          0.004736269910945868,
          0.004681846804587172,
          0.004628006516644391,
          0.004574639150894437
         ],
         "yaxis": "y"
        },
        {
         "legendgroup": "",
         "marker": {
          "color": "black",
          "symbol": "line-ns-open"
         },
         "mode": "markers",
         "name": "",
         "showlegend": false,
         "type": "scatter",
         "x": [
          0.011119811795651913,
          0.023864153772592545,
          0.052006397396326065,
          0.08672300726175308,
          0.12290805578231812,
          0.14197507500648499,
          0.142265185713768,
          0.1444268822669983,
          0.15219812095165253,
          0.15768039226531982,
          0.1644897162914276,
          0.17694249749183655,
          0.17713865637779236,
          0.1830204427242279,
          0.21074694395065308,
          0.2193051278591156,
          0.24281686544418335,
          0.2471517026424408,
          0.2501581311225891,
          0.2674034833908081,
          0.28809458017349243,
          0.32027873396873474,
          0.3256150782108307,
          0.3270658254623413,
          0.38320192694664,
          0.38747483491897583,
          0.3947995603084564,
          0.39741265773773193,
          0.42939460277557373,
          0.4508718252182007,
          0.4755581319332123,
          0.4931112229824066,
          0.49376553297042847,
          0.49658092856407166,
          0.4966460168361664,
          0.505322277545929,
          0.5107141733169556,
          0.5400581359863281,
          0.5990697145462036,
          0.6058262586593628,
          0.6142123341560364,
          0.6206064224243164,
          0.6967146992683411,
          0.711469829082489,
          0.7394935488700867,
          0.7617703676223755,
          0.7771328687667847,
          0.7906760573387146,
          0.8559705018997192,
          0.8942721486091614,
          0.9340057373046875,
          0.9349812269210815,
          0.9966928362846375,
          1.0061343908309937,
          1.0606855154037476,
          1.0909019708633423,
          1.0919979810714722,
          1.1041154861450195,
          1.1437803506851196,
          1.1677731275558472,
          1.1769243478775024,
          1.1784957647323608,
          1.1902374029159546,
          1.2065788507461548,
          1.2313767671585083,
          1.2365220785140991,
          1.2432254552841187,
          1.2667070627212524,
          1.316097378730774,
          1.3311331272125244,
          1.3684883117675781,
          1.418418288230896,
          1.425481915473938,
          1.4261339902877808,
          1.4325493574142456,
          1.490136742591858,
          1.5159450769424438,
          1.5180103778839111,
          1.5181560516357422,
          1.5359792709350586,
          1.5387698411941528,
          1.5486247539520264,
          1.567686915397644,
          1.6353343725204468,
          1.6651438474655151,
          1.7697672843933105,
          1.7867615222930908,
          1.8968397378921509,
          1.951727271080017,
          2.0300796031951904,
          2.03389835357666,
          2.0418386459350586,
          2.0521090030670166,
          2.1357507705688477,
          2.2624452114105225,
          2.2826621532440186,
          2.287487030029297,
          2.304556131362915,
          2.348231792449951,
          2.3980045318603516,
          2.4360392093658447,
          2.4564754962921143,
          2.5231332778930664,
          2.5644359588623047,
          2.5850841999053955,
          2.6185386180877686,
          2.633169174194336,
          2.6643781661987305,
          2.672011375427246,
          2.7106781005859375,
          2.7109198570251465,
          2.7135674953460693,
          2.7591593265533447,
          2.8488330841064453,
          2.9048142433166504,
          2.969134569168091,
          2.9863317012786865,
          3.058621644973755,
          3.1285979747772217,
          3.144796133041382,
          3.154100179672241,
          3.158001661300659,
          3.304659128189087,
          3.5113611221313477,
          3.61488938331604,
          3.8045175075531006,
          3.838407039642334,
          3.921485662460327,
          3.930893659591675,
          4.189592361450195,
          4.259246349334717,
          4.275484085083008,
          4.449670314788818,
          4.922892093658447,
          4.934447765350342,
          5.06345796585083,
          5.361876964569092,
          5.476563930511475,
          5.628546714782715,
          5.695979118347168,
          6.312900543212891,
          6.379827976226807,
          6.449522972106934,
          6.671870708465576,
          6.853058815002441,
          6.854694366455078,
          6.949805736541748,
          6.974671363830566,
          7.279781818389893,
          7.338564872741699,
          7.803490161895752,
          9.20862102508545
         ],
         "xaxis": "x",
         "y": [
          "",
          "",
          "",
          "",
          "",
          "",
          "",
          "",
          "",
          "",
          "",
          "",
          "",
          "",
          "",
          "",
          "",
          "",
          "",
          "",
          "",
          "",
          "",
          "",
          "",
          "",
          "",
          "",
          "",
          "",
          "",
          "",
          "",
          "",
          "",
          "",
          "",
          "",
          "",
          "",
          "",
          "",
          "",
          "",
          "",
          "",
          "",
          "",
          "",
          "",
          "",
          "",
          "",
          "",
          "",
          "",
          "",
          "",
          "",
          "",
          "",
          "",
          "",
          "",
          "",
          "",
          "",
          "",
          "",
          "",
          "",
          "",
          "",
          "",
          "",
          "",
          "",
          "",
          "",
          "",
          "",
          "",
          "",
          "",
          "",
          "",
          "",
          "",
          "",
          "",
          "",
          "",
          "",
          "",
          "",
          "",
          "",
          "",
          "",
          "",
          "",
          "",
          "",
          "",
          "",
          "",
          "",
          "",
          "",
          "",
          "",
          "",
          "",
          "",
          "",
          "",
          "",
          "",
          "",
          "",
          "",
          "",
          "",
          "",
          "",
          "",
          "",
          "",
          "",
          "",
          "",
          "",
          "",
          "",
          "",
          "",
          "",
          "",
          "",
          "",
          "",
          "",
          "",
          "",
          "",
          "",
          "",
          "",
          "",
          "",
          "",
          ""
         ],
         "yaxis": "y2"
        }
       ],
       "layout": {
        "barmode": "overlay",
        "font": {
         "color": "black",
         "family": "Helvetica",
         "size": 24
        },
        "height": 500,
        "hovermode": "closest",
        "legend": {
         "bgcolor": "rgba(0,0,0,0)",
         "orientation": "v",
         "traceorder": "reversed",
         "x": 0.5,
         "y": 1
        },
        "margin": {
         "b": 100,
         "l": 100,
         "r": 10,
         "t": 10
        },
        "paper_bgcolor": "rgba(255,255,255,100)",
        "plot_bgcolor": "white",
        "showlegend": false,
        "template": {
         "data": {
          "bar": [
           {
            "error_x": {
             "color": "#2a3f5f"
            },
            "error_y": {
             "color": "#2a3f5f"
            },
            "marker": {
             "line": {
              "color": "#E5ECF6",
              "width": 0.5
             },
             "pattern": {
              "fillmode": "overlay",
              "size": 10,
              "solidity": 0.2
             }
            },
            "type": "bar"
           }
          ],
          "barpolar": [
           {
            "marker": {
             "line": {
              "color": "#E5ECF6",
              "width": 0.5
             },
             "pattern": {
              "fillmode": "overlay",
              "size": 10,
              "solidity": 0.2
             }
            },
            "type": "barpolar"
           }
          ],
          "carpet": [
           {
            "aaxis": {
             "endlinecolor": "#2a3f5f",
             "gridcolor": "white",
             "linecolor": "white",
             "minorgridcolor": "white",
             "startlinecolor": "#2a3f5f"
            },
            "baxis": {
             "endlinecolor": "#2a3f5f",
             "gridcolor": "white",
             "linecolor": "white",
             "minorgridcolor": "white",
             "startlinecolor": "#2a3f5f"
            },
            "type": "carpet"
           }
          ],
          "choropleth": [
           {
            "colorbar": {
             "outlinewidth": 0,
             "ticks": ""
            },
            "type": "choropleth"
           }
          ],
          "contour": [
           {
            "colorbar": {
             "outlinewidth": 0,
             "ticks": ""
            },
            "colorscale": [
             [
              0,
              "#0d0887"
             ],
             [
              0.1111111111111111,
              "#46039f"
             ],
             [
              0.2222222222222222,
              "#7201a8"
             ],
             [
              0.3333333333333333,
              "#9c179e"
             ],
             [
              0.4444444444444444,
              "#bd3786"
             ],
             [
              0.5555555555555556,
              "#d8576b"
             ],
             [
              0.6666666666666666,
              "#ed7953"
             ],
             [
              0.7777777777777778,
              "#fb9f3a"
             ],
             [
              0.8888888888888888,
              "#fdca26"
             ],
             [
              1,
              "#f0f921"
             ]
            ],
            "type": "contour"
           }
          ],
          "contourcarpet": [
           {
            "colorbar": {
             "outlinewidth": 0,
             "ticks": ""
            },
            "type": "contourcarpet"
           }
          ],
          "heatmap": [
           {
            "colorbar": {
             "outlinewidth": 0,
             "ticks": ""
            },
            "colorscale": [
             [
              0,
              "#0d0887"
             ],
             [
              0.1111111111111111,
              "#46039f"
             ],
             [
              0.2222222222222222,
              "#7201a8"
             ],
             [
              0.3333333333333333,
              "#9c179e"
             ],
             [
              0.4444444444444444,
              "#bd3786"
             ],
             [
              0.5555555555555556,
              "#d8576b"
             ],
             [
              0.6666666666666666,
              "#ed7953"
             ],
             [
              0.7777777777777778,
              "#fb9f3a"
             ],
             [
              0.8888888888888888,
              "#fdca26"
             ],
             [
              1,
              "#f0f921"
             ]
            ],
            "type": "heatmap"
           }
          ],
          "heatmapgl": [
           {
            "colorbar": {
             "outlinewidth": 0,
             "ticks": ""
            },
            "colorscale": [
             [
              0,
              "#0d0887"
             ],
             [
              0.1111111111111111,
              "#46039f"
             ],
             [
              0.2222222222222222,
              "#7201a8"
             ],
             [
              0.3333333333333333,
              "#9c179e"
             ],
             [
              0.4444444444444444,
              "#bd3786"
             ],
             [
              0.5555555555555556,
              "#d8576b"
             ],
             [
              0.6666666666666666,
              "#ed7953"
             ],
             [
              0.7777777777777778,
              "#fb9f3a"
             ],
             [
              0.8888888888888888,
              "#fdca26"
             ],
             [
              1,
              "#f0f921"
             ]
            ],
            "type": "heatmapgl"
           }
          ],
          "histogram": [
           {
            "marker": {
             "pattern": {
              "fillmode": "overlay",
              "size": 10,
              "solidity": 0.2
             }
            },
            "type": "histogram"
           }
          ],
          "histogram2d": [
           {
            "colorbar": {
             "outlinewidth": 0,
             "ticks": ""
            },
            "colorscale": [
             [
              0,
              "#0d0887"
             ],
             [
              0.1111111111111111,
              "#46039f"
             ],
             [
              0.2222222222222222,
              "#7201a8"
             ],
             [
              0.3333333333333333,
              "#9c179e"
             ],
             [
              0.4444444444444444,
              "#bd3786"
             ],
             [
              0.5555555555555556,
              "#d8576b"
             ],
             [
              0.6666666666666666,
              "#ed7953"
             ],
             [
              0.7777777777777778,
              "#fb9f3a"
             ],
             [
              0.8888888888888888,
              "#fdca26"
             ],
             [
              1,
              "#f0f921"
             ]
            ],
            "type": "histogram2d"
           }
          ],
          "histogram2dcontour": [
           {
            "colorbar": {
             "outlinewidth": 0,
             "ticks": ""
            },
            "colorscale": [
             [
              0,
              "#0d0887"
             ],
             [
              0.1111111111111111,
              "#46039f"
             ],
             [
              0.2222222222222222,
              "#7201a8"
             ],
             [
              0.3333333333333333,
              "#9c179e"
             ],
             [
              0.4444444444444444,
              "#bd3786"
             ],
             [
              0.5555555555555556,
              "#d8576b"
             ],
             [
              0.6666666666666666,
              "#ed7953"
             ],
             [
              0.7777777777777778,
              "#fb9f3a"
             ],
             [
              0.8888888888888888,
              "#fdca26"
             ],
             [
              1,
              "#f0f921"
             ]
            ],
            "type": "histogram2dcontour"
           }
          ],
          "mesh3d": [
           {
            "colorbar": {
             "outlinewidth": 0,
             "ticks": ""
            },
            "type": "mesh3d"
           }
          ],
          "parcoords": [
           {
            "line": {
             "colorbar": {
              "outlinewidth": 0,
              "ticks": ""
             }
            },
            "type": "parcoords"
           }
          ],
          "pie": [
           {
            "automargin": true,
            "type": "pie"
           }
          ],
          "scatter": [
           {
            "fillpattern": {
             "fillmode": "overlay",
             "size": 10,
             "solidity": 0.2
            },
            "type": "scatter"
           }
          ],
          "scatter3d": [
           {
            "line": {
             "colorbar": {
              "outlinewidth": 0,
              "ticks": ""
             }
            },
            "marker": {
             "colorbar": {
              "outlinewidth": 0,
              "ticks": ""
             }
            },
            "type": "scatter3d"
           }
          ],
          "scattercarpet": [
           {
            "marker": {
             "colorbar": {
              "outlinewidth": 0,
              "ticks": ""
             }
            },
            "type": "scattercarpet"
           }
          ],
          "scattergeo": [
           {
            "marker": {
             "colorbar": {
              "outlinewidth": 0,
              "ticks": ""
             }
            },
            "type": "scattergeo"
           }
          ],
          "scattergl": [
           {
            "marker": {
             "colorbar": {
              "outlinewidth": 0,
              "ticks": ""
             }
            },
            "type": "scattergl"
           }
          ],
          "scattermapbox": [
           {
            "marker": {
             "colorbar": {
              "outlinewidth": 0,
              "ticks": ""
             }
            },
            "type": "scattermapbox"
           }
          ],
          "scatterpolar": [
           {
            "marker": {
             "colorbar": {
              "outlinewidth": 0,
              "ticks": ""
             }
            },
            "type": "scatterpolar"
           }
          ],
          "scatterpolargl": [
           {
            "marker": {
             "colorbar": {
              "outlinewidth": 0,
              "ticks": ""
             }
            },
            "type": "scatterpolargl"
           }
          ],
          "scatterternary": [
           {
            "marker": {
             "colorbar": {
              "outlinewidth": 0,
              "ticks": ""
             }
            },
            "type": "scatterternary"
           }
          ],
          "surface": [
           {
            "colorbar": {
             "outlinewidth": 0,
             "ticks": ""
            },
            "colorscale": [
             [
              0,
              "#0d0887"
             ],
             [
              0.1111111111111111,
              "#46039f"
             ],
             [
              0.2222222222222222,
              "#7201a8"
             ],
             [
              0.3333333333333333,
              "#9c179e"
             ],
             [
              0.4444444444444444,
              "#bd3786"
             ],
             [
              0.5555555555555556,
              "#d8576b"
             ],
             [
              0.6666666666666666,
              "#ed7953"
             ],
             [
              0.7777777777777778,
              "#fb9f3a"
             ],
             [
              0.8888888888888888,
              "#fdca26"
             ],
             [
              1,
              "#f0f921"
             ]
            ],
            "type": "surface"
           }
          ],
          "table": [
           {
            "cells": {
             "fill": {
              "color": "#EBF0F8"
             },
             "line": {
              "color": "white"
             }
            },
            "header": {
             "fill": {
              "color": "#C8D4E3"
             },
             "line": {
              "color": "white"
             }
            },
            "type": "table"
           }
          ]
         },
         "layout": {
          "annotationdefaults": {
           "arrowcolor": "#2a3f5f",
           "arrowhead": 0,
           "arrowwidth": 1
          },
          "autotypenumbers": "strict",
          "coloraxis": {
           "colorbar": {
            "outlinewidth": 0,
            "ticks": ""
           }
          },
          "colorscale": {
           "diverging": [
            [
             0,
             "#8e0152"
            ],
            [
             0.1,
             "#c51b7d"
            ],
            [
             0.2,
             "#de77ae"
            ],
            [
             0.3,
             "#f1b6da"
            ],
            [
             0.4,
             "#fde0ef"
            ],
            [
             0.5,
             "#f7f7f7"
            ],
            [
             0.6,
             "#e6f5d0"
            ],
            [
             0.7,
             "#b8e186"
            ],
            [
             0.8,
             "#7fbc41"
            ],
            [
             0.9,
             "#4d9221"
            ],
            [
             1,
             "#276419"
            ]
           ],
           "sequential": [
            [
             0,
             "#0d0887"
            ],
            [
             0.1111111111111111,
             "#46039f"
            ],
            [
             0.2222222222222222,
             "#7201a8"
            ],
            [
             0.3333333333333333,
             "#9c179e"
            ],
            [
             0.4444444444444444,
             "#bd3786"
            ],
            [
             0.5555555555555556,
             "#d8576b"
            ],
            [
             0.6666666666666666,
             "#ed7953"
            ],
            [
             0.7777777777777778,
             "#fb9f3a"
            ],
            [
             0.8888888888888888,
             "#fdca26"
            ],
            [
             1,
             "#f0f921"
            ]
           ],
           "sequentialminus": [
            [
             0,
             "#0d0887"
            ],
            [
             0.1111111111111111,
             "#46039f"
            ],
            [
             0.2222222222222222,
             "#7201a8"
            ],
            [
             0.3333333333333333,
             "#9c179e"
            ],
            [
             0.4444444444444444,
             "#bd3786"
            ],
            [
             0.5555555555555556,
             "#d8576b"
            ],
            [
             0.6666666666666666,
             "#ed7953"
            ],
            [
             0.7777777777777778,
             "#fb9f3a"
            ],
            [
             0.8888888888888888,
             "#fdca26"
            ],
            [
             1,
             "#f0f921"
            ]
           ]
          },
          "colorway": [
           "#636efa",
           "#EF553B",
           "#00cc96",
           "#ab63fa",
           "#FFA15A",
           "#19d3f3",
           "#FF6692",
           "#B6E880",
           "#FF97FF",
           "#FECB52"
          ],
          "font": {
           "color": "#2a3f5f"
          },
          "geo": {
           "bgcolor": "white",
           "lakecolor": "white",
           "landcolor": "#E5ECF6",
           "showlakes": true,
           "showland": true,
           "subunitcolor": "white"
          },
          "hoverlabel": {
           "align": "left"
          },
          "hovermode": "closest",
          "mapbox": {
           "style": "light"
          },
          "paper_bgcolor": "white",
          "plot_bgcolor": "#E5ECF6",
          "polar": {
           "angularaxis": {
            "gridcolor": "white",
            "linecolor": "white",
            "ticks": ""
           },
           "bgcolor": "#E5ECF6",
           "radialaxis": {
            "gridcolor": "white",
            "linecolor": "white",
            "ticks": ""
           }
          },
          "scene": {
           "xaxis": {
            "backgroundcolor": "#E5ECF6",
            "gridcolor": "white",
            "gridwidth": 2,
            "linecolor": "white",
            "showbackground": true,
            "ticks": "",
            "zerolinecolor": "white"
           },
           "yaxis": {
            "backgroundcolor": "#E5ECF6",
            "gridcolor": "white",
            "gridwidth": 2,
            "linecolor": "white",
            "showbackground": true,
            "ticks": "",
            "zerolinecolor": "white"
           },
           "zaxis": {
            "backgroundcolor": "#E5ECF6",
            "gridcolor": "white",
            "gridwidth": 2,
            "linecolor": "white",
            "showbackground": true,
            "ticks": "",
            "zerolinecolor": "white"
           }
          },
          "shapedefaults": {
           "line": {
            "color": "#2a3f5f"
           }
          },
          "ternary": {
           "aaxis": {
            "gridcolor": "white",
            "linecolor": "white",
            "ticks": ""
           },
           "baxis": {
            "gridcolor": "white",
            "linecolor": "white",
            "ticks": ""
           },
           "bgcolor": "#E5ECF6",
           "caxis": {
            "gridcolor": "white",
            "linecolor": "white",
            "ticks": ""
           }
          },
          "title": {
           "x": 0.05
          },
          "xaxis": {
           "automargin": true,
           "gridcolor": "white",
           "linecolor": "white",
           "ticks": "",
           "title": {
            "standoff": 15
           },
           "zerolinecolor": "white",
           "zerolinewidth": 2
          },
          "yaxis": {
           "automargin": true,
           "gridcolor": "white",
           "linecolor": "white",
           "ticks": "",
           "title": {
            "standoff": 15
           },
           "zerolinecolor": "white",
           "zerolinewidth": 2
          }
         }
        },
        "width": 550,
        "xaxis": {
         "anchor": "y2",
         "color": "black",
         "domain": [
          0,
          1
         ],
         "linecolor": "black",
         "linewidth": 1.5,
         "mirror": "allticks",
         "showgrid": false,
         "showline": true,
         "ticklen": 10,
         "ticks": "inside",
         "tickwidth": 1.5,
         "title": {
          "text": "abs. err. (kcal/mol)"
         },
         "zeroline": false
        },
        "yaxis": {
         "anchor": "free",
         "color": "black",
         "domain": [
          0.35,
          1
         ],
         "linecolor": "black",
         "linewidth": 1.5,
         "mirror": "allticks",
         "position": 0,
         "showgrid": false,
         "showline": true,
         "ticklen": 10,
         "ticks": "inside",
         "tickwidth": 1.5,
         "title": {
          "text": "frequency"
         },
         "zeroline": false
        },
        "yaxis2": {
         "anchor": "x",
         "domain": [
          0,
          0.25
         ],
         "dtick": 1,
         "showticklabels": false
        }
       }
      },
      "text/html": [
       "<div>                            <div id=\"832faa29-11db-445d-860c-32012a2ccddb\" class=\"plotly-graph-div\" style=\"height:500px; width:550px;\"></div>            <script type=\"text/javascript\">                require([\"plotly\"], function(Plotly) {                    window.PLOTLYENV=window.PLOTLYENV || {};                                    if (document.getElementById(\"832faa29-11db-445d-860c-32012a2ccddb\")) {                    Plotly.newPlot(                        \"832faa29-11db-445d-860c-32012a2ccddb\",                        [{\"autobinx\":false,\"histnorm\":\"probability density\",\"legendgroup\":\"\",\"marker\":{\"color\":\"black\"},\"name\":\"\",\"opacity\":0.7,\"x\":[0.011119811795651913,0.023864153772592545,0.052006397396326065,0.08672300726175308,0.12290805578231812,0.14197507500648499,0.142265185713768,0.1444268822669983,0.15219812095165253,0.15768039226531982,0.1644897162914276,0.17694249749183655,0.17713865637779236,0.1830204427242279,0.21074694395065308,0.2193051278591156,0.24281686544418335,0.2471517026424408,0.2501581311225891,0.2674034833908081,0.28809458017349243,0.32027873396873474,0.3256150782108307,0.3270658254623413,0.38320192694664,0.38747483491897583,0.3947995603084564,0.39741265773773193,0.42939460277557373,0.4508718252182007,0.4755581319332123,0.4931112229824066,0.49376553297042847,0.49658092856407166,0.4966460168361664,0.505322277545929,0.5107141733169556,0.5400581359863281,0.5990697145462036,0.6058262586593628,0.6142123341560364,0.6206064224243164,0.6967146992683411,0.711469829082489,0.7394935488700867,0.7617703676223755,0.7771328687667847,0.7906760573387146,0.8559705018997192,0.8942721486091614,0.9340057373046875,0.9349812269210815,0.9966928362846375,1.0061343908309937,1.0606855154037476,1.0909019708633423,1.0919979810714722,1.1041154861450195,1.1437803506851196,1.1677731275558472,1.1769243478775024,1.1784957647323608,1.1902374029159546,1.2065788507461548,1.2313767671585083,1.2365220785140991,1.2432254552841187,1.2667070627212524,1.316097378730774,1.3311331272125244,1.3684883117675781,1.418418288230896,1.425481915473938,1.4261339902877808,1.4325493574142456,1.490136742591858,1.5159450769424438,1.5180103778839111,1.5181560516357422,1.5359792709350586,1.5387698411941528,1.5486247539520264,1.567686915397644,1.6353343725204468,1.6651438474655151,1.7697672843933105,1.7867615222930908,1.8968397378921509,1.951727271080017,2.0300796031951904,2.03389835357666,2.0418386459350586,2.0521090030670166,2.1357507705688477,2.2624452114105225,2.2826621532440186,2.287487030029297,2.304556131362915,2.348231792449951,2.3980045318603516,2.4360392093658447,2.4564754962921143,2.5231332778930664,2.5644359588623047,2.5850841999053955,2.6185386180877686,2.633169174194336,2.6643781661987305,2.672011375427246,2.7106781005859375,2.7109198570251465,2.7135674953460693,2.7591593265533447,2.8488330841064453,2.9048142433166504,2.969134569168091,2.9863317012786865,3.058621644973755,3.1285979747772217,3.144796133041382,3.154100179672241,3.158001661300659,3.304659128189087,3.5113611221313477,3.61488938331604,3.8045175075531006,3.838407039642334,3.921485662460327,3.930893659591675,4.189592361450195,4.259246349334717,4.275484085083008,4.449670314788818,4.922892093658447,4.934447765350342,5.06345796585083,5.361876964569092,5.476563930511475,5.628546714782715,5.695979118347168,6.312900543212891,6.379827976226807,6.449522972106934,6.671870708465576,6.853058815002441,6.854694366455078,6.949805736541748,6.974671363830566,7.279781818389893,7.338564872741699,7.803490161895752,9.20862102508545],\"xaxis\":\"x\",\"xbins\":{\"end\":9.20862102508545,\"size\":0.5,\"start\":0.011119811795651913},\"yaxis\":\"y\",\"type\":\"histogram\"},{\"legendgroup\":\"\",\"marker\":{\"color\":\"black\"},\"mode\":\"lines\",\"name\":\"\",\"showlegend\":false,\"x\":[0.011119811795651913,0.029514814222231508,0.0479098166488111,0.0663048190753907,0.0846998215019703,0.10309482392854989,0.12148982635512948,0.13988482878170908,0.15827983120828867,0.17667483363486827,0.19506983606144787,0.21346483848802744,0.23185984091460704,0.25025484334118664,0.26864984576776624,0.28704484819434584,0.30543985062092543,0.32383485304750503,0.34222985547408463,0.36062485790066423,0.37901986032724383,0.3974148627538234,0.41580986518040297,0.43420486760698257,0.45259987003356217,0.47099487246014177,0.48938987488672137,0.5077848773133009,0.5261798797398806,0.5445748821664601,0.5629698845930398,0.5813648870196193,0.599759889446199,0.6181548918727785,0.6365498942993582,0.6549448967259377,0.6733398991525174,0.6917349015790969,0.7101299040056765,0.7285249064322561,0.7469199088588357,0.7653149112854153,0.7837099137119948,0.8021049161385745,0.820499918565154,0.8388949209917337,0.8572899234183132,0.8756849258448929,0.8940799282714724,0.9124749306980521,0.9308699331246316,0.9492649355512113,0.9676599379777908,0.9860549404043705,1.00444994283095,1.0228449452575297,1.0412399476841092,1.0596349501106888,1.0780299525372683,1.096424954963848,1.1148199573904276,1.1332149598170072,1.1516099622435867,1.1700049646701665,1.188399967096746,1.2067949695233255,1.225189971949905,1.2435849743764849,1.2619799768030644,1.280374979229644,1.2987699816562235,1.317164984082803,1.3355599865093828,1.3539549889359623,1.3723499913625419,1.3907449937891214,1.4091399962157012,1.4275349986422807,1.4459300010688603,1.4643250034954398,1.4827200059220196,1.5011150083485991,1.5195100107751787,1.5379050132017582,1.5563000156283378,1.5746950180549175,1.593090020481497,1.6114850229080766,1.6298800253346561,1.648275027761236,1.6666700301878155,1.685065032614395,1.7034600350409745,1.7218550374675543,1.7402500398941338,1.7586450423207134,1.777040044747293,1.7954350471738727,1.8138300496004522,1.8322250520270318,1.8506200544536113,1.8690150568801909,1.8874100593067706,1.9058050617333502,1.9242000641599297,1.9425950665865093,1.960990069013089,1.9793850714396686,1.9977800738662481,2.0161750762928277,2.0345700787194074,2.0529650811459867,2.0713600835725665,2.0897550859991463,2.1081500884257256,2.1265450908523054,2.1449400932788847,2.1633350957054645,2.181730098132044,2.2001251005586235,2.2185201029852033,2.236915105411783,2.2553101078383624,2.273705110264942,2.2921001126915215,2.3104951151181012,2.328890117544681,2.3472851199712603,2.36568012239784,2.3840751248244194,2.402470127250999,2.420865129677579,2.4392601321041583,2.457655134530738,2.476050136957318,2.494445139383897,2.512840141810477,2.531235144237056,2.549630146663636,2.5680251490902157,2.586420151516795,2.604815153943375,2.623210156369954,2.641605158796534,2.6600001612231137,2.678395163649693,2.6967901660762728,2.7151851685028525,2.733580170929432,2.7519751733560116,2.770370175782591,2.7887651782091707,2.8071601806357505,2.82555518306233,2.8439501854889095,2.862345187915489,2.8807401903420686,2.8991351927686484,2.9175301951952277,2.9359251976218075,2.9543202000483872,2.9727152024749666,2.9911102049015463,3.0095052073281257,3.0279002097547054,3.046295212181285,3.0646902146078645,3.0830852170344443,3.1014802194610236,3.1198752218876034,3.138270224314183,3.1566652267407624,3.175060229167342,3.193455231593922,3.2118502340205013,3.230245236447081,3.2486402388736604,3.26703524130024,3.28543024372682,3.3038252461533992,3.322220248579979,3.3406152510065583,3.359010253433138,3.377405255859718,3.395800258286297,3.414195260712877,3.4325902631394567,3.450985265566036,3.469380267992616,3.487775270419195,3.506170272845775,3.5245652752723546,3.542960277698934,3.5613552801255137,3.5797502825520935,3.598145284978673,3.6165402874052526,3.634935289831832,3.6533302922584117,3.6717252946849914,3.6901202971115707,3.7085152995381505,3.72691030196473,3.7453053043913096,3.7637003068178894,3.7820953092444687,3.8004903116710484,3.818885314097628,3.8372803165242075,3.8556753189507873,3.8740703213773666,3.8924653238039464,3.910860326230526,3.9292553286571055,3.9476503310836852,3.9660453335102646,3.9844403359368443,4.002835338363424,4.021230340790003,4.039625343216583,4.058020345643163,4.076415348069743,4.094810350496322,4.113205352922901,4.131600355349481,4.149995357776061,4.168390360202641,4.1867853626292195,4.205180365055799,4.223575367482379,4.241970369908959,4.260365372335539,4.2787603747621175,4.297155377188697,4.315550379615277,4.333945382041857,4.3523403844684365,4.370735386895015,4.389130389321595,4.407525391748175,4.425920394174755,4.4443153966013345,4.462710399027914,4.481105401454493,4.499500403881073,4.517895406307653,4.536290408734232,4.554685411160812,4.573080413587391,4.591475416013971,4.609870418440551,4.62826542086713,4.64666042329371,4.665055425720289,4.683450428146869,4.7018454305734485,4.720240433000028,4.738635435426608,4.757030437853187,4.775425440279767,4.793820442706346,4.812215445132926,4.830610447559506,4.849005449986086,4.867400452412665,4.885795454839244,4.904190457265824,4.922585459692404,4.940980462118984,4.9593754645455626,4.977770466972142,4.996165469398722,5.014560471825302,5.032955474251882,5.0513504766784605,5.06974547910504,5.08814048153162,5.1065354839582,5.1249304863847795,5.143325488811358,5.161720491237938,5.180115493664518,5.198510496091098,5.2169054985176775,5.235300500944256,5.253695503370836,5.272090505797416,5.290485508223996,5.308880510650575,5.327275513077155,5.345670515503734,5.364065517930314,5.382460520356894,5.400855522783473,5.419250525210053,5.437645527636632,5.456040530063212,5.4744355324897915,5.492830534916371,5.511225537342951,5.52962053976953,5.54801554219611,5.5664105446226895,5.584805547049269,5.603200549475849,5.621595551902428,5.639990554329008,5.658385556755587,5.676780559182167,5.695175561608747,5.713570564035326,5.731965566461906,5.750360568888485,5.768755571315065,5.787150573741645,5.805545576168225,5.8239405785948035,5.842335581021383,5.860730583447963,5.879125585874543,5.897520588301123,5.9159155907277015,5.934310593154281,5.952705595580861,5.971100598007441,5.9894956004340205,6.007890602860599,6.026285605287179,6.044680607713759,6.063075610140339,6.0814706125669185,6.099865614993497,6.118260617420077,6.136655619846657,6.155050622273237,6.173445624699816,6.191840627126395,6.210235629552975,6.228630631979555,6.247025634406135,6.265420636832714,6.283815639259294,6.302210641685873,6.320605644112453,6.3390006465390325,6.357395648965612,6.375790651392192,6.394185653818771,6.412580656245351,6.43097565867193,6.44937066109851,6.46776566352509,6.486160665951669,6.504555668378249,6.522950670804828,6.541345673231408,6.559740675657988,6.578135678084567,6.5965306805111465,6.614925682937726,6.633320685364306,6.651715687790886,6.670110690217465,6.6885056926440445,6.706900695070624,6.725295697497204,6.743690699923784,6.7620857023503635,6.780480704776942,6.798875707203522,6.817270709630102,6.835665712056682,6.8540607144832615,6.87245571690984,6.89085071933642,6.909245721763,6.92764072418958,6.946035726616159,6.964430729042738,6.982825731469318,7.001220733895898,7.019615736322478,7.038010738749057,7.056405741175636,7.074800743602216,7.093195746028796,7.1115907484553755,7.129985750881955,7.148380753308535,7.166775755735114,7.185170758161694,7.2035657605882735,7.221960763014853,7.240355765441433,7.258750767868012,7.277145770294592,7.295540772721171,7.313935775147751,7.332330777574331,7.35072578000091,7.36912078242749,7.387515784854069,7.405910787280649,7.424305789707229,7.442700792133808,7.4610957945603875,7.479490796986967,7.497885799413547,7.516280801840127,7.534675804266706,7.5530708066932855,7.571465809119865,7.589860811546445,7.608255813973025,7.6266508163996045,7.645045818826183,7.663440821252763,7.681835823679343,7.700230826105923,7.7186258285325025,7.737020830959081,7.755415833385661,7.773810835812241,7.792205838238821,7.8106008406654,7.828995843091979,7.847390845518559,7.865785847945139,7.884180850371719,7.902575852798298,7.920970855224877,7.939365857651457,7.957760860078037,7.9761558625046165,7.994550864931196,8.012945867357775,8.031340869784355,8.049735872210935,8.068130874637514,8.086525877064094,8.104920879490674,8.123315881917254,8.141710884343833,8.160105886770411,8.178500889196991,8.196895891623571,8.21529089405015,8.23368589647673,8.25208089890331,8.27047590132989,8.28887090375647,8.30726590618305,8.32566090860963,8.34405591103621,8.362450913462787,8.380845915889367,8.399240918315947,8.417635920742526,8.436030923169106,8.454425925595686,8.472820928022266,8.491215930448845,8.509610932875425,8.528005935302005,8.546400937728583,8.564795940155163,8.583190942581743,8.601585945008322,8.619980947434902,8.638375949861482,8.656770952288062,8.675165954714641,8.693560957141221,8.711955959567801,8.730350961994379,8.748745964420959,8.767140966847538,8.785535969274118,8.803930971700698,8.822325974127278,8.840720976553857,8.859115978980437,8.877510981407017,8.895905983833597,8.914300986260177,8.932695988686755,8.951090991113334,8.969485993539914,8.987880995966494,9.006275998393074,9.024671000819653,9.043066003246233,9.061461005672813,9.079856008099393,9.098251010525972,9.11664601295255,9.13504101537913,9.15343601780571,9.17183102023229,9.19022602265887],\"xaxis\":\"x\",\"y\":[0.181522783658835,0.184553444063559,0.18755164192506724,0.19051480401891155,0.19344040125432005,0.19632595361302943,0.19916903494370114,0.20196727759685543,0.2047183768860331,0.20742009536171205,0.21007026688540495,0.212666800492295,0.21520768403177148,0.21769098757624866,0.2201148665897301,0.22247756484867082,0.22477741710881893,0.2270128515128393,0.22918239173468558,0.23128465885781088,0.23331837298545796,0.23528235458239238,0.23717552554854798,0.2389969100261343,0.24074563494280368,0.24242093029449013,0.24402212917249155,0.24554866754029447,0.24700008376650043,0.24837601792102104,0.24967621084246128,0.2509005029852872,0.25204883305599335,0.2531212364480312,0.25411784348573657,0.25503887748789933,0.2558846526619466,0.25665557183997806,0.25735212406807617,0.25797488206043323,0.25852449952989137,0.25900170840647607,0.2594073159554168,0.2597422018060243,0.26000731490258394,0.26020367038818304,0.2603323464320929,0.26039448101098206,0.26039126865385515,0.26032395716020035,0.26019384430037745,0.26000227450681535,0.2597506355640912,0.25944035530545906,0.2590728983229008,0.2586497626972248,0.2581724767542547,0.25764259585261134,0.2570616992081162,0.2564313867593353,0.2557532760783314,0.25502899933023665,0.25426020028483604,0.2534485313829618,0.25259565086013275,0.25170321992953165,0.25077290002613073,0.2498063501134983,0.24880522405459335,0.2477711680476676,0.2467058181282293,0.24561079773790634,0.24448771536095842,0.2433381622291274,0.2421637100954988,0.2409659090780461,0.23974628557356634,0.23850634024276737,0.23724754606735074,0.23597134648002346,0.23467915356849026,0.23337234635459297,0.23205226914990412,0.23072022998920907,0.22937749914345196,0.22802530771385965,0.226664846309076,0.22529726380727153,0.22392366620529097,0.22254511555699286,0.22116262900302106,0.21977717789427936,0.2183896870114285,0.21700103388271316,0.21561204820241106,0.21422351135213205,0.21283615602712172,0.21145066596959788,0.21006767581100547,0.20868777102489094,0.20731148799189403,0.20593931417809755,0.20457168842771456,0.20320900137078063,0.20185159594619276,0.20049976804007477,0.1991537672390709,0.19781379769776766,0.19648001911901897,0.19515254784551442,0.19383145806048327,0.19251678309495962,0.19120851683857795,0.1899066152503905,0.18861099796573697,0.18732154999472891,0.1860381235074619,0.18476053970061707,0.18348859073969367,0.18222204177069962,0.1809606329947441,0.17970408179860994,0.17845208493405537,0.1772043207382901,0.17596045138780364,0.17472012517749377,0.17348297881685085,0.1722486397347978,0.17101672838468368,0.16978686054085473,0.1685586495782107,0.16733170872617506,0.16610565328857577,0.16488010282105214,0.16365468325775748,0.16242902897933512,0.1612027848143903,0.15997560796697513,0.1587471698629278,0.1575171579082833,0.1562852771533761,0.15505125185669616,0.15381482694303464,0.15257576935095502,0.15133386926515408,0.1500889412298282,0.1488408251397306,0.1475893871061895,0.14633452019595847,0.14507614504137498,0.1438142103209188,0.14254869310987348,0.14127959910140678,0.1400069626989963,0.13873084698171526,0.1374513435444885,0.13616857221598747,0.13488268065738696,0.13359384384573353,0.13230226344617163,0.13100816707775162,0.12971180747798314,0.12841346157170733,0.12711342945023604,0.12581203326704413,0.12450961605659776,0.12320654048316518,0.12190318752667087,0.1205999551128348,0.11929725669497218,0.11799551979492252,0.11669518451062942,0.11539670199789874,0.11410053293383662,0.11280714596939073,0.11151701617831153,0.1102306235096995,0.108948451251119,0.10767098450904014,0.10639870871311712,0.10513210815052822,0.10387166453629267,0.10261785562514138,0.1013711538701588,0.10013202513303311,0.09890092745035205,0.09767830985996954,0.09646461129104134,0.09526025952089394,0.09406567020144956,0.09288124595748222,0.09170737555853979,0.09054443316591751,0.08939277765563301,0.08825275201791992,0.08712468283333662,0.08600887982517576,0.08490563548746723,0.08381522478748757,0.08273790494133042,0.08167391526075263,0.0806234770691944,0.07958679368457833,0.07856405046622152,0.07755541492295477,0.07656103687932318,0.07558104869655521,0.07461556554482465,0.07366468572319493,0.07272849102353163,0.07180704713458817,0.0709004040824204,0.0700085967032601,0.0691316451449814,0.06826955539331961,0.06742231981905374,0.06658991774243961,0.06577231601127517,0.06496946958909633,0.06418132215013846,0.06340780667784773,0.0626488460638983,0.06190435370484768,0.06117423409376011,0.06045838340432723,0.059756690065227554,0.059069035322681845,0.05839529378938405,0.05773533397820739,0.05708901881931206,0.05645620615949999,0.05583674924288223,0.05523049717213815,0.05463729534985243,0.054056985899616834,0.053489408066771264,0.052934398598840866,0.05239179210589203,0.05186142140118548,0.051343117822646056,0.05083671153579611,0.05034203181890964,0.04985890733124294,0.04938716636527571,0.04892663708396202,0.048477147744038836,0.04803852690647129,0.0476106036351309,0.04719320768480365,0.046786169679610946,0.046389321282898376,0.04600249535960462,0.045625526132069064,0.04525824933016955,0.044900502336604496,0.044552124328046505,0.04421295641279879,0.043882841765483106,0.043561625759177866,0.04324915609531219,0.04294528293150385,0.042649859007409245,0.04236273976853396,0.04208378348783217,0.041812851384806525,0.041549807741703616,0.04129452001629248,0.04104685895060719,0.04080669867493773,0.040573916806263884,0.0403483945402449,0.040130016735807815,0.03991867199131559,0.03971425271124758,0.039516655162287646,0.039325779517689535,0.03914152988877881,0.038963814342449526,0.038792544903530436,0.03862763754092233,0.0384690121364496,0.03831659243542369,0.03817030597798335,0.038030084010356756,0.037895861375282024,0.03776757638092671,0.03764517064776018,0.03752858893295735,0.03741777893204528,0.03731269105764527,0.03721327819531122,0.03711949543661997,0.03703129978982786,0.036948649868570736,0.0368715055592507,0.036799827667918006,0.03673357754762423,0.036672716707387094,0.03661720640407008,0.03656700721863813,0.03652207861840438,0.036482378507029414,0.03644786276417405,0.036418484776837026,0.03639419496452989,0.03637494030055132,0.03636066383172086,0.03635130419901819,0.03634679516164523,0.036347065127087214,0.03635203668979092,0.03636162618110714,0.036375743233155684,0.036394290359268396,0.03641716255364485,0.03644424691281977,0.03647542228148887,0.03651055892517092,0.03654951823210007,0.036592152446642705,0.03663830443641806,0.03668780749517284,0.036740485183317705,0.03679615120787623,0.03685460934343045,0.03691565339546626,0.036979067207333224,0.03704462471183384,0.037112090028251006,0.03718121760540804,0.03725175241113644,0.03732343016830287,0.037395977637319465,0.03746911294483347,0.03754254595806251,0.03761597870401403,0.03768910583260134,0.03776161512244595,0.03783318802793874,0.037903500265920674,0.0379722224401398,0.03803902070144516,0.03810355744149271,0.03816549201756241,0.038224481505922135,0.038280181481022725,0.038332246817670786,0.03838033251320202,0.038424094526569245,0.03846319063116565,0.038497281278126315,0.03852603046678992,0.03854910661895687,0.038566183453553574,0.03857694085829926,0.038581065754978994,0.03857825295494716,0.038568206001525086,0.03855063799601056,0.038525272404087214,0.038491843839507614,0.0384500988220234,0.0383997965066503,0.03834070938148273,0.03827262393141278,0.038195341265259156,0.0381086777039738,0.03801246532776546,0.0379065524801597,0.037790804227202164,0.037665102770206925,0.037529347810651,0.03738345686602002,0.037227365535617764,0.03706102771556059,0.036884415762389086,0.0366975206049378,0.036500351804313956,0.03629293756204148,0.036075324676629786,0.035847578449026,0.03560978253760184,0.03536203876351406,0.03510446686745776,0.03483720421900338,0.03456040547987362,0.034274242222669275,0.03397890250670025,0.03367459041271079,0.03336152553841361,0.03303994245685963,0.03271009013977249,0.03237223134806685,0.03202664199184763,0.031673610462255204,0.03131343693757485,0.030946432666073987,0.030572919228060085,0.030193227779674835,0.029807698280947738,0.029416678710630778,0.029020524270325504,0.028619596580389043,0.028214262870076837,0.027804895164337644,0.027391869469627454,0.02697556496105296,0.026556363173089653,0.02613464719604988,0.025710800880397774,0.025285208050927023,0.024858251732728924,0.02443031339078738,0.02400177218494279,0.023573004241868176,0.023144381945602623,0.022716273248083303,0.022289041001017522,0.021863042310330254,0.02143862791432227,0.021016141586570128,0.020595919564497835,0.020178290004451784,0.01976357246401012,0.01935207741216431,0.01894410576791626,0.01853994846774393,0.018139886062302175,0.01774418834264058,0.017353113996140253,0.016966910292293965,0.016585812798381807,0.016210045125023848,0.01583981870152622,0.015475332580874704,0.015116773274171004,0.014764314614252814,0.014418117648186395,0.014078330558272897,0.013745088611164023,0.013418514134641546,0.013098716521575316,0.012785792260537934,0.012479824992520955,0.012180885593164605,0.01188903227988441,0.011604310743248728,0.011326754301936595,0.011056384080578704,0.010793209209762135,0.010537227047455975,0.010288423421093588,0.010046772889526797,0.009812239024046602,0.009584774707645469,0.009364322451677296,0.009150814729052338,0.008944174323085297,0.008744314691097705,0.008551140341857055,0.008364547225917982,0.00818442313791388,0.008010648129830482,0.007843094934276774,0.0076816293967536114,0.007526110915904912,0.007376392890723397,0.007232323173669139,0.007093744528648226,0.006960495092788115,0.006832408840937871,0.006709316051814173,0.006591043774708824,0.006477416295670658,0.00636825560207363,0.0062633818444844825,0.006162613794747848,0.006065769299213186,0.005972665726037956,0.005883120405514415,0.0057969510623831965,0.005713976239116155,0.005634015709173651,0.005556890879267277,0.005482425179688378,0.005410444441795761,0.0053407772617918604,0.005273255349956698,0.005207713864551459,0.005143991729650081,0.005081931936206277,0.005021381825715923,0.004962193355889726,0.004904223347808835,0.0048473337140963755,0.004791391667700123,0.004736269910945868,0.004681846804587172,0.004628006516644391,0.004574639150894437],\"yaxis\":\"y\",\"type\":\"scatter\"},{\"legendgroup\":\"\",\"marker\":{\"color\":\"black\",\"symbol\":\"line-ns-open\"},\"mode\":\"markers\",\"name\":\"\",\"showlegend\":false,\"x\":[0.011119811795651913,0.023864153772592545,0.052006397396326065,0.08672300726175308,0.12290805578231812,0.14197507500648499,0.142265185713768,0.1444268822669983,0.15219812095165253,0.15768039226531982,0.1644897162914276,0.17694249749183655,0.17713865637779236,0.1830204427242279,0.21074694395065308,0.2193051278591156,0.24281686544418335,0.2471517026424408,0.2501581311225891,0.2674034833908081,0.28809458017349243,0.32027873396873474,0.3256150782108307,0.3270658254623413,0.38320192694664,0.38747483491897583,0.3947995603084564,0.39741265773773193,0.42939460277557373,0.4508718252182007,0.4755581319332123,0.4931112229824066,0.49376553297042847,0.49658092856407166,0.4966460168361664,0.505322277545929,0.5107141733169556,0.5400581359863281,0.5990697145462036,0.6058262586593628,0.6142123341560364,0.6206064224243164,0.6967146992683411,0.711469829082489,0.7394935488700867,0.7617703676223755,0.7771328687667847,0.7906760573387146,0.8559705018997192,0.8942721486091614,0.9340057373046875,0.9349812269210815,0.9966928362846375,1.0061343908309937,1.0606855154037476,1.0909019708633423,1.0919979810714722,1.1041154861450195,1.1437803506851196,1.1677731275558472,1.1769243478775024,1.1784957647323608,1.1902374029159546,1.2065788507461548,1.2313767671585083,1.2365220785140991,1.2432254552841187,1.2667070627212524,1.316097378730774,1.3311331272125244,1.3684883117675781,1.418418288230896,1.425481915473938,1.4261339902877808,1.4325493574142456,1.490136742591858,1.5159450769424438,1.5180103778839111,1.5181560516357422,1.5359792709350586,1.5387698411941528,1.5486247539520264,1.567686915397644,1.6353343725204468,1.6651438474655151,1.7697672843933105,1.7867615222930908,1.8968397378921509,1.951727271080017,2.0300796031951904,2.03389835357666,2.0418386459350586,2.0521090030670166,2.1357507705688477,2.2624452114105225,2.2826621532440186,2.287487030029297,2.304556131362915,2.348231792449951,2.3980045318603516,2.4360392093658447,2.4564754962921143,2.5231332778930664,2.5644359588623047,2.5850841999053955,2.6185386180877686,2.633169174194336,2.6643781661987305,2.672011375427246,2.7106781005859375,2.7109198570251465,2.7135674953460693,2.7591593265533447,2.8488330841064453,2.9048142433166504,2.969134569168091,2.9863317012786865,3.058621644973755,3.1285979747772217,3.144796133041382,3.154100179672241,3.158001661300659,3.304659128189087,3.5113611221313477,3.61488938331604,3.8045175075531006,3.838407039642334,3.921485662460327,3.930893659591675,4.189592361450195,4.259246349334717,4.275484085083008,4.449670314788818,4.922892093658447,4.934447765350342,5.06345796585083,5.361876964569092,5.476563930511475,5.628546714782715,5.695979118347168,6.312900543212891,6.379827976226807,6.449522972106934,6.671870708465576,6.853058815002441,6.854694366455078,6.949805736541748,6.974671363830566,7.279781818389893,7.338564872741699,7.803490161895752,9.20862102508545],\"xaxis\":\"x\",\"y\":[\"\",\"\",\"\",\"\",\"\",\"\",\"\",\"\",\"\",\"\",\"\",\"\",\"\",\"\",\"\",\"\",\"\",\"\",\"\",\"\",\"\",\"\",\"\",\"\",\"\",\"\",\"\",\"\",\"\",\"\",\"\",\"\",\"\",\"\",\"\",\"\",\"\",\"\",\"\",\"\",\"\",\"\",\"\",\"\",\"\",\"\",\"\",\"\",\"\",\"\",\"\",\"\",\"\",\"\",\"\",\"\",\"\",\"\",\"\",\"\",\"\",\"\",\"\",\"\",\"\",\"\",\"\",\"\",\"\",\"\",\"\",\"\",\"\",\"\",\"\",\"\",\"\",\"\",\"\",\"\",\"\",\"\",\"\",\"\",\"\",\"\",\"\",\"\",\"\",\"\",\"\",\"\",\"\",\"\",\"\",\"\",\"\",\"\",\"\",\"\",\"\",\"\",\"\",\"\",\"\",\"\",\"\",\"\",\"\",\"\",\"\",\"\",\"\",\"\",\"\",\"\",\"\",\"\",\"\",\"\",\"\",\"\",\"\",\"\",\"\",\"\",\"\",\"\",\"\",\"\",\"\",\"\",\"\",\"\",\"\",\"\",\"\",\"\",\"\",\"\",\"\",\"\",\"\",\"\",\"\",\"\",\"\",\"\",\"\",\"\",\"\",\"\"],\"yaxis\":\"y2\",\"type\":\"scatter\"}],                        {\"barmode\":\"overlay\",\"hovermode\":\"closest\",\"legend\":{\"traceorder\":\"reversed\",\"x\":0.5,\"y\":1,\"bgcolor\":\"rgba(0,0,0,0)\",\"orientation\":\"v\"},\"xaxis\":{\"anchor\":\"y2\",\"domain\":[0.0,1.0],\"zeroline\":false,\"title\":{\"text\":\"abs. err. (kcal/mol)\"},\"color\":\"black\",\"linecolor\":\"black\",\"linewidth\":1.5,\"mirror\":\"allticks\",\"showgrid\":false,\"showline\":true,\"ticklen\":10,\"ticks\":\"inside\",\"tickwidth\":1.5},\"yaxis\":{\"anchor\":\"free\",\"domain\":[0.35,1],\"position\":0.0,\"title\":{\"text\":\"frequency\"},\"color\":\"black\",\"linecolor\":\"black\",\"linewidth\":1.5,\"mirror\":\"allticks\",\"showgrid\":false,\"showline\":true,\"ticklen\":10,\"ticks\":\"inside\",\"tickwidth\":1.5,\"zeroline\":false},\"yaxis2\":{\"anchor\":\"x\",\"domain\":[0,0.25],\"dtick\":1,\"showticklabels\":false},\"template\":{\"data\":{\"histogram2dcontour\":[{\"type\":\"histogram2dcontour\",\"colorbar\":{\"outlinewidth\":0,\"ticks\":\"\"},\"colorscale\":[[0.0,\"#0d0887\"],[0.1111111111111111,\"#46039f\"],[0.2222222222222222,\"#7201a8\"],[0.3333333333333333,\"#9c179e\"],[0.4444444444444444,\"#bd3786\"],[0.5555555555555556,\"#d8576b\"],[0.6666666666666666,\"#ed7953\"],[0.7777777777777778,\"#fb9f3a\"],[0.8888888888888888,\"#fdca26\"],[1.0,\"#f0f921\"]]}],\"choropleth\":[{\"type\":\"choropleth\",\"colorbar\":{\"outlinewidth\":0,\"ticks\":\"\"}}],\"histogram2d\":[{\"type\":\"histogram2d\",\"colorbar\":{\"outlinewidth\":0,\"ticks\":\"\"},\"colorscale\":[[0.0,\"#0d0887\"],[0.1111111111111111,\"#46039f\"],[0.2222222222222222,\"#7201a8\"],[0.3333333333333333,\"#9c179e\"],[0.4444444444444444,\"#bd3786\"],[0.5555555555555556,\"#d8576b\"],[0.6666666666666666,\"#ed7953\"],[0.7777777777777778,\"#fb9f3a\"],[0.8888888888888888,\"#fdca26\"],[1.0,\"#f0f921\"]]}],\"heatmap\":[{\"type\":\"heatmap\",\"colorbar\":{\"outlinewidth\":0,\"ticks\":\"\"},\"colorscale\":[[0.0,\"#0d0887\"],[0.1111111111111111,\"#46039f\"],[0.2222222222222222,\"#7201a8\"],[0.3333333333333333,\"#9c179e\"],[0.4444444444444444,\"#bd3786\"],[0.5555555555555556,\"#d8576b\"],[0.6666666666666666,\"#ed7953\"],[0.7777777777777778,\"#fb9f3a\"],[0.8888888888888888,\"#fdca26\"],[1.0,\"#f0f921\"]]}],\"heatmapgl\":[{\"type\":\"heatmapgl\",\"colorbar\":{\"outlinewidth\":0,\"ticks\":\"\"},\"colorscale\":[[0.0,\"#0d0887\"],[0.1111111111111111,\"#46039f\"],[0.2222222222222222,\"#7201a8\"],[0.3333333333333333,\"#9c179e\"],[0.4444444444444444,\"#bd3786\"],[0.5555555555555556,\"#d8576b\"],[0.6666666666666666,\"#ed7953\"],[0.7777777777777778,\"#fb9f3a\"],[0.8888888888888888,\"#fdca26\"],[1.0,\"#f0f921\"]]}],\"contourcarpet\":[{\"type\":\"contourcarpet\",\"colorbar\":{\"outlinewidth\":0,\"ticks\":\"\"}}],\"contour\":[{\"type\":\"contour\",\"colorbar\":{\"outlinewidth\":0,\"ticks\":\"\"},\"colorscale\":[[0.0,\"#0d0887\"],[0.1111111111111111,\"#46039f\"],[0.2222222222222222,\"#7201a8\"],[0.3333333333333333,\"#9c179e\"],[0.4444444444444444,\"#bd3786\"],[0.5555555555555556,\"#d8576b\"],[0.6666666666666666,\"#ed7953\"],[0.7777777777777778,\"#fb9f3a\"],[0.8888888888888888,\"#fdca26\"],[1.0,\"#f0f921\"]]}],\"surface\":[{\"type\":\"surface\",\"colorbar\":{\"outlinewidth\":0,\"ticks\":\"\"},\"colorscale\":[[0.0,\"#0d0887\"],[0.1111111111111111,\"#46039f\"],[0.2222222222222222,\"#7201a8\"],[0.3333333333333333,\"#9c179e\"],[0.4444444444444444,\"#bd3786\"],[0.5555555555555556,\"#d8576b\"],[0.6666666666666666,\"#ed7953\"],[0.7777777777777778,\"#fb9f3a\"],[0.8888888888888888,\"#fdca26\"],[1.0,\"#f0f921\"]]}],\"mesh3d\":[{\"type\":\"mesh3d\",\"colorbar\":{\"outlinewidth\":0,\"ticks\":\"\"}}],\"scatter\":[{\"fillpattern\":{\"fillmode\":\"overlay\",\"size\":10,\"solidity\":0.2},\"type\":\"scatter\"}],\"parcoords\":[{\"type\":\"parcoords\",\"line\":{\"colorbar\":{\"outlinewidth\":0,\"ticks\":\"\"}}}],\"scatterpolargl\":[{\"type\":\"scatterpolargl\",\"marker\":{\"colorbar\":{\"outlinewidth\":0,\"ticks\":\"\"}}}],\"bar\":[{\"error_x\":{\"color\":\"#2a3f5f\"},\"error_y\":{\"color\":\"#2a3f5f\"},\"marker\":{\"line\":{\"color\":\"#E5ECF6\",\"width\":0.5},\"pattern\":{\"fillmode\":\"overlay\",\"size\":10,\"solidity\":0.2}},\"type\":\"bar\"}],\"scattergeo\":[{\"type\":\"scattergeo\",\"marker\":{\"colorbar\":{\"outlinewidth\":0,\"ticks\":\"\"}}}],\"scatterpolar\":[{\"type\":\"scatterpolar\",\"marker\":{\"colorbar\":{\"outlinewidth\":0,\"ticks\":\"\"}}}],\"histogram\":[{\"marker\":{\"pattern\":{\"fillmode\":\"overlay\",\"size\":10,\"solidity\":0.2}},\"type\":\"histogram\"}],\"scattergl\":[{\"type\":\"scattergl\",\"marker\":{\"colorbar\":{\"outlinewidth\":0,\"ticks\":\"\"}}}],\"scatter3d\":[{\"type\":\"scatter3d\",\"line\":{\"colorbar\":{\"outlinewidth\":0,\"ticks\":\"\"}},\"marker\":{\"colorbar\":{\"outlinewidth\":0,\"ticks\":\"\"}}}],\"scattermapbox\":[{\"type\":\"scattermapbox\",\"marker\":{\"colorbar\":{\"outlinewidth\":0,\"ticks\":\"\"}}}],\"scatterternary\":[{\"type\":\"scatterternary\",\"marker\":{\"colorbar\":{\"outlinewidth\":0,\"ticks\":\"\"}}}],\"scattercarpet\":[{\"type\":\"scattercarpet\",\"marker\":{\"colorbar\":{\"outlinewidth\":0,\"ticks\":\"\"}}}],\"carpet\":[{\"aaxis\":{\"endlinecolor\":\"#2a3f5f\",\"gridcolor\":\"white\",\"linecolor\":\"white\",\"minorgridcolor\":\"white\",\"startlinecolor\":\"#2a3f5f\"},\"baxis\":{\"endlinecolor\":\"#2a3f5f\",\"gridcolor\":\"white\",\"linecolor\":\"white\",\"minorgridcolor\":\"white\",\"startlinecolor\":\"#2a3f5f\"},\"type\":\"carpet\"}],\"table\":[{\"cells\":{\"fill\":{\"color\":\"#EBF0F8\"},\"line\":{\"color\":\"white\"}},\"header\":{\"fill\":{\"color\":\"#C8D4E3\"},\"line\":{\"color\":\"white\"}},\"type\":\"table\"}],\"barpolar\":[{\"marker\":{\"line\":{\"color\":\"#E5ECF6\",\"width\":0.5},\"pattern\":{\"fillmode\":\"overlay\",\"size\":10,\"solidity\":0.2}},\"type\":\"barpolar\"}],\"pie\":[{\"automargin\":true,\"type\":\"pie\"}]},\"layout\":{\"autotypenumbers\":\"strict\",\"colorway\":[\"#636efa\",\"#EF553B\",\"#00cc96\",\"#ab63fa\",\"#FFA15A\",\"#19d3f3\",\"#FF6692\",\"#B6E880\",\"#FF97FF\",\"#FECB52\"],\"font\":{\"color\":\"#2a3f5f\"},\"hovermode\":\"closest\",\"hoverlabel\":{\"align\":\"left\"},\"paper_bgcolor\":\"white\",\"plot_bgcolor\":\"#E5ECF6\",\"polar\":{\"bgcolor\":\"#E5ECF6\",\"angularaxis\":{\"gridcolor\":\"white\",\"linecolor\":\"white\",\"ticks\":\"\"},\"radialaxis\":{\"gridcolor\":\"white\",\"linecolor\":\"white\",\"ticks\":\"\"}},\"ternary\":{\"bgcolor\":\"#E5ECF6\",\"aaxis\":{\"gridcolor\":\"white\",\"linecolor\":\"white\",\"ticks\":\"\"},\"baxis\":{\"gridcolor\":\"white\",\"linecolor\":\"white\",\"ticks\":\"\"},\"caxis\":{\"gridcolor\":\"white\",\"linecolor\":\"white\",\"ticks\":\"\"}},\"coloraxis\":{\"colorbar\":{\"outlinewidth\":0,\"ticks\":\"\"}},\"colorscale\":{\"sequential\":[[0.0,\"#0d0887\"],[0.1111111111111111,\"#46039f\"],[0.2222222222222222,\"#7201a8\"],[0.3333333333333333,\"#9c179e\"],[0.4444444444444444,\"#bd3786\"],[0.5555555555555556,\"#d8576b\"],[0.6666666666666666,\"#ed7953\"],[0.7777777777777778,\"#fb9f3a\"],[0.8888888888888888,\"#fdca26\"],[1.0,\"#f0f921\"]],\"sequentialminus\":[[0.0,\"#0d0887\"],[0.1111111111111111,\"#46039f\"],[0.2222222222222222,\"#7201a8\"],[0.3333333333333333,\"#9c179e\"],[0.4444444444444444,\"#bd3786\"],[0.5555555555555556,\"#d8576b\"],[0.6666666666666666,\"#ed7953\"],[0.7777777777777778,\"#fb9f3a\"],[0.8888888888888888,\"#fdca26\"],[1.0,\"#f0f921\"]],\"diverging\":[[0,\"#8e0152\"],[0.1,\"#c51b7d\"],[0.2,\"#de77ae\"],[0.3,\"#f1b6da\"],[0.4,\"#fde0ef\"],[0.5,\"#f7f7f7\"],[0.6,\"#e6f5d0\"],[0.7,\"#b8e186\"],[0.8,\"#7fbc41\"],[0.9,\"#4d9221\"],[1,\"#276419\"]]},\"xaxis\":{\"gridcolor\":\"white\",\"linecolor\":\"white\",\"ticks\":\"\",\"title\":{\"standoff\":15},\"zerolinecolor\":\"white\",\"automargin\":true,\"zerolinewidth\":2},\"yaxis\":{\"gridcolor\":\"white\",\"linecolor\":\"white\",\"ticks\":\"\",\"title\":{\"standoff\":15},\"zerolinecolor\":\"white\",\"automargin\":true,\"zerolinewidth\":2},\"scene\":{\"xaxis\":{\"backgroundcolor\":\"#E5ECF6\",\"gridcolor\":\"white\",\"linecolor\":\"white\",\"showbackground\":true,\"ticks\":\"\",\"zerolinecolor\":\"white\",\"gridwidth\":2},\"yaxis\":{\"backgroundcolor\":\"#E5ECF6\",\"gridcolor\":\"white\",\"linecolor\":\"white\",\"showbackground\":true,\"ticks\":\"\",\"zerolinecolor\":\"white\",\"gridwidth\":2},\"zaxis\":{\"backgroundcolor\":\"#E5ECF6\",\"gridcolor\":\"white\",\"linecolor\":\"white\",\"showbackground\":true,\"ticks\":\"\",\"zerolinecolor\":\"white\",\"gridwidth\":2}},\"shapedefaults\":{\"line\":{\"color\":\"#2a3f5f\"}},\"annotationdefaults\":{\"arrowcolor\":\"#2a3f5f\",\"arrowhead\":0,\"arrowwidth\":1},\"geo\":{\"bgcolor\":\"white\",\"landcolor\":\"#E5ECF6\",\"subunitcolor\":\"white\",\"showland\":true,\"showlakes\":true,\"lakecolor\":\"white\"},\"title\":{\"x\":0.05},\"mapbox\":{\"style\":\"light\"}}},\"font\":{\"color\":\"black\",\"family\":\"Helvetica\",\"size\":24},\"margin\":{\"b\":100,\"l\":100,\"r\":10,\"t\":10},\"showlegend\":false,\"width\":550,\"height\":500,\"paper_bgcolor\":\"rgba(255,255,255,100)\",\"plot_bgcolor\":\"white\"},                        {\"responsive\": true}                    ).then(function(){\n",
       "                            \n",
       "var gd = document.getElementById('832faa29-11db-445d-860c-32012a2ccddb');\n",
       "var x = new MutationObserver(function (mutations, observer) {{\n",
       "        var display = window.getComputedStyle(gd).display;\n",
       "        if (!display || display === 'none') {{\n",
       "            console.log([gd, 'removed!']);\n",
       "            Plotly.purge(gd);\n",
       "            observer.disconnect();\n",
       "        }}\n",
       "}});\n",
       "\n",
       "// Listen for the removal of the full notebook cells\n",
       "var notebookContainer = gd.closest('#notebook-container');\n",
       "if (notebookContainer) {{\n",
       "    x.observe(notebookContainer, {childList: true});\n",
       "}}\n",
       "\n",
       "// Listen for the clearing of the current output cell\n",
       "var outputEl = gd.closest('.output');\n",
       "if (outputEl) {{\n",
       "    x.observe(outputEl, {childList: true});\n",
       "}}\n",
       "\n",
       "                        })                };                });            </script>        </div>"
      ]
     },
     "metadata": {},
     "output_type": "display_data"
    },
    {
     "data": {
      "text/plain": [
       "2.1270691410234"
      ]
     },
     "execution_count": 63,
     "metadata": {},
     "output_type": "execute_result"
    }
   ],
   "source": [
    "hist_data = [df_sel['errs_t'].values]\n",
    "group_labels = [\"\"]\n",
    "colors = ['black', blue, green, red]\n",
    "fig = ff.create_distplot(hist_data, group_labels, show_hist=True, colors=colors, bin_size=0.5)\n",
    "layout = go.Layout()\n",
    "layout.legend.update(x=.5, y=1, bgcolor=\"rgba(0,0,0,0)\")\n",
    "layout.update(showlegend=False)\n",
    "layout.update(width=550, height=500)\n",
    "layout.update(glob_layout)\n",
    "layout[\"xaxis\"].update({'title': \"abs. err. (kcal/mol)\"})\n",
    "layout[\"yaxis\"].update({'title': \"frequency\"})\n",
    "fig.layout.update(layout)\n",
    "fig.show()\n",
    "\n",
    "np.mean(df_sel['errs_t'])"
   ]
  },
  {
   "cell_type": "markdown",
   "metadata": {},
   "source": [
    "##### DFA ranks"
   ]
  },
  {
   "cell_type": "code",
   "execution_count": 64,
   "metadata": {},
   "outputs": [
    {
     "data": {
      "application/vnd.plotly.v1+json": {
       "config": {
        "linkText": "Export to plot.ly",
        "plotlyServerURL": "https://plot.ly",
        "showLink": false
       },
       "data": [
        {
         "marker": {
          "color": "rgba(0, 0, 0, 0.5)"
         },
         "name": "all",
         "showlegend": false,
         "type": "bar",
         "x": [
          0,
          1,
          2,
          3,
          4,
          5,
          6,
          7,
          8,
          9,
          10,
          11,
          12,
          13,
          14,
          15,
          16,
          17,
          18,
          19,
          20,
          21,
          22,
          23,
          24,
          25,
          26,
          27,
          28,
          29,
          30,
          31,
          32,
          33,
          34,
          35,
          36,
          37,
          38,
          39,
          40,
          41,
          42,
          43,
          44,
          45,
          46,
          47
         ],
         "y": [
          17.763157894736842,
          11.842105263157896,
          10.526315789473685,
          13.157894736842104,
          9.868421052631579,
          3.289473684210526,
          7.2368421052631575,
          3.289473684210526,
          2.6315789473684212,
          5.2631578947368425,
          0.6578947368421053,
          2.6315789473684212,
          1.3157894736842106,
          1.3157894736842106,
          0,
          0.6578947368421053,
          2.6315789473684212,
          1.3157894736842106,
          1.3157894736842106,
          0.6578947368421053,
          0.6578947368421053,
          0,
          0.6578947368421053,
          0,
          0,
          1.3157894736842106,
          0,
          0,
          0,
          0,
          0,
          0,
          0,
          0,
          0,
          0,
          0,
          0,
          0,
          0,
          0,
          0,
          0,
          0,
          0,
          0,
          0,
          0
         ]
        },
        {
         "line": {
          "color": "blue",
          "dash": "solid",
          "width": 2
         },
         "mode": "lines",
         "showlegend": false,
         "type": "scatter",
         "x": [
          0,
          0
         ],
         "y": [
          0,
          17.763157894736842
         ],
         "yaxis": "y2"
        },
        {
         "line": {
          "color": "blue",
          "dash": "solid",
          "width": 2
         },
         "mode": "lines",
         "showlegend": false,
         "type": "scatter",
         "x": [
          0,
          1
         ],
         "y": [
          17.763157894736842,
          17.763157894736842
         ],
         "yaxis": "y2"
        },
        {
         "line": {
          "color": "blue",
          "dash": "solid",
          "width": 2
         },
         "mode": "lines",
         "showlegend": false,
         "type": "scatter",
         "x": [
          1,
          1
         ],
         "y": [
          17.763157894736842,
          29.605263157894743
         ],
         "yaxis": "y2"
        },
        {
         "line": {
          "color": "blue",
          "dash": "solid",
          "width": 2
         },
         "mode": "lines",
         "showlegend": false,
         "type": "scatter",
         "x": [
          1,
          2
         ],
         "y": [
          29.605263157894743,
          29.605263157894743
         ],
         "yaxis": "y2"
        },
        {
         "line": {
          "color": "blue",
          "dash": "solid",
          "width": 2
         },
         "mode": "lines",
         "showlegend": false,
         "type": "scatter",
         "x": [
          2,
          2
         ],
         "y": [
          29.605263157894743,
          40.131578947368425
         ],
         "yaxis": "y2"
        },
        {
         "line": {
          "color": "blue",
          "dash": "solid",
          "width": 2
         },
         "mode": "lines",
         "showlegend": false,
         "type": "scatter",
         "x": [
          2,
          3
         ],
         "y": [
          40.131578947368425,
          40.131578947368425
         ],
         "yaxis": "y2"
        },
        {
         "line": {
          "color": "blue",
          "dash": "solid",
          "width": 2
         },
         "mode": "lines",
         "showlegend": false,
         "type": "scatter",
         "x": [
          3,
          3
         ],
         "y": [
          40.131578947368425,
          53.28947368421053
         ],
         "yaxis": "y2"
        },
        {
         "line": {
          "color": "blue",
          "dash": "solid",
          "width": 2
         },
         "mode": "lines",
         "showlegend": false,
         "type": "scatter",
         "x": [
          3,
          4
         ],
         "y": [
          53.28947368421053,
          53.28947368421053
         ],
         "yaxis": "y2"
        },
        {
         "line": {
          "color": "blue",
          "dash": "solid",
          "width": 2
         },
         "mode": "lines",
         "showlegend": false,
         "type": "scatter",
         "x": [
          4,
          4
         ],
         "y": [
          53.28947368421053,
          63.15789473684211
         ],
         "yaxis": "y2"
        },
        {
         "line": {
          "color": "blue",
          "dash": "solid",
          "width": 2
         },
         "mode": "lines",
         "showlegend": false,
         "type": "scatter",
         "x": [
          4,
          5
         ],
         "y": [
          63.15789473684211,
          63.15789473684211
         ],
         "yaxis": "y2"
        },
        {
         "line": {
          "color": "blue",
          "dash": "solid",
          "width": 2
         },
         "mode": "lines",
         "showlegend": false,
         "type": "scatter",
         "x": [
          5,
          5
         ],
         "y": [
          63.15789473684211,
          66.44736842105263
         ],
         "yaxis": "y2"
        },
        {
         "line": {
          "color": "blue",
          "dash": "solid",
          "width": 2
         },
         "mode": "lines",
         "showlegend": false,
         "type": "scatter",
         "x": [
          5,
          6
         ],
         "y": [
          66.44736842105263,
          66.44736842105263
         ],
         "yaxis": "y2"
        },
        {
         "line": {
          "color": "blue",
          "dash": "solid",
          "width": 2
         },
         "mode": "lines",
         "showlegend": false,
         "type": "scatter",
         "x": [
          6,
          6
         ],
         "y": [
          66.44736842105263,
          73.68421052631578
         ],
         "yaxis": "y2"
        },
        {
         "line": {
          "color": "blue",
          "dash": "solid",
          "width": 2
         },
         "mode": "lines",
         "showlegend": false,
         "type": "scatter",
         "x": [
          6,
          7
         ],
         "y": [
          73.68421052631578,
          73.68421052631578
         ],
         "yaxis": "y2"
        },
        {
         "line": {
          "color": "blue",
          "dash": "solid",
          "width": 2
         },
         "mode": "lines",
         "showlegend": false,
         "type": "scatter",
         "x": [
          7,
          7
         ],
         "y": [
          73.68421052631578,
          76.97368421052632
         ],
         "yaxis": "y2"
        },
        {
         "line": {
          "color": "blue",
          "dash": "solid",
          "width": 2
         },
         "mode": "lines",
         "showlegend": false,
         "type": "scatter",
         "x": [
          7,
          8
         ],
         "y": [
          76.97368421052632,
          76.97368421052632
         ],
         "yaxis": "y2"
        },
        {
         "line": {
          "color": "blue",
          "dash": "solid",
          "width": 2
         },
         "mode": "lines",
         "showlegend": false,
         "type": "scatter",
         "x": [
          8,
          8
         ],
         "y": [
          76.97368421052632,
          79.60526315789474
         ],
         "yaxis": "y2"
        },
        {
         "line": {
          "color": "blue",
          "dash": "solid",
          "width": 2
         },
         "mode": "lines",
         "showlegend": false,
         "type": "scatter",
         "x": [
          8,
          9
         ],
         "y": [
          79.60526315789474,
          79.60526315789474
         ],
         "yaxis": "y2"
        },
        {
         "line": {
          "color": "blue",
          "dash": "solid",
          "width": 2
         },
         "mode": "lines",
         "showlegend": false,
         "type": "scatter",
         "x": [
          9,
          9
         ],
         "y": [
          79.60526315789474,
          84.86842105263159
         ],
         "yaxis": "y2"
        },
        {
         "line": {
          "color": "blue",
          "dash": "solid",
          "width": 2
         },
         "mode": "lines",
         "showlegend": false,
         "type": "scatter",
         "x": [
          9,
          10
         ],
         "y": [
          84.86842105263159,
          84.86842105263159
         ],
         "yaxis": "y2"
        },
        {
         "line": {
          "color": "blue",
          "dash": "solid",
          "width": 2
         },
         "mode": "lines",
         "showlegend": false,
         "type": "scatter",
         "x": [
          10,
          10
         ],
         "y": [
          84.86842105263159,
          85.5263157894737
         ],
         "yaxis": "y2"
        },
        {
         "line": {
          "color": "blue",
          "dash": "solid",
          "width": 2
         },
         "mode": "lines",
         "showlegend": false,
         "type": "scatter",
         "x": [
          10,
          11
         ],
         "y": [
          85.5263157894737,
          85.5263157894737
         ],
         "yaxis": "y2"
        },
        {
         "line": {
          "color": "blue",
          "dash": "solid",
          "width": 2
         },
         "mode": "lines",
         "showlegend": false,
         "type": "scatter",
         "x": [
          11,
          11
         ],
         "y": [
          85.5263157894737,
          88.15789473684212
         ],
         "yaxis": "y2"
        },
        {
         "line": {
          "color": "blue",
          "dash": "solid",
          "width": 2
         },
         "mode": "lines",
         "showlegend": false,
         "type": "scatter",
         "x": [
          11,
          12
         ],
         "y": [
          88.15789473684212,
          88.15789473684212
         ],
         "yaxis": "y2"
        },
        {
         "line": {
          "color": "blue",
          "dash": "solid",
          "width": 2
         },
         "mode": "lines",
         "showlegend": false,
         "type": "scatter",
         "x": [
          12,
          12
         ],
         "y": [
          88.15789473684212,
          89.47368421052633
         ],
         "yaxis": "y2"
        },
        {
         "line": {
          "color": "blue",
          "dash": "solid",
          "width": 2
         },
         "mode": "lines",
         "showlegend": false,
         "type": "scatter",
         "x": [
          12,
          13
         ],
         "y": [
          89.47368421052633,
          89.47368421052633
         ],
         "yaxis": "y2"
        },
        {
         "line": {
          "color": "blue",
          "dash": "solid",
          "width": 2
         },
         "mode": "lines",
         "showlegend": false,
         "type": "scatter",
         "x": [
          13,
          13
         ],
         "y": [
          89.47368421052633,
          90.78947368421053
         ],
         "yaxis": "y2"
        },
        {
         "line": {
          "color": "blue",
          "dash": "solid",
          "width": 2
         },
         "mode": "lines",
         "showlegend": false,
         "type": "scatter",
         "x": [
          13,
          14
         ],
         "y": [
          90.78947368421053,
          90.78947368421053
         ],
         "yaxis": "y2"
        },
        {
         "line": {
          "color": "blue",
          "dash": "solid",
          "width": 2
         },
         "mode": "lines",
         "showlegend": false,
         "type": "scatter",
         "x": [
          14,
          14
         ],
         "y": [
          90.78947368421053,
          90.78947368421053
         ],
         "yaxis": "y2"
        },
        {
         "line": {
          "color": "blue",
          "dash": "solid",
          "width": 2
         },
         "mode": "lines",
         "showlegend": false,
         "type": "scatter",
         "x": [
          14,
          15
         ],
         "y": [
          90.78947368421053,
          90.78947368421053
         ],
         "yaxis": "y2"
        },
        {
         "line": {
          "color": "blue",
          "dash": "solid",
          "width": 2
         },
         "mode": "lines",
         "showlegend": false,
         "type": "scatter",
         "x": [
          15,
          15
         ],
         "y": [
          90.78947368421053,
          91.44736842105263
         ],
         "yaxis": "y2"
        },
        {
         "line": {
          "color": "blue",
          "dash": "solid",
          "width": 2
         },
         "mode": "lines",
         "showlegend": false,
         "type": "scatter",
         "x": [
          15,
          16
         ],
         "y": [
          91.44736842105263,
          91.44736842105263
         ],
         "yaxis": "y2"
        },
        {
         "line": {
          "color": "blue",
          "dash": "solid",
          "width": 2
         },
         "mode": "lines",
         "showlegend": false,
         "type": "scatter",
         "x": [
          16,
          16
         ],
         "y": [
          91.44736842105263,
          94.07894736842105
         ],
         "yaxis": "y2"
        },
        {
         "line": {
          "color": "blue",
          "dash": "solid",
          "width": 2
         },
         "mode": "lines",
         "showlegend": false,
         "type": "scatter",
         "x": [
          16,
          17
         ],
         "y": [
          94.07894736842105,
          94.07894736842105
         ],
         "yaxis": "y2"
        },
        {
         "line": {
          "color": "blue",
          "dash": "solid",
          "width": 2
         },
         "mode": "lines",
         "showlegend": false,
         "type": "scatter",
         "x": [
          17,
          17
         ],
         "y": [
          94.07894736842105,
          95.39473684210526
         ],
         "yaxis": "y2"
        },
        {
         "line": {
          "color": "blue",
          "dash": "solid",
          "width": 2
         },
         "mode": "lines",
         "showlegend": false,
         "type": "scatter",
         "x": [
          17,
          18
         ],
         "y": [
          95.39473684210526,
          95.39473684210526
         ],
         "yaxis": "y2"
        },
        {
         "line": {
          "color": "blue",
          "dash": "solid",
          "width": 2
         },
         "mode": "lines",
         "showlegend": false,
         "type": "scatter",
         "x": [
          18,
          18
         ],
         "y": [
          95.39473684210526,
          96.71052631578947
         ],
         "yaxis": "y2"
        },
        {
         "line": {
          "color": "blue",
          "dash": "solid",
          "width": 2
         },
         "mode": "lines",
         "showlegend": false,
         "type": "scatter",
         "x": [
          18,
          19
         ],
         "y": [
          96.71052631578947,
          96.71052631578947
         ],
         "yaxis": "y2"
        },
        {
         "line": {
          "color": "blue",
          "dash": "solid",
          "width": 2
         },
         "mode": "lines",
         "showlegend": false,
         "type": "scatter",
         "x": [
          19,
          19
         ],
         "y": [
          96.71052631578947,
          97.36842105263159
         ],
         "yaxis": "y2"
        },
        {
         "line": {
          "color": "blue",
          "dash": "solid",
          "width": 2
         },
         "mode": "lines",
         "showlegend": false,
         "type": "scatter",
         "x": [
          19,
          20
         ],
         "y": [
          97.36842105263159,
          97.36842105263159
         ],
         "yaxis": "y2"
        },
        {
         "line": {
          "color": "blue",
          "dash": "solid",
          "width": 2
         },
         "mode": "lines",
         "showlegend": false,
         "type": "scatter",
         "x": [
          20,
          20
         ],
         "y": [
          97.36842105263159,
          98.02631578947368
         ],
         "yaxis": "y2"
        },
        {
         "line": {
          "color": "blue",
          "dash": "solid",
          "width": 2
         },
         "mode": "lines",
         "showlegend": false,
         "type": "scatter",
         "x": [
          20,
          21
         ],
         "y": [
          98.02631578947368,
          98.02631578947368
         ],
         "yaxis": "y2"
        },
        {
         "line": {
          "color": "blue",
          "dash": "solid",
          "width": 2
         },
         "mode": "lines",
         "showlegend": false,
         "type": "scatter",
         "x": [
          21,
          21
         ],
         "y": [
          98.02631578947368,
          98.02631578947368
         ],
         "yaxis": "y2"
        },
        {
         "line": {
          "color": "blue",
          "dash": "solid",
          "width": 2
         },
         "mode": "lines",
         "showlegend": false,
         "type": "scatter",
         "x": [
          21,
          22
         ],
         "y": [
          98.02631578947368,
          98.02631578947368
         ],
         "yaxis": "y2"
        },
        {
         "line": {
          "color": "blue",
          "dash": "solid",
          "width": 2
         },
         "mode": "lines",
         "showlegend": false,
         "type": "scatter",
         "x": [
          22,
          22
         ],
         "y": [
          98.02631578947368,
          98.6842105263158
         ],
         "yaxis": "y2"
        },
        {
         "line": {
          "color": "blue",
          "dash": "solid",
          "width": 2
         },
         "mode": "lines",
         "showlegend": false,
         "type": "scatter",
         "x": [
          22,
          23
         ],
         "y": [
          98.6842105263158,
          98.6842105263158
         ],
         "yaxis": "y2"
        },
        {
         "line": {
          "color": "blue",
          "dash": "solid",
          "width": 2
         },
         "mode": "lines",
         "showlegend": false,
         "type": "scatter",
         "x": [
          23,
          23
         ],
         "y": [
          98.6842105263158,
          98.68421052631578
         ],
         "yaxis": "y2"
        },
        {
         "line": {
          "color": "blue",
          "dash": "solid",
          "width": 2
         },
         "mode": "lines",
         "showlegend": false,
         "type": "scatter",
         "x": [
          23,
          24
         ],
         "y": [
          98.68421052631578,
          98.68421052631578
         ],
         "yaxis": "y2"
        },
        {
         "line": {
          "color": "blue",
          "dash": "solid",
          "width": 2
         },
         "mode": "lines",
         "showlegend": false,
         "type": "scatter",
         "x": [
          24,
          24
         ],
         "y": [
          98.68421052631578,
          98.68421052631578
         ],
         "yaxis": "y2"
        },
        {
         "line": {
          "color": "blue",
          "dash": "solid",
          "width": 2
         },
         "mode": "lines",
         "showlegend": false,
         "type": "scatter",
         "x": [
          24,
          25
         ],
         "y": [
          98.68421052631578,
          98.68421052631578
         ],
         "yaxis": "y2"
        },
        {
         "line": {
          "color": "blue",
          "dash": "solid",
          "width": 2
         },
         "mode": "lines",
         "showlegend": false,
         "type": "scatter",
         "x": [
          25,
          25
         ],
         "y": [
          98.68421052631578,
          99.99999999999999
         ],
         "yaxis": "y2"
        },
        {
         "line": {
          "color": "blue",
          "dash": "solid",
          "width": 2
         },
         "mode": "lines",
         "showlegend": false,
         "type": "scatter",
         "x": [
          25,
          26
         ],
         "y": [
          99.99999999999999,
          99.99999999999999
         ],
         "yaxis": "y2"
        },
        {
         "line": {
          "color": "blue",
          "dash": "solid",
          "width": 2
         },
         "mode": "lines",
         "showlegend": false,
         "type": "scatter",
         "x": [
          26,
          26
         ],
         "y": [
          99.99999999999999,
          99.99999999999999
         ],
         "yaxis": "y2"
        },
        {
         "line": {
          "color": "blue",
          "dash": "solid",
          "width": 2
         },
         "mode": "lines",
         "showlegend": false,
         "type": "scatter",
         "x": [
          26,
          27
         ],
         "y": [
          99.99999999999999,
          99.99999999999999
         ],
         "yaxis": "y2"
        },
        {
         "line": {
          "color": "blue",
          "dash": "solid",
          "width": 2
         },
         "mode": "lines",
         "showlegend": false,
         "type": "scatter",
         "x": [
          27,
          27
         ],
         "y": [
          99.99999999999999,
          99.99999999999999
         ],
         "yaxis": "y2"
        },
        {
         "line": {
          "color": "blue",
          "dash": "solid",
          "width": 2
         },
         "mode": "lines",
         "showlegend": false,
         "type": "scatter",
         "x": [
          27,
          28
         ],
         "y": [
          99.99999999999999,
          99.99999999999999
         ],
         "yaxis": "y2"
        },
        {
         "line": {
          "color": "blue",
          "dash": "solid",
          "width": 2
         },
         "mode": "lines",
         "showlegend": false,
         "type": "scatter",
         "x": [
          28,
          28
         ],
         "y": [
          99.99999999999999,
          99.99999999999999
         ],
         "yaxis": "y2"
        },
        {
         "line": {
          "color": "blue",
          "dash": "solid",
          "width": 2
         },
         "mode": "lines",
         "showlegend": false,
         "type": "scatter",
         "x": [
          28,
          29
         ],
         "y": [
          99.99999999999999,
          99.99999999999999
         ],
         "yaxis": "y2"
        },
        {
         "line": {
          "color": "blue",
          "dash": "solid",
          "width": 2
         },
         "mode": "lines",
         "showlegend": false,
         "type": "scatter",
         "x": [
          29,
          29
         ],
         "y": [
          99.99999999999999,
          99.99999999999999
         ],
         "yaxis": "y2"
        },
        {
         "line": {
          "color": "blue",
          "dash": "solid",
          "width": 2
         },
         "mode": "lines",
         "showlegend": false,
         "type": "scatter",
         "x": [
          29,
          30
         ],
         "y": [
          99.99999999999999,
          99.99999999999999
         ],
         "yaxis": "y2"
        },
        {
         "line": {
          "color": "blue",
          "dash": "solid",
          "width": 2
         },
         "mode": "lines",
         "showlegend": false,
         "type": "scatter",
         "x": [
          30,
          30
         ],
         "y": [
          99.99999999999999,
          99.99999999999999
         ],
         "yaxis": "y2"
        },
        {
         "line": {
          "color": "blue",
          "dash": "solid",
          "width": 2
         },
         "mode": "lines",
         "showlegend": false,
         "type": "scatter",
         "x": [
          30,
          31
         ],
         "y": [
          99.99999999999999,
          99.99999999999999
         ],
         "yaxis": "y2"
        },
        {
         "line": {
          "color": "blue",
          "dash": "solid",
          "width": 2
         },
         "mode": "lines",
         "showlegend": false,
         "type": "scatter",
         "x": [
          31,
          31
         ],
         "y": [
          99.99999999999999,
          100
         ],
         "yaxis": "y2"
        },
        {
         "line": {
          "color": "blue",
          "dash": "solid",
          "width": 2
         },
         "mode": "lines",
         "showlegend": false,
         "type": "scatter",
         "x": [
          31,
          32
         ],
         "y": [
          100,
          100
         ],
         "yaxis": "y2"
        },
        {
         "line": {
          "color": "blue",
          "dash": "solid",
          "width": 2
         },
         "mode": "lines",
         "showlegend": false,
         "type": "scatter",
         "x": [
          32,
          32
         ],
         "y": [
          100,
          100
         ],
         "yaxis": "y2"
        },
        {
         "line": {
          "color": "blue",
          "dash": "solid",
          "width": 2
         },
         "mode": "lines",
         "showlegend": false,
         "type": "scatter",
         "x": [
          32,
          33
         ],
         "y": [
          100,
          100
         ],
         "yaxis": "y2"
        },
        {
         "line": {
          "color": "blue",
          "dash": "solid",
          "width": 2
         },
         "mode": "lines",
         "showlegend": false,
         "type": "scatter",
         "x": [
          33,
          33
         ],
         "y": [
          100,
          100
         ],
         "yaxis": "y2"
        },
        {
         "line": {
          "color": "blue",
          "dash": "solid",
          "width": 2
         },
         "mode": "lines",
         "showlegend": false,
         "type": "scatter",
         "x": [
          33,
          34
         ],
         "y": [
          100,
          100
         ],
         "yaxis": "y2"
        },
        {
         "line": {
          "color": "blue",
          "dash": "solid",
          "width": 2
         },
         "mode": "lines",
         "showlegend": false,
         "type": "scatter",
         "x": [
          34,
          34
         ],
         "y": [
          100,
          100
         ],
         "yaxis": "y2"
        },
        {
         "line": {
          "color": "blue",
          "dash": "solid",
          "width": 2
         },
         "mode": "lines",
         "showlegend": false,
         "type": "scatter",
         "x": [
          34,
          35
         ],
         "y": [
          100,
          100
         ],
         "yaxis": "y2"
        },
        {
         "line": {
          "color": "blue",
          "dash": "solid",
          "width": 2
         },
         "mode": "lines",
         "showlegend": false,
         "type": "scatter",
         "x": [
          35,
          35
         ],
         "y": [
          100,
          100
         ],
         "yaxis": "y2"
        },
        {
         "line": {
          "color": "blue",
          "dash": "solid",
          "width": 2
         },
         "mode": "lines",
         "showlegend": false,
         "type": "scatter",
         "x": [
          35,
          36
         ],
         "y": [
          100,
          100
         ],
         "yaxis": "y2"
        },
        {
         "line": {
          "color": "blue",
          "dash": "solid",
          "width": 2
         },
         "mode": "lines",
         "showlegend": false,
         "type": "scatter",
         "x": [
          36,
          36
         ],
         "y": [
          100,
          100
         ],
         "yaxis": "y2"
        },
        {
         "line": {
          "color": "blue",
          "dash": "solid",
          "width": 2
         },
         "mode": "lines",
         "showlegend": false,
         "type": "scatter",
         "x": [
          36,
          37
         ],
         "y": [
          100,
          100
         ],
         "yaxis": "y2"
        },
        {
         "line": {
          "color": "blue",
          "dash": "solid",
          "width": 2
         },
         "mode": "lines",
         "showlegend": false,
         "type": "scatter",
         "x": [
          37,
          37
         ],
         "y": [
          100,
          100
         ],
         "yaxis": "y2"
        },
        {
         "line": {
          "color": "blue",
          "dash": "solid",
          "width": 2
         },
         "mode": "lines",
         "showlegend": false,
         "type": "scatter",
         "x": [
          37,
          38
         ],
         "y": [
          100,
          100
         ],
         "yaxis": "y2"
        },
        {
         "line": {
          "color": "blue",
          "dash": "solid",
          "width": 2
         },
         "mode": "lines",
         "showlegend": false,
         "type": "scatter",
         "x": [
          38,
          38
         ],
         "y": [
          100,
          100
         ],
         "yaxis": "y2"
        },
        {
         "line": {
          "color": "blue",
          "dash": "solid",
          "width": 2
         },
         "mode": "lines",
         "showlegend": false,
         "type": "scatter",
         "x": [
          38,
          39
         ],
         "y": [
          100,
          100
         ],
         "yaxis": "y2"
        },
        {
         "line": {
          "color": "blue",
          "dash": "solid",
          "width": 2
         },
         "mode": "lines",
         "showlegend": false,
         "type": "scatter",
         "x": [
          39,
          39
         ],
         "y": [
          100,
          100
         ],
         "yaxis": "y2"
        },
        {
         "line": {
          "color": "blue",
          "dash": "solid",
          "width": 2
         },
         "mode": "lines",
         "showlegend": false,
         "type": "scatter",
         "x": [
          39,
          40
         ],
         "y": [
          100,
          100
         ],
         "yaxis": "y2"
        },
        {
         "line": {
          "color": "blue",
          "dash": "solid",
          "width": 2
         },
         "mode": "lines",
         "showlegend": false,
         "type": "scatter",
         "x": [
          40,
          40
         ],
         "y": [
          100,
          100
         ],
         "yaxis": "y2"
        },
        {
         "line": {
          "color": "blue",
          "dash": "solid",
          "width": 2
         },
         "mode": "lines",
         "showlegend": false,
         "type": "scatter",
         "x": [
          40,
          41
         ],
         "y": [
          100,
          100
         ],
         "yaxis": "y2"
        },
        {
         "line": {
          "color": "blue",
          "dash": "solid",
          "width": 2
         },
         "mode": "lines",
         "showlegend": false,
         "type": "scatter",
         "x": [
          41,
          41
         ],
         "y": [
          100,
          100
         ],
         "yaxis": "y2"
        },
        {
         "line": {
          "color": "blue",
          "dash": "solid",
          "width": 2
         },
         "mode": "lines",
         "showlegend": false,
         "type": "scatter",
         "x": [
          41,
          42
         ],
         "y": [
          100,
          100
         ],
         "yaxis": "y2"
        },
        {
         "line": {
          "color": "blue",
          "dash": "solid",
          "width": 2
         },
         "mode": "lines",
         "showlegend": false,
         "type": "scatter",
         "x": [
          42,
          42
         ],
         "y": [
          100,
          100
         ],
         "yaxis": "y2"
        },
        {
         "line": {
          "color": "blue",
          "dash": "solid",
          "width": 2
         },
         "mode": "lines",
         "showlegend": false,
         "type": "scatter",
         "x": [
          42,
          43
         ],
         "y": [
          100,
          100
         ],
         "yaxis": "y2"
        },
        {
         "line": {
          "color": "blue",
          "dash": "solid",
          "width": 2
         },
         "mode": "lines",
         "showlegend": false,
         "type": "scatter",
         "x": [
          43,
          43
         ],
         "y": [
          100,
          100
         ],
         "yaxis": "y2"
        },
        {
         "line": {
          "color": "blue",
          "dash": "solid",
          "width": 2
         },
         "mode": "lines",
         "showlegend": false,
         "type": "scatter",
         "x": [
          43,
          44
         ],
         "y": [
          100,
          100
         ],
         "yaxis": "y2"
        },
        {
         "line": {
          "color": "blue",
          "dash": "solid",
          "width": 2
         },
         "mode": "lines",
         "showlegend": false,
         "type": "scatter",
         "x": [
          44,
          44
         ],
         "y": [
          100,
          100
         ],
         "yaxis": "y2"
        },
        {
         "line": {
          "color": "blue",
          "dash": "solid",
          "width": 2
         },
         "mode": "lines",
         "showlegend": false,
         "type": "scatter",
         "x": [
          44,
          45
         ],
         "y": [
          100,
          100
         ],
         "yaxis": "y2"
        },
        {
         "line": {
          "color": "blue",
          "dash": "solid",
          "width": 2
         },
         "mode": "lines",
         "showlegend": false,
         "type": "scatter",
         "x": [
          45,
          45
         ],
         "y": [
          100,
          100
         ],
         "yaxis": "y2"
        },
        {
         "line": {
          "color": "blue",
          "dash": "solid",
          "width": 2
         },
         "mode": "lines",
         "showlegend": false,
         "type": "scatter",
         "x": [
          45,
          46
         ],
         "y": [
          100,
          100
         ],
         "yaxis": "y2"
        },
        {
         "line": {
          "color": "blue",
          "dash": "solid",
          "width": 2
         },
         "mode": "lines",
         "showlegend": false,
         "type": "scatter",
         "x": [
          46,
          46
         ],
         "y": [
          100,
          100
         ],
         "yaxis": "y2"
        },
        {
         "line": {
          "color": "blue",
          "dash": "solid",
          "width": 2
         },
         "mode": "lines",
         "showlegend": false,
         "type": "scatter",
         "x": [
          46,
          47
         ],
         "y": [
          100,
          100
         ],
         "yaxis": "y2"
        }
       ],
       "layout": {
        "boxmode": "group",
        "font": {
         "color": "black",
         "family": "Helvetica",
         "size": 24
        },
        "height": 500,
        "legend": {
         "bgcolor": "rgba(0,0,0,0)",
         "orientation": "v",
         "x": 1,
         "y": 1
        },
        "margin": {
         "b": 100,
         "l": 100,
         "r": 10,
         "t": 10
        },
        "paper_bgcolor": "rgba(255,255,255,100)",
        "plot_bgcolor": "white",
        "template": {
         "data": {
          "bar": [
           {
            "error_x": {
             "color": "#2a3f5f"
            },
            "error_y": {
             "color": "#2a3f5f"
            },
            "marker": {
             "line": {
              "color": "#E5ECF6",
              "width": 0.5
             },
             "pattern": {
              "fillmode": "overlay",
              "size": 10,
              "solidity": 0.2
             }
            },
            "type": "bar"
           }
          ],
          "barpolar": [
           {
            "marker": {
             "line": {
              "color": "#E5ECF6",
              "width": 0.5
             },
             "pattern": {
              "fillmode": "overlay",
              "size": 10,
              "solidity": 0.2
             }
            },
            "type": "barpolar"
           }
          ],
          "carpet": [
           {
            "aaxis": {
             "endlinecolor": "#2a3f5f",
             "gridcolor": "white",
             "linecolor": "white",
             "minorgridcolor": "white",
             "startlinecolor": "#2a3f5f"
            },
            "baxis": {
             "endlinecolor": "#2a3f5f",
             "gridcolor": "white",
             "linecolor": "white",
             "minorgridcolor": "white",
             "startlinecolor": "#2a3f5f"
            },
            "type": "carpet"
           }
          ],
          "choropleth": [
           {
            "colorbar": {
             "outlinewidth": 0,
             "ticks": ""
            },
            "type": "choropleth"
           }
          ],
          "contour": [
           {
            "colorbar": {
             "outlinewidth": 0,
             "ticks": ""
            },
            "colorscale": [
             [
              0,
              "#0d0887"
             ],
             [
              0.1111111111111111,
              "#46039f"
             ],
             [
              0.2222222222222222,
              "#7201a8"
             ],
             [
              0.3333333333333333,
              "#9c179e"
             ],
             [
              0.4444444444444444,
              "#bd3786"
             ],
             [
              0.5555555555555556,
              "#d8576b"
             ],
             [
              0.6666666666666666,
              "#ed7953"
             ],
             [
              0.7777777777777778,
              "#fb9f3a"
             ],
             [
              0.8888888888888888,
              "#fdca26"
             ],
             [
              1,
              "#f0f921"
             ]
            ],
            "type": "contour"
           }
          ],
          "contourcarpet": [
           {
            "colorbar": {
             "outlinewidth": 0,
             "ticks": ""
            },
            "type": "contourcarpet"
           }
          ],
          "heatmap": [
           {
            "colorbar": {
             "outlinewidth": 0,
             "ticks": ""
            },
            "colorscale": [
             [
              0,
              "#0d0887"
             ],
             [
              0.1111111111111111,
              "#46039f"
             ],
             [
              0.2222222222222222,
              "#7201a8"
             ],
             [
              0.3333333333333333,
              "#9c179e"
             ],
             [
              0.4444444444444444,
              "#bd3786"
             ],
             [
              0.5555555555555556,
              "#d8576b"
             ],
             [
              0.6666666666666666,
              "#ed7953"
             ],
             [
              0.7777777777777778,
              "#fb9f3a"
             ],
             [
              0.8888888888888888,
              "#fdca26"
             ],
             [
              1,
              "#f0f921"
             ]
            ],
            "type": "heatmap"
           }
          ],
          "heatmapgl": [
           {
            "colorbar": {
             "outlinewidth": 0,
             "ticks": ""
            },
            "colorscale": [
             [
              0,
              "#0d0887"
             ],
             [
              0.1111111111111111,
              "#46039f"
             ],
             [
              0.2222222222222222,
              "#7201a8"
             ],
             [
              0.3333333333333333,
              "#9c179e"
             ],
             [
              0.4444444444444444,
              "#bd3786"
             ],
             [
              0.5555555555555556,
              "#d8576b"
             ],
             [
              0.6666666666666666,
              "#ed7953"
             ],
             [
              0.7777777777777778,
              "#fb9f3a"
             ],
             [
              0.8888888888888888,
              "#fdca26"
             ],
             [
              1,
              "#f0f921"
             ]
            ],
            "type": "heatmapgl"
           }
          ],
          "histogram": [
           {
            "marker": {
             "pattern": {
              "fillmode": "overlay",
              "size": 10,
              "solidity": 0.2
             }
            },
            "type": "histogram"
           }
          ],
          "histogram2d": [
           {
            "colorbar": {
             "outlinewidth": 0,
             "ticks": ""
            },
            "colorscale": [
             [
              0,
              "#0d0887"
             ],
             [
              0.1111111111111111,
              "#46039f"
             ],
             [
              0.2222222222222222,
              "#7201a8"
             ],
             [
              0.3333333333333333,
              "#9c179e"
             ],
             [
              0.4444444444444444,
              "#bd3786"
             ],
             [
              0.5555555555555556,
              "#d8576b"
             ],
             [
              0.6666666666666666,
              "#ed7953"
             ],
             [
              0.7777777777777778,
              "#fb9f3a"
             ],
             [
              0.8888888888888888,
              "#fdca26"
             ],
             [
              1,
              "#f0f921"
             ]
            ],
            "type": "histogram2d"
           }
          ],
          "histogram2dcontour": [
           {
            "colorbar": {
             "outlinewidth": 0,
             "ticks": ""
            },
            "colorscale": [
             [
              0,
              "#0d0887"
             ],
             [
              0.1111111111111111,
              "#46039f"
             ],
             [
              0.2222222222222222,
              "#7201a8"
             ],
             [
              0.3333333333333333,
              "#9c179e"
             ],
             [
              0.4444444444444444,
              "#bd3786"
             ],
             [
              0.5555555555555556,
              "#d8576b"
             ],
             [
              0.6666666666666666,
              "#ed7953"
             ],
             [
              0.7777777777777778,
              "#fb9f3a"
             ],
             [
              0.8888888888888888,
              "#fdca26"
             ],
             [
              1,
              "#f0f921"
             ]
            ],
            "type": "histogram2dcontour"
           }
          ],
          "mesh3d": [
           {
            "colorbar": {
             "outlinewidth": 0,
             "ticks": ""
            },
            "type": "mesh3d"
           }
          ],
          "parcoords": [
           {
            "line": {
             "colorbar": {
              "outlinewidth": 0,
              "ticks": ""
             }
            },
            "type": "parcoords"
           }
          ],
          "pie": [
           {
            "automargin": true,
            "type": "pie"
           }
          ],
          "scatter": [
           {
            "fillpattern": {
             "fillmode": "overlay",
             "size": 10,
             "solidity": 0.2
            },
            "type": "scatter"
           }
          ],
          "scatter3d": [
           {
            "line": {
             "colorbar": {
              "outlinewidth": 0,
              "ticks": ""
             }
            },
            "marker": {
             "colorbar": {
              "outlinewidth": 0,
              "ticks": ""
             }
            },
            "type": "scatter3d"
           }
          ],
          "scattercarpet": [
           {
            "marker": {
             "colorbar": {
              "outlinewidth": 0,
              "ticks": ""
             }
            },
            "type": "scattercarpet"
           }
          ],
          "scattergeo": [
           {
            "marker": {
             "colorbar": {
              "outlinewidth": 0,
              "ticks": ""
             }
            },
            "type": "scattergeo"
           }
          ],
          "scattergl": [
           {
            "marker": {
             "colorbar": {
              "outlinewidth": 0,
              "ticks": ""
             }
            },
            "type": "scattergl"
           }
          ],
          "scattermapbox": [
           {
            "marker": {
             "colorbar": {
              "outlinewidth": 0,
              "ticks": ""
             }
            },
            "type": "scattermapbox"
           }
          ],
          "scatterpolar": [
           {
            "marker": {
             "colorbar": {
              "outlinewidth": 0,
              "ticks": ""
             }
            },
            "type": "scatterpolar"
           }
          ],
          "scatterpolargl": [
           {
            "marker": {
             "colorbar": {
              "outlinewidth": 0,
              "ticks": ""
             }
            },
            "type": "scatterpolargl"
           }
          ],
          "scatterternary": [
           {
            "marker": {
             "colorbar": {
              "outlinewidth": 0,
              "ticks": ""
             }
            },
            "type": "scatterternary"
           }
          ],
          "surface": [
           {
            "colorbar": {
             "outlinewidth": 0,
             "ticks": ""
            },
            "colorscale": [
             [
              0,
              "#0d0887"
             ],
             [
              0.1111111111111111,
              "#46039f"
             ],
             [
              0.2222222222222222,
              "#7201a8"
             ],
             [
              0.3333333333333333,
              "#9c179e"
             ],
             [
              0.4444444444444444,
              "#bd3786"
             ],
             [
              0.5555555555555556,
              "#d8576b"
             ],
             [
              0.6666666666666666,
              "#ed7953"
             ],
             [
              0.7777777777777778,
              "#fb9f3a"
             ],
             [
              0.8888888888888888,
              "#fdca26"
             ],
             [
              1,
              "#f0f921"
             ]
            ],
            "type": "surface"
           }
          ],
          "table": [
           {
            "cells": {
             "fill": {
              "color": "#EBF0F8"
             },
             "line": {
              "color": "white"
             }
            },
            "header": {
             "fill": {
              "color": "#C8D4E3"
             },
             "line": {
              "color": "white"
             }
            },
            "type": "table"
           }
          ]
         },
         "layout": {
          "annotationdefaults": {
           "arrowcolor": "#2a3f5f",
           "arrowhead": 0,
           "arrowwidth": 1
          },
          "autotypenumbers": "strict",
          "coloraxis": {
           "colorbar": {
            "outlinewidth": 0,
            "ticks": ""
           }
          },
          "colorscale": {
           "diverging": [
            [
             0,
             "#8e0152"
            ],
            [
             0.1,
             "#c51b7d"
            ],
            [
             0.2,
             "#de77ae"
            ],
            [
             0.3,
             "#f1b6da"
            ],
            [
             0.4,
             "#fde0ef"
            ],
            [
             0.5,
             "#f7f7f7"
            ],
            [
             0.6,
             "#e6f5d0"
            ],
            [
             0.7,
             "#b8e186"
            ],
            [
             0.8,
             "#7fbc41"
            ],
            [
             0.9,
             "#4d9221"
            ],
            [
             1,
             "#276419"
            ]
           ],
           "sequential": [
            [
             0,
             "#0d0887"
            ],
            [
             0.1111111111111111,
             "#46039f"
            ],
            [
             0.2222222222222222,
             "#7201a8"
            ],
            [
             0.3333333333333333,
             "#9c179e"
            ],
            [
             0.4444444444444444,
             "#bd3786"
            ],
            [
             0.5555555555555556,
             "#d8576b"
            ],
            [
             0.6666666666666666,
             "#ed7953"
            ],
            [
             0.7777777777777778,
             "#fb9f3a"
            ],
            [
             0.8888888888888888,
             "#fdca26"
            ],
            [
             1,
             "#f0f921"
            ]
           ],
           "sequentialminus": [
            [
             0,
             "#0d0887"
            ],
            [
             0.1111111111111111,
             "#46039f"
            ],
            [
             0.2222222222222222,
             "#7201a8"
            ],
            [
             0.3333333333333333,
             "#9c179e"
            ],
            [
             0.4444444444444444,
             "#bd3786"
            ],
            [
             0.5555555555555556,
             "#d8576b"
            ],
            [
             0.6666666666666666,
             "#ed7953"
            ],
            [
             0.7777777777777778,
             "#fb9f3a"
            ],
            [
             0.8888888888888888,
             "#fdca26"
            ],
            [
             1,
             "#f0f921"
            ]
           ]
          },
          "colorway": [
           "#636efa",
           "#EF553B",
           "#00cc96",
           "#ab63fa",
           "#FFA15A",
           "#19d3f3",
           "#FF6692",
           "#B6E880",
           "#FF97FF",
           "#FECB52"
          ],
          "font": {
           "color": "#2a3f5f"
          },
          "geo": {
           "bgcolor": "white",
           "lakecolor": "white",
           "landcolor": "#E5ECF6",
           "showlakes": true,
           "showland": true,
           "subunitcolor": "white"
          },
          "hoverlabel": {
           "align": "left"
          },
          "hovermode": "closest",
          "mapbox": {
           "style": "light"
          },
          "paper_bgcolor": "white",
          "plot_bgcolor": "#E5ECF6",
          "polar": {
           "angularaxis": {
            "gridcolor": "white",
            "linecolor": "white",
            "ticks": ""
           },
           "bgcolor": "#E5ECF6",
           "radialaxis": {
            "gridcolor": "white",
            "linecolor": "white",
            "ticks": ""
           }
          },
          "scene": {
           "xaxis": {
            "backgroundcolor": "#E5ECF6",
            "gridcolor": "white",
            "gridwidth": 2,
            "linecolor": "white",
            "showbackground": true,
            "ticks": "",
            "zerolinecolor": "white"
           },
           "yaxis": {
            "backgroundcolor": "#E5ECF6",
            "gridcolor": "white",
            "gridwidth": 2,
            "linecolor": "white",
            "showbackground": true,
            "ticks": "",
            "zerolinecolor": "white"
           },
           "zaxis": {
            "backgroundcolor": "#E5ECF6",
            "gridcolor": "white",
            "gridwidth": 2,
            "linecolor": "white",
            "showbackground": true,
            "ticks": "",
            "zerolinecolor": "white"
           }
          },
          "shapedefaults": {
           "line": {
            "color": "#2a3f5f"
           }
          },
          "ternary": {
           "aaxis": {
            "gridcolor": "white",
            "linecolor": "white",
            "ticks": ""
           },
           "baxis": {
            "gridcolor": "white",
            "linecolor": "white",
            "ticks": ""
           },
           "bgcolor": "#E5ECF6",
           "caxis": {
            "gridcolor": "white",
            "linecolor": "white",
            "ticks": ""
           }
          },
          "title": {
           "x": 0.05
          },
          "xaxis": {
           "automargin": true,
           "gridcolor": "white",
           "linecolor": "white",
           "ticks": "",
           "title": {
            "standoff": 15
           },
           "zerolinecolor": "white",
           "zerolinewidth": 2
          },
          "yaxis": {
           "automargin": true,
           "gridcolor": "white",
           "linecolor": "white",
           "ticks": "",
           "title": {
            "standoff": 15
           },
           "zerolinecolor": "white",
           "zerolinewidth": 2
          }
         }
        },
        "width": 600,
        "xaxis": {
         "color": "black",
         "linecolor": "black",
         "linewidth": 1.5,
         "mirror": "allticks",
         "showgrid": false,
         "showline": true,
         "ticklen": 10,
         "ticks": "inside",
         "tickwidth": 1.5,
         "title": {
          "text": "DFA rank"
         },
         "zeroline": false
        },
        "yaxis": {
         "color": "black",
         "linecolor": "black",
         "linewidth": 1.5,
         "mirror": false,
         "showgrid": false,
         "showline": true,
         "ticklen": 10,
         "ticks": "inside",
         "tickwidth": 1.5,
         "title": {
          "text": "percentage"
         },
         "zeroline": false
        },
        "yaxis2": {
         "anchor": "free",
         "linewidth": 3,
         "overlaying": "y",
         "position": 1,
         "range": [
          0,
          100
         ],
         "showgrid": true,
         "showline": true,
         "side": "right",
         "tickfont": {
          "color": "black"
         },
         "ticklen": 10,
         "ticks": "inside",
         "tickwidth": 3,
         "title": {
          "font": {
           "color": "black"
          },
          "text": "cumulative percentage"
         },
         "zeroline": true
        }
       }
      },
      "text/html": [
       "<div>                            <div id=\"ba6123c0-1227-4e78-99d3-527508377c3f\" class=\"plotly-graph-div\" style=\"height:500px; width:600px;\"></div>            <script type=\"text/javascript\">                require([\"plotly\"], function(Plotly) {                    window.PLOTLYENV=window.PLOTLYENV || {};                                    if (document.getElementById(\"ba6123c0-1227-4e78-99d3-527508377c3f\")) {                    Plotly.newPlot(                        \"ba6123c0-1227-4e78-99d3-527508377c3f\",                        [{\"marker\":{\"color\":\"rgba(0, 0, 0, 0.5)\"},\"name\":\"all\",\"showlegend\":false,\"x\":[0,1,2,3,4,5,6,7,8,9,10,11,12,13,14,15,16,17,18,19,20,21,22,23,24,25,26,27,28,29,30,31,32,33,34,35,36,37,38,39,40,41,42,43,44,45,46,47],\"y\":[17.763157894736842,11.842105263157896,10.526315789473685,13.157894736842104,9.868421052631579,3.289473684210526,7.2368421052631575,3.289473684210526,2.6315789473684212,5.2631578947368425,0.6578947368421053,2.6315789473684212,1.3157894736842106,1.3157894736842106,0.0,0.6578947368421053,2.6315789473684212,1.3157894736842106,1.3157894736842106,0.6578947368421053,0.6578947368421053,0.0,0.6578947368421053,0.0,0.0,1.3157894736842106,0.0,0.0,0.0,0.0,0.0,0.0,0.0,0.0,0.0,0.0,0.0,0.0,0.0,0.0,0.0,0.0,0.0,0.0,0.0,0.0,0.0,0.0],\"type\":\"bar\"},{\"line\":{\"color\":\"blue\",\"dash\":\"solid\",\"width\":2},\"mode\":\"lines\",\"showlegend\":false,\"x\":[0,0],\"y\":[0.0,17.763157894736842],\"yaxis\":\"y2\",\"type\":\"scatter\"},{\"line\":{\"color\":\"blue\",\"dash\":\"solid\",\"width\":2},\"mode\":\"lines\",\"showlegend\":false,\"x\":[0,1],\"y\":[17.763157894736842,17.763157894736842],\"yaxis\":\"y2\",\"type\":\"scatter\"},{\"line\":{\"color\":\"blue\",\"dash\":\"solid\",\"width\":2},\"mode\":\"lines\",\"showlegend\":false,\"x\":[1,1],\"y\":[17.763157894736842,29.605263157894743],\"yaxis\":\"y2\",\"type\":\"scatter\"},{\"line\":{\"color\":\"blue\",\"dash\":\"solid\",\"width\":2},\"mode\":\"lines\",\"showlegend\":false,\"x\":[1,2],\"y\":[29.605263157894743,29.605263157894743],\"yaxis\":\"y2\",\"type\":\"scatter\"},{\"line\":{\"color\":\"blue\",\"dash\":\"solid\",\"width\":2},\"mode\":\"lines\",\"showlegend\":false,\"x\":[2,2],\"y\":[29.605263157894743,40.131578947368425],\"yaxis\":\"y2\",\"type\":\"scatter\"},{\"line\":{\"color\":\"blue\",\"dash\":\"solid\",\"width\":2},\"mode\":\"lines\",\"showlegend\":false,\"x\":[2,3],\"y\":[40.131578947368425,40.131578947368425],\"yaxis\":\"y2\",\"type\":\"scatter\"},{\"line\":{\"color\":\"blue\",\"dash\":\"solid\",\"width\":2},\"mode\":\"lines\",\"showlegend\":false,\"x\":[3,3],\"y\":[40.131578947368425,53.28947368421053],\"yaxis\":\"y2\",\"type\":\"scatter\"},{\"line\":{\"color\":\"blue\",\"dash\":\"solid\",\"width\":2},\"mode\":\"lines\",\"showlegend\":false,\"x\":[3,4],\"y\":[53.28947368421053,53.28947368421053],\"yaxis\":\"y2\",\"type\":\"scatter\"},{\"line\":{\"color\":\"blue\",\"dash\":\"solid\",\"width\":2},\"mode\":\"lines\",\"showlegend\":false,\"x\":[4,4],\"y\":[53.28947368421053,63.15789473684211],\"yaxis\":\"y2\",\"type\":\"scatter\"},{\"line\":{\"color\":\"blue\",\"dash\":\"solid\",\"width\":2},\"mode\":\"lines\",\"showlegend\":false,\"x\":[4,5],\"y\":[63.15789473684211,63.15789473684211],\"yaxis\":\"y2\",\"type\":\"scatter\"},{\"line\":{\"color\":\"blue\",\"dash\":\"solid\",\"width\":2},\"mode\":\"lines\",\"showlegend\":false,\"x\":[5,5],\"y\":[63.15789473684211,66.44736842105263],\"yaxis\":\"y2\",\"type\":\"scatter\"},{\"line\":{\"color\":\"blue\",\"dash\":\"solid\",\"width\":2},\"mode\":\"lines\",\"showlegend\":false,\"x\":[5,6],\"y\":[66.44736842105263,66.44736842105263],\"yaxis\":\"y2\",\"type\":\"scatter\"},{\"line\":{\"color\":\"blue\",\"dash\":\"solid\",\"width\":2},\"mode\":\"lines\",\"showlegend\":false,\"x\":[6,6],\"y\":[66.44736842105263,73.68421052631578],\"yaxis\":\"y2\",\"type\":\"scatter\"},{\"line\":{\"color\":\"blue\",\"dash\":\"solid\",\"width\":2},\"mode\":\"lines\",\"showlegend\":false,\"x\":[6,7],\"y\":[73.68421052631578,73.68421052631578],\"yaxis\":\"y2\",\"type\":\"scatter\"},{\"line\":{\"color\":\"blue\",\"dash\":\"solid\",\"width\":2},\"mode\":\"lines\",\"showlegend\":false,\"x\":[7,7],\"y\":[73.68421052631578,76.97368421052632],\"yaxis\":\"y2\",\"type\":\"scatter\"},{\"line\":{\"color\":\"blue\",\"dash\":\"solid\",\"width\":2},\"mode\":\"lines\",\"showlegend\":false,\"x\":[7,8],\"y\":[76.97368421052632,76.97368421052632],\"yaxis\":\"y2\",\"type\":\"scatter\"},{\"line\":{\"color\":\"blue\",\"dash\":\"solid\",\"width\":2},\"mode\":\"lines\",\"showlegend\":false,\"x\":[8,8],\"y\":[76.97368421052632,79.60526315789474],\"yaxis\":\"y2\",\"type\":\"scatter\"},{\"line\":{\"color\":\"blue\",\"dash\":\"solid\",\"width\":2},\"mode\":\"lines\",\"showlegend\":false,\"x\":[8,9],\"y\":[79.60526315789474,79.60526315789474],\"yaxis\":\"y2\",\"type\":\"scatter\"},{\"line\":{\"color\":\"blue\",\"dash\":\"solid\",\"width\":2},\"mode\":\"lines\",\"showlegend\":false,\"x\":[9,9],\"y\":[79.60526315789474,84.86842105263159],\"yaxis\":\"y2\",\"type\":\"scatter\"},{\"line\":{\"color\":\"blue\",\"dash\":\"solid\",\"width\":2},\"mode\":\"lines\",\"showlegend\":false,\"x\":[9,10],\"y\":[84.86842105263159,84.86842105263159],\"yaxis\":\"y2\",\"type\":\"scatter\"},{\"line\":{\"color\":\"blue\",\"dash\":\"solid\",\"width\":2},\"mode\":\"lines\",\"showlegend\":false,\"x\":[10,10],\"y\":[84.86842105263159,85.5263157894737],\"yaxis\":\"y2\",\"type\":\"scatter\"},{\"line\":{\"color\":\"blue\",\"dash\":\"solid\",\"width\":2},\"mode\":\"lines\",\"showlegend\":false,\"x\":[10,11],\"y\":[85.5263157894737,85.5263157894737],\"yaxis\":\"y2\",\"type\":\"scatter\"},{\"line\":{\"color\":\"blue\",\"dash\":\"solid\",\"width\":2},\"mode\":\"lines\",\"showlegend\":false,\"x\":[11,11],\"y\":[85.5263157894737,88.15789473684212],\"yaxis\":\"y2\",\"type\":\"scatter\"},{\"line\":{\"color\":\"blue\",\"dash\":\"solid\",\"width\":2},\"mode\":\"lines\",\"showlegend\":false,\"x\":[11,12],\"y\":[88.15789473684212,88.15789473684212],\"yaxis\":\"y2\",\"type\":\"scatter\"},{\"line\":{\"color\":\"blue\",\"dash\":\"solid\",\"width\":2},\"mode\":\"lines\",\"showlegend\":false,\"x\":[12,12],\"y\":[88.15789473684212,89.47368421052633],\"yaxis\":\"y2\",\"type\":\"scatter\"},{\"line\":{\"color\":\"blue\",\"dash\":\"solid\",\"width\":2},\"mode\":\"lines\",\"showlegend\":false,\"x\":[12,13],\"y\":[89.47368421052633,89.47368421052633],\"yaxis\":\"y2\",\"type\":\"scatter\"},{\"line\":{\"color\":\"blue\",\"dash\":\"solid\",\"width\":2},\"mode\":\"lines\",\"showlegend\":false,\"x\":[13,13],\"y\":[89.47368421052633,90.78947368421053],\"yaxis\":\"y2\",\"type\":\"scatter\"},{\"line\":{\"color\":\"blue\",\"dash\":\"solid\",\"width\":2},\"mode\":\"lines\",\"showlegend\":false,\"x\":[13,14],\"y\":[90.78947368421053,90.78947368421053],\"yaxis\":\"y2\",\"type\":\"scatter\"},{\"line\":{\"color\":\"blue\",\"dash\":\"solid\",\"width\":2},\"mode\":\"lines\",\"showlegend\":false,\"x\":[14,14],\"y\":[90.78947368421053,90.78947368421053],\"yaxis\":\"y2\",\"type\":\"scatter\"},{\"line\":{\"color\":\"blue\",\"dash\":\"solid\",\"width\":2},\"mode\":\"lines\",\"showlegend\":false,\"x\":[14,15],\"y\":[90.78947368421053,90.78947368421053],\"yaxis\":\"y2\",\"type\":\"scatter\"},{\"line\":{\"color\":\"blue\",\"dash\":\"solid\",\"width\":2},\"mode\":\"lines\",\"showlegend\":false,\"x\":[15,15],\"y\":[90.78947368421053,91.44736842105263],\"yaxis\":\"y2\",\"type\":\"scatter\"},{\"line\":{\"color\":\"blue\",\"dash\":\"solid\",\"width\":2},\"mode\":\"lines\",\"showlegend\":false,\"x\":[15,16],\"y\":[91.44736842105263,91.44736842105263],\"yaxis\":\"y2\",\"type\":\"scatter\"},{\"line\":{\"color\":\"blue\",\"dash\":\"solid\",\"width\":2},\"mode\":\"lines\",\"showlegend\":false,\"x\":[16,16],\"y\":[91.44736842105263,94.07894736842105],\"yaxis\":\"y2\",\"type\":\"scatter\"},{\"line\":{\"color\":\"blue\",\"dash\":\"solid\",\"width\":2},\"mode\":\"lines\",\"showlegend\":false,\"x\":[16,17],\"y\":[94.07894736842105,94.07894736842105],\"yaxis\":\"y2\",\"type\":\"scatter\"},{\"line\":{\"color\":\"blue\",\"dash\":\"solid\",\"width\":2},\"mode\":\"lines\",\"showlegend\":false,\"x\":[17,17],\"y\":[94.07894736842105,95.39473684210526],\"yaxis\":\"y2\",\"type\":\"scatter\"},{\"line\":{\"color\":\"blue\",\"dash\":\"solid\",\"width\":2},\"mode\":\"lines\",\"showlegend\":false,\"x\":[17,18],\"y\":[95.39473684210526,95.39473684210526],\"yaxis\":\"y2\",\"type\":\"scatter\"},{\"line\":{\"color\":\"blue\",\"dash\":\"solid\",\"width\":2},\"mode\":\"lines\",\"showlegend\":false,\"x\":[18,18],\"y\":[95.39473684210526,96.71052631578947],\"yaxis\":\"y2\",\"type\":\"scatter\"},{\"line\":{\"color\":\"blue\",\"dash\":\"solid\",\"width\":2},\"mode\":\"lines\",\"showlegend\":false,\"x\":[18,19],\"y\":[96.71052631578947,96.71052631578947],\"yaxis\":\"y2\",\"type\":\"scatter\"},{\"line\":{\"color\":\"blue\",\"dash\":\"solid\",\"width\":2},\"mode\":\"lines\",\"showlegend\":false,\"x\":[19,19],\"y\":[96.71052631578947,97.36842105263159],\"yaxis\":\"y2\",\"type\":\"scatter\"},{\"line\":{\"color\":\"blue\",\"dash\":\"solid\",\"width\":2},\"mode\":\"lines\",\"showlegend\":false,\"x\":[19,20],\"y\":[97.36842105263159,97.36842105263159],\"yaxis\":\"y2\",\"type\":\"scatter\"},{\"line\":{\"color\":\"blue\",\"dash\":\"solid\",\"width\":2},\"mode\":\"lines\",\"showlegend\":false,\"x\":[20,20],\"y\":[97.36842105263159,98.02631578947368],\"yaxis\":\"y2\",\"type\":\"scatter\"},{\"line\":{\"color\":\"blue\",\"dash\":\"solid\",\"width\":2},\"mode\":\"lines\",\"showlegend\":false,\"x\":[20,21],\"y\":[98.02631578947368,98.02631578947368],\"yaxis\":\"y2\",\"type\":\"scatter\"},{\"line\":{\"color\":\"blue\",\"dash\":\"solid\",\"width\":2},\"mode\":\"lines\",\"showlegend\":false,\"x\":[21,21],\"y\":[98.02631578947368,98.02631578947368],\"yaxis\":\"y2\",\"type\":\"scatter\"},{\"line\":{\"color\":\"blue\",\"dash\":\"solid\",\"width\":2},\"mode\":\"lines\",\"showlegend\":false,\"x\":[21,22],\"y\":[98.02631578947368,98.02631578947368],\"yaxis\":\"y2\",\"type\":\"scatter\"},{\"line\":{\"color\":\"blue\",\"dash\":\"solid\",\"width\":2},\"mode\":\"lines\",\"showlegend\":false,\"x\":[22,22],\"y\":[98.02631578947368,98.6842105263158],\"yaxis\":\"y2\",\"type\":\"scatter\"},{\"line\":{\"color\":\"blue\",\"dash\":\"solid\",\"width\":2},\"mode\":\"lines\",\"showlegend\":false,\"x\":[22,23],\"y\":[98.6842105263158,98.6842105263158],\"yaxis\":\"y2\",\"type\":\"scatter\"},{\"line\":{\"color\":\"blue\",\"dash\":\"solid\",\"width\":2},\"mode\":\"lines\",\"showlegend\":false,\"x\":[23,23],\"y\":[98.6842105263158,98.68421052631578],\"yaxis\":\"y2\",\"type\":\"scatter\"},{\"line\":{\"color\":\"blue\",\"dash\":\"solid\",\"width\":2},\"mode\":\"lines\",\"showlegend\":false,\"x\":[23,24],\"y\":[98.68421052631578,98.68421052631578],\"yaxis\":\"y2\",\"type\":\"scatter\"},{\"line\":{\"color\":\"blue\",\"dash\":\"solid\",\"width\":2},\"mode\":\"lines\",\"showlegend\":false,\"x\":[24,24],\"y\":[98.68421052631578,98.68421052631578],\"yaxis\":\"y2\",\"type\":\"scatter\"},{\"line\":{\"color\":\"blue\",\"dash\":\"solid\",\"width\":2},\"mode\":\"lines\",\"showlegend\":false,\"x\":[24,25],\"y\":[98.68421052631578,98.68421052631578],\"yaxis\":\"y2\",\"type\":\"scatter\"},{\"line\":{\"color\":\"blue\",\"dash\":\"solid\",\"width\":2},\"mode\":\"lines\",\"showlegend\":false,\"x\":[25,25],\"y\":[98.68421052631578,99.99999999999999],\"yaxis\":\"y2\",\"type\":\"scatter\"},{\"line\":{\"color\":\"blue\",\"dash\":\"solid\",\"width\":2},\"mode\":\"lines\",\"showlegend\":false,\"x\":[25,26],\"y\":[99.99999999999999,99.99999999999999],\"yaxis\":\"y2\",\"type\":\"scatter\"},{\"line\":{\"color\":\"blue\",\"dash\":\"solid\",\"width\":2},\"mode\":\"lines\",\"showlegend\":false,\"x\":[26,26],\"y\":[99.99999999999999,99.99999999999999],\"yaxis\":\"y2\",\"type\":\"scatter\"},{\"line\":{\"color\":\"blue\",\"dash\":\"solid\",\"width\":2},\"mode\":\"lines\",\"showlegend\":false,\"x\":[26,27],\"y\":[99.99999999999999,99.99999999999999],\"yaxis\":\"y2\",\"type\":\"scatter\"},{\"line\":{\"color\":\"blue\",\"dash\":\"solid\",\"width\":2},\"mode\":\"lines\",\"showlegend\":false,\"x\":[27,27],\"y\":[99.99999999999999,99.99999999999999],\"yaxis\":\"y2\",\"type\":\"scatter\"},{\"line\":{\"color\":\"blue\",\"dash\":\"solid\",\"width\":2},\"mode\":\"lines\",\"showlegend\":false,\"x\":[27,28],\"y\":[99.99999999999999,99.99999999999999],\"yaxis\":\"y2\",\"type\":\"scatter\"},{\"line\":{\"color\":\"blue\",\"dash\":\"solid\",\"width\":2},\"mode\":\"lines\",\"showlegend\":false,\"x\":[28,28],\"y\":[99.99999999999999,99.99999999999999],\"yaxis\":\"y2\",\"type\":\"scatter\"},{\"line\":{\"color\":\"blue\",\"dash\":\"solid\",\"width\":2},\"mode\":\"lines\",\"showlegend\":false,\"x\":[28,29],\"y\":[99.99999999999999,99.99999999999999],\"yaxis\":\"y2\",\"type\":\"scatter\"},{\"line\":{\"color\":\"blue\",\"dash\":\"solid\",\"width\":2},\"mode\":\"lines\",\"showlegend\":false,\"x\":[29,29],\"y\":[99.99999999999999,99.99999999999999],\"yaxis\":\"y2\",\"type\":\"scatter\"},{\"line\":{\"color\":\"blue\",\"dash\":\"solid\",\"width\":2},\"mode\":\"lines\",\"showlegend\":false,\"x\":[29,30],\"y\":[99.99999999999999,99.99999999999999],\"yaxis\":\"y2\",\"type\":\"scatter\"},{\"line\":{\"color\":\"blue\",\"dash\":\"solid\",\"width\":2},\"mode\":\"lines\",\"showlegend\":false,\"x\":[30,30],\"y\":[99.99999999999999,99.99999999999999],\"yaxis\":\"y2\",\"type\":\"scatter\"},{\"line\":{\"color\":\"blue\",\"dash\":\"solid\",\"width\":2},\"mode\":\"lines\",\"showlegend\":false,\"x\":[30,31],\"y\":[99.99999999999999,99.99999999999999],\"yaxis\":\"y2\",\"type\":\"scatter\"},{\"line\":{\"color\":\"blue\",\"dash\":\"solid\",\"width\":2},\"mode\":\"lines\",\"showlegend\":false,\"x\":[31,31],\"y\":[99.99999999999999,100.0],\"yaxis\":\"y2\",\"type\":\"scatter\"},{\"line\":{\"color\":\"blue\",\"dash\":\"solid\",\"width\":2},\"mode\":\"lines\",\"showlegend\":false,\"x\":[31,32],\"y\":[100.0,100.0],\"yaxis\":\"y2\",\"type\":\"scatter\"},{\"line\":{\"color\":\"blue\",\"dash\":\"solid\",\"width\":2},\"mode\":\"lines\",\"showlegend\":false,\"x\":[32,32],\"y\":[100.0,100.0],\"yaxis\":\"y2\",\"type\":\"scatter\"},{\"line\":{\"color\":\"blue\",\"dash\":\"solid\",\"width\":2},\"mode\":\"lines\",\"showlegend\":false,\"x\":[32,33],\"y\":[100.0,100.0],\"yaxis\":\"y2\",\"type\":\"scatter\"},{\"line\":{\"color\":\"blue\",\"dash\":\"solid\",\"width\":2},\"mode\":\"lines\",\"showlegend\":false,\"x\":[33,33],\"y\":[100.0,100.0],\"yaxis\":\"y2\",\"type\":\"scatter\"},{\"line\":{\"color\":\"blue\",\"dash\":\"solid\",\"width\":2},\"mode\":\"lines\",\"showlegend\":false,\"x\":[33,34],\"y\":[100.0,100.0],\"yaxis\":\"y2\",\"type\":\"scatter\"},{\"line\":{\"color\":\"blue\",\"dash\":\"solid\",\"width\":2},\"mode\":\"lines\",\"showlegend\":false,\"x\":[34,34],\"y\":[100.0,100.0],\"yaxis\":\"y2\",\"type\":\"scatter\"},{\"line\":{\"color\":\"blue\",\"dash\":\"solid\",\"width\":2},\"mode\":\"lines\",\"showlegend\":false,\"x\":[34,35],\"y\":[100.0,100.0],\"yaxis\":\"y2\",\"type\":\"scatter\"},{\"line\":{\"color\":\"blue\",\"dash\":\"solid\",\"width\":2},\"mode\":\"lines\",\"showlegend\":false,\"x\":[35,35],\"y\":[100.0,100.0],\"yaxis\":\"y2\",\"type\":\"scatter\"},{\"line\":{\"color\":\"blue\",\"dash\":\"solid\",\"width\":2},\"mode\":\"lines\",\"showlegend\":false,\"x\":[35,36],\"y\":[100.0,100.0],\"yaxis\":\"y2\",\"type\":\"scatter\"},{\"line\":{\"color\":\"blue\",\"dash\":\"solid\",\"width\":2},\"mode\":\"lines\",\"showlegend\":false,\"x\":[36,36],\"y\":[100.0,100.0],\"yaxis\":\"y2\",\"type\":\"scatter\"},{\"line\":{\"color\":\"blue\",\"dash\":\"solid\",\"width\":2},\"mode\":\"lines\",\"showlegend\":false,\"x\":[36,37],\"y\":[100.0,100.0],\"yaxis\":\"y2\",\"type\":\"scatter\"},{\"line\":{\"color\":\"blue\",\"dash\":\"solid\",\"width\":2},\"mode\":\"lines\",\"showlegend\":false,\"x\":[37,37],\"y\":[100.0,100.0],\"yaxis\":\"y2\",\"type\":\"scatter\"},{\"line\":{\"color\":\"blue\",\"dash\":\"solid\",\"width\":2},\"mode\":\"lines\",\"showlegend\":false,\"x\":[37,38],\"y\":[100.0,100.0],\"yaxis\":\"y2\",\"type\":\"scatter\"},{\"line\":{\"color\":\"blue\",\"dash\":\"solid\",\"width\":2},\"mode\":\"lines\",\"showlegend\":false,\"x\":[38,38],\"y\":[100.0,100.0],\"yaxis\":\"y2\",\"type\":\"scatter\"},{\"line\":{\"color\":\"blue\",\"dash\":\"solid\",\"width\":2},\"mode\":\"lines\",\"showlegend\":false,\"x\":[38,39],\"y\":[100.0,100.0],\"yaxis\":\"y2\",\"type\":\"scatter\"},{\"line\":{\"color\":\"blue\",\"dash\":\"solid\",\"width\":2},\"mode\":\"lines\",\"showlegend\":false,\"x\":[39,39],\"y\":[100.0,100.0],\"yaxis\":\"y2\",\"type\":\"scatter\"},{\"line\":{\"color\":\"blue\",\"dash\":\"solid\",\"width\":2},\"mode\":\"lines\",\"showlegend\":false,\"x\":[39,40],\"y\":[100.0,100.0],\"yaxis\":\"y2\",\"type\":\"scatter\"},{\"line\":{\"color\":\"blue\",\"dash\":\"solid\",\"width\":2},\"mode\":\"lines\",\"showlegend\":false,\"x\":[40,40],\"y\":[100.0,100.0],\"yaxis\":\"y2\",\"type\":\"scatter\"},{\"line\":{\"color\":\"blue\",\"dash\":\"solid\",\"width\":2},\"mode\":\"lines\",\"showlegend\":false,\"x\":[40,41],\"y\":[100.0,100.0],\"yaxis\":\"y2\",\"type\":\"scatter\"},{\"line\":{\"color\":\"blue\",\"dash\":\"solid\",\"width\":2},\"mode\":\"lines\",\"showlegend\":false,\"x\":[41,41],\"y\":[100.0,100.0],\"yaxis\":\"y2\",\"type\":\"scatter\"},{\"line\":{\"color\":\"blue\",\"dash\":\"solid\",\"width\":2},\"mode\":\"lines\",\"showlegend\":false,\"x\":[41,42],\"y\":[100.0,100.0],\"yaxis\":\"y2\",\"type\":\"scatter\"},{\"line\":{\"color\":\"blue\",\"dash\":\"solid\",\"width\":2},\"mode\":\"lines\",\"showlegend\":false,\"x\":[42,42],\"y\":[100.0,100.0],\"yaxis\":\"y2\",\"type\":\"scatter\"},{\"line\":{\"color\":\"blue\",\"dash\":\"solid\",\"width\":2},\"mode\":\"lines\",\"showlegend\":false,\"x\":[42,43],\"y\":[100.0,100.0],\"yaxis\":\"y2\",\"type\":\"scatter\"},{\"line\":{\"color\":\"blue\",\"dash\":\"solid\",\"width\":2},\"mode\":\"lines\",\"showlegend\":false,\"x\":[43,43],\"y\":[100.0,100.0],\"yaxis\":\"y2\",\"type\":\"scatter\"},{\"line\":{\"color\":\"blue\",\"dash\":\"solid\",\"width\":2},\"mode\":\"lines\",\"showlegend\":false,\"x\":[43,44],\"y\":[100.0,100.0],\"yaxis\":\"y2\",\"type\":\"scatter\"},{\"line\":{\"color\":\"blue\",\"dash\":\"solid\",\"width\":2},\"mode\":\"lines\",\"showlegend\":false,\"x\":[44,44],\"y\":[100.0,100.0],\"yaxis\":\"y2\",\"type\":\"scatter\"},{\"line\":{\"color\":\"blue\",\"dash\":\"solid\",\"width\":2},\"mode\":\"lines\",\"showlegend\":false,\"x\":[44,45],\"y\":[100.0,100.0],\"yaxis\":\"y2\",\"type\":\"scatter\"},{\"line\":{\"color\":\"blue\",\"dash\":\"solid\",\"width\":2},\"mode\":\"lines\",\"showlegend\":false,\"x\":[45,45],\"y\":[100.0,100.0],\"yaxis\":\"y2\",\"type\":\"scatter\"},{\"line\":{\"color\":\"blue\",\"dash\":\"solid\",\"width\":2},\"mode\":\"lines\",\"showlegend\":false,\"x\":[45,46],\"y\":[100.0,100.0],\"yaxis\":\"y2\",\"type\":\"scatter\"},{\"line\":{\"color\":\"blue\",\"dash\":\"solid\",\"width\":2},\"mode\":\"lines\",\"showlegend\":false,\"x\":[46,46],\"y\":[100.0,100.0],\"yaxis\":\"y2\",\"type\":\"scatter\"},{\"line\":{\"color\":\"blue\",\"dash\":\"solid\",\"width\":2},\"mode\":\"lines\",\"showlegend\":false,\"x\":[46,47],\"y\":[100.0,100.0],\"yaxis\":\"y2\",\"type\":\"scatter\"}],                        {\"boxmode\":\"group\",\"font\":{\"color\":\"black\",\"family\":\"Helvetica\",\"size\":24},\"height\":500,\"legend\":{\"bgcolor\":\"rgba(0,0,0,0)\",\"orientation\":\"v\",\"x\":1,\"y\":1},\"margin\":{\"b\":100,\"l\":100,\"r\":10,\"t\":10},\"paper_bgcolor\":\"rgba(255,255,255,100)\",\"plot_bgcolor\":\"white\",\"template\":{\"data\":{\"barpolar\":[{\"marker\":{\"line\":{\"color\":\"#E5ECF6\",\"width\":0.5},\"pattern\":{\"fillmode\":\"overlay\",\"size\":10,\"solidity\":0.2}},\"type\":\"barpolar\"}],\"bar\":[{\"error_x\":{\"color\":\"#2a3f5f\"},\"error_y\":{\"color\":\"#2a3f5f\"},\"marker\":{\"line\":{\"color\":\"#E5ECF6\",\"width\":0.5},\"pattern\":{\"fillmode\":\"overlay\",\"size\":10,\"solidity\":0.2}},\"type\":\"bar\"}],\"carpet\":[{\"aaxis\":{\"endlinecolor\":\"#2a3f5f\",\"gridcolor\":\"white\",\"linecolor\":\"white\",\"minorgridcolor\":\"white\",\"startlinecolor\":\"#2a3f5f\"},\"baxis\":{\"endlinecolor\":\"#2a3f5f\",\"gridcolor\":\"white\",\"linecolor\":\"white\",\"minorgridcolor\":\"white\",\"startlinecolor\":\"#2a3f5f\"},\"type\":\"carpet\"}],\"choropleth\":[{\"colorbar\":{\"outlinewidth\":0,\"ticks\":\"\"},\"type\":\"choropleth\"}],\"contourcarpet\":[{\"colorbar\":{\"outlinewidth\":0,\"ticks\":\"\"},\"type\":\"contourcarpet\"}],\"contour\":[{\"colorbar\":{\"outlinewidth\":0,\"ticks\":\"\"},\"colorscale\":[[0.0,\"#0d0887\"],[0.1111111111111111,\"#46039f\"],[0.2222222222222222,\"#7201a8\"],[0.3333333333333333,\"#9c179e\"],[0.4444444444444444,\"#bd3786\"],[0.5555555555555556,\"#d8576b\"],[0.6666666666666666,\"#ed7953\"],[0.7777777777777778,\"#fb9f3a\"],[0.8888888888888888,\"#fdca26\"],[1.0,\"#f0f921\"]],\"type\":\"contour\"}],\"heatmapgl\":[{\"colorbar\":{\"outlinewidth\":0,\"ticks\":\"\"},\"colorscale\":[[0.0,\"#0d0887\"],[0.1111111111111111,\"#46039f\"],[0.2222222222222222,\"#7201a8\"],[0.3333333333333333,\"#9c179e\"],[0.4444444444444444,\"#bd3786\"],[0.5555555555555556,\"#d8576b\"],[0.6666666666666666,\"#ed7953\"],[0.7777777777777778,\"#fb9f3a\"],[0.8888888888888888,\"#fdca26\"],[1.0,\"#f0f921\"]],\"type\":\"heatmapgl\"}],\"heatmap\":[{\"colorbar\":{\"outlinewidth\":0,\"ticks\":\"\"},\"colorscale\":[[0.0,\"#0d0887\"],[0.1111111111111111,\"#46039f\"],[0.2222222222222222,\"#7201a8\"],[0.3333333333333333,\"#9c179e\"],[0.4444444444444444,\"#bd3786\"],[0.5555555555555556,\"#d8576b\"],[0.6666666666666666,\"#ed7953\"],[0.7777777777777778,\"#fb9f3a\"],[0.8888888888888888,\"#fdca26\"],[1.0,\"#f0f921\"]],\"type\":\"heatmap\"}],\"histogram2dcontour\":[{\"colorbar\":{\"outlinewidth\":0,\"ticks\":\"\"},\"colorscale\":[[0.0,\"#0d0887\"],[0.1111111111111111,\"#46039f\"],[0.2222222222222222,\"#7201a8\"],[0.3333333333333333,\"#9c179e\"],[0.4444444444444444,\"#bd3786\"],[0.5555555555555556,\"#d8576b\"],[0.6666666666666666,\"#ed7953\"],[0.7777777777777778,\"#fb9f3a\"],[0.8888888888888888,\"#fdca26\"],[1.0,\"#f0f921\"]],\"type\":\"histogram2dcontour\"}],\"histogram2d\":[{\"colorbar\":{\"outlinewidth\":0,\"ticks\":\"\"},\"colorscale\":[[0.0,\"#0d0887\"],[0.1111111111111111,\"#46039f\"],[0.2222222222222222,\"#7201a8\"],[0.3333333333333333,\"#9c179e\"],[0.4444444444444444,\"#bd3786\"],[0.5555555555555556,\"#d8576b\"],[0.6666666666666666,\"#ed7953\"],[0.7777777777777778,\"#fb9f3a\"],[0.8888888888888888,\"#fdca26\"],[1.0,\"#f0f921\"]],\"type\":\"histogram2d\"}],\"histogram\":[{\"marker\":{\"pattern\":{\"fillmode\":\"overlay\",\"size\":10,\"solidity\":0.2}},\"type\":\"histogram\"}],\"mesh3d\":[{\"colorbar\":{\"outlinewidth\":0,\"ticks\":\"\"},\"type\":\"mesh3d\"}],\"parcoords\":[{\"line\":{\"colorbar\":{\"outlinewidth\":0,\"ticks\":\"\"}},\"type\":\"parcoords\"}],\"pie\":[{\"automargin\":true,\"type\":\"pie\"}],\"scatter3d\":[{\"line\":{\"colorbar\":{\"outlinewidth\":0,\"ticks\":\"\"}},\"marker\":{\"colorbar\":{\"outlinewidth\":0,\"ticks\":\"\"}},\"type\":\"scatter3d\"}],\"scattercarpet\":[{\"marker\":{\"colorbar\":{\"outlinewidth\":0,\"ticks\":\"\"}},\"type\":\"scattercarpet\"}],\"scattergeo\":[{\"marker\":{\"colorbar\":{\"outlinewidth\":0,\"ticks\":\"\"}},\"type\":\"scattergeo\"}],\"scattergl\":[{\"marker\":{\"colorbar\":{\"outlinewidth\":0,\"ticks\":\"\"}},\"type\":\"scattergl\"}],\"scattermapbox\":[{\"marker\":{\"colorbar\":{\"outlinewidth\":0,\"ticks\":\"\"}},\"type\":\"scattermapbox\"}],\"scatterpolargl\":[{\"marker\":{\"colorbar\":{\"outlinewidth\":0,\"ticks\":\"\"}},\"type\":\"scatterpolargl\"}],\"scatterpolar\":[{\"marker\":{\"colorbar\":{\"outlinewidth\":0,\"ticks\":\"\"}},\"type\":\"scatterpolar\"}],\"scatter\":[{\"fillpattern\":{\"fillmode\":\"overlay\",\"size\":10,\"solidity\":0.2},\"type\":\"scatter\"}],\"scatterternary\":[{\"marker\":{\"colorbar\":{\"outlinewidth\":0,\"ticks\":\"\"}},\"type\":\"scatterternary\"}],\"surface\":[{\"colorbar\":{\"outlinewidth\":0,\"ticks\":\"\"},\"colorscale\":[[0.0,\"#0d0887\"],[0.1111111111111111,\"#46039f\"],[0.2222222222222222,\"#7201a8\"],[0.3333333333333333,\"#9c179e\"],[0.4444444444444444,\"#bd3786\"],[0.5555555555555556,\"#d8576b\"],[0.6666666666666666,\"#ed7953\"],[0.7777777777777778,\"#fb9f3a\"],[0.8888888888888888,\"#fdca26\"],[1.0,\"#f0f921\"]],\"type\":\"surface\"}],\"table\":[{\"cells\":{\"fill\":{\"color\":\"#EBF0F8\"},\"line\":{\"color\":\"white\"}},\"header\":{\"fill\":{\"color\":\"#C8D4E3\"},\"line\":{\"color\":\"white\"}},\"type\":\"table\"}]},\"layout\":{\"annotationdefaults\":{\"arrowcolor\":\"#2a3f5f\",\"arrowhead\":0,\"arrowwidth\":1},\"autotypenumbers\":\"strict\",\"coloraxis\":{\"colorbar\":{\"outlinewidth\":0,\"ticks\":\"\"}},\"colorscale\":{\"diverging\":[[0,\"#8e0152\"],[0.1,\"#c51b7d\"],[0.2,\"#de77ae\"],[0.3,\"#f1b6da\"],[0.4,\"#fde0ef\"],[0.5,\"#f7f7f7\"],[0.6,\"#e6f5d0\"],[0.7,\"#b8e186\"],[0.8,\"#7fbc41\"],[0.9,\"#4d9221\"],[1,\"#276419\"]],\"sequential\":[[0.0,\"#0d0887\"],[0.1111111111111111,\"#46039f\"],[0.2222222222222222,\"#7201a8\"],[0.3333333333333333,\"#9c179e\"],[0.4444444444444444,\"#bd3786\"],[0.5555555555555556,\"#d8576b\"],[0.6666666666666666,\"#ed7953\"],[0.7777777777777778,\"#fb9f3a\"],[0.8888888888888888,\"#fdca26\"],[1.0,\"#f0f921\"]],\"sequentialminus\":[[0.0,\"#0d0887\"],[0.1111111111111111,\"#46039f\"],[0.2222222222222222,\"#7201a8\"],[0.3333333333333333,\"#9c179e\"],[0.4444444444444444,\"#bd3786\"],[0.5555555555555556,\"#d8576b\"],[0.6666666666666666,\"#ed7953\"],[0.7777777777777778,\"#fb9f3a\"],[0.8888888888888888,\"#fdca26\"],[1.0,\"#f0f921\"]]},\"colorway\":[\"#636efa\",\"#EF553B\",\"#00cc96\",\"#ab63fa\",\"#FFA15A\",\"#19d3f3\",\"#FF6692\",\"#B6E880\",\"#FF97FF\",\"#FECB52\"],\"font\":{\"color\":\"#2a3f5f\"},\"geo\":{\"bgcolor\":\"white\",\"lakecolor\":\"white\",\"landcolor\":\"#E5ECF6\",\"showlakes\":true,\"showland\":true,\"subunitcolor\":\"white\"},\"hoverlabel\":{\"align\":\"left\"},\"hovermode\":\"closest\",\"mapbox\":{\"style\":\"light\"},\"paper_bgcolor\":\"white\",\"plot_bgcolor\":\"#E5ECF6\",\"polar\":{\"angularaxis\":{\"gridcolor\":\"white\",\"linecolor\":\"white\",\"ticks\":\"\"},\"bgcolor\":\"#E5ECF6\",\"radialaxis\":{\"gridcolor\":\"white\",\"linecolor\":\"white\",\"ticks\":\"\"}},\"scene\":{\"xaxis\":{\"backgroundcolor\":\"#E5ECF6\",\"gridcolor\":\"white\",\"gridwidth\":2,\"linecolor\":\"white\",\"showbackground\":true,\"ticks\":\"\",\"zerolinecolor\":\"white\"},\"yaxis\":{\"backgroundcolor\":\"#E5ECF6\",\"gridcolor\":\"white\",\"gridwidth\":2,\"linecolor\":\"white\",\"showbackground\":true,\"ticks\":\"\",\"zerolinecolor\":\"white\"},\"zaxis\":{\"backgroundcolor\":\"#E5ECF6\",\"gridcolor\":\"white\",\"gridwidth\":2,\"linecolor\":\"white\",\"showbackground\":true,\"ticks\":\"\",\"zerolinecolor\":\"white\"}},\"shapedefaults\":{\"line\":{\"color\":\"#2a3f5f\"}},\"ternary\":{\"aaxis\":{\"gridcolor\":\"white\",\"linecolor\":\"white\",\"ticks\":\"\"},\"baxis\":{\"gridcolor\":\"white\",\"linecolor\":\"white\",\"ticks\":\"\"},\"bgcolor\":\"#E5ECF6\",\"caxis\":{\"gridcolor\":\"white\",\"linecolor\":\"white\",\"ticks\":\"\"}},\"title\":{\"x\":0.05},\"xaxis\":{\"automargin\":true,\"gridcolor\":\"white\",\"linecolor\":\"white\",\"ticks\":\"\",\"title\":{\"standoff\":15},\"zerolinecolor\":\"white\",\"zerolinewidth\":2},\"yaxis\":{\"automargin\":true,\"gridcolor\":\"white\",\"linecolor\":\"white\",\"ticks\":\"\",\"title\":{\"standoff\":15},\"zerolinecolor\":\"white\",\"zerolinewidth\":2}}},\"width\":600,\"xaxis\":{\"color\":\"black\",\"linecolor\":\"black\",\"linewidth\":1.5,\"mirror\":\"allticks\",\"showgrid\":false,\"showline\":true,\"ticklen\":10,\"ticks\":\"inside\",\"tickwidth\":1.5,\"title\":{\"text\":\"DFA rank\"},\"zeroline\":false},\"yaxis\":{\"color\":\"black\",\"linecolor\":\"black\",\"linewidth\":1.5,\"mirror\":false,\"showgrid\":false,\"showline\":true,\"ticklen\":10,\"ticks\":\"inside\",\"tickwidth\":1.5,\"title\":{\"text\":\"percentage\"},\"zeroline\":false},\"yaxis2\":{\"anchor\":\"free\",\"linewidth\":3,\"overlaying\":\"y\",\"position\":1,\"range\":[0,100],\"showgrid\":true,\"showline\":true,\"side\":\"right\",\"tickfont\":{\"color\":\"black\"},\"ticklen\":10,\"ticks\":\"inside\",\"tickwidth\":3,\"title\":{\"font\":{\"color\":\"black\"},\"text\":\"cumulative percentage\"},\"zeroline\":true}},                        {\"responsive\": true}                    ).then(function(){\n",
       "                            \n",
       "var gd = document.getElementById('ba6123c0-1227-4e78-99d3-527508377c3f');\n",
       "var x = new MutationObserver(function (mutations, observer) {{\n",
       "        var display = window.getComputedStyle(gd).display;\n",
       "        if (!display || display === 'none') {{\n",
       "            console.log([gd, 'removed!']);\n",
       "            Plotly.purge(gd);\n",
       "            observer.disconnect();\n",
       "        }}\n",
       "}});\n",
       "\n",
       "// Listen for the removal of the full notebook cells\n",
       "var notebookContainer = gd.closest('#notebook-container');\n",
       "if (notebookContainer) {{\n",
       "    x.observe(notebookContainer, {childList: true});\n",
       "}}\n",
       "\n",
       "// Listen for the clearing of the current output cell\n",
       "var outputEl = gd.closest('.output');\n",
       "if (outputEl) {{\n",
       "    x.observe(outputEl, {childList: true});\n",
       "}}\n",
       "\n",
       "                        })                };                });            </script>        </div>"
      ]
     },
     "metadata": {},
     "output_type": "display_data"
    }
   ],
   "source": [
    "y = []\n",
    "for ii in range(48):\n",
    "    y += [len(df_sel[df_sel[\"ranks\"] == ii])*100./len(df_sel)]\n",
    "data = [go.Bar(x=list(range(48)),\n",
    "               y=y, name='all', marker_color='rgba(0, 0, 0, 0.5)', showlegend=False),]\n",
    "xs=list(range(48))\n",
    "ys=[np.sum(y[:ii])*100./np.sum(y) for ii in xs]\n",
    "for ii in range(47):\n",
    "    data += [go.Scatter(x=[xs[ii], xs[ii]], y=[ys[ii], ys[ii+1]], mode='lines', yaxis=\"y2\", line=dict(color='blue', width=2, dash='solid'), showlegend=False)]\n",
    "    data += [go.Scatter(x=[xs[ii], xs[ii+1]], y=[ys[ii+1], ys[ii+1]], mode='lines', yaxis=\"y2\", line=dict(color='blue', width=2, dash='solid'), showlegend=False)]\n",
    "layout = go.Layout()\n",
    "layout.update(glob_layout)\n",
    "layout.legend.update(x=1, y=1, bgcolor=\"rgba(0,0,0,0)\")\n",
    "layout[\"xaxis\"].update({'title': \"DFA rank\"})\n",
    "layout[\"yaxis\"].update({'title': \"percentage\", \"mirror\": False})\n",
    "layout.update({\"yaxis2\": dict(\n",
    "    title=\"cumulative percentage\",\n",
    "    titlefont=dict(color=\"black\"),\n",
    "    tickfont=dict(color=\"black\"),\n",
    "    anchor=\"free\",\n",
    "    overlaying=\"y\",\n",
    "    side=\"right\",\n",
    "    position=1,\n",
    "    range=[0, 100],\n",
    "    showgrid=True,  \n",
    "    zeroline=True, \n",
    "    ticks=\"inside\", \n",
    "    showline=True,\n",
    "    tickwidth=3, \n",
    "    linewidth=3, \n",
    "    ticklen=10,\n",
    "#     mirror=True,\n",
    ")},)\n",
    "layout.update(width=600, height=500, boxmode='group')\n",
    "fig = dict(data=data, layout=layout)\n",
    "iplot(fig)"
   ]
  },
  {
   "cell_type": "markdown",
   "metadata": {},
   "source": [
    "##### likelihood of top 5 DFAs"
   ]
  },
  {
   "cell_type": "code",
   "execution_count": 73,
   "metadata": {},
   "outputs": [
    {
     "data": {
      "application/vnd.plotly.v1+json": {
       "config": {
        "linkText": "Export to plot.ly",
        "plotlyServerURL": "https://plot.ly",
        "showLink": false
       },
       "data": [
        {
         "marker": {
          "color": "rgba(0, 0, 255, 0.5)"
         },
         "name": "rec",
         "type": "bar",
         "x": [
          "mn15-l_hfx_50",
          "blyp_hfx_50",
          "scan_hfx_40",
          "m06-l_hfx_40",
          "pbe0-dh",
          "m06-l_hfx_30",
          "mn15-l_hfx_40",
          "pbe_hfx_30",
          "dsd-blyp-d3bj",
          "m06",
          "pbe_hfx_40",
          "m06-2x",
          "m06-l_hfx_50",
          "mn15-l_hfx_30",
          "dsd-pbep86-d3bj"
         ],
         "y": [
          53.19176654507556,
          44.70427305888484,
          41.95544554455446,
          40.73736321000521,
          39.278269932256386,
          34.927045336112556,
          34.15190203230849,
          32.15216258467952,
          31.59197498697238,
          28.953882230328297,
          23.04585721730068,
          20.446847316310578,
          19.07894736842105,
          18.45362167795727,
          17.808754559666493
         ]
        },
        {
         "marker": {
          "color": "rgba(0, 255, 0, 0.5)"
         },
         "name": "true",
         "type": "bar",
         "x": [
          "mn15-l_hfx_50",
          "blyp_hfx_50",
          "scan_hfx_40",
          "m06-l_hfx_40",
          "pbe0-dh",
          "m06-l_hfx_30",
          "mn15-l_hfx_40",
          "pbe_hfx_30",
          "dsd-blyp-d3bj",
          "m06",
          "pbe_hfx_40",
          "m06-2x",
          "m06-l_hfx_50",
          "mn15-l_hfx_30",
          "dsd-pbep86-d3bj"
         ],
         "y": [
          42.9911412193851,
          41.03699843668577,
          26.706618030224075,
          35.17457008858781,
          19.541427826993225,
          40.385617509119335,
          28.009379885356957,
          23.44971339239187,
          32.56904637832204,
          29.31214174048984,
          24.752475247524753,
          25.403856175091192,
          18.890046899426785,
          21.49557060969255,
          22.14695153725899
         ]
        }
       ],
       "layout": {
        "boxmode": "group",
        "font": {
         "color": "black",
         "family": "Helvetica",
         "size": 24
        },
        "height": 500,
        "legend": {
         "orientation": "v"
        },
        "margin": {
         "b": 100,
         "l": 100,
         "r": 10,
         "t": 10
        },
        "paper_bgcolor": "rgba(255,255,255,100)",
        "plot_bgcolor": "white",
        "template": {
         "data": {
          "bar": [
           {
            "error_x": {
             "color": "#2a3f5f"
            },
            "error_y": {
             "color": "#2a3f5f"
            },
            "marker": {
             "line": {
              "color": "#E5ECF6",
              "width": 0.5
             },
             "pattern": {
              "fillmode": "overlay",
              "size": 10,
              "solidity": 0.2
             }
            },
            "type": "bar"
           }
          ],
          "barpolar": [
           {
            "marker": {
             "line": {
              "color": "#E5ECF6",
              "width": 0.5
             },
             "pattern": {
              "fillmode": "overlay",
              "size": 10,
              "solidity": 0.2
             }
            },
            "type": "barpolar"
           }
          ],
          "carpet": [
           {
            "aaxis": {
             "endlinecolor": "#2a3f5f",
             "gridcolor": "white",
             "linecolor": "white",
             "minorgridcolor": "white",
             "startlinecolor": "#2a3f5f"
            },
            "baxis": {
             "endlinecolor": "#2a3f5f",
             "gridcolor": "white",
             "linecolor": "white",
             "minorgridcolor": "white",
             "startlinecolor": "#2a3f5f"
            },
            "type": "carpet"
           }
          ],
          "choropleth": [
           {
            "colorbar": {
             "outlinewidth": 0,
             "ticks": ""
            },
            "type": "choropleth"
           }
          ],
          "contour": [
           {
            "colorbar": {
             "outlinewidth": 0,
             "ticks": ""
            },
            "colorscale": [
             [
              0,
              "#0d0887"
             ],
             [
              0.1111111111111111,
              "#46039f"
             ],
             [
              0.2222222222222222,
              "#7201a8"
             ],
             [
              0.3333333333333333,
              "#9c179e"
             ],
             [
              0.4444444444444444,
              "#bd3786"
             ],
             [
              0.5555555555555556,
              "#d8576b"
             ],
             [
              0.6666666666666666,
              "#ed7953"
             ],
             [
              0.7777777777777778,
              "#fb9f3a"
             ],
             [
              0.8888888888888888,
              "#fdca26"
             ],
             [
              1,
              "#f0f921"
             ]
            ],
            "type": "contour"
           }
          ],
          "contourcarpet": [
           {
            "colorbar": {
             "outlinewidth": 0,
             "ticks": ""
            },
            "type": "contourcarpet"
           }
          ],
          "heatmap": [
           {
            "colorbar": {
             "outlinewidth": 0,
             "ticks": ""
            },
            "colorscale": [
             [
              0,
              "#0d0887"
             ],
             [
              0.1111111111111111,
              "#46039f"
             ],
             [
              0.2222222222222222,
              "#7201a8"
             ],
             [
              0.3333333333333333,
              "#9c179e"
             ],
             [
              0.4444444444444444,
              "#bd3786"
             ],
             [
              0.5555555555555556,
              "#d8576b"
             ],
             [
              0.6666666666666666,
              "#ed7953"
             ],
             [
              0.7777777777777778,
              "#fb9f3a"
             ],
             [
              0.8888888888888888,
              "#fdca26"
             ],
             [
              1,
              "#f0f921"
             ]
            ],
            "type": "heatmap"
           }
          ],
          "heatmapgl": [
           {
            "colorbar": {
             "outlinewidth": 0,
             "ticks": ""
            },
            "colorscale": [
             [
              0,
              "#0d0887"
             ],
             [
              0.1111111111111111,
              "#46039f"
             ],
             [
              0.2222222222222222,
              "#7201a8"
             ],
             [
              0.3333333333333333,
              "#9c179e"
             ],
             [
              0.4444444444444444,
              "#bd3786"
             ],
             [
              0.5555555555555556,
              "#d8576b"
             ],
             [
              0.6666666666666666,
              "#ed7953"
             ],
             [
              0.7777777777777778,
              "#fb9f3a"
             ],
             [
              0.8888888888888888,
              "#fdca26"
             ],
             [
              1,
              "#f0f921"
             ]
            ],
            "type": "heatmapgl"
           }
          ],
          "histogram": [
           {
            "marker": {
             "pattern": {
              "fillmode": "overlay",
              "size": 10,
              "solidity": 0.2
             }
            },
            "type": "histogram"
           }
          ],
          "histogram2d": [
           {
            "colorbar": {
             "outlinewidth": 0,
             "ticks": ""
            },
            "colorscale": [
             [
              0,
              "#0d0887"
             ],
             [
              0.1111111111111111,
              "#46039f"
             ],
             [
              0.2222222222222222,
              "#7201a8"
             ],
             [
              0.3333333333333333,
              "#9c179e"
             ],
             [
              0.4444444444444444,
              "#bd3786"
             ],
             [
              0.5555555555555556,
              "#d8576b"
             ],
             [
              0.6666666666666666,
              "#ed7953"
             ],
             [
              0.7777777777777778,
              "#fb9f3a"
             ],
             [
              0.8888888888888888,
              "#fdca26"
             ],
             [
              1,
              "#f0f921"
             ]
            ],
            "type": "histogram2d"
           }
          ],
          "histogram2dcontour": [
           {
            "colorbar": {
             "outlinewidth": 0,
             "ticks": ""
            },
            "colorscale": [
             [
              0,
              "#0d0887"
             ],
             [
              0.1111111111111111,
              "#46039f"
             ],
             [
              0.2222222222222222,
              "#7201a8"
             ],
             [
              0.3333333333333333,
              "#9c179e"
             ],
             [
              0.4444444444444444,
              "#bd3786"
             ],
             [
              0.5555555555555556,
              "#d8576b"
             ],
             [
              0.6666666666666666,
              "#ed7953"
             ],
             [
              0.7777777777777778,
              "#fb9f3a"
             ],
             [
              0.8888888888888888,
              "#fdca26"
             ],
             [
              1,
              "#f0f921"
             ]
            ],
            "type": "histogram2dcontour"
           }
          ],
          "mesh3d": [
           {
            "colorbar": {
             "outlinewidth": 0,
             "ticks": ""
            },
            "type": "mesh3d"
           }
          ],
          "parcoords": [
           {
            "line": {
             "colorbar": {
              "outlinewidth": 0,
              "ticks": ""
             }
            },
            "type": "parcoords"
           }
          ],
          "pie": [
           {
            "automargin": true,
            "type": "pie"
           }
          ],
          "scatter": [
           {
            "fillpattern": {
             "fillmode": "overlay",
             "size": 10,
             "solidity": 0.2
            },
            "type": "scatter"
           }
          ],
          "scatter3d": [
           {
            "line": {
             "colorbar": {
              "outlinewidth": 0,
              "ticks": ""
             }
            },
            "marker": {
             "colorbar": {
              "outlinewidth": 0,
              "ticks": ""
             }
            },
            "type": "scatter3d"
           }
          ],
          "scattercarpet": [
           {
            "marker": {
             "colorbar": {
              "outlinewidth": 0,
              "ticks": ""
             }
            },
            "type": "scattercarpet"
           }
          ],
          "scattergeo": [
           {
            "marker": {
             "colorbar": {
              "outlinewidth": 0,
              "ticks": ""
             }
            },
            "type": "scattergeo"
           }
          ],
          "scattergl": [
           {
            "marker": {
             "colorbar": {
              "outlinewidth": 0,
              "ticks": ""
             }
            },
            "type": "scattergl"
           }
          ],
          "scattermapbox": [
           {
            "marker": {
             "colorbar": {
              "outlinewidth": 0,
              "ticks": ""
             }
            },
            "type": "scattermapbox"
           }
          ],
          "scatterpolar": [
           {
            "marker": {
             "colorbar": {
              "outlinewidth": 0,
              "ticks": ""
             }
            },
            "type": "scatterpolar"
           }
          ],
          "scatterpolargl": [
           {
            "marker": {
             "colorbar": {
              "outlinewidth": 0,
              "ticks": ""
             }
            },
            "type": "scatterpolargl"
           }
          ],
          "scatterternary": [
           {
            "marker": {
             "colorbar": {
              "outlinewidth": 0,
              "ticks": ""
             }
            },
            "type": "scatterternary"
           }
          ],
          "surface": [
           {
            "colorbar": {
             "outlinewidth": 0,
             "ticks": ""
            },
            "colorscale": [
             [
              0,
              "#0d0887"
             ],
             [
              0.1111111111111111,
              "#46039f"
             ],
             [
              0.2222222222222222,
              "#7201a8"
             ],
             [
              0.3333333333333333,
              "#9c179e"
             ],
             [
              0.4444444444444444,
              "#bd3786"
             ],
             [
              0.5555555555555556,
              "#d8576b"
             ],
             [
              0.6666666666666666,
              "#ed7953"
             ],
             [
              0.7777777777777778,
              "#fb9f3a"
             ],
             [
              0.8888888888888888,
              "#fdca26"
             ],
             [
              1,
              "#f0f921"
             ]
            ],
            "type": "surface"
           }
          ],
          "table": [
           {
            "cells": {
             "fill": {
              "color": "#EBF0F8"
             },
             "line": {
              "color": "white"
             }
            },
            "header": {
             "fill": {
              "color": "#C8D4E3"
             },
             "line": {
              "color": "white"
             }
            },
            "type": "table"
           }
          ]
         },
         "layout": {
          "annotationdefaults": {
           "arrowcolor": "#2a3f5f",
           "arrowhead": 0,
           "arrowwidth": 1
          },
          "autotypenumbers": "strict",
          "coloraxis": {
           "colorbar": {
            "outlinewidth": 0,
            "ticks": ""
           }
          },
          "colorscale": {
           "diverging": [
            [
             0,
             "#8e0152"
            ],
            [
             0.1,
             "#c51b7d"
            ],
            [
             0.2,
             "#de77ae"
            ],
            [
             0.3,
             "#f1b6da"
            ],
            [
             0.4,
             "#fde0ef"
            ],
            [
             0.5,
             "#f7f7f7"
            ],
            [
             0.6,
             "#e6f5d0"
            ],
            [
             0.7,
             "#b8e186"
            ],
            [
             0.8,
             "#7fbc41"
            ],
            [
             0.9,
             "#4d9221"
            ],
            [
             1,
             "#276419"
            ]
           ],
           "sequential": [
            [
             0,
             "#0d0887"
            ],
            [
             0.1111111111111111,
             "#46039f"
            ],
            [
             0.2222222222222222,
             "#7201a8"
            ],
            [
             0.3333333333333333,
             "#9c179e"
            ],
            [
             0.4444444444444444,
             "#bd3786"
            ],
            [
             0.5555555555555556,
             "#d8576b"
            ],
            [
             0.6666666666666666,
             "#ed7953"
            ],
            [
             0.7777777777777778,
             "#fb9f3a"
            ],
            [
             0.8888888888888888,
             "#fdca26"
            ],
            [
             1,
             "#f0f921"
            ]
           ],
           "sequentialminus": [
            [
             0,
             "#0d0887"
            ],
            [
             0.1111111111111111,
             "#46039f"
            ],
            [
             0.2222222222222222,
             "#7201a8"
            ],
            [
             0.3333333333333333,
             "#9c179e"
            ],
            [
             0.4444444444444444,
             "#bd3786"
            ],
            [
             0.5555555555555556,
             "#d8576b"
            ],
            [
             0.6666666666666666,
             "#ed7953"
            ],
            [
             0.7777777777777778,
             "#fb9f3a"
            ],
            [
             0.8888888888888888,
             "#fdca26"
            ],
            [
             1,
             "#f0f921"
            ]
           ]
          },
          "colorway": [
           "#636efa",
           "#EF553B",
           "#00cc96",
           "#ab63fa",
           "#FFA15A",
           "#19d3f3",
           "#FF6692",
           "#B6E880",
           "#FF97FF",
           "#FECB52"
          ],
          "font": {
           "color": "#2a3f5f"
          },
          "geo": {
           "bgcolor": "white",
           "lakecolor": "white",
           "landcolor": "#E5ECF6",
           "showlakes": true,
           "showland": true,
           "subunitcolor": "white"
          },
          "hoverlabel": {
           "align": "left"
          },
          "hovermode": "closest",
          "mapbox": {
           "style": "light"
          },
          "paper_bgcolor": "white",
          "plot_bgcolor": "#E5ECF6",
          "polar": {
           "angularaxis": {
            "gridcolor": "white",
            "linecolor": "white",
            "ticks": ""
           },
           "bgcolor": "#E5ECF6",
           "radialaxis": {
            "gridcolor": "white",
            "linecolor": "white",
            "ticks": ""
           }
          },
          "scene": {
           "xaxis": {
            "backgroundcolor": "#E5ECF6",
            "gridcolor": "white",
            "gridwidth": 2,
            "linecolor": "white",
            "showbackground": true,
            "ticks": "",
            "zerolinecolor": "white"
           },
           "yaxis": {
            "backgroundcolor": "#E5ECF6",
            "gridcolor": "white",
            "gridwidth": 2,
            "linecolor": "white",
            "showbackground": true,
            "ticks": "",
            "zerolinecolor": "white"
           },
           "zaxis": {
            "backgroundcolor": "#E5ECF6",
            "gridcolor": "white",
            "gridwidth": 2,
            "linecolor": "white",
            "showbackground": true,
            "ticks": "",
            "zerolinecolor": "white"
           }
          },
          "shapedefaults": {
           "line": {
            "color": "#2a3f5f"
           }
          },
          "ternary": {
           "aaxis": {
            "gridcolor": "white",
            "linecolor": "white",
            "ticks": ""
           },
           "baxis": {
            "gridcolor": "white",
            "linecolor": "white",
            "ticks": ""
           },
           "bgcolor": "#E5ECF6",
           "caxis": {
            "gridcolor": "white",
            "linecolor": "white",
            "ticks": ""
           }
          },
          "title": {
           "x": 0.05
          },
          "xaxis": {
           "automargin": true,
           "gridcolor": "white",
           "linecolor": "white",
           "ticks": "",
           "title": {
            "standoff": 15
           },
           "zerolinecolor": "white",
           "zerolinewidth": 2
          },
          "yaxis": {
           "automargin": true,
           "gridcolor": "white",
           "linecolor": "white",
           "ticks": "",
           "title": {
            "standoff": 15
           },
           "zerolinecolor": "white",
           "zerolinewidth": 2
          }
         }
        },
        "width": 1000,
        "xaxis": {
         "color": "black",
         "linecolor": "black",
         "linewidth": 1.5,
         "mirror": "allticks",
         "showgrid": false,
         "showline": true,
         "ticklen": 10,
         "ticks": "inside",
         "tickwidth": 1.5,
         "title": {
          "text": "DFA"
         },
         "zeroline": false
        },
        "yaxis": {
         "color": "black",
         "linecolor": "black",
         "linewidth": 1.5,
         "mirror": "allticks",
         "showgrid": false,
         "showline": true,
         "ticklen": 10,
         "ticks": "inside",
         "tickwidth": 1.5,
         "title": {
          "text": "likelihood of top 5"
         },
         "zeroline": false
        }
       }
      },
      "text/html": [
       "<div>                            <div id=\"056b5724-f39d-49de-aaa2-8bb414817f1e\" class=\"plotly-graph-div\" style=\"height:500px; width:1000px;\"></div>            <script type=\"text/javascript\">                require([\"plotly\"], function(Plotly) {                    window.PLOTLYENV=window.PLOTLYENV || {};                                    if (document.getElementById(\"056b5724-f39d-49de-aaa2-8bb414817f1e\")) {                    Plotly.newPlot(                        \"056b5724-f39d-49de-aaa2-8bb414817f1e\",                        [{\"marker\":{\"color\":\"rgba(0, 0, 255, 0.5)\"},\"name\":\"rec\",\"x\":[\"mn15-l_hfx_50\",\"blyp_hfx_50\",\"scan_hfx_40\",\"m06-l_hfx_40\",\"pbe0-dh\",\"m06-l_hfx_30\",\"mn15-l_hfx_40\",\"pbe_hfx_30\",\"dsd-blyp-d3bj\",\"m06\",\"pbe_hfx_40\",\"m06-2x\",\"m06-l_hfx_50\",\"mn15-l_hfx_30\",\"dsd-pbep86-d3bj\"],\"y\":[53.19176654507556,44.70427305888484,41.95544554455446,40.73736321000521,39.278269932256386,34.927045336112556,34.15190203230849,32.15216258467952,31.59197498697238,28.953882230328297,23.04585721730068,20.446847316310578,19.07894736842105,18.45362167795727,17.808754559666493],\"type\":\"bar\"},{\"marker\":{\"color\":\"rgba(0, 255, 0, 0.5)\"},\"name\":\"true\",\"x\":[\"mn15-l_hfx_50\",\"blyp_hfx_50\",\"scan_hfx_40\",\"m06-l_hfx_40\",\"pbe0-dh\",\"m06-l_hfx_30\",\"mn15-l_hfx_40\",\"pbe_hfx_30\",\"dsd-blyp-d3bj\",\"m06\",\"pbe_hfx_40\",\"m06-2x\",\"m06-l_hfx_50\",\"mn15-l_hfx_30\",\"dsd-pbep86-d3bj\"],\"y\":[42.9911412193851,41.03699843668577,26.706618030224075,35.17457008858781,19.541427826993225,40.385617509119335,28.009379885356957,23.44971339239187,32.56904637832204,29.31214174048984,24.752475247524753,25.403856175091192,18.890046899426785,21.49557060969255,22.14695153725899],\"type\":\"bar\"}],                        {\"boxmode\":\"group\",\"font\":{\"color\":\"black\",\"family\":\"Helvetica\",\"size\":24},\"height\":500,\"legend\":{\"orientation\":\"v\"},\"margin\":{\"b\":100,\"l\":100,\"r\":10,\"t\":10},\"paper_bgcolor\":\"rgba(255,255,255,100)\",\"plot_bgcolor\":\"white\",\"template\":{\"data\":{\"barpolar\":[{\"marker\":{\"line\":{\"color\":\"#E5ECF6\",\"width\":0.5},\"pattern\":{\"fillmode\":\"overlay\",\"size\":10,\"solidity\":0.2}},\"type\":\"barpolar\"}],\"bar\":[{\"error_x\":{\"color\":\"#2a3f5f\"},\"error_y\":{\"color\":\"#2a3f5f\"},\"marker\":{\"line\":{\"color\":\"#E5ECF6\",\"width\":0.5},\"pattern\":{\"fillmode\":\"overlay\",\"size\":10,\"solidity\":0.2}},\"type\":\"bar\"}],\"carpet\":[{\"aaxis\":{\"endlinecolor\":\"#2a3f5f\",\"gridcolor\":\"white\",\"linecolor\":\"white\",\"minorgridcolor\":\"white\",\"startlinecolor\":\"#2a3f5f\"},\"baxis\":{\"endlinecolor\":\"#2a3f5f\",\"gridcolor\":\"white\",\"linecolor\":\"white\",\"minorgridcolor\":\"white\",\"startlinecolor\":\"#2a3f5f\"},\"type\":\"carpet\"}],\"choropleth\":[{\"colorbar\":{\"outlinewidth\":0,\"ticks\":\"\"},\"type\":\"choropleth\"}],\"contourcarpet\":[{\"colorbar\":{\"outlinewidth\":0,\"ticks\":\"\"},\"type\":\"contourcarpet\"}],\"contour\":[{\"colorbar\":{\"outlinewidth\":0,\"ticks\":\"\"},\"colorscale\":[[0.0,\"#0d0887\"],[0.1111111111111111,\"#46039f\"],[0.2222222222222222,\"#7201a8\"],[0.3333333333333333,\"#9c179e\"],[0.4444444444444444,\"#bd3786\"],[0.5555555555555556,\"#d8576b\"],[0.6666666666666666,\"#ed7953\"],[0.7777777777777778,\"#fb9f3a\"],[0.8888888888888888,\"#fdca26\"],[1.0,\"#f0f921\"]],\"type\":\"contour\"}],\"heatmapgl\":[{\"colorbar\":{\"outlinewidth\":0,\"ticks\":\"\"},\"colorscale\":[[0.0,\"#0d0887\"],[0.1111111111111111,\"#46039f\"],[0.2222222222222222,\"#7201a8\"],[0.3333333333333333,\"#9c179e\"],[0.4444444444444444,\"#bd3786\"],[0.5555555555555556,\"#d8576b\"],[0.6666666666666666,\"#ed7953\"],[0.7777777777777778,\"#fb9f3a\"],[0.8888888888888888,\"#fdca26\"],[1.0,\"#f0f921\"]],\"type\":\"heatmapgl\"}],\"heatmap\":[{\"colorbar\":{\"outlinewidth\":0,\"ticks\":\"\"},\"colorscale\":[[0.0,\"#0d0887\"],[0.1111111111111111,\"#46039f\"],[0.2222222222222222,\"#7201a8\"],[0.3333333333333333,\"#9c179e\"],[0.4444444444444444,\"#bd3786\"],[0.5555555555555556,\"#d8576b\"],[0.6666666666666666,\"#ed7953\"],[0.7777777777777778,\"#fb9f3a\"],[0.8888888888888888,\"#fdca26\"],[1.0,\"#f0f921\"]],\"type\":\"heatmap\"}],\"histogram2dcontour\":[{\"colorbar\":{\"outlinewidth\":0,\"ticks\":\"\"},\"colorscale\":[[0.0,\"#0d0887\"],[0.1111111111111111,\"#46039f\"],[0.2222222222222222,\"#7201a8\"],[0.3333333333333333,\"#9c179e\"],[0.4444444444444444,\"#bd3786\"],[0.5555555555555556,\"#d8576b\"],[0.6666666666666666,\"#ed7953\"],[0.7777777777777778,\"#fb9f3a\"],[0.8888888888888888,\"#fdca26\"],[1.0,\"#f0f921\"]],\"type\":\"histogram2dcontour\"}],\"histogram2d\":[{\"colorbar\":{\"outlinewidth\":0,\"ticks\":\"\"},\"colorscale\":[[0.0,\"#0d0887\"],[0.1111111111111111,\"#46039f\"],[0.2222222222222222,\"#7201a8\"],[0.3333333333333333,\"#9c179e\"],[0.4444444444444444,\"#bd3786\"],[0.5555555555555556,\"#d8576b\"],[0.6666666666666666,\"#ed7953\"],[0.7777777777777778,\"#fb9f3a\"],[0.8888888888888888,\"#fdca26\"],[1.0,\"#f0f921\"]],\"type\":\"histogram2d\"}],\"histogram\":[{\"marker\":{\"pattern\":{\"fillmode\":\"overlay\",\"size\":10,\"solidity\":0.2}},\"type\":\"histogram\"}],\"mesh3d\":[{\"colorbar\":{\"outlinewidth\":0,\"ticks\":\"\"},\"type\":\"mesh3d\"}],\"parcoords\":[{\"line\":{\"colorbar\":{\"outlinewidth\":0,\"ticks\":\"\"}},\"type\":\"parcoords\"}],\"pie\":[{\"automargin\":true,\"type\":\"pie\"}],\"scatter3d\":[{\"line\":{\"colorbar\":{\"outlinewidth\":0,\"ticks\":\"\"}},\"marker\":{\"colorbar\":{\"outlinewidth\":0,\"ticks\":\"\"}},\"type\":\"scatter3d\"}],\"scattercarpet\":[{\"marker\":{\"colorbar\":{\"outlinewidth\":0,\"ticks\":\"\"}},\"type\":\"scattercarpet\"}],\"scattergeo\":[{\"marker\":{\"colorbar\":{\"outlinewidth\":0,\"ticks\":\"\"}},\"type\":\"scattergeo\"}],\"scattergl\":[{\"marker\":{\"colorbar\":{\"outlinewidth\":0,\"ticks\":\"\"}},\"type\":\"scattergl\"}],\"scattermapbox\":[{\"marker\":{\"colorbar\":{\"outlinewidth\":0,\"ticks\":\"\"}},\"type\":\"scattermapbox\"}],\"scatterpolargl\":[{\"marker\":{\"colorbar\":{\"outlinewidth\":0,\"ticks\":\"\"}},\"type\":\"scatterpolargl\"}],\"scatterpolar\":[{\"marker\":{\"colorbar\":{\"outlinewidth\":0,\"ticks\":\"\"}},\"type\":\"scatterpolar\"}],\"scatter\":[{\"fillpattern\":{\"fillmode\":\"overlay\",\"size\":10,\"solidity\":0.2},\"type\":\"scatter\"}],\"scatterternary\":[{\"marker\":{\"colorbar\":{\"outlinewidth\":0,\"ticks\":\"\"}},\"type\":\"scatterternary\"}],\"surface\":[{\"colorbar\":{\"outlinewidth\":0,\"ticks\":\"\"},\"colorscale\":[[0.0,\"#0d0887\"],[0.1111111111111111,\"#46039f\"],[0.2222222222222222,\"#7201a8\"],[0.3333333333333333,\"#9c179e\"],[0.4444444444444444,\"#bd3786\"],[0.5555555555555556,\"#d8576b\"],[0.6666666666666666,\"#ed7953\"],[0.7777777777777778,\"#fb9f3a\"],[0.8888888888888888,\"#fdca26\"],[1.0,\"#f0f921\"]],\"type\":\"surface\"}],\"table\":[{\"cells\":{\"fill\":{\"color\":\"#EBF0F8\"},\"line\":{\"color\":\"white\"}},\"header\":{\"fill\":{\"color\":\"#C8D4E3\"},\"line\":{\"color\":\"white\"}},\"type\":\"table\"}]},\"layout\":{\"annotationdefaults\":{\"arrowcolor\":\"#2a3f5f\",\"arrowhead\":0,\"arrowwidth\":1},\"autotypenumbers\":\"strict\",\"coloraxis\":{\"colorbar\":{\"outlinewidth\":0,\"ticks\":\"\"}},\"colorscale\":{\"diverging\":[[0,\"#8e0152\"],[0.1,\"#c51b7d\"],[0.2,\"#de77ae\"],[0.3,\"#f1b6da\"],[0.4,\"#fde0ef\"],[0.5,\"#f7f7f7\"],[0.6,\"#e6f5d0\"],[0.7,\"#b8e186\"],[0.8,\"#7fbc41\"],[0.9,\"#4d9221\"],[1,\"#276419\"]],\"sequential\":[[0.0,\"#0d0887\"],[0.1111111111111111,\"#46039f\"],[0.2222222222222222,\"#7201a8\"],[0.3333333333333333,\"#9c179e\"],[0.4444444444444444,\"#bd3786\"],[0.5555555555555556,\"#d8576b\"],[0.6666666666666666,\"#ed7953\"],[0.7777777777777778,\"#fb9f3a\"],[0.8888888888888888,\"#fdca26\"],[1.0,\"#f0f921\"]],\"sequentialminus\":[[0.0,\"#0d0887\"],[0.1111111111111111,\"#46039f\"],[0.2222222222222222,\"#7201a8\"],[0.3333333333333333,\"#9c179e\"],[0.4444444444444444,\"#bd3786\"],[0.5555555555555556,\"#d8576b\"],[0.6666666666666666,\"#ed7953\"],[0.7777777777777778,\"#fb9f3a\"],[0.8888888888888888,\"#fdca26\"],[1.0,\"#f0f921\"]]},\"colorway\":[\"#636efa\",\"#EF553B\",\"#00cc96\",\"#ab63fa\",\"#FFA15A\",\"#19d3f3\",\"#FF6692\",\"#B6E880\",\"#FF97FF\",\"#FECB52\"],\"font\":{\"color\":\"#2a3f5f\"},\"geo\":{\"bgcolor\":\"white\",\"lakecolor\":\"white\",\"landcolor\":\"#E5ECF6\",\"showlakes\":true,\"showland\":true,\"subunitcolor\":\"white\"},\"hoverlabel\":{\"align\":\"left\"},\"hovermode\":\"closest\",\"mapbox\":{\"style\":\"light\"},\"paper_bgcolor\":\"white\",\"plot_bgcolor\":\"#E5ECF6\",\"polar\":{\"angularaxis\":{\"gridcolor\":\"white\",\"linecolor\":\"white\",\"ticks\":\"\"},\"bgcolor\":\"#E5ECF6\",\"radialaxis\":{\"gridcolor\":\"white\",\"linecolor\":\"white\",\"ticks\":\"\"}},\"scene\":{\"xaxis\":{\"backgroundcolor\":\"#E5ECF6\",\"gridcolor\":\"white\",\"gridwidth\":2,\"linecolor\":\"white\",\"showbackground\":true,\"ticks\":\"\",\"zerolinecolor\":\"white\"},\"yaxis\":{\"backgroundcolor\":\"#E5ECF6\",\"gridcolor\":\"white\",\"gridwidth\":2,\"linecolor\":\"white\",\"showbackground\":true,\"ticks\":\"\",\"zerolinecolor\":\"white\"},\"zaxis\":{\"backgroundcolor\":\"#E5ECF6\",\"gridcolor\":\"white\",\"gridwidth\":2,\"linecolor\":\"white\",\"showbackground\":true,\"ticks\":\"\",\"zerolinecolor\":\"white\"}},\"shapedefaults\":{\"line\":{\"color\":\"#2a3f5f\"}},\"ternary\":{\"aaxis\":{\"gridcolor\":\"white\",\"linecolor\":\"white\",\"ticks\":\"\"},\"baxis\":{\"gridcolor\":\"white\",\"linecolor\":\"white\",\"ticks\":\"\"},\"bgcolor\":\"#E5ECF6\",\"caxis\":{\"gridcolor\":\"white\",\"linecolor\":\"white\",\"ticks\":\"\"}},\"title\":{\"x\":0.05},\"xaxis\":{\"automargin\":true,\"gridcolor\":\"white\",\"linecolor\":\"white\",\"ticks\":\"\",\"title\":{\"standoff\":15},\"zerolinecolor\":\"white\",\"zerolinewidth\":2},\"yaxis\":{\"automargin\":true,\"gridcolor\":\"white\",\"linecolor\":\"white\",\"ticks\":\"\",\"title\":{\"standoff\":15},\"zerolinecolor\":\"white\",\"zerolinewidth\":2}}},\"width\":1000,\"xaxis\":{\"color\":\"black\",\"linecolor\":\"black\",\"linewidth\":1.5,\"mirror\":\"allticks\",\"showgrid\":false,\"showline\":true,\"ticklen\":10,\"ticks\":\"inside\",\"tickwidth\":1.5,\"title\":{\"text\":\"DFA\"},\"zeroline\":false},\"yaxis\":{\"color\":\"black\",\"linecolor\":\"black\",\"linewidth\":1.5,\"mirror\":\"allticks\",\"showgrid\":false,\"showline\":true,\"ticklen\":10,\"ticks\":\"inside\",\"tickwidth\":1.5,\"title\":{\"text\":\"likelihood of top 5\"},\"zeroline\":false}},                        {\"responsive\": true}                    ).then(function(){\n",
       "                            \n",
       "var gd = document.getElementById('056b5724-f39d-49de-aaa2-8bb414817f1e');\n",
       "var x = new MutationObserver(function (mutations, observer) {{\n",
       "        var display = window.getComputedStyle(gd).display;\n",
       "        if (!display || display === 'none') {{\n",
       "            console.log([gd, 'removed!']);\n",
       "            Plotly.purge(gd);\n",
       "            observer.disconnect();\n",
       "        }}\n",
       "}});\n",
       "\n",
       "// Listen for the removal of the full notebook cells\n",
       "var notebookContainer = gd.closest('#notebook-container');\n",
       "if (notebookContainer) {{\n",
       "    x.observe(notebookContainer, {childList: true});\n",
       "}}\n",
       "\n",
       "// Listen for the clearing of the current output cell\n",
       "var outputEl = gd.closest('.output');\n",
       "if (outputEl) {{\n",
       "    x.observe(outputEl, {childList: true});\n",
       "}}\n",
       "\n",
       "                        })                };                });            </script>        </div>"
      ]
     },
     "metadata": {},
     "output_type": "display_data"
    }
   ],
   "source": [
    "### ----top-5----\n",
    "cutoff = 15\n",
    "top5_bfs = {}\n",
    "for f in functionals:\n",
    "    top5_bfs[f] = 0\n",
    "for _, row in df_sel_top.iterrows():\n",
    "    for f in row[\"best_fs\"]:\n",
    "        top5_bfs[f] += 1\n",
    "true_top5_bfs = {}\n",
    "for f in functionals:\n",
    "    true_top5_bfs[f] = 0\n",
    "for _, row in df_sel_top.iterrows():\n",
    "    for f in row[\"true_best_fs\"]:\n",
    "        true_top5_bfs[f] += 1\n",
    "\n",
    "for f in top5_bfs:\n",
    "    top5_bfs[f] += true_top5_bfs[f]*0.01\n",
    "\n",
    "from collections import Counter\n",
    "bfs = dict(sorted(top5_bfs.items(), key=lambda item: item[1], reverse=True))\n",
    "use_bfs_true = {}\n",
    "for f in list(bfs.keys()):\n",
    "    use_bfs_true[f] = true_top5_bfs[f]\n",
    "data = [go.Bar(x=list(bfs.keys())[:cutoff],\n",
    "               y=np.array(list(bfs.values()))[:cutoff]*600./np.sum(list(bfs.values())), name='rec', marker_color='rgba(0, 0, 255, 0.5)'),\n",
    "        go.Bar(x=list(use_bfs_true.keys())[:cutoff],\n",
    "               y=np.array(list(use_bfs_true.values()))[:cutoff]*600./np.sum(list(bfs.values())), name='true', marker_color='rgba(0, 255, 0, 0.5)'),\n",
    "       ]\n",
    "layout = go.Layout()\n",
    "layout.update(glob_layout)\n",
    "layout[\"xaxis\"].update({'title': \"DFA\"})\n",
    "layout[\"yaxis\"].update({'title': \"likelihood of top 5\", })\n",
    "layout.update(width=1000, height=500, boxmode='group')\n",
    "fig = dict(data=data, layout=layout)\n",
    "iplot(fig)"
   ]
  },
  {
   "cell_type": "code",
   "execution_count": 84,
   "metadata": {},
   "outputs": [
    {
     "data": {
      "text/plain": [
       "SpearmanrResult(correlation=0.9469038208168641, pvalue=8.223112687650343e-23)"
      ]
     },
     "execution_count": 84,
     "metadata": {},
     "output_type": "execute_result"
    }
   ],
   "source": [
    "#---Calculate rank ordering of the recommender selected DFAs and the ground truth---\n",
    "TL_ranked_DFAs = list(bfs.keys())\n",
    "bfs_true = dict(sorted(true_top5_bfs.items(), key=lambda item: item[1], reverse=True))\n",
    "l1 = [ii for ii, _ in enumerate(list(bfs_true.keys()))]\n",
    "l2 = [list(TL_ranked_DFAs).index(f) for f in list(bfs_true.keys())]\n",
    "spearmanr(l1, l2)"
   ]
  },
  {
   "cell_type": "markdown",
   "metadata": {},
   "source": [
    "##### with specific metal"
   ]
  },
  {
   "cell_type": "code",
   "execution_count": 94,
   "metadata": {},
   "outputs": [
    {
     "data": {
      "application/vnd.plotly.v1+json": {
       "config": {
        "linkText": "Export to plot.ly",
        "plotlyServerURL": "https://plot.ly",
        "showLink": false
       },
       "data": [
        {
         "marker": {
          "color": "rgba(0, 0, 255, 0.5)"
         },
         "name": "rec",
         "type": "bar",
         "x": [
          "mn15-l_hfx_50",
          "m06-l_hfx_40",
          "mn15-l_hfx_40",
          "m06-l_hfx_50",
          "scan_hfx_50",
          "scan_hfx_40",
          "pbe_hfx_50",
          "m06",
          "mn15-l_hfx_30",
          "mn15-l_hfx_10",
          "m06-2x",
          "pbe0-dh",
          "blyp_hfx_40",
          "pbe_hfx_30",
          "b2gpplyp"
         ],
         "y": [
          78.81709223553935,
          76.18551328817092,
          52.63157894736842,
          47.420531526836896,
          41.92287649817613,
          34.080250130276184,
          31.552892131318394,
          26.42001042209484,
          23.632100052110474,
          23.632100052110474,
          18.525273579989577,
          18.342886920270974,
          15.711307972902553,
          13.157894736842104,
          13.157894736842104
         ]
        },
        {
         "marker": {
          "color": "rgba(0, 255, 0, 0.5)"
         },
         "name": "true",
         "type": "bar",
         "x": [
          "mn15-l_hfx_50",
          "m06-l_hfx_40",
          "mn15-l_hfx_40",
          "m06-l_hfx_50",
          "scan_hfx_50",
          "scan_hfx_40",
          "pbe_hfx_50",
          "m06",
          "mn15-l_hfx_30",
          "mn15-l_hfx_10",
          "m06-2x",
          "pbe0-dh",
          "blyp_hfx_40",
          "pbe_hfx_30",
          "b2gpplyp"
         ],
         "y": [
          65.13809275664408,
          62.53256904637832,
          52.11047420531527,
          52.11047420531527,
          23.44971339239187,
          20.844189682126107,
          28.660760812923396,
          36.477331943720685,
          18.238665971860343,
          18.238665971860343,
          28.660760812923396,
          10.422094841063053,
          7.81657113079729,
          13.027618551328818,
          13.027618551328818
         ]
        }
       ],
       "layout": {
        "boxmode": "group",
        "font": {
         "color": "black",
         "family": "Helvetica",
         "size": 24
        },
        "height": 500,
        "legend": {
         "orientation": "v"
        },
        "margin": {
         "b": 100,
         "l": 100,
         "r": 10,
         "t": 10
        },
        "paper_bgcolor": "rgba(255,255,255,100)",
        "plot_bgcolor": "white",
        "template": {
         "data": {
          "bar": [
           {
            "error_x": {
             "color": "#2a3f5f"
            },
            "error_y": {
             "color": "#2a3f5f"
            },
            "marker": {
             "line": {
              "color": "#E5ECF6",
              "width": 0.5
             },
             "pattern": {
              "fillmode": "overlay",
              "size": 10,
              "solidity": 0.2
             }
            },
            "type": "bar"
           }
          ],
          "barpolar": [
           {
            "marker": {
             "line": {
              "color": "#E5ECF6",
              "width": 0.5
             },
             "pattern": {
              "fillmode": "overlay",
              "size": 10,
              "solidity": 0.2
             }
            },
            "type": "barpolar"
           }
          ],
          "carpet": [
           {
            "aaxis": {
             "endlinecolor": "#2a3f5f",
             "gridcolor": "white",
             "linecolor": "white",
             "minorgridcolor": "white",
             "startlinecolor": "#2a3f5f"
            },
            "baxis": {
             "endlinecolor": "#2a3f5f",
             "gridcolor": "white",
             "linecolor": "white",
             "minorgridcolor": "white",
             "startlinecolor": "#2a3f5f"
            },
            "type": "carpet"
           }
          ],
          "choropleth": [
           {
            "colorbar": {
             "outlinewidth": 0,
             "ticks": ""
            },
            "type": "choropleth"
           }
          ],
          "contour": [
           {
            "colorbar": {
             "outlinewidth": 0,
             "ticks": ""
            },
            "colorscale": [
             [
              0,
              "#0d0887"
             ],
             [
              0.1111111111111111,
              "#46039f"
             ],
             [
              0.2222222222222222,
              "#7201a8"
             ],
             [
              0.3333333333333333,
              "#9c179e"
             ],
             [
              0.4444444444444444,
              "#bd3786"
             ],
             [
              0.5555555555555556,
              "#d8576b"
             ],
             [
              0.6666666666666666,
              "#ed7953"
             ],
             [
              0.7777777777777778,
              "#fb9f3a"
             ],
             [
              0.8888888888888888,
              "#fdca26"
             ],
             [
              1,
              "#f0f921"
             ]
            ],
            "type": "contour"
           }
          ],
          "contourcarpet": [
           {
            "colorbar": {
             "outlinewidth": 0,
             "ticks": ""
            },
            "type": "contourcarpet"
           }
          ],
          "heatmap": [
           {
            "colorbar": {
             "outlinewidth": 0,
             "ticks": ""
            },
            "colorscale": [
             [
              0,
              "#0d0887"
             ],
             [
              0.1111111111111111,
              "#46039f"
             ],
             [
              0.2222222222222222,
              "#7201a8"
             ],
             [
              0.3333333333333333,
              "#9c179e"
             ],
             [
              0.4444444444444444,
              "#bd3786"
             ],
             [
              0.5555555555555556,
              "#d8576b"
             ],
             [
              0.6666666666666666,
              "#ed7953"
             ],
             [
              0.7777777777777778,
              "#fb9f3a"
             ],
             [
              0.8888888888888888,
              "#fdca26"
             ],
             [
              1,
              "#f0f921"
             ]
            ],
            "type": "heatmap"
           }
          ],
          "heatmapgl": [
           {
            "colorbar": {
             "outlinewidth": 0,
             "ticks": ""
            },
            "colorscale": [
             [
              0,
              "#0d0887"
             ],
             [
              0.1111111111111111,
              "#46039f"
             ],
             [
              0.2222222222222222,
              "#7201a8"
             ],
             [
              0.3333333333333333,
              "#9c179e"
             ],
             [
              0.4444444444444444,
              "#bd3786"
             ],
             [
              0.5555555555555556,
              "#d8576b"
             ],
             [
              0.6666666666666666,
              "#ed7953"
             ],
             [
              0.7777777777777778,
              "#fb9f3a"
             ],
             [
              0.8888888888888888,
              "#fdca26"
             ],
             [
              1,
              "#f0f921"
             ]
            ],
            "type": "heatmapgl"
           }
          ],
          "histogram": [
           {
            "marker": {
             "pattern": {
              "fillmode": "overlay",
              "size": 10,
              "solidity": 0.2
             }
            },
            "type": "histogram"
           }
          ],
          "histogram2d": [
           {
            "colorbar": {
             "outlinewidth": 0,
             "ticks": ""
            },
            "colorscale": [
             [
              0,
              "#0d0887"
             ],
             [
              0.1111111111111111,
              "#46039f"
             ],
             [
              0.2222222222222222,
              "#7201a8"
             ],
             [
              0.3333333333333333,
              "#9c179e"
             ],
             [
              0.4444444444444444,
              "#bd3786"
             ],
             [
              0.5555555555555556,
              "#d8576b"
             ],
             [
              0.6666666666666666,
              "#ed7953"
             ],
             [
              0.7777777777777778,
              "#fb9f3a"
             ],
             [
              0.8888888888888888,
              "#fdca26"
             ],
             [
              1,
              "#f0f921"
             ]
            ],
            "type": "histogram2d"
           }
          ],
          "histogram2dcontour": [
           {
            "colorbar": {
             "outlinewidth": 0,
             "ticks": ""
            },
            "colorscale": [
             [
              0,
              "#0d0887"
             ],
             [
              0.1111111111111111,
              "#46039f"
             ],
             [
              0.2222222222222222,
              "#7201a8"
             ],
             [
              0.3333333333333333,
              "#9c179e"
             ],
             [
              0.4444444444444444,
              "#bd3786"
             ],
             [
              0.5555555555555556,
              "#d8576b"
             ],
             [
              0.6666666666666666,
              "#ed7953"
             ],
             [
              0.7777777777777778,
              "#fb9f3a"
             ],
             [
              0.8888888888888888,
              "#fdca26"
             ],
             [
              1,
              "#f0f921"
             ]
            ],
            "type": "histogram2dcontour"
           }
          ],
          "mesh3d": [
           {
            "colorbar": {
             "outlinewidth": 0,
             "ticks": ""
            },
            "type": "mesh3d"
           }
          ],
          "parcoords": [
           {
            "line": {
             "colorbar": {
              "outlinewidth": 0,
              "ticks": ""
             }
            },
            "type": "parcoords"
           }
          ],
          "pie": [
           {
            "automargin": true,
            "type": "pie"
           }
          ],
          "scatter": [
           {
            "fillpattern": {
             "fillmode": "overlay",
             "size": 10,
             "solidity": 0.2
            },
            "type": "scatter"
           }
          ],
          "scatter3d": [
           {
            "line": {
             "colorbar": {
              "outlinewidth": 0,
              "ticks": ""
             }
            },
            "marker": {
             "colorbar": {
              "outlinewidth": 0,
              "ticks": ""
             }
            },
            "type": "scatter3d"
           }
          ],
          "scattercarpet": [
           {
            "marker": {
             "colorbar": {
              "outlinewidth": 0,
              "ticks": ""
             }
            },
            "type": "scattercarpet"
           }
          ],
          "scattergeo": [
           {
            "marker": {
             "colorbar": {
              "outlinewidth": 0,
              "ticks": ""
             }
            },
            "type": "scattergeo"
           }
          ],
          "scattergl": [
           {
            "marker": {
             "colorbar": {
              "outlinewidth": 0,
              "ticks": ""
             }
            },
            "type": "scattergl"
           }
          ],
          "scattermapbox": [
           {
            "marker": {
             "colorbar": {
              "outlinewidth": 0,
              "ticks": ""
             }
            },
            "type": "scattermapbox"
           }
          ],
          "scatterpolar": [
           {
            "marker": {
             "colorbar": {
              "outlinewidth": 0,
              "ticks": ""
             }
            },
            "type": "scatterpolar"
           }
          ],
          "scatterpolargl": [
           {
            "marker": {
             "colorbar": {
              "outlinewidth": 0,
              "ticks": ""
             }
            },
            "type": "scatterpolargl"
           }
          ],
          "scatterternary": [
           {
            "marker": {
             "colorbar": {
              "outlinewidth": 0,
              "ticks": ""
             }
            },
            "type": "scatterternary"
           }
          ],
          "surface": [
           {
            "colorbar": {
             "outlinewidth": 0,
             "ticks": ""
            },
            "colorscale": [
             [
              0,
              "#0d0887"
             ],
             [
              0.1111111111111111,
              "#46039f"
             ],
             [
              0.2222222222222222,
              "#7201a8"
             ],
             [
              0.3333333333333333,
              "#9c179e"
             ],
             [
              0.4444444444444444,
              "#bd3786"
             ],
             [
              0.5555555555555556,
              "#d8576b"
             ],
             [
              0.6666666666666666,
              "#ed7953"
             ],
             [
              0.7777777777777778,
              "#fb9f3a"
             ],
             [
              0.8888888888888888,
              "#fdca26"
             ],
             [
              1,
              "#f0f921"
             ]
            ],
            "type": "surface"
           }
          ],
          "table": [
           {
            "cells": {
             "fill": {
              "color": "#EBF0F8"
             },
             "line": {
              "color": "white"
             }
            },
            "header": {
             "fill": {
              "color": "#C8D4E3"
             },
             "line": {
              "color": "white"
             }
            },
            "type": "table"
           }
          ]
         },
         "layout": {
          "annotationdefaults": {
           "arrowcolor": "#2a3f5f",
           "arrowhead": 0,
           "arrowwidth": 1
          },
          "autotypenumbers": "strict",
          "coloraxis": {
           "colorbar": {
            "outlinewidth": 0,
            "ticks": ""
           }
          },
          "colorscale": {
           "diverging": [
            [
             0,
             "#8e0152"
            ],
            [
             0.1,
             "#c51b7d"
            ],
            [
             0.2,
             "#de77ae"
            ],
            [
             0.3,
             "#f1b6da"
            ],
            [
             0.4,
             "#fde0ef"
            ],
            [
             0.5,
             "#f7f7f7"
            ],
            [
             0.6,
             "#e6f5d0"
            ],
            [
             0.7,
             "#b8e186"
            ],
            [
             0.8,
             "#7fbc41"
            ],
            [
             0.9,
             "#4d9221"
            ],
            [
             1,
             "#276419"
            ]
           ],
           "sequential": [
            [
             0,
             "#0d0887"
            ],
            [
             0.1111111111111111,
             "#46039f"
            ],
            [
             0.2222222222222222,
             "#7201a8"
            ],
            [
             0.3333333333333333,
             "#9c179e"
            ],
            [
             0.4444444444444444,
             "#bd3786"
            ],
            [
             0.5555555555555556,
             "#d8576b"
            ],
            [
             0.6666666666666666,
             "#ed7953"
            ],
            [
             0.7777777777777778,
             "#fb9f3a"
            ],
            [
             0.8888888888888888,
             "#fdca26"
            ],
            [
             1,
             "#f0f921"
            ]
           ],
           "sequentialminus": [
            [
             0,
             "#0d0887"
            ],
            [
             0.1111111111111111,
             "#46039f"
            ],
            [
             0.2222222222222222,
             "#7201a8"
            ],
            [
             0.3333333333333333,
             "#9c179e"
            ],
            [
             0.4444444444444444,
             "#bd3786"
            ],
            [
             0.5555555555555556,
             "#d8576b"
            ],
            [
             0.6666666666666666,
             "#ed7953"
            ],
            [
             0.7777777777777778,
             "#fb9f3a"
            ],
            [
             0.8888888888888888,
             "#fdca26"
            ],
            [
             1,
             "#f0f921"
            ]
           ]
          },
          "colorway": [
           "#636efa",
           "#EF553B",
           "#00cc96",
           "#ab63fa",
           "#FFA15A",
           "#19d3f3",
           "#FF6692",
           "#B6E880",
           "#FF97FF",
           "#FECB52"
          ],
          "font": {
           "color": "#2a3f5f"
          },
          "geo": {
           "bgcolor": "white",
           "lakecolor": "white",
           "landcolor": "#E5ECF6",
           "showlakes": true,
           "showland": true,
           "subunitcolor": "white"
          },
          "hoverlabel": {
           "align": "left"
          },
          "hovermode": "closest",
          "mapbox": {
           "style": "light"
          },
          "paper_bgcolor": "white",
          "plot_bgcolor": "#E5ECF6",
          "polar": {
           "angularaxis": {
            "gridcolor": "white",
            "linecolor": "white",
            "ticks": ""
           },
           "bgcolor": "#E5ECF6",
           "radialaxis": {
            "gridcolor": "white",
            "linecolor": "white",
            "ticks": ""
           }
          },
          "scene": {
           "xaxis": {
            "backgroundcolor": "#E5ECF6",
            "gridcolor": "white",
            "gridwidth": 2,
            "linecolor": "white",
            "showbackground": true,
            "ticks": "",
            "zerolinecolor": "white"
           },
           "yaxis": {
            "backgroundcolor": "#E5ECF6",
            "gridcolor": "white",
            "gridwidth": 2,
            "linecolor": "white",
            "showbackground": true,
            "ticks": "",
            "zerolinecolor": "white"
           },
           "zaxis": {
            "backgroundcolor": "#E5ECF6",
            "gridcolor": "white",
            "gridwidth": 2,
            "linecolor": "white",
            "showbackground": true,
            "ticks": "",
            "zerolinecolor": "white"
           }
          },
          "shapedefaults": {
           "line": {
            "color": "#2a3f5f"
           }
          },
          "ternary": {
           "aaxis": {
            "gridcolor": "white",
            "linecolor": "white",
            "ticks": ""
           },
           "baxis": {
            "gridcolor": "white",
            "linecolor": "white",
            "ticks": ""
           },
           "bgcolor": "#E5ECF6",
           "caxis": {
            "gridcolor": "white",
            "linecolor": "white",
            "ticks": ""
           }
          },
          "title": {
           "x": 0.05
          },
          "xaxis": {
           "automargin": true,
           "gridcolor": "white",
           "linecolor": "white",
           "ticks": "",
           "title": {
            "standoff": 15
           },
           "zerolinecolor": "white",
           "zerolinewidth": 2
          },
          "yaxis": {
           "automargin": true,
           "gridcolor": "white",
           "linecolor": "white",
           "ticks": "",
           "title": {
            "standoff": 15
           },
           "zerolinecolor": "white",
           "zerolinewidth": 2
          }
         }
        },
        "width": 1000,
        "xaxis": {
         "color": "black",
         "linecolor": "black",
         "linewidth": 1.5,
         "mirror": "allticks",
         "showgrid": false,
         "showline": true,
         "ticklen": 10,
         "ticks": "inside",
         "tickwidth": 1.5,
         "title": {
          "text": "DFA"
         },
         "zeroline": false
        },
        "yaxis": {
         "color": "black",
         "linecolor": "black",
         "linewidth": 1.5,
         "mirror": "allticks",
         "showgrid": false,
         "showline": true,
         "ticklen": 10,
         "ticks": "inside",
         "tickwidth": 1.5,
         "title": {
          "text": "likelihood of top 5"
         },
         "zeroline": false
        }
       }
      },
      "text/html": [
       "<div>                            <div id=\"c397bd28-2fef-4cc4-894a-eb957cf40310\" class=\"plotly-graph-div\" style=\"height:500px; width:1000px;\"></div>            <script type=\"text/javascript\">                require([\"plotly\"], function(Plotly) {                    window.PLOTLYENV=window.PLOTLYENV || {};                                    if (document.getElementById(\"c397bd28-2fef-4cc4-894a-eb957cf40310\")) {                    Plotly.newPlot(                        \"c397bd28-2fef-4cc4-894a-eb957cf40310\",                        [{\"marker\":{\"color\":\"rgba(0, 0, 255, 0.5)\"},\"name\":\"rec\",\"x\":[\"mn15-l_hfx_50\",\"m06-l_hfx_40\",\"mn15-l_hfx_40\",\"m06-l_hfx_50\",\"scan_hfx_50\",\"scan_hfx_40\",\"pbe_hfx_50\",\"m06\",\"mn15-l_hfx_30\",\"mn15-l_hfx_10\",\"m06-2x\",\"pbe0-dh\",\"blyp_hfx_40\",\"pbe_hfx_30\",\"b2gpplyp\"],\"y\":[78.81709223553935,76.18551328817092,52.63157894736842,47.420531526836896,41.92287649817613,34.080250130276184,31.552892131318394,26.42001042209484,23.632100052110474,23.632100052110474,18.525273579989577,18.342886920270974,15.711307972902553,13.157894736842104,13.157894736842104],\"type\":\"bar\"},{\"marker\":{\"color\":\"rgba(0, 255, 0, 0.5)\"},\"name\":\"true\",\"x\":[\"mn15-l_hfx_50\",\"m06-l_hfx_40\",\"mn15-l_hfx_40\",\"m06-l_hfx_50\",\"scan_hfx_50\",\"scan_hfx_40\",\"pbe_hfx_50\",\"m06\",\"mn15-l_hfx_30\",\"mn15-l_hfx_10\",\"m06-2x\",\"pbe0-dh\",\"blyp_hfx_40\",\"pbe_hfx_30\",\"b2gpplyp\"],\"y\":[65.13809275664408,62.53256904637832,52.11047420531527,52.11047420531527,23.44971339239187,20.844189682126107,28.660760812923396,36.477331943720685,18.238665971860343,18.238665971860343,28.660760812923396,10.422094841063053,7.81657113079729,13.027618551328818,13.027618551328818],\"type\":\"bar\"}],                        {\"boxmode\":\"group\",\"font\":{\"color\":\"black\",\"family\":\"Helvetica\",\"size\":24},\"height\":500,\"legend\":{\"orientation\":\"v\"},\"margin\":{\"b\":100,\"l\":100,\"r\":10,\"t\":10},\"paper_bgcolor\":\"rgba(255,255,255,100)\",\"plot_bgcolor\":\"white\",\"template\":{\"data\":{\"barpolar\":[{\"marker\":{\"line\":{\"color\":\"#E5ECF6\",\"width\":0.5},\"pattern\":{\"fillmode\":\"overlay\",\"size\":10,\"solidity\":0.2}},\"type\":\"barpolar\"}],\"bar\":[{\"error_x\":{\"color\":\"#2a3f5f\"},\"error_y\":{\"color\":\"#2a3f5f\"},\"marker\":{\"line\":{\"color\":\"#E5ECF6\",\"width\":0.5},\"pattern\":{\"fillmode\":\"overlay\",\"size\":10,\"solidity\":0.2}},\"type\":\"bar\"}],\"carpet\":[{\"aaxis\":{\"endlinecolor\":\"#2a3f5f\",\"gridcolor\":\"white\",\"linecolor\":\"white\",\"minorgridcolor\":\"white\",\"startlinecolor\":\"#2a3f5f\"},\"baxis\":{\"endlinecolor\":\"#2a3f5f\",\"gridcolor\":\"white\",\"linecolor\":\"white\",\"minorgridcolor\":\"white\",\"startlinecolor\":\"#2a3f5f\"},\"type\":\"carpet\"}],\"choropleth\":[{\"colorbar\":{\"outlinewidth\":0,\"ticks\":\"\"},\"type\":\"choropleth\"}],\"contourcarpet\":[{\"colorbar\":{\"outlinewidth\":0,\"ticks\":\"\"},\"type\":\"contourcarpet\"}],\"contour\":[{\"colorbar\":{\"outlinewidth\":0,\"ticks\":\"\"},\"colorscale\":[[0.0,\"#0d0887\"],[0.1111111111111111,\"#46039f\"],[0.2222222222222222,\"#7201a8\"],[0.3333333333333333,\"#9c179e\"],[0.4444444444444444,\"#bd3786\"],[0.5555555555555556,\"#d8576b\"],[0.6666666666666666,\"#ed7953\"],[0.7777777777777778,\"#fb9f3a\"],[0.8888888888888888,\"#fdca26\"],[1.0,\"#f0f921\"]],\"type\":\"contour\"}],\"heatmapgl\":[{\"colorbar\":{\"outlinewidth\":0,\"ticks\":\"\"},\"colorscale\":[[0.0,\"#0d0887\"],[0.1111111111111111,\"#46039f\"],[0.2222222222222222,\"#7201a8\"],[0.3333333333333333,\"#9c179e\"],[0.4444444444444444,\"#bd3786\"],[0.5555555555555556,\"#d8576b\"],[0.6666666666666666,\"#ed7953\"],[0.7777777777777778,\"#fb9f3a\"],[0.8888888888888888,\"#fdca26\"],[1.0,\"#f0f921\"]],\"type\":\"heatmapgl\"}],\"heatmap\":[{\"colorbar\":{\"outlinewidth\":0,\"ticks\":\"\"},\"colorscale\":[[0.0,\"#0d0887\"],[0.1111111111111111,\"#46039f\"],[0.2222222222222222,\"#7201a8\"],[0.3333333333333333,\"#9c179e\"],[0.4444444444444444,\"#bd3786\"],[0.5555555555555556,\"#d8576b\"],[0.6666666666666666,\"#ed7953\"],[0.7777777777777778,\"#fb9f3a\"],[0.8888888888888888,\"#fdca26\"],[1.0,\"#f0f921\"]],\"type\":\"heatmap\"}],\"histogram2dcontour\":[{\"colorbar\":{\"outlinewidth\":0,\"ticks\":\"\"},\"colorscale\":[[0.0,\"#0d0887\"],[0.1111111111111111,\"#46039f\"],[0.2222222222222222,\"#7201a8\"],[0.3333333333333333,\"#9c179e\"],[0.4444444444444444,\"#bd3786\"],[0.5555555555555556,\"#d8576b\"],[0.6666666666666666,\"#ed7953\"],[0.7777777777777778,\"#fb9f3a\"],[0.8888888888888888,\"#fdca26\"],[1.0,\"#f0f921\"]],\"type\":\"histogram2dcontour\"}],\"histogram2d\":[{\"colorbar\":{\"outlinewidth\":0,\"ticks\":\"\"},\"colorscale\":[[0.0,\"#0d0887\"],[0.1111111111111111,\"#46039f\"],[0.2222222222222222,\"#7201a8\"],[0.3333333333333333,\"#9c179e\"],[0.4444444444444444,\"#bd3786\"],[0.5555555555555556,\"#d8576b\"],[0.6666666666666666,\"#ed7953\"],[0.7777777777777778,\"#fb9f3a\"],[0.8888888888888888,\"#fdca26\"],[1.0,\"#f0f921\"]],\"type\":\"histogram2d\"}],\"histogram\":[{\"marker\":{\"pattern\":{\"fillmode\":\"overlay\",\"size\":10,\"solidity\":0.2}},\"type\":\"histogram\"}],\"mesh3d\":[{\"colorbar\":{\"outlinewidth\":0,\"ticks\":\"\"},\"type\":\"mesh3d\"}],\"parcoords\":[{\"line\":{\"colorbar\":{\"outlinewidth\":0,\"ticks\":\"\"}},\"type\":\"parcoords\"}],\"pie\":[{\"automargin\":true,\"type\":\"pie\"}],\"scatter3d\":[{\"line\":{\"colorbar\":{\"outlinewidth\":0,\"ticks\":\"\"}},\"marker\":{\"colorbar\":{\"outlinewidth\":0,\"ticks\":\"\"}},\"type\":\"scatter3d\"}],\"scattercarpet\":[{\"marker\":{\"colorbar\":{\"outlinewidth\":0,\"ticks\":\"\"}},\"type\":\"scattercarpet\"}],\"scattergeo\":[{\"marker\":{\"colorbar\":{\"outlinewidth\":0,\"ticks\":\"\"}},\"type\":\"scattergeo\"}],\"scattergl\":[{\"marker\":{\"colorbar\":{\"outlinewidth\":0,\"ticks\":\"\"}},\"type\":\"scattergl\"}],\"scattermapbox\":[{\"marker\":{\"colorbar\":{\"outlinewidth\":0,\"ticks\":\"\"}},\"type\":\"scattermapbox\"}],\"scatterpolargl\":[{\"marker\":{\"colorbar\":{\"outlinewidth\":0,\"ticks\":\"\"}},\"type\":\"scatterpolargl\"}],\"scatterpolar\":[{\"marker\":{\"colorbar\":{\"outlinewidth\":0,\"ticks\":\"\"}},\"type\":\"scatterpolar\"}],\"scatter\":[{\"fillpattern\":{\"fillmode\":\"overlay\",\"size\":10,\"solidity\":0.2},\"type\":\"scatter\"}],\"scatterternary\":[{\"marker\":{\"colorbar\":{\"outlinewidth\":0,\"ticks\":\"\"}},\"type\":\"scatterternary\"}],\"surface\":[{\"colorbar\":{\"outlinewidth\":0,\"ticks\":\"\"},\"colorscale\":[[0.0,\"#0d0887\"],[0.1111111111111111,\"#46039f\"],[0.2222222222222222,\"#7201a8\"],[0.3333333333333333,\"#9c179e\"],[0.4444444444444444,\"#bd3786\"],[0.5555555555555556,\"#d8576b\"],[0.6666666666666666,\"#ed7953\"],[0.7777777777777778,\"#fb9f3a\"],[0.8888888888888888,\"#fdca26\"],[1.0,\"#f0f921\"]],\"type\":\"surface\"}],\"table\":[{\"cells\":{\"fill\":{\"color\":\"#EBF0F8\"},\"line\":{\"color\":\"white\"}},\"header\":{\"fill\":{\"color\":\"#C8D4E3\"},\"line\":{\"color\":\"white\"}},\"type\":\"table\"}]},\"layout\":{\"annotationdefaults\":{\"arrowcolor\":\"#2a3f5f\",\"arrowhead\":0,\"arrowwidth\":1},\"autotypenumbers\":\"strict\",\"coloraxis\":{\"colorbar\":{\"outlinewidth\":0,\"ticks\":\"\"}},\"colorscale\":{\"diverging\":[[0,\"#8e0152\"],[0.1,\"#c51b7d\"],[0.2,\"#de77ae\"],[0.3,\"#f1b6da\"],[0.4,\"#fde0ef\"],[0.5,\"#f7f7f7\"],[0.6,\"#e6f5d0\"],[0.7,\"#b8e186\"],[0.8,\"#7fbc41\"],[0.9,\"#4d9221\"],[1,\"#276419\"]],\"sequential\":[[0.0,\"#0d0887\"],[0.1111111111111111,\"#46039f\"],[0.2222222222222222,\"#7201a8\"],[0.3333333333333333,\"#9c179e\"],[0.4444444444444444,\"#bd3786\"],[0.5555555555555556,\"#d8576b\"],[0.6666666666666666,\"#ed7953\"],[0.7777777777777778,\"#fb9f3a\"],[0.8888888888888888,\"#fdca26\"],[1.0,\"#f0f921\"]],\"sequentialminus\":[[0.0,\"#0d0887\"],[0.1111111111111111,\"#46039f\"],[0.2222222222222222,\"#7201a8\"],[0.3333333333333333,\"#9c179e\"],[0.4444444444444444,\"#bd3786\"],[0.5555555555555556,\"#d8576b\"],[0.6666666666666666,\"#ed7953\"],[0.7777777777777778,\"#fb9f3a\"],[0.8888888888888888,\"#fdca26\"],[1.0,\"#f0f921\"]]},\"colorway\":[\"#636efa\",\"#EF553B\",\"#00cc96\",\"#ab63fa\",\"#FFA15A\",\"#19d3f3\",\"#FF6692\",\"#B6E880\",\"#FF97FF\",\"#FECB52\"],\"font\":{\"color\":\"#2a3f5f\"},\"geo\":{\"bgcolor\":\"white\",\"lakecolor\":\"white\",\"landcolor\":\"#E5ECF6\",\"showlakes\":true,\"showland\":true,\"subunitcolor\":\"white\"},\"hoverlabel\":{\"align\":\"left\"},\"hovermode\":\"closest\",\"mapbox\":{\"style\":\"light\"},\"paper_bgcolor\":\"white\",\"plot_bgcolor\":\"#E5ECF6\",\"polar\":{\"angularaxis\":{\"gridcolor\":\"white\",\"linecolor\":\"white\",\"ticks\":\"\"},\"bgcolor\":\"#E5ECF6\",\"radialaxis\":{\"gridcolor\":\"white\",\"linecolor\":\"white\",\"ticks\":\"\"}},\"scene\":{\"xaxis\":{\"backgroundcolor\":\"#E5ECF6\",\"gridcolor\":\"white\",\"gridwidth\":2,\"linecolor\":\"white\",\"showbackground\":true,\"ticks\":\"\",\"zerolinecolor\":\"white\"},\"yaxis\":{\"backgroundcolor\":\"#E5ECF6\",\"gridcolor\":\"white\",\"gridwidth\":2,\"linecolor\":\"white\",\"showbackground\":true,\"ticks\":\"\",\"zerolinecolor\":\"white\"},\"zaxis\":{\"backgroundcolor\":\"#E5ECF6\",\"gridcolor\":\"white\",\"gridwidth\":2,\"linecolor\":\"white\",\"showbackground\":true,\"ticks\":\"\",\"zerolinecolor\":\"white\"}},\"shapedefaults\":{\"line\":{\"color\":\"#2a3f5f\"}},\"ternary\":{\"aaxis\":{\"gridcolor\":\"white\",\"linecolor\":\"white\",\"ticks\":\"\"},\"baxis\":{\"gridcolor\":\"white\",\"linecolor\":\"white\",\"ticks\":\"\"},\"bgcolor\":\"#E5ECF6\",\"caxis\":{\"gridcolor\":\"white\",\"linecolor\":\"white\",\"ticks\":\"\"}},\"title\":{\"x\":0.05},\"xaxis\":{\"automargin\":true,\"gridcolor\":\"white\",\"linecolor\":\"white\",\"ticks\":\"\",\"title\":{\"standoff\":15},\"zerolinecolor\":\"white\",\"zerolinewidth\":2},\"yaxis\":{\"automargin\":true,\"gridcolor\":\"white\",\"linecolor\":\"white\",\"ticks\":\"\",\"title\":{\"standoff\":15},\"zerolinecolor\":\"white\",\"zerolinewidth\":2}}},\"width\":1000,\"xaxis\":{\"color\":\"black\",\"linecolor\":\"black\",\"linewidth\":1.5,\"mirror\":\"allticks\",\"showgrid\":false,\"showline\":true,\"ticklen\":10,\"ticks\":\"inside\",\"tickwidth\":1.5,\"title\":{\"text\":\"DFA\"},\"zeroline\":false},\"yaxis\":{\"color\":\"black\",\"linecolor\":\"black\",\"linewidth\":1.5,\"mirror\":\"allticks\",\"showgrid\":false,\"showline\":true,\"ticklen\":10,\"ticks\":\"inside\",\"tickwidth\":1.5,\"title\":{\"text\":\"likelihood of top 5\"},\"zeroline\":false}},                        {\"responsive\": true}                    ).then(function(){\n",
       "                            \n",
       "var gd = document.getElementById('c397bd28-2fef-4cc4-894a-eb957cf40310');\n",
       "var x = new MutationObserver(function (mutations, observer) {{\n",
       "        var display = window.getComputedStyle(gd).display;\n",
       "        if (!display || display === 'none') {{\n",
       "            console.log([gd, 'removed!']);\n",
       "            Plotly.purge(gd);\n",
       "            observer.disconnect();\n",
       "        }}\n",
       "}});\n",
       "\n",
       "// Listen for the removal of the full notebook cells\n",
       "var notebookContainer = gd.closest('#notebook-container');\n",
       "if (notebookContainer) {{\n",
       "    x.observe(notebookContainer, {childList: true});\n",
       "}}\n",
       "\n",
       "// Listen for the clearing of the current output cell\n",
       "var outputEl = gd.closest('.output');\n",
       "if (outputEl) {{\n",
       "    x.observe(outputEl, {childList: true});\n",
       "}}\n",
       "\n",
       "                        })                };                });            </script>        </div>"
      ]
     },
     "metadata": {},
     "output_type": "display_data"
    },
    {
     "data": {
      "text/plain": [
       "38"
      ]
     },
     "execution_count": 94,
     "metadata": {},
     "output_type": "execute_result"
    }
   ],
   "source": [
    "### ----top-5----\n",
    "cutoff = 15\n",
    "top5_bfs = {}\n",
    "_df_sel_top = df_sel_top[df_sel_top[\"metal\"] == \"mn\"]\n",
    "for f in functionals:\n",
    "    top5_bfs[f] = 0\n",
    "for _, row in _df_sel_top.iterrows():\n",
    "    for f in row[\"best_fs\"]:\n",
    "        top5_bfs[f] += 1\n",
    "true_top5_bfs = {}\n",
    "for f in functionals:\n",
    "    true_top5_bfs[f] = 0\n",
    "for _, row in _df_sel_top.iterrows():\n",
    "    for f in row[\"true_best_fs\"]:\n",
    "        true_top5_bfs[f] += 1\n",
    "        \n",
    "for f in top5_bfs:\n",
    "    top5_bfs[f] += true_top5_bfs[f]*0.01\n",
    "\n",
    "from collections import Counter\n",
    "bfs = dict(sorted(top5_bfs.items(), key=lambda item: item[1], reverse=True))\n",
    "use_bfs_true = {}\n",
    "for f in list(bfs.keys())[:cutoff]:\n",
    "    use_bfs_true[f] = true_top5_bfs[f]\n",
    "data = [go.Bar(x=list(bfs.keys())[:cutoff],\n",
    "               y=np.array(list(bfs.values()))[:cutoff]*600./np.sum(list(bfs.values())), name='rec', marker_color='rgba(0, 0, 255, 0.5)'),\n",
    "        go.Bar(x=list(use_bfs_true.keys()),\n",
    "               y=np.array(list(use_bfs_true.values()))*600./np.sum(list(bfs.values())), name='true', marker_color='rgba(0, 255, 0, 0.5)'),\n",
    "       ]\n",
    "layout = go.Layout()\n",
    "layout.update(glob_layout)\n",
    "layout[\"xaxis\"].update({'title': \"DFA\"})\n",
    "layout[\"yaxis\"].update({'title': \"likelihood of top 5\", })\n",
    "layout.update(width=1000, height=500, boxmode='group')\n",
    "fig = dict(data=data, layout=layout)\n",
    "iplot(fig)\n",
    "len(_df_sel_top)"
   ]
  },
  {
   "cell_type": "code",
   "execution_count": 95,
   "metadata": {},
   "outputs": [
    {
     "data": {
      "text/plain": [
       "SpearmanrResult(correlation=0.9382081686429512, pvalue=1.964287320133818e-21)"
      ]
     },
     "execution_count": 95,
     "metadata": {},
     "output_type": "execute_result"
    }
   ],
   "source": [
    "#---Calculate rank ordering of the recommender selected DFAs and the ground truth---\n",
    "TL_ranked_DFAs = list(bfs.keys())\n",
    "bfs_true = dict(sorted(true_top5_bfs.items(), key=lambda item: item[1], reverse=True))\n",
    "l1 = [ii for ii, _ in enumerate(list(bfs_true.keys()))]\n",
    "l2 = [list(TL_ranked_DFAs).index(f) for f in list(bfs_true.keys())]\n",
    "spearmanr(l1, l2)"
   ]
  },
  {
   "cell_type": "code",
   "execution_count": null,
   "metadata": {},
   "outputs": [],
   "source": []
  }
 ],
 "metadata": {
  "interpreter": {
   "hash": "5fa7bb0cfb890cb2a4de35aa357566cef819d26e492eb32f921a3a3c7e0592ac"
  },
  "kernelspec": {
   "display_name": "Python 3.7.13 ('dfa_rec')",
   "language": "python",
   "name": "python3"
  },
  "language_info": {
   "codemirror_mode": {
    "name": "ipython",
    "version": 3
   },
   "file_extension": ".py",
   "mimetype": "text/x-python",
   "name": "python",
   "nbconvert_exporter": "python",
   "pygments_lexer": "ipython3",
   "version": "3.7.13"
  },
  "orig_nbformat": 4
 },
 "nbformat": 4,
 "nbformat_minor": 2
}
