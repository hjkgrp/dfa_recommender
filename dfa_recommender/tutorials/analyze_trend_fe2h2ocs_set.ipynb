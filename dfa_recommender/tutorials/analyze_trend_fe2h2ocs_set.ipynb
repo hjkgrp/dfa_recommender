{
 "cells": [
  {
   "cell_type": "code",
   "execution_count": 1,
   "metadata": {},
   "outputs": [],
   "source": [
    "import numpy as np\n",
    "import pandas as pd\n",
    "import json\n",
    "import pickle\n",
    "from sklearn.metrics import r2_score, mean_absolute_error\n",
    "from scipy.stats import pearsonr\n",
    "import copy"
   ]
  },
  {
   "cell_type": "markdown",
   "metadata": {},
   "source": [
    "##### load for plotting (with plotly)"
   ]
  },
  {
   "cell_type": "code",
   "execution_count": 2,
   "metadata": {},
   "outputs": [
    {
     "data": {
      "text/html": [
       "        <script type=\"text/javascript\">\n",
       "        window.PlotlyConfig = {MathJaxConfig: 'local'};\n",
       "        if (window.MathJax) {MathJax.Hub.Config({SVG: {font: \"STIX-Web\"}});}\n",
       "        if (typeof require !== 'undefined') {\n",
       "        require.undef(\"plotly\");\n",
       "        requirejs.config({\n",
       "            paths: {\n",
       "                'plotly': ['https://cdn.plot.ly/plotly-2.11.1.min']\n",
       "            }\n",
       "        });\n",
       "        require(['plotly'], function(Plotly) {\n",
       "            window._Plotly = Plotly;\n",
       "        });\n",
       "        }\n",
       "        </script>\n",
       "        "
      ]
     },
     "metadata": {},
     "output_type": "display_data"
    }
   ],
   "source": [
    "from _plotly_future_ import v4_subplots\n",
    "import plotly.graph_objs as go\n",
    "import plotly\n",
    "import plotly.express as px\n",
    "from plotly.offline import download_plotlyjs, init_notebook_mode, plot, iplot\n",
    "import plotly.figure_factory as ff\n",
    "plotly.io.orca.config.executable = '/Users/chenruduan/opt/anaconda3/envs/mols_newplotly/bin/orca'\n",
    "init_notebook_mode(connected=True)\n",
    "glob_layout = go.Layout(\n",
    "    font=dict(family='Helvetica', size=24, color='black'),\n",
    "    margin=dict(l=100, r=10, t=10, b=100),\n",
    "    xaxis=dict(showgrid=False,  zeroline=False, ticks=\"inside\", showline=True,\n",
    "               tickwidth=1.5, linewidth=1.5, ticklen=10, linecolor='black',\n",
    "               mirror=\"allticks\", color=\"black\"),\n",
    "    yaxis=dict(showgrid=False,  zeroline=False, ticks=\"inside\", showline=True,\n",
    "               tickwidth=1.5, linewidth=1.5, ticklen=10, linecolor='black',\n",
    "               mirror=\"allticks\", color=\"black\"),\n",
    "    legend_orientation=\"v\",\n",
    "    paper_bgcolor='rgba(255,255,255,100)',\n",
    "    plot_bgcolor='white',\n",
    ")\n",
    "blue = \"rgba(0, 0, 255, 1)\"\n",
    "red = \"rgba(255, 0, 0, 1)\"\n",
    "green = \"rgba(0, 196, 64, 1)\"\n",
    "gray = \"rgba(140, 140, 140, 1)\""
   ]
  },
  {
   "cell_type": "markdown",
   "metadata": {},
   "source": [
    "##### load for ML parts "
   ]
  },
  {
   "cell_type": "code",
   "execution_count": 3,
   "metadata": {},
   "outputs": [],
   "source": [
    "from dfa_recommender.net import GatedNetwork, MySoftplus, TiledMultiLayerNN, MLP, finalMLP, ElementalGate\n",
    "from dfa_recommender.dataset import SubsetDataset\n",
    "from dfa_recommender.sampler import InfiniteSampler\n",
    "from dfa_recommender.ml_utils import numpy_to_dataset\n",
    "import torch\n",
    "from torch.utils.data import DataLoader"
   ]
  },
  {
   "cell_type": "markdown",
   "metadata": {},
   "source": [
    "##### DFAs that we considered"
   ]
  },
  {
   "cell_type": "code",
   "execution_count": 26,
   "metadata": {},
   "outputs": [],
   "source": [
    "base_keys = [\"name\", \"path\", \"metal\",]\n",
    "functionals = [\n",
    "    \"bp86\", \"blyp\", \"pbe\",\n",
    "    \"tpss\", \"scan\", \"m06-l\", \"mn15-l\",\n",
    "    \"b3p86\", \"b3pw91\", \"b3lyp\",\n",
    "    \"tpssh\", \"scan0\", \"m06\", \"m06-2x\",\n",
    "    \"wb97x\", \"LRC-wPBEh\",\n",
    "    \"b2gpplyp\", \"pbe0-dh\", \"dsd-blyp-d3bj\", \"dsd-pbeb95-d3bj\", \"dsd-pbep86-d3bj\",\n",
    "]\n",
    "functionals += [\"blyp_hfx_10\", \"blyp_hfx_20\", \"blyp_hfx_30\", \"blyp_hfx_40\", \"blyp_hfx_50\",\n",
    "                \"pbe_hfx_10\", \"pbe_hfx_20\", \"pbe_hfx_40\", \"pbe_hfx_50\",   \n",
    "                \"scan_hfx_10\", \"scan_hfx_20\", \"scan_hfx_30\", \"scan_hfx_40\", \"scan_hfx_50\", \n",
    "                \"m06-l_hfx_10\", \"m06-l_hfx_30\", \"m06-l_hfx_40\", \"m06-l_hfx_50\", \n",
    "                \"mn15-l_hfx_10\", \"mn15-l_hfx_20\", \"mn15-l_hfx_30\", \"mn15-l_hfx_50\"]\n",
    "len(functionals)\n",
    "all_functionals = copy.deepcopy(functionals)"
   ]
  },
  {
   "cell_type": "markdown",
   "metadata": {},
   "source": [
    "### Basic ground truth stats"
   ]
  },
  {
   "cell_type": "code",
   "execution_count": 6,
   "metadata": {},
   "outputs": [],
   "source": [
    "from pkg_resources import resource_filename, Requirement\n",
    "basepath = resource_filename(Requirement.parse(\"dfa_recommender\"), \"/dfa_recommender/data/\")"
   ]
  },
  {
   "cell_type": "code",
   "execution_count": 7,
   "metadata": {},
   "outputs": [
    {
     "data": {
      "text/plain": [
       "[6, 5, 4, 4, 3, 3, 2, 2, 1, 0]"
      ]
     },
     "execution_count": 7,
     "metadata": {},
     "output_type": "execute_result"
    }
   ],
   "source": [
    "df = pd.read_csv(basepath + \"/fe2_h2o_cs_res.csv\") ## csv file that stores the compuated vert SSE values at different methods (CSD data)\n",
    "\n",
    "nCS = []\n",
    "for name in df[\"name\"].values:\n",
    "    nCS.append(name.count(\"CS\"))\n",
    "df[\"nCS\"] = nCS\n",
    "nCS"
   ]
  },
  {
   "cell_type": "markdown",
   "metadata": {},
   "source": [
    "##### sanity check on ligand fields"
   ]
  },
  {
   "cell_type": "code",
   "execution_count": 27,
   "metadata": {},
   "outputs": [
    {
     "data": {
      "application/vnd.plotly.v1+json": {
       "config": {
        "linkText": "Export to plot.ly",
        "plotlyServerURL": "https://plot.ly",
        "showLink": false
       },
       "data": [
        {
         "marker": {
          "size": 8,
          "symbol": "circle"
         },
         "mode": "markers",
         "name": "dlpno-CCSD_T",
         "opacity": 1,
         "showlegend": true,
         "text": [
          "fe_oct_2_CS_1_CS_1_CS_1_CS_1_CS_1_CS_1_s_1_conf_1",
          "fe_oct_2_CS_1_CS_1_CS_1_CS_1_CS_1_water_1_s_1_conf_1",
          "fe_oct_2_CS_1_CS_1_CS_1_CS_1_water_1_water_1_s_1_conf_1",
          "fe_oct_2_CS_1_CS_1_CS_1_water_1_CS_1_water_1_s_1_conf_1",
          "fe_oct_2_water_1_water_1_CS_1_CS_1_water_1_CS_1_s_1_conf_1",
          "fe_oct_2_water_1_water_1_water_1_CS_1_CS_1_CS_1_s_1_conf_1",
          "fe_oct_2_water_1_water_1_water_1_CS_1_water_1_CS_1_s_1_conf_1",
          "fe_oct_2_water_1_water_1_water_1_water_1_CS_1_CS_1_s_1_conf_1",
          "fe_oct_2_water_1_water_1_water_1_water_1_water_1_CS_1_s_1_conf_1",
          "fe_oct_2_water_1_water_1_water_1_water_1_water_1_water_1_s_1_conf_1"
         ],
         "type": "scatter",
         "x": [
          6,
          5,
          4,
          4,
          3,
          3,
          2,
          2,
          1,
          0
         ],
         "y": [
          -20.936849367485596,
          -28.67506641711998,
          -38.97067101249036,
          -35.391545297402445,
          -39.14229100796206,
          -41.82187350987874,
          -44.54708530235166,
          -47.71514769001669,
          -49.88318842752278,
          -54.47945399236687
         ]
        },
        {
         "marker": {
          "size": 8,
          "symbol": "circle"
         },
         "mode": "markers",
         "name": "blyp",
         "opacity": 1,
         "showlegend": true,
         "text": [
          "fe_oct_2_CS_1_CS_1_CS_1_CS_1_CS_1_CS_1_s_1_conf_1",
          "fe_oct_2_CS_1_CS_1_CS_1_CS_1_CS_1_water_1_s_1_conf_1",
          "fe_oct_2_CS_1_CS_1_CS_1_CS_1_water_1_water_1_s_1_conf_1",
          "fe_oct_2_CS_1_CS_1_CS_1_water_1_CS_1_water_1_s_1_conf_1",
          "fe_oct_2_water_1_water_1_CS_1_CS_1_water_1_CS_1_s_1_conf_1",
          "fe_oct_2_water_1_water_1_water_1_CS_1_CS_1_CS_1_s_1_conf_1",
          "fe_oct_2_water_1_water_1_water_1_CS_1_water_1_CS_1_s_1_conf_1",
          "fe_oct_2_water_1_water_1_water_1_water_1_CS_1_CS_1_s_1_conf_1",
          "fe_oct_2_water_1_water_1_water_1_water_1_water_1_CS_1_s_1_conf_1",
          "fe_oct_2_water_1_water_1_water_1_water_1_water_1_water_1_s_1_conf_1"
         ],
         "type": "scatter",
         "x": [
          6,
          5,
          4,
          4,
          3,
          3,
          2,
          2,
          1,
          0
         ],
         "y": [
          27.78652779933509,
          15.466432607240677,
          0.0600680786510565,
          5.373311542387,
          -0.3220317827515373,
          -5.988128425778996,
          -10.320274501539188,
          -16.847063235089763,
          -20.070133219393256,
          -28.37065979081956
         ]
        },
        {
         "marker": {
          "size": 8,
          "symbol": "circle"
         },
         "mode": "markers",
         "name": "b3lyp",
         "opacity": 1,
         "showlegend": true,
         "text": [
          "fe_oct_2_CS_1_CS_1_CS_1_CS_1_CS_1_CS_1_s_1_conf_1",
          "fe_oct_2_CS_1_CS_1_CS_1_CS_1_CS_1_water_1_s_1_conf_1",
          "fe_oct_2_CS_1_CS_1_CS_1_CS_1_water_1_water_1_s_1_conf_1",
          "fe_oct_2_CS_1_CS_1_CS_1_water_1_CS_1_water_1_s_1_conf_1",
          "fe_oct_2_water_1_water_1_CS_1_CS_1_water_1_CS_1_s_1_conf_1",
          "fe_oct_2_water_1_water_1_water_1_CS_1_CS_1_CS_1_s_1_conf_1",
          "fe_oct_2_water_1_water_1_water_1_CS_1_water_1_CS_1_s_1_conf_1",
          "fe_oct_2_water_1_water_1_water_1_water_1_CS_1_CS_1_s_1_conf_1",
          "fe_oct_2_water_1_water_1_water_1_water_1_water_1_CS_1_s_1_conf_1",
          "fe_oct_2_water_1_water_1_water_1_water_1_water_1_water_1_s_1_conf_1"
         ],
         "type": "scatter",
         "x": [
          6,
          5,
          4,
          4,
          3,
          3,
          2,
          2,
          1,
          0
         ],
         "y": [
          0.329696105691255,
          -8.606618926261262,
          -20.009897954709004,
          -16.129363863789195,
          -20.403523491232814,
          -23.962489708184197,
          -27.108834157876345,
          -31.21486850327869,
          -33.67297726548259,
          -39.34535261424344
         ]
        },
        {
         "marker": {
          "size": 8,
          "symbol": "circle"
         },
         "mode": "markers",
         "name": "blyp_hfx_50",
         "opacity": 1,
         "showlegend": true,
         "text": [
          "fe_oct_2_CS_1_CS_1_CS_1_CS_1_CS_1_CS_1_s_1_conf_1",
          "fe_oct_2_CS_1_CS_1_CS_1_CS_1_CS_1_water_1_s_1_conf_1",
          "fe_oct_2_CS_1_CS_1_CS_1_CS_1_water_1_water_1_s_1_conf_1",
          "fe_oct_2_CS_1_CS_1_CS_1_water_1_CS_1_water_1_s_1_conf_1",
          "fe_oct_2_water_1_water_1_CS_1_CS_1_water_1_CS_1_s_1_conf_1",
          "fe_oct_2_water_1_water_1_water_1_CS_1_CS_1_CS_1_s_1_conf_1",
          "fe_oct_2_water_1_water_1_water_1_CS_1_water_1_CS_1_s_1_conf_1",
          "fe_oct_2_water_1_water_1_water_1_water_1_CS_1_CS_1_s_1_conf_1",
          "fe_oct_2_water_1_water_1_water_1_water_1_water_1_CS_1_s_1_conf_1",
          "fe_oct_2_water_1_water_1_water_1_water_1_water_1_water_1_s_1_conf_1"
         ],
         "type": "scatter",
         "x": [
          6,
          5,
          4,
          4,
          3,
          3,
          2,
          2,
          1,
          0
         ],
         "y": [
          -24.776592151957857,
          -30.849108696626217,
          -39.34540486883179,
          -36.28166928045289,
          -39.394082524718215,
          -41.654715545811314,
          -43.85004489735479,
          -46.5295416261506,
          -48.41553760094371,
          -52.40690753488707
         ]
        }
       ],
       "layout": {
        "font": {
         "color": "black",
         "family": "Helvetica",
         "size": 24
        },
        "height": 500,
        "legend": {
         "bgcolor": "rgba(0,0,0,0)",
         "orientation": "v",
         "x": 1,
         "y": 1
        },
        "margin": {
         "b": 100,
         "l": 100,
         "r": 10,
         "t": 10
        },
        "paper_bgcolor": "rgba(255,255,255,100)",
        "plot_bgcolor": "white",
        "showlegend": true,
        "template": {
         "data": {
          "bar": [
           {
            "error_x": {
             "color": "#2a3f5f"
            },
            "error_y": {
             "color": "#2a3f5f"
            },
            "marker": {
             "line": {
              "color": "#E5ECF6",
              "width": 0.5
             },
             "pattern": {
              "fillmode": "overlay",
              "size": 10,
              "solidity": 0.2
             }
            },
            "type": "bar"
           }
          ],
          "barpolar": [
           {
            "marker": {
             "line": {
              "color": "#E5ECF6",
              "width": 0.5
             },
             "pattern": {
              "fillmode": "overlay",
              "size": 10,
              "solidity": 0.2
             }
            },
            "type": "barpolar"
           }
          ],
          "carpet": [
           {
            "aaxis": {
             "endlinecolor": "#2a3f5f",
             "gridcolor": "white",
             "linecolor": "white",
             "minorgridcolor": "white",
             "startlinecolor": "#2a3f5f"
            },
            "baxis": {
             "endlinecolor": "#2a3f5f",
             "gridcolor": "white",
             "linecolor": "white",
             "minorgridcolor": "white",
             "startlinecolor": "#2a3f5f"
            },
            "type": "carpet"
           }
          ],
          "choropleth": [
           {
            "colorbar": {
             "outlinewidth": 0,
             "ticks": ""
            },
            "type": "choropleth"
           }
          ],
          "contour": [
           {
            "colorbar": {
             "outlinewidth": 0,
             "ticks": ""
            },
            "colorscale": [
             [
              0,
              "#0d0887"
             ],
             [
              0.1111111111111111,
              "#46039f"
             ],
             [
              0.2222222222222222,
              "#7201a8"
             ],
             [
              0.3333333333333333,
              "#9c179e"
             ],
             [
              0.4444444444444444,
              "#bd3786"
             ],
             [
              0.5555555555555556,
              "#d8576b"
             ],
             [
              0.6666666666666666,
              "#ed7953"
             ],
             [
              0.7777777777777778,
              "#fb9f3a"
             ],
             [
              0.8888888888888888,
              "#fdca26"
             ],
             [
              1,
              "#f0f921"
             ]
            ],
            "type": "contour"
           }
          ],
          "contourcarpet": [
           {
            "colorbar": {
             "outlinewidth": 0,
             "ticks": ""
            },
            "type": "contourcarpet"
           }
          ],
          "heatmap": [
           {
            "colorbar": {
             "outlinewidth": 0,
             "ticks": ""
            },
            "colorscale": [
             [
              0,
              "#0d0887"
             ],
             [
              0.1111111111111111,
              "#46039f"
             ],
             [
              0.2222222222222222,
              "#7201a8"
             ],
             [
              0.3333333333333333,
              "#9c179e"
             ],
             [
              0.4444444444444444,
              "#bd3786"
             ],
             [
              0.5555555555555556,
              "#d8576b"
             ],
             [
              0.6666666666666666,
              "#ed7953"
             ],
             [
              0.7777777777777778,
              "#fb9f3a"
             ],
             [
              0.8888888888888888,
              "#fdca26"
             ],
             [
              1,
              "#f0f921"
             ]
            ],
            "type": "heatmap"
           }
          ],
          "heatmapgl": [
           {
            "colorbar": {
             "outlinewidth": 0,
             "ticks": ""
            },
            "colorscale": [
             [
              0,
              "#0d0887"
             ],
             [
              0.1111111111111111,
              "#46039f"
             ],
             [
              0.2222222222222222,
              "#7201a8"
             ],
             [
              0.3333333333333333,
              "#9c179e"
             ],
             [
              0.4444444444444444,
              "#bd3786"
             ],
             [
              0.5555555555555556,
              "#d8576b"
             ],
             [
              0.6666666666666666,
              "#ed7953"
             ],
             [
              0.7777777777777778,
              "#fb9f3a"
             ],
             [
              0.8888888888888888,
              "#fdca26"
             ],
             [
              1,
              "#f0f921"
             ]
            ],
            "type": "heatmapgl"
           }
          ],
          "histogram": [
           {
            "marker": {
             "pattern": {
              "fillmode": "overlay",
              "size": 10,
              "solidity": 0.2
             }
            },
            "type": "histogram"
           }
          ],
          "histogram2d": [
           {
            "colorbar": {
             "outlinewidth": 0,
             "ticks": ""
            },
            "colorscale": [
             [
              0,
              "#0d0887"
             ],
             [
              0.1111111111111111,
              "#46039f"
             ],
             [
              0.2222222222222222,
              "#7201a8"
             ],
             [
              0.3333333333333333,
              "#9c179e"
             ],
             [
              0.4444444444444444,
              "#bd3786"
             ],
             [
              0.5555555555555556,
              "#d8576b"
             ],
             [
              0.6666666666666666,
              "#ed7953"
             ],
             [
              0.7777777777777778,
              "#fb9f3a"
             ],
             [
              0.8888888888888888,
              "#fdca26"
             ],
             [
              1,
              "#f0f921"
             ]
            ],
            "type": "histogram2d"
           }
          ],
          "histogram2dcontour": [
           {
            "colorbar": {
             "outlinewidth": 0,
             "ticks": ""
            },
            "colorscale": [
             [
              0,
              "#0d0887"
             ],
             [
              0.1111111111111111,
              "#46039f"
             ],
             [
              0.2222222222222222,
              "#7201a8"
             ],
             [
              0.3333333333333333,
              "#9c179e"
             ],
             [
              0.4444444444444444,
              "#bd3786"
             ],
             [
              0.5555555555555556,
              "#d8576b"
             ],
             [
              0.6666666666666666,
              "#ed7953"
             ],
             [
              0.7777777777777778,
              "#fb9f3a"
             ],
             [
              0.8888888888888888,
              "#fdca26"
             ],
             [
              1,
              "#f0f921"
             ]
            ],
            "type": "histogram2dcontour"
           }
          ],
          "mesh3d": [
           {
            "colorbar": {
             "outlinewidth": 0,
             "ticks": ""
            },
            "type": "mesh3d"
           }
          ],
          "parcoords": [
           {
            "line": {
             "colorbar": {
              "outlinewidth": 0,
              "ticks": ""
             }
            },
            "type": "parcoords"
           }
          ],
          "pie": [
           {
            "automargin": true,
            "type": "pie"
           }
          ],
          "scatter": [
           {
            "fillpattern": {
             "fillmode": "overlay",
             "size": 10,
             "solidity": 0.2
            },
            "type": "scatter"
           }
          ],
          "scatter3d": [
           {
            "line": {
             "colorbar": {
              "outlinewidth": 0,
              "ticks": ""
             }
            },
            "marker": {
             "colorbar": {
              "outlinewidth": 0,
              "ticks": ""
             }
            },
            "type": "scatter3d"
           }
          ],
          "scattercarpet": [
           {
            "marker": {
             "colorbar": {
              "outlinewidth": 0,
              "ticks": ""
             }
            },
            "type": "scattercarpet"
           }
          ],
          "scattergeo": [
           {
            "marker": {
             "colorbar": {
              "outlinewidth": 0,
              "ticks": ""
             }
            },
            "type": "scattergeo"
           }
          ],
          "scattergl": [
           {
            "marker": {
             "colorbar": {
              "outlinewidth": 0,
              "ticks": ""
             }
            },
            "type": "scattergl"
           }
          ],
          "scattermapbox": [
           {
            "marker": {
             "colorbar": {
              "outlinewidth": 0,
              "ticks": ""
             }
            },
            "type": "scattermapbox"
           }
          ],
          "scatterpolar": [
           {
            "marker": {
             "colorbar": {
              "outlinewidth": 0,
              "ticks": ""
             }
            },
            "type": "scatterpolar"
           }
          ],
          "scatterpolargl": [
           {
            "marker": {
             "colorbar": {
              "outlinewidth": 0,
              "ticks": ""
             }
            },
            "type": "scatterpolargl"
           }
          ],
          "scatterternary": [
           {
            "marker": {
             "colorbar": {
              "outlinewidth": 0,
              "ticks": ""
             }
            },
            "type": "scatterternary"
           }
          ],
          "surface": [
           {
            "colorbar": {
             "outlinewidth": 0,
             "ticks": ""
            },
            "colorscale": [
             [
              0,
              "#0d0887"
             ],
             [
              0.1111111111111111,
              "#46039f"
             ],
             [
              0.2222222222222222,
              "#7201a8"
             ],
             [
              0.3333333333333333,
              "#9c179e"
             ],
             [
              0.4444444444444444,
              "#bd3786"
             ],
             [
              0.5555555555555556,
              "#d8576b"
             ],
             [
              0.6666666666666666,
              "#ed7953"
             ],
             [
              0.7777777777777778,
              "#fb9f3a"
             ],
             [
              0.8888888888888888,
              "#fdca26"
             ],
             [
              1,
              "#f0f921"
             ]
            ],
            "type": "surface"
           }
          ],
          "table": [
           {
            "cells": {
             "fill": {
              "color": "#EBF0F8"
             },
             "line": {
              "color": "white"
             }
            },
            "header": {
             "fill": {
              "color": "#C8D4E3"
             },
             "line": {
              "color": "white"
             }
            },
            "type": "table"
           }
          ]
         },
         "layout": {
          "annotationdefaults": {
           "arrowcolor": "#2a3f5f",
           "arrowhead": 0,
           "arrowwidth": 1
          },
          "autotypenumbers": "strict",
          "coloraxis": {
           "colorbar": {
            "outlinewidth": 0,
            "ticks": ""
           }
          },
          "colorscale": {
           "diverging": [
            [
             0,
             "#8e0152"
            ],
            [
             0.1,
             "#c51b7d"
            ],
            [
             0.2,
             "#de77ae"
            ],
            [
             0.3,
             "#f1b6da"
            ],
            [
             0.4,
             "#fde0ef"
            ],
            [
             0.5,
             "#f7f7f7"
            ],
            [
             0.6,
             "#e6f5d0"
            ],
            [
             0.7,
             "#b8e186"
            ],
            [
             0.8,
             "#7fbc41"
            ],
            [
             0.9,
             "#4d9221"
            ],
            [
             1,
             "#276419"
            ]
           ],
           "sequential": [
            [
             0,
             "#0d0887"
            ],
            [
             0.1111111111111111,
             "#46039f"
            ],
            [
             0.2222222222222222,
             "#7201a8"
            ],
            [
             0.3333333333333333,
             "#9c179e"
            ],
            [
             0.4444444444444444,
             "#bd3786"
            ],
            [
             0.5555555555555556,
             "#d8576b"
            ],
            [
             0.6666666666666666,
             "#ed7953"
            ],
            [
             0.7777777777777778,
             "#fb9f3a"
            ],
            [
             0.8888888888888888,
             "#fdca26"
            ],
            [
             1,
             "#f0f921"
            ]
           ],
           "sequentialminus": [
            [
             0,
             "#0d0887"
            ],
            [
             0.1111111111111111,
             "#46039f"
            ],
            [
             0.2222222222222222,
             "#7201a8"
            ],
            [
             0.3333333333333333,
             "#9c179e"
            ],
            [
             0.4444444444444444,
             "#bd3786"
            ],
            [
             0.5555555555555556,
             "#d8576b"
            ],
            [
             0.6666666666666666,
             "#ed7953"
            ],
            [
             0.7777777777777778,
             "#fb9f3a"
            ],
            [
             0.8888888888888888,
             "#fdca26"
            ],
            [
             1,
             "#f0f921"
            ]
           ]
          },
          "colorway": [
           "#636efa",
           "#EF553B",
           "#00cc96",
           "#ab63fa",
           "#FFA15A",
           "#19d3f3",
           "#FF6692",
           "#B6E880",
           "#FF97FF",
           "#FECB52"
          ],
          "font": {
           "color": "#2a3f5f"
          },
          "geo": {
           "bgcolor": "white",
           "lakecolor": "white",
           "landcolor": "#E5ECF6",
           "showlakes": true,
           "showland": true,
           "subunitcolor": "white"
          },
          "hoverlabel": {
           "align": "left"
          },
          "hovermode": "closest",
          "mapbox": {
           "style": "light"
          },
          "paper_bgcolor": "white",
          "plot_bgcolor": "#E5ECF6",
          "polar": {
           "angularaxis": {
            "gridcolor": "white",
            "linecolor": "white",
            "ticks": ""
           },
           "bgcolor": "#E5ECF6",
           "radialaxis": {
            "gridcolor": "white",
            "linecolor": "white",
            "ticks": ""
           }
          },
          "scene": {
           "xaxis": {
            "backgroundcolor": "#E5ECF6",
            "gridcolor": "white",
            "gridwidth": 2,
            "linecolor": "white",
            "showbackground": true,
            "ticks": "",
            "zerolinecolor": "white"
           },
           "yaxis": {
            "backgroundcolor": "#E5ECF6",
            "gridcolor": "white",
            "gridwidth": 2,
            "linecolor": "white",
            "showbackground": true,
            "ticks": "",
            "zerolinecolor": "white"
           },
           "zaxis": {
            "backgroundcolor": "#E5ECF6",
            "gridcolor": "white",
            "gridwidth": 2,
            "linecolor": "white",
            "showbackground": true,
            "ticks": "",
            "zerolinecolor": "white"
           }
          },
          "shapedefaults": {
           "line": {
            "color": "#2a3f5f"
           }
          },
          "ternary": {
           "aaxis": {
            "gridcolor": "white",
            "linecolor": "white",
            "ticks": ""
           },
           "baxis": {
            "gridcolor": "white",
            "linecolor": "white",
            "ticks": ""
           },
           "bgcolor": "#E5ECF6",
           "caxis": {
            "gridcolor": "white",
            "linecolor": "white",
            "ticks": ""
           }
          },
          "title": {
           "x": 0.05
          },
          "xaxis": {
           "automargin": true,
           "gridcolor": "white",
           "linecolor": "white",
           "ticks": "",
           "title": {
            "standoff": 15
           },
           "zerolinecolor": "white",
           "zerolinewidth": 2
          },
          "yaxis": {
           "automargin": true,
           "gridcolor": "white",
           "linecolor": "white",
           "ticks": "",
           "title": {
            "standoff": 15
           },
           "zerolinecolor": "white",
           "zerolinewidth": 2
          }
         }
        },
        "width": 700,
        "xaxis": {
         "color": "black",
         "linecolor": "black",
         "linewidth": 1.5,
         "mirror": "allticks",
         "showgrid": false,
         "showline": true,
         "ticklen": 10,
         "ticks": "inside",
         "tickwidth": 1.5,
         "title": {
          "text": "number of CS"
         },
         "zeroline": false
        },
        "yaxis": {
         "color": "black",
         "linecolor": "black",
         "linewidth": 1.5,
         "mirror": "allticks",
         "showgrid": false,
         "showline": true,
         "ticklen": 10,
         "ticks": "inside",
         "tickwidth": 1.5,
         "title": {
          "text": "vertSSE (kcal/mol)"
         },
         "zeroline": false
        }
       }
      },
      "text/html": [
       "<div>                            <div id=\"2dbabc2a-8321-46a1-9c6b-f2be5c159786\" class=\"plotly-graph-div\" style=\"height:500px; width:700px;\"></div>            <script type=\"text/javascript\">                require([\"plotly\"], function(Plotly) {                    window.PLOTLYENV=window.PLOTLYENV || {};                                    if (document.getElementById(\"2dbabc2a-8321-46a1-9c6b-f2be5c159786\")) {                    Plotly.newPlot(                        \"2dbabc2a-8321-46a1-9c6b-f2be5c159786\",                        [{\"marker\":{\"size\":8,\"symbol\":\"circle\"},\"mode\":\"markers\",\"name\":\"dlpno-CCSD_T\",\"opacity\":1,\"showlegend\":true,\"text\":[\"fe_oct_2_CS_1_CS_1_CS_1_CS_1_CS_1_CS_1_s_1_conf_1\",\"fe_oct_2_CS_1_CS_1_CS_1_CS_1_CS_1_water_1_s_1_conf_1\",\"fe_oct_2_CS_1_CS_1_CS_1_CS_1_water_1_water_1_s_1_conf_1\",\"fe_oct_2_CS_1_CS_1_CS_1_water_1_CS_1_water_1_s_1_conf_1\",\"fe_oct_2_water_1_water_1_CS_1_CS_1_water_1_CS_1_s_1_conf_1\",\"fe_oct_2_water_1_water_1_water_1_CS_1_CS_1_CS_1_s_1_conf_1\",\"fe_oct_2_water_1_water_1_water_1_CS_1_water_1_CS_1_s_1_conf_1\",\"fe_oct_2_water_1_water_1_water_1_water_1_CS_1_CS_1_s_1_conf_1\",\"fe_oct_2_water_1_water_1_water_1_water_1_water_1_CS_1_s_1_conf_1\",\"fe_oct_2_water_1_water_1_water_1_water_1_water_1_water_1_s_1_conf_1\"],\"x\":[6,5,4,4,3,3,2,2,1,0],\"y\":[-20.936849367485596,-28.67506641711998,-38.97067101249036,-35.391545297402445,-39.14229100796206,-41.82187350987874,-44.54708530235166,-47.71514769001669,-49.88318842752278,-54.47945399236687],\"type\":\"scatter\"},{\"marker\":{\"size\":8,\"symbol\":\"circle\"},\"mode\":\"markers\",\"name\":\"blyp\",\"opacity\":1,\"showlegend\":true,\"text\":[\"fe_oct_2_CS_1_CS_1_CS_1_CS_1_CS_1_CS_1_s_1_conf_1\",\"fe_oct_2_CS_1_CS_1_CS_1_CS_1_CS_1_water_1_s_1_conf_1\",\"fe_oct_2_CS_1_CS_1_CS_1_CS_1_water_1_water_1_s_1_conf_1\",\"fe_oct_2_CS_1_CS_1_CS_1_water_1_CS_1_water_1_s_1_conf_1\",\"fe_oct_2_water_1_water_1_CS_1_CS_1_water_1_CS_1_s_1_conf_1\",\"fe_oct_2_water_1_water_1_water_1_CS_1_CS_1_CS_1_s_1_conf_1\",\"fe_oct_2_water_1_water_1_water_1_CS_1_water_1_CS_1_s_1_conf_1\",\"fe_oct_2_water_1_water_1_water_1_water_1_CS_1_CS_1_s_1_conf_1\",\"fe_oct_2_water_1_water_1_water_1_water_1_water_1_CS_1_s_1_conf_1\",\"fe_oct_2_water_1_water_1_water_1_water_1_water_1_water_1_s_1_conf_1\"],\"x\":[6,5,4,4,3,3,2,2,1,0],\"y\":[27.78652779933509,15.466432607240677,0.0600680786510565,5.373311542387,-0.3220317827515373,-5.988128425778996,-10.320274501539188,-16.847063235089763,-20.070133219393256,-28.37065979081956],\"type\":\"scatter\"},{\"marker\":{\"size\":8,\"symbol\":\"circle\"},\"mode\":\"markers\",\"name\":\"b3lyp\",\"opacity\":1,\"showlegend\":true,\"text\":[\"fe_oct_2_CS_1_CS_1_CS_1_CS_1_CS_1_CS_1_s_1_conf_1\",\"fe_oct_2_CS_1_CS_1_CS_1_CS_1_CS_1_water_1_s_1_conf_1\",\"fe_oct_2_CS_1_CS_1_CS_1_CS_1_water_1_water_1_s_1_conf_1\",\"fe_oct_2_CS_1_CS_1_CS_1_water_1_CS_1_water_1_s_1_conf_1\",\"fe_oct_2_water_1_water_1_CS_1_CS_1_water_1_CS_1_s_1_conf_1\",\"fe_oct_2_water_1_water_1_water_1_CS_1_CS_1_CS_1_s_1_conf_1\",\"fe_oct_2_water_1_water_1_water_1_CS_1_water_1_CS_1_s_1_conf_1\",\"fe_oct_2_water_1_water_1_water_1_water_1_CS_1_CS_1_s_1_conf_1\",\"fe_oct_2_water_1_water_1_water_1_water_1_water_1_CS_1_s_1_conf_1\",\"fe_oct_2_water_1_water_1_water_1_water_1_water_1_water_1_s_1_conf_1\"],\"x\":[6,5,4,4,3,3,2,2,1,0],\"y\":[0.329696105691255,-8.606618926261262,-20.009897954709004,-16.129363863789195,-20.403523491232814,-23.962489708184197,-27.108834157876345,-31.21486850327869,-33.67297726548259,-39.34535261424344],\"type\":\"scatter\"},{\"marker\":{\"size\":8,\"symbol\":\"circle\"},\"mode\":\"markers\",\"name\":\"blyp_hfx_50\",\"opacity\":1,\"showlegend\":true,\"text\":[\"fe_oct_2_CS_1_CS_1_CS_1_CS_1_CS_1_CS_1_s_1_conf_1\",\"fe_oct_2_CS_1_CS_1_CS_1_CS_1_CS_1_water_1_s_1_conf_1\",\"fe_oct_2_CS_1_CS_1_CS_1_CS_1_water_1_water_1_s_1_conf_1\",\"fe_oct_2_CS_1_CS_1_CS_1_water_1_CS_1_water_1_s_1_conf_1\",\"fe_oct_2_water_1_water_1_CS_1_CS_1_water_1_CS_1_s_1_conf_1\",\"fe_oct_2_water_1_water_1_water_1_CS_1_CS_1_CS_1_s_1_conf_1\",\"fe_oct_2_water_1_water_1_water_1_CS_1_water_1_CS_1_s_1_conf_1\",\"fe_oct_2_water_1_water_1_water_1_water_1_CS_1_CS_1_s_1_conf_1\",\"fe_oct_2_water_1_water_1_water_1_water_1_water_1_CS_1_s_1_conf_1\",\"fe_oct_2_water_1_water_1_water_1_water_1_water_1_water_1_s_1_conf_1\"],\"x\":[6,5,4,4,3,3,2,2,1,0],\"y\":[-24.776592151957857,-30.849108696626217,-39.34540486883179,-36.28166928045289,-39.394082524718215,-41.654715545811314,-43.85004489735479,-46.5295416261506,-48.41553760094371,-52.40690753488707],\"type\":\"scatter\"}],                        {\"font\":{\"color\":\"black\",\"family\":\"Helvetica\",\"size\":24},\"height\":500,\"legend\":{\"bgcolor\":\"rgba(0,0,0,0)\",\"orientation\":\"v\",\"x\":1,\"y\":1},\"margin\":{\"b\":100,\"l\":100,\"r\":10,\"t\":10},\"paper_bgcolor\":\"rgba(255,255,255,100)\",\"plot_bgcolor\":\"white\",\"showlegend\":true,\"template\":{\"data\":{\"barpolar\":[{\"marker\":{\"line\":{\"color\":\"#E5ECF6\",\"width\":0.5},\"pattern\":{\"fillmode\":\"overlay\",\"size\":10,\"solidity\":0.2}},\"type\":\"barpolar\"}],\"bar\":[{\"error_x\":{\"color\":\"#2a3f5f\"},\"error_y\":{\"color\":\"#2a3f5f\"},\"marker\":{\"line\":{\"color\":\"#E5ECF6\",\"width\":0.5},\"pattern\":{\"fillmode\":\"overlay\",\"size\":10,\"solidity\":0.2}},\"type\":\"bar\"}],\"carpet\":[{\"aaxis\":{\"endlinecolor\":\"#2a3f5f\",\"gridcolor\":\"white\",\"linecolor\":\"white\",\"minorgridcolor\":\"white\",\"startlinecolor\":\"#2a3f5f\"},\"baxis\":{\"endlinecolor\":\"#2a3f5f\",\"gridcolor\":\"white\",\"linecolor\":\"white\",\"minorgridcolor\":\"white\",\"startlinecolor\":\"#2a3f5f\"},\"type\":\"carpet\"}],\"choropleth\":[{\"colorbar\":{\"outlinewidth\":0,\"ticks\":\"\"},\"type\":\"choropleth\"}],\"contourcarpet\":[{\"colorbar\":{\"outlinewidth\":0,\"ticks\":\"\"},\"type\":\"contourcarpet\"}],\"contour\":[{\"colorbar\":{\"outlinewidth\":0,\"ticks\":\"\"},\"colorscale\":[[0.0,\"#0d0887\"],[0.1111111111111111,\"#46039f\"],[0.2222222222222222,\"#7201a8\"],[0.3333333333333333,\"#9c179e\"],[0.4444444444444444,\"#bd3786\"],[0.5555555555555556,\"#d8576b\"],[0.6666666666666666,\"#ed7953\"],[0.7777777777777778,\"#fb9f3a\"],[0.8888888888888888,\"#fdca26\"],[1.0,\"#f0f921\"]],\"type\":\"contour\"}],\"heatmapgl\":[{\"colorbar\":{\"outlinewidth\":0,\"ticks\":\"\"},\"colorscale\":[[0.0,\"#0d0887\"],[0.1111111111111111,\"#46039f\"],[0.2222222222222222,\"#7201a8\"],[0.3333333333333333,\"#9c179e\"],[0.4444444444444444,\"#bd3786\"],[0.5555555555555556,\"#d8576b\"],[0.6666666666666666,\"#ed7953\"],[0.7777777777777778,\"#fb9f3a\"],[0.8888888888888888,\"#fdca26\"],[1.0,\"#f0f921\"]],\"type\":\"heatmapgl\"}],\"heatmap\":[{\"colorbar\":{\"outlinewidth\":0,\"ticks\":\"\"},\"colorscale\":[[0.0,\"#0d0887\"],[0.1111111111111111,\"#46039f\"],[0.2222222222222222,\"#7201a8\"],[0.3333333333333333,\"#9c179e\"],[0.4444444444444444,\"#bd3786\"],[0.5555555555555556,\"#d8576b\"],[0.6666666666666666,\"#ed7953\"],[0.7777777777777778,\"#fb9f3a\"],[0.8888888888888888,\"#fdca26\"],[1.0,\"#f0f921\"]],\"type\":\"heatmap\"}],\"histogram2dcontour\":[{\"colorbar\":{\"outlinewidth\":0,\"ticks\":\"\"},\"colorscale\":[[0.0,\"#0d0887\"],[0.1111111111111111,\"#46039f\"],[0.2222222222222222,\"#7201a8\"],[0.3333333333333333,\"#9c179e\"],[0.4444444444444444,\"#bd3786\"],[0.5555555555555556,\"#d8576b\"],[0.6666666666666666,\"#ed7953\"],[0.7777777777777778,\"#fb9f3a\"],[0.8888888888888888,\"#fdca26\"],[1.0,\"#f0f921\"]],\"type\":\"histogram2dcontour\"}],\"histogram2d\":[{\"colorbar\":{\"outlinewidth\":0,\"ticks\":\"\"},\"colorscale\":[[0.0,\"#0d0887\"],[0.1111111111111111,\"#46039f\"],[0.2222222222222222,\"#7201a8\"],[0.3333333333333333,\"#9c179e\"],[0.4444444444444444,\"#bd3786\"],[0.5555555555555556,\"#d8576b\"],[0.6666666666666666,\"#ed7953\"],[0.7777777777777778,\"#fb9f3a\"],[0.8888888888888888,\"#fdca26\"],[1.0,\"#f0f921\"]],\"type\":\"histogram2d\"}],\"histogram\":[{\"marker\":{\"pattern\":{\"fillmode\":\"overlay\",\"size\":10,\"solidity\":0.2}},\"type\":\"histogram\"}],\"mesh3d\":[{\"colorbar\":{\"outlinewidth\":0,\"ticks\":\"\"},\"type\":\"mesh3d\"}],\"parcoords\":[{\"line\":{\"colorbar\":{\"outlinewidth\":0,\"ticks\":\"\"}},\"type\":\"parcoords\"}],\"pie\":[{\"automargin\":true,\"type\":\"pie\"}],\"scatter3d\":[{\"line\":{\"colorbar\":{\"outlinewidth\":0,\"ticks\":\"\"}},\"marker\":{\"colorbar\":{\"outlinewidth\":0,\"ticks\":\"\"}},\"type\":\"scatter3d\"}],\"scattercarpet\":[{\"marker\":{\"colorbar\":{\"outlinewidth\":0,\"ticks\":\"\"}},\"type\":\"scattercarpet\"}],\"scattergeo\":[{\"marker\":{\"colorbar\":{\"outlinewidth\":0,\"ticks\":\"\"}},\"type\":\"scattergeo\"}],\"scattergl\":[{\"marker\":{\"colorbar\":{\"outlinewidth\":0,\"ticks\":\"\"}},\"type\":\"scattergl\"}],\"scattermapbox\":[{\"marker\":{\"colorbar\":{\"outlinewidth\":0,\"ticks\":\"\"}},\"type\":\"scattermapbox\"}],\"scatterpolargl\":[{\"marker\":{\"colorbar\":{\"outlinewidth\":0,\"ticks\":\"\"}},\"type\":\"scatterpolargl\"}],\"scatterpolar\":[{\"marker\":{\"colorbar\":{\"outlinewidth\":0,\"ticks\":\"\"}},\"type\":\"scatterpolar\"}],\"scatter\":[{\"fillpattern\":{\"fillmode\":\"overlay\",\"size\":10,\"solidity\":0.2},\"type\":\"scatter\"}],\"scatterternary\":[{\"marker\":{\"colorbar\":{\"outlinewidth\":0,\"ticks\":\"\"}},\"type\":\"scatterternary\"}],\"surface\":[{\"colorbar\":{\"outlinewidth\":0,\"ticks\":\"\"},\"colorscale\":[[0.0,\"#0d0887\"],[0.1111111111111111,\"#46039f\"],[0.2222222222222222,\"#7201a8\"],[0.3333333333333333,\"#9c179e\"],[0.4444444444444444,\"#bd3786\"],[0.5555555555555556,\"#d8576b\"],[0.6666666666666666,\"#ed7953\"],[0.7777777777777778,\"#fb9f3a\"],[0.8888888888888888,\"#fdca26\"],[1.0,\"#f0f921\"]],\"type\":\"surface\"}],\"table\":[{\"cells\":{\"fill\":{\"color\":\"#EBF0F8\"},\"line\":{\"color\":\"white\"}},\"header\":{\"fill\":{\"color\":\"#C8D4E3\"},\"line\":{\"color\":\"white\"}},\"type\":\"table\"}]},\"layout\":{\"annotationdefaults\":{\"arrowcolor\":\"#2a3f5f\",\"arrowhead\":0,\"arrowwidth\":1},\"autotypenumbers\":\"strict\",\"coloraxis\":{\"colorbar\":{\"outlinewidth\":0,\"ticks\":\"\"}},\"colorscale\":{\"diverging\":[[0,\"#8e0152\"],[0.1,\"#c51b7d\"],[0.2,\"#de77ae\"],[0.3,\"#f1b6da\"],[0.4,\"#fde0ef\"],[0.5,\"#f7f7f7\"],[0.6,\"#e6f5d0\"],[0.7,\"#b8e186\"],[0.8,\"#7fbc41\"],[0.9,\"#4d9221\"],[1,\"#276419\"]],\"sequential\":[[0.0,\"#0d0887\"],[0.1111111111111111,\"#46039f\"],[0.2222222222222222,\"#7201a8\"],[0.3333333333333333,\"#9c179e\"],[0.4444444444444444,\"#bd3786\"],[0.5555555555555556,\"#d8576b\"],[0.6666666666666666,\"#ed7953\"],[0.7777777777777778,\"#fb9f3a\"],[0.8888888888888888,\"#fdca26\"],[1.0,\"#f0f921\"]],\"sequentialminus\":[[0.0,\"#0d0887\"],[0.1111111111111111,\"#46039f\"],[0.2222222222222222,\"#7201a8\"],[0.3333333333333333,\"#9c179e\"],[0.4444444444444444,\"#bd3786\"],[0.5555555555555556,\"#d8576b\"],[0.6666666666666666,\"#ed7953\"],[0.7777777777777778,\"#fb9f3a\"],[0.8888888888888888,\"#fdca26\"],[1.0,\"#f0f921\"]]},\"colorway\":[\"#636efa\",\"#EF553B\",\"#00cc96\",\"#ab63fa\",\"#FFA15A\",\"#19d3f3\",\"#FF6692\",\"#B6E880\",\"#FF97FF\",\"#FECB52\"],\"font\":{\"color\":\"#2a3f5f\"},\"geo\":{\"bgcolor\":\"white\",\"lakecolor\":\"white\",\"landcolor\":\"#E5ECF6\",\"showlakes\":true,\"showland\":true,\"subunitcolor\":\"white\"},\"hoverlabel\":{\"align\":\"left\"},\"hovermode\":\"closest\",\"mapbox\":{\"style\":\"light\"},\"paper_bgcolor\":\"white\",\"plot_bgcolor\":\"#E5ECF6\",\"polar\":{\"angularaxis\":{\"gridcolor\":\"white\",\"linecolor\":\"white\",\"ticks\":\"\"},\"bgcolor\":\"#E5ECF6\",\"radialaxis\":{\"gridcolor\":\"white\",\"linecolor\":\"white\",\"ticks\":\"\"}},\"scene\":{\"xaxis\":{\"backgroundcolor\":\"#E5ECF6\",\"gridcolor\":\"white\",\"gridwidth\":2,\"linecolor\":\"white\",\"showbackground\":true,\"ticks\":\"\",\"zerolinecolor\":\"white\"},\"yaxis\":{\"backgroundcolor\":\"#E5ECF6\",\"gridcolor\":\"white\",\"gridwidth\":2,\"linecolor\":\"white\",\"showbackground\":true,\"ticks\":\"\",\"zerolinecolor\":\"white\"},\"zaxis\":{\"backgroundcolor\":\"#E5ECF6\",\"gridcolor\":\"white\",\"gridwidth\":2,\"linecolor\":\"white\",\"showbackground\":true,\"ticks\":\"\",\"zerolinecolor\":\"white\"}},\"shapedefaults\":{\"line\":{\"color\":\"#2a3f5f\"}},\"ternary\":{\"aaxis\":{\"gridcolor\":\"white\",\"linecolor\":\"white\",\"ticks\":\"\"},\"baxis\":{\"gridcolor\":\"white\",\"linecolor\":\"white\",\"ticks\":\"\"},\"bgcolor\":\"#E5ECF6\",\"caxis\":{\"gridcolor\":\"white\",\"linecolor\":\"white\",\"ticks\":\"\"}},\"title\":{\"x\":0.05},\"xaxis\":{\"automargin\":true,\"gridcolor\":\"white\",\"linecolor\":\"white\",\"ticks\":\"\",\"title\":{\"standoff\":15},\"zerolinecolor\":\"white\",\"zerolinewidth\":2},\"yaxis\":{\"automargin\":true,\"gridcolor\":\"white\",\"linecolor\":\"white\",\"ticks\":\"\",\"title\":{\"standoff\":15},\"zerolinecolor\":\"white\",\"zerolinewidth\":2}}},\"width\":700,\"xaxis\":{\"color\":\"black\",\"linecolor\":\"black\",\"linewidth\":1.5,\"mirror\":\"allticks\",\"showgrid\":false,\"showline\":true,\"ticklen\":10,\"ticks\":\"inside\",\"tickwidth\":1.5,\"title\":{\"text\":\"number of CS\"},\"zeroline\":false},\"yaxis\":{\"color\":\"black\",\"linecolor\":\"black\",\"linewidth\":1.5,\"mirror\":\"allticks\",\"showgrid\":false,\"showline\":true,\"ticklen\":10,\"ticks\":\"inside\",\"tickwidth\":1.5,\"title\":{\"text\":\"vertSSE (kcal/mol)\"},\"zeroline\":false}},                        {\"responsive\": true}                    ).then(function(){\n",
       "                            \n",
       "var gd = document.getElementById('2dbabc2a-8321-46a1-9c6b-f2be5c159786');\n",
       "var x = new MutationObserver(function (mutations, observer) {{\n",
       "        var display = window.getComputedStyle(gd).display;\n",
       "        if (!display || display === 'none') {{\n",
       "            console.log([gd, 'removed!']);\n",
       "            Plotly.purge(gd);\n",
       "            observer.disconnect();\n",
       "        }}\n",
       "}});\n",
       "\n",
       "// Listen for the removal of the full notebook cells\n",
       "var notebookContainer = gd.closest('#notebook-container');\n",
       "if (notebookContainer) {{\n",
       "    x.observe(notebookContainer, {childList: true});\n",
       "}}\n",
       "\n",
       "// Listen for the clearing of the current output cell\n",
       "var outputEl = gd.closest('.output');\n",
       "if (outputEl) {{\n",
       "    x.observe(outputEl, {childList: true});\n",
       "}}\n",
       "\n",
       "                        })                };                });            </script>        </div>"
      ]
     },
     "metadata": {},
     "output_type": "display_data"
    }
   ],
   "source": [
    "fs = [\"dlpno-CCSD_T\", \"blyp\", \"b3lyp\", \"blyp_hfx_50\"]\n",
    "data = []\n",
    "for f in fs: \n",
    "    trace0 = go.Scatter(\n",
    "        x=df[\"nCS\"].values,\n",
    "        y=df[f + \".vertsse\"].values,\n",
    "        mode='markers',\n",
    "        opacity=1,\n",
    "        marker=dict(\n",
    "            symbol='circle',\n",
    "            size=8,\n",
    "        ),\n",
    "        text=df[\"name\"].values,\n",
    "        showlegend=True,\n",
    "        name = f,\n",
    "    )\n",
    "    data += [trace0]\n",
    "layout = go.Layout()\n",
    "layout.update(glob_layout)\n",
    "layout.legend.update(x=1, y=1, bgcolor=\"rgba(0,0,0,0)\")\n",
    "layout['xaxis'].update({\"title\": \"number of CS\"})\n",
    "layout['yaxis'].update({\"title\": \"vertSSE (kcal/mol)\",})\n",
    "layout.update(height=500, width=700, showlegend=True)\n",
    "fig = go.Figure(data=data, layout=layout)\n",
    "iplot(fig)"
   ]
  },
  {
   "cell_type": "markdown",
   "metadata": {},
   "source": [
    "##### MAEs of different DFAs for LS $Fe_2(CS)_n(H_2O)_{6-n}$"
   ]
  },
  {
   "cell_type": "code",
   "execution_count": 28,
   "metadata": {},
   "outputs": [
    {
     "data": {
      "application/vnd.plotly.v1+json": {
       "config": {
        "linkText": "Export to plot.ly",
        "plotlyServerURL": "https://plot.ly",
        "showLink": false
       },
       "data": [
        {
         "name": "all",
         "type": "bar",
         "x": [
          "blyp_hfx_50",
          "m06-l_hfx_30",
          "scan_hfx_40",
          "pbe0-dh",
          "mn15-l_hfx_50",
          "dsd-blyp-d3bj",
          "dsd-pbep86-d3bj",
          "m06-l_hfx_40",
          "m06",
          "b2gpplyp",
          "pbe_hfx_40",
          "m06-2x",
          "blyp_hfx_40",
          "scan_hfx_30",
          "mn15-l_hfx_30",
          "dsd-pbeb95-d3bj",
          "mn15-l",
          "m06-l_hfx_50",
          "mn15-l_hfx_20",
          "mn15-l_hfx_10"
         ],
         "y": [
          1.3120436137115803,
          1.4122205987496272,
          1.4939677988166977,
          1.6832431184888605,
          2.0265006160976213,
          2.38671981764287,
          2.6918061253795713,
          2.90001746380392,
          3.1253446252692925,
          3.464770824204436,
          3.510353050047513,
          4.087541010719917,
          4.93028116743551,
          5.417495120477724,
          5.755446454202058,
          5.966219629179136,
          6.696302384794592,
          6.698082619522552,
          7.294323110396874,
          7.666088278783377
         ]
        }
       ],
       "layout": {
        "boxmode": "group",
        "font": {
         "color": "black",
         "family": "Helvetica",
         "size": 24
        },
        "height": 500,
        "legend": {
         "orientation": "v"
        },
        "margin": {
         "b": 100,
         "l": 100,
         "r": 10,
         "t": 10
        },
        "paper_bgcolor": "rgba(255,255,255,100)",
        "plot_bgcolor": "white",
        "template": {
         "data": {
          "bar": [
           {
            "error_x": {
             "color": "#2a3f5f"
            },
            "error_y": {
             "color": "#2a3f5f"
            },
            "marker": {
             "line": {
              "color": "#E5ECF6",
              "width": 0.5
             },
             "pattern": {
              "fillmode": "overlay",
              "size": 10,
              "solidity": 0.2
             }
            },
            "type": "bar"
           }
          ],
          "barpolar": [
           {
            "marker": {
             "line": {
              "color": "#E5ECF6",
              "width": 0.5
             },
             "pattern": {
              "fillmode": "overlay",
              "size": 10,
              "solidity": 0.2
             }
            },
            "type": "barpolar"
           }
          ],
          "carpet": [
           {
            "aaxis": {
             "endlinecolor": "#2a3f5f",
             "gridcolor": "white",
             "linecolor": "white",
             "minorgridcolor": "white",
             "startlinecolor": "#2a3f5f"
            },
            "baxis": {
             "endlinecolor": "#2a3f5f",
             "gridcolor": "white",
             "linecolor": "white",
             "minorgridcolor": "white",
             "startlinecolor": "#2a3f5f"
            },
            "type": "carpet"
           }
          ],
          "choropleth": [
           {
            "colorbar": {
             "outlinewidth": 0,
             "ticks": ""
            },
            "type": "choropleth"
           }
          ],
          "contour": [
           {
            "colorbar": {
             "outlinewidth": 0,
             "ticks": ""
            },
            "colorscale": [
             [
              0,
              "#0d0887"
             ],
             [
              0.1111111111111111,
              "#46039f"
             ],
             [
              0.2222222222222222,
              "#7201a8"
             ],
             [
              0.3333333333333333,
              "#9c179e"
             ],
             [
              0.4444444444444444,
              "#bd3786"
             ],
             [
              0.5555555555555556,
              "#d8576b"
             ],
             [
              0.6666666666666666,
              "#ed7953"
             ],
             [
              0.7777777777777778,
              "#fb9f3a"
             ],
             [
              0.8888888888888888,
              "#fdca26"
             ],
             [
              1,
              "#f0f921"
             ]
            ],
            "type": "contour"
           }
          ],
          "contourcarpet": [
           {
            "colorbar": {
             "outlinewidth": 0,
             "ticks": ""
            },
            "type": "contourcarpet"
           }
          ],
          "heatmap": [
           {
            "colorbar": {
             "outlinewidth": 0,
             "ticks": ""
            },
            "colorscale": [
             [
              0,
              "#0d0887"
             ],
             [
              0.1111111111111111,
              "#46039f"
             ],
             [
              0.2222222222222222,
              "#7201a8"
             ],
             [
              0.3333333333333333,
              "#9c179e"
             ],
             [
              0.4444444444444444,
              "#bd3786"
             ],
             [
              0.5555555555555556,
              "#d8576b"
             ],
             [
              0.6666666666666666,
              "#ed7953"
             ],
             [
              0.7777777777777778,
              "#fb9f3a"
             ],
             [
              0.8888888888888888,
              "#fdca26"
             ],
             [
              1,
              "#f0f921"
             ]
            ],
            "type": "heatmap"
           }
          ],
          "heatmapgl": [
           {
            "colorbar": {
             "outlinewidth": 0,
             "ticks": ""
            },
            "colorscale": [
             [
              0,
              "#0d0887"
             ],
             [
              0.1111111111111111,
              "#46039f"
             ],
             [
              0.2222222222222222,
              "#7201a8"
             ],
             [
              0.3333333333333333,
              "#9c179e"
             ],
             [
              0.4444444444444444,
              "#bd3786"
             ],
             [
              0.5555555555555556,
              "#d8576b"
             ],
             [
              0.6666666666666666,
              "#ed7953"
             ],
             [
              0.7777777777777778,
              "#fb9f3a"
             ],
             [
              0.8888888888888888,
              "#fdca26"
             ],
             [
              1,
              "#f0f921"
             ]
            ],
            "type": "heatmapgl"
           }
          ],
          "histogram": [
           {
            "marker": {
             "pattern": {
              "fillmode": "overlay",
              "size": 10,
              "solidity": 0.2
             }
            },
            "type": "histogram"
           }
          ],
          "histogram2d": [
           {
            "colorbar": {
             "outlinewidth": 0,
             "ticks": ""
            },
            "colorscale": [
             [
              0,
              "#0d0887"
             ],
             [
              0.1111111111111111,
              "#46039f"
             ],
             [
              0.2222222222222222,
              "#7201a8"
             ],
             [
              0.3333333333333333,
              "#9c179e"
             ],
             [
              0.4444444444444444,
              "#bd3786"
             ],
             [
              0.5555555555555556,
              "#d8576b"
             ],
             [
              0.6666666666666666,
              "#ed7953"
             ],
             [
              0.7777777777777778,
              "#fb9f3a"
             ],
             [
              0.8888888888888888,
              "#fdca26"
             ],
             [
              1,
              "#f0f921"
             ]
            ],
            "type": "histogram2d"
           }
          ],
          "histogram2dcontour": [
           {
            "colorbar": {
             "outlinewidth": 0,
             "ticks": ""
            },
            "colorscale": [
             [
              0,
              "#0d0887"
             ],
             [
              0.1111111111111111,
              "#46039f"
             ],
             [
              0.2222222222222222,
              "#7201a8"
             ],
             [
              0.3333333333333333,
              "#9c179e"
             ],
             [
              0.4444444444444444,
              "#bd3786"
             ],
             [
              0.5555555555555556,
              "#d8576b"
             ],
             [
              0.6666666666666666,
              "#ed7953"
             ],
             [
              0.7777777777777778,
              "#fb9f3a"
             ],
             [
              0.8888888888888888,
              "#fdca26"
             ],
             [
              1,
              "#f0f921"
             ]
            ],
            "type": "histogram2dcontour"
           }
          ],
          "mesh3d": [
           {
            "colorbar": {
             "outlinewidth": 0,
             "ticks": ""
            },
            "type": "mesh3d"
           }
          ],
          "parcoords": [
           {
            "line": {
             "colorbar": {
              "outlinewidth": 0,
              "ticks": ""
             }
            },
            "type": "parcoords"
           }
          ],
          "pie": [
           {
            "automargin": true,
            "type": "pie"
           }
          ],
          "scatter": [
           {
            "fillpattern": {
             "fillmode": "overlay",
             "size": 10,
             "solidity": 0.2
            },
            "type": "scatter"
           }
          ],
          "scatter3d": [
           {
            "line": {
             "colorbar": {
              "outlinewidth": 0,
              "ticks": ""
             }
            },
            "marker": {
             "colorbar": {
              "outlinewidth": 0,
              "ticks": ""
             }
            },
            "type": "scatter3d"
           }
          ],
          "scattercarpet": [
           {
            "marker": {
             "colorbar": {
              "outlinewidth": 0,
              "ticks": ""
             }
            },
            "type": "scattercarpet"
           }
          ],
          "scattergeo": [
           {
            "marker": {
             "colorbar": {
              "outlinewidth": 0,
              "ticks": ""
             }
            },
            "type": "scattergeo"
           }
          ],
          "scattergl": [
           {
            "marker": {
             "colorbar": {
              "outlinewidth": 0,
              "ticks": ""
             }
            },
            "type": "scattergl"
           }
          ],
          "scattermapbox": [
           {
            "marker": {
             "colorbar": {
              "outlinewidth": 0,
              "ticks": ""
             }
            },
            "type": "scattermapbox"
           }
          ],
          "scatterpolar": [
           {
            "marker": {
             "colorbar": {
              "outlinewidth": 0,
              "ticks": ""
             }
            },
            "type": "scatterpolar"
           }
          ],
          "scatterpolargl": [
           {
            "marker": {
             "colorbar": {
              "outlinewidth": 0,
              "ticks": ""
             }
            },
            "type": "scatterpolargl"
           }
          ],
          "scatterternary": [
           {
            "marker": {
             "colorbar": {
              "outlinewidth": 0,
              "ticks": ""
             }
            },
            "type": "scatterternary"
           }
          ],
          "surface": [
           {
            "colorbar": {
             "outlinewidth": 0,
             "ticks": ""
            },
            "colorscale": [
             [
              0,
              "#0d0887"
             ],
             [
              0.1111111111111111,
              "#46039f"
             ],
             [
              0.2222222222222222,
              "#7201a8"
             ],
             [
              0.3333333333333333,
              "#9c179e"
             ],
             [
              0.4444444444444444,
              "#bd3786"
             ],
             [
              0.5555555555555556,
              "#d8576b"
             ],
             [
              0.6666666666666666,
              "#ed7953"
             ],
             [
              0.7777777777777778,
              "#fb9f3a"
             ],
             [
              0.8888888888888888,
              "#fdca26"
             ],
             [
              1,
              "#f0f921"
             ]
            ],
            "type": "surface"
           }
          ],
          "table": [
           {
            "cells": {
             "fill": {
              "color": "#EBF0F8"
             },
             "line": {
              "color": "white"
             }
            },
            "header": {
             "fill": {
              "color": "#C8D4E3"
             },
             "line": {
              "color": "white"
             }
            },
            "type": "table"
           }
          ]
         },
         "layout": {
          "annotationdefaults": {
           "arrowcolor": "#2a3f5f",
           "arrowhead": 0,
           "arrowwidth": 1
          },
          "autotypenumbers": "strict",
          "coloraxis": {
           "colorbar": {
            "outlinewidth": 0,
            "ticks": ""
           }
          },
          "colorscale": {
           "diverging": [
            [
             0,
             "#8e0152"
            ],
            [
             0.1,
             "#c51b7d"
            ],
            [
             0.2,
             "#de77ae"
            ],
            [
             0.3,
             "#f1b6da"
            ],
            [
             0.4,
             "#fde0ef"
            ],
            [
             0.5,
             "#f7f7f7"
            ],
            [
             0.6,
             "#e6f5d0"
            ],
            [
             0.7,
             "#b8e186"
            ],
            [
             0.8,
             "#7fbc41"
            ],
            [
             0.9,
             "#4d9221"
            ],
            [
             1,
             "#276419"
            ]
           ],
           "sequential": [
            [
             0,
             "#0d0887"
            ],
            [
             0.1111111111111111,
             "#46039f"
            ],
            [
             0.2222222222222222,
             "#7201a8"
            ],
            [
             0.3333333333333333,
             "#9c179e"
            ],
            [
             0.4444444444444444,
             "#bd3786"
            ],
            [
             0.5555555555555556,
             "#d8576b"
            ],
            [
             0.6666666666666666,
             "#ed7953"
            ],
            [
             0.7777777777777778,
             "#fb9f3a"
            ],
            [
             0.8888888888888888,
             "#fdca26"
            ],
            [
             1,
             "#f0f921"
            ]
           ],
           "sequentialminus": [
            [
             0,
             "#0d0887"
            ],
            [
             0.1111111111111111,
             "#46039f"
            ],
            [
             0.2222222222222222,
             "#7201a8"
            ],
            [
             0.3333333333333333,
             "#9c179e"
            ],
            [
             0.4444444444444444,
             "#bd3786"
            ],
            [
             0.5555555555555556,
             "#d8576b"
            ],
            [
             0.6666666666666666,
             "#ed7953"
            ],
            [
             0.7777777777777778,
             "#fb9f3a"
            ],
            [
             0.8888888888888888,
             "#fdca26"
            ],
            [
             1,
             "#f0f921"
            ]
           ]
          },
          "colorway": [
           "#636efa",
           "#EF553B",
           "#00cc96",
           "#ab63fa",
           "#FFA15A",
           "#19d3f3",
           "#FF6692",
           "#B6E880",
           "#FF97FF",
           "#FECB52"
          ],
          "font": {
           "color": "#2a3f5f"
          },
          "geo": {
           "bgcolor": "white",
           "lakecolor": "white",
           "landcolor": "#E5ECF6",
           "showlakes": true,
           "showland": true,
           "subunitcolor": "white"
          },
          "hoverlabel": {
           "align": "left"
          },
          "hovermode": "closest",
          "mapbox": {
           "style": "light"
          },
          "paper_bgcolor": "white",
          "plot_bgcolor": "#E5ECF6",
          "polar": {
           "angularaxis": {
            "gridcolor": "white",
            "linecolor": "white",
            "ticks": ""
           },
           "bgcolor": "#E5ECF6",
           "radialaxis": {
            "gridcolor": "white",
            "linecolor": "white",
            "ticks": ""
           }
          },
          "scene": {
           "xaxis": {
            "backgroundcolor": "#E5ECF6",
            "gridcolor": "white",
            "gridwidth": 2,
            "linecolor": "white",
            "showbackground": true,
            "ticks": "",
            "zerolinecolor": "white"
           },
           "yaxis": {
            "backgroundcolor": "#E5ECF6",
            "gridcolor": "white",
            "gridwidth": 2,
            "linecolor": "white",
            "showbackground": true,
            "ticks": "",
            "zerolinecolor": "white"
           },
           "zaxis": {
            "backgroundcolor": "#E5ECF6",
            "gridcolor": "white",
            "gridwidth": 2,
            "linecolor": "white",
            "showbackground": true,
            "ticks": "",
            "zerolinecolor": "white"
           }
          },
          "shapedefaults": {
           "line": {
            "color": "#2a3f5f"
           }
          },
          "ternary": {
           "aaxis": {
            "gridcolor": "white",
            "linecolor": "white",
            "ticks": ""
           },
           "baxis": {
            "gridcolor": "white",
            "linecolor": "white",
            "ticks": ""
           },
           "bgcolor": "#E5ECF6",
           "caxis": {
            "gridcolor": "white",
            "linecolor": "white",
            "ticks": ""
           }
          },
          "title": {
           "x": 0.05
          },
          "xaxis": {
           "automargin": true,
           "gridcolor": "white",
           "linecolor": "white",
           "ticks": "",
           "title": {
            "standoff": 15
           },
           "zerolinecolor": "white",
           "zerolinewidth": 2
          },
          "yaxis": {
           "automargin": true,
           "gridcolor": "white",
           "linecolor": "white",
           "ticks": "",
           "title": {
            "standoff": 15
           },
           "zerolinecolor": "white",
           "zerolinewidth": 2
          }
         }
        },
        "width": 1000,
        "xaxis": {
         "color": "black",
         "linecolor": "black",
         "linewidth": 1.5,
         "mirror": "allticks",
         "showgrid": false,
         "showline": true,
         "ticklen": 10,
         "ticks": "inside",
         "tickwidth": 1.5,
         "title": {
          "text": "DFA"
         },
         "zeroline": false
        },
        "yaxis": {
         "color": "black",
         "linecolor": "black",
         "linewidth": 1.5,
         "mirror": "allticks",
         "showgrid": false,
         "showline": true,
         "ticklen": 10,
         "ticks": "inside",
         "tickwidth": 1.5,
         "title": {
          "text": "MAE (kcal/mol)"
         },
         "zeroline": false
        }
       }
      },
      "text/html": [
       "<div>                            <div id=\"4fd3f530-2997-4a18-a8fc-3e3ed5994adb\" class=\"plotly-graph-div\" style=\"height:500px; width:1000px;\"></div>            <script type=\"text/javascript\">                require([\"plotly\"], function(Plotly) {                    window.PLOTLYENV=window.PLOTLYENV || {};                                    if (document.getElementById(\"4fd3f530-2997-4a18-a8fc-3e3ed5994adb\")) {                    Plotly.newPlot(                        \"4fd3f530-2997-4a18-a8fc-3e3ed5994adb\",                        [{\"name\":\"all\",\"x\":[\"blyp_hfx_50\",\"m06-l_hfx_30\",\"scan_hfx_40\",\"pbe0-dh\",\"mn15-l_hfx_50\",\"dsd-blyp-d3bj\",\"dsd-pbep86-d3bj\",\"m06-l_hfx_40\",\"m06\",\"b2gpplyp\",\"pbe_hfx_40\",\"m06-2x\",\"blyp_hfx_40\",\"scan_hfx_30\",\"mn15-l_hfx_30\",\"dsd-pbeb95-d3bj\",\"mn15-l\",\"m06-l_hfx_50\",\"mn15-l_hfx_20\",\"mn15-l_hfx_10\"],\"y\":[1.3120436137115803,1.4122205987496272,1.4939677988166977,1.6832431184888605,2.0265006160976213,2.38671981764287,2.6918061253795713,2.90001746380392,3.1253446252692925,3.464770824204436,3.510353050047513,4.087541010719917,4.93028116743551,5.417495120477724,5.755446454202058,5.966219629179136,6.696302384794592,6.698082619522552,7.294323110396874,7.666088278783377],\"type\":\"bar\"}],                        {\"boxmode\":\"group\",\"font\":{\"color\":\"black\",\"family\":\"Helvetica\",\"size\":24},\"height\":500,\"legend\":{\"orientation\":\"v\"},\"margin\":{\"b\":100,\"l\":100,\"r\":10,\"t\":10},\"paper_bgcolor\":\"rgba(255,255,255,100)\",\"plot_bgcolor\":\"white\",\"template\":{\"data\":{\"barpolar\":[{\"marker\":{\"line\":{\"color\":\"#E5ECF6\",\"width\":0.5},\"pattern\":{\"fillmode\":\"overlay\",\"size\":10,\"solidity\":0.2}},\"type\":\"barpolar\"}],\"bar\":[{\"error_x\":{\"color\":\"#2a3f5f\"},\"error_y\":{\"color\":\"#2a3f5f\"},\"marker\":{\"line\":{\"color\":\"#E5ECF6\",\"width\":0.5},\"pattern\":{\"fillmode\":\"overlay\",\"size\":10,\"solidity\":0.2}},\"type\":\"bar\"}],\"carpet\":[{\"aaxis\":{\"endlinecolor\":\"#2a3f5f\",\"gridcolor\":\"white\",\"linecolor\":\"white\",\"minorgridcolor\":\"white\",\"startlinecolor\":\"#2a3f5f\"},\"baxis\":{\"endlinecolor\":\"#2a3f5f\",\"gridcolor\":\"white\",\"linecolor\":\"white\",\"minorgridcolor\":\"white\",\"startlinecolor\":\"#2a3f5f\"},\"type\":\"carpet\"}],\"choropleth\":[{\"colorbar\":{\"outlinewidth\":0,\"ticks\":\"\"},\"type\":\"choropleth\"}],\"contourcarpet\":[{\"colorbar\":{\"outlinewidth\":0,\"ticks\":\"\"},\"type\":\"contourcarpet\"}],\"contour\":[{\"colorbar\":{\"outlinewidth\":0,\"ticks\":\"\"},\"colorscale\":[[0.0,\"#0d0887\"],[0.1111111111111111,\"#46039f\"],[0.2222222222222222,\"#7201a8\"],[0.3333333333333333,\"#9c179e\"],[0.4444444444444444,\"#bd3786\"],[0.5555555555555556,\"#d8576b\"],[0.6666666666666666,\"#ed7953\"],[0.7777777777777778,\"#fb9f3a\"],[0.8888888888888888,\"#fdca26\"],[1.0,\"#f0f921\"]],\"type\":\"contour\"}],\"heatmapgl\":[{\"colorbar\":{\"outlinewidth\":0,\"ticks\":\"\"},\"colorscale\":[[0.0,\"#0d0887\"],[0.1111111111111111,\"#46039f\"],[0.2222222222222222,\"#7201a8\"],[0.3333333333333333,\"#9c179e\"],[0.4444444444444444,\"#bd3786\"],[0.5555555555555556,\"#d8576b\"],[0.6666666666666666,\"#ed7953\"],[0.7777777777777778,\"#fb9f3a\"],[0.8888888888888888,\"#fdca26\"],[1.0,\"#f0f921\"]],\"type\":\"heatmapgl\"}],\"heatmap\":[{\"colorbar\":{\"outlinewidth\":0,\"ticks\":\"\"},\"colorscale\":[[0.0,\"#0d0887\"],[0.1111111111111111,\"#46039f\"],[0.2222222222222222,\"#7201a8\"],[0.3333333333333333,\"#9c179e\"],[0.4444444444444444,\"#bd3786\"],[0.5555555555555556,\"#d8576b\"],[0.6666666666666666,\"#ed7953\"],[0.7777777777777778,\"#fb9f3a\"],[0.8888888888888888,\"#fdca26\"],[1.0,\"#f0f921\"]],\"type\":\"heatmap\"}],\"histogram2dcontour\":[{\"colorbar\":{\"outlinewidth\":0,\"ticks\":\"\"},\"colorscale\":[[0.0,\"#0d0887\"],[0.1111111111111111,\"#46039f\"],[0.2222222222222222,\"#7201a8\"],[0.3333333333333333,\"#9c179e\"],[0.4444444444444444,\"#bd3786\"],[0.5555555555555556,\"#d8576b\"],[0.6666666666666666,\"#ed7953\"],[0.7777777777777778,\"#fb9f3a\"],[0.8888888888888888,\"#fdca26\"],[1.0,\"#f0f921\"]],\"type\":\"histogram2dcontour\"}],\"histogram2d\":[{\"colorbar\":{\"outlinewidth\":0,\"ticks\":\"\"},\"colorscale\":[[0.0,\"#0d0887\"],[0.1111111111111111,\"#46039f\"],[0.2222222222222222,\"#7201a8\"],[0.3333333333333333,\"#9c179e\"],[0.4444444444444444,\"#bd3786\"],[0.5555555555555556,\"#d8576b\"],[0.6666666666666666,\"#ed7953\"],[0.7777777777777778,\"#fb9f3a\"],[0.8888888888888888,\"#fdca26\"],[1.0,\"#f0f921\"]],\"type\":\"histogram2d\"}],\"histogram\":[{\"marker\":{\"pattern\":{\"fillmode\":\"overlay\",\"size\":10,\"solidity\":0.2}},\"type\":\"histogram\"}],\"mesh3d\":[{\"colorbar\":{\"outlinewidth\":0,\"ticks\":\"\"},\"type\":\"mesh3d\"}],\"parcoords\":[{\"line\":{\"colorbar\":{\"outlinewidth\":0,\"ticks\":\"\"}},\"type\":\"parcoords\"}],\"pie\":[{\"automargin\":true,\"type\":\"pie\"}],\"scatter3d\":[{\"line\":{\"colorbar\":{\"outlinewidth\":0,\"ticks\":\"\"}},\"marker\":{\"colorbar\":{\"outlinewidth\":0,\"ticks\":\"\"}},\"type\":\"scatter3d\"}],\"scattercarpet\":[{\"marker\":{\"colorbar\":{\"outlinewidth\":0,\"ticks\":\"\"}},\"type\":\"scattercarpet\"}],\"scattergeo\":[{\"marker\":{\"colorbar\":{\"outlinewidth\":0,\"ticks\":\"\"}},\"type\":\"scattergeo\"}],\"scattergl\":[{\"marker\":{\"colorbar\":{\"outlinewidth\":0,\"ticks\":\"\"}},\"type\":\"scattergl\"}],\"scattermapbox\":[{\"marker\":{\"colorbar\":{\"outlinewidth\":0,\"ticks\":\"\"}},\"type\":\"scattermapbox\"}],\"scatterpolargl\":[{\"marker\":{\"colorbar\":{\"outlinewidth\":0,\"ticks\":\"\"}},\"type\":\"scatterpolargl\"}],\"scatterpolar\":[{\"marker\":{\"colorbar\":{\"outlinewidth\":0,\"ticks\":\"\"}},\"type\":\"scatterpolar\"}],\"scatter\":[{\"fillpattern\":{\"fillmode\":\"overlay\",\"size\":10,\"solidity\":0.2},\"type\":\"scatter\"}],\"scatterternary\":[{\"marker\":{\"colorbar\":{\"outlinewidth\":0,\"ticks\":\"\"}},\"type\":\"scatterternary\"}],\"surface\":[{\"colorbar\":{\"outlinewidth\":0,\"ticks\":\"\"},\"colorscale\":[[0.0,\"#0d0887\"],[0.1111111111111111,\"#46039f\"],[0.2222222222222222,\"#7201a8\"],[0.3333333333333333,\"#9c179e\"],[0.4444444444444444,\"#bd3786\"],[0.5555555555555556,\"#d8576b\"],[0.6666666666666666,\"#ed7953\"],[0.7777777777777778,\"#fb9f3a\"],[0.8888888888888888,\"#fdca26\"],[1.0,\"#f0f921\"]],\"type\":\"surface\"}],\"table\":[{\"cells\":{\"fill\":{\"color\":\"#EBF0F8\"},\"line\":{\"color\":\"white\"}},\"header\":{\"fill\":{\"color\":\"#C8D4E3\"},\"line\":{\"color\":\"white\"}},\"type\":\"table\"}]},\"layout\":{\"annotationdefaults\":{\"arrowcolor\":\"#2a3f5f\",\"arrowhead\":0,\"arrowwidth\":1},\"autotypenumbers\":\"strict\",\"coloraxis\":{\"colorbar\":{\"outlinewidth\":0,\"ticks\":\"\"}},\"colorscale\":{\"diverging\":[[0,\"#8e0152\"],[0.1,\"#c51b7d\"],[0.2,\"#de77ae\"],[0.3,\"#f1b6da\"],[0.4,\"#fde0ef\"],[0.5,\"#f7f7f7\"],[0.6,\"#e6f5d0\"],[0.7,\"#b8e186\"],[0.8,\"#7fbc41\"],[0.9,\"#4d9221\"],[1,\"#276419\"]],\"sequential\":[[0.0,\"#0d0887\"],[0.1111111111111111,\"#46039f\"],[0.2222222222222222,\"#7201a8\"],[0.3333333333333333,\"#9c179e\"],[0.4444444444444444,\"#bd3786\"],[0.5555555555555556,\"#d8576b\"],[0.6666666666666666,\"#ed7953\"],[0.7777777777777778,\"#fb9f3a\"],[0.8888888888888888,\"#fdca26\"],[1.0,\"#f0f921\"]],\"sequentialminus\":[[0.0,\"#0d0887\"],[0.1111111111111111,\"#46039f\"],[0.2222222222222222,\"#7201a8\"],[0.3333333333333333,\"#9c179e\"],[0.4444444444444444,\"#bd3786\"],[0.5555555555555556,\"#d8576b\"],[0.6666666666666666,\"#ed7953\"],[0.7777777777777778,\"#fb9f3a\"],[0.8888888888888888,\"#fdca26\"],[1.0,\"#f0f921\"]]},\"colorway\":[\"#636efa\",\"#EF553B\",\"#00cc96\",\"#ab63fa\",\"#FFA15A\",\"#19d3f3\",\"#FF6692\",\"#B6E880\",\"#FF97FF\",\"#FECB52\"],\"font\":{\"color\":\"#2a3f5f\"},\"geo\":{\"bgcolor\":\"white\",\"lakecolor\":\"white\",\"landcolor\":\"#E5ECF6\",\"showlakes\":true,\"showland\":true,\"subunitcolor\":\"white\"},\"hoverlabel\":{\"align\":\"left\"},\"hovermode\":\"closest\",\"mapbox\":{\"style\":\"light\"},\"paper_bgcolor\":\"white\",\"plot_bgcolor\":\"#E5ECF6\",\"polar\":{\"angularaxis\":{\"gridcolor\":\"white\",\"linecolor\":\"white\",\"ticks\":\"\"},\"bgcolor\":\"#E5ECF6\",\"radialaxis\":{\"gridcolor\":\"white\",\"linecolor\":\"white\",\"ticks\":\"\"}},\"scene\":{\"xaxis\":{\"backgroundcolor\":\"#E5ECF6\",\"gridcolor\":\"white\",\"gridwidth\":2,\"linecolor\":\"white\",\"showbackground\":true,\"ticks\":\"\",\"zerolinecolor\":\"white\"},\"yaxis\":{\"backgroundcolor\":\"#E5ECF6\",\"gridcolor\":\"white\",\"gridwidth\":2,\"linecolor\":\"white\",\"showbackground\":true,\"ticks\":\"\",\"zerolinecolor\":\"white\"},\"zaxis\":{\"backgroundcolor\":\"#E5ECF6\",\"gridcolor\":\"white\",\"gridwidth\":2,\"linecolor\":\"white\",\"showbackground\":true,\"ticks\":\"\",\"zerolinecolor\":\"white\"}},\"shapedefaults\":{\"line\":{\"color\":\"#2a3f5f\"}},\"ternary\":{\"aaxis\":{\"gridcolor\":\"white\",\"linecolor\":\"white\",\"ticks\":\"\"},\"baxis\":{\"gridcolor\":\"white\",\"linecolor\":\"white\",\"ticks\":\"\"},\"bgcolor\":\"#E5ECF6\",\"caxis\":{\"gridcolor\":\"white\",\"linecolor\":\"white\",\"ticks\":\"\"}},\"title\":{\"x\":0.05},\"xaxis\":{\"automargin\":true,\"gridcolor\":\"white\",\"linecolor\":\"white\",\"ticks\":\"\",\"title\":{\"standoff\":15},\"zerolinecolor\":\"white\",\"zerolinewidth\":2},\"yaxis\":{\"automargin\":true,\"gridcolor\":\"white\",\"linecolor\":\"white\",\"ticks\":\"\",\"title\":{\"standoff\":15},\"zerolinecolor\":\"white\",\"zerolinewidth\":2}}},\"width\":1000,\"xaxis\":{\"color\":\"black\",\"linecolor\":\"black\",\"linewidth\":1.5,\"mirror\":\"allticks\",\"showgrid\":false,\"showline\":true,\"ticklen\":10,\"ticks\":\"inside\",\"tickwidth\":1.5,\"title\":{\"text\":\"DFA\"},\"zeroline\":false},\"yaxis\":{\"color\":\"black\",\"linecolor\":\"black\",\"linewidth\":1.5,\"mirror\":\"allticks\",\"showgrid\":false,\"showline\":true,\"ticklen\":10,\"ticks\":\"inside\",\"tickwidth\":1.5,\"title\":{\"text\":\"MAE (kcal/mol)\"},\"zeroline\":false}},                        {\"responsive\": true}                    ).then(function(){\n",
       "                            \n",
       "var gd = document.getElementById('4fd3f530-2997-4a18-a8fc-3e3ed5994adb');\n",
       "var x = new MutationObserver(function (mutations, observer) {{\n",
       "        var display = window.getComputedStyle(gd).display;\n",
       "        if (!display || display === 'none') {{\n",
       "            console.log([gd, 'removed!']);\n",
       "            Plotly.purge(gd);\n",
       "            observer.disconnect();\n",
       "        }}\n",
       "}});\n",
       "\n",
       "// Listen for the removal of the full notebook cells\n",
       "var notebookContainer = gd.closest('#notebook-container');\n",
       "if (notebookContainer) {{\n",
       "    x.observe(notebookContainer, {childList: true});\n",
       "}}\n",
       "\n",
       "// Listen for the clearing of the current output cell\n",
       "var outputEl = gd.closest('.output');\n",
       "if (outputEl) {{\n",
       "    x.observe(outputEl, {childList: true});\n",
       "}}\n",
       "\n",
       "                        })                };                });            </script>        </div>"
      ]
     },
     "metadata": {},
     "output_type": "display_data"
    }
   ],
   "source": [
    "x, y = [], []\n",
    "mae_dict = {}\n",
    "for f in functionals:\n",
    "    mae_dict[f] = np.nanmean(np.abs(df[\"delta.%s.vertsse\"%f].values*1))\n",
    "mae_dict = dict(sorted(mae_dict.items(), key=lambda item: item[1]))\n",
    "data = [go.Bar(x=list(mae_dict.keys())[:20],\n",
    "               y=list(mae_dict.values())[:20], name='all'),]\n",
    "layout = go.Layout()\n",
    "layout.update(glob_layout)\n",
    "layout[\"xaxis\"].update({'title': \"DFA\"})\n",
    "layout[\"yaxis\"].update({'title': \"MAE (kcal/mol)\", })\n",
    "layout.update(width=1000, height=500, boxmode='group')\n",
    "fig = dict(data=data, layout=layout)\n",
    "iplot(fig)"
   ]
  },
  {
   "cell_type": "markdown",
   "metadata": {},
   "source": [
    "##### Top DFAs"
   ]
  },
  {
   "cell_type": "code",
   "execution_count": 29,
   "metadata": {},
   "outputs": [
    {
     "data": {
      "application/vnd.plotly.v1+json": {
       "config": {
        "linkText": "Export to plot.ly",
        "plotlyServerURL": "https://plot.ly",
        "showLink": false
       },
       "data": [
        {
         "marker": {
          "size": 8,
          "symbol": "circle"
         },
         "mode": "markers",
         "name": "m06-l_hfx_30",
         "opacity": 0.7,
         "showlegend": true,
         "text": [
          "fe_oct_2_CS_1_CS_1_CS_1_CS_1_CS_1_CS_1_s_1_conf_1",
          "fe_oct_2_CS_1_CS_1_CS_1_CS_1_CS_1_water_1_s_1_conf_1",
          "fe_oct_2_CS_1_CS_1_CS_1_CS_1_water_1_water_1_s_1_conf_1",
          "fe_oct_2_CS_1_CS_1_CS_1_water_1_CS_1_water_1_s_1_conf_1",
          "fe_oct_2_water_1_water_1_CS_1_CS_1_water_1_CS_1_s_1_conf_1",
          "fe_oct_2_water_1_water_1_water_1_CS_1_CS_1_CS_1_s_1_conf_1",
          "fe_oct_2_water_1_water_1_water_1_CS_1_water_1_CS_1_s_1_conf_1",
          "fe_oct_2_water_1_water_1_water_1_water_1_CS_1_CS_1_s_1_conf_1",
          "fe_oct_2_water_1_water_1_water_1_water_1_water_1_CS_1_s_1_conf_1",
          "fe_oct_2_water_1_water_1_water_1_water_1_water_1_water_1_s_1_conf_1"
         ],
         "type": "scatter",
         "x": [
          6,
          5,
          4,
          4,
          3,
          3,
          2,
          2,
          1,
          0
         ],
         "y": [
          0.19084322785261065,
          0.6990607960881334,
          1.6022854999846459,
          1.3745911971204805,
          1.5491804637963469,
          1.4471697490796487,
          1.7496544241294032,
          1.6403974865284,
          1.9207852892373012,
          1.9482378536793021
         ]
        },
        {
         "marker": {
          "size": 8,
          "symbol": "circle"
         },
         "mode": "markers",
         "name": "blyp_hfx_50",
         "opacity": 0.7,
         "showlegend": true,
         "text": [
          "fe_oct_2_CS_1_CS_1_CS_1_CS_1_CS_1_CS_1_s_1_conf_1",
          "fe_oct_2_CS_1_CS_1_CS_1_CS_1_CS_1_water_1_s_1_conf_1",
          "fe_oct_2_CS_1_CS_1_CS_1_CS_1_water_1_water_1_s_1_conf_1",
          "fe_oct_2_CS_1_CS_1_CS_1_water_1_CS_1_water_1_s_1_conf_1",
          "fe_oct_2_water_1_water_1_CS_1_CS_1_water_1_CS_1_s_1_conf_1",
          "fe_oct_2_water_1_water_1_water_1_CS_1_CS_1_CS_1_s_1_conf_1",
          "fe_oct_2_water_1_water_1_water_1_CS_1_water_1_CS_1_s_1_conf_1",
          "fe_oct_2_water_1_water_1_water_1_water_1_CS_1_CS_1_s_1_conf_1",
          "fe_oct_2_water_1_water_1_water_1_water_1_water_1_CS_1_s_1_conf_1",
          "fe_oct_2_water_1_water_1_water_1_water_1_water_1_water_1_s_1_conf_1"
         ],
         "type": "scatter",
         "x": [
          6,
          5,
          4,
          4,
          3,
          3,
          2,
          2,
          1,
          0
         ],
         "y": [
          -3.8397427844722607,
          -2.1740422795062386,
          -0.37473385634143597,
          -0.8901239830504437,
          -0.25179151675615685,
          0.1671579640674281,
          0.6970404049968693,
          1.1856060638660892,
          1.4676508265790744,
          2.0725464574798025
         ]
        },
        {
         "marker": {
          "size": 8,
          "symbol": "circle"
         },
         "mode": "markers",
         "name": "scan_hfx_40",
         "opacity": 0.7,
         "showlegend": true,
         "text": [
          "fe_oct_2_CS_1_CS_1_CS_1_CS_1_CS_1_CS_1_s_1_conf_1",
          "fe_oct_2_CS_1_CS_1_CS_1_CS_1_CS_1_water_1_s_1_conf_1",
          "fe_oct_2_CS_1_CS_1_CS_1_CS_1_water_1_water_1_s_1_conf_1",
          "fe_oct_2_CS_1_CS_1_CS_1_water_1_CS_1_water_1_s_1_conf_1",
          "fe_oct_2_water_1_water_1_CS_1_CS_1_water_1_CS_1_s_1_conf_1",
          "fe_oct_2_water_1_water_1_water_1_CS_1_CS_1_CS_1_s_1_conf_1",
          "fe_oct_2_water_1_water_1_water_1_CS_1_water_1_CS_1_s_1_conf_1",
          "fe_oct_2_water_1_water_1_water_1_water_1_CS_1_CS_1_s_1_conf_1",
          "fe_oct_2_water_1_water_1_water_1_water_1_water_1_CS_1_s_1_conf_1",
          "fe_oct_2_water_1_water_1_water_1_water_1_water_1_water_1_s_1_conf_1"
         ],
         "type": "scatter",
         "x": [
          6,
          5,
          4,
          4,
          3,
          3,
          2,
          2,
          1,
          0
         ],
         "y": [
          -3.660654569579261,
          -2.6939053783758027,
          -1.6530255910151936,
          -1.756042471508863,
          -1.4078895022964844,
          -1.3232054291154327,
          -0.9820858269938597,
          -0.6541599225999946,
          -0.5053983372863513,
          -0.3033109593957306
         ]
        },
        {
         "marker": {
          "size": 8,
          "symbol": "circle"
         },
         "mode": "markers",
         "name": "pbe0-dh",
         "opacity": 0.7,
         "showlegend": true,
         "text": [
          "fe_oct_2_CS_1_CS_1_CS_1_CS_1_CS_1_CS_1_s_1_conf_1",
          "fe_oct_2_CS_1_CS_1_CS_1_CS_1_CS_1_water_1_s_1_conf_1",
          "fe_oct_2_CS_1_CS_1_CS_1_CS_1_water_1_water_1_s_1_conf_1",
          "fe_oct_2_CS_1_CS_1_CS_1_water_1_CS_1_water_1_s_1_conf_1",
          "fe_oct_2_water_1_water_1_CS_1_CS_1_water_1_CS_1_s_1_conf_1",
          "fe_oct_2_water_1_water_1_water_1_CS_1_CS_1_CS_1_s_1_conf_1",
          "fe_oct_2_water_1_water_1_water_1_CS_1_water_1_CS_1_s_1_conf_1",
          "fe_oct_2_water_1_water_1_water_1_water_1_CS_1_CS_1_s_1_conf_1",
          "fe_oct_2_water_1_water_1_water_1_water_1_water_1_CS_1_s_1_conf_1",
          "fe_oct_2_water_1_water_1_water_1_water_1_water_1_water_1_s_1_conf_1"
         ],
         "type": "scatter",
         "x": [
          6,
          5,
          4,
          4,
          3,
          3,
          2,
          2,
          1,
          0
         ],
         "y": [
          0.17364854939842544,
          -0.6490025500761476,
          -1.353778340851484,
          -1.0193798124464521,
          -1.5124293999269867,
          -1.8030467195887923,
          -2.157306015629956,
          -2.314665657978594,
          -2.6428998673543447,
          -3.206274271637426
         ]
        },
        {
         "marker": {
          "color": "black",
          "size": 8,
          "symbol": "circle"
         },
         "mode": "markers+lines",
         "name": "pbe0-dh",
         "opacity": 1,
         "showlegend": false,
         "text": [
          "fe_oct_2_CS_1_CS_1_CS_1_CS_1_CS_1_CS_1_s_1_conf_1",
          "fe_oct_2_CS_1_CS_1_CS_1_CS_1_CS_1_water_1_s_1_conf_1",
          "fe_oct_2_CS_1_CS_1_CS_1_CS_1_water_1_water_1_s_1_conf_1",
          "fe_oct_2_CS_1_CS_1_CS_1_water_1_CS_1_water_1_s_1_conf_1",
          "fe_oct_2_water_1_water_1_CS_1_CS_1_water_1_CS_1_s_1_conf_1",
          "fe_oct_2_water_1_water_1_water_1_CS_1_CS_1_CS_1_s_1_conf_1",
          "fe_oct_2_water_1_water_1_water_1_CS_1_water_1_CS_1_s_1_conf_1",
          "fe_oct_2_water_1_water_1_water_1_water_1_CS_1_CS_1_s_1_conf_1",
          "fe_oct_2_water_1_water_1_water_1_water_1_water_1_CS_1_s_1_conf_1",
          "fe_oct_2_water_1_water_1_water_1_water_1_water_1_water_1_s_1_conf_1"
         ],
         "type": "scatter",
         "x": [
          6,
          5,
          4,
          4,
          3,
          3,
          2,
          2,
          1,
          0
         ],
         "y": [
          0,
          0,
          0,
          0,
          0,
          0,
          0,
          0,
          0,
          0
         ]
        }
       ],
       "layout": {
        "font": {
         "color": "black",
         "family": "Helvetica",
         "size": 24
        },
        "height": 500,
        "legend": {
         "bgcolor": "rgba(0,0,0,0)",
         "orientation": "v",
         "x": 1,
         "y": 1
        },
        "margin": {
         "b": 100,
         "l": 100,
         "r": 10,
         "t": 10
        },
        "paper_bgcolor": "rgba(255,255,255,100)",
        "plot_bgcolor": "white",
        "showlegend": true,
        "template": {
         "data": {
          "bar": [
           {
            "error_x": {
             "color": "#2a3f5f"
            },
            "error_y": {
             "color": "#2a3f5f"
            },
            "marker": {
             "line": {
              "color": "#E5ECF6",
              "width": 0.5
             },
             "pattern": {
              "fillmode": "overlay",
              "size": 10,
              "solidity": 0.2
             }
            },
            "type": "bar"
           }
          ],
          "barpolar": [
           {
            "marker": {
             "line": {
              "color": "#E5ECF6",
              "width": 0.5
             },
             "pattern": {
              "fillmode": "overlay",
              "size": 10,
              "solidity": 0.2
             }
            },
            "type": "barpolar"
           }
          ],
          "carpet": [
           {
            "aaxis": {
             "endlinecolor": "#2a3f5f",
             "gridcolor": "white",
             "linecolor": "white",
             "minorgridcolor": "white",
             "startlinecolor": "#2a3f5f"
            },
            "baxis": {
             "endlinecolor": "#2a3f5f",
             "gridcolor": "white",
             "linecolor": "white",
             "minorgridcolor": "white",
             "startlinecolor": "#2a3f5f"
            },
            "type": "carpet"
           }
          ],
          "choropleth": [
           {
            "colorbar": {
             "outlinewidth": 0,
             "ticks": ""
            },
            "type": "choropleth"
           }
          ],
          "contour": [
           {
            "colorbar": {
             "outlinewidth": 0,
             "ticks": ""
            },
            "colorscale": [
             [
              0,
              "#0d0887"
             ],
             [
              0.1111111111111111,
              "#46039f"
             ],
             [
              0.2222222222222222,
              "#7201a8"
             ],
             [
              0.3333333333333333,
              "#9c179e"
             ],
             [
              0.4444444444444444,
              "#bd3786"
             ],
             [
              0.5555555555555556,
              "#d8576b"
             ],
             [
              0.6666666666666666,
              "#ed7953"
             ],
             [
              0.7777777777777778,
              "#fb9f3a"
             ],
             [
              0.8888888888888888,
              "#fdca26"
             ],
             [
              1,
              "#f0f921"
             ]
            ],
            "type": "contour"
           }
          ],
          "contourcarpet": [
           {
            "colorbar": {
             "outlinewidth": 0,
             "ticks": ""
            },
            "type": "contourcarpet"
           }
          ],
          "heatmap": [
           {
            "colorbar": {
             "outlinewidth": 0,
             "ticks": ""
            },
            "colorscale": [
             [
              0,
              "#0d0887"
             ],
             [
              0.1111111111111111,
              "#46039f"
             ],
             [
              0.2222222222222222,
              "#7201a8"
             ],
             [
              0.3333333333333333,
              "#9c179e"
             ],
             [
              0.4444444444444444,
              "#bd3786"
             ],
             [
              0.5555555555555556,
              "#d8576b"
             ],
             [
              0.6666666666666666,
              "#ed7953"
             ],
             [
              0.7777777777777778,
              "#fb9f3a"
             ],
             [
              0.8888888888888888,
              "#fdca26"
             ],
             [
              1,
              "#f0f921"
             ]
            ],
            "type": "heatmap"
           }
          ],
          "heatmapgl": [
           {
            "colorbar": {
             "outlinewidth": 0,
             "ticks": ""
            },
            "colorscale": [
             [
              0,
              "#0d0887"
             ],
             [
              0.1111111111111111,
              "#46039f"
             ],
             [
              0.2222222222222222,
              "#7201a8"
             ],
             [
              0.3333333333333333,
              "#9c179e"
             ],
             [
              0.4444444444444444,
              "#bd3786"
             ],
             [
              0.5555555555555556,
              "#d8576b"
             ],
             [
              0.6666666666666666,
              "#ed7953"
             ],
             [
              0.7777777777777778,
              "#fb9f3a"
             ],
             [
              0.8888888888888888,
              "#fdca26"
             ],
             [
              1,
              "#f0f921"
             ]
            ],
            "type": "heatmapgl"
           }
          ],
          "histogram": [
           {
            "marker": {
             "pattern": {
              "fillmode": "overlay",
              "size": 10,
              "solidity": 0.2
             }
            },
            "type": "histogram"
           }
          ],
          "histogram2d": [
           {
            "colorbar": {
             "outlinewidth": 0,
             "ticks": ""
            },
            "colorscale": [
             [
              0,
              "#0d0887"
             ],
             [
              0.1111111111111111,
              "#46039f"
             ],
             [
              0.2222222222222222,
              "#7201a8"
             ],
             [
              0.3333333333333333,
              "#9c179e"
             ],
             [
              0.4444444444444444,
              "#bd3786"
             ],
             [
              0.5555555555555556,
              "#d8576b"
             ],
             [
              0.6666666666666666,
              "#ed7953"
             ],
             [
              0.7777777777777778,
              "#fb9f3a"
             ],
             [
              0.8888888888888888,
              "#fdca26"
             ],
             [
              1,
              "#f0f921"
             ]
            ],
            "type": "histogram2d"
           }
          ],
          "histogram2dcontour": [
           {
            "colorbar": {
             "outlinewidth": 0,
             "ticks": ""
            },
            "colorscale": [
             [
              0,
              "#0d0887"
             ],
             [
              0.1111111111111111,
              "#46039f"
             ],
             [
              0.2222222222222222,
              "#7201a8"
             ],
             [
              0.3333333333333333,
              "#9c179e"
             ],
             [
              0.4444444444444444,
              "#bd3786"
             ],
             [
              0.5555555555555556,
              "#d8576b"
             ],
             [
              0.6666666666666666,
              "#ed7953"
             ],
             [
              0.7777777777777778,
              "#fb9f3a"
             ],
             [
              0.8888888888888888,
              "#fdca26"
             ],
             [
              1,
              "#f0f921"
             ]
            ],
            "type": "histogram2dcontour"
           }
          ],
          "mesh3d": [
           {
            "colorbar": {
             "outlinewidth": 0,
             "ticks": ""
            },
            "type": "mesh3d"
           }
          ],
          "parcoords": [
           {
            "line": {
             "colorbar": {
              "outlinewidth": 0,
              "ticks": ""
             }
            },
            "type": "parcoords"
           }
          ],
          "pie": [
           {
            "automargin": true,
            "type": "pie"
           }
          ],
          "scatter": [
           {
            "fillpattern": {
             "fillmode": "overlay",
             "size": 10,
             "solidity": 0.2
            },
            "type": "scatter"
           }
          ],
          "scatter3d": [
           {
            "line": {
             "colorbar": {
              "outlinewidth": 0,
              "ticks": ""
             }
            },
            "marker": {
             "colorbar": {
              "outlinewidth": 0,
              "ticks": ""
             }
            },
            "type": "scatter3d"
           }
          ],
          "scattercarpet": [
           {
            "marker": {
             "colorbar": {
              "outlinewidth": 0,
              "ticks": ""
             }
            },
            "type": "scattercarpet"
           }
          ],
          "scattergeo": [
           {
            "marker": {
             "colorbar": {
              "outlinewidth": 0,
              "ticks": ""
             }
            },
            "type": "scattergeo"
           }
          ],
          "scattergl": [
           {
            "marker": {
             "colorbar": {
              "outlinewidth": 0,
              "ticks": ""
             }
            },
            "type": "scattergl"
           }
          ],
          "scattermapbox": [
           {
            "marker": {
             "colorbar": {
              "outlinewidth": 0,
              "ticks": ""
             }
            },
            "type": "scattermapbox"
           }
          ],
          "scatterpolar": [
           {
            "marker": {
             "colorbar": {
              "outlinewidth": 0,
              "ticks": ""
             }
            },
            "type": "scatterpolar"
           }
          ],
          "scatterpolargl": [
           {
            "marker": {
             "colorbar": {
              "outlinewidth": 0,
              "ticks": ""
             }
            },
            "type": "scatterpolargl"
           }
          ],
          "scatterternary": [
           {
            "marker": {
             "colorbar": {
              "outlinewidth": 0,
              "ticks": ""
             }
            },
            "type": "scatterternary"
           }
          ],
          "surface": [
           {
            "colorbar": {
             "outlinewidth": 0,
             "ticks": ""
            },
            "colorscale": [
             [
              0,
              "#0d0887"
             ],
             [
              0.1111111111111111,
              "#46039f"
             ],
             [
              0.2222222222222222,
              "#7201a8"
             ],
             [
              0.3333333333333333,
              "#9c179e"
             ],
             [
              0.4444444444444444,
              "#bd3786"
             ],
             [
              0.5555555555555556,
              "#d8576b"
             ],
             [
              0.6666666666666666,
              "#ed7953"
             ],
             [
              0.7777777777777778,
              "#fb9f3a"
             ],
             [
              0.8888888888888888,
              "#fdca26"
             ],
             [
              1,
              "#f0f921"
             ]
            ],
            "type": "surface"
           }
          ],
          "table": [
           {
            "cells": {
             "fill": {
              "color": "#EBF0F8"
             },
             "line": {
              "color": "white"
             }
            },
            "header": {
             "fill": {
              "color": "#C8D4E3"
             },
             "line": {
              "color": "white"
             }
            },
            "type": "table"
           }
          ]
         },
         "layout": {
          "annotationdefaults": {
           "arrowcolor": "#2a3f5f",
           "arrowhead": 0,
           "arrowwidth": 1
          },
          "autotypenumbers": "strict",
          "coloraxis": {
           "colorbar": {
            "outlinewidth": 0,
            "ticks": ""
           }
          },
          "colorscale": {
           "diverging": [
            [
             0,
             "#8e0152"
            ],
            [
             0.1,
             "#c51b7d"
            ],
            [
             0.2,
             "#de77ae"
            ],
            [
             0.3,
             "#f1b6da"
            ],
            [
             0.4,
             "#fde0ef"
            ],
            [
             0.5,
             "#f7f7f7"
            ],
            [
             0.6,
             "#e6f5d0"
            ],
            [
             0.7,
             "#b8e186"
            ],
            [
             0.8,
             "#7fbc41"
            ],
            [
             0.9,
             "#4d9221"
            ],
            [
             1,
             "#276419"
            ]
           ],
           "sequential": [
            [
             0,
             "#0d0887"
            ],
            [
             0.1111111111111111,
             "#46039f"
            ],
            [
             0.2222222222222222,
             "#7201a8"
            ],
            [
             0.3333333333333333,
             "#9c179e"
            ],
            [
             0.4444444444444444,
             "#bd3786"
            ],
            [
             0.5555555555555556,
             "#d8576b"
            ],
            [
             0.6666666666666666,
             "#ed7953"
            ],
            [
             0.7777777777777778,
             "#fb9f3a"
            ],
            [
             0.8888888888888888,
             "#fdca26"
            ],
            [
             1,
             "#f0f921"
            ]
           ],
           "sequentialminus": [
            [
             0,
             "#0d0887"
            ],
            [
             0.1111111111111111,
             "#46039f"
            ],
            [
             0.2222222222222222,
             "#7201a8"
            ],
            [
             0.3333333333333333,
             "#9c179e"
            ],
            [
             0.4444444444444444,
             "#bd3786"
            ],
            [
             0.5555555555555556,
             "#d8576b"
            ],
            [
             0.6666666666666666,
             "#ed7953"
            ],
            [
             0.7777777777777778,
             "#fb9f3a"
            ],
            [
             0.8888888888888888,
             "#fdca26"
            ],
            [
             1,
             "#f0f921"
            ]
           ]
          },
          "colorway": [
           "#636efa",
           "#EF553B",
           "#00cc96",
           "#ab63fa",
           "#FFA15A",
           "#19d3f3",
           "#FF6692",
           "#B6E880",
           "#FF97FF",
           "#FECB52"
          ],
          "font": {
           "color": "#2a3f5f"
          },
          "geo": {
           "bgcolor": "white",
           "lakecolor": "white",
           "landcolor": "#E5ECF6",
           "showlakes": true,
           "showland": true,
           "subunitcolor": "white"
          },
          "hoverlabel": {
           "align": "left"
          },
          "hovermode": "closest",
          "mapbox": {
           "style": "light"
          },
          "paper_bgcolor": "white",
          "plot_bgcolor": "#E5ECF6",
          "polar": {
           "angularaxis": {
            "gridcolor": "white",
            "linecolor": "white",
            "ticks": ""
           },
           "bgcolor": "#E5ECF6",
           "radialaxis": {
            "gridcolor": "white",
            "linecolor": "white",
            "ticks": ""
           }
          },
          "scene": {
           "xaxis": {
            "backgroundcolor": "#E5ECF6",
            "gridcolor": "white",
            "gridwidth": 2,
            "linecolor": "white",
            "showbackground": true,
            "ticks": "",
            "zerolinecolor": "white"
           },
           "yaxis": {
            "backgroundcolor": "#E5ECF6",
            "gridcolor": "white",
            "gridwidth": 2,
            "linecolor": "white",
            "showbackground": true,
            "ticks": "",
            "zerolinecolor": "white"
           },
           "zaxis": {
            "backgroundcolor": "#E5ECF6",
            "gridcolor": "white",
            "gridwidth": 2,
            "linecolor": "white",
            "showbackground": true,
            "ticks": "",
            "zerolinecolor": "white"
           }
          },
          "shapedefaults": {
           "line": {
            "color": "#2a3f5f"
           }
          },
          "ternary": {
           "aaxis": {
            "gridcolor": "white",
            "linecolor": "white",
            "ticks": ""
           },
           "baxis": {
            "gridcolor": "white",
            "linecolor": "white",
            "ticks": ""
           },
           "bgcolor": "#E5ECF6",
           "caxis": {
            "gridcolor": "white",
            "linecolor": "white",
            "ticks": ""
           }
          },
          "title": {
           "x": 0.05
          },
          "xaxis": {
           "automargin": true,
           "gridcolor": "white",
           "linecolor": "white",
           "ticks": "",
           "title": {
            "standoff": 15
           },
           "zerolinecolor": "white",
           "zerolinewidth": 2
          },
          "yaxis": {
           "automargin": true,
           "gridcolor": "white",
           "linecolor": "white",
           "ticks": "",
           "title": {
            "standoff": 15
           },
           "zerolinecolor": "white",
           "zerolinewidth": 2
          }
         }
        },
        "width": 700,
        "xaxis": {
         "color": "black",
         "linecolor": "black",
         "linewidth": 1.5,
         "mirror": "allticks",
         "showgrid": false,
         "showline": true,
         "ticklen": 10,
         "ticks": "inside",
         "tickwidth": 1.5,
         "title": {
          "text": "number of CS"
         },
         "zeroline": false
        },
        "yaxis": {
         "color": "black",
         "linecolor": "black",
         "linewidth": 1.5,
         "mirror": "allticks",
         "showgrid": false,
         "showline": true,
         "ticklen": 10,
         "ticks": "inside",
         "tickwidth": 1.5,
         "title": {
          "text": "vertSSE (kcal/mol)"
         },
         "zeroline": false
        }
       }
      },
      "text/html": [
       "<div>                            <div id=\"69e437a1-e7f2-482c-81ce-7f1ac148b674\" class=\"plotly-graph-div\" style=\"height:500px; width:700px;\"></div>            <script type=\"text/javascript\">                require([\"plotly\"], function(Plotly) {                    window.PLOTLYENV=window.PLOTLYENV || {};                                    if (document.getElementById(\"69e437a1-e7f2-482c-81ce-7f1ac148b674\")) {                    Plotly.newPlot(                        \"69e437a1-e7f2-482c-81ce-7f1ac148b674\",                        [{\"marker\":{\"size\":8,\"symbol\":\"circle\"},\"mode\":\"markers\",\"name\":\"m06-l_hfx_30\",\"opacity\":0.7,\"showlegend\":true,\"text\":[\"fe_oct_2_CS_1_CS_1_CS_1_CS_1_CS_1_CS_1_s_1_conf_1\",\"fe_oct_2_CS_1_CS_1_CS_1_CS_1_CS_1_water_1_s_1_conf_1\",\"fe_oct_2_CS_1_CS_1_CS_1_CS_1_water_1_water_1_s_1_conf_1\",\"fe_oct_2_CS_1_CS_1_CS_1_water_1_CS_1_water_1_s_1_conf_1\",\"fe_oct_2_water_1_water_1_CS_1_CS_1_water_1_CS_1_s_1_conf_1\",\"fe_oct_2_water_1_water_1_water_1_CS_1_CS_1_CS_1_s_1_conf_1\",\"fe_oct_2_water_1_water_1_water_1_CS_1_water_1_CS_1_s_1_conf_1\",\"fe_oct_2_water_1_water_1_water_1_water_1_CS_1_CS_1_s_1_conf_1\",\"fe_oct_2_water_1_water_1_water_1_water_1_water_1_CS_1_s_1_conf_1\",\"fe_oct_2_water_1_water_1_water_1_water_1_water_1_water_1_s_1_conf_1\"],\"x\":[6,5,4,4,3,3,2,2,1,0],\"y\":[0.19084322785261065,0.6990607960881334,1.6022854999846459,1.3745911971204805,1.5491804637963469,1.4471697490796487,1.7496544241294032,1.6403974865284,1.9207852892373012,1.9482378536793021],\"type\":\"scatter\"},{\"marker\":{\"size\":8,\"symbol\":\"circle\"},\"mode\":\"markers\",\"name\":\"blyp_hfx_50\",\"opacity\":0.7,\"showlegend\":true,\"text\":[\"fe_oct_2_CS_1_CS_1_CS_1_CS_1_CS_1_CS_1_s_1_conf_1\",\"fe_oct_2_CS_1_CS_1_CS_1_CS_1_CS_1_water_1_s_1_conf_1\",\"fe_oct_2_CS_1_CS_1_CS_1_CS_1_water_1_water_1_s_1_conf_1\",\"fe_oct_2_CS_1_CS_1_CS_1_water_1_CS_1_water_1_s_1_conf_1\",\"fe_oct_2_water_1_water_1_CS_1_CS_1_water_1_CS_1_s_1_conf_1\",\"fe_oct_2_water_1_water_1_water_1_CS_1_CS_1_CS_1_s_1_conf_1\",\"fe_oct_2_water_1_water_1_water_1_CS_1_water_1_CS_1_s_1_conf_1\",\"fe_oct_2_water_1_water_1_water_1_water_1_CS_1_CS_1_s_1_conf_1\",\"fe_oct_2_water_1_water_1_water_1_water_1_water_1_CS_1_s_1_conf_1\",\"fe_oct_2_water_1_water_1_water_1_water_1_water_1_water_1_s_1_conf_1\"],\"x\":[6,5,4,4,3,3,2,2,1,0],\"y\":[-3.8397427844722607,-2.1740422795062386,-0.37473385634143597,-0.8901239830504437,-0.25179151675615685,0.1671579640674281,0.6970404049968693,1.1856060638660892,1.4676508265790744,2.0725464574798025],\"type\":\"scatter\"},{\"marker\":{\"size\":8,\"symbol\":\"circle\"},\"mode\":\"markers\",\"name\":\"scan_hfx_40\",\"opacity\":0.7,\"showlegend\":true,\"text\":[\"fe_oct_2_CS_1_CS_1_CS_1_CS_1_CS_1_CS_1_s_1_conf_1\",\"fe_oct_2_CS_1_CS_1_CS_1_CS_1_CS_1_water_1_s_1_conf_1\",\"fe_oct_2_CS_1_CS_1_CS_1_CS_1_water_1_water_1_s_1_conf_1\",\"fe_oct_2_CS_1_CS_1_CS_1_water_1_CS_1_water_1_s_1_conf_1\",\"fe_oct_2_water_1_water_1_CS_1_CS_1_water_1_CS_1_s_1_conf_1\",\"fe_oct_2_water_1_water_1_water_1_CS_1_CS_1_CS_1_s_1_conf_1\",\"fe_oct_2_water_1_water_1_water_1_CS_1_water_1_CS_1_s_1_conf_1\",\"fe_oct_2_water_1_water_1_water_1_water_1_CS_1_CS_1_s_1_conf_1\",\"fe_oct_2_water_1_water_1_water_1_water_1_water_1_CS_1_s_1_conf_1\",\"fe_oct_2_water_1_water_1_water_1_water_1_water_1_water_1_s_1_conf_1\"],\"x\":[6,5,4,4,3,3,2,2,1,0],\"y\":[-3.660654569579261,-2.6939053783758027,-1.6530255910151936,-1.756042471508863,-1.4078895022964844,-1.3232054291154327,-0.9820858269938597,-0.6541599225999946,-0.5053983372863513,-0.3033109593957306],\"type\":\"scatter\"},{\"marker\":{\"size\":8,\"symbol\":\"circle\"},\"mode\":\"markers\",\"name\":\"pbe0-dh\",\"opacity\":0.7,\"showlegend\":true,\"text\":[\"fe_oct_2_CS_1_CS_1_CS_1_CS_1_CS_1_CS_1_s_1_conf_1\",\"fe_oct_2_CS_1_CS_1_CS_1_CS_1_CS_1_water_1_s_1_conf_1\",\"fe_oct_2_CS_1_CS_1_CS_1_CS_1_water_1_water_1_s_1_conf_1\",\"fe_oct_2_CS_1_CS_1_CS_1_water_1_CS_1_water_1_s_1_conf_1\",\"fe_oct_2_water_1_water_1_CS_1_CS_1_water_1_CS_1_s_1_conf_1\",\"fe_oct_2_water_1_water_1_water_1_CS_1_CS_1_CS_1_s_1_conf_1\",\"fe_oct_2_water_1_water_1_water_1_CS_1_water_1_CS_1_s_1_conf_1\",\"fe_oct_2_water_1_water_1_water_1_water_1_CS_1_CS_1_s_1_conf_1\",\"fe_oct_2_water_1_water_1_water_1_water_1_water_1_CS_1_s_1_conf_1\",\"fe_oct_2_water_1_water_1_water_1_water_1_water_1_water_1_s_1_conf_1\"],\"x\":[6,5,4,4,3,3,2,2,1,0],\"y\":[0.17364854939842544,-0.6490025500761476,-1.353778340851484,-1.0193798124464521,-1.5124293999269867,-1.8030467195887923,-2.157306015629956,-2.314665657978594,-2.6428998673543447,-3.206274271637426],\"type\":\"scatter\"},{\"marker\":{\"color\":\"black\",\"size\":8,\"symbol\":\"circle\"},\"mode\":\"markers+lines\",\"name\":\"pbe0-dh\",\"opacity\":1,\"showlegend\":false,\"text\":[\"fe_oct_2_CS_1_CS_1_CS_1_CS_1_CS_1_CS_1_s_1_conf_1\",\"fe_oct_2_CS_1_CS_1_CS_1_CS_1_CS_1_water_1_s_1_conf_1\",\"fe_oct_2_CS_1_CS_1_CS_1_CS_1_water_1_water_1_s_1_conf_1\",\"fe_oct_2_CS_1_CS_1_CS_1_water_1_CS_1_water_1_s_1_conf_1\",\"fe_oct_2_water_1_water_1_CS_1_CS_1_water_1_CS_1_s_1_conf_1\",\"fe_oct_2_water_1_water_1_water_1_CS_1_CS_1_CS_1_s_1_conf_1\",\"fe_oct_2_water_1_water_1_water_1_CS_1_water_1_CS_1_s_1_conf_1\",\"fe_oct_2_water_1_water_1_water_1_water_1_CS_1_CS_1_s_1_conf_1\",\"fe_oct_2_water_1_water_1_water_1_water_1_water_1_CS_1_s_1_conf_1\",\"fe_oct_2_water_1_water_1_water_1_water_1_water_1_water_1_s_1_conf_1\"],\"x\":[6,5,4,4,3,3,2,2,1,0],\"y\":[0.0,0.0,0.0,0.0,0.0,0.0,0.0,0.0,0.0,0.0],\"type\":\"scatter\"}],                        {\"font\":{\"color\":\"black\",\"family\":\"Helvetica\",\"size\":24},\"height\":500,\"legend\":{\"bgcolor\":\"rgba(0,0,0,0)\",\"orientation\":\"v\",\"x\":1,\"y\":1},\"margin\":{\"b\":100,\"l\":100,\"r\":10,\"t\":10},\"paper_bgcolor\":\"rgba(255,255,255,100)\",\"plot_bgcolor\":\"white\",\"showlegend\":true,\"template\":{\"data\":{\"barpolar\":[{\"marker\":{\"line\":{\"color\":\"#E5ECF6\",\"width\":0.5},\"pattern\":{\"fillmode\":\"overlay\",\"size\":10,\"solidity\":0.2}},\"type\":\"barpolar\"}],\"bar\":[{\"error_x\":{\"color\":\"#2a3f5f\"},\"error_y\":{\"color\":\"#2a3f5f\"},\"marker\":{\"line\":{\"color\":\"#E5ECF6\",\"width\":0.5},\"pattern\":{\"fillmode\":\"overlay\",\"size\":10,\"solidity\":0.2}},\"type\":\"bar\"}],\"carpet\":[{\"aaxis\":{\"endlinecolor\":\"#2a3f5f\",\"gridcolor\":\"white\",\"linecolor\":\"white\",\"minorgridcolor\":\"white\",\"startlinecolor\":\"#2a3f5f\"},\"baxis\":{\"endlinecolor\":\"#2a3f5f\",\"gridcolor\":\"white\",\"linecolor\":\"white\",\"minorgridcolor\":\"white\",\"startlinecolor\":\"#2a3f5f\"},\"type\":\"carpet\"}],\"choropleth\":[{\"colorbar\":{\"outlinewidth\":0,\"ticks\":\"\"},\"type\":\"choropleth\"}],\"contourcarpet\":[{\"colorbar\":{\"outlinewidth\":0,\"ticks\":\"\"},\"type\":\"contourcarpet\"}],\"contour\":[{\"colorbar\":{\"outlinewidth\":0,\"ticks\":\"\"},\"colorscale\":[[0.0,\"#0d0887\"],[0.1111111111111111,\"#46039f\"],[0.2222222222222222,\"#7201a8\"],[0.3333333333333333,\"#9c179e\"],[0.4444444444444444,\"#bd3786\"],[0.5555555555555556,\"#d8576b\"],[0.6666666666666666,\"#ed7953\"],[0.7777777777777778,\"#fb9f3a\"],[0.8888888888888888,\"#fdca26\"],[1.0,\"#f0f921\"]],\"type\":\"contour\"}],\"heatmapgl\":[{\"colorbar\":{\"outlinewidth\":0,\"ticks\":\"\"},\"colorscale\":[[0.0,\"#0d0887\"],[0.1111111111111111,\"#46039f\"],[0.2222222222222222,\"#7201a8\"],[0.3333333333333333,\"#9c179e\"],[0.4444444444444444,\"#bd3786\"],[0.5555555555555556,\"#d8576b\"],[0.6666666666666666,\"#ed7953\"],[0.7777777777777778,\"#fb9f3a\"],[0.8888888888888888,\"#fdca26\"],[1.0,\"#f0f921\"]],\"type\":\"heatmapgl\"}],\"heatmap\":[{\"colorbar\":{\"outlinewidth\":0,\"ticks\":\"\"},\"colorscale\":[[0.0,\"#0d0887\"],[0.1111111111111111,\"#46039f\"],[0.2222222222222222,\"#7201a8\"],[0.3333333333333333,\"#9c179e\"],[0.4444444444444444,\"#bd3786\"],[0.5555555555555556,\"#d8576b\"],[0.6666666666666666,\"#ed7953\"],[0.7777777777777778,\"#fb9f3a\"],[0.8888888888888888,\"#fdca26\"],[1.0,\"#f0f921\"]],\"type\":\"heatmap\"}],\"histogram2dcontour\":[{\"colorbar\":{\"outlinewidth\":0,\"ticks\":\"\"},\"colorscale\":[[0.0,\"#0d0887\"],[0.1111111111111111,\"#46039f\"],[0.2222222222222222,\"#7201a8\"],[0.3333333333333333,\"#9c179e\"],[0.4444444444444444,\"#bd3786\"],[0.5555555555555556,\"#d8576b\"],[0.6666666666666666,\"#ed7953\"],[0.7777777777777778,\"#fb9f3a\"],[0.8888888888888888,\"#fdca26\"],[1.0,\"#f0f921\"]],\"type\":\"histogram2dcontour\"}],\"histogram2d\":[{\"colorbar\":{\"outlinewidth\":0,\"ticks\":\"\"},\"colorscale\":[[0.0,\"#0d0887\"],[0.1111111111111111,\"#46039f\"],[0.2222222222222222,\"#7201a8\"],[0.3333333333333333,\"#9c179e\"],[0.4444444444444444,\"#bd3786\"],[0.5555555555555556,\"#d8576b\"],[0.6666666666666666,\"#ed7953\"],[0.7777777777777778,\"#fb9f3a\"],[0.8888888888888888,\"#fdca26\"],[1.0,\"#f0f921\"]],\"type\":\"histogram2d\"}],\"histogram\":[{\"marker\":{\"pattern\":{\"fillmode\":\"overlay\",\"size\":10,\"solidity\":0.2}},\"type\":\"histogram\"}],\"mesh3d\":[{\"colorbar\":{\"outlinewidth\":0,\"ticks\":\"\"},\"type\":\"mesh3d\"}],\"parcoords\":[{\"line\":{\"colorbar\":{\"outlinewidth\":0,\"ticks\":\"\"}},\"type\":\"parcoords\"}],\"pie\":[{\"automargin\":true,\"type\":\"pie\"}],\"scatter3d\":[{\"line\":{\"colorbar\":{\"outlinewidth\":0,\"ticks\":\"\"}},\"marker\":{\"colorbar\":{\"outlinewidth\":0,\"ticks\":\"\"}},\"type\":\"scatter3d\"}],\"scattercarpet\":[{\"marker\":{\"colorbar\":{\"outlinewidth\":0,\"ticks\":\"\"}},\"type\":\"scattercarpet\"}],\"scattergeo\":[{\"marker\":{\"colorbar\":{\"outlinewidth\":0,\"ticks\":\"\"}},\"type\":\"scattergeo\"}],\"scattergl\":[{\"marker\":{\"colorbar\":{\"outlinewidth\":0,\"ticks\":\"\"}},\"type\":\"scattergl\"}],\"scattermapbox\":[{\"marker\":{\"colorbar\":{\"outlinewidth\":0,\"ticks\":\"\"}},\"type\":\"scattermapbox\"}],\"scatterpolargl\":[{\"marker\":{\"colorbar\":{\"outlinewidth\":0,\"ticks\":\"\"}},\"type\":\"scatterpolargl\"}],\"scatterpolar\":[{\"marker\":{\"colorbar\":{\"outlinewidth\":0,\"ticks\":\"\"}},\"type\":\"scatterpolar\"}],\"scatter\":[{\"fillpattern\":{\"fillmode\":\"overlay\",\"size\":10,\"solidity\":0.2},\"type\":\"scatter\"}],\"scatterternary\":[{\"marker\":{\"colorbar\":{\"outlinewidth\":0,\"ticks\":\"\"}},\"type\":\"scatterternary\"}],\"surface\":[{\"colorbar\":{\"outlinewidth\":0,\"ticks\":\"\"},\"colorscale\":[[0.0,\"#0d0887\"],[0.1111111111111111,\"#46039f\"],[0.2222222222222222,\"#7201a8\"],[0.3333333333333333,\"#9c179e\"],[0.4444444444444444,\"#bd3786\"],[0.5555555555555556,\"#d8576b\"],[0.6666666666666666,\"#ed7953\"],[0.7777777777777778,\"#fb9f3a\"],[0.8888888888888888,\"#fdca26\"],[1.0,\"#f0f921\"]],\"type\":\"surface\"}],\"table\":[{\"cells\":{\"fill\":{\"color\":\"#EBF0F8\"},\"line\":{\"color\":\"white\"}},\"header\":{\"fill\":{\"color\":\"#C8D4E3\"},\"line\":{\"color\":\"white\"}},\"type\":\"table\"}]},\"layout\":{\"annotationdefaults\":{\"arrowcolor\":\"#2a3f5f\",\"arrowhead\":0,\"arrowwidth\":1},\"autotypenumbers\":\"strict\",\"coloraxis\":{\"colorbar\":{\"outlinewidth\":0,\"ticks\":\"\"}},\"colorscale\":{\"diverging\":[[0,\"#8e0152\"],[0.1,\"#c51b7d\"],[0.2,\"#de77ae\"],[0.3,\"#f1b6da\"],[0.4,\"#fde0ef\"],[0.5,\"#f7f7f7\"],[0.6,\"#e6f5d0\"],[0.7,\"#b8e186\"],[0.8,\"#7fbc41\"],[0.9,\"#4d9221\"],[1,\"#276419\"]],\"sequential\":[[0.0,\"#0d0887\"],[0.1111111111111111,\"#46039f\"],[0.2222222222222222,\"#7201a8\"],[0.3333333333333333,\"#9c179e\"],[0.4444444444444444,\"#bd3786\"],[0.5555555555555556,\"#d8576b\"],[0.6666666666666666,\"#ed7953\"],[0.7777777777777778,\"#fb9f3a\"],[0.8888888888888888,\"#fdca26\"],[1.0,\"#f0f921\"]],\"sequentialminus\":[[0.0,\"#0d0887\"],[0.1111111111111111,\"#46039f\"],[0.2222222222222222,\"#7201a8\"],[0.3333333333333333,\"#9c179e\"],[0.4444444444444444,\"#bd3786\"],[0.5555555555555556,\"#d8576b\"],[0.6666666666666666,\"#ed7953\"],[0.7777777777777778,\"#fb9f3a\"],[0.8888888888888888,\"#fdca26\"],[1.0,\"#f0f921\"]]},\"colorway\":[\"#636efa\",\"#EF553B\",\"#00cc96\",\"#ab63fa\",\"#FFA15A\",\"#19d3f3\",\"#FF6692\",\"#B6E880\",\"#FF97FF\",\"#FECB52\"],\"font\":{\"color\":\"#2a3f5f\"},\"geo\":{\"bgcolor\":\"white\",\"lakecolor\":\"white\",\"landcolor\":\"#E5ECF6\",\"showlakes\":true,\"showland\":true,\"subunitcolor\":\"white\"},\"hoverlabel\":{\"align\":\"left\"},\"hovermode\":\"closest\",\"mapbox\":{\"style\":\"light\"},\"paper_bgcolor\":\"white\",\"plot_bgcolor\":\"#E5ECF6\",\"polar\":{\"angularaxis\":{\"gridcolor\":\"white\",\"linecolor\":\"white\",\"ticks\":\"\"},\"bgcolor\":\"#E5ECF6\",\"radialaxis\":{\"gridcolor\":\"white\",\"linecolor\":\"white\",\"ticks\":\"\"}},\"scene\":{\"xaxis\":{\"backgroundcolor\":\"#E5ECF6\",\"gridcolor\":\"white\",\"gridwidth\":2,\"linecolor\":\"white\",\"showbackground\":true,\"ticks\":\"\",\"zerolinecolor\":\"white\"},\"yaxis\":{\"backgroundcolor\":\"#E5ECF6\",\"gridcolor\":\"white\",\"gridwidth\":2,\"linecolor\":\"white\",\"showbackground\":true,\"ticks\":\"\",\"zerolinecolor\":\"white\"},\"zaxis\":{\"backgroundcolor\":\"#E5ECF6\",\"gridcolor\":\"white\",\"gridwidth\":2,\"linecolor\":\"white\",\"showbackground\":true,\"ticks\":\"\",\"zerolinecolor\":\"white\"}},\"shapedefaults\":{\"line\":{\"color\":\"#2a3f5f\"}},\"ternary\":{\"aaxis\":{\"gridcolor\":\"white\",\"linecolor\":\"white\",\"ticks\":\"\"},\"baxis\":{\"gridcolor\":\"white\",\"linecolor\":\"white\",\"ticks\":\"\"},\"bgcolor\":\"#E5ECF6\",\"caxis\":{\"gridcolor\":\"white\",\"linecolor\":\"white\",\"ticks\":\"\"}},\"title\":{\"x\":0.05},\"xaxis\":{\"automargin\":true,\"gridcolor\":\"white\",\"linecolor\":\"white\",\"ticks\":\"\",\"title\":{\"standoff\":15},\"zerolinecolor\":\"white\",\"zerolinewidth\":2},\"yaxis\":{\"automargin\":true,\"gridcolor\":\"white\",\"linecolor\":\"white\",\"ticks\":\"\",\"title\":{\"standoff\":15},\"zerolinecolor\":\"white\",\"zerolinewidth\":2}}},\"width\":700,\"xaxis\":{\"color\":\"black\",\"linecolor\":\"black\",\"linewidth\":1.5,\"mirror\":\"allticks\",\"showgrid\":false,\"showline\":true,\"ticklen\":10,\"ticks\":\"inside\",\"tickwidth\":1.5,\"title\":{\"text\":\"number of CS\"},\"zeroline\":false},\"yaxis\":{\"color\":\"black\",\"linecolor\":\"black\",\"linewidth\":1.5,\"mirror\":\"allticks\",\"showgrid\":false,\"showline\":true,\"ticklen\":10,\"ticks\":\"inside\",\"tickwidth\":1.5,\"title\":{\"text\":\"vertSSE (kcal/mol)\"},\"zeroline\":false}},                        {\"responsive\": true}                    ).then(function(){\n",
       "                            \n",
       "var gd = document.getElementById('69e437a1-e7f2-482c-81ce-7f1ac148b674');\n",
       "var x = new MutationObserver(function (mutations, observer) {{\n",
       "        var display = window.getComputedStyle(gd).display;\n",
       "        if (!display || display === 'none') {{\n",
       "            console.log([gd, 'removed!']);\n",
       "            Plotly.purge(gd);\n",
       "            observer.disconnect();\n",
       "        }}\n",
       "}});\n",
       "\n",
       "// Listen for the removal of the full notebook cells\n",
       "var notebookContainer = gd.closest('#notebook-container');\n",
       "if (notebookContainer) {{\n",
       "    x.observe(notebookContainer, {childList: true});\n",
       "}}\n",
       "\n",
       "// Listen for the clearing of the current output cell\n",
       "var outputEl = gd.closest('.output');\n",
       "if (outputEl) {{\n",
       "    x.observe(outputEl, {childList: true});\n",
       "}}\n",
       "\n",
       "                        })                };                });            </script>        </div>"
      ]
     },
     "metadata": {},
     "output_type": "display_data"
    }
   ],
   "source": [
    "fs = [\"m06-l_hfx_30\", \"blyp_hfx_50\", \"scan_hfx_40\", \"pbe0-dh\"]\n",
    "data = []\n",
    "for f in fs: \n",
    "    trace0 = go.Scatter(\n",
    "        x=df[\"nCS\"].values,\n",
    "        y=df[f + \".vertsse\"].values -  df[\"dlpno-CCSD_T\" + \".vertsse\"].values,\n",
    "        mode='markers',\n",
    "        opacity=0.7,\n",
    "        marker=dict(\n",
    "            symbol='circle',\n",
    "            size=8,\n",
    "        ),\n",
    "        text=df[\"name\"].values,\n",
    "        showlegend=True,\n",
    "        name = f,\n",
    "    )\n",
    "    data += [trace0]\n",
    "trace0 = go.Scatter(\n",
    "        x=df[\"nCS\"].values,\n",
    "        y=df[\"dlpno-CCSD_T.vertsse\"].values -  df[\"dlpno-CCSD_T\" + \".vertsse\"].values,\n",
    "        mode='markers+lines',\n",
    "        opacity=1,\n",
    "        marker=dict(\n",
    "            symbol='circle',\n",
    "            size=8,\n",
    "            color=\"black\"\n",
    "        ),\n",
    "        text=df[\"name\"].values,\n",
    "        showlegend=False,\n",
    "        name = f,\n",
    "    )\n",
    "data += [trace0]\n",
    "layout = go.Layout()\n",
    "layout.update(glob_layout)\n",
    "layout.legend.update(x=1, y=1, bgcolor=\"rgba(0,0,0,0)\")\n",
    "layout['xaxis'].update({\"title\": \"number of CS\"})\n",
    "layout['yaxis'].update({\"title\": \"vertSSE (kcal/mol)\",})\n",
    "layout.update(height=500, width=700, showlegend=True)\n",
    "fig = go.Figure(data=data, layout=layout)\n",
    "iplot(fig)"
   ]
  },
  {
   "cell_type": "markdown",
   "metadata": {},
   "source": [
    "### Predict the veritcal spin-splitting energy on the controled fe-h2o-cs set"
   ]
  },
  {
   "cell_type": "code",
   "execution_count": 11,
   "metadata": {},
   "outputs": [],
   "source": [
    "torch.set_num_threads(4)\n",
    "torch.manual_seed(0)\n",
    "np.random.seed(0)\n",
    "device = torch.device('cpu')\n",
    "num_workers = 0"
   ]
  },
  {
   "cell_type": "markdown",
   "metadata": {},
   "source": [
    "##### set path for relavant data files: previous model directly tested on the out-of-distribution CSD complexes that have more diverse ligands and connectivities"
   ]
  },
  {
   "cell_type": "code",
   "execution_count": 13,
   "metadata": {},
   "outputs": [
    {
     "name": "stderr",
     "output_type": "stream",
     "text": [
      "/opt/anaconda3/envs/dfa_rec/lib/python3.7/site-packages/sklearn/base.py:338: UserWarning:\n",
      "\n",
      "Trying to unpickle estimator StandardScaler from version 0.24.2 when using version 1.0.2. This might lead to breaking code or invalid results. Use at your own risk. For more info please refer to:\n",
      "https://scikit-learn.org/stable/modules/model_persistence.html#security-maintainability-limitations\n",
      "\n"
     ]
    }
   ],
   "source": [
    "X = pickle.load(open(basepath +  \"/X_fe2_h2o_cs.pkl\", \"rb\")) ## features \n",
    "df_org = pd.read_csv(basepath + \"/labeled_res.csv\") ## csv file that stores the compuated vert SSE values at different methods (self-assembled complexes, used in training)\n",
    "y_scalers = pickle.load(open(basepath +  \"/abs-reg-y_scalers.pkl\", \"rb\")) ## sklearn.preprocessing.StandardScaler object created on the stats of training data"
   ]
  },
  {
   "cell_type": "markdown",
   "metadata": {},
   "source": [
    "##### predict |DFA - DLPNO-CCSD(T)| vertical spin splitting"
   ]
  },
  {
   "cell_type": "code",
   "execution_count": 14,
   "metadata": {},
   "outputs": [],
   "source": [
    "res_all = {}\n",
    "for f in all_functionals:\n",
    "    y_scaler = y_scalers[f]\n",
    "    y_t = np.abs(df[\"delta.%s.vertsse\"%f].values)\n",
    "    y_t = y_scaler.transform(y_t.reshape(-1, 1)).reshape(-1, )\n",
    "    y_t = np.stack((y_t, y_t), axis=-1)\n",
    "    data_te = numpy_to_dataset(X, y_t, regression=True) ## org\n",
    "\n",
    "    te_l = SubsetDataset(data_te, list(range(len(data_te))))\n",
    "    te_loader = DataLoader(te_l, len(te_l), num_workers=0)\n",
    "\n",
    "    best_model = pickle.load(open(basepath + \"/models-trends/mergedG10-abs-reg-%s.pkl\"%f, \"rb\"))\n",
    "    best_model.eval()\n",
    "    preds_r, labels_r = [], []\n",
    "    with torch.no_grad():\n",
    "        for x, y in te_loader:\n",
    "            y_r, y_c = y[:, 0], y[:, 1]\n",
    "            _pred_r = best_model(x.to(device))\n",
    "            preds_r.append(_pred_r.cpu().numpy())\n",
    "            labels_r.append(y_r.cpu().numpy())\n",
    "    y_t = y_scaler.inverse_transform(labels_r[0].reshape(-1, 1)).reshape(-1, )\n",
    "    y_hat = y_scaler.inverse_transform(preds_r[0].reshape(-1, 1)).reshape(-1, )\n",
    "    mae = mean_absolute_error(y_hat, y_t)\n",
    "    scaled_mae = mae/(np.max(y_t) - np.min(y_t))\n",
    "    R2 = r2_score(y_t, y_hat)\n",
    "    rval = pearsonr(y_t, y_hat)[0]\n",
    "    # print(f, \"mae: \", round(mae, 5), \"scaled mae: \", round(scaled_mae, 5), \"R2: \", round(R2, 4), \"r val: \", round(rval, 4))\n",
    "    res_all[f + \".y_t\"] = np.abs(y_t)\n",
    "    res_all[f + \".y_hat\"] = np.abs(y_hat)\n",
    "res_all[\"name\"] = df[\"name\"]"
   ]
  },
  {
   "cell_type": "markdown",
   "metadata": {},
   "source": [
    "### Analyze"
   ]
  },
  {
   "cell_type": "markdown",
   "metadata": {},
   "source": [
    "##### sort based on ML predicted |DFA - DLPNO-CCSD(T)| vertical spin splitting to select DFAs"
   ]
  },
  {
   "cell_type": "code",
   "execution_count": 15,
   "metadata": {},
   "outputs": [],
   "source": [
    "df_res = pd.DataFrame.from_dict(res_all)"
   ]
  },
  {
   "cell_type": "code",
   "execution_count": 30,
   "metadata": {},
   "outputs": [],
   "source": [
    "removed = []\n",
    "functionals = list(set(all_functionals).difference(set(removed)))\n",
    "\n",
    "thresh = 0.0\n",
    "errs_t, errs_hat, best_fs, lmstds, lower_bound, true_best_fs, ranks = [], [], [], [], [], [], []\n",
    "err = {}\n",
    "for f in functionals:\n",
    "    err[f] = []\n",
    "for _, row in df_res.iterrows():\n",
    "    res_true = [row[f + \".y_t\"] if not np.isnan(row[f + \".y_t\"]) else 1000 for f in functionals]\n",
    "    fs_true = [x for _, x in sorted(zip(res_true, functionals))]\n",
    "    res_true = sorted(res_true)\n",
    "    res_hat = [row[f + \".y_hat\"] if ((not np.isnan(row[f + \".y_t\"]))) else 1000 for f in functionals]\n",
    "    fs = [x for _, x in sorted(zip(res_hat, functionals))]\n",
    "    res_hat = sorted(res_hat)\n",
    "    ranks += [res_true.index(row[fs[0] + \".y_t\"])]\n",
    "    \n",
    "    errs_t += [row[fs[0] + \".y_t\"]]\n",
    "    errs_hat += [row[fs[0] + \".y_hat\"]]\n",
    "    best_fs += [fs[0]]\n",
    "    lower_bound += [row[fs_true[0] + \".y_t\"]]\n",
    "    true_best_fs += [fs_true[0]]\n",
    "    \n",
    "df_sel = pd.DataFrame.from_dict({\"errs_t\": errs_t, \"errs_hat\": errs_hat,\n",
    "                                 \"best_fs\": best_fs, \"lower_bound\": lower_bound, \"true_best_fs\": true_best_fs,\n",
    "                                 \"ranks\": ranks, \"name\": df_res[\"name\"].values,\n",
    "                                })"
   ]
  },
  {
   "cell_type": "code",
   "execution_count": 31,
   "metadata": {},
   "outputs": [
    {
     "data": {
      "text/html": [
       "<div>\n",
       "<style scoped>\n",
       "    .dataframe tbody tr th:only-of-type {\n",
       "        vertical-align: middle;\n",
       "    }\n",
       "\n",
       "    .dataframe tbody tr th {\n",
       "        vertical-align: top;\n",
       "    }\n",
       "\n",
       "    .dataframe thead th {\n",
       "        text-align: right;\n",
       "    }\n",
       "</style>\n",
       "<table border=\"1\" class=\"dataframe\">\n",
       "  <thead>\n",
       "    <tr style=\"text-align: right;\">\n",
       "      <th></th>\n",
       "      <th>errs_t</th>\n",
       "      <th>errs_hat</th>\n",
       "      <th>best_fs</th>\n",
       "      <th>lower_bound</th>\n",
       "      <th>true_best_fs</th>\n",
       "      <th>ranks</th>\n",
       "      <th>name</th>\n",
       "    </tr>\n",
       "  </thead>\n",
       "  <tbody>\n",
       "    <tr>\n",
       "      <th>0</th>\n",
       "      <td>0.173648</td>\n",
       "      <td>0.544491</td>\n",
       "      <td>pbe0-dh</td>\n",
       "      <td>0.173648</td>\n",
       "      <td>pbe0-dh</td>\n",
       "      <td>0</td>\n",
       "      <td>fe_oct_2_CS_1_CS_1_CS_1_CS_1_CS_1_CS_1_s_1_conf_1</td>\n",
       "    </tr>\n",
       "    <tr>\n",
       "      <th>1</th>\n",
       "      <td>2.693905</td>\n",
       "      <td>1.127551</td>\n",
       "      <td>scan_hfx_40</td>\n",
       "      <td>0.649002</td>\n",
       "      <td>pbe0-dh</td>\n",
       "      <td>5</td>\n",
       "      <td>fe_oct_2_CS_1_CS_1_CS_1_CS_1_CS_1_water_1_s_1_...</td>\n",
       "    </tr>\n",
       "    <tr>\n",
       "      <th>2</th>\n",
       "      <td>1.353778</td>\n",
       "      <td>1.357697</td>\n",
       "      <td>pbe0-dh</td>\n",
       "      <td>0.374734</td>\n",
       "      <td>blyp_hfx_50</td>\n",
       "      <td>2</td>\n",
       "      <td>fe_oct_2_CS_1_CS_1_CS_1_CS_1_water_1_water_1_s...</td>\n",
       "    </tr>\n",
       "    <tr>\n",
       "      <th>3</th>\n",
       "      <td>1.019380</td>\n",
       "      <td>1.266669</td>\n",
       "      <td>pbe0-dh</td>\n",
       "      <td>0.890124</td>\n",
       "      <td>blyp_hfx_50</td>\n",
       "      <td>1</td>\n",
       "      <td>fe_oct_2_CS_1_CS_1_CS_1_water_1_CS_1_water_1_s...</td>\n",
       "    </tr>\n",
       "    <tr>\n",
       "      <th>4</th>\n",
       "      <td>1.549180</td>\n",
       "      <td>1.159490</td>\n",
       "      <td>m06-l_hfx_30</td>\n",
       "      <td>0.251791</td>\n",
       "      <td>blyp_hfx_50</td>\n",
       "      <td>4</td>\n",
       "      <td>fe_oct_2_water_1_water_1_CS_1_CS_1_water_1_CS_...</td>\n",
       "    </tr>\n",
       "    <tr>\n",
       "      <th>5</th>\n",
       "      <td>0.167158</td>\n",
       "      <td>1.302298</td>\n",
       "      <td>blyp_hfx_50</td>\n",
       "      <td>0.167158</td>\n",
       "      <td>blyp_hfx_50</td>\n",
       "      <td>0</td>\n",
       "      <td>fe_oct_2_water_1_water_1_water_1_CS_1_CS_1_CS_...</td>\n",
       "    </tr>\n",
       "    <tr>\n",
       "      <th>6</th>\n",
       "      <td>0.982086</td>\n",
       "      <td>1.247723</td>\n",
       "      <td>scan_hfx_40</td>\n",
       "      <td>0.695455</td>\n",
       "      <td>mn15-l_hfx_50</td>\n",
       "      <td>2</td>\n",
       "      <td>fe_oct_2_water_1_water_1_water_1_CS_1_water_1_...</td>\n",
       "    </tr>\n",
       "    <tr>\n",
       "      <th>7</th>\n",
       "      <td>0.654160</td>\n",
       "      <td>1.131048</td>\n",
       "      <td>scan_hfx_40</td>\n",
       "      <td>0.654160</td>\n",
       "      <td>scan_hfx_40</td>\n",
       "      <td>0</td>\n",
       "      <td>fe_oct_2_water_1_water_1_water_1_water_1_CS_1_...</td>\n",
       "    </tr>\n",
       "    <tr>\n",
       "      <th>8</th>\n",
       "      <td>0.505398</td>\n",
       "      <td>1.034265</td>\n",
       "      <td>scan_hfx_40</td>\n",
       "      <td>0.359566</td>\n",
       "      <td>m06</td>\n",
       "      <td>1</td>\n",
       "      <td>fe_oct_2_water_1_water_1_water_1_water_1_water...</td>\n",
       "    </tr>\n",
       "    <tr>\n",
       "      <th>9</th>\n",
       "      <td>0.303311</td>\n",
       "      <td>1.291487</td>\n",
       "      <td>scan_hfx_40</td>\n",
       "      <td>0.303311</td>\n",
       "      <td>scan_hfx_40</td>\n",
       "      <td>0</td>\n",
       "      <td>fe_oct_2_water_1_water_1_water_1_water_1_water...</td>\n",
       "    </tr>\n",
       "  </tbody>\n",
       "</table>\n",
       "</div>"
      ],
      "text/plain": [
       "     errs_t  errs_hat       best_fs  lower_bound   true_best_fs  ranks  \\\n",
       "0  0.173648  0.544491       pbe0-dh     0.173648        pbe0-dh      0   \n",
       "1  2.693905  1.127551   scan_hfx_40     0.649002        pbe0-dh      5   \n",
       "2  1.353778  1.357697       pbe0-dh     0.374734    blyp_hfx_50      2   \n",
       "3  1.019380  1.266669       pbe0-dh     0.890124    blyp_hfx_50      1   \n",
       "4  1.549180  1.159490  m06-l_hfx_30     0.251791    blyp_hfx_50      4   \n",
       "5  0.167158  1.302298   blyp_hfx_50     0.167158    blyp_hfx_50      0   \n",
       "6  0.982086  1.247723   scan_hfx_40     0.695455  mn15-l_hfx_50      2   \n",
       "7  0.654160  1.131048   scan_hfx_40     0.654160    scan_hfx_40      0   \n",
       "8  0.505398  1.034265   scan_hfx_40     0.359566            m06      1   \n",
       "9  0.303311  1.291487   scan_hfx_40     0.303311    scan_hfx_40      0   \n",
       "\n",
       "                                                name  \n",
       "0  fe_oct_2_CS_1_CS_1_CS_1_CS_1_CS_1_CS_1_s_1_conf_1  \n",
       "1  fe_oct_2_CS_1_CS_1_CS_1_CS_1_CS_1_water_1_s_1_...  \n",
       "2  fe_oct_2_CS_1_CS_1_CS_1_CS_1_water_1_water_1_s...  \n",
       "3  fe_oct_2_CS_1_CS_1_CS_1_water_1_CS_1_water_1_s...  \n",
       "4  fe_oct_2_water_1_water_1_CS_1_CS_1_water_1_CS_...  \n",
       "5  fe_oct_2_water_1_water_1_water_1_CS_1_CS_1_CS_...  \n",
       "6  fe_oct_2_water_1_water_1_water_1_CS_1_water_1_...  \n",
       "7  fe_oct_2_water_1_water_1_water_1_water_1_CS_1_...  \n",
       "8  fe_oct_2_water_1_water_1_water_1_water_1_water...  \n",
       "9  fe_oct_2_water_1_water_1_water_1_water_1_water...  "
      ]
     },
     "execution_count": 31,
     "metadata": {},
     "output_type": "execute_result"
    }
   ],
   "source": [
    "df_sel"
   ]
  },
  {
   "cell_type": "markdown",
   "metadata": {},
   "source": [
    "##### absolute error distribution"
   ]
  },
  {
   "cell_type": "code",
   "execution_count": 32,
   "metadata": {},
   "outputs": [
    {
     "data": {
      "application/vnd.plotly.v1+json": {
       "config": {
        "plotlyServerURL": "https://plot.ly"
       },
       "data": [
        {
         "autobinx": false,
         "histnorm": "probability density",
         "legendgroup": "",
         "marker": {
          "color": "black"
         },
         "name": "",
         "opacity": 0.7,
         "type": "histogram",
         "x": [
          0.17364829778671265,
          2.6939051151275635,
          1.35377836227417,
          1.0193796157836914,
          1.5491803884506226,
          0.16715845465660095,
          0.9820855259895325,
          0.6541598439216614,
          0.5053980946540833,
          0.30331072211265564
         ],
         "xaxis": "x",
         "xbins": {
          "end": 2.6939051151275635,
          "size": 0.5,
          "start": 0.16715845465660095
         },
         "yaxis": "y"
        },
        {
         "legendgroup": "",
         "marker": {
          "color": "black"
         },
         "mode": "lines",
         "name": "",
         "showlegend": false,
         "type": "scatter",
         "x": [
          0.16715845465660095,
          0.17221194797754288,
          0.17726544129848482,
          0.18231893461942672,
          0.18737242794036865,
          0.19242592126131058,
          0.1974794145822525,
          0.20253290790319442,
          0.20758640122413635,
          0.21263989454507828,
          0.21769338786602022,
          0.22274688118696212,
          0.22780037450790405,
          0.23285386782884598,
          0.2379073611497879,
          0.24296085447072985,
          0.24801434779167175,
          0.2530678411126137,
          0.2581213344335556,
          0.2631748277544975,
          0.2682283210754395,
          0.2732818143963814,
          0.2783353077173233,
          0.28338880103826525,
          0.28844229435920715,
          0.29349578768014906,
          0.298549281001091,
          0.3036027743220329,
          0.3086562676429748,
          0.3137097609639168,
          0.31876325428485874,
          0.3238167476058006,
          0.32887024092674255,
          0.3339237342476845,
          0.3389772275686264,
          0.3440307208895683,
          0.3490842142105103,
          0.3541377075314522,
          0.3591912008523941,
          0.36424469417333605,
          0.36929818749427795,
          0.37435168081521986,
          0.3794051741361618,
          0.3844586674571037,
          0.3895121607780456,
          0.3945656540989876,
          0.39961914741992954,
          0.4046726407408714,
          0.40972613406181335,
          0.4147796273827553,
          0.4198331207036972,
          0.4248866140246391,
          0.4299401073455811,
          0.434993600666523,
          0.4400470939874649,
          0.44510058730840685,
          0.45015408062934875,
          0.45520757395029066,
          0.4602610672712326,
          0.4653145605921745,
          0.4703680539131165,
          0.4754215472340584,
          0.4804750405550003,
          0.48552853387594225,
          0.49058202719688415,
          0.49563552051782606,
          0.5006890138387681,
          0.5057425071597099,
          0.5107960004806519,
          0.5158494938015938,
          0.5209029871225357,
          0.5259564804434776,
          0.5310099737644196,
          0.5360634670853615,
          0.5411169604063034,
          0.5461704537272454,
          0.5512239470481872,
          0.5562774403691292,
          0.5613309336900711,
          0.566384427011013,
          0.571437920331955,
          0.5764914136528969,
          0.5815449069738388,
          0.5865984002947807,
          0.5916518936157227,
          0.5967053869366645,
          0.6017588802576065,
          0.6068123735785484,
          0.6118658668994903,
          0.6169193602204323,
          0.6219728535413742,
          0.6270263468623161,
          0.6320798401832581,
          0.6371333335042,
          0.6421868268251418,
          0.6472403201460839,
          0.6522938134670258,
          0.6573473067879676,
          0.6624008001089097,
          0.6674542934298515,
          0.6725077867507935,
          0.6775612800717353,
          0.6826147733926773,
          0.6876682667136192,
          0.6927217600345612,
          0.6977752533555031,
          0.702828746676445,
          0.707882239997387,
          0.7129357333183288,
          0.7179892266392708,
          0.7230427199602127,
          0.7280962132811546,
          0.7331497066020966,
          0.7382031999230385,
          0.7432566932439804,
          0.7483101865649223,
          0.7533636798858643,
          0.7584171732068061,
          0.7634706665277481,
          0.76852415984869,
          0.773577653169632,
          0.7786311464905739,
          0.7836846398115158,
          0.7887381331324578,
          0.7937916264533996,
          0.7988451197743416,
          0.8038986130952835,
          0.8089521064162254,
          0.8140055997371674,
          0.8190590930581093,
          0.8241125863790512,
          0.8291660796999931,
          0.8342195730209351,
          0.839273066341877,
          0.8443265596628189,
          0.8493800529837608,
          0.8544335463047028,
          0.8594870396256447,
          0.8645405329465866,
          0.8695940262675286,
          0.8746475195884704,
          0.8797010129094124,
          0.8847545062303543,
          0.8898079995512962,
          0.8948614928722382,
          0.8999149861931801,
          0.904968479514122,
          0.9100219728350639,
          0.9150754661560059,
          0.9201289594769478,
          0.9251824527978897,
          0.9302359461188316,
          0.9352894394397736,
          0.9403429327607155,
          0.9453964260816574,
          0.9504499194025994,
          0.9555034127235412,
          0.9605569060444832,
          0.9656103993654251,
          0.970663892686367,
          0.975717386007309,
          0.9807708793282509,
          0.9858243726491928,
          0.9908778659701347,
          0.9959313592910767,
          1.0009848526120186,
          1.0060383459329605,
          1.0110918392539023,
          1.0161453325748444,
          1.0211988258957863,
          1.026252319216728,
          1.0313058125376702,
          1.036359305858612,
          1.0414127991795539,
          1.046466292500496,
          1.0515197858214378,
          1.0565732791423796,
          1.0616267724633217,
          1.0666802657842636,
          1.0717337591052054,
          1.0767872524261475,
          1.0818407457470895,
          1.0868942390680312,
          1.0919477323889732,
          1.0970012257099153,
          1.102054719030857,
          1.107108212351799,
          1.112161705672741,
          1.1172151989936827,
          1.1222686923146248,
          1.1273221856355669,
          1.1323756789565085,
          1.1374291722774506,
          1.1424826655983926,
          1.1475361589193342,
          1.1525896522402763,
          1.1576431455612184,
          1.1626966388821602,
          1.167750132203102,
          1.172803625524044,
          1.177857118844986,
          1.1829106121659279,
          1.1879641054868697,
          1.1930175988078118,
          1.1980710921287536,
          1.2031245854496957,
          1.2081780787706375,
          1.2132315720915794,
          1.2182850654125215,
          1.2233385587334633,
          1.2283920520544052,
          1.2334455453753472,
          1.238499038696289,
          1.243552532017231,
          1.248606025338173,
          1.2536595186591148,
          1.2587130119800567,
          1.2637665053009988,
          1.2688199986219406,
          1.2738734919428825,
          1.2789269852638245,
          1.2839804785847664,
          1.2890339719057082,
          1.2940874652266503,
          1.2991409585475922,
          1.304194451868534,
          1.309247945189476,
          1.314301438510418,
          1.3193549318313598,
          1.3244084251523018,
          1.3294619184732437,
          1.3345154117941855,
          1.3395689051151276,
          1.3446223984360695,
          1.3496758917570113,
          1.3547293850779534,
          1.3597828783988952,
          1.3648363717198373,
          1.3698898650407791,
          1.374943358361721,
          1.379996851682663,
          1.385050345003605,
          1.3901038383245468,
          1.3951573316454888,
          1.4002108249664307,
          1.4052643182873725,
          1.4103178116083146,
          1.4153713049292564,
          1.4204247982501983,
          1.4254782915711404,
          1.4305317848920822,
          1.435585278213024,
          1.4406387715339661,
          1.445692264854908,
          1.4507457581758498,
          1.455799251496792,
          1.4608527448177338,
          1.4659062381386756,
          1.4709597314596177,
          1.4760132247805595,
          1.4810667181015014,
          1.4861202114224434,
          1.4911737047433853,
          1.4962271980643271,
          1.5012806913852692,
          1.506334184706211,
          1.5113876780271531,
          1.516441171348095,
          1.5214946646690368,
          1.526548157989979,
          1.5316016513109207,
          1.5366551446318626,
          1.5417086379528047,
          1.5467621312737465,
          1.5518156245946884,
          1.5568691179156304,
          1.5619226112365723,
          1.5669761045575141,
          1.5720295978784562,
          1.577083091199398,
          1.58213658452034,
          1.587190077841282,
          1.5922435711622238,
          1.5972970644831657,
          1.6023505578041077,
          1.6074040511250496,
          1.6124575444459914,
          1.6175110377669335,
          1.6225645310878754,
          1.6276180244088172,
          1.6326715177297593,
          1.6377250110507011,
          1.642778504371643,
          1.647831997692585,
          1.6528854910135269,
          1.6579389843344687,
          1.6629924776554108,
          1.6680459709763527,
          1.6730994642972947,
          1.6781529576182366,
          1.6832064509391784,
          1.6882599442601205,
          1.6933134375810623,
          1.6983669309020042,
          1.7034204242229463,
          1.708473917543888,
          1.71352741086483,
          1.718580904185772,
          1.7236343975067139,
          1.7286878908276557,
          1.7337413841485978,
          1.7387948774695396,
          1.7438483707904815,
          1.7489018641114236,
          1.7539553574323654,
          1.7590088507533073,
          1.7640623440742493,
          1.7691158373951912,
          1.774169330716133,
          1.779222824037075,
          1.784276317358017,
          1.7893298106789588,
          1.7943833039999009,
          1.7994367973208427,
          1.8044902906417846,
          1.8095437839627266,
          1.8145972772836685,
          1.8196507706046103,
          1.8247042639255524,
          1.8297577572464943,
          1.8348112505674363,
          1.8398647438883782,
          1.84491823720932,
          1.849971730530262,
          1.855025223851204,
          1.8600787171721458,
          1.8651322104930879,
          1.8701857038140297,
          1.8752391971349716,
          1.8802926904559136,
          1.8853461837768555,
          1.8903996770977973,
          1.8954531704187394,
          1.9005066637396812,
          1.905560157060623,
          1.9106136503815652,
          1.915667143702507,
          1.9207206370234489,
          1.925774130344391,
          1.9308276236653328,
          1.9358811169862746,
          1.9409346103072167,
          1.9459881036281585,
          1.9510415969491004,
          1.9560950902700425,
          1.9611485835909843,
          1.9662020769119262,
          1.9712555702328682,
          1.97630906355381,
          1.981362556874752,
          1.986416050195694,
          1.9914695435166359,
          1.996523036837578,
          2.0015765301585198,
          2.0066300234794614,
          2.011683516800404,
          2.0167370101213455,
          2.021790503442287,
          2.0268439967632297,
          2.0318974900841713,
          2.036950983405113,
          2.0420044767260555,
          2.047057970046997,
          2.0521114633679387,
          2.057164956688881,
          2.062218450009823,
          2.0672719433307645,
          2.072325436651707,
          2.0773789299726486,
          2.0824324232935902,
          2.0874859166145328,
          2.0925394099354744,
          2.097592903256416,
          2.1026463965773585,
          2.1076998898983,
          2.1127533832192418,
          2.1178068765401843,
          2.122860369861126,
          2.1279138631820675,
          2.13296735650301,
          2.1380208498239517,
          2.1430743431448938,
          2.148127836465836,
          2.1531813297867775,
          2.1582348231077195,
          2.1632883164286616,
          2.168341809749603,
          2.1733953030705453,
          2.178448796391487,
          2.183502289712429,
          2.188555783033371,
          2.1936092763543127,
          2.1986627696752548,
          2.203716262996197,
          2.2087697563171385,
          2.2138232496380805,
          2.2188767429590226,
          2.2239302362799647,
          2.2289837296009063,
          2.2340372229218484,
          2.2390907162427904,
          2.244144209563732,
          2.249197702884674,
          2.254251196205616,
          2.259304689526558,
          2.2643581828475,
          2.269411676168442,
          2.2744651694893836,
          2.2795186628103257,
          2.2845721561312677,
          2.2896256494522094,
          2.2946791427731514,
          2.2997326360940935,
          2.304786129415035,
          2.309839622735977,
          2.3148931160569193,
          2.319946609377861,
          2.325000102698803,
          2.330053596019745,
          2.3351070893406867,
          2.3401605826616287,
          2.345214075982571,
          2.3502675693035124,
          2.3553210626244545,
          2.3603745559453966,
          2.365428049266338,
          2.3704815425872803,
          2.3755350359082223,
          2.380588529229164,
          2.385642022550106,
          2.390695515871048,
          2.3957490091919897,
          2.400802502512932,
          2.405855995833874,
          2.4109094891548155,
          2.4159629824757576,
          2.4210164757966997,
          2.4260699691176413,
          2.4311234624385833,
          2.4361769557595254,
          2.441230449080467,
          2.446283942401409,
          2.451337435722351,
          2.456390929043293,
          2.461444422364235,
          2.466497915685177,
          2.4715514090061186,
          2.4766049023270607,
          2.4816583956480027,
          2.4867118889689444,
          2.4917653822898864,
          2.4968188756108285,
          2.50187236893177,
          2.506925862252712,
          2.5119793555736543,
          2.517032848894596,
          2.522086342215538,
          2.52713983553648,
          2.5321933288574217,
          2.5372468221783637,
          2.542300315499306,
          2.547353808820248,
          2.5524073021411895,
          2.5574607954621316,
          2.5625142887830736,
          2.5675677821040153,
          2.5726212754249573,
          2.5776747687458994,
          2.582728262066841,
          2.587781755387783,
          2.592835248708725,
          2.597888742029667,
          2.602942235350609,
          2.607995728671551,
          2.6130492219924926,
          2.6181027153134346,
          2.6231562086343767,
          2.6282097019553183,
          2.6332631952762604,
          2.6383166885972025,
          2.643370181918144,
          2.648423675239086,
          2.6534771685600282,
          2.65853066188097,
          2.663584155201912,
          2.668637648522854,
          2.6736911418437956,
          2.6787446351647377,
          2.68379812848568,
          2.6888516218066214
         ],
         "xaxis": "x",
         "y": [
          0.39833356510305346,
          0.40033822633748334,
          0.402325309765811,
          0.40429456976609385,
          0.4062457655024703,
          0.4081786609896088,
          0.41009302515441776,
          0.4119886318949813,
          0.41386526013669206,
          0.41572269388555205,
          0.41756072227861635,
          0.4193791396315536,
          0.42117774548330367,
          0.4229563446378124,
          0.424714747202825,
          0.4264527686257246,
          0.4281702297264016,
          0.4298669567271449,
          0.4315427812795438,
          0.43319754048839937,
          0.4348310769326352,
          0.43644323868321167,
          0.43803387931804133,
          0.4396028579339087,
          0.44115003915540024,
          0.4426752931408531,
          0.4441784955853286,
          0.44565952772062783,
          0.447118276312358,
          0.4485546336540703,
          0.4499684975584846,
          0.4513597713458238,
          0.4527283638292791,
          0.45407418929763255,
          0.4553971674950617,
          0.4566972235981578,
          0.4579742881901871,
          0.45922829723262826,
          0.4604591920340217,
          0.46166691921616615,
          0.462851430677704,
          0.4640126835551327,
          0.4651506401812868,
          0.4662652680413341,
          0.46735653972633273,
          0.4684244328843943,
          0.4694689301695053,
          0.47049001918805583,
          0.4714876924431277,
          0.4724619472765967,
          0.4734127858091042,
          0.4743402148779533,
          0.4752442459729897,
          0.4761248951705239,
          0.47698218306535767,
          0.4778161347009743,
          0.47862677949795673,
          0.47941415118069663,
          0.48017828770245935,
          0.48091923116886975,
          0.4816370277598869,
          0.4823317276503334,
          0.4830033849290483,
          0.4836520575167326,
          0.4842778070825552,
          0.4848806989595922,
          0.4854608020591661,
          0.48601818878415953,
          0.4865529349413732,
          0.4870651196529987,
          0.4875548252672798,
          0.488022137268434,
          0.4884671441859059,
          0.4888899375030245,
          0.4892906115651379,
          0.48966926348729695,
          0.4900259930615604,
          0.49036090266399257,
          0.4906740971614262,
          0.49096568381806305,
          0.4912357722019802,
          0.4914844740916169,
          0.491711903382308,
          0.4919181759929382,
          0.49210340977278266,
          0.4922677244086041,
          0.49241124133207537,
          0.4925340836275925,
          0.49263637594054605,
          0.4927182443861166,
          0.4927798164586582,
          0.4928212209417344,
          0.49284258781886886,
          0.4928440481850733,
          0.49282573415921316,
          0.49278777879727015,
          0.4927303160065613,
          0.4926534804609708,
          0.4925574075172511,
          0.4924422331324485,
          0.49230809378250634,
          0.49215512638209785,
          0.49198346820573996,
          0.4917932568102374,
          0.4915846299585047,
          0.4913577255448135,
          0.49111268152150844,
          0.4908496358272381,
          0.4905687263167397,
          0.49027009069222033,
          0.48995386643637306,
          0.4896201907470638,
          0.489269200473727,
          0.4889010320555014,
          0.4885158214611406,
          0.48811370413072774,
          0.48769481491922323,
          0.48725928804187335,
          0.48680725702150485,
          0.48633885463773,
          0.48585421287808356,
          0.4853534628911116,
          0.4848367349414331,
          0.4843041583667884,
          0.483755861537092,
          0.48319197181550094,
          0.48261261552151363,
          0.482017917896106,
          0.4814080030689154,
          0.4807829940274778,
          0.4801430125885234,
          0.47948817937133453,
          0.47881861377316653,
          0.47813443394673144,
          0.4774357567797438,
          0.47672269787652355,
          0.47599537154165206,
          0.47525389076567437,
          0.47449836721283906,
          0.4737289112108665,
          0.47294563174273246,
          0.47214863644045696,
          0.4713380315808805,
          0.4705139220834151,
          0.46967641150974887,
          0.46882560206549023,
          0.46796159460372555,
          0.4670844886304738,
          0.4661943823120119,
          0.4652913724840478,
          0.4643755546627153,
          0.46344702305736274,
          0.46250587058510934,
          0.46155218888713806,
          0.46058606834669386,
          0.4596075981087588,
          0.45861686610136587,
          0.45761395905852376,
          0.4565989625447119,
          0.45557196098091274,
          0.4545330376721443,
          0.45348227483645387,
          0.4524197536353338,
          0.45134555420552136,
          0.4502597556921399,
          0.4491624362831408,
          0.4480536732450054,
          0.4469335429596606,
          0.4458021209625679,
          0.44465948198194016,
          0.4435056999790401,
          0.44234084818951735,
          0.441164999165736,
          0.43997822482004717,
          0.4387805964689589,
          0.4375721848781569,
          0.4363530603083265,
          0.43512329256172955,
          0.43388295102948676,
          0.43263210473951597,
          0.4313708224050783,
          0.4300991724738831,
          0.42881722317770016,
          0.4275250425824325,
          0.42622269863859724,
          0.4249102592321665,
          0.42358779223571746,
          0.4222553655598426,
          0.4209130472047699,
          0.41956090531214146,
          0.4181990082169055,
          0.41682742449926613,
          0.4154462230366467,
          0.4140554730556153,
          0.4126552441837222,
          0.4112456065012035,
          0.40982663059250135,
          0.40839838759755087,
          0.4069609492627897,
          0.4055143879918388,
          0.404058776895812,
          0.4025941898432041,
          0.4011207015093136,
          0.3996383874251536,
          0.39814732402580766,
          0.3966475886981837,
          0.39513925982812437,
          0.39362241684682997,
          0.39209714027655085,
          0.39056351177550835,
          0.38902161418200276,
          0.3874715315576676,
          0.38591334922983095,
          0.3843471538329443,
          0.38277303334904156,
          0.38119107714718997,
          0.3796013760218974,
          0.3780040222304385,
          0.37639910952906747,
          0.3747867332080809,
          0.37316699012569915,
          0.3715399787407346,
          0.3699057991440122,
          0.36826455308851774,
          0.3666163440182385,
          0.364961277095672,
          0.36329945922797435,
          0.3616309990917213,
          0.3599560071562573,
          0.35827459570560755,
          0.3565868788589316,
          0.35489297258949426,
          0.35319299474213334,
          0.35148706504920557,
          0.34977530514498906,
          0.348057838578527,
          0.34633479082489593,
          0.34460628929487863,
          0.3428724633430345,
          0.3411334442741469,
          0.33938936534803926,
          0.3376403617827494,
          0.33588657075604744,
          0.33412813140529435,
          0.3323651848256295,
          0.33059787406648206,
          0.3288263441264006,
          0.3270507419461975,
          0.3252712164004031,
          0.3234879182870299,
          0.3217010003156453,
          0.31991061709375207,
          0.3181169251114797,
          0.31632008272458906,
          0.31452025013579266,
          0.31271758937439786,
          0.3109122642742775,
          0.30910444045017466,
          0.3072942852723523,
          0.3054819678395952,
          0.3036676589505743,
          0.3018515310735881,
          0.30003375831469037,
          0.2982145163842203,
          0.2963939825617492,
          0.29457233565946056,
          0.2927497559839785,
          0.29092642529666574,
          0.2891025267724077,
          0.2872782449569037,
          0.2854537657224876,
          0.2836292762224981,
          0.2818049648442232,
          0.2799810211604427,
          0.27815763587959375,
          0.27633500079458484,
          0.27451330873028723,
          0.2726927534897286,
          0.27087352979902046,
          0.2690558332510481,
          0.267239860247952,
          0.2654258079424347,
          0.26361387417792387,
          0.2618042574276233,
          0.2599971567324884,
          0.2581927716381586,
          0.2563913021308823,
          0.2545929485724701,
          0.2527979116343151,
          0.25100639223051296,
          0.24921859145012543,
          0.24743471048862153,
          0.2456549505785372,
          0.24387951291939391,
          0.2421085986069158,
          0.24034240856158554,
          0.23858114345658246,
          0.23682500364514256,
          0.23507418908738392,
          0.23332889927664152,
          0.23158933316535074,
          0.22985568909052864,
          0.22812816469889258,
          0.22640695687166207,
          0.22469226164908918,
          0.22298427415476127,
          0.22128318851972217,
          0.21958919780645514,
          0.2179024939327775,
          0.216223267595687,
          0.2145517081952107,
          0.21288800375830003,
          0.21123234086281786,
          0.20958490456166562,
          0.20794587830709493,
          0.2063154438752501,
          0.20469378129098922,
          0.20308106875302817,
          0.2014774825594545,
          0.19988319703365726,
          0.19829838445071807,
          0.19672321496430945,
          0.19515785653414572,
          0.1936024748540318,
          0.19205723328055524,
          0.1905222927624648,
          0.1889978117707826,
          0.18748394622969045,
          0.1859808494482376,
          0.18448867205291078,
          0.18300756192111017,
          0.1815376641155745,
          0.1800791208197958,
          0.17863207127446679,
          0.17719665171500115,
          0.1757729953101668,
          0.17436123210187274,
          0.1729614889461487,
          0.17157388945535496,
          0.17019855394166264,
          0.16883559936183934,
          0.167485139263378,
          0.16614728373200507,
          0.1648221393406026,
          0.16350980909957824,
          0.16221039240871737,
          0.1609239850105508,
          0.15965067894526738,
          0.15839056250720562,
          0.15714372020295306,
          0.15591023271108131,
          0.15469017684354838,
          0.15348362550879247,
          0.15229064767654543,
          0.15111130834439118,
          0.14994566850609276,
          0.14879378512171226,
          0.14765571108954575,
          0.14653149521989484,
          0.14542118221069425,
          0.14432481262501612,
          0.1432424228704678,
          0.14217404518050084,
          0.14111970759764775,
          0.1400794339586988,
          0.13905324388183604,
          0.13804115275573475,
          0.13704317173064326,
          0.13605930771145341,
          0.13508956335276862,
          0.13413393705597818,
          0.13319242296834455,
          0.1322650109841091,
          0.13135168674761874,
          0.13045243165847945,
          0.1295672228787363,
          0.12869603334208002,
          0.1278388317650817,
          0.12699558266045227,
          0.12616624635232188,
          0.12535077899353908,
          0.12454913258498063,
          0.1237612549968652,
          0.12298708999206527,
          0.12222657725140634,
          0.1214796524009422,
          0.120746247041196,
          0.1200262887783544,
          0.11931970125739831,
          0.1186264041971574,
          0.11794631342727172,
          0.11727934092703982,
          0.11662539486613889,
          0.11598437964719281,
          0.11535619595016997,
          0.11474074077858666,
          0.11413790750749324,
          0.11354758593321866,
          0.11296966232484774,
          0.11240401947740321,
          0.11185053676670717,
          0.11130909020589058,
          0.11077955250352212,
          0.1102617931233255,
          0.10975567834545334,
          0.1092610713292836,
          0.10877783217770663,
          0.10830581800286625,
          0.10784488299332025,
          0.10739487848258288,
          0.10695565301901284,
          0.10652705243700748,
          0.10610891992946421,
          0.10570109612146976,
          0.10530341914517583,
          0.10491572471581986,
          0.10453784620884893,
          0.10416961473810336,
          0.10381085923501703,
          0.10346140652878925,
          0.10312108142748472,
          0.10278970680001437,
          0.10246710365895283,
          0.10215309124414464,
          0.10184748710705273,
          0.10155010719580196,
          0.10126076594086912,
          0.10097927634137159,
          0.10070545005190558,
          0.10043909746988526,
          0.10018002782333307,
          0.09992804925907188,
          0.099682968931269,
          0.09944459309028164,
          0.0992127271717543,
          0.09898717588591717,
          0.0987677433070348,
          0.09855423296295512,
          0.09834644792470798,
          0.09814419089610191,
          0.09794726430326975,
          0.09775547038411143,
          0.09756861127758422,
          0.09738648911278977,
          0.09720890609780804,
          0.09703566460822798,
          0.09686656727532539,
          0.09670141707383849,
          0.09654001740929198,
          0.09638217220482102,
          0.09622768598744634,
          0.09607636397375284,
          0.09592801215492369,
          0.0957824373810834,
          0.09563944744490219,
          0.09549885116441705,
          0.09536045846502218,
          0.09522408046058572,
          0.09508952953364695,
          0.09495661941465094,
          0.09482516526017791,
          0.09469498373012444,
          0.09456589306379568,
          0.09443771315486692,
          0.0943102656251757,
          0.09418337389730454,
          0.09405686326591588,
          0.0939305609678028,
          0.09380429625061808,
          0.09367790044024638,
          0.0935512070067852,
          0.09342405162910061,
          0.09329627225792526,
          0.09316770917746713,
          0.0930382050654984,
          0.09290760505189506,
          0.09277575677559852,
          0.09264251043997235,
          0.09250771886652735,
          0.09237123754699081,
          0.09223292469369476,
          0.09209264128826179,
          0.09195025112856581,
          0.0918056208739479,
          0.09165862008866812,
          0.09150912128357468,
          0.09135699995597485,
          0.09120213462769068,
          0.0910444068812866,
          0.09088370139445504,
          0.09071990597254861,
          0.09055291157924815,
          0.09038261236535775,
          0.0902089056957186,
          0.09003169217423464,
          0.08985087566700535,
          0.08966636332356075,
          0.08947806559619605,
          0.08928589625740478,
          0.08908977241540908
         ],
         "yaxis": "y"
        },
        {
         "legendgroup": "",
         "marker": {
          "color": "black",
          "symbol": "line-ns-open"
         },
         "mode": "markers",
         "name": "",
         "showlegend": false,
         "type": "scatter",
         "x": [
          0.17364829778671265,
          2.6939051151275635,
          1.35377836227417,
          1.0193796157836914,
          1.5491803884506226,
          0.16715845465660095,
          0.9820855259895325,
          0.6541598439216614,
          0.5053980946540833,
          0.30331072211265564
         ],
         "xaxis": "x",
         "y": [
          "",
          "",
          "",
          "",
          "",
          "",
          "",
          "",
          "",
          ""
         ],
         "yaxis": "y2"
        }
       ],
       "layout": {
        "barmode": "overlay",
        "font": {
         "color": "black",
         "family": "Helvetica",
         "size": 24
        },
        "height": 500,
        "hovermode": "closest",
        "legend": {
         "bgcolor": "rgba(0,0,0,0)",
         "orientation": "v",
         "traceorder": "reversed",
         "x": 0.5,
         "y": 1
        },
        "margin": {
         "b": 100,
         "l": 100,
         "r": 10,
         "t": 10
        },
        "paper_bgcolor": "rgba(255,255,255,100)",
        "plot_bgcolor": "white",
        "showlegend": false,
        "template": {
         "data": {
          "bar": [
           {
            "error_x": {
             "color": "#2a3f5f"
            },
            "error_y": {
             "color": "#2a3f5f"
            },
            "marker": {
             "line": {
              "color": "#E5ECF6",
              "width": 0.5
             },
             "pattern": {
              "fillmode": "overlay",
              "size": 10,
              "solidity": 0.2
             }
            },
            "type": "bar"
           }
          ],
          "barpolar": [
           {
            "marker": {
             "line": {
              "color": "#E5ECF6",
              "width": 0.5
             },
             "pattern": {
              "fillmode": "overlay",
              "size": 10,
              "solidity": 0.2
             }
            },
            "type": "barpolar"
           }
          ],
          "carpet": [
           {
            "aaxis": {
             "endlinecolor": "#2a3f5f",
             "gridcolor": "white",
             "linecolor": "white",
             "minorgridcolor": "white",
             "startlinecolor": "#2a3f5f"
            },
            "baxis": {
             "endlinecolor": "#2a3f5f",
             "gridcolor": "white",
             "linecolor": "white",
             "minorgridcolor": "white",
             "startlinecolor": "#2a3f5f"
            },
            "type": "carpet"
           }
          ],
          "choropleth": [
           {
            "colorbar": {
             "outlinewidth": 0,
             "ticks": ""
            },
            "type": "choropleth"
           }
          ],
          "contour": [
           {
            "colorbar": {
             "outlinewidth": 0,
             "ticks": ""
            },
            "colorscale": [
             [
              0,
              "#0d0887"
             ],
             [
              0.1111111111111111,
              "#46039f"
             ],
             [
              0.2222222222222222,
              "#7201a8"
             ],
             [
              0.3333333333333333,
              "#9c179e"
             ],
             [
              0.4444444444444444,
              "#bd3786"
             ],
             [
              0.5555555555555556,
              "#d8576b"
             ],
             [
              0.6666666666666666,
              "#ed7953"
             ],
             [
              0.7777777777777778,
              "#fb9f3a"
             ],
             [
              0.8888888888888888,
              "#fdca26"
             ],
             [
              1,
              "#f0f921"
             ]
            ],
            "type": "contour"
           }
          ],
          "contourcarpet": [
           {
            "colorbar": {
             "outlinewidth": 0,
             "ticks": ""
            },
            "type": "contourcarpet"
           }
          ],
          "heatmap": [
           {
            "colorbar": {
             "outlinewidth": 0,
             "ticks": ""
            },
            "colorscale": [
             [
              0,
              "#0d0887"
             ],
             [
              0.1111111111111111,
              "#46039f"
             ],
             [
              0.2222222222222222,
              "#7201a8"
             ],
             [
              0.3333333333333333,
              "#9c179e"
             ],
             [
              0.4444444444444444,
              "#bd3786"
             ],
             [
              0.5555555555555556,
              "#d8576b"
             ],
             [
              0.6666666666666666,
              "#ed7953"
             ],
             [
              0.7777777777777778,
              "#fb9f3a"
             ],
             [
              0.8888888888888888,
              "#fdca26"
             ],
             [
              1,
              "#f0f921"
             ]
            ],
            "type": "heatmap"
           }
          ],
          "heatmapgl": [
           {
            "colorbar": {
             "outlinewidth": 0,
             "ticks": ""
            },
            "colorscale": [
             [
              0,
              "#0d0887"
             ],
             [
              0.1111111111111111,
              "#46039f"
             ],
             [
              0.2222222222222222,
              "#7201a8"
             ],
             [
              0.3333333333333333,
              "#9c179e"
             ],
             [
              0.4444444444444444,
              "#bd3786"
             ],
             [
              0.5555555555555556,
              "#d8576b"
             ],
             [
              0.6666666666666666,
              "#ed7953"
             ],
             [
              0.7777777777777778,
              "#fb9f3a"
             ],
             [
              0.8888888888888888,
              "#fdca26"
             ],
             [
              1,
              "#f0f921"
             ]
            ],
            "type": "heatmapgl"
           }
          ],
          "histogram": [
           {
            "marker": {
             "pattern": {
              "fillmode": "overlay",
              "size": 10,
              "solidity": 0.2
             }
            },
            "type": "histogram"
           }
          ],
          "histogram2d": [
           {
            "colorbar": {
             "outlinewidth": 0,
             "ticks": ""
            },
            "colorscale": [
             [
              0,
              "#0d0887"
             ],
             [
              0.1111111111111111,
              "#46039f"
             ],
             [
              0.2222222222222222,
              "#7201a8"
             ],
             [
              0.3333333333333333,
              "#9c179e"
             ],
             [
              0.4444444444444444,
              "#bd3786"
             ],
             [
              0.5555555555555556,
              "#d8576b"
             ],
             [
              0.6666666666666666,
              "#ed7953"
             ],
             [
              0.7777777777777778,
              "#fb9f3a"
             ],
             [
              0.8888888888888888,
              "#fdca26"
             ],
             [
              1,
              "#f0f921"
             ]
            ],
            "type": "histogram2d"
           }
          ],
          "histogram2dcontour": [
           {
            "colorbar": {
             "outlinewidth": 0,
             "ticks": ""
            },
            "colorscale": [
             [
              0,
              "#0d0887"
             ],
             [
              0.1111111111111111,
              "#46039f"
             ],
             [
              0.2222222222222222,
              "#7201a8"
             ],
             [
              0.3333333333333333,
              "#9c179e"
             ],
             [
              0.4444444444444444,
              "#bd3786"
             ],
             [
              0.5555555555555556,
              "#d8576b"
             ],
             [
              0.6666666666666666,
              "#ed7953"
             ],
             [
              0.7777777777777778,
              "#fb9f3a"
             ],
             [
              0.8888888888888888,
              "#fdca26"
             ],
             [
              1,
              "#f0f921"
             ]
            ],
            "type": "histogram2dcontour"
           }
          ],
          "mesh3d": [
           {
            "colorbar": {
             "outlinewidth": 0,
             "ticks": ""
            },
            "type": "mesh3d"
           }
          ],
          "parcoords": [
           {
            "line": {
             "colorbar": {
              "outlinewidth": 0,
              "ticks": ""
             }
            },
            "type": "parcoords"
           }
          ],
          "pie": [
           {
            "automargin": true,
            "type": "pie"
           }
          ],
          "scatter": [
           {
            "fillpattern": {
             "fillmode": "overlay",
             "size": 10,
             "solidity": 0.2
            },
            "type": "scatter"
           }
          ],
          "scatter3d": [
           {
            "line": {
             "colorbar": {
              "outlinewidth": 0,
              "ticks": ""
             }
            },
            "marker": {
             "colorbar": {
              "outlinewidth": 0,
              "ticks": ""
             }
            },
            "type": "scatter3d"
           }
          ],
          "scattercarpet": [
           {
            "marker": {
             "colorbar": {
              "outlinewidth": 0,
              "ticks": ""
             }
            },
            "type": "scattercarpet"
           }
          ],
          "scattergeo": [
           {
            "marker": {
             "colorbar": {
              "outlinewidth": 0,
              "ticks": ""
             }
            },
            "type": "scattergeo"
           }
          ],
          "scattergl": [
           {
            "marker": {
             "colorbar": {
              "outlinewidth": 0,
              "ticks": ""
             }
            },
            "type": "scattergl"
           }
          ],
          "scattermapbox": [
           {
            "marker": {
             "colorbar": {
              "outlinewidth": 0,
              "ticks": ""
             }
            },
            "type": "scattermapbox"
           }
          ],
          "scatterpolar": [
           {
            "marker": {
             "colorbar": {
              "outlinewidth": 0,
              "ticks": ""
             }
            },
            "type": "scatterpolar"
           }
          ],
          "scatterpolargl": [
           {
            "marker": {
             "colorbar": {
              "outlinewidth": 0,
              "ticks": ""
             }
            },
            "type": "scatterpolargl"
           }
          ],
          "scatterternary": [
           {
            "marker": {
             "colorbar": {
              "outlinewidth": 0,
              "ticks": ""
             }
            },
            "type": "scatterternary"
           }
          ],
          "surface": [
           {
            "colorbar": {
             "outlinewidth": 0,
             "ticks": ""
            },
            "colorscale": [
             [
              0,
              "#0d0887"
             ],
             [
              0.1111111111111111,
              "#46039f"
             ],
             [
              0.2222222222222222,
              "#7201a8"
             ],
             [
              0.3333333333333333,
              "#9c179e"
             ],
             [
              0.4444444444444444,
              "#bd3786"
             ],
             [
              0.5555555555555556,
              "#d8576b"
             ],
             [
              0.6666666666666666,
              "#ed7953"
             ],
             [
              0.7777777777777778,
              "#fb9f3a"
             ],
             [
              0.8888888888888888,
              "#fdca26"
             ],
             [
              1,
              "#f0f921"
             ]
            ],
            "type": "surface"
           }
          ],
          "table": [
           {
            "cells": {
             "fill": {
              "color": "#EBF0F8"
             },
             "line": {
              "color": "white"
             }
            },
            "header": {
             "fill": {
              "color": "#C8D4E3"
             },
             "line": {
              "color": "white"
             }
            },
            "type": "table"
           }
          ]
         },
         "layout": {
          "annotationdefaults": {
           "arrowcolor": "#2a3f5f",
           "arrowhead": 0,
           "arrowwidth": 1
          },
          "autotypenumbers": "strict",
          "coloraxis": {
           "colorbar": {
            "outlinewidth": 0,
            "ticks": ""
           }
          },
          "colorscale": {
           "diverging": [
            [
             0,
             "#8e0152"
            ],
            [
             0.1,
             "#c51b7d"
            ],
            [
             0.2,
             "#de77ae"
            ],
            [
             0.3,
             "#f1b6da"
            ],
            [
             0.4,
             "#fde0ef"
            ],
            [
             0.5,
             "#f7f7f7"
            ],
            [
             0.6,
             "#e6f5d0"
            ],
            [
             0.7,
             "#b8e186"
            ],
            [
             0.8,
             "#7fbc41"
            ],
            [
             0.9,
             "#4d9221"
            ],
            [
             1,
             "#276419"
            ]
           ],
           "sequential": [
            [
             0,
             "#0d0887"
            ],
            [
             0.1111111111111111,
             "#46039f"
            ],
            [
             0.2222222222222222,
             "#7201a8"
            ],
            [
             0.3333333333333333,
             "#9c179e"
            ],
            [
             0.4444444444444444,
             "#bd3786"
            ],
            [
             0.5555555555555556,
             "#d8576b"
            ],
            [
             0.6666666666666666,
             "#ed7953"
            ],
            [
             0.7777777777777778,
             "#fb9f3a"
            ],
            [
             0.8888888888888888,
             "#fdca26"
            ],
            [
             1,
             "#f0f921"
            ]
           ],
           "sequentialminus": [
            [
             0,
             "#0d0887"
            ],
            [
             0.1111111111111111,
             "#46039f"
            ],
            [
             0.2222222222222222,
             "#7201a8"
            ],
            [
             0.3333333333333333,
             "#9c179e"
            ],
            [
             0.4444444444444444,
             "#bd3786"
            ],
            [
             0.5555555555555556,
             "#d8576b"
            ],
            [
             0.6666666666666666,
             "#ed7953"
            ],
            [
             0.7777777777777778,
             "#fb9f3a"
            ],
            [
             0.8888888888888888,
             "#fdca26"
            ],
            [
             1,
             "#f0f921"
            ]
           ]
          },
          "colorway": [
           "#636efa",
           "#EF553B",
           "#00cc96",
           "#ab63fa",
           "#FFA15A",
           "#19d3f3",
           "#FF6692",
           "#B6E880",
           "#FF97FF",
           "#FECB52"
          ],
          "font": {
           "color": "#2a3f5f"
          },
          "geo": {
           "bgcolor": "white",
           "lakecolor": "white",
           "landcolor": "#E5ECF6",
           "showlakes": true,
           "showland": true,
           "subunitcolor": "white"
          },
          "hoverlabel": {
           "align": "left"
          },
          "hovermode": "closest",
          "mapbox": {
           "style": "light"
          },
          "paper_bgcolor": "white",
          "plot_bgcolor": "#E5ECF6",
          "polar": {
           "angularaxis": {
            "gridcolor": "white",
            "linecolor": "white",
            "ticks": ""
           },
           "bgcolor": "#E5ECF6",
           "radialaxis": {
            "gridcolor": "white",
            "linecolor": "white",
            "ticks": ""
           }
          },
          "scene": {
           "xaxis": {
            "backgroundcolor": "#E5ECF6",
            "gridcolor": "white",
            "gridwidth": 2,
            "linecolor": "white",
            "showbackground": true,
            "ticks": "",
            "zerolinecolor": "white"
           },
           "yaxis": {
            "backgroundcolor": "#E5ECF6",
            "gridcolor": "white",
            "gridwidth": 2,
            "linecolor": "white",
            "showbackground": true,
            "ticks": "",
            "zerolinecolor": "white"
           },
           "zaxis": {
            "backgroundcolor": "#E5ECF6",
            "gridcolor": "white",
            "gridwidth": 2,
            "linecolor": "white",
            "showbackground": true,
            "ticks": "",
            "zerolinecolor": "white"
           }
          },
          "shapedefaults": {
           "line": {
            "color": "#2a3f5f"
           }
          },
          "ternary": {
           "aaxis": {
            "gridcolor": "white",
            "linecolor": "white",
            "ticks": ""
           },
           "baxis": {
            "gridcolor": "white",
            "linecolor": "white",
            "ticks": ""
           },
           "bgcolor": "#E5ECF6",
           "caxis": {
            "gridcolor": "white",
            "linecolor": "white",
            "ticks": ""
           }
          },
          "title": {
           "x": 0.05
          },
          "xaxis": {
           "automargin": true,
           "gridcolor": "white",
           "linecolor": "white",
           "ticks": "",
           "title": {
            "standoff": 15
           },
           "zerolinecolor": "white",
           "zerolinewidth": 2
          },
          "yaxis": {
           "automargin": true,
           "gridcolor": "white",
           "linecolor": "white",
           "ticks": "",
           "title": {
            "standoff": 15
           },
           "zerolinecolor": "white",
           "zerolinewidth": 2
          }
         }
        },
        "width": 550,
        "xaxis": {
         "anchor": "y2",
         "color": "black",
         "domain": [
          0,
          1
         ],
         "linecolor": "black",
         "linewidth": 1.5,
         "mirror": "allticks",
         "showgrid": false,
         "showline": true,
         "ticklen": 10,
         "ticks": "inside",
         "tickwidth": 1.5,
         "title": {
          "text": "abs. err. (kcal/mol)"
         },
         "zeroline": false
        },
        "yaxis": {
         "anchor": "free",
         "color": "black",
         "domain": [
          0.35,
          1
         ],
         "linecolor": "black",
         "linewidth": 1.5,
         "mirror": "allticks",
         "position": 0,
         "showgrid": false,
         "showline": true,
         "ticklen": 10,
         "ticks": "inside",
         "tickwidth": 1.5,
         "title": {
          "text": "frequency"
         },
         "zeroline": false
        },
        "yaxis2": {
         "anchor": "x",
         "domain": [
          0,
          0.25
         ],
         "dtick": 1,
         "showticklabels": false
        }
       }
      },
      "text/html": [
       "<div>                            <div id=\"754f714b-9a1d-4ea0-b12e-842a877bdfae\" class=\"plotly-graph-div\" style=\"height:500px; width:550px;\"></div>            <script type=\"text/javascript\">                require([\"plotly\"], function(Plotly) {                    window.PLOTLYENV=window.PLOTLYENV || {};                                    if (document.getElementById(\"754f714b-9a1d-4ea0-b12e-842a877bdfae\")) {                    Plotly.newPlot(                        \"754f714b-9a1d-4ea0-b12e-842a877bdfae\",                        [{\"autobinx\":false,\"histnorm\":\"probability density\",\"legendgroup\":\"\",\"marker\":{\"color\":\"black\"},\"name\":\"\",\"opacity\":0.7,\"x\":[0.17364829778671265,2.6939051151275635,1.35377836227417,1.0193796157836914,1.5491803884506226,0.16715845465660095,0.9820855259895325,0.6541598439216614,0.5053980946540833,0.30331072211265564],\"xaxis\":\"x\",\"xbins\":{\"end\":2.6939051151275635,\"size\":0.5,\"start\":0.16715845465660095},\"yaxis\":\"y\",\"type\":\"histogram\"},{\"legendgroup\":\"\",\"marker\":{\"color\":\"black\"},\"mode\":\"lines\",\"name\":\"\",\"showlegend\":false,\"x\":[0.16715845465660095,0.17221194797754288,0.17726544129848482,0.18231893461942672,0.18737242794036865,0.19242592126131058,0.1974794145822525,0.20253290790319442,0.20758640122413635,0.21263989454507828,0.21769338786602022,0.22274688118696212,0.22780037450790405,0.23285386782884598,0.2379073611497879,0.24296085447072985,0.24801434779167175,0.2530678411126137,0.2581213344335556,0.2631748277544975,0.2682283210754395,0.2732818143963814,0.2783353077173233,0.28338880103826525,0.28844229435920715,0.29349578768014906,0.298549281001091,0.3036027743220329,0.3086562676429748,0.3137097609639168,0.31876325428485874,0.3238167476058006,0.32887024092674255,0.3339237342476845,0.3389772275686264,0.3440307208895683,0.3490842142105103,0.3541377075314522,0.3591912008523941,0.36424469417333605,0.36929818749427795,0.37435168081521986,0.3794051741361618,0.3844586674571037,0.3895121607780456,0.3945656540989876,0.39961914741992954,0.4046726407408714,0.40972613406181335,0.4147796273827553,0.4198331207036972,0.4248866140246391,0.4299401073455811,0.434993600666523,0.4400470939874649,0.44510058730840685,0.45015408062934875,0.45520757395029066,0.4602610672712326,0.4653145605921745,0.4703680539131165,0.4754215472340584,0.4804750405550003,0.48552853387594225,0.49058202719688415,0.49563552051782606,0.5006890138387681,0.5057425071597099,0.5107960004806519,0.5158494938015938,0.5209029871225357,0.5259564804434776,0.5310099737644196,0.5360634670853615,0.5411169604063034,0.5461704537272454,0.5512239470481872,0.5562774403691292,0.5613309336900711,0.566384427011013,0.571437920331955,0.5764914136528969,0.5815449069738388,0.5865984002947807,0.5916518936157227,0.5967053869366645,0.6017588802576065,0.6068123735785484,0.6118658668994903,0.6169193602204323,0.6219728535413742,0.6270263468623161,0.6320798401832581,0.6371333335042,0.6421868268251418,0.6472403201460839,0.6522938134670258,0.6573473067879676,0.6624008001089097,0.6674542934298515,0.6725077867507935,0.6775612800717353,0.6826147733926773,0.6876682667136192,0.6927217600345612,0.6977752533555031,0.702828746676445,0.707882239997387,0.7129357333183288,0.7179892266392708,0.7230427199602127,0.7280962132811546,0.7331497066020966,0.7382031999230385,0.7432566932439804,0.7483101865649223,0.7533636798858643,0.7584171732068061,0.7634706665277481,0.76852415984869,0.773577653169632,0.7786311464905739,0.7836846398115158,0.7887381331324578,0.7937916264533996,0.7988451197743416,0.8038986130952835,0.8089521064162254,0.8140055997371674,0.8190590930581093,0.8241125863790512,0.8291660796999931,0.8342195730209351,0.839273066341877,0.8443265596628189,0.8493800529837608,0.8544335463047028,0.8594870396256447,0.8645405329465866,0.8695940262675286,0.8746475195884704,0.8797010129094124,0.8847545062303543,0.8898079995512962,0.8948614928722382,0.8999149861931801,0.904968479514122,0.9100219728350639,0.9150754661560059,0.9201289594769478,0.9251824527978897,0.9302359461188316,0.9352894394397736,0.9403429327607155,0.9453964260816574,0.9504499194025994,0.9555034127235412,0.9605569060444832,0.9656103993654251,0.970663892686367,0.975717386007309,0.9807708793282509,0.9858243726491928,0.9908778659701347,0.9959313592910767,1.0009848526120186,1.0060383459329605,1.0110918392539023,1.0161453325748444,1.0211988258957863,1.026252319216728,1.0313058125376702,1.036359305858612,1.0414127991795539,1.046466292500496,1.0515197858214378,1.0565732791423796,1.0616267724633217,1.0666802657842636,1.0717337591052054,1.0767872524261475,1.0818407457470895,1.0868942390680312,1.0919477323889732,1.0970012257099153,1.102054719030857,1.107108212351799,1.112161705672741,1.1172151989936827,1.1222686923146248,1.1273221856355669,1.1323756789565085,1.1374291722774506,1.1424826655983926,1.1475361589193342,1.1525896522402763,1.1576431455612184,1.1626966388821602,1.167750132203102,1.172803625524044,1.177857118844986,1.1829106121659279,1.1879641054868697,1.1930175988078118,1.1980710921287536,1.2031245854496957,1.2081780787706375,1.2132315720915794,1.2182850654125215,1.2233385587334633,1.2283920520544052,1.2334455453753472,1.238499038696289,1.243552532017231,1.248606025338173,1.2536595186591148,1.2587130119800567,1.2637665053009988,1.2688199986219406,1.2738734919428825,1.2789269852638245,1.2839804785847664,1.2890339719057082,1.2940874652266503,1.2991409585475922,1.304194451868534,1.309247945189476,1.314301438510418,1.3193549318313598,1.3244084251523018,1.3294619184732437,1.3345154117941855,1.3395689051151276,1.3446223984360695,1.3496758917570113,1.3547293850779534,1.3597828783988952,1.3648363717198373,1.3698898650407791,1.374943358361721,1.379996851682663,1.385050345003605,1.3901038383245468,1.3951573316454888,1.4002108249664307,1.4052643182873725,1.4103178116083146,1.4153713049292564,1.4204247982501983,1.4254782915711404,1.4305317848920822,1.435585278213024,1.4406387715339661,1.445692264854908,1.4507457581758498,1.455799251496792,1.4608527448177338,1.4659062381386756,1.4709597314596177,1.4760132247805595,1.4810667181015014,1.4861202114224434,1.4911737047433853,1.4962271980643271,1.5012806913852692,1.506334184706211,1.5113876780271531,1.516441171348095,1.5214946646690368,1.526548157989979,1.5316016513109207,1.5366551446318626,1.5417086379528047,1.5467621312737465,1.5518156245946884,1.5568691179156304,1.5619226112365723,1.5669761045575141,1.5720295978784562,1.577083091199398,1.58213658452034,1.587190077841282,1.5922435711622238,1.5972970644831657,1.6023505578041077,1.6074040511250496,1.6124575444459914,1.6175110377669335,1.6225645310878754,1.6276180244088172,1.6326715177297593,1.6377250110507011,1.642778504371643,1.647831997692585,1.6528854910135269,1.6579389843344687,1.6629924776554108,1.6680459709763527,1.6730994642972947,1.6781529576182366,1.6832064509391784,1.6882599442601205,1.6933134375810623,1.6983669309020042,1.7034204242229463,1.708473917543888,1.71352741086483,1.718580904185772,1.7236343975067139,1.7286878908276557,1.7337413841485978,1.7387948774695396,1.7438483707904815,1.7489018641114236,1.7539553574323654,1.7590088507533073,1.7640623440742493,1.7691158373951912,1.774169330716133,1.779222824037075,1.784276317358017,1.7893298106789588,1.7943833039999009,1.7994367973208427,1.8044902906417846,1.8095437839627266,1.8145972772836685,1.8196507706046103,1.8247042639255524,1.8297577572464943,1.8348112505674363,1.8398647438883782,1.84491823720932,1.849971730530262,1.855025223851204,1.8600787171721458,1.8651322104930879,1.8701857038140297,1.8752391971349716,1.8802926904559136,1.8853461837768555,1.8903996770977973,1.8954531704187394,1.9005066637396812,1.905560157060623,1.9106136503815652,1.915667143702507,1.9207206370234489,1.925774130344391,1.9308276236653328,1.9358811169862746,1.9409346103072167,1.9459881036281585,1.9510415969491004,1.9560950902700425,1.9611485835909843,1.9662020769119262,1.9712555702328682,1.97630906355381,1.981362556874752,1.986416050195694,1.9914695435166359,1.996523036837578,2.0015765301585198,2.0066300234794614,2.011683516800404,2.0167370101213455,2.021790503442287,2.0268439967632297,2.0318974900841713,2.036950983405113,2.0420044767260555,2.047057970046997,2.0521114633679387,2.057164956688881,2.062218450009823,2.0672719433307645,2.072325436651707,2.0773789299726486,2.0824324232935902,2.0874859166145328,2.0925394099354744,2.097592903256416,2.1026463965773585,2.1076998898983,2.1127533832192418,2.1178068765401843,2.122860369861126,2.1279138631820675,2.13296735650301,2.1380208498239517,2.1430743431448938,2.148127836465836,2.1531813297867775,2.1582348231077195,2.1632883164286616,2.168341809749603,2.1733953030705453,2.178448796391487,2.183502289712429,2.188555783033371,2.1936092763543127,2.1986627696752548,2.203716262996197,2.2087697563171385,2.2138232496380805,2.2188767429590226,2.2239302362799647,2.2289837296009063,2.2340372229218484,2.2390907162427904,2.244144209563732,2.249197702884674,2.254251196205616,2.259304689526558,2.2643581828475,2.269411676168442,2.2744651694893836,2.2795186628103257,2.2845721561312677,2.2896256494522094,2.2946791427731514,2.2997326360940935,2.304786129415035,2.309839622735977,2.3148931160569193,2.319946609377861,2.325000102698803,2.330053596019745,2.3351070893406867,2.3401605826616287,2.345214075982571,2.3502675693035124,2.3553210626244545,2.3603745559453966,2.365428049266338,2.3704815425872803,2.3755350359082223,2.380588529229164,2.385642022550106,2.390695515871048,2.3957490091919897,2.400802502512932,2.405855995833874,2.4109094891548155,2.4159629824757576,2.4210164757966997,2.4260699691176413,2.4311234624385833,2.4361769557595254,2.441230449080467,2.446283942401409,2.451337435722351,2.456390929043293,2.461444422364235,2.466497915685177,2.4715514090061186,2.4766049023270607,2.4816583956480027,2.4867118889689444,2.4917653822898864,2.4968188756108285,2.50187236893177,2.506925862252712,2.5119793555736543,2.517032848894596,2.522086342215538,2.52713983553648,2.5321933288574217,2.5372468221783637,2.542300315499306,2.547353808820248,2.5524073021411895,2.5574607954621316,2.5625142887830736,2.5675677821040153,2.5726212754249573,2.5776747687458994,2.582728262066841,2.587781755387783,2.592835248708725,2.597888742029667,2.602942235350609,2.607995728671551,2.6130492219924926,2.6181027153134346,2.6231562086343767,2.6282097019553183,2.6332631952762604,2.6383166885972025,2.643370181918144,2.648423675239086,2.6534771685600282,2.65853066188097,2.663584155201912,2.668637648522854,2.6736911418437956,2.6787446351647377,2.68379812848568,2.6888516218066214],\"xaxis\":\"x\",\"y\":[0.39833356510305346,0.40033822633748334,0.402325309765811,0.40429456976609385,0.4062457655024703,0.4081786609896088,0.41009302515441776,0.4119886318949813,0.41386526013669206,0.41572269388555205,0.41756072227861635,0.4193791396315536,0.42117774548330367,0.4229563446378124,0.424714747202825,0.4264527686257246,0.4281702297264016,0.4298669567271449,0.4315427812795438,0.43319754048839937,0.4348310769326352,0.43644323868321167,0.43803387931804133,0.4396028579339087,0.44115003915540024,0.4426752931408531,0.4441784955853286,0.44565952772062783,0.447118276312358,0.4485546336540703,0.4499684975584846,0.4513597713458238,0.4527283638292791,0.45407418929763255,0.4553971674950617,0.4566972235981578,0.4579742881901871,0.45922829723262826,0.4604591920340217,0.46166691921616615,0.462851430677704,0.4640126835551327,0.4651506401812868,0.4662652680413341,0.46735653972633273,0.4684244328843943,0.4694689301695053,0.47049001918805583,0.4714876924431277,0.4724619472765967,0.4734127858091042,0.4743402148779533,0.4752442459729897,0.4761248951705239,0.47698218306535767,0.4778161347009743,0.47862677949795673,0.47941415118069663,0.48017828770245935,0.48091923116886975,0.4816370277598869,0.4823317276503334,0.4830033849290483,0.4836520575167326,0.4842778070825552,0.4848806989595922,0.4854608020591661,0.48601818878415953,0.4865529349413732,0.4870651196529987,0.4875548252672798,0.488022137268434,0.4884671441859059,0.4888899375030245,0.4892906115651379,0.48966926348729695,0.4900259930615604,0.49036090266399257,0.4906740971614262,0.49096568381806305,0.4912357722019802,0.4914844740916169,0.491711903382308,0.4919181759929382,0.49210340977278266,0.4922677244086041,0.49241124133207537,0.4925340836275925,0.49263637594054605,0.4927182443861166,0.4927798164586582,0.4928212209417344,0.49284258781886886,0.4928440481850733,0.49282573415921316,0.49278777879727015,0.4927303160065613,0.4926534804609708,0.4925574075172511,0.4924422331324485,0.49230809378250634,0.49215512638209785,0.49198346820573996,0.4917932568102374,0.4915846299585047,0.4913577255448135,0.49111268152150844,0.4908496358272381,0.4905687263167397,0.49027009069222033,0.48995386643637306,0.4896201907470638,0.489269200473727,0.4889010320555014,0.4885158214611406,0.48811370413072774,0.48769481491922323,0.48725928804187335,0.48680725702150485,0.48633885463773,0.48585421287808356,0.4853534628911116,0.4848367349414331,0.4843041583667884,0.483755861537092,0.48319197181550094,0.48261261552151363,0.482017917896106,0.4814080030689154,0.4807829940274778,0.4801430125885234,0.47948817937133453,0.47881861377316653,0.47813443394673144,0.4774357567797438,0.47672269787652355,0.47599537154165206,0.47525389076567437,0.47449836721283906,0.4737289112108665,0.47294563174273246,0.47214863644045696,0.4713380315808805,0.4705139220834151,0.46967641150974887,0.46882560206549023,0.46796159460372555,0.4670844886304738,0.4661943823120119,0.4652913724840478,0.4643755546627153,0.46344702305736274,0.46250587058510934,0.46155218888713806,0.46058606834669386,0.4596075981087588,0.45861686610136587,0.45761395905852376,0.4565989625447119,0.45557196098091274,0.4545330376721443,0.45348227483645387,0.4524197536353338,0.45134555420552136,0.4502597556921399,0.4491624362831408,0.4480536732450054,0.4469335429596606,0.4458021209625679,0.44465948198194016,0.4435056999790401,0.44234084818951735,0.441164999165736,0.43997822482004717,0.4387805964689589,0.4375721848781569,0.4363530603083265,0.43512329256172955,0.43388295102948676,0.43263210473951597,0.4313708224050783,0.4300991724738831,0.42881722317770016,0.4275250425824325,0.42622269863859724,0.4249102592321665,0.42358779223571746,0.4222553655598426,0.4209130472047699,0.41956090531214146,0.4181990082169055,0.41682742449926613,0.4154462230366467,0.4140554730556153,0.4126552441837222,0.4112456065012035,0.40982663059250135,0.40839838759755087,0.4069609492627897,0.4055143879918388,0.404058776895812,0.4025941898432041,0.4011207015093136,0.3996383874251536,0.39814732402580766,0.3966475886981837,0.39513925982812437,0.39362241684682997,0.39209714027655085,0.39056351177550835,0.38902161418200276,0.3874715315576676,0.38591334922983095,0.3843471538329443,0.38277303334904156,0.38119107714718997,0.3796013760218974,0.3780040222304385,0.37639910952906747,0.3747867332080809,0.37316699012569915,0.3715399787407346,0.3699057991440122,0.36826455308851774,0.3666163440182385,0.364961277095672,0.36329945922797435,0.3616309990917213,0.3599560071562573,0.35827459570560755,0.3565868788589316,0.35489297258949426,0.35319299474213334,0.35148706504920557,0.34977530514498906,0.348057838578527,0.34633479082489593,0.34460628929487863,0.3428724633430345,0.3411334442741469,0.33938936534803926,0.3376403617827494,0.33588657075604744,0.33412813140529435,0.3323651848256295,0.33059787406648206,0.3288263441264006,0.3270507419461975,0.3252712164004031,0.3234879182870299,0.3217010003156453,0.31991061709375207,0.3181169251114797,0.31632008272458906,0.31452025013579266,0.31271758937439786,0.3109122642742775,0.30910444045017466,0.3072942852723523,0.3054819678395952,0.3036676589505743,0.3018515310735881,0.30003375831469037,0.2982145163842203,0.2963939825617492,0.29457233565946056,0.2927497559839785,0.29092642529666574,0.2891025267724077,0.2872782449569037,0.2854537657224876,0.2836292762224981,0.2818049648442232,0.2799810211604427,0.27815763587959375,0.27633500079458484,0.27451330873028723,0.2726927534897286,0.27087352979902046,0.2690558332510481,0.267239860247952,0.2654258079424347,0.26361387417792387,0.2618042574276233,0.2599971567324884,0.2581927716381586,0.2563913021308823,0.2545929485724701,0.2527979116343151,0.25100639223051296,0.24921859145012543,0.24743471048862153,0.2456549505785372,0.24387951291939391,0.2421085986069158,0.24034240856158554,0.23858114345658246,0.23682500364514256,0.23507418908738392,0.23332889927664152,0.23158933316535074,0.22985568909052864,0.22812816469889258,0.22640695687166207,0.22469226164908918,0.22298427415476127,0.22128318851972217,0.21958919780645514,0.2179024939327775,0.216223267595687,0.2145517081952107,0.21288800375830003,0.21123234086281786,0.20958490456166562,0.20794587830709493,0.2063154438752501,0.20469378129098922,0.20308106875302817,0.2014774825594545,0.19988319703365726,0.19829838445071807,0.19672321496430945,0.19515785653414572,0.1936024748540318,0.19205723328055524,0.1905222927624648,0.1889978117707826,0.18748394622969045,0.1859808494482376,0.18448867205291078,0.18300756192111017,0.1815376641155745,0.1800791208197958,0.17863207127446679,0.17719665171500115,0.1757729953101668,0.17436123210187274,0.1729614889461487,0.17157388945535496,0.17019855394166264,0.16883559936183934,0.167485139263378,0.16614728373200507,0.1648221393406026,0.16350980909957824,0.16221039240871737,0.1609239850105508,0.15965067894526738,0.15839056250720562,0.15714372020295306,0.15591023271108131,0.15469017684354838,0.15348362550879247,0.15229064767654543,0.15111130834439118,0.14994566850609276,0.14879378512171226,0.14765571108954575,0.14653149521989484,0.14542118221069425,0.14432481262501612,0.1432424228704678,0.14217404518050084,0.14111970759764775,0.1400794339586988,0.13905324388183604,0.13804115275573475,0.13704317173064326,0.13605930771145341,0.13508956335276862,0.13413393705597818,0.13319242296834455,0.1322650109841091,0.13135168674761874,0.13045243165847945,0.1295672228787363,0.12869603334208002,0.1278388317650817,0.12699558266045227,0.12616624635232188,0.12535077899353908,0.12454913258498063,0.1237612549968652,0.12298708999206527,0.12222657725140634,0.1214796524009422,0.120746247041196,0.1200262887783544,0.11931970125739831,0.1186264041971574,0.11794631342727172,0.11727934092703982,0.11662539486613889,0.11598437964719281,0.11535619595016997,0.11474074077858666,0.11413790750749324,0.11354758593321866,0.11296966232484774,0.11240401947740321,0.11185053676670717,0.11130909020589058,0.11077955250352212,0.1102617931233255,0.10975567834545334,0.1092610713292836,0.10877783217770663,0.10830581800286625,0.10784488299332025,0.10739487848258288,0.10695565301901284,0.10652705243700748,0.10610891992946421,0.10570109612146976,0.10530341914517583,0.10491572471581986,0.10453784620884893,0.10416961473810336,0.10381085923501703,0.10346140652878925,0.10312108142748472,0.10278970680001437,0.10246710365895283,0.10215309124414464,0.10184748710705273,0.10155010719580196,0.10126076594086912,0.10097927634137159,0.10070545005190558,0.10043909746988526,0.10018002782333307,0.09992804925907188,0.099682968931269,0.09944459309028164,0.0992127271717543,0.09898717588591717,0.0987677433070348,0.09855423296295512,0.09834644792470798,0.09814419089610191,0.09794726430326975,0.09775547038411143,0.09756861127758422,0.09738648911278977,0.09720890609780804,0.09703566460822798,0.09686656727532539,0.09670141707383849,0.09654001740929198,0.09638217220482102,0.09622768598744634,0.09607636397375284,0.09592801215492369,0.0957824373810834,0.09563944744490219,0.09549885116441705,0.09536045846502218,0.09522408046058572,0.09508952953364695,0.09495661941465094,0.09482516526017791,0.09469498373012444,0.09456589306379568,0.09443771315486692,0.0943102656251757,0.09418337389730454,0.09405686326591588,0.0939305609678028,0.09380429625061808,0.09367790044024638,0.0935512070067852,0.09342405162910061,0.09329627225792526,0.09316770917746713,0.0930382050654984,0.09290760505189506,0.09277575677559852,0.09264251043997235,0.09250771886652735,0.09237123754699081,0.09223292469369476,0.09209264128826179,0.09195025112856581,0.0918056208739479,0.09165862008866812,0.09150912128357468,0.09135699995597485,0.09120213462769068,0.0910444068812866,0.09088370139445504,0.09071990597254861,0.09055291157924815,0.09038261236535775,0.0902089056957186,0.09003169217423464,0.08985087566700535,0.08966636332356075,0.08947806559619605,0.08928589625740478,0.08908977241540908],\"yaxis\":\"y\",\"type\":\"scatter\"},{\"legendgroup\":\"\",\"marker\":{\"color\":\"black\",\"symbol\":\"line-ns-open\"},\"mode\":\"markers\",\"name\":\"\",\"showlegend\":false,\"x\":[0.17364829778671265,2.6939051151275635,1.35377836227417,1.0193796157836914,1.5491803884506226,0.16715845465660095,0.9820855259895325,0.6541598439216614,0.5053980946540833,0.30331072211265564],\"xaxis\":\"x\",\"y\":[\"\",\"\",\"\",\"\",\"\",\"\",\"\",\"\",\"\",\"\"],\"yaxis\":\"y2\",\"type\":\"scatter\"}],                        {\"barmode\":\"overlay\",\"hovermode\":\"closest\",\"legend\":{\"traceorder\":\"reversed\",\"x\":0.5,\"y\":1,\"bgcolor\":\"rgba(0,0,0,0)\",\"orientation\":\"v\"},\"xaxis\":{\"anchor\":\"y2\",\"domain\":[0.0,1.0],\"zeroline\":false,\"title\":{\"text\":\"abs. err. (kcal/mol)\"},\"color\":\"black\",\"linecolor\":\"black\",\"linewidth\":1.5,\"mirror\":\"allticks\",\"showgrid\":false,\"showline\":true,\"ticklen\":10,\"ticks\":\"inside\",\"tickwidth\":1.5},\"yaxis\":{\"anchor\":\"free\",\"domain\":[0.35,1],\"position\":0.0,\"title\":{\"text\":\"frequency\"},\"color\":\"black\",\"linecolor\":\"black\",\"linewidth\":1.5,\"mirror\":\"allticks\",\"showgrid\":false,\"showline\":true,\"ticklen\":10,\"ticks\":\"inside\",\"tickwidth\":1.5,\"zeroline\":false},\"yaxis2\":{\"anchor\":\"x\",\"domain\":[0,0.25],\"dtick\":1,\"showticklabels\":false},\"template\":{\"data\":{\"histogram2dcontour\":[{\"type\":\"histogram2dcontour\",\"colorbar\":{\"outlinewidth\":0,\"ticks\":\"\"},\"colorscale\":[[0.0,\"#0d0887\"],[0.1111111111111111,\"#46039f\"],[0.2222222222222222,\"#7201a8\"],[0.3333333333333333,\"#9c179e\"],[0.4444444444444444,\"#bd3786\"],[0.5555555555555556,\"#d8576b\"],[0.6666666666666666,\"#ed7953\"],[0.7777777777777778,\"#fb9f3a\"],[0.8888888888888888,\"#fdca26\"],[1.0,\"#f0f921\"]]}],\"choropleth\":[{\"type\":\"choropleth\",\"colorbar\":{\"outlinewidth\":0,\"ticks\":\"\"}}],\"histogram2d\":[{\"type\":\"histogram2d\",\"colorbar\":{\"outlinewidth\":0,\"ticks\":\"\"},\"colorscale\":[[0.0,\"#0d0887\"],[0.1111111111111111,\"#46039f\"],[0.2222222222222222,\"#7201a8\"],[0.3333333333333333,\"#9c179e\"],[0.4444444444444444,\"#bd3786\"],[0.5555555555555556,\"#d8576b\"],[0.6666666666666666,\"#ed7953\"],[0.7777777777777778,\"#fb9f3a\"],[0.8888888888888888,\"#fdca26\"],[1.0,\"#f0f921\"]]}],\"heatmap\":[{\"type\":\"heatmap\",\"colorbar\":{\"outlinewidth\":0,\"ticks\":\"\"},\"colorscale\":[[0.0,\"#0d0887\"],[0.1111111111111111,\"#46039f\"],[0.2222222222222222,\"#7201a8\"],[0.3333333333333333,\"#9c179e\"],[0.4444444444444444,\"#bd3786\"],[0.5555555555555556,\"#d8576b\"],[0.6666666666666666,\"#ed7953\"],[0.7777777777777778,\"#fb9f3a\"],[0.8888888888888888,\"#fdca26\"],[1.0,\"#f0f921\"]]}],\"heatmapgl\":[{\"type\":\"heatmapgl\",\"colorbar\":{\"outlinewidth\":0,\"ticks\":\"\"},\"colorscale\":[[0.0,\"#0d0887\"],[0.1111111111111111,\"#46039f\"],[0.2222222222222222,\"#7201a8\"],[0.3333333333333333,\"#9c179e\"],[0.4444444444444444,\"#bd3786\"],[0.5555555555555556,\"#d8576b\"],[0.6666666666666666,\"#ed7953\"],[0.7777777777777778,\"#fb9f3a\"],[0.8888888888888888,\"#fdca26\"],[1.0,\"#f0f921\"]]}],\"contourcarpet\":[{\"type\":\"contourcarpet\",\"colorbar\":{\"outlinewidth\":0,\"ticks\":\"\"}}],\"contour\":[{\"type\":\"contour\",\"colorbar\":{\"outlinewidth\":0,\"ticks\":\"\"},\"colorscale\":[[0.0,\"#0d0887\"],[0.1111111111111111,\"#46039f\"],[0.2222222222222222,\"#7201a8\"],[0.3333333333333333,\"#9c179e\"],[0.4444444444444444,\"#bd3786\"],[0.5555555555555556,\"#d8576b\"],[0.6666666666666666,\"#ed7953\"],[0.7777777777777778,\"#fb9f3a\"],[0.8888888888888888,\"#fdca26\"],[1.0,\"#f0f921\"]]}],\"surface\":[{\"type\":\"surface\",\"colorbar\":{\"outlinewidth\":0,\"ticks\":\"\"},\"colorscale\":[[0.0,\"#0d0887\"],[0.1111111111111111,\"#46039f\"],[0.2222222222222222,\"#7201a8\"],[0.3333333333333333,\"#9c179e\"],[0.4444444444444444,\"#bd3786\"],[0.5555555555555556,\"#d8576b\"],[0.6666666666666666,\"#ed7953\"],[0.7777777777777778,\"#fb9f3a\"],[0.8888888888888888,\"#fdca26\"],[1.0,\"#f0f921\"]]}],\"mesh3d\":[{\"type\":\"mesh3d\",\"colorbar\":{\"outlinewidth\":0,\"ticks\":\"\"}}],\"scatter\":[{\"fillpattern\":{\"fillmode\":\"overlay\",\"size\":10,\"solidity\":0.2},\"type\":\"scatter\"}],\"parcoords\":[{\"type\":\"parcoords\",\"line\":{\"colorbar\":{\"outlinewidth\":0,\"ticks\":\"\"}}}],\"scatterpolargl\":[{\"type\":\"scatterpolargl\",\"marker\":{\"colorbar\":{\"outlinewidth\":0,\"ticks\":\"\"}}}],\"bar\":[{\"error_x\":{\"color\":\"#2a3f5f\"},\"error_y\":{\"color\":\"#2a3f5f\"},\"marker\":{\"line\":{\"color\":\"#E5ECF6\",\"width\":0.5},\"pattern\":{\"fillmode\":\"overlay\",\"size\":10,\"solidity\":0.2}},\"type\":\"bar\"}],\"scattergeo\":[{\"type\":\"scattergeo\",\"marker\":{\"colorbar\":{\"outlinewidth\":0,\"ticks\":\"\"}}}],\"scatterpolar\":[{\"type\":\"scatterpolar\",\"marker\":{\"colorbar\":{\"outlinewidth\":0,\"ticks\":\"\"}}}],\"histogram\":[{\"marker\":{\"pattern\":{\"fillmode\":\"overlay\",\"size\":10,\"solidity\":0.2}},\"type\":\"histogram\"}],\"scattergl\":[{\"type\":\"scattergl\",\"marker\":{\"colorbar\":{\"outlinewidth\":0,\"ticks\":\"\"}}}],\"scatter3d\":[{\"type\":\"scatter3d\",\"line\":{\"colorbar\":{\"outlinewidth\":0,\"ticks\":\"\"}},\"marker\":{\"colorbar\":{\"outlinewidth\":0,\"ticks\":\"\"}}}],\"scattermapbox\":[{\"type\":\"scattermapbox\",\"marker\":{\"colorbar\":{\"outlinewidth\":0,\"ticks\":\"\"}}}],\"scatterternary\":[{\"type\":\"scatterternary\",\"marker\":{\"colorbar\":{\"outlinewidth\":0,\"ticks\":\"\"}}}],\"scattercarpet\":[{\"type\":\"scattercarpet\",\"marker\":{\"colorbar\":{\"outlinewidth\":0,\"ticks\":\"\"}}}],\"carpet\":[{\"aaxis\":{\"endlinecolor\":\"#2a3f5f\",\"gridcolor\":\"white\",\"linecolor\":\"white\",\"minorgridcolor\":\"white\",\"startlinecolor\":\"#2a3f5f\"},\"baxis\":{\"endlinecolor\":\"#2a3f5f\",\"gridcolor\":\"white\",\"linecolor\":\"white\",\"minorgridcolor\":\"white\",\"startlinecolor\":\"#2a3f5f\"},\"type\":\"carpet\"}],\"table\":[{\"cells\":{\"fill\":{\"color\":\"#EBF0F8\"},\"line\":{\"color\":\"white\"}},\"header\":{\"fill\":{\"color\":\"#C8D4E3\"},\"line\":{\"color\":\"white\"}},\"type\":\"table\"}],\"barpolar\":[{\"marker\":{\"line\":{\"color\":\"#E5ECF6\",\"width\":0.5},\"pattern\":{\"fillmode\":\"overlay\",\"size\":10,\"solidity\":0.2}},\"type\":\"barpolar\"}],\"pie\":[{\"automargin\":true,\"type\":\"pie\"}]},\"layout\":{\"autotypenumbers\":\"strict\",\"colorway\":[\"#636efa\",\"#EF553B\",\"#00cc96\",\"#ab63fa\",\"#FFA15A\",\"#19d3f3\",\"#FF6692\",\"#B6E880\",\"#FF97FF\",\"#FECB52\"],\"font\":{\"color\":\"#2a3f5f\"},\"hovermode\":\"closest\",\"hoverlabel\":{\"align\":\"left\"},\"paper_bgcolor\":\"white\",\"plot_bgcolor\":\"#E5ECF6\",\"polar\":{\"bgcolor\":\"#E5ECF6\",\"angularaxis\":{\"gridcolor\":\"white\",\"linecolor\":\"white\",\"ticks\":\"\"},\"radialaxis\":{\"gridcolor\":\"white\",\"linecolor\":\"white\",\"ticks\":\"\"}},\"ternary\":{\"bgcolor\":\"#E5ECF6\",\"aaxis\":{\"gridcolor\":\"white\",\"linecolor\":\"white\",\"ticks\":\"\"},\"baxis\":{\"gridcolor\":\"white\",\"linecolor\":\"white\",\"ticks\":\"\"},\"caxis\":{\"gridcolor\":\"white\",\"linecolor\":\"white\",\"ticks\":\"\"}},\"coloraxis\":{\"colorbar\":{\"outlinewidth\":0,\"ticks\":\"\"}},\"colorscale\":{\"sequential\":[[0.0,\"#0d0887\"],[0.1111111111111111,\"#46039f\"],[0.2222222222222222,\"#7201a8\"],[0.3333333333333333,\"#9c179e\"],[0.4444444444444444,\"#bd3786\"],[0.5555555555555556,\"#d8576b\"],[0.6666666666666666,\"#ed7953\"],[0.7777777777777778,\"#fb9f3a\"],[0.8888888888888888,\"#fdca26\"],[1.0,\"#f0f921\"]],\"sequentialminus\":[[0.0,\"#0d0887\"],[0.1111111111111111,\"#46039f\"],[0.2222222222222222,\"#7201a8\"],[0.3333333333333333,\"#9c179e\"],[0.4444444444444444,\"#bd3786\"],[0.5555555555555556,\"#d8576b\"],[0.6666666666666666,\"#ed7953\"],[0.7777777777777778,\"#fb9f3a\"],[0.8888888888888888,\"#fdca26\"],[1.0,\"#f0f921\"]],\"diverging\":[[0,\"#8e0152\"],[0.1,\"#c51b7d\"],[0.2,\"#de77ae\"],[0.3,\"#f1b6da\"],[0.4,\"#fde0ef\"],[0.5,\"#f7f7f7\"],[0.6,\"#e6f5d0\"],[0.7,\"#b8e186\"],[0.8,\"#7fbc41\"],[0.9,\"#4d9221\"],[1,\"#276419\"]]},\"xaxis\":{\"gridcolor\":\"white\",\"linecolor\":\"white\",\"ticks\":\"\",\"title\":{\"standoff\":15},\"zerolinecolor\":\"white\",\"automargin\":true,\"zerolinewidth\":2},\"yaxis\":{\"gridcolor\":\"white\",\"linecolor\":\"white\",\"ticks\":\"\",\"title\":{\"standoff\":15},\"zerolinecolor\":\"white\",\"automargin\":true,\"zerolinewidth\":2},\"scene\":{\"xaxis\":{\"backgroundcolor\":\"#E5ECF6\",\"gridcolor\":\"white\",\"linecolor\":\"white\",\"showbackground\":true,\"ticks\":\"\",\"zerolinecolor\":\"white\",\"gridwidth\":2},\"yaxis\":{\"backgroundcolor\":\"#E5ECF6\",\"gridcolor\":\"white\",\"linecolor\":\"white\",\"showbackground\":true,\"ticks\":\"\",\"zerolinecolor\":\"white\",\"gridwidth\":2},\"zaxis\":{\"backgroundcolor\":\"#E5ECF6\",\"gridcolor\":\"white\",\"linecolor\":\"white\",\"showbackground\":true,\"ticks\":\"\",\"zerolinecolor\":\"white\",\"gridwidth\":2}},\"shapedefaults\":{\"line\":{\"color\":\"#2a3f5f\"}},\"annotationdefaults\":{\"arrowcolor\":\"#2a3f5f\",\"arrowhead\":0,\"arrowwidth\":1},\"geo\":{\"bgcolor\":\"white\",\"landcolor\":\"#E5ECF6\",\"subunitcolor\":\"white\",\"showland\":true,\"showlakes\":true,\"lakecolor\":\"white\"},\"title\":{\"x\":0.05},\"mapbox\":{\"style\":\"light\"}}},\"font\":{\"color\":\"black\",\"family\":\"Helvetica\",\"size\":24},\"margin\":{\"b\":100,\"l\":100,\"r\":10,\"t\":10},\"showlegend\":false,\"width\":550,\"height\":500,\"paper_bgcolor\":\"rgba(255,255,255,100)\",\"plot_bgcolor\":\"white\"},                        {\"responsive\": true}                    ).then(function(){\n",
       "                            \n",
       "var gd = document.getElementById('754f714b-9a1d-4ea0-b12e-842a877bdfae');\n",
       "var x = new MutationObserver(function (mutations, observer) {{\n",
       "        var display = window.getComputedStyle(gd).display;\n",
       "        if (!display || display === 'none') {{\n",
       "            console.log([gd, 'removed!']);\n",
       "            Plotly.purge(gd);\n",
       "            observer.disconnect();\n",
       "        }}\n",
       "}});\n",
       "\n",
       "// Listen for the removal of the full notebook cells\n",
       "var notebookContainer = gd.closest('#notebook-container');\n",
       "if (notebookContainer) {{\n",
       "    x.observe(notebookContainer, {childList: true});\n",
       "}}\n",
       "\n",
       "// Listen for the clearing of the current output cell\n",
       "var outputEl = gd.closest('.output');\n",
       "if (outputEl) {{\n",
       "    x.observe(outputEl, {childList: true});\n",
       "}}\n",
       "\n",
       "                        })                };                });            </script>        </div>"
      ]
     },
     "metadata": {},
     "output_type": "display_data"
    },
    {
     "data": {
      "text/plain": [
       "0.9402004420757294"
      ]
     },
     "execution_count": 32,
     "metadata": {},
     "output_type": "execute_result"
    }
   ],
   "source": [
    "hist_data = [df_sel['errs_t'].values]\n",
    "group_labels = [\"\"]\n",
    "colors = ['black', blue, green, red]\n",
    "fig = ff.create_distplot(hist_data, group_labels, show_hist=True, colors=colors, bin_size=0.5)\n",
    "layout = go.Layout()\n",
    "layout.legend.update(x=.5, y=1, bgcolor=\"rgba(0,0,0,0)\")\n",
    "layout.update(showlegend=False)\n",
    "layout.update(width=550, height=500)\n",
    "layout.update(glob_layout)\n",
    "layout[\"xaxis\"].update({'title': \"abs. err. (kcal/mol)\"})\n",
    "layout[\"yaxis\"].update({'title': \"frequency\"})\n",
    "fig.layout.update(layout)\n",
    "fig.show()\n",
    "\n",
    "np.mean(df_sel['errs_t'])"
   ]
  },
  {
   "cell_type": "markdown",
   "metadata": {},
   "source": [
    "##### DFA ranks"
   ]
  },
  {
   "cell_type": "code",
   "execution_count": 33,
   "metadata": {},
   "outputs": [
    {
     "data": {
      "application/vnd.plotly.v1+json": {
       "config": {
        "linkText": "Export to plot.ly",
        "plotlyServerURL": "https://plot.ly",
        "showLink": false
       },
       "data": [
        {
         "marker": {
          "color": "rgba(0, 0, 0, 0.5)"
         },
         "name": "all",
         "showlegend": false,
         "type": "bar",
         "x": [
          0,
          1,
          2,
          3,
          4,
          5,
          6,
          7,
          8,
          9,
          10,
          11,
          12,
          13,
          14,
          15,
          16,
          17,
          18,
          19,
          20,
          21,
          22,
          23,
          24,
          25,
          26,
          27,
          28,
          29,
          30,
          31,
          32,
          33,
          34,
          35,
          36,
          37,
          38,
          39,
          40,
          41,
          42,
          43,
          44,
          45,
          46,
          47
         ],
         "y": [
          40,
          20,
          20,
          0,
          10,
          10,
          0,
          0,
          0,
          0,
          0,
          0,
          0,
          0,
          0,
          0,
          0,
          0,
          0,
          0,
          0,
          0,
          0,
          0,
          0,
          0,
          0,
          0,
          0,
          0,
          0,
          0,
          0,
          0,
          0,
          0,
          0,
          0,
          0,
          0,
          0,
          0,
          0,
          0,
          0,
          0,
          0,
          0
         ]
        },
        {
         "line": {
          "color": "blue",
          "dash": "solid",
          "width": 2
         },
         "mode": "lines",
         "showlegend": false,
         "type": "scatter",
         "x": [
          0,
          0
         ],
         "y": [
          0,
          40
         ],
         "yaxis": "y2"
        },
        {
         "line": {
          "color": "blue",
          "dash": "solid",
          "width": 2
         },
         "mode": "lines",
         "showlegend": false,
         "type": "scatter",
         "x": [
          0,
          1
         ],
         "y": [
          40,
          40
         ],
         "yaxis": "y2"
        },
        {
         "line": {
          "color": "blue",
          "dash": "solid",
          "width": 2
         },
         "mode": "lines",
         "showlegend": false,
         "type": "scatter",
         "x": [
          1,
          1
         ],
         "y": [
          40,
          60
         ],
         "yaxis": "y2"
        },
        {
         "line": {
          "color": "blue",
          "dash": "solid",
          "width": 2
         },
         "mode": "lines",
         "showlegend": false,
         "type": "scatter",
         "x": [
          1,
          2
         ],
         "y": [
          60,
          60
         ],
         "yaxis": "y2"
        },
        {
         "line": {
          "color": "blue",
          "dash": "solid",
          "width": 2
         },
         "mode": "lines",
         "showlegend": false,
         "type": "scatter",
         "x": [
          2,
          2
         ],
         "y": [
          60,
          80
         ],
         "yaxis": "y2"
        },
        {
         "line": {
          "color": "blue",
          "dash": "solid",
          "width": 2
         },
         "mode": "lines",
         "showlegend": false,
         "type": "scatter",
         "x": [
          2,
          3
         ],
         "y": [
          80,
          80
         ],
         "yaxis": "y2"
        },
        {
         "line": {
          "color": "blue",
          "dash": "solid",
          "width": 2
         },
         "mode": "lines",
         "showlegend": false,
         "type": "scatter",
         "x": [
          3,
          3
         ],
         "y": [
          80,
          80
         ],
         "yaxis": "y2"
        },
        {
         "line": {
          "color": "blue",
          "dash": "solid",
          "width": 2
         },
         "mode": "lines",
         "showlegend": false,
         "type": "scatter",
         "x": [
          3,
          4
         ],
         "y": [
          80,
          80
         ],
         "yaxis": "y2"
        },
        {
         "line": {
          "color": "blue",
          "dash": "solid",
          "width": 2
         },
         "mode": "lines",
         "showlegend": false,
         "type": "scatter",
         "x": [
          4,
          4
         ],
         "y": [
          80,
          90
         ],
         "yaxis": "y2"
        },
        {
         "line": {
          "color": "blue",
          "dash": "solid",
          "width": 2
         },
         "mode": "lines",
         "showlegend": false,
         "type": "scatter",
         "x": [
          4,
          5
         ],
         "y": [
          90,
          90
         ],
         "yaxis": "y2"
        },
        {
         "line": {
          "color": "blue",
          "dash": "solid",
          "width": 2
         },
         "mode": "lines",
         "showlegend": false,
         "type": "scatter",
         "x": [
          5,
          5
         ],
         "y": [
          90,
          100
         ],
         "yaxis": "y2"
        },
        {
         "line": {
          "color": "blue",
          "dash": "solid",
          "width": 2
         },
         "mode": "lines",
         "showlegend": false,
         "type": "scatter",
         "x": [
          5,
          6
         ],
         "y": [
          100,
          100
         ],
         "yaxis": "y2"
        },
        {
         "line": {
          "color": "blue",
          "dash": "solid",
          "width": 2
         },
         "mode": "lines",
         "showlegend": false,
         "type": "scatter",
         "x": [
          6,
          6
         ],
         "y": [
          100,
          100
         ],
         "yaxis": "y2"
        },
        {
         "line": {
          "color": "blue",
          "dash": "solid",
          "width": 2
         },
         "mode": "lines",
         "showlegend": false,
         "type": "scatter",
         "x": [
          6,
          7
         ],
         "y": [
          100,
          100
         ],
         "yaxis": "y2"
        },
        {
         "line": {
          "color": "blue",
          "dash": "solid",
          "width": 2
         },
         "mode": "lines",
         "showlegend": false,
         "type": "scatter",
         "x": [
          7,
          7
         ],
         "y": [
          100,
          100
         ],
         "yaxis": "y2"
        },
        {
         "line": {
          "color": "blue",
          "dash": "solid",
          "width": 2
         },
         "mode": "lines",
         "showlegend": false,
         "type": "scatter",
         "x": [
          7,
          8
         ],
         "y": [
          100,
          100
         ],
         "yaxis": "y2"
        },
        {
         "line": {
          "color": "blue",
          "dash": "solid",
          "width": 2
         },
         "mode": "lines",
         "showlegend": false,
         "type": "scatter",
         "x": [
          8,
          8
         ],
         "y": [
          100,
          100
         ],
         "yaxis": "y2"
        },
        {
         "line": {
          "color": "blue",
          "dash": "solid",
          "width": 2
         },
         "mode": "lines",
         "showlegend": false,
         "type": "scatter",
         "x": [
          8,
          9
         ],
         "y": [
          100,
          100
         ],
         "yaxis": "y2"
        },
        {
         "line": {
          "color": "blue",
          "dash": "solid",
          "width": 2
         },
         "mode": "lines",
         "showlegend": false,
         "type": "scatter",
         "x": [
          9,
          9
         ],
         "y": [
          100,
          100
         ],
         "yaxis": "y2"
        },
        {
         "line": {
          "color": "blue",
          "dash": "solid",
          "width": 2
         },
         "mode": "lines",
         "showlegend": false,
         "type": "scatter",
         "x": [
          9,
          10
         ],
         "y": [
          100,
          100
         ],
         "yaxis": "y2"
        },
        {
         "line": {
          "color": "blue",
          "dash": "solid",
          "width": 2
         },
         "mode": "lines",
         "showlegend": false,
         "type": "scatter",
         "x": [
          10,
          10
         ],
         "y": [
          100,
          100
         ],
         "yaxis": "y2"
        },
        {
         "line": {
          "color": "blue",
          "dash": "solid",
          "width": 2
         },
         "mode": "lines",
         "showlegend": false,
         "type": "scatter",
         "x": [
          10,
          11
         ],
         "y": [
          100,
          100
         ],
         "yaxis": "y2"
        },
        {
         "line": {
          "color": "blue",
          "dash": "solid",
          "width": 2
         },
         "mode": "lines",
         "showlegend": false,
         "type": "scatter",
         "x": [
          11,
          11
         ],
         "y": [
          100,
          100
         ],
         "yaxis": "y2"
        },
        {
         "line": {
          "color": "blue",
          "dash": "solid",
          "width": 2
         },
         "mode": "lines",
         "showlegend": false,
         "type": "scatter",
         "x": [
          11,
          12
         ],
         "y": [
          100,
          100
         ],
         "yaxis": "y2"
        },
        {
         "line": {
          "color": "blue",
          "dash": "solid",
          "width": 2
         },
         "mode": "lines",
         "showlegend": false,
         "type": "scatter",
         "x": [
          12,
          12
         ],
         "y": [
          100,
          100
         ],
         "yaxis": "y2"
        },
        {
         "line": {
          "color": "blue",
          "dash": "solid",
          "width": 2
         },
         "mode": "lines",
         "showlegend": false,
         "type": "scatter",
         "x": [
          12,
          13
         ],
         "y": [
          100,
          100
         ],
         "yaxis": "y2"
        },
        {
         "line": {
          "color": "blue",
          "dash": "solid",
          "width": 2
         },
         "mode": "lines",
         "showlegend": false,
         "type": "scatter",
         "x": [
          13,
          13
         ],
         "y": [
          100,
          100
         ],
         "yaxis": "y2"
        },
        {
         "line": {
          "color": "blue",
          "dash": "solid",
          "width": 2
         },
         "mode": "lines",
         "showlegend": false,
         "type": "scatter",
         "x": [
          13,
          14
         ],
         "y": [
          100,
          100
         ],
         "yaxis": "y2"
        },
        {
         "line": {
          "color": "blue",
          "dash": "solid",
          "width": 2
         },
         "mode": "lines",
         "showlegend": false,
         "type": "scatter",
         "x": [
          14,
          14
         ],
         "y": [
          100,
          100
         ],
         "yaxis": "y2"
        },
        {
         "line": {
          "color": "blue",
          "dash": "solid",
          "width": 2
         },
         "mode": "lines",
         "showlegend": false,
         "type": "scatter",
         "x": [
          14,
          15
         ],
         "y": [
          100,
          100
         ],
         "yaxis": "y2"
        },
        {
         "line": {
          "color": "blue",
          "dash": "solid",
          "width": 2
         },
         "mode": "lines",
         "showlegend": false,
         "type": "scatter",
         "x": [
          15,
          15
         ],
         "y": [
          100,
          100
         ],
         "yaxis": "y2"
        },
        {
         "line": {
          "color": "blue",
          "dash": "solid",
          "width": 2
         },
         "mode": "lines",
         "showlegend": false,
         "type": "scatter",
         "x": [
          15,
          16
         ],
         "y": [
          100,
          100
         ],
         "yaxis": "y2"
        },
        {
         "line": {
          "color": "blue",
          "dash": "solid",
          "width": 2
         },
         "mode": "lines",
         "showlegend": false,
         "type": "scatter",
         "x": [
          16,
          16
         ],
         "y": [
          100,
          100
         ],
         "yaxis": "y2"
        },
        {
         "line": {
          "color": "blue",
          "dash": "solid",
          "width": 2
         },
         "mode": "lines",
         "showlegend": false,
         "type": "scatter",
         "x": [
          16,
          17
         ],
         "y": [
          100,
          100
         ],
         "yaxis": "y2"
        },
        {
         "line": {
          "color": "blue",
          "dash": "solid",
          "width": 2
         },
         "mode": "lines",
         "showlegend": false,
         "type": "scatter",
         "x": [
          17,
          17
         ],
         "y": [
          100,
          100
         ],
         "yaxis": "y2"
        },
        {
         "line": {
          "color": "blue",
          "dash": "solid",
          "width": 2
         },
         "mode": "lines",
         "showlegend": false,
         "type": "scatter",
         "x": [
          17,
          18
         ],
         "y": [
          100,
          100
         ],
         "yaxis": "y2"
        },
        {
         "line": {
          "color": "blue",
          "dash": "solid",
          "width": 2
         },
         "mode": "lines",
         "showlegend": false,
         "type": "scatter",
         "x": [
          18,
          18
         ],
         "y": [
          100,
          100
         ],
         "yaxis": "y2"
        },
        {
         "line": {
          "color": "blue",
          "dash": "solid",
          "width": 2
         },
         "mode": "lines",
         "showlegend": false,
         "type": "scatter",
         "x": [
          18,
          19
         ],
         "y": [
          100,
          100
         ],
         "yaxis": "y2"
        },
        {
         "line": {
          "color": "blue",
          "dash": "solid",
          "width": 2
         },
         "mode": "lines",
         "showlegend": false,
         "type": "scatter",
         "x": [
          19,
          19
         ],
         "y": [
          100,
          100
         ],
         "yaxis": "y2"
        },
        {
         "line": {
          "color": "blue",
          "dash": "solid",
          "width": 2
         },
         "mode": "lines",
         "showlegend": false,
         "type": "scatter",
         "x": [
          19,
          20
         ],
         "y": [
          100,
          100
         ],
         "yaxis": "y2"
        },
        {
         "line": {
          "color": "blue",
          "dash": "solid",
          "width": 2
         },
         "mode": "lines",
         "showlegend": false,
         "type": "scatter",
         "x": [
          20,
          20
         ],
         "y": [
          100,
          100
         ],
         "yaxis": "y2"
        },
        {
         "line": {
          "color": "blue",
          "dash": "solid",
          "width": 2
         },
         "mode": "lines",
         "showlegend": false,
         "type": "scatter",
         "x": [
          20,
          21
         ],
         "y": [
          100,
          100
         ],
         "yaxis": "y2"
        },
        {
         "line": {
          "color": "blue",
          "dash": "solid",
          "width": 2
         },
         "mode": "lines",
         "showlegend": false,
         "type": "scatter",
         "x": [
          21,
          21
         ],
         "y": [
          100,
          100
         ],
         "yaxis": "y2"
        },
        {
         "line": {
          "color": "blue",
          "dash": "solid",
          "width": 2
         },
         "mode": "lines",
         "showlegend": false,
         "type": "scatter",
         "x": [
          21,
          22
         ],
         "y": [
          100,
          100
         ],
         "yaxis": "y2"
        },
        {
         "line": {
          "color": "blue",
          "dash": "solid",
          "width": 2
         },
         "mode": "lines",
         "showlegend": false,
         "type": "scatter",
         "x": [
          22,
          22
         ],
         "y": [
          100,
          100
         ],
         "yaxis": "y2"
        },
        {
         "line": {
          "color": "blue",
          "dash": "solid",
          "width": 2
         },
         "mode": "lines",
         "showlegend": false,
         "type": "scatter",
         "x": [
          22,
          23
         ],
         "y": [
          100,
          100
         ],
         "yaxis": "y2"
        },
        {
         "line": {
          "color": "blue",
          "dash": "solid",
          "width": 2
         },
         "mode": "lines",
         "showlegend": false,
         "type": "scatter",
         "x": [
          23,
          23
         ],
         "y": [
          100,
          100
         ],
         "yaxis": "y2"
        },
        {
         "line": {
          "color": "blue",
          "dash": "solid",
          "width": 2
         },
         "mode": "lines",
         "showlegend": false,
         "type": "scatter",
         "x": [
          23,
          24
         ],
         "y": [
          100,
          100
         ],
         "yaxis": "y2"
        },
        {
         "line": {
          "color": "blue",
          "dash": "solid",
          "width": 2
         },
         "mode": "lines",
         "showlegend": false,
         "type": "scatter",
         "x": [
          24,
          24
         ],
         "y": [
          100,
          100
         ],
         "yaxis": "y2"
        },
        {
         "line": {
          "color": "blue",
          "dash": "solid",
          "width": 2
         },
         "mode": "lines",
         "showlegend": false,
         "type": "scatter",
         "x": [
          24,
          25
         ],
         "y": [
          100,
          100
         ],
         "yaxis": "y2"
        },
        {
         "line": {
          "color": "blue",
          "dash": "solid",
          "width": 2
         },
         "mode": "lines",
         "showlegend": false,
         "type": "scatter",
         "x": [
          25,
          25
         ],
         "y": [
          100,
          100
         ],
         "yaxis": "y2"
        },
        {
         "line": {
          "color": "blue",
          "dash": "solid",
          "width": 2
         },
         "mode": "lines",
         "showlegend": false,
         "type": "scatter",
         "x": [
          25,
          26
         ],
         "y": [
          100,
          100
         ],
         "yaxis": "y2"
        },
        {
         "line": {
          "color": "blue",
          "dash": "solid",
          "width": 2
         },
         "mode": "lines",
         "showlegend": false,
         "type": "scatter",
         "x": [
          26,
          26
         ],
         "y": [
          100,
          100
         ],
         "yaxis": "y2"
        },
        {
         "line": {
          "color": "blue",
          "dash": "solid",
          "width": 2
         },
         "mode": "lines",
         "showlegend": false,
         "type": "scatter",
         "x": [
          26,
          27
         ],
         "y": [
          100,
          100
         ],
         "yaxis": "y2"
        },
        {
         "line": {
          "color": "blue",
          "dash": "solid",
          "width": 2
         },
         "mode": "lines",
         "showlegend": false,
         "type": "scatter",
         "x": [
          27,
          27
         ],
         "y": [
          100,
          100
         ],
         "yaxis": "y2"
        },
        {
         "line": {
          "color": "blue",
          "dash": "solid",
          "width": 2
         },
         "mode": "lines",
         "showlegend": false,
         "type": "scatter",
         "x": [
          27,
          28
         ],
         "y": [
          100,
          100
         ],
         "yaxis": "y2"
        },
        {
         "line": {
          "color": "blue",
          "dash": "solid",
          "width": 2
         },
         "mode": "lines",
         "showlegend": false,
         "type": "scatter",
         "x": [
          28,
          28
         ],
         "y": [
          100,
          100
         ],
         "yaxis": "y2"
        },
        {
         "line": {
          "color": "blue",
          "dash": "solid",
          "width": 2
         },
         "mode": "lines",
         "showlegend": false,
         "type": "scatter",
         "x": [
          28,
          29
         ],
         "y": [
          100,
          100
         ],
         "yaxis": "y2"
        },
        {
         "line": {
          "color": "blue",
          "dash": "solid",
          "width": 2
         },
         "mode": "lines",
         "showlegend": false,
         "type": "scatter",
         "x": [
          29,
          29
         ],
         "y": [
          100,
          100
         ],
         "yaxis": "y2"
        },
        {
         "line": {
          "color": "blue",
          "dash": "solid",
          "width": 2
         },
         "mode": "lines",
         "showlegend": false,
         "type": "scatter",
         "x": [
          29,
          30
         ],
         "y": [
          100,
          100
         ],
         "yaxis": "y2"
        },
        {
         "line": {
          "color": "blue",
          "dash": "solid",
          "width": 2
         },
         "mode": "lines",
         "showlegend": false,
         "type": "scatter",
         "x": [
          30,
          30
         ],
         "y": [
          100,
          100
         ],
         "yaxis": "y2"
        },
        {
         "line": {
          "color": "blue",
          "dash": "solid",
          "width": 2
         },
         "mode": "lines",
         "showlegend": false,
         "type": "scatter",
         "x": [
          30,
          31
         ],
         "y": [
          100,
          100
         ],
         "yaxis": "y2"
        },
        {
         "line": {
          "color": "blue",
          "dash": "solid",
          "width": 2
         },
         "mode": "lines",
         "showlegend": false,
         "type": "scatter",
         "x": [
          31,
          31
         ],
         "y": [
          100,
          100
         ],
         "yaxis": "y2"
        },
        {
         "line": {
          "color": "blue",
          "dash": "solid",
          "width": 2
         },
         "mode": "lines",
         "showlegend": false,
         "type": "scatter",
         "x": [
          31,
          32
         ],
         "y": [
          100,
          100
         ],
         "yaxis": "y2"
        },
        {
         "line": {
          "color": "blue",
          "dash": "solid",
          "width": 2
         },
         "mode": "lines",
         "showlegend": false,
         "type": "scatter",
         "x": [
          32,
          32
         ],
         "y": [
          100,
          100
         ],
         "yaxis": "y2"
        },
        {
         "line": {
          "color": "blue",
          "dash": "solid",
          "width": 2
         },
         "mode": "lines",
         "showlegend": false,
         "type": "scatter",
         "x": [
          32,
          33
         ],
         "y": [
          100,
          100
         ],
         "yaxis": "y2"
        },
        {
         "line": {
          "color": "blue",
          "dash": "solid",
          "width": 2
         },
         "mode": "lines",
         "showlegend": false,
         "type": "scatter",
         "x": [
          33,
          33
         ],
         "y": [
          100,
          100
         ],
         "yaxis": "y2"
        },
        {
         "line": {
          "color": "blue",
          "dash": "solid",
          "width": 2
         },
         "mode": "lines",
         "showlegend": false,
         "type": "scatter",
         "x": [
          33,
          34
         ],
         "y": [
          100,
          100
         ],
         "yaxis": "y2"
        },
        {
         "line": {
          "color": "blue",
          "dash": "solid",
          "width": 2
         },
         "mode": "lines",
         "showlegend": false,
         "type": "scatter",
         "x": [
          34,
          34
         ],
         "y": [
          100,
          100
         ],
         "yaxis": "y2"
        },
        {
         "line": {
          "color": "blue",
          "dash": "solid",
          "width": 2
         },
         "mode": "lines",
         "showlegend": false,
         "type": "scatter",
         "x": [
          34,
          35
         ],
         "y": [
          100,
          100
         ],
         "yaxis": "y2"
        },
        {
         "line": {
          "color": "blue",
          "dash": "solid",
          "width": 2
         },
         "mode": "lines",
         "showlegend": false,
         "type": "scatter",
         "x": [
          35,
          35
         ],
         "y": [
          100,
          100
         ],
         "yaxis": "y2"
        },
        {
         "line": {
          "color": "blue",
          "dash": "solid",
          "width": 2
         },
         "mode": "lines",
         "showlegend": false,
         "type": "scatter",
         "x": [
          35,
          36
         ],
         "y": [
          100,
          100
         ],
         "yaxis": "y2"
        },
        {
         "line": {
          "color": "blue",
          "dash": "solid",
          "width": 2
         },
         "mode": "lines",
         "showlegend": false,
         "type": "scatter",
         "x": [
          36,
          36
         ],
         "y": [
          100,
          100
         ],
         "yaxis": "y2"
        },
        {
         "line": {
          "color": "blue",
          "dash": "solid",
          "width": 2
         },
         "mode": "lines",
         "showlegend": false,
         "type": "scatter",
         "x": [
          36,
          37
         ],
         "y": [
          100,
          100
         ],
         "yaxis": "y2"
        },
        {
         "line": {
          "color": "blue",
          "dash": "solid",
          "width": 2
         },
         "mode": "lines",
         "showlegend": false,
         "type": "scatter",
         "x": [
          37,
          37
         ],
         "y": [
          100,
          100
         ],
         "yaxis": "y2"
        },
        {
         "line": {
          "color": "blue",
          "dash": "solid",
          "width": 2
         },
         "mode": "lines",
         "showlegend": false,
         "type": "scatter",
         "x": [
          37,
          38
         ],
         "y": [
          100,
          100
         ],
         "yaxis": "y2"
        },
        {
         "line": {
          "color": "blue",
          "dash": "solid",
          "width": 2
         },
         "mode": "lines",
         "showlegend": false,
         "type": "scatter",
         "x": [
          38,
          38
         ],
         "y": [
          100,
          100
         ],
         "yaxis": "y2"
        },
        {
         "line": {
          "color": "blue",
          "dash": "solid",
          "width": 2
         },
         "mode": "lines",
         "showlegend": false,
         "type": "scatter",
         "x": [
          38,
          39
         ],
         "y": [
          100,
          100
         ],
         "yaxis": "y2"
        },
        {
         "line": {
          "color": "blue",
          "dash": "solid",
          "width": 2
         },
         "mode": "lines",
         "showlegend": false,
         "type": "scatter",
         "x": [
          39,
          39
         ],
         "y": [
          100,
          100
         ],
         "yaxis": "y2"
        },
        {
         "line": {
          "color": "blue",
          "dash": "solid",
          "width": 2
         },
         "mode": "lines",
         "showlegend": false,
         "type": "scatter",
         "x": [
          39,
          40
         ],
         "y": [
          100,
          100
         ],
         "yaxis": "y2"
        },
        {
         "line": {
          "color": "blue",
          "dash": "solid",
          "width": 2
         },
         "mode": "lines",
         "showlegend": false,
         "type": "scatter",
         "x": [
          40,
          40
         ],
         "y": [
          100,
          100
         ],
         "yaxis": "y2"
        },
        {
         "line": {
          "color": "blue",
          "dash": "solid",
          "width": 2
         },
         "mode": "lines",
         "showlegend": false,
         "type": "scatter",
         "x": [
          40,
          41
         ],
         "y": [
          100,
          100
         ],
         "yaxis": "y2"
        },
        {
         "line": {
          "color": "blue",
          "dash": "solid",
          "width": 2
         },
         "mode": "lines",
         "showlegend": false,
         "type": "scatter",
         "x": [
          41,
          41
         ],
         "y": [
          100,
          100
         ],
         "yaxis": "y2"
        },
        {
         "line": {
          "color": "blue",
          "dash": "solid",
          "width": 2
         },
         "mode": "lines",
         "showlegend": false,
         "type": "scatter",
         "x": [
          41,
          42
         ],
         "y": [
          100,
          100
         ],
         "yaxis": "y2"
        },
        {
         "line": {
          "color": "blue",
          "dash": "solid",
          "width": 2
         },
         "mode": "lines",
         "showlegend": false,
         "type": "scatter",
         "x": [
          42,
          42
         ],
         "y": [
          100,
          100
         ],
         "yaxis": "y2"
        },
        {
         "line": {
          "color": "blue",
          "dash": "solid",
          "width": 2
         },
         "mode": "lines",
         "showlegend": false,
         "type": "scatter",
         "x": [
          42,
          43
         ],
         "y": [
          100,
          100
         ],
         "yaxis": "y2"
        },
        {
         "line": {
          "color": "blue",
          "dash": "solid",
          "width": 2
         },
         "mode": "lines",
         "showlegend": false,
         "type": "scatter",
         "x": [
          43,
          43
         ],
         "y": [
          100,
          100
         ],
         "yaxis": "y2"
        },
        {
         "line": {
          "color": "blue",
          "dash": "solid",
          "width": 2
         },
         "mode": "lines",
         "showlegend": false,
         "type": "scatter",
         "x": [
          43,
          44
         ],
         "y": [
          100,
          100
         ],
         "yaxis": "y2"
        },
        {
         "line": {
          "color": "blue",
          "dash": "solid",
          "width": 2
         },
         "mode": "lines",
         "showlegend": false,
         "type": "scatter",
         "x": [
          44,
          44
         ],
         "y": [
          100,
          100
         ],
         "yaxis": "y2"
        },
        {
         "line": {
          "color": "blue",
          "dash": "solid",
          "width": 2
         },
         "mode": "lines",
         "showlegend": false,
         "type": "scatter",
         "x": [
          44,
          45
         ],
         "y": [
          100,
          100
         ],
         "yaxis": "y2"
        },
        {
         "line": {
          "color": "blue",
          "dash": "solid",
          "width": 2
         },
         "mode": "lines",
         "showlegend": false,
         "type": "scatter",
         "x": [
          45,
          45
         ],
         "y": [
          100,
          100
         ],
         "yaxis": "y2"
        },
        {
         "line": {
          "color": "blue",
          "dash": "solid",
          "width": 2
         },
         "mode": "lines",
         "showlegend": false,
         "type": "scatter",
         "x": [
          45,
          46
         ],
         "y": [
          100,
          100
         ],
         "yaxis": "y2"
        },
        {
         "line": {
          "color": "blue",
          "dash": "solid",
          "width": 2
         },
         "mode": "lines",
         "showlegend": false,
         "type": "scatter",
         "x": [
          46,
          46
         ],
         "y": [
          100,
          100
         ],
         "yaxis": "y2"
        },
        {
         "line": {
          "color": "blue",
          "dash": "solid",
          "width": 2
         },
         "mode": "lines",
         "showlegend": false,
         "type": "scatter",
         "x": [
          46,
          47
         ],
         "y": [
          100,
          100
         ],
         "yaxis": "y2"
        }
       ],
       "layout": {
        "boxmode": "group",
        "font": {
         "color": "black",
         "family": "Helvetica",
         "size": 24
        },
        "height": 500,
        "legend": {
         "bgcolor": "rgba(0,0,0,0)",
         "orientation": "v",
         "x": 1,
         "y": 1
        },
        "margin": {
         "b": 100,
         "l": 100,
         "r": 10,
         "t": 10
        },
        "paper_bgcolor": "rgba(255,255,255,100)",
        "plot_bgcolor": "white",
        "template": {
         "data": {
          "bar": [
           {
            "error_x": {
             "color": "#2a3f5f"
            },
            "error_y": {
             "color": "#2a3f5f"
            },
            "marker": {
             "line": {
              "color": "#E5ECF6",
              "width": 0.5
             },
             "pattern": {
              "fillmode": "overlay",
              "size": 10,
              "solidity": 0.2
             }
            },
            "type": "bar"
           }
          ],
          "barpolar": [
           {
            "marker": {
             "line": {
              "color": "#E5ECF6",
              "width": 0.5
             },
             "pattern": {
              "fillmode": "overlay",
              "size": 10,
              "solidity": 0.2
             }
            },
            "type": "barpolar"
           }
          ],
          "carpet": [
           {
            "aaxis": {
             "endlinecolor": "#2a3f5f",
             "gridcolor": "white",
             "linecolor": "white",
             "minorgridcolor": "white",
             "startlinecolor": "#2a3f5f"
            },
            "baxis": {
             "endlinecolor": "#2a3f5f",
             "gridcolor": "white",
             "linecolor": "white",
             "minorgridcolor": "white",
             "startlinecolor": "#2a3f5f"
            },
            "type": "carpet"
           }
          ],
          "choropleth": [
           {
            "colorbar": {
             "outlinewidth": 0,
             "ticks": ""
            },
            "type": "choropleth"
           }
          ],
          "contour": [
           {
            "colorbar": {
             "outlinewidth": 0,
             "ticks": ""
            },
            "colorscale": [
             [
              0,
              "#0d0887"
             ],
             [
              0.1111111111111111,
              "#46039f"
             ],
             [
              0.2222222222222222,
              "#7201a8"
             ],
             [
              0.3333333333333333,
              "#9c179e"
             ],
             [
              0.4444444444444444,
              "#bd3786"
             ],
             [
              0.5555555555555556,
              "#d8576b"
             ],
             [
              0.6666666666666666,
              "#ed7953"
             ],
             [
              0.7777777777777778,
              "#fb9f3a"
             ],
             [
              0.8888888888888888,
              "#fdca26"
             ],
             [
              1,
              "#f0f921"
             ]
            ],
            "type": "contour"
           }
          ],
          "contourcarpet": [
           {
            "colorbar": {
             "outlinewidth": 0,
             "ticks": ""
            },
            "type": "contourcarpet"
           }
          ],
          "heatmap": [
           {
            "colorbar": {
             "outlinewidth": 0,
             "ticks": ""
            },
            "colorscale": [
             [
              0,
              "#0d0887"
             ],
             [
              0.1111111111111111,
              "#46039f"
             ],
             [
              0.2222222222222222,
              "#7201a8"
             ],
             [
              0.3333333333333333,
              "#9c179e"
             ],
             [
              0.4444444444444444,
              "#bd3786"
             ],
             [
              0.5555555555555556,
              "#d8576b"
             ],
             [
              0.6666666666666666,
              "#ed7953"
             ],
             [
              0.7777777777777778,
              "#fb9f3a"
             ],
             [
              0.8888888888888888,
              "#fdca26"
             ],
             [
              1,
              "#f0f921"
             ]
            ],
            "type": "heatmap"
           }
          ],
          "heatmapgl": [
           {
            "colorbar": {
             "outlinewidth": 0,
             "ticks": ""
            },
            "colorscale": [
             [
              0,
              "#0d0887"
             ],
             [
              0.1111111111111111,
              "#46039f"
             ],
             [
              0.2222222222222222,
              "#7201a8"
             ],
             [
              0.3333333333333333,
              "#9c179e"
             ],
             [
              0.4444444444444444,
              "#bd3786"
             ],
             [
              0.5555555555555556,
              "#d8576b"
             ],
             [
              0.6666666666666666,
              "#ed7953"
             ],
             [
              0.7777777777777778,
              "#fb9f3a"
             ],
             [
              0.8888888888888888,
              "#fdca26"
             ],
             [
              1,
              "#f0f921"
             ]
            ],
            "type": "heatmapgl"
           }
          ],
          "histogram": [
           {
            "marker": {
             "pattern": {
              "fillmode": "overlay",
              "size": 10,
              "solidity": 0.2
             }
            },
            "type": "histogram"
           }
          ],
          "histogram2d": [
           {
            "colorbar": {
             "outlinewidth": 0,
             "ticks": ""
            },
            "colorscale": [
             [
              0,
              "#0d0887"
             ],
             [
              0.1111111111111111,
              "#46039f"
             ],
             [
              0.2222222222222222,
              "#7201a8"
             ],
             [
              0.3333333333333333,
              "#9c179e"
             ],
             [
              0.4444444444444444,
              "#bd3786"
             ],
             [
              0.5555555555555556,
              "#d8576b"
             ],
             [
              0.6666666666666666,
              "#ed7953"
             ],
             [
              0.7777777777777778,
              "#fb9f3a"
             ],
             [
              0.8888888888888888,
              "#fdca26"
             ],
             [
              1,
              "#f0f921"
             ]
            ],
            "type": "histogram2d"
           }
          ],
          "histogram2dcontour": [
           {
            "colorbar": {
             "outlinewidth": 0,
             "ticks": ""
            },
            "colorscale": [
             [
              0,
              "#0d0887"
             ],
             [
              0.1111111111111111,
              "#46039f"
             ],
             [
              0.2222222222222222,
              "#7201a8"
             ],
             [
              0.3333333333333333,
              "#9c179e"
             ],
             [
              0.4444444444444444,
              "#bd3786"
             ],
             [
              0.5555555555555556,
              "#d8576b"
             ],
             [
              0.6666666666666666,
              "#ed7953"
             ],
             [
              0.7777777777777778,
              "#fb9f3a"
             ],
             [
              0.8888888888888888,
              "#fdca26"
             ],
             [
              1,
              "#f0f921"
             ]
            ],
            "type": "histogram2dcontour"
           }
          ],
          "mesh3d": [
           {
            "colorbar": {
             "outlinewidth": 0,
             "ticks": ""
            },
            "type": "mesh3d"
           }
          ],
          "parcoords": [
           {
            "line": {
             "colorbar": {
              "outlinewidth": 0,
              "ticks": ""
             }
            },
            "type": "parcoords"
           }
          ],
          "pie": [
           {
            "automargin": true,
            "type": "pie"
           }
          ],
          "scatter": [
           {
            "fillpattern": {
             "fillmode": "overlay",
             "size": 10,
             "solidity": 0.2
            },
            "type": "scatter"
           }
          ],
          "scatter3d": [
           {
            "line": {
             "colorbar": {
              "outlinewidth": 0,
              "ticks": ""
             }
            },
            "marker": {
             "colorbar": {
              "outlinewidth": 0,
              "ticks": ""
             }
            },
            "type": "scatter3d"
           }
          ],
          "scattercarpet": [
           {
            "marker": {
             "colorbar": {
              "outlinewidth": 0,
              "ticks": ""
             }
            },
            "type": "scattercarpet"
           }
          ],
          "scattergeo": [
           {
            "marker": {
             "colorbar": {
              "outlinewidth": 0,
              "ticks": ""
             }
            },
            "type": "scattergeo"
           }
          ],
          "scattergl": [
           {
            "marker": {
             "colorbar": {
              "outlinewidth": 0,
              "ticks": ""
             }
            },
            "type": "scattergl"
           }
          ],
          "scattermapbox": [
           {
            "marker": {
             "colorbar": {
              "outlinewidth": 0,
              "ticks": ""
             }
            },
            "type": "scattermapbox"
           }
          ],
          "scatterpolar": [
           {
            "marker": {
             "colorbar": {
              "outlinewidth": 0,
              "ticks": ""
             }
            },
            "type": "scatterpolar"
           }
          ],
          "scatterpolargl": [
           {
            "marker": {
             "colorbar": {
              "outlinewidth": 0,
              "ticks": ""
             }
            },
            "type": "scatterpolargl"
           }
          ],
          "scatterternary": [
           {
            "marker": {
             "colorbar": {
              "outlinewidth": 0,
              "ticks": ""
             }
            },
            "type": "scatterternary"
           }
          ],
          "surface": [
           {
            "colorbar": {
             "outlinewidth": 0,
             "ticks": ""
            },
            "colorscale": [
             [
              0,
              "#0d0887"
             ],
             [
              0.1111111111111111,
              "#46039f"
             ],
             [
              0.2222222222222222,
              "#7201a8"
             ],
             [
              0.3333333333333333,
              "#9c179e"
             ],
             [
              0.4444444444444444,
              "#bd3786"
             ],
             [
              0.5555555555555556,
              "#d8576b"
             ],
             [
              0.6666666666666666,
              "#ed7953"
             ],
             [
              0.7777777777777778,
              "#fb9f3a"
             ],
             [
              0.8888888888888888,
              "#fdca26"
             ],
             [
              1,
              "#f0f921"
             ]
            ],
            "type": "surface"
           }
          ],
          "table": [
           {
            "cells": {
             "fill": {
              "color": "#EBF0F8"
             },
             "line": {
              "color": "white"
             }
            },
            "header": {
             "fill": {
              "color": "#C8D4E3"
             },
             "line": {
              "color": "white"
             }
            },
            "type": "table"
           }
          ]
         },
         "layout": {
          "annotationdefaults": {
           "arrowcolor": "#2a3f5f",
           "arrowhead": 0,
           "arrowwidth": 1
          },
          "autotypenumbers": "strict",
          "coloraxis": {
           "colorbar": {
            "outlinewidth": 0,
            "ticks": ""
           }
          },
          "colorscale": {
           "diverging": [
            [
             0,
             "#8e0152"
            ],
            [
             0.1,
             "#c51b7d"
            ],
            [
             0.2,
             "#de77ae"
            ],
            [
             0.3,
             "#f1b6da"
            ],
            [
             0.4,
             "#fde0ef"
            ],
            [
             0.5,
             "#f7f7f7"
            ],
            [
             0.6,
             "#e6f5d0"
            ],
            [
             0.7,
             "#b8e186"
            ],
            [
             0.8,
             "#7fbc41"
            ],
            [
             0.9,
             "#4d9221"
            ],
            [
             1,
             "#276419"
            ]
           ],
           "sequential": [
            [
             0,
             "#0d0887"
            ],
            [
             0.1111111111111111,
             "#46039f"
            ],
            [
             0.2222222222222222,
             "#7201a8"
            ],
            [
             0.3333333333333333,
             "#9c179e"
            ],
            [
             0.4444444444444444,
             "#bd3786"
            ],
            [
             0.5555555555555556,
             "#d8576b"
            ],
            [
             0.6666666666666666,
             "#ed7953"
            ],
            [
             0.7777777777777778,
             "#fb9f3a"
            ],
            [
             0.8888888888888888,
             "#fdca26"
            ],
            [
             1,
             "#f0f921"
            ]
           ],
           "sequentialminus": [
            [
             0,
             "#0d0887"
            ],
            [
             0.1111111111111111,
             "#46039f"
            ],
            [
             0.2222222222222222,
             "#7201a8"
            ],
            [
             0.3333333333333333,
             "#9c179e"
            ],
            [
             0.4444444444444444,
             "#bd3786"
            ],
            [
             0.5555555555555556,
             "#d8576b"
            ],
            [
             0.6666666666666666,
             "#ed7953"
            ],
            [
             0.7777777777777778,
             "#fb9f3a"
            ],
            [
             0.8888888888888888,
             "#fdca26"
            ],
            [
             1,
             "#f0f921"
            ]
           ]
          },
          "colorway": [
           "#636efa",
           "#EF553B",
           "#00cc96",
           "#ab63fa",
           "#FFA15A",
           "#19d3f3",
           "#FF6692",
           "#B6E880",
           "#FF97FF",
           "#FECB52"
          ],
          "font": {
           "color": "#2a3f5f"
          },
          "geo": {
           "bgcolor": "white",
           "lakecolor": "white",
           "landcolor": "#E5ECF6",
           "showlakes": true,
           "showland": true,
           "subunitcolor": "white"
          },
          "hoverlabel": {
           "align": "left"
          },
          "hovermode": "closest",
          "mapbox": {
           "style": "light"
          },
          "paper_bgcolor": "white",
          "plot_bgcolor": "#E5ECF6",
          "polar": {
           "angularaxis": {
            "gridcolor": "white",
            "linecolor": "white",
            "ticks": ""
           },
           "bgcolor": "#E5ECF6",
           "radialaxis": {
            "gridcolor": "white",
            "linecolor": "white",
            "ticks": ""
           }
          },
          "scene": {
           "xaxis": {
            "backgroundcolor": "#E5ECF6",
            "gridcolor": "white",
            "gridwidth": 2,
            "linecolor": "white",
            "showbackground": true,
            "ticks": "",
            "zerolinecolor": "white"
           },
           "yaxis": {
            "backgroundcolor": "#E5ECF6",
            "gridcolor": "white",
            "gridwidth": 2,
            "linecolor": "white",
            "showbackground": true,
            "ticks": "",
            "zerolinecolor": "white"
           },
           "zaxis": {
            "backgroundcolor": "#E5ECF6",
            "gridcolor": "white",
            "gridwidth": 2,
            "linecolor": "white",
            "showbackground": true,
            "ticks": "",
            "zerolinecolor": "white"
           }
          },
          "shapedefaults": {
           "line": {
            "color": "#2a3f5f"
           }
          },
          "ternary": {
           "aaxis": {
            "gridcolor": "white",
            "linecolor": "white",
            "ticks": ""
           },
           "baxis": {
            "gridcolor": "white",
            "linecolor": "white",
            "ticks": ""
           },
           "bgcolor": "#E5ECF6",
           "caxis": {
            "gridcolor": "white",
            "linecolor": "white",
            "ticks": ""
           }
          },
          "title": {
           "x": 0.05
          },
          "xaxis": {
           "automargin": true,
           "gridcolor": "white",
           "linecolor": "white",
           "ticks": "",
           "title": {
            "standoff": 15
           },
           "zerolinecolor": "white",
           "zerolinewidth": 2
          },
          "yaxis": {
           "automargin": true,
           "gridcolor": "white",
           "linecolor": "white",
           "ticks": "",
           "title": {
            "standoff": 15
           },
           "zerolinecolor": "white",
           "zerolinewidth": 2
          }
         }
        },
        "width": 600,
        "xaxis": {
         "color": "black",
         "linecolor": "black",
         "linewidth": 1.5,
         "mirror": "allticks",
         "showgrid": false,
         "showline": true,
         "ticklen": 10,
         "ticks": "inside",
         "tickwidth": 1.5,
         "title": {
          "text": "DFA rank"
         },
         "zeroline": false
        },
        "yaxis": {
         "color": "black",
         "linecolor": "black",
         "linewidth": 1.5,
         "mirror": false,
         "showgrid": false,
         "showline": true,
         "ticklen": 10,
         "ticks": "inside",
         "tickwidth": 1.5,
         "title": {
          "text": "percentage"
         },
         "zeroline": false
        },
        "yaxis2": {
         "anchor": "free",
         "linewidth": 3,
         "overlaying": "y",
         "position": 1,
         "range": [
          0,
          100
         ],
         "showgrid": true,
         "showline": true,
         "side": "right",
         "tickfont": {
          "color": "black"
         },
         "ticklen": 10,
         "ticks": "inside",
         "tickwidth": 3,
         "title": {
          "font": {
           "color": "black"
          },
          "text": "cumulative percentage"
         },
         "zeroline": true
        }
       }
      },
      "text/html": [
       "<div>                            <div id=\"67aa124a-de6d-4887-b225-58cad62af69d\" class=\"plotly-graph-div\" style=\"height:500px; width:600px;\"></div>            <script type=\"text/javascript\">                require([\"plotly\"], function(Plotly) {                    window.PLOTLYENV=window.PLOTLYENV || {};                                    if (document.getElementById(\"67aa124a-de6d-4887-b225-58cad62af69d\")) {                    Plotly.newPlot(                        \"67aa124a-de6d-4887-b225-58cad62af69d\",                        [{\"marker\":{\"color\":\"rgba(0, 0, 0, 0.5)\"},\"name\":\"all\",\"showlegend\":false,\"x\":[0,1,2,3,4,5,6,7,8,9,10,11,12,13,14,15,16,17,18,19,20,21,22,23,24,25,26,27,28,29,30,31,32,33,34,35,36,37,38,39,40,41,42,43,44,45,46,47],\"y\":[40.0,20.0,20.0,0.0,10.0,10.0,0.0,0.0,0.0,0.0,0.0,0.0,0.0,0.0,0.0,0.0,0.0,0.0,0.0,0.0,0.0,0.0,0.0,0.0,0.0,0.0,0.0,0.0,0.0,0.0,0.0,0.0,0.0,0.0,0.0,0.0,0.0,0.0,0.0,0.0,0.0,0.0,0.0,0.0,0.0,0.0,0.0,0.0],\"type\":\"bar\"},{\"line\":{\"color\":\"blue\",\"dash\":\"solid\",\"width\":2},\"mode\":\"lines\",\"showlegend\":false,\"x\":[0,0],\"y\":[0.0,40.0],\"yaxis\":\"y2\",\"type\":\"scatter\"},{\"line\":{\"color\":\"blue\",\"dash\":\"solid\",\"width\":2},\"mode\":\"lines\",\"showlegend\":false,\"x\":[0,1],\"y\":[40.0,40.0],\"yaxis\":\"y2\",\"type\":\"scatter\"},{\"line\":{\"color\":\"blue\",\"dash\":\"solid\",\"width\":2},\"mode\":\"lines\",\"showlegend\":false,\"x\":[1,1],\"y\":[40.0,60.0],\"yaxis\":\"y2\",\"type\":\"scatter\"},{\"line\":{\"color\":\"blue\",\"dash\":\"solid\",\"width\":2},\"mode\":\"lines\",\"showlegend\":false,\"x\":[1,2],\"y\":[60.0,60.0],\"yaxis\":\"y2\",\"type\":\"scatter\"},{\"line\":{\"color\":\"blue\",\"dash\":\"solid\",\"width\":2},\"mode\":\"lines\",\"showlegend\":false,\"x\":[2,2],\"y\":[60.0,80.0],\"yaxis\":\"y2\",\"type\":\"scatter\"},{\"line\":{\"color\":\"blue\",\"dash\":\"solid\",\"width\":2},\"mode\":\"lines\",\"showlegend\":false,\"x\":[2,3],\"y\":[80.0,80.0],\"yaxis\":\"y2\",\"type\":\"scatter\"},{\"line\":{\"color\":\"blue\",\"dash\":\"solid\",\"width\":2},\"mode\":\"lines\",\"showlegend\":false,\"x\":[3,3],\"y\":[80.0,80.0],\"yaxis\":\"y2\",\"type\":\"scatter\"},{\"line\":{\"color\":\"blue\",\"dash\":\"solid\",\"width\":2},\"mode\":\"lines\",\"showlegend\":false,\"x\":[3,4],\"y\":[80.0,80.0],\"yaxis\":\"y2\",\"type\":\"scatter\"},{\"line\":{\"color\":\"blue\",\"dash\":\"solid\",\"width\":2},\"mode\":\"lines\",\"showlegend\":false,\"x\":[4,4],\"y\":[80.0,90.0],\"yaxis\":\"y2\",\"type\":\"scatter\"},{\"line\":{\"color\":\"blue\",\"dash\":\"solid\",\"width\":2},\"mode\":\"lines\",\"showlegend\":false,\"x\":[4,5],\"y\":[90.0,90.0],\"yaxis\":\"y2\",\"type\":\"scatter\"},{\"line\":{\"color\":\"blue\",\"dash\":\"solid\",\"width\":2},\"mode\":\"lines\",\"showlegend\":false,\"x\":[5,5],\"y\":[90.0,100.0],\"yaxis\":\"y2\",\"type\":\"scatter\"},{\"line\":{\"color\":\"blue\",\"dash\":\"solid\",\"width\":2},\"mode\":\"lines\",\"showlegend\":false,\"x\":[5,6],\"y\":[100.0,100.0],\"yaxis\":\"y2\",\"type\":\"scatter\"},{\"line\":{\"color\":\"blue\",\"dash\":\"solid\",\"width\":2},\"mode\":\"lines\",\"showlegend\":false,\"x\":[6,6],\"y\":[100.0,100.0],\"yaxis\":\"y2\",\"type\":\"scatter\"},{\"line\":{\"color\":\"blue\",\"dash\":\"solid\",\"width\":2},\"mode\":\"lines\",\"showlegend\":false,\"x\":[6,7],\"y\":[100.0,100.0],\"yaxis\":\"y2\",\"type\":\"scatter\"},{\"line\":{\"color\":\"blue\",\"dash\":\"solid\",\"width\":2},\"mode\":\"lines\",\"showlegend\":false,\"x\":[7,7],\"y\":[100.0,100.0],\"yaxis\":\"y2\",\"type\":\"scatter\"},{\"line\":{\"color\":\"blue\",\"dash\":\"solid\",\"width\":2},\"mode\":\"lines\",\"showlegend\":false,\"x\":[7,8],\"y\":[100.0,100.0],\"yaxis\":\"y2\",\"type\":\"scatter\"},{\"line\":{\"color\":\"blue\",\"dash\":\"solid\",\"width\":2},\"mode\":\"lines\",\"showlegend\":false,\"x\":[8,8],\"y\":[100.0,100.0],\"yaxis\":\"y2\",\"type\":\"scatter\"},{\"line\":{\"color\":\"blue\",\"dash\":\"solid\",\"width\":2},\"mode\":\"lines\",\"showlegend\":false,\"x\":[8,9],\"y\":[100.0,100.0],\"yaxis\":\"y2\",\"type\":\"scatter\"},{\"line\":{\"color\":\"blue\",\"dash\":\"solid\",\"width\":2},\"mode\":\"lines\",\"showlegend\":false,\"x\":[9,9],\"y\":[100.0,100.0],\"yaxis\":\"y2\",\"type\":\"scatter\"},{\"line\":{\"color\":\"blue\",\"dash\":\"solid\",\"width\":2},\"mode\":\"lines\",\"showlegend\":false,\"x\":[9,10],\"y\":[100.0,100.0],\"yaxis\":\"y2\",\"type\":\"scatter\"},{\"line\":{\"color\":\"blue\",\"dash\":\"solid\",\"width\":2},\"mode\":\"lines\",\"showlegend\":false,\"x\":[10,10],\"y\":[100.0,100.0],\"yaxis\":\"y2\",\"type\":\"scatter\"},{\"line\":{\"color\":\"blue\",\"dash\":\"solid\",\"width\":2},\"mode\":\"lines\",\"showlegend\":false,\"x\":[10,11],\"y\":[100.0,100.0],\"yaxis\":\"y2\",\"type\":\"scatter\"},{\"line\":{\"color\":\"blue\",\"dash\":\"solid\",\"width\":2},\"mode\":\"lines\",\"showlegend\":false,\"x\":[11,11],\"y\":[100.0,100.0],\"yaxis\":\"y2\",\"type\":\"scatter\"},{\"line\":{\"color\":\"blue\",\"dash\":\"solid\",\"width\":2},\"mode\":\"lines\",\"showlegend\":false,\"x\":[11,12],\"y\":[100.0,100.0],\"yaxis\":\"y2\",\"type\":\"scatter\"},{\"line\":{\"color\":\"blue\",\"dash\":\"solid\",\"width\":2},\"mode\":\"lines\",\"showlegend\":false,\"x\":[12,12],\"y\":[100.0,100.0],\"yaxis\":\"y2\",\"type\":\"scatter\"},{\"line\":{\"color\":\"blue\",\"dash\":\"solid\",\"width\":2},\"mode\":\"lines\",\"showlegend\":false,\"x\":[12,13],\"y\":[100.0,100.0],\"yaxis\":\"y2\",\"type\":\"scatter\"},{\"line\":{\"color\":\"blue\",\"dash\":\"solid\",\"width\":2},\"mode\":\"lines\",\"showlegend\":false,\"x\":[13,13],\"y\":[100.0,100.0],\"yaxis\":\"y2\",\"type\":\"scatter\"},{\"line\":{\"color\":\"blue\",\"dash\":\"solid\",\"width\":2},\"mode\":\"lines\",\"showlegend\":false,\"x\":[13,14],\"y\":[100.0,100.0],\"yaxis\":\"y2\",\"type\":\"scatter\"},{\"line\":{\"color\":\"blue\",\"dash\":\"solid\",\"width\":2},\"mode\":\"lines\",\"showlegend\":false,\"x\":[14,14],\"y\":[100.0,100.0],\"yaxis\":\"y2\",\"type\":\"scatter\"},{\"line\":{\"color\":\"blue\",\"dash\":\"solid\",\"width\":2},\"mode\":\"lines\",\"showlegend\":false,\"x\":[14,15],\"y\":[100.0,100.0],\"yaxis\":\"y2\",\"type\":\"scatter\"},{\"line\":{\"color\":\"blue\",\"dash\":\"solid\",\"width\":2},\"mode\":\"lines\",\"showlegend\":false,\"x\":[15,15],\"y\":[100.0,100.0],\"yaxis\":\"y2\",\"type\":\"scatter\"},{\"line\":{\"color\":\"blue\",\"dash\":\"solid\",\"width\":2},\"mode\":\"lines\",\"showlegend\":false,\"x\":[15,16],\"y\":[100.0,100.0],\"yaxis\":\"y2\",\"type\":\"scatter\"},{\"line\":{\"color\":\"blue\",\"dash\":\"solid\",\"width\":2},\"mode\":\"lines\",\"showlegend\":false,\"x\":[16,16],\"y\":[100.0,100.0],\"yaxis\":\"y2\",\"type\":\"scatter\"},{\"line\":{\"color\":\"blue\",\"dash\":\"solid\",\"width\":2},\"mode\":\"lines\",\"showlegend\":false,\"x\":[16,17],\"y\":[100.0,100.0],\"yaxis\":\"y2\",\"type\":\"scatter\"},{\"line\":{\"color\":\"blue\",\"dash\":\"solid\",\"width\":2},\"mode\":\"lines\",\"showlegend\":false,\"x\":[17,17],\"y\":[100.0,100.0],\"yaxis\":\"y2\",\"type\":\"scatter\"},{\"line\":{\"color\":\"blue\",\"dash\":\"solid\",\"width\":2},\"mode\":\"lines\",\"showlegend\":false,\"x\":[17,18],\"y\":[100.0,100.0],\"yaxis\":\"y2\",\"type\":\"scatter\"},{\"line\":{\"color\":\"blue\",\"dash\":\"solid\",\"width\":2},\"mode\":\"lines\",\"showlegend\":false,\"x\":[18,18],\"y\":[100.0,100.0],\"yaxis\":\"y2\",\"type\":\"scatter\"},{\"line\":{\"color\":\"blue\",\"dash\":\"solid\",\"width\":2},\"mode\":\"lines\",\"showlegend\":false,\"x\":[18,19],\"y\":[100.0,100.0],\"yaxis\":\"y2\",\"type\":\"scatter\"},{\"line\":{\"color\":\"blue\",\"dash\":\"solid\",\"width\":2},\"mode\":\"lines\",\"showlegend\":false,\"x\":[19,19],\"y\":[100.0,100.0],\"yaxis\":\"y2\",\"type\":\"scatter\"},{\"line\":{\"color\":\"blue\",\"dash\":\"solid\",\"width\":2},\"mode\":\"lines\",\"showlegend\":false,\"x\":[19,20],\"y\":[100.0,100.0],\"yaxis\":\"y2\",\"type\":\"scatter\"},{\"line\":{\"color\":\"blue\",\"dash\":\"solid\",\"width\":2},\"mode\":\"lines\",\"showlegend\":false,\"x\":[20,20],\"y\":[100.0,100.0],\"yaxis\":\"y2\",\"type\":\"scatter\"},{\"line\":{\"color\":\"blue\",\"dash\":\"solid\",\"width\":2},\"mode\":\"lines\",\"showlegend\":false,\"x\":[20,21],\"y\":[100.0,100.0],\"yaxis\":\"y2\",\"type\":\"scatter\"},{\"line\":{\"color\":\"blue\",\"dash\":\"solid\",\"width\":2},\"mode\":\"lines\",\"showlegend\":false,\"x\":[21,21],\"y\":[100.0,100.0],\"yaxis\":\"y2\",\"type\":\"scatter\"},{\"line\":{\"color\":\"blue\",\"dash\":\"solid\",\"width\":2},\"mode\":\"lines\",\"showlegend\":false,\"x\":[21,22],\"y\":[100.0,100.0],\"yaxis\":\"y2\",\"type\":\"scatter\"},{\"line\":{\"color\":\"blue\",\"dash\":\"solid\",\"width\":2},\"mode\":\"lines\",\"showlegend\":false,\"x\":[22,22],\"y\":[100.0,100.0],\"yaxis\":\"y2\",\"type\":\"scatter\"},{\"line\":{\"color\":\"blue\",\"dash\":\"solid\",\"width\":2},\"mode\":\"lines\",\"showlegend\":false,\"x\":[22,23],\"y\":[100.0,100.0],\"yaxis\":\"y2\",\"type\":\"scatter\"},{\"line\":{\"color\":\"blue\",\"dash\":\"solid\",\"width\":2},\"mode\":\"lines\",\"showlegend\":false,\"x\":[23,23],\"y\":[100.0,100.0],\"yaxis\":\"y2\",\"type\":\"scatter\"},{\"line\":{\"color\":\"blue\",\"dash\":\"solid\",\"width\":2},\"mode\":\"lines\",\"showlegend\":false,\"x\":[23,24],\"y\":[100.0,100.0],\"yaxis\":\"y2\",\"type\":\"scatter\"},{\"line\":{\"color\":\"blue\",\"dash\":\"solid\",\"width\":2},\"mode\":\"lines\",\"showlegend\":false,\"x\":[24,24],\"y\":[100.0,100.0],\"yaxis\":\"y2\",\"type\":\"scatter\"},{\"line\":{\"color\":\"blue\",\"dash\":\"solid\",\"width\":2},\"mode\":\"lines\",\"showlegend\":false,\"x\":[24,25],\"y\":[100.0,100.0],\"yaxis\":\"y2\",\"type\":\"scatter\"},{\"line\":{\"color\":\"blue\",\"dash\":\"solid\",\"width\":2},\"mode\":\"lines\",\"showlegend\":false,\"x\":[25,25],\"y\":[100.0,100.0],\"yaxis\":\"y2\",\"type\":\"scatter\"},{\"line\":{\"color\":\"blue\",\"dash\":\"solid\",\"width\":2},\"mode\":\"lines\",\"showlegend\":false,\"x\":[25,26],\"y\":[100.0,100.0],\"yaxis\":\"y2\",\"type\":\"scatter\"},{\"line\":{\"color\":\"blue\",\"dash\":\"solid\",\"width\":2},\"mode\":\"lines\",\"showlegend\":false,\"x\":[26,26],\"y\":[100.0,100.0],\"yaxis\":\"y2\",\"type\":\"scatter\"},{\"line\":{\"color\":\"blue\",\"dash\":\"solid\",\"width\":2},\"mode\":\"lines\",\"showlegend\":false,\"x\":[26,27],\"y\":[100.0,100.0],\"yaxis\":\"y2\",\"type\":\"scatter\"},{\"line\":{\"color\":\"blue\",\"dash\":\"solid\",\"width\":2},\"mode\":\"lines\",\"showlegend\":false,\"x\":[27,27],\"y\":[100.0,100.0],\"yaxis\":\"y2\",\"type\":\"scatter\"},{\"line\":{\"color\":\"blue\",\"dash\":\"solid\",\"width\":2},\"mode\":\"lines\",\"showlegend\":false,\"x\":[27,28],\"y\":[100.0,100.0],\"yaxis\":\"y2\",\"type\":\"scatter\"},{\"line\":{\"color\":\"blue\",\"dash\":\"solid\",\"width\":2},\"mode\":\"lines\",\"showlegend\":false,\"x\":[28,28],\"y\":[100.0,100.0],\"yaxis\":\"y2\",\"type\":\"scatter\"},{\"line\":{\"color\":\"blue\",\"dash\":\"solid\",\"width\":2},\"mode\":\"lines\",\"showlegend\":false,\"x\":[28,29],\"y\":[100.0,100.0],\"yaxis\":\"y2\",\"type\":\"scatter\"},{\"line\":{\"color\":\"blue\",\"dash\":\"solid\",\"width\":2},\"mode\":\"lines\",\"showlegend\":false,\"x\":[29,29],\"y\":[100.0,100.0],\"yaxis\":\"y2\",\"type\":\"scatter\"},{\"line\":{\"color\":\"blue\",\"dash\":\"solid\",\"width\":2},\"mode\":\"lines\",\"showlegend\":false,\"x\":[29,30],\"y\":[100.0,100.0],\"yaxis\":\"y2\",\"type\":\"scatter\"},{\"line\":{\"color\":\"blue\",\"dash\":\"solid\",\"width\":2},\"mode\":\"lines\",\"showlegend\":false,\"x\":[30,30],\"y\":[100.0,100.0],\"yaxis\":\"y2\",\"type\":\"scatter\"},{\"line\":{\"color\":\"blue\",\"dash\":\"solid\",\"width\":2},\"mode\":\"lines\",\"showlegend\":false,\"x\":[30,31],\"y\":[100.0,100.0],\"yaxis\":\"y2\",\"type\":\"scatter\"},{\"line\":{\"color\":\"blue\",\"dash\":\"solid\",\"width\":2},\"mode\":\"lines\",\"showlegend\":false,\"x\":[31,31],\"y\":[100.0,100.0],\"yaxis\":\"y2\",\"type\":\"scatter\"},{\"line\":{\"color\":\"blue\",\"dash\":\"solid\",\"width\":2},\"mode\":\"lines\",\"showlegend\":false,\"x\":[31,32],\"y\":[100.0,100.0],\"yaxis\":\"y2\",\"type\":\"scatter\"},{\"line\":{\"color\":\"blue\",\"dash\":\"solid\",\"width\":2},\"mode\":\"lines\",\"showlegend\":false,\"x\":[32,32],\"y\":[100.0,100.0],\"yaxis\":\"y2\",\"type\":\"scatter\"},{\"line\":{\"color\":\"blue\",\"dash\":\"solid\",\"width\":2},\"mode\":\"lines\",\"showlegend\":false,\"x\":[32,33],\"y\":[100.0,100.0],\"yaxis\":\"y2\",\"type\":\"scatter\"},{\"line\":{\"color\":\"blue\",\"dash\":\"solid\",\"width\":2},\"mode\":\"lines\",\"showlegend\":false,\"x\":[33,33],\"y\":[100.0,100.0],\"yaxis\":\"y2\",\"type\":\"scatter\"},{\"line\":{\"color\":\"blue\",\"dash\":\"solid\",\"width\":2},\"mode\":\"lines\",\"showlegend\":false,\"x\":[33,34],\"y\":[100.0,100.0],\"yaxis\":\"y2\",\"type\":\"scatter\"},{\"line\":{\"color\":\"blue\",\"dash\":\"solid\",\"width\":2},\"mode\":\"lines\",\"showlegend\":false,\"x\":[34,34],\"y\":[100.0,100.0],\"yaxis\":\"y2\",\"type\":\"scatter\"},{\"line\":{\"color\":\"blue\",\"dash\":\"solid\",\"width\":2},\"mode\":\"lines\",\"showlegend\":false,\"x\":[34,35],\"y\":[100.0,100.0],\"yaxis\":\"y2\",\"type\":\"scatter\"},{\"line\":{\"color\":\"blue\",\"dash\":\"solid\",\"width\":2},\"mode\":\"lines\",\"showlegend\":false,\"x\":[35,35],\"y\":[100.0,100.0],\"yaxis\":\"y2\",\"type\":\"scatter\"},{\"line\":{\"color\":\"blue\",\"dash\":\"solid\",\"width\":2},\"mode\":\"lines\",\"showlegend\":false,\"x\":[35,36],\"y\":[100.0,100.0],\"yaxis\":\"y2\",\"type\":\"scatter\"},{\"line\":{\"color\":\"blue\",\"dash\":\"solid\",\"width\":2},\"mode\":\"lines\",\"showlegend\":false,\"x\":[36,36],\"y\":[100.0,100.0],\"yaxis\":\"y2\",\"type\":\"scatter\"},{\"line\":{\"color\":\"blue\",\"dash\":\"solid\",\"width\":2},\"mode\":\"lines\",\"showlegend\":false,\"x\":[36,37],\"y\":[100.0,100.0],\"yaxis\":\"y2\",\"type\":\"scatter\"},{\"line\":{\"color\":\"blue\",\"dash\":\"solid\",\"width\":2},\"mode\":\"lines\",\"showlegend\":false,\"x\":[37,37],\"y\":[100.0,100.0],\"yaxis\":\"y2\",\"type\":\"scatter\"},{\"line\":{\"color\":\"blue\",\"dash\":\"solid\",\"width\":2},\"mode\":\"lines\",\"showlegend\":false,\"x\":[37,38],\"y\":[100.0,100.0],\"yaxis\":\"y2\",\"type\":\"scatter\"},{\"line\":{\"color\":\"blue\",\"dash\":\"solid\",\"width\":2},\"mode\":\"lines\",\"showlegend\":false,\"x\":[38,38],\"y\":[100.0,100.0],\"yaxis\":\"y2\",\"type\":\"scatter\"},{\"line\":{\"color\":\"blue\",\"dash\":\"solid\",\"width\":2},\"mode\":\"lines\",\"showlegend\":false,\"x\":[38,39],\"y\":[100.0,100.0],\"yaxis\":\"y2\",\"type\":\"scatter\"},{\"line\":{\"color\":\"blue\",\"dash\":\"solid\",\"width\":2},\"mode\":\"lines\",\"showlegend\":false,\"x\":[39,39],\"y\":[100.0,100.0],\"yaxis\":\"y2\",\"type\":\"scatter\"},{\"line\":{\"color\":\"blue\",\"dash\":\"solid\",\"width\":2},\"mode\":\"lines\",\"showlegend\":false,\"x\":[39,40],\"y\":[100.0,100.0],\"yaxis\":\"y2\",\"type\":\"scatter\"},{\"line\":{\"color\":\"blue\",\"dash\":\"solid\",\"width\":2},\"mode\":\"lines\",\"showlegend\":false,\"x\":[40,40],\"y\":[100.0,100.0],\"yaxis\":\"y2\",\"type\":\"scatter\"},{\"line\":{\"color\":\"blue\",\"dash\":\"solid\",\"width\":2},\"mode\":\"lines\",\"showlegend\":false,\"x\":[40,41],\"y\":[100.0,100.0],\"yaxis\":\"y2\",\"type\":\"scatter\"},{\"line\":{\"color\":\"blue\",\"dash\":\"solid\",\"width\":2},\"mode\":\"lines\",\"showlegend\":false,\"x\":[41,41],\"y\":[100.0,100.0],\"yaxis\":\"y2\",\"type\":\"scatter\"},{\"line\":{\"color\":\"blue\",\"dash\":\"solid\",\"width\":2},\"mode\":\"lines\",\"showlegend\":false,\"x\":[41,42],\"y\":[100.0,100.0],\"yaxis\":\"y2\",\"type\":\"scatter\"},{\"line\":{\"color\":\"blue\",\"dash\":\"solid\",\"width\":2},\"mode\":\"lines\",\"showlegend\":false,\"x\":[42,42],\"y\":[100.0,100.0],\"yaxis\":\"y2\",\"type\":\"scatter\"},{\"line\":{\"color\":\"blue\",\"dash\":\"solid\",\"width\":2},\"mode\":\"lines\",\"showlegend\":false,\"x\":[42,43],\"y\":[100.0,100.0],\"yaxis\":\"y2\",\"type\":\"scatter\"},{\"line\":{\"color\":\"blue\",\"dash\":\"solid\",\"width\":2},\"mode\":\"lines\",\"showlegend\":false,\"x\":[43,43],\"y\":[100.0,100.0],\"yaxis\":\"y2\",\"type\":\"scatter\"},{\"line\":{\"color\":\"blue\",\"dash\":\"solid\",\"width\":2},\"mode\":\"lines\",\"showlegend\":false,\"x\":[43,44],\"y\":[100.0,100.0],\"yaxis\":\"y2\",\"type\":\"scatter\"},{\"line\":{\"color\":\"blue\",\"dash\":\"solid\",\"width\":2},\"mode\":\"lines\",\"showlegend\":false,\"x\":[44,44],\"y\":[100.0,100.0],\"yaxis\":\"y2\",\"type\":\"scatter\"},{\"line\":{\"color\":\"blue\",\"dash\":\"solid\",\"width\":2},\"mode\":\"lines\",\"showlegend\":false,\"x\":[44,45],\"y\":[100.0,100.0],\"yaxis\":\"y2\",\"type\":\"scatter\"},{\"line\":{\"color\":\"blue\",\"dash\":\"solid\",\"width\":2},\"mode\":\"lines\",\"showlegend\":false,\"x\":[45,45],\"y\":[100.0,100.0],\"yaxis\":\"y2\",\"type\":\"scatter\"},{\"line\":{\"color\":\"blue\",\"dash\":\"solid\",\"width\":2},\"mode\":\"lines\",\"showlegend\":false,\"x\":[45,46],\"y\":[100.0,100.0],\"yaxis\":\"y2\",\"type\":\"scatter\"},{\"line\":{\"color\":\"blue\",\"dash\":\"solid\",\"width\":2},\"mode\":\"lines\",\"showlegend\":false,\"x\":[46,46],\"y\":[100.0,100.0],\"yaxis\":\"y2\",\"type\":\"scatter\"},{\"line\":{\"color\":\"blue\",\"dash\":\"solid\",\"width\":2},\"mode\":\"lines\",\"showlegend\":false,\"x\":[46,47],\"y\":[100.0,100.0],\"yaxis\":\"y2\",\"type\":\"scatter\"}],                        {\"boxmode\":\"group\",\"font\":{\"color\":\"black\",\"family\":\"Helvetica\",\"size\":24},\"height\":500,\"legend\":{\"bgcolor\":\"rgba(0,0,0,0)\",\"orientation\":\"v\",\"x\":1,\"y\":1},\"margin\":{\"b\":100,\"l\":100,\"r\":10,\"t\":10},\"paper_bgcolor\":\"rgba(255,255,255,100)\",\"plot_bgcolor\":\"white\",\"template\":{\"data\":{\"barpolar\":[{\"marker\":{\"line\":{\"color\":\"#E5ECF6\",\"width\":0.5},\"pattern\":{\"fillmode\":\"overlay\",\"size\":10,\"solidity\":0.2}},\"type\":\"barpolar\"}],\"bar\":[{\"error_x\":{\"color\":\"#2a3f5f\"},\"error_y\":{\"color\":\"#2a3f5f\"},\"marker\":{\"line\":{\"color\":\"#E5ECF6\",\"width\":0.5},\"pattern\":{\"fillmode\":\"overlay\",\"size\":10,\"solidity\":0.2}},\"type\":\"bar\"}],\"carpet\":[{\"aaxis\":{\"endlinecolor\":\"#2a3f5f\",\"gridcolor\":\"white\",\"linecolor\":\"white\",\"minorgridcolor\":\"white\",\"startlinecolor\":\"#2a3f5f\"},\"baxis\":{\"endlinecolor\":\"#2a3f5f\",\"gridcolor\":\"white\",\"linecolor\":\"white\",\"minorgridcolor\":\"white\",\"startlinecolor\":\"#2a3f5f\"},\"type\":\"carpet\"}],\"choropleth\":[{\"colorbar\":{\"outlinewidth\":0,\"ticks\":\"\"},\"type\":\"choropleth\"}],\"contourcarpet\":[{\"colorbar\":{\"outlinewidth\":0,\"ticks\":\"\"},\"type\":\"contourcarpet\"}],\"contour\":[{\"colorbar\":{\"outlinewidth\":0,\"ticks\":\"\"},\"colorscale\":[[0.0,\"#0d0887\"],[0.1111111111111111,\"#46039f\"],[0.2222222222222222,\"#7201a8\"],[0.3333333333333333,\"#9c179e\"],[0.4444444444444444,\"#bd3786\"],[0.5555555555555556,\"#d8576b\"],[0.6666666666666666,\"#ed7953\"],[0.7777777777777778,\"#fb9f3a\"],[0.8888888888888888,\"#fdca26\"],[1.0,\"#f0f921\"]],\"type\":\"contour\"}],\"heatmapgl\":[{\"colorbar\":{\"outlinewidth\":0,\"ticks\":\"\"},\"colorscale\":[[0.0,\"#0d0887\"],[0.1111111111111111,\"#46039f\"],[0.2222222222222222,\"#7201a8\"],[0.3333333333333333,\"#9c179e\"],[0.4444444444444444,\"#bd3786\"],[0.5555555555555556,\"#d8576b\"],[0.6666666666666666,\"#ed7953\"],[0.7777777777777778,\"#fb9f3a\"],[0.8888888888888888,\"#fdca26\"],[1.0,\"#f0f921\"]],\"type\":\"heatmapgl\"}],\"heatmap\":[{\"colorbar\":{\"outlinewidth\":0,\"ticks\":\"\"},\"colorscale\":[[0.0,\"#0d0887\"],[0.1111111111111111,\"#46039f\"],[0.2222222222222222,\"#7201a8\"],[0.3333333333333333,\"#9c179e\"],[0.4444444444444444,\"#bd3786\"],[0.5555555555555556,\"#d8576b\"],[0.6666666666666666,\"#ed7953\"],[0.7777777777777778,\"#fb9f3a\"],[0.8888888888888888,\"#fdca26\"],[1.0,\"#f0f921\"]],\"type\":\"heatmap\"}],\"histogram2dcontour\":[{\"colorbar\":{\"outlinewidth\":0,\"ticks\":\"\"},\"colorscale\":[[0.0,\"#0d0887\"],[0.1111111111111111,\"#46039f\"],[0.2222222222222222,\"#7201a8\"],[0.3333333333333333,\"#9c179e\"],[0.4444444444444444,\"#bd3786\"],[0.5555555555555556,\"#d8576b\"],[0.6666666666666666,\"#ed7953\"],[0.7777777777777778,\"#fb9f3a\"],[0.8888888888888888,\"#fdca26\"],[1.0,\"#f0f921\"]],\"type\":\"histogram2dcontour\"}],\"histogram2d\":[{\"colorbar\":{\"outlinewidth\":0,\"ticks\":\"\"},\"colorscale\":[[0.0,\"#0d0887\"],[0.1111111111111111,\"#46039f\"],[0.2222222222222222,\"#7201a8\"],[0.3333333333333333,\"#9c179e\"],[0.4444444444444444,\"#bd3786\"],[0.5555555555555556,\"#d8576b\"],[0.6666666666666666,\"#ed7953\"],[0.7777777777777778,\"#fb9f3a\"],[0.8888888888888888,\"#fdca26\"],[1.0,\"#f0f921\"]],\"type\":\"histogram2d\"}],\"histogram\":[{\"marker\":{\"pattern\":{\"fillmode\":\"overlay\",\"size\":10,\"solidity\":0.2}},\"type\":\"histogram\"}],\"mesh3d\":[{\"colorbar\":{\"outlinewidth\":0,\"ticks\":\"\"},\"type\":\"mesh3d\"}],\"parcoords\":[{\"line\":{\"colorbar\":{\"outlinewidth\":0,\"ticks\":\"\"}},\"type\":\"parcoords\"}],\"pie\":[{\"automargin\":true,\"type\":\"pie\"}],\"scatter3d\":[{\"line\":{\"colorbar\":{\"outlinewidth\":0,\"ticks\":\"\"}},\"marker\":{\"colorbar\":{\"outlinewidth\":0,\"ticks\":\"\"}},\"type\":\"scatter3d\"}],\"scattercarpet\":[{\"marker\":{\"colorbar\":{\"outlinewidth\":0,\"ticks\":\"\"}},\"type\":\"scattercarpet\"}],\"scattergeo\":[{\"marker\":{\"colorbar\":{\"outlinewidth\":0,\"ticks\":\"\"}},\"type\":\"scattergeo\"}],\"scattergl\":[{\"marker\":{\"colorbar\":{\"outlinewidth\":0,\"ticks\":\"\"}},\"type\":\"scattergl\"}],\"scattermapbox\":[{\"marker\":{\"colorbar\":{\"outlinewidth\":0,\"ticks\":\"\"}},\"type\":\"scattermapbox\"}],\"scatterpolargl\":[{\"marker\":{\"colorbar\":{\"outlinewidth\":0,\"ticks\":\"\"}},\"type\":\"scatterpolargl\"}],\"scatterpolar\":[{\"marker\":{\"colorbar\":{\"outlinewidth\":0,\"ticks\":\"\"}},\"type\":\"scatterpolar\"}],\"scatter\":[{\"fillpattern\":{\"fillmode\":\"overlay\",\"size\":10,\"solidity\":0.2},\"type\":\"scatter\"}],\"scatterternary\":[{\"marker\":{\"colorbar\":{\"outlinewidth\":0,\"ticks\":\"\"}},\"type\":\"scatterternary\"}],\"surface\":[{\"colorbar\":{\"outlinewidth\":0,\"ticks\":\"\"},\"colorscale\":[[0.0,\"#0d0887\"],[0.1111111111111111,\"#46039f\"],[0.2222222222222222,\"#7201a8\"],[0.3333333333333333,\"#9c179e\"],[0.4444444444444444,\"#bd3786\"],[0.5555555555555556,\"#d8576b\"],[0.6666666666666666,\"#ed7953\"],[0.7777777777777778,\"#fb9f3a\"],[0.8888888888888888,\"#fdca26\"],[1.0,\"#f0f921\"]],\"type\":\"surface\"}],\"table\":[{\"cells\":{\"fill\":{\"color\":\"#EBF0F8\"},\"line\":{\"color\":\"white\"}},\"header\":{\"fill\":{\"color\":\"#C8D4E3\"},\"line\":{\"color\":\"white\"}},\"type\":\"table\"}]},\"layout\":{\"annotationdefaults\":{\"arrowcolor\":\"#2a3f5f\",\"arrowhead\":0,\"arrowwidth\":1},\"autotypenumbers\":\"strict\",\"coloraxis\":{\"colorbar\":{\"outlinewidth\":0,\"ticks\":\"\"}},\"colorscale\":{\"diverging\":[[0,\"#8e0152\"],[0.1,\"#c51b7d\"],[0.2,\"#de77ae\"],[0.3,\"#f1b6da\"],[0.4,\"#fde0ef\"],[0.5,\"#f7f7f7\"],[0.6,\"#e6f5d0\"],[0.7,\"#b8e186\"],[0.8,\"#7fbc41\"],[0.9,\"#4d9221\"],[1,\"#276419\"]],\"sequential\":[[0.0,\"#0d0887\"],[0.1111111111111111,\"#46039f\"],[0.2222222222222222,\"#7201a8\"],[0.3333333333333333,\"#9c179e\"],[0.4444444444444444,\"#bd3786\"],[0.5555555555555556,\"#d8576b\"],[0.6666666666666666,\"#ed7953\"],[0.7777777777777778,\"#fb9f3a\"],[0.8888888888888888,\"#fdca26\"],[1.0,\"#f0f921\"]],\"sequentialminus\":[[0.0,\"#0d0887\"],[0.1111111111111111,\"#46039f\"],[0.2222222222222222,\"#7201a8\"],[0.3333333333333333,\"#9c179e\"],[0.4444444444444444,\"#bd3786\"],[0.5555555555555556,\"#d8576b\"],[0.6666666666666666,\"#ed7953\"],[0.7777777777777778,\"#fb9f3a\"],[0.8888888888888888,\"#fdca26\"],[1.0,\"#f0f921\"]]},\"colorway\":[\"#636efa\",\"#EF553B\",\"#00cc96\",\"#ab63fa\",\"#FFA15A\",\"#19d3f3\",\"#FF6692\",\"#B6E880\",\"#FF97FF\",\"#FECB52\"],\"font\":{\"color\":\"#2a3f5f\"},\"geo\":{\"bgcolor\":\"white\",\"lakecolor\":\"white\",\"landcolor\":\"#E5ECF6\",\"showlakes\":true,\"showland\":true,\"subunitcolor\":\"white\"},\"hoverlabel\":{\"align\":\"left\"},\"hovermode\":\"closest\",\"mapbox\":{\"style\":\"light\"},\"paper_bgcolor\":\"white\",\"plot_bgcolor\":\"#E5ECF6\",\"polar\":{\"angularaxis\":{\"gridcolor\":\"white\",\"linecolor\":\"white\",\"ticks\":\"\"},\"bgcolor\":\"#E5ECF6\",\"radialaxis\":{\"gridcolor\":\"white\",\"linecolor\":\"white\",\"ticks\":\"\"}},\"scene\":{\"xaxis\":{\"backgroundcolor\":\"#E5ECF6\",\"gridcolor\":\"white\",\"gridwidth\":2,\"linecolor\":\"white\",\"showbackground\":true,\"ticks\":\"\",\"zerolinecolor\":\"white\"},\"yaxis\":{\"backgroundcolor\":\"#E5ECF6\",\"gridcolor\":\"white\",\"gridwidth\":2,\"linecolor\":\"white\",\"showbackground\":true,\"ticks\":\"\",\"zerolinecolor\":\"white\"},\"zaxis\":{\"backgroundcolor\":\"#E5ECF6\",\"gridcolor\":\"white\",\"gridwidth\":2,\"linecolor\":\"white\",\"showbackground\":true,\"ticks\":\"\",\"zerolinecolor\":\"white\"}},\"shapedefaults\":{\"line\":{\"color\":\"#2a3f5f\"}},\"ternary\":{\"aaxis\":{\"gridcolor\":\"white\",\"linecolor\":\"white\",\"ticks\":\"\"},\"baxis\":{\"gridcolor\":\"white\",\"linecolor\":\"white\",\"ticks\":\"\"},\"bgcolor\":\"#E5ECF6\",\"caxis\":{\"gridcolor\":\"white\",\"linecolor\":\"white\",\"ticks\":\"\"}},\"title\":{\"x\":0.05},\"xaxis\":{\"automargin\":true,\"gridcolor\":\"white\",\"linecolor\":\"white\",\"ticks\":\"\",\"title\":{\"standoff\":15},\"zerolinecolor\":\"white\",\"zerolinewidth\":2},\"yaxis\":{\"automargin\":true,\"gridcolor\":\"white\",\"linecolor\":\"white\",\"ticks\":\"\",\"title\":{\"standoff\":15},\"zerolinecolor\":\"white\",\"zerolinewidth\":2}}},\"width\":600,\"xaxis\":{\"color\":\"black\",\"linecolor\":\"black\",\"linewidth\":1.5,\"mirror\":\"allticks\",\"showgrid\":false,\"showline\":true,\"ticklen\":10,\"ticks\":\"inside\",\"tickwidth\":1.5,\"title\":{\"text\":\"DFA rank\"},\"zeroline\":false},\"yaxis\":{\"color\":\"black\",\"linecolor\":\"black\",\"linewidth\":1.5,\"mirror\":false,\"showgrid\":false,\"showline\":true,\"ticklen\":10,\"ticks\":\"inside\",\"tickwidth\":1.5,\"title\":{\"text\":\"percentage\"},\"zeroline\":false},\"yaxis2\":{\"anchor\":\"free\",\"linewidth\":3,\"overlaying\":\"y\",\"position\":1,\"range\":[0,100],\"showgrid\":true,\"showline\":true,\"side\":\"right\",\"tickfont\":{\"color\":\"black\"},\"ticklen\":10,\"ticks\":\"inside\",\"tickwidth\":3,\"title\":{\"font\":{\"color\":\"black\"},\"text\":\"cumulative percentage\"},\"zeroline\":true}},                        {\"responsive\": true}                    ).then(function(){\n",
       "                            \n",
       "var gd = document.getElementById('67aa124a-de6d-4887-b225-58cad62af69d');\n",
       "var x = new MutationObserver(function (mutations, observer) {{\n",
       "        var display = window.getComputedStyle(gd).display;\n",
       "        if (!display || display === 'none') {{\n",
       "            console.log([gd, 'removed!']);\n",
       "            Plotly.purge(gd);\n",
       "            observer.disconnect();\n",
       "        }}\n",
       "}});\n",
       "\n",
       "// Listen for the removal of the full notebook cells\n",
       "var notebookContainer = gd.closest('#notebook-container');\n",
       "if (notebookContainer) {{\n",
       "    x.observe(notebookContainer, {childList: true});\n",
       "}}\n",
       "\n",
       "// Listen for the clearing of the current output cell\n",
       "var outputEl = gd.closest('.output');\n",
       "if (outputEl) {{\n",
       "    x.observe(outputEl, {childList: true});\n",
       "}}\n",
       "\n",
       "                        })                };                });            </script>        </div>"
      ]
     },
     "metadata": {},
     "output_type": "display_data"
    }
   ],
   "source": [
    "y = []\n",
    "for ii in range(48):\n",
    "    y += [len(df_sel[df_sel[\"ranks\"] == ii])*100./len(df_sel)]\n",
    "data = [go.Bar(x=list(range(48)),\n",
    "               y=y, name='all', marker_color='rgba(0, 0, 0, 0.5)', showlegend=False),]\n",
    "xs=list(range(48))\n",
    "ys=[np.sum(y[:ii])*100./np.sum(y) for ii in xs]\n",
    "for ii in range(47):\n",
    "    data += [go.Scatter(x=[xs[ii], xs[ii]], y=[ys[ii], ys[ii+1]], mode='lines', yaxis=\"y2\", line=dict(color='blue', width=2, dash='solid'), showlegend=False)]\n",
    "    data += [go.Scatter(x=[xs[ii], xs[ii+1]], y=[ys[ii+1], ys[ii+1]], mode='lines', yaxis=\"y2\", line=dict(color='blue', width=2, dash='solid'), showlegend=False)]\n",
    "layout = go.Layout()\n",
    "layout.update(glob_layout)\n",
    "layout.legend.update(x=1, y=1, bgcolor=\"rgba(0,0,0,0)\")\n",
    "layout[\"xaxis\"].update({'title': \"DFA rank\"})\n",
    "layout[\"yaxis\"].update({'title': \"percentage\", \"mirror\": False})\n",
    "layout.update({\"yaxis2\": dict(\n",
    "    title=\"cumulative percentage\",\n",
    "    titlefont=dict(color=\"black\"),\n",
    "    tickfont=dict(color=\"black\"),\n",
    "    anchor=\"free\",\n",
    "    overlaying=\"y\",\n",
    "    side=\"right\",\n",
    "    position=1,\n",
    "    range=[0, 100],\n",
    "    showgrid=True,  \n",
    "    zeroline=True, \n",
    "    ticks=\"inside\", \n",
    "    showline=True,\n",
    "    tickwidth=3, \n",
    "    linewidth=3, \n",
    "    ticklen=10,\n",
    "#     mirror=True,\n",
    ")},)\n",
    "layout.update(width=600, height=500, boxmode='group')\n",
    "fig = dict(data=data, layout=layout)\n",
    "iplot(fig)"
   ]
  }
 ],
 "metadata": {
  "interpreter": {
   "hash": "5fa7bb0cfb890cb2a4de35aa357566cef819d26e492eb32f921a3a3c7e0592ac"
  },
  "kernelspec": {
   "display_name": "Python 3.7.13 ('dfa_rec')",
   "language": "python",
   "name": "python3"
  },
  "language_info": {
   "codemirror_mode": {
    "name": "ipython",
    "version": 3
   },
   "file_extension": ".py",
   "mimetype": "text/x-python",
   "name": "python",
   "nbconvert_exporter": "python",
   "pygments_lexer": "ipython3",
   "version": "3.7.13"
  },
  "orig_nbformat": 4
 },
 "nbformat": 4,
 "nbformat_minor": 2
}
